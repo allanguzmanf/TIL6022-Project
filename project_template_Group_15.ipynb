{
 "cells": [
  {
   "cell_type": "markdown",
   "metadata": {},
   "source": [
    "# Project Group - 15\n",
    "\n",
    "Members: \n",
    "Sören Burghardt, \n",
    "Sarah Blanc, \n",
    "Allan Guzmann, \n",
    "Lars van den Berg, \n",
    "Simon Schreders\n",
    "\n",
    "Student numbers: \n",
    "5861012, \n",
    "5854830, \n",
    "5718619,\n",
    "5626668,\n",
    "5878845"
   ]
  },
  {
   "cell_type": "markdown",
   "metadata": {},
   "source": [
    "# Research Objective\n",
    "\n",
    "What are the effects on aviation that COVID-19  caused at the Amsterdam Schiphol Airport and its most frequented destinations for freight and passenger transport?   "
   ]
  },
  {
   "cell_type": "markdown",
   "metadata": {},
   "source": []
  },
  {
   "cell_type": "markdown",
   "metadata": {},
   "source": [
    "# Contribution Statement\n",
    "\n",
    "*Be specific. Some of the tasks can be coding (expect everyone to do this), background research, conceptualisation, visualisation, data analysis, data modelling*"
   ]
  },
  {
   "cell_type": "markdown",
   "metadata": {},
   "source": [
    "**Author 1**:\n",
    "\n",
    "**Author 2**:\n",
    "\n",
    "**Author 3**:"
   ]
  },
  {
   "cell_type": "markdown",
   "metadata": {},
   "source": [
    "# Data Used"
   ]
  },
  {
   "cell_type": "markdown",
   "metadata": {},
   "source": [
    "COVID 19 Data from the Netherlands and most frequented destinations (RIVM, our world open data) \n",
    "\n",
    "Flight data passengers (Eu Stat)\n",
    "\n",
    "Flight data freight (EU Stat)\n",
    "\n",
    "OD Data for Airport Amsterdam (EU Stat)\n"
   ]
  },
  {
   "cell_type": "markdown",
   "metadata": {},
   "source": [
    "# Data Pipeline"
   ]
  },
  {
   "cell_type": "markdown",
   "metadata": {},
   "source": []
  }
 ],
 "metadata": {
  "kernelspec": {
   "display_name": "Python 3",
   "language": "python",
   "name": "python3"
  },
  "language_info": {
   "name": "python",
   "version": "3.8.2"
  },
  "orig_nbformat": 4,
  "vscode": {
   "interpreter": {
    "hash": "31f2aee4e71d21fbe5cf8b01ff0e069b9275f58929596ceb00d14d90e3e16cd6"
   }
  }
 },
 "nbformat": 4,
 "nbformat_minor": 2
}
