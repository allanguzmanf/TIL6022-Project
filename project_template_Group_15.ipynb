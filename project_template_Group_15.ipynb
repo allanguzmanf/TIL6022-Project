{
 "cells": [
  {
   "cell_type": "markdown",
   "metadata": {},
   "source": [
    "# Project Group - 15\n",
    "\n",
    "Members: \n",
    "Sören Burghardt, \n",
    "Sarah Blanc, \n",
    "Allan Guzmann, \n",
    "Lars van den Berg, \n",
    "Simon Schreders\n",
    "\n",
    "Student numbers: \n",
    "5861012, \n",
    "5854830, \n",
    "5718619,\n",
    "5626668,\n",
    "5878845"
   ]
  },
  {
   "cell_type": "markdown",
   "metadata": {},
   "source": [
    "# Research Objective\n",
    "\n",
    "What are the effects on aviation that COVID-19  caused at the Amsterdam Schiphol Airport (EHAM) and its most frequented destinations for freight and passenger transport?\n",
    "\n",
    "When COVID-19 became a global pandemic in 2020, the containments plunged the global economy into an unprecedented recession. The magnitude of the economic shock was such that it resulted in unrecognisable data and a \"data fog\" that made it difficult to interpret and, more importantly, to predict. The last two years have been extraordinary, both for global economy and the humanity. While the COVID-19 pandemic now appears to be under control thanks to vaccination programmes, parts of the global economy are not yet fully recovered. As a result of the protective travel restrictions, the aviation sector has been hit harder than many others industries. In this project, our aim was to observe the impacts that covid has had on aviation and in particular, the impacts on Amsterdam Schiphol Airport and its most frequented destinations. This from the perspective of passenger and freight transport.\n",
    "\n",
    "This research question is answered by answering similiar sub-research questions:\n",
    "1. What is the top 5 of frequent destinations for passenger transport from Amsterdam Schiphol Airport (2019)?\n",
    "2. What is the top 5 of frequent destinations for freight transport from Amsterdam Schiphol Airport (2019)?\n",
    "3. What are the volumes of these top 5's in the last 20 years?\n",
    "4. What is the effect caused by COVID on Amsterdam Schiphol Airport compared to other Dutch airports?\n",
    "5. What is the effect caused by COVID on other specific airports?\n",
    "6. Are there other effects caused by COVID (China comparison)?"
   ]
  },
  {
   "cell_type": "markdown",
   "metadata": {},
   "source": [
    "# Contribution Statement\n",
    "\n",
    "*Be specific. Some of the tasks can be coding (expect everyone to do this), background research, conceptualisation, visualisation, data analysis, data modelling*"
   ]
  },
  {
   "cell_type": "markdown",
   "metadata": {},
   "source": [
    "Sören: Background research, coding, \n",
    "\n",
    "Sarah: Background research, coding,  \n",
    "\n",
    "Allan: Background research, coding, \n",
    "\n",
    "Lars: Background research, coding, \n",
    "\n",
    "Simon: Background research, coding"
   ]
  },
  {
   "cell_type": "markdown",
   "metadata": {},
   "source": [
    "# Data Used"
   ]
  },
  {
   "cell_type": "markdown",
   "metadata": {},
   "source": [
    "COVID-19 cases in the world (Our World in Data)\n",
    "\n",
    "Flight data passengers (Eu Stat)\n",
    "\n",
    "Flight data freight (EU Stat)\n",
    "\n",
    "OD Data for Airport Amsterdam (EU Stat)\n"
   ]
  },
  {
   "cell_type": "markdown",
   "metadata": {},
   "source": [
    "# Data Pipeline"
   ]
  },
  {
   "cell_type": "markdown",
   "metadata": {},
   "source": [
    "All the data for flights from Amsterdam Airport Schiphol (EHAM) were grouped by country. This way two top 5 were created for both the volume of cargo and mail and the passangers. The countries from these two top 5's and the Netherlands were used to filter the COVID-19 cases, using the amount of confirmed new cases per million in a country. "
   ]
  },
  {
   "cell_type": "markdown",
   "metadata": {},
   "source": [
    "As a first step, we are going to import all the librairies that we will need."
   ]
  },
  {
   "cell_type": "code",
   "execution_count": 1,
   "metadata": {},
   "outputs": [
    {
     "ename": "ModuleNotFoundError",
     "evalue": "No module named 'country_converter'",
     "output_type": "error",
     "traceback": [
      "\u001b[0;31m---------------------------------------------------------------------------\u001b[0m",
      "\u001b[0;31mModuleNotFoundError\u001b[0m                       Traceback (most recent call last)",
      "\u001b[1;32m/Users/Sarah/Desktop/TILProgramming/TIL6022-Project-1/project_template_Group_15.ipynb Cell 10\u001b[0m in \u001b[0;36m<cell line: 17>\u001b[0;34m()\u001b[0m\n\u001b[1;32m     <a href='vscode-notebook-cell:/Users/Sarah/Desktop/TILProgramming/TIL6022-Project-1/project_template_Group_15.ipynb#X12sZmlsZQ%3D%3D?line=14'>15</a>\u001b[0m \u001b[39mimport\u001b[39;00m \u001b[39mplotly\u001b[39;00m\u001b[39m.\u001b[39;00m\u001b[39mio\u001b[39;00m \u001b[39mas\u001b[39;00m \u001b[39mpio\u001b[39;00m\n\u001b[1;32m     <a href='vscode-notebook-cell:/Users/Sarah/Desktop/TILProgramming/TIL6022-Project-1/project_template_Group_15.ipynb#X12sZmlsZQ%3D%3D?line=15'>16</a>\u001b[0m \u001b[39mimport\u001b[39;00m \u001b[39mplotly\u001b[39;00m\u001b[39m.\u001b[39;00m\u001b[39mgraph_objects\u001b[39;00m \u001b[39mas\u001b[39;00m \u001b[39mgo\u001b[39;00m   \n\u001b[0;32m---> <a href='vscode-notebook-cell:/Users/Sarah/Desktop/TILProgramming/TIL6022-Project-1/project_template_Group_15.ipynb#X12sZmlsZQ%3D%3D?line=16'>17</a>\u001b[0m \u001b[39mimport\u001b[39;00m \u001b[39mcountry_converter\u001b[39;00m \u001b[39mas\u001b[39;00m \u001b[39mcoco\u001b[39;00m\n\u001b[1;32m     <a href='vscode-notebook-cell:/Users/Sarah/Desktop/TILProgramming/TIL6022-Project-1/project_template_Group_15.ipynb#X12sZmlsZQ%3D%3D?line=18'>19</a>\u001b[0m \u001b[39mimport\u001b[39;00m \u001b[39mplotly\u001b[39;00m\u001b[39m.\u001b[39;00m\u001b[39mio\u001b[39;00m \u001b[39mas\u001b[39;00m \u001b[39mpio\u001b[39;00m\n\u001b[1;32m     <a href='vscode-notebook-cell:/Users/Sarah/Desktop/TILProgramming/TIL6022-Project-1/project_template_Group_15.ipynb#X12sZmlsZQ%3D%3D?line=19'>20</a>\u001b[0m pio\u001b[39m.\u001b[39mrenderers\u001b[39m.\u001b[39mdefault \u001b[39m=\u001b[39m \u001b[39m\"\u001b[39m\u001b[39mplotly_mimetype+notebook\u001b[39m\u001b[39m\"\u001b[39m\n",
      "\u001b[0;31mModuleNotFoundError\u001b[0m: No module named 'country_converter'"
     ]
    }
   ],
   "source": [
    "import pandas as pd\n",
    "import numpy as np\n",
    "import plotly as plt\n",
    "\n",
    "import math\n",
    "import scipy\n",
    "\n",
    "import matplotlib.pyplot as plt\n",
    "import seaborn as sns\n",
    "import plotly.express as px\n",
    "import plotly.graph_objects as go\n",
    "\n",
    "import geopandas as gpd\n",
    "\n",
    "import plotly.io as pio\n",
    "import plotly.graph_objects as go   \n",
    "import country_converter as coco\n",
    "\n",
    "import plotly.io as pio\n",
    "pio.renderers.default = \"plotly_mimetype+notebook\""
   ]
  },
  {
   "cell_type": "markdown",
   "metadata": {},
   "source": [
    "# Part I - Data import\n",
    "\n",
    "First, we are going to import the dataframes. We are going to modifiy them in order to prepare them for our project and to combine them together. \n",
    "\n",
    "We are starting with the flight-data, we have modified them according to our needs. "
   ]
  },
  {
   "cell_type": "code",
   "execution_count": null,
   "metadata": {},
   "outputs": [],
   "source": [
    "# Import datasets\n",
    "freight = pd.read_csv(\"Data_Sets/avia_gor_nl__custom_3564729_monthly_linear.csv\")\n",
    "passengers = pd.read_csv(\"Data_Sets/avia_par_nl__custom_3564728_monthly_linear.csv\")\n",
    "\n",
    "# Setting up special cleaning list\n",
    "country_code_fix = {'EL':'GR','AN':'BQ'}\n",
    "\n",
    "def top_n_year(df,n,year):\n",
    "    # This function has a dataframe, a number of entries and a year as inputs and \n",
    "    # as output the dataframe filtered for the top n countries on a specific year\n",
    "    df[[\"airp_country_1\",\"airp_code_1\",\"airp_country_2\",\"airp_code_2\"]] = df.airp_pr.str.split(\"_\",expand=True)\n",
    "    df[[\"Year\",\"Month\"]] = df.TIME_PERIOD.str.split(\"-\",expand=True)\n",
    "    topn = df.groupby(['Year',\"airp_country_2\"]).sum()\n",
    "    topn = topn.loc[year,:].sort_values(\"OBS_VALUE\", ascending= False).head(n).reset_index()\n",
    "    cleaned = df[df[\"airp_country_2\"].isin(topn[\"airp_country_2\"])]\n",
    "    return cleaned\n",
    "\n",
    "def codes_correction(df,ISO_2):\n",
    "    # This function has a data frame and a ISO2 countries list and outputs the same \n",
    "    # dataframe adding a ISO3 code and the country name for each unique\n",
    "    df[ISO_2] = df[ISO_2].replace(to_replace= country_code_fix)\n",
    "    df['iso_3_country'] = coco.convert(names = df[ISO_2], to= 'ISO3')\n",
    "    df['country_2_name'] = coco.convert(names = df[ISO_2], to= 'name_short')\n",
    "    return df\n",
    "\n",
    "# Call defined functions for the 2 datasets\n",
    "top_passengers = top_n_year(passengers,5,'2019')\n",
    "top_cargo = top_n_year(freight,5,'2019')"
   ]
  },
  {
   "cell_type": "markdown",
   "metadata": {},
   "source": [
    "Explain code below"
   ]
  },
  {
   "cell_type": "code",
   "execution_count": null,
   "metadata": {},
   "outputs": [],
   "source": [
    "# importing the world geometry data from geopandas library\n",
    "world = gpd.read_file(gpd.datasets.get_path('naturalearth_lowres'))\n",
    "world.head()"
   ]
  },
  {
   "cell_type": "code",
   "execution_count": null,
   "metadata": {},
   "outputs": [],
   "source": [
    "#COVID PART \n",
    "filepath = 'Data_Sets/owid-covid-data.csv'\n",
    "covid_data = pd.read_csv(filepath, delimiter=',')\n",
    "\n",
    "# Select the columns of interest from the original dataset and filter it, also expand the date to accomodate year and month\n",
    "columns_of_interest = ['new_cases_smoothed_per_million','people_fully_vaccinated_per_hundred','date','location']\n",
    "filtered_covid_data = covid_data[columns_of_interest]\n",
    "filtered_covid_data[['Year','Month','Day']] = filtered_covid_data.date.str.split(\"-\",expand=True)\n",
    "\n",
    "# Selecting the countries of interest for cargo and passenger transport\n",
    "cargo_countries_of_interest =['China','United States','United Arab Emirates','Brazil','Qatar','Netherlands']\n",
    "passenger_countries_of_interest = ['United Kingdom','Spain','Germany','Italy','United States','Netherlands']\n",
    "\n",
    "# Group by year, month and location to calculate the mean for cargo transport\n",
    "cargo_filtered_covid_data = filtered_covid_data[filtered_covid_data['location'].isin(cargo_countries_of_interest)]\n",
    "cargo_filtered_covid_data = cargo_filtered_covid_data.groupby(['location','Year','Month']).mean()\n",
    "\n",
    "# Resetting the index and creating new collum with Year and Month \n",
    "cargo_filtered_covid_data = cargo_filtered_covid_data.reset_index()\n",
    "cargo_filtered_covid_data['date'] = cargo_filtered_covid_data['Year'] + ['-'] + cargo_filtered_covid_data['Month'] \n",
    "\n",
    "# Group by year, month and location to calculate the mean for cargo transport\n",
    "passenger_filtered_covid_data = filtered_covid_data[filtered_covid_data['location'].isin(passenger_countries_of_interest)]\n",
    "passenger_filtered_covid_data = passenger_filtered_covid_data.groupby(['location','Year','Month']).mean()\n",
    "\n",
    "#Resetting the index and creating new collum with Year and Month \n",
    "passenger_filtered_covid_data = passenger_filtered_covid_data.reset_index()\n",
    "passenger_filtered_covid_data['date'] = passenger_filtered_covid_data['Year'] + ['-'] + passenger_filtered_covid_data['Month']"
   ]
  },
  {
   "cell_type": "markdown",
   "metadata": {},
   "source": [
    "# Part II - Data Processing"
   ]
  },
  {
   "cell_type": "markdown",
   "metadata": {},
   "source": [
    "In the code below we combined the information for passengers flying from Amsterdam Schiphol Airport. > Some more analysis"
   ]
  },
  {
   "cell_type": "code",
   "execution_count": null,
   "metadata": {},
   "outputs": [],
   "source": [
    "passengers_for_map = passengers.groupby(['Year','airp_country_2']).sum()\n",
    "passengers_for_map = passengers_for_map.loc['2019',:].reset_index()\n",
    "passengers_for_map = codes_correction(passengers_for_map,'airp_country_2')\n",
    "\n",
    "freight_for_map = freight.groupby(['Year','airp_country_2']).sum()\n",
    "freight_for_map = freight_for_map.loc['2019',:].reset_index()\n",
    "freight_for_map = codes_correction(freight_for_map,'airp_country_2')\n"
   ]
  },
  {
   "cell_type": "code",
   "execution_count": null,
   "metadata": {},
   "outputs": [],
   "source": [
    "passenger_labels = {\n",
    "    'OBS_VALUE':'Total passengers (passengers)',\n",
    "    'country_2_name': 'Country',\n",
    "    'iso_3_country': 'Country code'\n",
    "}\n",
    "cargo_labels = {\n",
    "    'country_2_name':'Country',\n",
    "    'OBS_VALUE': 'Total cargo [tons]',\n",
    "    'iso_3_country': 'Country code'\n",
    "}"
   ]
  },
  {
   "cell_type": "code",
   "execution_count": null,
   "metadata": {},
   "outputs": [],
   "source": [
    "map_data_passengers = world.merge(passengers_for_map,left_on = 'iso_a3', right_on = 'iso_3_country', how = 'left')\n",
    "\n",
    "fig = px.choropleth(map_data_passengers, hover_name = 'country_2_name',locations= 'iso_3_country', \\\n",
    "    locationmode= 'ISO-3', color='OBS_VALUE',labels = passenger_labels)\n",
    "\n",
    "fig.update_layout(\n",
    "    title_text = 'Total passengers flying from Schiphol Airport in 2019',\n",
    "    coloraxis_colorbar_title_text = 'Total passengers',\n",
    "    geo= dict(\n",
    "        showframe = False,\n",
    "        showcoastlines = False,\n",
    "        projection_type = 'equirectangular'\n",
    "    )\n",
    ")\n",
    "fig.show()"
   ]
  },
  {
   "cell_type": "code",
   "execution_count": null,
   "metadata": {},
   "outputs": [],
   "source": [
    "passenger_labels = {\n",
    "    'OBS_VALUE':'Total passengers (passengers)',\n",
    "    'country_2_name': 'Country'\n",
    "}\n",
    "\n",
    "fig = px.bar(map_data_passengers.sort_values('OBS_VALUE',ascending= False).head(20),\\\n",
    "    x= 'country_2_name', y = 'OBS_VALUE',labels=passenger_labels)\n",
    "\n",
    "fig.update_layout(\n",
    "    title_text = 'Total passengers transported by air from Schiphol Airport in 2019',\n",
    "    \n",
    ")\n",
    "fig.show()"
   ]
  },
  {
   "cell_type": "markdown",
   "metadata": {},
   "source": [
    "After this information we made a top 5 of countries for passengers. Here you can see the historical data of the top 5. COVID is clearly visible."
   ]
  },
  {
   "cell_type": "code",
   "execution_count": null,
   "metadata": {},
   "outputs": [],
   "source": [
    "total_passengers = top_passengers.groupby(['airp_country_2','Year']).sum()\n",
    "total_passengers = total_passengers.reset_index()\n",
    "total_passengers = codes_correction(total_passengers,'airp_country_2')\n",
    "fig = px.line(total_passengers, x='Year', y= 'OBS_VALUE' ,color='airp_country_2',labels= passenger_labels)\n",
    "fig.show()"
   ]
  },
  {
   "cell_type": "markdown",
   "metadata": {},
   "source": [
    "Repeat the same for cargo transported on planes."
   ]
  },
  {
   "cell_type": "code",
   "execution_count": null,
   "metadata": {},
   "outputs": [],
   "source": [
    "map_data_cargo = world.merge(freight_for_map,left_on = 'iso_a3', right_on = 'iso_3_country', how = 'left')\n",
    "\n",
    "fig = px.choropleth(freight_for_map, hover_name = 'country_2_name',locations= 'iso_3_country', \\\n",
    "    locationmode= 'ISO-3', color='OBS_VALUE',labels = cargo_labels)\n",
    "\n",
    "fig.update_layout(\n",
    "    title_text = 'Total tons transported by air from Schiphol Airport in 2019',\n",
    "    geo= dict(\n",
    "        showframe = False,\n",
    "        showcoastlines = False,\n",
    "        projection_type = 'equirectangular'\n",
    "    )\n",
    ")\n",
    "fig.show()"
   ]
  },
  {
   "cell_type": "code",
   "execution_count": null,
   "metadata": {},
   "outputs": [],
   "source": [
    "fig = px.bar(map_data_cargo.sort_values('OBS_VALUE',ascending= False).head(20),\\\n",
    "    x= 'country_2_name', y = 'OBS_VALUE',labels= cargo_labels)\n",
    "fig.update_layout(\n",
    "    title_text = 'Total tons transported by air from Schiphol Airport in 2019',\n",
    "    geo= dict(\n",
    "        showframe = False,\n",
    "        showcoastlines = False,\n",
    "        projection_type = 'equirectangular'\n",
    "    )\n",
    ")\n",
    "fig.show()"
   ]
  },
  {
   "cell_type": "code",
   "execution_count": null,
   "metadata": {},
   "outputs": [],
   "source": [
    "total_cargo = top_cargo.groupby(['airp_country_2','Year']).sum()\n",
    "total_cargo = total_cargo.reset_index()\n",
    "total_cargo = codes_correction(total_cargo,'airp_country_2')\n",
    "fig = px.line(total_cargo, x='Year', y= 'OBS_VALUE' ,color='airp_country_2',labels=cargo_labels)\n",
    "fig.show()"
   ]
  },
  {
   "cell_type": "markdown",
   "metadata": {},
   "source": [
    "Then we start the COVID-19 data of all we decided to keep only the columns we needed to avoid having unused information in this data frame. We filtered this new data frame and expanded the date to the accomodate year and month. The COVID-19 data is only imported for the countries of interest (the two top 5's and the Netherlands)."
   ]
  },
  {
   "cell_type": "markdown",
   "metadata": {},
   "source": [
    "In parallel, let's look at the evolution of covid cases since the beginning of the pandemic and the vaccination rate in the Netherlands."
   ]
  },
  {
   "cell_type": "code",
   "execution_count": null,
   "metadata": {},
   "outputs": [],
   "source": [
    "fig = px.line(passenger_filtered_covid_data, x='date', y= 'new_cases_smoothed_per_million' ,color='location',\n",
    "                title= 'New covid cases in the top 5 countries for passenger transport', labels={\n",
    "                     'new_cases_smoothed_per_million': 'covid cases per million',\n",
    "                     'date' : 'Date'})\n",
    "\n",
    "fig.show()"
   ]
  },
  {
   "cell_type": "code",
   "execution_count": null,
   "metadata": {},
   "outputs": [],
   "source": [
    "fig = px.line(cargo_filtered_covid_data, x='date', y= 'new_cases_smoothed_per_million' ,color='location',\n",
    "              title= 'New covid cases in the top 5 countries for cargo transport', range_y=[0,2000] )\n",
    "\n",
    "fig.show()"
   ]
  },
  {
   "cell_type": "code",
   "execution_count": null,
   "metadata": {},
   "outputs": [],
   "source": [
    "fig = px.line(passenger_filtered_covid_data, x='date', y= 'people_fully_vaccinated_per_hundred' ,color='location',\n",
    "               title= 'Vaccination rate in percent in the top 5 countries for passenger transport' )\n",
    "\n",
    "fig.show()"
   ]
  },
  {
   "cell_type": "code",
   "execution_count": null,
   "metadata": {},
   "outputs": [],
   "source": [
    "fig = px.line(cargo_filtered_covid_data, x='date', y= 'people_fully_vaccinated_per_hundred' ,color='location',\n",
    "                title= 'Vaccination rate in percent in the top 5 countries for cargo transport')\n",
    "\n",
    "fig.show()"
   ]
  },
  {
   "cell_type": "markdown",
   "metadata": {},
   "source": []
  },
  {
   "cell_type": "markdown",
   "metadata": {},
   "source": [
    "# Part 3 - Data Visualisation"
   ]
  },
  {
   "cell_type": "markdown",
   "metadata": {},
   "source": [
    "While discussing the first research question we noticed that, even though is has been proven that COVID-19 arised in China, the amount of COVID cases are very low. We decided to investige this futher. For the first part of the visualisation, we decided to compare the impact on the transport sector of the start of Covid in the Netherlands and in China. In this way, it will be possible to compare the two situations in order to understand whether the Chinese have really been able to escape Covid and its impacts or not. Indeed, as their number of cases is officially so low, it would be possible to think that their economy has not been impacted. But is this really the case? What were the influences of the covid on the country compared to the Netherlands? We decided to proceed as follows:\n",
    "- First, we will compare the purely covid-related data between the two countries.\n",
    "- Then, we will analyse the behaviour of the transport economy in China in order to compare it to that of the Netherlands.\n",
    "\n",
    "Quantities cannot be compared as such. After all, China is one of the world's largest powers, which is in no way comparable with the Netherlands. However, it is possible to compare the trend of the different curves when the first wave of Covid appeared (increasing, decreasing, stagnating)."
   ]
  },
  {
   "cell_type": "markdown",
   "metadata": {},
   "source": [
    "Import and preparation of the covid data"
   ]
  },
  {
   "cell_type": "code",
   "execution_count": null,
   "metadata": {},
   "outputs": [],
   "source": [
    "filepath = 'Data_Sets/owid-covid-data.csv'\n",
    "covid_data = pd.read_csv(filepath, delimiter=',')\n",
    "\n",
    "# Select the columns of interest from the original dataset and filter it, also expand the date to accomodate year and month\n",
    "columns_of_interest = ['new_cases_smoothed_per_million','people_fully_vaccinated_per_hundred','date','location']\n",
    "filtered_covid_data = covid_data[columns_of_interest]\n",
    "filtered_covid_data[['Year','Month','Day']] = filtered_covid_data.date.str.split(\"-\",expand=True)\n",
    "filtered_covid_data.head()\n",
    "#Select the countrys of interest \n",
    "Covid_China = filtered_covid_data[filtered_covid_data['location'].isin(['Netherlands','China'])]\n",
    "Covid_China.head(-5)\n",
    "\n"
   ]
  },
  {
   "cell_type": "markdown",
   "metadata": {},
   "source": [
    "Import and preparation of the transportation data (for China and the Netherlands)"
   ]
  },
  {
   "cell_type": "markdown",
   "metadata": {},
   "source": [
    "1. Air passengers carried include both domestic and international aircraft passengers of air carriers registered in the country."
   ]
  },
  {
   "cell_type": "code",
   "execution_count": null,
   "metadata": {},
   "outputs": [],
   "source": [
    "# Import of the data\n",
    "filepath1 = 'Data_Sets/Passengers.csv'\n",
    "Passengers = pd.read_csv(filepath1, delimiter=',')\n",
    "# Unuseful columns are removed\n",
    "Passengers_drop = Passengers.drop(['Country Code', 'Indicator Name', 'Indicator Code'],  axis=1)\n",
    "Passengers_drop.set_index('Country', inplace=True) \n",
    "Passengers_wanted = Passengers_drop.T\n",
    "# Selection of the wanted data\n",
    "China_passengers_final = Passengers_wanted.China.reset_index()\n",
    "China_passengers_final.columns = ['Year', 'Number of passengers carried, China']\n",
    "NL_passengers_final = Passengers_wanted.Netherlands.reset_index()\n",
    "NL_passengers_final.columns = ['Year', 'Number of passengers carried, NL']\n"
   ]
  },
  {
   "cell_type": "markdown",
   "metadata": {},
   "source": [
    "2. Air freight is the volume of freight, express, and diplomatic bags carried on each flight stage (operation of an aircraft from takeoff to its next landing), measured in metric tons times kilometers traveled."
   ]
  },
  {
   "cell_type": "code",
   "execution_count": null,
   "metadata": {},
   "outputs": [],
   "source": [
    "# Import of the data\n",
    "filepath2 = 'Data_Sets/Freight.csv'\n",
    "Freight = pd.read_csv(filepath2, delimiter=',')\n",
    "# Unuseful columns are removed\n",
    "Freight_drop = Freight.drop(['Country Code', 'Indicator Name', 'Indicator Code'],  axis=1)\n",
    "Freight_drop.set_index('Country Name', inplace=True) \n",
    "Freight_wanted = Freight_drop.T\n",
    "# Selection of the wanted data\n",
    "NL_freight_final = Freight_wanted.Netherlands.reset_index()\n",
    "NL_freight_final.columns = ['Year', 'Volume of freight carried, NL']\n",
    "China_freight_final = Freight_wanted.China.reset_index()\n",
    "China_freight_final.columns = ['Year', 'Volume of freight carried, China']"
   ]
  },
  {
   "cell_type": "markdown",
   "metadata": {},
   "source": [
    "3. Port container traffic measures the flow of containers from land to sea transport modes, and vice versa, in twenty-foot equivalent units (TEUs), a standard-size container. Data refer to coastal shipping as well as international journeys. Transshipment traffic is counted as two lifts at the intermediate port (once to off-load and again as an outbound lift) and includes empty units."
   ]
  },
  {
   "cell_type": "code",
   "execution_count": null,
   "metadata": {},
   "outputs": [],
   "source": [
    "# Import of the data\n",
    "filepath3 = 'Data_Sets/Container.csv'\n",
    "Container = pd.read_csv(filepath3, delimiter=',')\n",
    "# Unuseful columns are removed\n",
    "Container_drop = Container.drop(['Country Code', 'Indicator Name', 'Indicator Code'],  axis=1)\n",
    "Container_drop.set_index('Country Name', inplace=True) \n",
    "Container_wanted = Container_drop.T\n",
    "# Selection of the wanted data\n",
    "China_container_final = Container_wanted.China.reset_index()\n",
    "China_container_final.columns = ['Year', 'Flow of containers carried, China']\n",
    "NL_container_final = Container_wanted.Netherlands.reset_index()\n",
    "NL_container_final.columns = ['Year', 'Flow of containers carried, NL']"
   ]
  },
  {
   "cell_type": "markdown",
   "metadata": {},
   "source": [
    "4. Carbon dioxide emissions are those stemming from the burning of fossil fuels and the manufacture of cement. They include carbon dioxide produced during consumption of solid, liquid, and gas fuels and gas flaring."
   ]
  },
  {
   "cell_type": "code",
   "execution_count": null,
   "metadata": {},
   "outputs": [],
   "source": [
    "# Import of the data\n",
    "filepath4 = 'Data_Sets/CO2_emissions.csv'\n",
    "CO2 = pd.read_csv(filepath4, delimiter=',')\n",
    "# Unuseful columns are removed\n",
    "CO2_drop = CO2.drop(['Country Code', 'Indicator Name', 'Indicator Code'],  axis=1)\n",
    "CO2_drop.set_index('Country Name', inplace=True) \n",
    "CO2_wanted = CO2_drop.T\n",
    "# Selection of the wanted data\n",
    "NL_CO2_final = CO2_wanted.Netherlands.reset_index()\n",
    "NL_CO2_final.columns = ['Year', 'Carbon dioxide emissions, NL']\n",
    "China_CO2_final = CO2_wanted.China.reset_index()\n",
    "China_CO2_final.columns = ['Year', 'Carbon dioxide emissions, China']\n"
   ]
  },
  {
   "cell_type": "markdown",
   "metadata": {},
   "source": [
    "5. Life expectancy at birth indicates the number of years a newborn infant would live if prevailing patterns of mortality at the time of its birth were to stay the same throughout its life."
   ]
  },
  {
   "cell_type": "code",
   "execution_count": null,
   "metadata": {},
   "outputs": [],
   "source": [
    "# Import of the data\n",
    "filepath5 = 'Data_Sets/Lifeexp.csv'\n",
    "Lifeexp = pd.read_csv(filepath5, delimiter=',')\n",
    "# Unuseful columns are removed\n",
    "Lifeexp_drop = Lifeexp.drop(['Country Code', 'Indicator Name', 'Indicator Code'],  axis=1)\n",
    "Lifeexp_drop.set_index('Country Name', inplace=True) \n",
    "Lifeexp_wanted = Lifeexp_drop.T\n",
    "# Selection of the wanted data\n",
    "NL_Lifeexp_final = Lifeexp_wanted.Netherlands.reset_index()\n",
    "NL_Lifeexp_final.columns = ['Year', 'Life expectancy, NL']\n",
    "China_Lifeexp_final = Lifeexp_wanted.China.reset_index()\n",
    "China_Lifeexp_final.columns = ['Year', 'Life expectancy, China']"
   ]
  },
  {
   "cell_type": "markdown",
   "metadata": {},
   "source": [
    "6. Annual percentage growth rate of GDP at market prices based on constant local currency. Aggregates are based on constant 2015 prices, expressed in U.S. dollars. GDP is the sum of gross value added by all resident producers in the economy plus any product taxes and minus any subsidies not included in the value of the products. It is calculated without making deductions for depreciation of fabricated assets or for depletion and degradation of natural resources."
   ]
  },
  {
   "cell_type": "code",
   "execution_count": null,
   "metadata": {},
   "outputs": [],
   "source": [
    "# Import of the data\n",
    "filepath6 = 'Data_Sets/GDP.csv'\n",
    "GPD = pd.read_csv(filepath6, delimiter=',')\n",
    "# Unuseful columns are removed\n",
    "GPD_drop = GPD.drop(['Country Code', 'Indicator Name', 'Indicator Code'],  axis=1)\n",
    "GPD_drop.set_index('Country Name', inplace=True) \n",
    "GPD_wanted = GPD_drop.T\n",
    "# Selection of the wanted data\n",
    "NL_GPD_final = GPD_wanted.Netherlands.reset_index()\n",
    "NL_GPD_final.columns = ['Year', 'GDP growth, NL']\n",
    "China_GPD_final = GPD_wanted.China.reset_index()\n",
    "China_GPD_final.columns = ['Year', 'GDP growth, China']"
   ]
  },
  {
   "cell_type": "markdown",
   "metadata": {},
   "source": [
    "Join of all data frames on the column 'date' to two dataframes"
   ]
  },
  {
   "cell_type": "code",
   "execution_count": null,
   "metadata": {},
   "outputs": [],
   "source": [
    "df1 = pd.merge(NL_passengers_final, China_passengers_final, how='outer', on='Year')\n",
    "df1 = pd.merge(df1, NL_freight_final, how='outer', on='Year')\n",
    "df1 = pd.merge(df1, China_freight_final, how='outer', on='Year')\n",
    "df1 = pd.merge(df1, NL_container_final, how='outer', on='Year')\n",
    "df1 = pd.merge(df1, China_container_final, how='outer', on='Year')\n",
    "df1 = pd.merge(df1, NL_CO2_final, how='outer', on='Year')\n",
    "df1 = pd.merge(df1, China_CO2_final, how='outer', on='Year')\n",
    "df2 = pd.merge(China_Lifeexp_final, NL_Lifeexp_final, how='outer', on='Year')\n",
    "df2 = pd.merge(df2, NL_GPD_final, how='outer', on='Year')\n",
    "df2 = pd.merge(df2, China_GPD_final, how='outer', on='Year')\n",
    "df1 = df1.iloc[ 0:61, : ]\n",
    "df2 = df2.iloc[ 0:61, : ]\n",
    "df1"
   ]
  },
  {
   "cell_type": "markdown",
   "metadata": {},
   "source": [
    "1. Let's first analyse and compare the covid data. "
   ]
  },
  {
   "cell_type": "code",
   "execution_count": null,
   "metadata": {},
   "outputs": [],
   "source": [
    "fig = px.line(Covid_China, x='date', y= 'new_cases_smoothed_per_million' ,color='location',\n",
    "title= 'New covid cases smoothed per million in the Netherlands and in China',\n",
    " labels={\n",
    "                   # Change label names\n",
    "                   'new_cases_smoothed_per_million': 'New covid cases smoothed per million',\n",
    "                   'date': 'Date'\n",
    "               }, ) \n",
    "\n",
    "# Add annotations of important moments\n",
    "fig.add_annotation(x='2020-11-03', y=490, ax='2020-10-29', ay=3000, text='Increase Lockdown',\n",
    "                    xref='x', yref='y', axref='x', ayref='y')\n",
    "\n",
    "fig.add_annotation(x='2020-12-14', y=513, ax='2021-01-01', ay=2000, text='Full Lockdown',\n",
    "                    xref='x', yref='y', axref='x', ayref='y')\n",
    "\n",
    "fig.add_annotation(x='2021-12-20', y=746, ax='2021-11-25', ay=2500, text='Full Lockdown',\n",
    "                    xref='x', yref='y', axref='x', ayref='y')\n",
    "\n",
    "fig.show()"
   ]
  },
  {
   "cell_type": "markdown",
   "metadata": {},
   "source": [
    "As the graph above shows, China has indeed recorded very few cases. The Netherlands, on the other hand, has a curve that is dictated by the different epidemic waves. China's curve even seems to be constantly zero. However, they did consider some cases as shown below:"
   ]
  },
  {
   "cell_type": "code",
   "execution_count": null,
   "metadata": {},
   "outputs": [],
   "source": [
    "fig = px.line(Covid_China, x='date', y= 'new_cases_smoothed_per_million' ,color='location',\n",
    "                range_x= ['2020-01-22', '2020-03-31'], range_y=[0,60], title= 'New covid cases smoothed per million in the Netherlands and in China between January and March 2020',\n",
    "                 labels={\n",
    "                   # Change label names\n",
    "                   'new_cases_smoothed_per_million': 'New covid cases smoothed per million',\n",
    "                   'date': 'Date'\n",
    "               }, ) \n",
    "\n",
    "fig.show()"
   ]
  },
  {
   "cell_type": "markdown",
   "metadata": {},
   "source": [
    "This period is the very beginning of the pandemic. The Netherlands had not even started to register casesHowever, the number of cases remains relatively low compared to the large population of China."
   ]
  },
  {
   "cell_type": "code",
   "execution_count": null,
   "metadata": {},
   "outputs": [],
   "source": [
    "fig = px.line(Covid_China, x='date', y= 'new_cases_smoothed_per_million' ,color='location',\n",
    "                range_x= ['2022-04-01', '2022-05-31'], range_y=[0,200], title = 'New covid cases smoothed per million in the Netherlands and in China between April and May 2022',\n",
    "                labels={\n",
    "                   # Change label names\n",
    "                   'new_cases_smoothed_per_million': 'New covid cases smoothed per million',\n",
    "                   'date': 'Date'\n",
    "               }, ) \n",
    "\n",
    "fig.show()"
   ]
  },
  {
   "cell_type": "markdown",
   "metadata": {},
   "source": [
    "As can be seen above, a tiny peak in covid can also be seen in April 2022.\n",
    "\n",
    "It is interesting to compare the vaccination rate of the population."
   ]
  },
  {
   "cell_type": "code",
   "execution_count": null,
   "metadata": {},
   "outputs": [],
   "source": [
    "fig = px.line(Covid_China, x='date', y= 'people_fully_vaccinated_per_hundred' ,color='location',\n",
    "               title= 'Vaccination rate in percent in the Netherlands and in China',\n",
    "                labels={\n",
    "                   # Change label names\n",
    "                   'people_fully_vaccinated_per_hundred': 'People fully vaccinated [%]',\n",
    "                   'date': 'Date'\n",
    "               }, ) \n",
    "\n",
    "fig.show()"
   ]
  },
  {
   "cell_type": "code",
   "execution_count": null,
   "metadata": {},
   "outputs": [],
   "source": [
    "fig = px.line(df1, x='Year', y= ['Number of passengers carried, NL', 'Number of passengers carried, China'], title = 'Number of passengers carried',\n",
    "                labels={\n",
    "                   # Change label names\n",
    "                   'value': 'Number of passengers carried'\n",
    "\n",
    "               }, ) \n",
    "\n",
    "#fig.add_annotation(x='2019', y=400000000, ax='2019', ay=300000000, text='First Covid cases',\n",
    "                    #xref='x', yref='y', axref='x', ayref='y')\n",
    "\n",
    "fig.show()"
   ]
  },
  {
   "cell_type": "code",
   "execution_count": null,
   "metadata": {},
   "outputs": [],
   "source": [
    "fig = px.line(df1, x='Year', y= ['Volume of freight carried, NL', 'Volume of freight carried, China'], title = 'Volume of freight carried (in metric tons times kilometers traveled)',\n",
    "                labels={\n",
    "                   # Change label names\n",
    "                   'value': 'Volume of freight carried'\n",
    "\n",
    "               }, ) \n",
    "\n",
    "fig.show()"
   ]
  },
  {
   "cell_type": "code",
   "execution_count": null,
   "metadata": {},
   "outputs": [],
   "source": [
    "fig = px.line(df1, x='Year', y= ['Flow of containers carried, NL', 'Flow of containers carried, China'], title = 'Flow of containers carried (in twenty-foot equivalent units (TEUs))',\n",
    "                labels={\n",
    "                   # Change label names\n",
    "                   'value': 'Flow of containers carried'\n",
    "\n",
    "               }, ) \n",
    "\n",
    "\n",
    "fig.show()"
   ]
  },
  {
   "cell_type": "code",
   "execution_count": null,
   "metadata": {},
   "outputs": [],
   "source": [
    "fig = px.line(df1, x='Year', y= ['Carbon dioxide emissions, NL', 'Carbon dioxide emissions, China'], title = 'Carbon dioxide emissions',\n",
    "                labels={\n",
    "                   # Change label names\n",
    "                   'value': 'Carbon dioxide emissions'\n",
    "\n",
    "               }, ) \n",
    "\n",
    "fig.show()"
   ]
  },
  {
   "cell_type": "code",
   "execution_count": null,
   "metadata": {},
   "outputs": [],
   "source": [
    "fig = px.line(df2, x='Year', y= ['Life expectancy, NL', 'Life expectancy, China'], title = 'Life expectancy',\n",
    "                labels={\n",
    "                   # Change label names\n",
    "                   'value': 'Life expectancy'\n",
    "\n",
    "               }, ) \n",
    "\n",
    "fig.show()"
   ]
  },
  {
   "cell_type": "code",
   "execution_count": null,
   "metadata": {},
   "outputs": [],
   "source": [
    "fig = px.line(df2, x='Year', y= ['GDP growth, NL', 'GDP growth, China'],  title = 'GDP growth',\n",
    "                labels={\n",
    "                   # Change label names\n",
    "                   'value': 'GDP growth'\n",
    "\n",
    "               }, ) \n",
    "\n",
    "fig.show()"
   ]
  },
  {
   "cell_type": "markdown",
   "metadata": {},
   "source": [
    "All these graphs allow us to make several observations: \n",
    "\n",
    "\n",
    "- With regard to the number of passengers carried, both countries observe a decline when the covid pandemic begins in 2019. It is remarkable that China is experiencing an even greater decline than the Netherlands.\n",
    "\n",
    "- Regarding the volume of freight carried, it comes to the same conclusion. Both countries observe a decline when the covid pandemic begins in 2019. It is also remarkable that China is experiencing an even greater decline than the Netherlands.\n",
    "\n",
    "- Flow of containers carried ???\n",
    "\n",
    "- China's carbon dioxid emissions are on the rise. The appearance of covid has not changed this. In contrast, the Netherlands was already in a phase of decreasing CO2 emissions and the introduction of covid has not changed this trend.\n",
    "\n",
    "- Life expectancy is falling for the Netherlands. This is due to the additional deaths caused by covid. For China, life expectancy continues to increase in 2019. This is consistent with the low number of covid cases and therefore few (very few) covid deaths.\n",
    "\n",
    "- Both GDPs has descreased with the covid's introduction. The decrease is somewhat greater for the Netherlands.\n",
    "\n",
    "\n",
    "Although they have very few cases of Covid, China has generally experienced the same consequences of Covid as the Netherlands. Their economy and the behaviour of the different transport variables are in most cases similar to the behaviour observed in the Netherlands."
   ]
  },
  {
   "cell_type": "markdown",
   "metadata": {},
   "source": [
    "To go a step further, it is possible to use the Pearson correlation to better understand the dependencies between the different variables. "
   ]
  },
  {
   "cell_type": "code",
   "execution_count": null,
   "metadata": {},
   "outputs": [],
   "source": [
    "mask = np.triu(np.ones_like(df1.corr(), dtype=bool))\n",
    "sns.heatmap(df1.corr(), mask=mask, annot=True)  #annot=True"
   ]
  },
  {
   "cell_type": "markdown",
   "metadata": {},
   "source": [
    "The first observation is that Dutch CO2 emissions are negatively related to other variables. Indeed, the curve is descending while the others are generally ascending. The rest of the variables are positively correlated and are relatively close to 1. This means that they tend to be dependent (the smallest positive value is 0.66)."
   ]
  },
  {
   "cell_type": "markdown",
   "metadata": {},
   "source": []
  },
  {
   "cell_type": "markdown",
   "metadata": {},
   "source": []
  },
  {
   "cell_type": "code",
   "execution_count": null,
   "metadata": {},
   "outputs": [],
   "source": [
    "filepath = 'Data_Sets/Dutch Airports.csv'\n",
    "DutchAirports = pd.read_csv(filepath, delimiter=';')\n",
    " \n",
    "DutchAirports = DutchAirports.drop(['Aircraft movements/Cross-country flights (number)', 'Aircraft movements/Local flights (number)', 'Commercial air traffic/Flights/All flights/Scheduled (number)'], axis = 1)\n",
    "DutchAirports = DutchAirports.set_index('Airports')\n",
    "DutchAirports = DutchAirports.T\n",
    "DutchAirports = DutchAirports.drop(['Total Dutch airports'], axis = 1)\n",
    "DutchAirports = DutchAirports.T\n",
    "DutchAirports = DutchAirports.reset_index()\n",
    "DutchAirports = DutchAirports.set_index('Periods')\n",
    "DutchAirports = DutchAirports.T\n",
    "DutchAirports = DutchAirports.drop(['2018'], axis = 1)\n",
    "DutchAirports = DutchAirports.drop(['2019'], axis = 1)\n",
    "DutchAirports = DutchAirports.drop(['2020*'], axis = 1)\n",
    "DutchAirports = DutchAirports.drop(['2021*'], axis = 1)\n",
    "DutchAirports = DutchAirports.T\n",
    "DutchAirports = DutchAirports.reset_index()\n",
    "DutchAirports['PC_flights'] = DutchAirports['Commercial air traffic/Flights/All flights/Total flights (number)'].pct_change()*100\n",
    "DutchAirports['PC_pass'] = DutchAirports['Commercial air traffic/Passengers/Total passengers/Total passengers (number)'].pct_change()*100\n",
    "DutchAirports['PC_cargo'] = DutchAirports['Commercial air traffic/Cargo/Total cargo/Total cargo (ton)'].pct_change()*100\n",
    "DutchAirports['PC_mail'] = DutchAirports['Commercial air traffic/Mail/Total mail/Total mail (ton)'].pct_change()*100\n",
    "DutchAirports = DutchAirports.fillna(0)\n",
    "DutchAirports"
   ]
  },
  {
   "cell_type": "markdown",
   "metadata": {},
   "source": []
  },
  {
   "cell_type": "code",
   "execution_count": null,
   "metadata": {},
   "outputs": [],
   "source": [
    "# Plot interactive (color makes possible to select on right of graph)\n",
    "plot = px.line(DutchAirports, x='Periods', y= 'PC_flights', color='Airports', title= 'Purcentage of variation in the number of commercial air traffic flights',\n",
    "                 labels={\n",
    "                   # Change label names\n",
    "                   'PC_flights': 'Variation [%]',\n",
    "                   'Periods': 'Date'\n",
    "               }, )\n",
    "\n",
    "# Add range selector to zoom in on periods in Y axis.\n",
    "plot.update_layout(\n",
    "    xaxis=dict(\n",
    "        rangeselector=dict(\n",
    "            buttons=list([\n",
    "                dict(count=1,\n",
    "                     step=\"month\",\n",
    "                     stepmode=\"backward\"),\n",
    "            ])\n",
    "        ),\n",
    "        rangeslider=dict(\n",
    "            visible=True\n",
    "        ),\n",
    "    )\n",
    ")\n",
    "\n",
    "plot.show()"
   ]
  },
  {
   "cell_type": "markdown",
   "metadata": {},
   "source": []
  },
  {
   "cell_type": "code",
   "execution_count": null,
   "metadata": {},
   "outputs": [],
   "source": [
    "fig = px.bar(DutchAirports, x='PC_flights', y= 'Airports', color='Airports', animation_frame='Periods', \n",
    "                 animation_group='Airports', orientation='h', title= 'Purcentage of variation in the number of commercial air traffic flights',\n",
    "                 labels={\n",
    "                   # Change label names\n",
    "                   'PC_flights': 'Variation [%]',\n",
    "                   'Periods': 'Date',\n",
    "               }, ) \n",
    "\n",
    "fig.update_layout(showlegend=False,xaxis_range = [-100,800])\n",
    "#fig.update_layout(yaxis={'categoryorder':'total ascending'})\n",
    "                 \n",
    "# Show the graph\n",
    "fig.show()"
   ]
  },
  {
   "cell_type": "markdown",
   "metadata": {},
   "source": []
  },
  {
   "cell_type": "code",
   "execution_count": null,
   "metadata": {},
   "outputs": [],
   "source": [
    "fig = px.line(DutchAirports, x='Periods', y= 'Commercial air traffic/Passengers/Total passengers/Total passengers (number)' ,color='Airports', title= 'Commercial air traffic passengers',\n",
    "                 labels={\n",
    "                   # Change label names\n",
    "                   'Commercial air traffic/Passengers/Total passengers/Total passengers (number)': 'Number of commercial air traffic passengers',\n",
    "                   'Periods': 'Date',\n",
    "               }, )\n",
    "                 \n",
    "\n",
    "fig.show()"
   ]
  },
  {
   "cell_type": "markdown",
   "metadata": {},
   "source": []
  },
  {
   "cell_type": "code",
   "execution_count": null,
   "metadata": {},
   "outputs": [],
   "source": [
    "fig = px.line(DutchAirports, x='Periods', y= 'Commercial air traffic/Cargo/Total cargo/Total cargo (ton)' ,color='Airports', title= 'Commercial air traffic cargo [ton]',\n",
    "                 labels={\n",
    "                   # Change label names\n",
    "                   'Commercial air traffic/Cargo/Total cargo/Total cargo (ton)': 'Commercial air traffic cargo [ton]',\n",
    "                   'Periods': 'Date',\n",
    "               }, \n",
    "                 )\n",
    "\n",
    "fig.show()"
   ]
  },
  {
   "cell_type": "markdown",
   "metadata": {},
   "source": []
  },
  {
   "cell_type": "code",
   "execution_count": null,
   "metadata": {},
   "outputs": [],
   "source": [
    "fig = px.line(DutchAirports, x='Periods', y= 'Commercial air traffic/Mail/Total mail/Total mail (ton)' ,color='Airports', title= 'Commercial air traffic mail [ton]',\n",
    "                 labels={\n",
    "                   # Change label names\n",
    "                   'Commercial air traffic/Mail/Total mail/Total mail (ton)': 'Commercial air traffic mail [ton]',\n",
    "                   'Periods': 'Date',\n",
    "               }, \n",
    "                 )\n",
    "                 \n",
    "\n",
    "fig.show()"
   ]
  }
 ],
 "metadata": {
  "kernelspec": {
   "display_name": "Python 3.8.2 ('TIL6022')",
   "language": "python",
   "name": "python3"
  },
  "language_info": {
   "codemirror_mode": {
    "name": "ipython",
    "version": 3
   },
   "file_extension": ".py",
   "mimetype": "text/x-python",
   "name": "python",
   "nbconvert_exporter": "python",
   "pygments_lexer": "ipython3",
   "version": "3.8.2"
  },
  "orig_nbformat": 4,
  "vscode": {
   "interpreter": {
    "hash": "164f3d408bf327bdd82ccaeb5da6a5720348896dbe371cfd36a0365b06cf1a58"
   }
  }
 },
 "nbformat": 4,
 "nbformat_minor": 2
}
