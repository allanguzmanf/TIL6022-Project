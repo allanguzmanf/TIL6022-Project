{
 "cells": [
  {
   "cell_type": "markdown",
   "metadata": {},
   "source": [
    "# Project Group - 15\n",
    "\n",
    "Members: \n",
    "Sören Burghardt, \n",
    "Sarah Blanc, \n",
    "Allan Guzmann, \n",
    "Lars van den Berg, \n",
    "Simon Schreders\n",
    "\n",
    "Student numbers: \n",
    "5861012, \n",
    "5854830, \n",
    "5718619,\n",
    "5626668,\n",
    "5878845"
   ]
  },
  {
   "cell_type": "markdown",
   "metadata": {},
   "source": [
    "# Research Objective\n",
    "\n",
    "What are the effects on aviation that COVID-19  caused at the Amsterdam Schiphol Airport (EHAM) and its most frequented destinations for freight and passenger transport?\n",
    "\n",
    "When COVID-19 became a global pandemic in 2020, the containments plunged the global economy into an unprecedented recession. The magnitude of the economic shock was such that it resulted in unrecognisable data and a \"data fog\" that made it difficult to interpret and, more importantly, to predict. The last two years have been extraordinary, both for global economy and the humanity. While the COVID-19 pandemic now appears to be under control thanks to vaccination programmes, parts of the global economy are not yet fully recovered. As a result of the protective travel restrictions, the aviation sector has been hit harder than many others industries. In this project, our aim was to observe the impacts that covid has had on aviation and in particular, the impacts on Amsterdam Schiphol Airport and its most frequented destinations. This from the perspective of passenger and freight transport."
   ]
  },
  {
   "cell_type": "markdown",
   "metadata": {},
   "source": [
    "# Contribution Statement\n",
    "\n",
    "*Be specific. Some of the tasks can be coding (expect everyone to do this), background research, conceptualisation, visualisation, data analysis, data modelling*"
   ]
  },
  {
   "cell_type": "markdown",
   "metadata": {},
   "source": [
    "Sören: coding\n",
    "\n",
    "Sarah: coding\n",
    "\n",
    "Allan: coding\n",
    "\n",
    "Lars: coding\n",
    "\n",
    "Simon: coding"
   ]
  },
  {
   "cell_type": "markdown",
   "metadata": {},
   "source": [
    "# Data Used"
   ]
  },
  {
   "cell_type": "markdown",
   "metadata": {},
   "source": [
    "COVID-19 cases in the world (Our World in Data)\n",
    "\n",
    "Flight data passengers (Eu Stat)\n",
    "\n",
    "Flight data freight (EU Stat)\n",
    "\n",
    "OD Data for Airport Amsterdam (EU Stat)\n"
   ]
  },
  {
   "cell_type": "markdown",
   "metadata": {},
   "source": [
    "# Data Pipeline"
   ]
  },
  {
   "cell_type": "markdown",
   "metadata": {},
   "source": [
    "All the data for flights from Amsterdam Airport Schiphol (EHAM) were grouped by country. This way two top 5 were created for both the volume of cargo and mail and the passangers. The countries from these two top 5's and the Netherlands were used to filter the COVID-19 cases, using the amount of confirmed new cases per million in a country. "
   ]
  },
  {
   "cell_type": "markdown",
   "metadata": {},
   "source": [
    "As a first step, we are going to import all the librairies that we will need."
   ]
  },
  {
   "cell_type": "code",
   "execution_count": 2,
   "metadata": {},
   "outputs": [],
   "source": [
    "import pandas as pd\n",
    "import numpy as np\n",
    "import plotly as plt\n",
    "\n",
    "import math\n",
    "import scipy\n",
    "\n",
    "import matplotlib.pyplot as plt\n",
    "import seaborn as sns\n",
    "import plotly.express as px\n",
    "import plotly.graph_objects as go\n",
    "\n",
    "import plotly.io as pio\n",
    "pio.renderers.default = \"plotly_mimetype+notebook\""
   ]
  },
  {
   "cell_type": "markdown",
   "metadata": {},
   "source": [
    "# Part I - Data import\n",
    "\n",
    "First, we are going to import the dataframes. We are going to modifiy them in order to prepare them for our project and to combine them together. "
   ]
  },
  {
   "cell_type": "markdown",
   "metadata": {},
   "source": [
    "Let's start off with the covid  data."
   ]
  },
  {
   "cell_type": "code",
   "execution_count": 3,
   "metadata": {},
   "outputs": [
    {
     "name": "stdout",
     "output_type": "stream",
     "text": [
      "                          new_cases_smoothed_per_million  \\\n",
      "location      Year Month                                   \n",
      "China         2020 01                           0.671750   \n",
      "                   02                           1.764000   \n",
      "                   03                           0.080419   \n",
      "                   04                           0.093867   \n",
      "                   05                           0.017458   \n",
      "...                                                  ...   \n",
      "United States 2022 06                         314.537467   \n",
      "                   07                         364.569742   \n",
      "                   08                         305.351581   \n",
      "                   09                         190.342033   \n",
      "                   10                         126.767000   \n",
      "\n",
      "                          people_fully_vaccinated_per_hundred  \n",
      "location      Year Month                                       \n",
      "China         2020 01                                     NaN  \n",
      "                   02                                     NaN  \n",
      "                   03                                     NaN  \n",
      "                   04                                     NaN  \n",
      "                   05                                     NaN  \n",
      "...                                                       ...  \n",
      "United States 2022 06                               67.019667  \n",
      "                   07                               67.272258  \n",
      "                   08                               67.557419  \n",
      "                   09                               67.822333  \n",
      "                   10                               68.025000  \n",
      "\n",
      "[201 rows x 2 columns]\n",
      "                          new_cases_smoothed_per_million  \\\n",
      "location      Year Month                                   \n",
      "Germany       2020 01                                NaN   \n",
      "                   02                           0.011621   \n",
      "                   03                          18.258710   \n",
      "                   04                          43.080800   \n",
      "                   05                           9.641290   \n",
      "...                                                  ...   \n",
      "United States 2022 06                         314.537467   \n",
      "                   07                         364.569742   \n",
      "                   08                         305.351581   \n",
      "                   09                         190.342033   \n",
      "                   10                         126.767000   \n",
      "\n",
      "                          people_fully_vaccinated_per_hundred  \n",
      "location      Year Month                                       \n",
      "Germany       2020 01                                     NaN  \n",
      "                   02                                     NaN  \n",
      "                   03                                     NaN  \n",
      "                   04                                     NaN  \n",
      "                   05                                     NaN  \n",
      "...                                                       ...  \n",
      "United States 2022 06                               67.019667  \n",
      "                   07                               67.272258  \n",
      "                   08                               67.557419  \n",
      "                   09                               67.822333  \n",
      "                   10                               68.025000  \n",
      "\n",
      "[202 rows x 2 columns]\n"
     ]
    },
    {
     "name": "stderr",
     "output_type": "stream",
     "text": [
      "/var/folders/h2/p_nmk5y57h30_tgf8ch2knm80000gn/T/ipykernel_73977/1618461965.py:9: SettingWithCopyWarning:\n",
      "\n",
      "\n",
      "A value is trying to be set on a copy of a slice from a DataFrame.\n",
      "Try using .loc[row_indexer,col_indexer] = value instead\n",
      "\n",
      "See the caveats in the documentation: https://pandas.pydata.org/pandas-docs/stable/user_guide/indexing.html#returning-a-view-versus-a-copy\n",
      "\n",
      "/var/folders/h2/p_nmk5y57h30_tgf8ch2knm80000gn/T/ipykernel_73977/1618461965.py:9: SettingWithCopyWarning:\n",
      "\n",
      "\n",
      "A value is trying to be set on a copy of a slice from a DataFrame.\n",
      "Try using .loc[row_indexer,col_indexer] = value instead\n",
      "\n",
      "See the caveats in the documentation: https://pandas.pydata.org/pandas-docs/stable/user_guide/indexing.html#returning-a-view-versus-a-copy\n",
      "\n",
      "/var/folders/h2/p_nmk5y57h30_tgf8ch2knm80000gn/T/ipykernel_73977/1618461965.py:9: SettingWithCopyWarning:\n",
      "\n",
      "\n",
      "A value is trying to be set on a copy of a slice from a DataFrame.\n",
      "Try using .loc[row_indexer,col_indexer] = value instead\n",
      "\n",
      "See the caveats in the documentation: https://pandas.pydata.org/pandas-docs/stable/user_guide/indexing.html#returning-a-view-versus-a-copy\n",
      "\n",
      "/var/folders/h2/p_nmk5y57h30_tgf8ch2knm80000gn/T/ipykernel_73977/1618461965.py:17: FutureWarning:\n",
      "\n",
      "The default value of numeric_only in DataFrameGroupBy.mean is deprecated. In a future version, numeric_only will default to False. Either specify numeric_only or select only columns which should be valid for the function.\n",
      "\n",
      "/var/folders/h2/p_nmk5y57h30_tgf8ch2knm80000gn/T/ipykernel_73977/1618461965.py:22: FutureWarning:\n",
      "\n",
      "The default value of numeric_only in DataFrameGroupBy.mean is deprecated. In a future version, numeric_only will default to False. Either specify numeric_only or select only columns which should be valid for the function.\n",
      "\n"
     ]
    }
   ],
   "source": [
    "#COVID PART \n",
    "\n",
    "filepath = 'Data_Sets/owid-covid-data.csv'\n",
    "covid_data = pd.read_csv(filepath, delimiter=',')\n",
    "\n",
    "# Select the columns of interest from the original dataset and filter it, also expand the date to accomodate year and month\n",
    "columns_of_interest = ['new_cases_smoothed_per_million','people_fully_vaccinated_per_hundred','date','location']\n",
    "filtered_covid_data = covid_data[columns_of_interest]\n",
    "filtered_covid_data[['Year','Month','Day']] = filtered_covid_data.date.str.split(\"-\",expand=True)\n",
    "\n",
    "# Selecting the countries of interest for cargo and passenger trasnport\n",
    "cargo_countries_of_interest =['China','United States','United Arab Emirates','Kenya','Russia','Netherlands']\n",
    "passenger_countries_of_interest = ['United Kingdom','Spain','Germany','Italy','United States','Netherlands']\n",
    "\n",
    "# Group by year, month and location to calculate the mean for cargo transport\n",
    "cargo_filtered_covid_data = filtered_covid_data[filtered_covid_data['location'].isin(cargo_countries_of_interest)]\n",
    "cargo_filtered_covid_data = cargo_filtered_covid_data.groupby(['location','Year','Month']).mean()\n",
    "print(cargo_filtered_covid_data)\n",
    "\n",
    "# Group by year, month and location to calculate the mean for cargo transport\n",
    "passenger_filtered_covid_data = filtered_covid_data[filtered_covid_data['location'].isin(passenger_countries_of_interest)]\n",
    "passenger_filtered_covid_data = passenger_filtered_covid_data.groupby(['location','Year','Month']).mean()\n",
    "print(passenger_filtered_covid_data)\n"
   ]
  },
  {
   "cell_type": "markdown",
   "metadata": {},
   "source": [
    "After implementing the covid data, we have modified them according to our needs. First of all we decided to keep only the columns we needed to avoid having unused information in this data frame. We filtered this new data frame and expanded the date to the accomodate year and month."
   ]
  },
  {
   "cell_type": "markdown",
   "metadata": {},
   "source": [
    "Then the aviation part."
   ]
  },
  {
   "cell_type": "code",
   "execution_count": 2,
   "metadata": {},
   "outputs": [
    {
     "ename": "SyntaxError",
     "evalue": "invalid syntax (3580322668.py, line 1)",
     "output_type": "error",
     "traceback": [
      "\u001b[0;36m  Cell \u001b[0;32mIn [2], line 1\u001b[0;36m\u001b[0m\n\u001b[0;31m    AVIATION PART\u001b[0m\n\u001b[0m             ^\u001b[0m\n\u001b[0;31mSyntaxError\u001b[0m\u001b[0;31m:\u001b[0m invalid syntax\n"
     ]
    }
   ],
   "source": [
    "AVIATION PART"
   ]
  },
  {
   "cell_type": "markdown",
   "metadata": {},
   "source": [
    "After implementing the aviation data, we have modified them according to our needs again. we have kept only the rows containing information on the top 5 countries (i.e. the countries that are studied) for the passenger and cargo transports."
   ]
  },
  {
   "cell_type": "markdown",
   "metadata": {},
   "source": [
    "Then, the merging was quite easy:"
   ]
  },
  {
   "cell_type": "code",
   "execution_count": null,
   "metadata": {},
   "outputs": [],
   "source": [
    "MERGING PART"
   ]
  },
  {
   "cell_type": "markdown",
   "metadata": {},
   "source": [
    "# Part II - Data Processing"
   ]
  },
  {
   "cell_type": "markdown",
   "metadata": {},
   "source": [
    "In this second part, we are going to extract the most interesting and the main information out ouf our data. We are not going to do any comparisons between countries or airports (comparisons that we are going to do in task 3)."
   ]
  },
  {
   "cell_type": "markdown",
   "metadata": {},
   "source": [
    "First, let's show a map containing the five routes that carried the most passengers from Amsterdam airport in 2019."
   ]
  },
  {
   "cell_type": "code",
   "execution_count": null,
   "metadata": {},
   "outputs": [],
   "source": [
    "CODE"
   ]
  },
  {
   "cell_type": "markdown",
   "metadata": {},
   "source": [
    "First, let's show a map containing the five routes that carried the most freigh amount from Amsterdam airport in 2019."
   ]
  },
  {
   "cell_type": "code",
   "execution_count": null,
   "metadata": {},
   "outputs": [],
   "source": [
    "(0)"
   ]
  },
  {
   "cell_type": "markdown",
   "metadata": {},
   "source": [
    "As we can see, while passenger transport is dominated by intra-European transport, cargo transport is more international"
   ]
  },
  {
   "cell_type": "markdown",
   "metadata": {},
   "source": [
    "(1)"
   ]
  },
  {
   "cell_type": "code",
   "execution_count": null,
   "metadata": {},
   "outputs": [],
   "source": [
    "(1)"
   ]
  },
  {
   "cell_type": "markdown",
   "metadata": {},
   "source": [
    "Let's now take a look at the evolution of the number of passengers and the amount of cargo transported from Schipol to each of the top 5 destinations. The time period used for these graphs is from 2000 to now."
   ]
  },
  {
   "cell_type": "code",
   "execution_count": null,
   "metadata": {},
   "outputs": [],
   "source": [
    "(2)"
   ]
  },
  {
   "cell_type": "markdown",
   "metadata": {},
   "source": [
    "In parallel, let's look at the evolution of covid cases since the beginning of the pandemic and the vaccination rate in the Netherlands."
   ]
  },
  {
   "cell_type": "code",
   "execution_count": null,
   "metadata": {},
   "outputs": [],
   "source": [
    "(3)"
   ]
  },
  {
   "cell_type": "markdown",
   "metadata": {},
   "source": [
    "It is interesting to relate the number of Covid cases in the Netherlands to all passenger departures from Amsterdam airport. Similarly, the link between the vaccination rate and passenger departures from Amsterdam airport may provide useful information."
   ]
  },
  {
   "cell_type": "code",
   "execution_count": null,
   "metadata": {},
   "outputs": [],
   "source": [
    "(4) (5)"
   ]
  },
  {
   "cell_type": "markdown",
   "metadata": {},
   "source": [
    "common peaks covid cases NL vs number of passenger leaving NL (see previous work to see hom to find common peaks)"
   ]
  },
  {
   "cell_type": "code",
   "execution_count": null,
   "metadata": {},
   "outputs": [],
   "source": []
  },
  {
   "cell_type": "markdown",
   "metadata": {},
   "source": [
    "common valleys covid cases NL vs number of passengers leaving  NL (see previous work to see hom to find common peaks)"
   ]
  },
  {
   "cell_type": "code",
   "execution_count": null,
   "metadata": {},
   "outputs": [],
   "source": []
  },
  {
   "cell_type": "markdown",
   "metadata": {},
   "source": [
    "common peaks and valleys between NL and ... for number of passengers and number of freigh (see previous work to see hom to find common peaks)\n",
    "goal here: to see if covid had the same impact (peaks) at the same time in 2 or more countries"
   ]
  },
  {
   "cell_type": "code",
   "execution_count": null,
   "metadata": {},
   "outputs": [],
   "source": []
  },
  {
   "cell_type": "markdown",
   "metadata": {},
   "source": [
    "# Part 3 - Data Visualisation"
   ]
  },
  {
   "cell_type": "markdown",
   "metadata": {},
   "source": [
    "In this last part, we are going to do a little research and a little comparison about China."
   ]
  },
  {
   "cell_type": "code",
   "execution_count": null,
   "metadata": {},
   "outputs": [],
   "source": [
    "CODE"
   ]
  }
 ],
 "metadata": {
  "kernelspec": {
   "display_name": "Python 3.8.9 64-bit",
   "language": "python",
   "name": "python3"
  },
  "language_info": {
   "codemirror_mode": {
    "name": "ipython",
    "version": 3
   },
   "file_extension": ".py",
   "mimetype": "text/x-python",
   "name": "python",
   "nbconvert_exporter": "python",
   "pygments_lexer": "ipython3",
   "version": "3.8.9"
  },
  "orig_nbformat": 4,
  "vscode": {
   "interpreter": {
    "hash": "31f2aee4e71d21fbe5cf8b01ff0e069b9275f58929596ceb00d14d90e3e16cd6"
   }
  }
 },
 "nbformat": 4,
 "nbformat_minor": 2
}
