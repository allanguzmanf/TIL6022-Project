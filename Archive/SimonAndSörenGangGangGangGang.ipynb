{
 "cells": [
  {
   "cell_type": "code",
   "execution_count": 2,
   "metadata": {},
   "outputs": [],
   "source": [
    "import pandas as pd\n",
    "import numpy as np\n",
    "import plotly as plt\n",
    "\n",
    "import math\n",
    "import scipy\n",
    "\n",
    "import matplotlib.pyplot as plt\n",
    "import seaborn as sns\n",
    "import plotly.express as px\n",
    "import plotly.graph_objects as go\n",
    "\n",
    "import geopandas as gpd\n",
    "\n",
    "import plotly.io as pio\n",
    "import plotly.graph_objects as go   \n",
    "import country_converter as coco\n",
    "from plotly.subplots import make_subplots\n",
    "\n",
    "import plotly.io as pio\n",
    "pio.renderers.default = \"plotly_mimetype+notebook\""
   ]
  },
  {
   "cell_type": "code",
   "execution_count": 3,
   "metadata": {},
   "outputs": [],
   "source": [
    "# Import datasets\n",
    "freight = pd.read_csv(\"Data_Sets/avia_gor_nl__custom_3564729_monthly_linear.csv\")\n",
    "passengers = pd.read_csv(\"Data_Sets/avia_par_nl__custom_3564728_monthly_linear.csv\")\n",
    "\n",
    "# Setting up special cleaning list\n",
    "country_code_fix = {'EL':'GR','AN':'BQ'}\n",
    "\n",
    "def top_n_year(df,n,year):\n",
    "    # This function has a dataframe, a number of entries and a year as inputs and \n",
    "    # as output the dataframe filtered for the top n countries on a specific year\n",
    "    df[[\"airp_country_1\",\"airp_code_1\",\"airp_country_2\",\"airp_code_2\"]] = df.airp_pr.str.split(\"_\",expand=True)\n",
    "    df[[\"Year\",\"Month\"]] = df.TIME_PERIOD.str.split(\"-\",expand=True)\n",
    "    topn = df.groupby(['Year',\"airp_country_2\"]).sum()\n",
    "    topn = topn.loc[year,:].sort_values(\"OBS_VALUE\", ascending= False).head(n).reset_index()\n",
    "    cleaned = df[df[\"airp_country_2\"].isin(topn[\"airp_country_2\"])]\n",
    "    return cleaned\n",
    "\n",
    "def codes_correction(df,ISO_2):\n",
    "    # This function has a data frame and a ISO2 countries list and outputs the same \n",
    "    # dataframe adding a ISO3 code and the country name for each unique\n",
    "    df[ISO_2] = df[ISO_2].replace(to_replace= country_code_fix)\n",
    "    df['iso_3_country'] = coco.convert(names = df[ISO_2], to= 'ISO3')\n",
    "    df['country_2_name'] = coco.convert(names = df[ISO_2], to= 'name_short')\n",
    "    return df\n",
    "\n",
    "# Call defined functions for the 2 datasets\n",
    "top_passengers = top_n_year(passengers,5,'2019')\n",
    "top_cargo = top_n_year(freight,5,'2019')"
   ]
  },
  {
   "cell_type": "code",
   "execution_count": 53,
   "metadata": {},
   "outputs": [
    {
     "name": "stderr",
     "output_type": "stream",
     "text": [
      "c:\\Users\\s167786\\Anaconda3\\envs\\TIL6022\\lib\\site-packages\\pandas\\core\\frame.py:3641: SettingWithCopyWarning:\n",
      "\n",
      "\n",
      "A value is trying to be set on a copy of a slice from a DataFrame.\n",
      "Try using .loc[row_indexer,col_indexer] = value instead\n",
      "\n",
      "See the caveats in the documentation: https://pandas.pydata.org/pandas-docs/stable/user_guide/indexing.html#returning-a-view-versus-a-copy\n",
      "\n"
     ]
    }
   ],
   "source": [
    "#COVID PART \n",
    "filepath = 'Data_Sets/owid-covid-data.csv'\n",
    "covid_data = pd.read_csv(filepath, delimiter=',')\n",
    "\n",
    "# Select the columns of interest from the original dataset and filter it, also expand the date to accomodate year and month\n",
    "columns_of_interest = ['new_cases_smoothed_per_million','people_fully_vaccinated_per_hundred','date','location']\n",
    "filtered_covid_data = covid_data[columns_of_interest]\n",
    "filtered_covid_data[['Year','Month','Day']] = filtered_covid_data.date.str.split(\"-\",expand=True)\n",
    "\n",
    "# Selecting the countries of interest for cargo and passenger transport\n",
    "cargo_countries_of_interest =['China','United States','United Arab Emirates','Brazil','Qatar']\n",
    "passenger_countries_of_interest = ['United Kingdom','Spain','Germany','Italy','United States']\n",
    "\n",
    "# Group by year, month and location to calculate the mean for cargo transport\n",
    "cargo_filtered_covid_data = filtered_covid_data[filtered_covid_data['location'].isin(cargo_countries_of_interest)]\n",
    "cargo_filtered_covid_data = cargo_filtered_covid_data.groupby(['location','Year','Month']).mean()\n",
    "\n",
    "# Resetting the index and creating new collum with Year and Month \n",
    "cargo_filtered_covid_data = cargo_filtered_covid_data.reset_index()\n",
    "cargo_filtered_covid_data['date'] = cargo_filtered_covid_data['Year'] + ['-'] + cargo_filtered_covid_data['Month'] \n",
    "\n",
    "# Group by year, month and location to calculate the mean for cargo transport\n",
    "passenger_filtered_covid_data = filtered_covid_data[filtered_covid_data['location'].isin(passenger_countries_of_interest)]\n",
    "passenger_filtered_covid_data = passenger_filtered_covid_data.groupby(['location','Year','Month']).mean()\n",
    "\n",
    "#Resetting the index and creating new collum with Year and Month \n",
    "passenger_filtered_covid_data = passenger_filtered_covid_data.reset_index()\n",
    "passenger_filtered_covid_data['date'] = passenger_filtered_covid_data['Year'] + ['-'] + passenger_filtered_covid_data['Month']"
   ]
  },
  {
   "cell_type": "code",
   "execution_count": null,
   "metadata": {},
   "outputs": [],
   "source": []
  },
  {
   "cell_type": "code",
   "execution_count": 39,
   "metadata": {},
   "outputs": [],
   "source": [
    "\n",
    "passengers_pre_merge = top_passengers.groupby(['airp_country_2','TIME_PERIOD','Month']).sum()\n",
    "passengers_pre_merge = passengers_pre_merge.reset_index()\n",
    "passengers_pre_merge = passengers_pre_merge[passengers_pre_merge['TIME_PERIOD'].between('2020-01', '2022-07')]\n",
    "passengers_pre_merge = codes_correction(passengers_pre_merge,'airp_country_2')\n",
    "\n",
    "cargo_pre_merge = top_cargo.groupby(['airp_country_2','TIME_PERIOD','Month']).sum()\n",
    "cargo_pre_merge = cargo_pre_merge.reset_index()\n",
    "cargo_pre_merge = cargo_pre_merge[cargo_pre_merge['TIME_PERIOD'].between('2020-01', '2022-07')]\n",
    "cargo_pre_merge = codes_correction(cargo_pre_merge,'airp_country_2')"
   ]
  },
  {
   "cell_type": "code",
   "execution_count": 52,
   "metadata": {},
   "outputs": [
    {
     "data": {
      "text/html": [
       "<div>\n",
       "<style scoped>\n",
       "    .dataframe tbody tr th:only-of-type {\n",
       "        vertical-align: middle;\n",
       "    }\n",
       "\n",
       "    .dataframe tbody tr th {\n",
       "        vertical-align: top;\n",
       "    }\n",
       "\n",
       "    .dataframe thead th {\n",
       "        text-align: right;\n",
       "    }\n",
       "</style>\n",
       "<table border=\"1\" class=\"dataframe\">\n",
       "  <thead>\n",
       "    <tr style=\"text-align: right;\">\n",
       "      <th></th>\n",
       "      <th>location</th>\n",
       "      <th>Year</th>\n",
       "      <th>Month</th>\n",
       "      <th>new_cases_smoothed_per_million</th>\n",
       "      <th>people_fully_vaccinated_per_hundred</th>\n",
       "    </tr>\n",
       "    <tr>\n",
       "      <th>date</th>\n",
       "      <th></th>\n",
       "      <th></th>\n",
       "      <th></th>\n",
       "      <th></th>\n",
       "      <th></th>\n",
       "    </tr>\n",
       "  </thead>\n",
       "  <tbody>\n",
       "    <tr>\n",
       "      <th>2020-02</th>\n",
       "      <td>Brazil</td>\n",
       "      <td>2020</td>\n",
       "      <td>02</td>\n",
       "      <td>NaN</td>\n",
       "      <td>NaN</td>\n",
       "    </tr>\n",
       "    <tr>\n",
       "      <th>2020-03</th>\n",
       "      <td>Brazil</td>\n",
       "      <td>2020</td>\n",
       "      <td>03</td>\n",
       "      <td>0.608867</td>\n",
       "      <td>NaN</td>\n",
       "    </tr>\n",
       "    <tr>\n",
       "      <th>2020-04</th>\n",
       "      <td>Brazil</td>\n",
       "      <td>2020</td>\n",
       "      <td>04</td>\n",
       "      <td>10.144900</td>\n",
       "      <td>NaN</td>\n",
       "    </tr>\n",
       "    <tr>\n",
       "      <th>2020-05</th>\n",
       "      <td>Brazil</td>\n",
       "      <td>2020</td>\n",
       "      <td>05</td>\n",
       "      <td>56.735452</td>\n",
       "      <td>NaN</td>\n",
       "    </tr>\n",
       "    <tr>\n",
       "      <th>2020-06</th>\n",
       "      <td>Brazil</td>\n",
       "      <td>2020</td>\n",
       "      <td>06</td>\n",
       "      <td>136.699552</td>\n",
       "      <td>NaN</td>\n",
       "    </tr>\n",
       "    <tr>\n",
       "      <th>...</th>\n",
       "      <td>...</td>\n",
       "      <td>...</td>\n",
       "      <td>...</td>\n",
       "      <td>...</td>\n",
       "      <td>...</td>\n",
       "    </tr>\n",
       "    <tr>\n",
       "      <th>2022-06</th>\n",
       "      <td>United States</td>\n",
       "      <td>2022</td>\n",
       "      <td>06</td>\n",
       "      <td>314.537467</td>\n",
       "      <td>67.019667</td>\n",
       "    </tr>\n",
       "    <tr>\n",
       "      <th>2022-07</th>\n",
       "      <td>United States</td>\n",
       "      <td>2022</td>\n",
       "      <td>07</td>\n",
       "      <td>364.569742</td>\n",
       "      <td>67.272258</td>\n",
       "    </tr>\n",
       "    <tr>\n",
       "      <th>2022-08</th>\n",
       "      <td>United States</td>\n",
       "      <td>2022</td>\n",
       "      <td>08</td>\n",
       "      <td>305.351581</td>\n",
       "      <td>67.557419</td>\n",
       "    </tr>\n",
       "    <tr>\n",
       "      <th>2022-09</th>\n",
       "      <td>United States</td>\n",
       "      <td>2022</td>\n",
       "      <td>09</td>\n",
       "      <td>190.342033</td>\n",
       "      <td>67.822333</td>\n",
       "    </tr>\n",
       "    <tr>\n",
       "      <th>2022-10</th>\n",
       "      <td>United States</td>\n",
       "      <td>2022</td>\n",
       "      <td>10</td>\n",
       "      <td>126.767000</td>\n",
       "      <td>68.025000</td>\n",
       "    </tr>\n",
       "  </tbody>\n",
       "</table>\n",
       "<p>168 rows × 5 columns</p>\n",
       "</div>"
      ],
      "text/plain": [
       "              location  Year Month  new_cases_smoothed_per_million  \\\n",
       "date                                                                 \n",
       "2020-02         Brazil  2020    02                             NaN   \n",
       "2020-03         Brazil  2020    03                        0.608867   \n",
       "2020-04         Brazil  2020    04                       10.144900   \n",
       "2020-05         Brazil  2020    05                       56.735452   \n",
       "2020-06         Brazil  2020    06                      136.699552   \n",
       "...                ...   ...   ...                             ...   \n",
       "2022-06  United States  2022    06                      314.537467   \n",
       "2022-07  United States  2022    07                      364.569742   \n",
       "2022-08  United States  2022    08                      305.351581   \n",
       "2022-09  United States  2022    09                      190.342033   \n",
       "2022-10  United States  2022    10                      126.767000   \n",
       "\n",
       "         people_fully_vaccinated_per_hundred  \n",
       "date                                          \n",
       "2020-02                                  NaN  \n",
       "2020-03                                  NaN  \n",
       "2020-04                                  NaN  \n",
       "2020-05                                  NaN  \n",
       "2020-06                                  NaN  \n",
       "...                                      ...  \n",
       "2022-06                            67.019667  \n",
       "2022-07                            67.272258  \n",
       "2022-08                            67.557419  \n",
       "2022-09                            67.822333  \n",
       "2022-10                            68.025000  \n",
       "\n",
       "[168 rows x 5 columns]"
      ]
     },
     "execution_count": 52,
     "metadata": {},
     "output_type": "execute_result"
    }
   ],
   "source": [
    "#cargo_filtered_covid_data.set_index('date', inplace = True)\n",
    "cargo_filtered_covid_data\n",
    "#cargo_filtered_covid_data = cargo_filtered_covid_data.drop(['2022-08','2022-09','2022-10'])\n",
    "\n"
   ]
  },
  {
   "cell_type": "code",
   "execution_count": 46,
   "metadata": {},
   "outputs": [
    {
     "data": {
      "text/html": [
       "<div>\n",
       "<style scoped>\n",
       "    .dataframe tbody tr th:only-of-type {\n",
       "        vertical-align: middle;\n",
       "    }\n",
       "\n",
       "    .dataframe tbody tr th {\n",
       "        vertical-align: top;\n",
       "    }\n",
       "\n",
       "    .dataframe thead th {\n",
       "        text-align: right;\n",
       "    }\n",
       "</style>\n",
       "<table border=\"1\" class=\"dataframe\">\n",
       "  <thead>\n",
       "    <tr style=\"text-align: right;\">\n",
       "      <th></th>\n",
       "      <th>location</th>\n",
       "      <th>Year</th>\n",
       "      <th>Month</th>\n",
       "      <th>new_cases_smoothed_per_million</th>\n",
       "      <th>people_fully_vaccinated_per_hundred</th>\n",
       "    </tr>\n",
       "    <tr>\n",
       "      <th>date</th>\n",
       "      <th></th>\n",
       "      <th></th>\n",
       "      <th></th>\n",
       "      <th></th>\n",
       "      <th></th>\n",
       "    </tr>\n",
       "  </thead>\n",
       "  <tbody>\n",
       "    <tr>\n",
       "      <th>2020-01</th>\n",
       "      <td>Germany</td>\n",
       "      <td>2020</td>\n",
       "      <td>01</td>\n",
       "      <td>NaN</td>\n",
       "      <td>NaN</td>\n",
       "    </tr>\n",
       "    <tr>\n",
       "      <th>2020-02</th>\n",
       "      <td>Germany</td>\n",
       "      <td>2020</td>\n",
       "      <td>02</td>\n",
       "      <td>0.011621</td>\n",
       "      <td>NaN</td>\n",
       "    </tr>\n",
       "    <tr>\n",
       "      <th>2020-03</th>\n",
       "      <td>Germany</td>\n",
       "      <td>2020</td>\n",
       "      <td>03</td>\n",
       "      <td>18.258710</td>\n",
       "      <td>NaN</td>\n",
       "    </tr>\n",
       "    <tr>\n",
       "      <th>2020-04</th>\n",
       "      <td>Germany</td>\n",
       "      <td>2020</td>\n",
       "      <td>04</td>\n",
       "      <td>43.080800</td>\n",
       "      <td>NaN</td>\n",
       "    </tr>\n",
       "    <tr>\n",
       "      <th>2020-05</th>\n",
       "      <td>Germany</td>\n",
       "      <td>2020</td>\n",
       "      <td>05</td>\n",
       "      <td>9.641290</td>\n",
       "      <td>NaN</td>\n",
       "    </tr>\n",
       "    <tr>\n",
       "      <th>...</th>\n",
       "      <td>...</td>\n",
       "      <td>...</td>\n",
       "      <td>...</td>\n",
       "      <td>...</td>\n",
       "      <td>...</td>\n",
       "    </tr>\n",
       "    <tr>\n",
       "      <th>2022-03</th>\n",
       "      <td>United States</td>\n",
       "      <td>2022</td>\n",
       "      <td>03</td>\n",
       "      <td>107.913871</td>\n",
       "      <td>65.842258</td>\n",
       "    </tr>\n",
       "    <tr>\n",
       "      <th>2022-04</th>\n",
       "      <td>United States</td>\n",
       "      <td>2022</td>\n",
       "      <td>04</td>\n",
       "      <td>116.152833</td>\n",
       "      <td>66.299333</td>\n",
       "    </tr>\n",
       "    <tr>\n",
       "      <th>2022-05</th>\n",
       "      <td>United States</td>\n",
       "      <td>2022</td>\n",
       "      <td>05</td>\n",
       "      <td>266.394645</td>\n",
       "      <td>66.704516</td>\n",
       "    </tr>\n",
       "    <tr>\n",
       "      <th>2022-06</th>\n",
       "      <td>United States</td>\n",
       "      <td>2022</td>\n",
       "      <td>06</td>\n",
       "      <td>314.537467</td>\n",
       "      <td>67.019667</td>\n",
       "    </tr>\n",
       "    <tr>\n",
       "      <th>2022-07</th>\n",
       "      <td>United States</td>\n",
       "      <td>2022</td>\n",
       "      <td>07</td>\n",
       "      <td>364.569742</td>\n",
       "      <td>67.272258</td>\n",
       "    </tr>\n",
       "  </tbody>\n",
       "</table>\n",
       "<p>154 rows × 5 columns</p>\n",
       "</div>"
      ],
      "text/plain": [
       "              location  Year Month  new_cases_smoothed_per_million  \\\n",
       "date                                                                 \n",
       "2020-01        Germany  2020    01                             NaN   \n",
       "2020-02        Germany  2020    02                        0.011621   \n",
       "2020-03        Germany  2020    03                       18.258710   \n",
       "2020-04        Germany  2020    04                       43.080800   \n",
       "2020-05        Germany  2020    05                        9.641290   \n",
       "...                ...   ...   ...                             ...   \n",
       "2022-03  United States  2022    03                      107.913871   \n",
       "2022-04  United States  2022    04                      116.152833   \n",
       "2022-05  United States  2022    05                      266.394645   \n",
       "2022-06  United States  2022    06                      314.537467   \n",
       "2022-07  United States  2022    07                      364.569742   \n",
       "\n",
       "         people_fully_vaccinated_per_hundred  \n",
       "date                                          \n",
       "2020-01                                  NaN  \n",
       "2020-02                                  NaN  \n",
       "2020-03                                  NaN  \n",
       "2020-04                                  NaN  \n",
       "2020-05                                  NaN  \n",
       "...                                      ...  \n",
       "2022-03                            65.842258  \n",
       "2022-04                            66.299333  \n",
       "2022-05                            66.704516  \n",
       "2022-06                            67.019667  \n",
       "2022-07                            67.272258  \n",
       "\n",
       "[154 rows x 5 columns]"
      ]
     },
     "execution_count": 46,
     "metadata": {},
     "output_type": "execute_result"
    }
   ],
   "source": [
    "passenger_filtered_covid_data"
   ]
  },
  {
   "cell_type": "code",
   "execution_count": 54,
   "metadata": {},
   "outputs": [
    {
     "data": {
      "text/html": [
       "<div>\n",
       "<style scoped>\n",
       "    .dataframe tbody tr th:only-of-type {\n",
       "        vertical-align: middle;\n",
       "    }\n",
       "\n",
       "    .dataframe tbody tr th {\n",
       "        vertical-align: top;\n",
       "    }\n",
       "\n",
       "    .dataframe thead th {\n",
       "        text-align: right;\n",
       "    }\n",
       "</style>\n",
       "<table border=\"1\" class=\"dataframe\">\n",
       "  <thead>\n",
       "    <tr style=\"text-align: right;\">\n",
       "      <th></th>\n",
       "      <th>date</th>\n",
       "      <th>location</th>\n",
       "      <th>Year</th>\n",
       "      <th>Month</th>\n",
       "      <th>new_cases_smoothed_per_million</th>\n",
       "      <th>people_fully_vaccinated_per_hundred</th>\n",
       "    </tr>\n",
       "  </thead>\n",
       "  <tbody>\n",
       "    <tr>\n",
       "      <th>0</th>\n",
       "      <td>2020-02</td>\n",
       "      <td>Brazil</td>\n",
       "      <td>2020</td>\n",
       "      <td>02</td>\n",
       "      <td>NaN</td>\n",
       "      <td>NaN</td>\n",
       "    </tr>\n",
       "    <tr>\n",
       "      <th>1</th>\n",
       "      <td>2020-03</td>\n",
       "      <td>Brazil</td>\n",
       "      <td>2020</td>\n",
       "      <td>03</td>\n",
       "      <td>0.608867</td>\n",
       "      <td>NaN</td>\n",
       "    </tr>\n",
       "    <tr>\n",
       "      <th>2</th>\n",
       "      <td>2020-04</td>\n",
       "      <td>Brazil</td>\n",
       "      <td>2020</td>\n",
       "      <td>04</td>\n",
       "      <td>10.144900</td>\n",
       "      <td>NaN</td>\n",
       "    </tr>\n",
       "    <tr>\n",
       "      <th>3</th>\n",
       "      <td>2020-05</td>\n",
       "      <td>Brazil</td>\n",
       "      <td>2020</td>\n",
       "      <td>05</td>\n",
       "      <td>56.735452</td>\n",
       "      <td>NaN</td>\n",
       "    </tr>\n",
       "    <tr>\n",
       "      <th>4</th>\n",
       "      <td>2020-06</td>\n",
       "      <td>Brazil</td>\n",
       "      <td>2020</td>\n",
       "      <td>06</td>\n",
       "      <td>136.699552</td>\n",
       "      <td>NaN</td>\n",
       "    </tr>\n",
       "    <tr>\n",
       "      <th>...</th>\n",
       "      <td>...</td>\n",
       "      <td>...</td>\n",
       "      <td>...</td>\n",
       "      <td>...</td>\n",
       "      <td>...</td>\n",
       "      <td>...</td>\n",
       "    </tr>\n",
       "    <tr>\n",
       "      <th>148</th>\n",
       "      <td>2022-03</td>\n",
       "      <td>United States</td>\n",
       "      <td>2022</td>\n",
       "      <td>03</td>\n",
       "      <td>107.913871</td>\n",
       "      <td>65.842258</td>\n",
       "    </tr>\n",
       "    <tr>\n",
       "      <th>149</th>\n",
       "      <td>2022-04</td>\n",
       "      <td>United States</td>\n",
       "      <td>2022</td>\n",
       "      <td>04</td>\n",
       "      <td>116.152833</td>\n",
       "      <td>66.299333</td>\n",
       "    </tr>\n",
       "    <tr>\n",
       "      <th>150</th>\n",
       "      <td>2022-05</td>\n",
       "      <td>United States</td>\n",
       "      <td>2022</td>\n",
       "      <td>05</td>\n",
       "      <td>266.394645</td>\n",
       "      <td>66.704516</td>\n",
       "    </tr>\n",
       "    <tr>\n",
       "      <th>151</th>\n",
       "      <td>2022-06</td>\n",
       "      <td>United States</td>\n",
       "      <td>2022</td>\n",
       "      <td>06</td>\n",
       "      <td>314.537467</td>\n",
       "      <td>67.019667</td>\n",
       "    </tr>\n",
       "    <tr>\n",
       "      <th>152</th>\n",
       "      <td>2022-07</td>\n",
       "      <td>United States</td>\n",
       "      <td>2022</td>\n",
       "      <td>07</td>\n",
       "      <td>364.569742</td>\n",
       "      <td>67.272258</td>\n",
       "    </tr>\n",
       "  </tbody>\n",
       "</table>\n",
       "<p>153 rows × 6 columns</p>\n",
       "</div>"
      ],
      "text/plain": [
       "        date       location  Year Month  new_cases_smoothed_per_million  \\\n",
       "0    2020-02         Brazil  2020    02                             NaN   \n",
       "1    2020-03         Brazil  2020    03                        0.608867   \n",
       "2    2020-04         Brazil  2020    04                       10.144900   \n",
       "3    2020-05         Brazil  2020    05                       56.735452   \n",
       "4    2020-06         Brazil  2020    06                      136.699552   \n",
       "..       ...            ...   ...   ...                             ...   \n",
       "148  2022-03  United States  2022    03                      107.913871   \n",
       "149  2022-04  United States  2022    04                      116.152833   \n",
       "150  2022-05  United States  2022    05                      266.394645   \n",
       "151  2022-06  United States  2022    06                      314.537467   \n",
       "152  2022-07  United States  2022    07                      364.569742   \n",
       "\n",
       "     people_fully_vaccinated_per_hundred  \n",
       "0                                    NaN  \n",
       "1                                    NaN  \n",
       "2                                    NaN  \n",
       "3                                    NaN  \n",
       "4                                    NaN  \n",
       "..                                   ...  \n",
       "148                            65.842258  \n",
       "149                            66.299333  \n",
       "150                            66.704516  \n",
       "151                            67.019667  \n",
       "152                            67.272258  \n",
       "\n",
       "[153 rows x 6 columns]"
      ]
     },
     "execution_count": 54,
     "metadata": {},
     "output_type": "execute_result"
    }
   ],
   "source": [
    "passenger_filtered_covid_data.set_index('date', inplace = True)\n",
    "passenger_filtered_covid_data = passenger_filtered_covid_data.drop(['2022-08','2022-09','2022-10'])\n",
    "passenger_filtered_covid_data = passenger_filtered_covid_data.reset_index()\n",
    "cargo_filtered_covid_data.set_index('date', inplace = True)\n",
    "cargo_filtered_covid_data = cargo_filtered_covid_data.drop(['2022-08','2022-09','2022-10'])\n",
    "cargo_filtered_covid_data = cargo_filtered_covid_data.reset_index()\n",
    "cargo_filtered_covid_data"
   ]
  },
  {
   "cell_type": "code",
   "execution_count": 56,
   "metadata": {},
   "outputs": [
    {
     "data": {
      "text/html": [
       "<div>\n",
       "<style scoped>\n",
       "    .dataframe tbody tr th:only-of-type {\n",
       "        vertical-align: middle;\n",
       "    }\n",
       "\n",
       "    .dataframe tbody tr th {\n",
       "        vertical-align: top;\n",
       "    }\n",
       "\n",
       "    .dataframe thead th {\n",
       "        text-align: right;\n",
       "    }\n",
       "</style>\n",
       "<table border=\"1\" class=\"dataframe\">\n",
       "  <thead>\n",
       "    <tr style=\"text-align: right;\">\n",
       "      <th></th>\n",
       "      <th>date</th>\n",
       "      <th>location</th>\n",
       "      <th>Year</th>\n",
       "      <th>Month_x</th>\n",
       "      <th>new_cases_smoothed_per_million</th>\n",
       "      <th>people_fully_vaccinated_per_hundred</th>\n",
       "      <th>airp_country_2</th>\n",
       "      <th>TIME_PERIOD</th>\n",
       "      <th>Month_y</th>\n",
       "      <th>OBS_VALUE</th>\n",
       "      <th>OBS_FLAG</th>\n",
       "      <th>iso_3_country</th>\n",
       "      <th>country_2_name</th>\n",
       "    </tr>\n",
       "  </thead>\n",
       "  <tbody>\n",
       "    <tr>\n",
       "      <th>0</th>\n",
       "      <td>2020-02</td>\n",
       "      <td>Brazil</td>\n",
       "      <td>2020</td>\n",
       "      <td>02</td>\n",
       "      <td>NaN</td>\n",
       "      <td>NaN</td>\n",
       "      <td>BR</td>\n",
       "      <td>2020-02</td>\n",
       "      <td>02</td>\n",
       "      <td>6228.1</td>\n",
       "      <td>0.0</td>\n",
       "      <td>BRA</td>\n",
       "      <td>Brazil</td>\n",
       "    </tr>\n",
       "    <tr>\n",
       "      <th>1</th>\n",
       "      <td>2020-03</td>\n",
       "      <td>Brazil</td>\n",
       "      <td>2020</td>\n",
       "      <td>03</td>\n",
       "      <td>0.608867</td>\n",
       "      <td>NaN</td>\n",
       "      <td>BR</td>\n",
       "      <td>2020-03</td>\n",
       "      <td>03</td>\n",
       "      <td>5274.1</td>\n",
       "      <td>0.0</td>\n",
       "      <td>BRA</td>\n",
       "      <td>Brazil</td>\n",
       "    </tr>\n",
       "    <tr>\n",
       "      <th>2</th>\n",
       "      <td>2020-04</td>\n",
       "      <td>Brazil</td>\n",
       "      <td>2020</td>\n",
       "      <td>04</td>\n",
       "      <td>10.144900</td>\n",
       "      <td>NaN</td>\n",
       "      <td>BR</td>\n",
       "      <td>2020-04</td>\n",
       "      <td>04</td>\n",
       "      <td>4406.7</td>\n",
       "      <td>0.0</td>\n",
       "      <td>BRA</td>\n",
       "      <td>Brazil</td>\n",
       "    </tr>\n",
       "    <tr>\n",
       "      <th>3</th>\n",
       "      <td>2020-05</td>\n",
       "      <td>Brazil</td>\n",
       "      <td>2020</td>\n",
       "      <td>05</td>\n",
       "      <td>56.735452</td>\n",
       "      <td>NaN</td>\n",
       "      <td>BR</td>\n",
       "      <td>2020-05</td>\n",
       "      <td>05</td>\n",
       "      <td>5642.5</td>\n",
       "      <td>0.0</td>\n",
       "      <td>BRA</td>\n",
       "      <td>Brazil</td>\n",
       "    </tr>\n",
       "    <tr>\n",
       "      <th>4</th>\n",
       "      <td>2020-06</td>\n",
       "      <td>Brazil</td>\n",
       "      <td>2020</td>\n",
       "      <td>06</td>\n",
       "      <td>136.699552</td>\n",
       "      <td>NaN</td>\n",
       "      <td>BR</td>\n",
       "      <td>2020-06</td>\n",
       "      <td>06</td>\n",
       "      <td>5448.5</td>\n",
       "      <td>0.0</td>\n",
       "      <td>BRA</td>\n",
       "      <td>Brazil</td>\n",
       "    </tr>\n",
       "    <tr>\n",
       "      <th>...</th>\n",
       "      <td>...</td>\n",
       "      <td>...</td>\n",
       "      <td>...</td>\n",
       "      <td>...</td>\n",
       "      <td>...</td>\n",
       "      <td>...</td>\n",
       "      <td>...</td>\n",
       "      <td>...</td>\n",
       "      <td>...</td>\n",
       "      <td>...</td>\n",
       "      <td>...</td>\n",
       "      <td>...</td>\n",
       "      <td>...</td>\n",
       "    </tr>\n",
       "    <tr>\n",
       "      <th>148</th>\n",
       "      <td>2022-03</td>\n",
       "      <td>United States</td>\n",
       "      <td>2022</td>\n",
       "      <td>03</td>\n",
       "      <td>107.913871</td>\n",
       "      <td>65.842258</td>\n",
       "      <td>US</td>\n",
       "      <td>2022-03</td>\n",
       "      <td>03</td>\n",
       "      <td>24360.1</td>\n",
       "      <td>0.0</td>\n",
       "      <td>USA</td>\n",
       "      <td>United States</td>\n",
       "    </tr>\n",
       "    <tr>\n",
       "      <th>149</th>\n",
       "      <td>2022-04</td>\n",
       "      <td>United States</td>\n",
       "      <td>2022</td>\n",
       "      <td>04</td>\n",
       "      <td>116.152833</td>\n",
       "      <td>66.299333</td>\n",
       "      <td>US</td>\n",
       "      <td>2022-04</td>\n",
       "      <td>04</td>\n",
       "      <td>22112.1</td>\n",
       "      <td>0.0</td>\n",
       "      <td>USA</td>\n",
       "      <td>United States</td>\n",
       "    </tr>\n",
       "    <tr>\n",
       "      <th>150</th>\n",
       "      <td>2022-05</td>\n",
       "      <td>United States</td>\n",
       "      <td>2022</td>\n",
       "      <td>05</td>\n",
       "      <td>266.394645</td>\n",
       "      <td>66.704516</td>\n",
       "      <td>US</td>\n",
       "      <td>2022-05</td>\n",
       "      <td>05</td>\n",
       "      <td>21808.0</td>\n",
       "      <td>0.0</td>\n",
       "      <td>USA</td>\n",
       "      <td>United States</td>\n",
       "    </tr>\n",
       "    <tr>\n",
       "      <th>151</th>\n",
       "      <td>2022-06</td>\n",
       "      <td>United States</td>\n",
       "      <td>2022</td>\n",
       "      <td>06</td>\n",
       "      <td>314.537467</td>\n",
       "      <td>67.019667</td>\n",
       "      <td>US</td>\n",
       "      <td>2022-06</td>\n",
       "      <td>06</td>\n",
       "      <td>19877.1</td>\n",
       "      <td>0.0</td>\n",
       "      <td>USA</td>\n",
       "      <td>United States</td>\n",
       "    </tr>\n",
       "    <tr>\n",
       "      <th>152</th>\n",
       "      <td>2022-07</td>\n",
       "      <td>United States</td>\n",
       "      <td>2022</td>\n",
       "      <td>07</td>\n",
       "      <td>364.569742</td>\n",
       "      <td>67.272258</td>\n",
       "      <td>US</td>\n",
       "      <td>2022-07</td>\n",
       "      <td>07</td>\n",
       "      <td>20399.8</td>\n",
       "      <td>0.0</td>\n",
       "      <td>USA</td>\n",
       "      <td>United States</td>\n",
       "    </tr>\n",
       "  </tbody>\n",
       "</table>\n",
       "<p>153 rows × 13 columns</p>\n",
       "</div>"
      ],
      "text/plain": [
       "        date       location  Year Month_x  new_cases_smoothed_per_million  \\\n",
       "0    2020-02         Brazil  2020      02                             NaN   \n",
       "1    2020-03         Brazil  2020      03                        0.608867   \n",
       "2    2020-04         Brazil  2020      04                       10.144900   \n",
       "3    2020-05         Brazil  2020      05                       56.735452   \n",
       "4    2020-06         Brazil  2020      06                      136.699552   \n",
       "..       ...            ...   ...     ...                             ...   \n",
       "148  2022-03  United States  2022      03                      107.913871   \n",
       "149  2022-04  United States  2022      04                      116.152833   \n",
       "150  2022-05  United States  2022      05                      266.394645   \n",
       "151  2022-06  United States  2022      06                      314.537467   \n",
       "152  2022-07  United States  2022      07                      364.569742   \n",
       "\n",
       "     people_fully_vaccinated_per_hundred airp_country_2 TIME_PERIOD Month_y  \\\n",
       "0                                    NaN             BR     2020-02      02   \n",
       "1                                    NaN             BR     2020-03      03   \n",
       "2                                    NaN             BR     2020-04      04   \n",
       "3                                    NaN             BR     2020-05      05   \n",
       "4                                    NaN             BR     2020-06      06   \n",
       "..                                   ...            ...         ...     ...   \n",
       "148                            65.842258             US     2022-03      03   \n",
       "149                            66.299333             US     2022-04      04   \n",
       "150                            66.704516             US     2022-05      05   \n",
       "151                            67.019667             US     2022-06      06   \n",
       "152                            67.272258             US     2022-07      07   \n",
       "\n",
       "     OBS_VALUE  OBS_FLAG iso_3_country country_2_name  \n",
       "0       6228.1       0.0           BRA         Brazil  \n",
       "1       5274.1       0.0           BRA         Brazil  \n",
       "2       4406.7       0.0           BRA         Brazil  \n",
       "3       5642.5       0.0           BRA         Brazil  \n",
       "4       5448.5       0.0           BRA         Brazil  \n",
       "..         ...       ...           ...            ...  \n",
       "148    24360.1       0.0           USA  United States  \n",
       "149    22112.1       0.0           USA  United States  \n",
       "150    21808.0       0.0           USA  United States  \n",
       "151    19877.1       0.0           USA  United States  \n",
       "152    20399.8       0.0           USA  United States  \n",
       "\n",
       "[153 rows x 13 columns]"
      ]
     },
     "execution_count": 56,
     "metadata": {},
     "output_type": "execute_result"
    }
   ],
   "source": [
    "merged_passengers = pd.merge(passenger_filtered_covid_data,passengers_pre_merge, left_on=('location','date'),right_on=('country_2_name','TIME_PERIOD'))\n",
    "merged_cargo = pd.merge(cargo_filtered_covid_data,cargo_pre_merge, left_on=('location','date'),right_on=('country_2_name','TIME_PERIOD'))\n",
    "merged_cargo"
   ]
  },
  {
   "cell_type": "code",
   "execution_count": 57,
   "metadata": {},
   "outputs": [
    {
     "data": {
      "application/vnd.plotly.v1+json": {
       "config": {
        "plotlyServerURL": "https://plot.ly"
       },
       "data": [
        {
         "hovertemplate": "airp_country_2=BR<br>variable=new_cases_smoothed_per_million<br>TIME_PERIOD=%{x}<br>value=%{y}<extra></extra>",
         "legendgroup": "BR",
         "line": {
          "color": "#636efa",
          "dash": "solid"
         },
         "marker": {
          "symbol": "circle"
         },
         "mode": "lines",
         "name": "BR",
         "orientation": "v",
         "showlegend": true,
         "type": "scatter",
         "x": [
          "2020-02",
          "2020-03",
          "2020-04",
          "2020-05",
          "2020-06",
          "2020-07",
          "2020-08",
          "2020-09",
          "2020-10",
          "2020-11",
          "2020-12",
          "2021-01",
          "2021-02",
          "2021-03",
          "2021-04",
          "2021-05",
          "2021-06",
          "2021-07",
          "2021-08",
          "2021-09",
          "2021-10",
          "2021-11",
          "2021-12",
          "2022-01",
          "2022-02",
          "2022-03",
          "2022-04",
          "2022-05",
          "2022-06",
          "2022-07"
         ],
         "xaxis": "x",
         "y": [
          null,
          0.6088666666666666,
          10.1449,
          56.735451612903226,
          136.69955172413793,
          181.71745161290323,
          193.40212903225807,
          145.6088,
          110.1686129032258,
          120.4336,
          195.40806451612903,
          228.20158064516127,
          222.4900357142857,
          323.864,
          299.7527,
          290.0178387096774,
          314.4952,
          207.88935483870966,
          138.54190322580646,
          83.29475862068965,
          60.05109677419355,
          45.937400000000004,
          27.733290322580643,
          408.30164516129037,
          609.9781428571429,
          186.38645161290324,
          81.4719,
          80.971,
          187.14753333333334,
          240.85051612903226
         ],
         "yaxis": "y"
        },
        {
         "hovertemplate": "airp_country_2=BR<br>variable=OBS_VALUE<br>TIME_PERIOD=%{x}<br>value=%{y}<extra></extra>",
         "legendgroup": "BR",
         "line": {
          "color": "#636efa",
          "dash": "solid"
         },
         "marker": {
          "symbol": "circle"
         },
         "mode": "lines",
         "name": "BR",
         "orientation": "v",
         "showlegend": false,
         "type": "scatter",
         "x": [
          "2020-02",
          "2020-03",
          "2020-04",
          "2020-05",
          "2020-06",
          "2020-07",
          "2020-08",
          "2020-09",
          "2020-10",
          "2020-11",
          "2020-12",
          "2021-01",
          "2021-02",
          "2021-03",
          "2021-04",
          "2021-05",
          "2021-06",
          "2021-07",
          "2021-08",
          "2021-09",
          "2021-10",
          "2021-11",
          "2021-12",
          "2022-01",
          "2022-02",
          "2022-03",
          "2022-04",
          "2022-05",
          "2022-06",
          "2022-07"
         ],
         "xaxis": "x",
         "y": [
          6228.1,
          5274.1,
          4406.7,
          5642.5,
          5448.5,
          5980.400000000001,
          6129.1,
          6369.7,
          6869.2,
          6207.799999999999,
          5924.9,
          5158.700000000001,
          5640.5,
          6678.1,
          6196.4,
          5438.6,
          4911.4,
          5790.3,
          5605.4,
          5465,
          5800,
          5230.7,
          5283.7,
          3918.5,
          4485.9,
          4967.1,
          4370.7,
          5026.2,
          4499.9,
          4524.4
         ],
         "yaxis": "y"
        },
        {
         "hovertemplate": "airp_country_2=CN<br>variable=new_cases_smoothed_per_million<br>TIME_PERIOD=%{x}<br>value=%{y}<extra></extra>",
         "legendgroup": "CN",
         "line": {
          "color": "#EF553B",
          "dash": "solid"
         },
         "marker": {
          "symbol": "circle"
         },
         "mode": "lines",
         "name": "CN",
         "orientation": "v",
         "showlegend": true,
         "type": "scatter",
         "x": [
          "2020-01",
          "2020-02",
          "2020-03",
          "2020-04",
          "2020-05",
          "2020-06",
          "2020-07",
          "2020-08",
          "2020-09",
          "2020-10",
          "2020-11",
          "2020-12",
          "2021-01",
          "2021-02",
          "2021-03",
          "2021-04",
          "2021-05",
          "2021-06",
          "2021-07",
          "2021-08",
          "2021-09",
          "2021-10",
          "2021-11",
          "2021-12",
          "2022-01",
          "2022-02",
          "2022-03",
          "2022-04",
          "2022-05",
          "2022-06",
          "2022-07"
         ],
         "xaxis": "x",
         "y": [
          0.6717500000000001,
          1.764,
          0.08041935483870967,
          0.09386666666666667,
          0.017458333333333333,
          0.016166666666666666,
          0.020935483870967744,
          0.03283870967741936,
          0.021366666666666666,
          0.029225806451612903,
          0.0288,
          0.017225806451612903,
          0.08019354838709676,
          0.019035714285714288,
          0.014387096774193548,
          0.020066666666666667,
          0.020741935483870967,
          0.028266666666666666,
          0.03512903225806451,
          0.058741935483870966,
          0.038599999999999995,
          0.03158064516129032,
          0.05146666666666667,
          0.07993548387096774,
          0.11958064516129031,
          0.10189285714285715,
          1.8674516129032257,
          13.325600000000001,
          2.4163548387096774,
          0.12010000000000001,
          0.36593548387096775
         ],
         "yaxis": "y"
        },
        {
         "hovertemplate": "airp_country_2=CN<br>variable=OBS_VALUE<br>TIME_PERIOD=%{x}<br>value=%{y}<extra></extra>",
         "legendgroup": "CN",
         "line": {
          "color": "#EF553B",
          "dash": "solid"
         },
         "marker": {
          "symbol": "circle"
         },
         "mode": "lines",
         "name": "CN",
         "orientation": "v",
         "showlegend": false,
         "type": "scatter",
         "x": [
          "2020-01",
          "2020-02",
          "2020-03",
          "2020-04",
          "2020-05",
          "2020-06",
          "2020-07",
          "2020-08",
          "2020-09",
          "2020-10",
          "2020-11",
          "2020-12",
          "2021-01",
          "2021-02",
          "2021-03",
          "2021-04",
          "2021-05",
          "2021-06",
          "2021-07",
          "2021-08",
          "2021-09",
          "2021-10",
          "2021-11",
          "2021-12",
          "2022-01",
          "2022-02",
          "2022-03",
          "2022-04",
          "2022-05",
          "2022-06",
          "2022-07"
         ],
         "xaxis": "x",
         "y": [
          22326.800000000003,
          15923.599999999999,
          24860.300000000003,
          21470.5,
          25916.3,
          25626.7,
          24480.999999999996,
          23980.7,
          24763.7,
          27140.4,
          29747.2,
          24644.6,
          26752.499999999996,
          22362.5,
          28878.4,
          25131.9,
          27573.300000000003,
          26004.2,
          21366.8,
          21258.9,
          18972.899999999998,
          24968.1,
          26453,
          28369.399999999998,
          28246.600000000002,
          24993.6,
          25364.4,
          21353.9,
          23348.2,
          22974.7,
          23503.5
         ],
         "yaxis": "y"
        },
        {
         "hovertemplate": "airp_country_2=QA<br>variable=new_cases_smoothed_per_million<br>TIME_PERIOD=%{x}<br>value=%{y}<extra></extra>",
         "legendgroup": "QA",
         "line": {
          "color": "#00cc96",
          "dash": "solid"
         },
         "marker": {
          "symbol": "circle"
         },
         "mode": "lines",
         "name": "QA",
         "orientation": "v",
         "showlegend": true,
         "type": "scatter",
         "x": [
          "2020-02",
          "2020-03",
          "2020-04",
          "2020-05",
          "2020-06",
          "2020-07",
          "2020-08",
          "2020-09",
          "2020-10",
          "2020-11",
          "2020-12",
          "2021-01",
          "2021-02",
          "2021-03",
          "2021-04",
          "2021-05",
          "2021-06",
          "2021-07",
          "2021-08",
          "2021-09",
          "2021-10",
          "2021-11",
          "2021-12",
          "2022-01",
          "2022-02",
          "2022-03",
          "2022-04",
          "2022-05",
          "2022-06",
          "2022-07"
         ],
         "xaxis": "x",
         "y": [
          null,
          8.510518518518518,
          129.24396666666667,
          480.509935483871,
          526.2047,
          196.20574193548387,
          99.52570967741936,
          85.78643333333333,
          81.7111935483871,
          78.8054,
          60.06196774193548,
          84.4094193548387,
          159.15528571428572,
          186.95393548387096,
          319.12600000000003,
          158.85574193548388,
          60.53536666666666,
          48.178838709677414,
          77.41358064516129,
          52.25596666666667,
          30.676354838709678,
          50.03276666666667,
          71.69312903225807,
          1023.4319677419355,
          289.5269642857143,
          59.68664516129032,
          42.283033333333336,
          44.747032258064515,
          154.68643333333333,
          305.8454516129033
         ],
         "yaxis": "y"
        },
        {
         "hovertemplate": "airp_country_2=QA<br>variable=OBS_VALUE<br>TIME_PERIOD=%{x}<br>value=%{y}<extra></extra>",
         "legendgroup": "QA",
         "line": {
          "color": "#00cc96",
          "dash": "solid"
         },
         "marker": {
          "symbol": "circle"
         },
         "mode": "lines",
         "name": "QA",
         "orientation": "v",
         "showlegend": false,
         "type": "scatter",
         "x": [
          "2020-02",
          "2020-03",
          "2020-04",
          "2020-05",
          "2020-06",
          "2020-07",
          "2020-08",
          "2020-09",
          "2020-10",
          "2020-11",
          "2020-12",
          "2021-01",
          "2021-02",
          "2021-03",
          "2021-04",
          "2021-05",
          "2021-06",
          "2021-07",
          "2021-08",
          "2021-09",
          "2021-10",
          "2021-11",
          "2021-12",
          "2022-01",
          "2022-02",
          "2022-03",
          "2022-04",
          "2022-05",
          "2022-06",
          "2022-07"
         ],
         "xaxis": "x",
         "y": [
          4933.4,
          6578.1,
          6292.8,
          5417,
          5151.2,
          5496.4,
          5578.7,
          5241.8,
          5683.2,
          5328.1,
          5412.6,
          5624.7,
          5536.7,
          5731.2,
          5551.8,
          5644.9,
          5652.7,
          5489.6,
          5506,
          5704.5,
          5786.4,
          5782.4,
          5659.3,
          5156.6,
          5008.3,
          5833.2,
          5296.8,
          5598.5,
          5640.6,
          5661.5
         ],
         "yaxis": "y"
        },
        {
         "hovertemplate": "airp_country_2=AE<br>variable=new_cases_smoothed_per_million<br>TIME_PERIOD=%{x}<br>value=%{y}<extra></extra>",
         "legendgroup": "AE",
         "line": {
          "color": "#ab63fa",
          "dash": "solid"
         },
         "marker": {
          "symbol": "circle"
         },
         "mode": "lines",
         "name": "AE",
         "orientation": "v",
         "showlegend": true,
         "type": "scatter",
         "x": [
          "2020-01",
          "2020-02",
          "2020-03",
          "2020-04",
          "2020-05",
          "2020-06",
          "2020-07",
          "2020-08",
          "2020-09",
          "2020-10",
          "2020-11",
          "2020-12",
          "2021-01",
          "2021-02",
          "2021-03",
          "2021-04",
          "2021-05",
          "2021-06",
          "2021-07",
          "2021-08",
          "2021-09",
          "2021-10",
          "2021-11",
          "2021-12",
          "2022-01",
          "2022-02",
          "2022-03",
          "2022-04",
          "2022-05",
          "2022-06",
          "2022-07"
         ],
         "xaxis": "x",
         "y": [
          null,
          0.04744444444444444,
          1.6134516129032257,
          36.95973333333333,
          74.52132258064516,
          52.99376666666667,
          41.879451612903225,
          32.20787096774193,
          79.94800000000001,
          129.38661290322582,
          129.09113333333332,
          131.47087096774192,
          308.31854838709677,
          339.6914285714286,
          251.89045161290323,
          211.5275,
          174.50090322580647,
          219.3834,
          170.32567741935486,
          134.80329032258064,
          70.36886666666666,
          15.458774193548386,
          7.8351,
          46.49351612903226,
          285.22819354838714,
          152.00742857142856,
          42.63580645161291,
          26.436500000000002,
          31.745451612903228,
          119.21823333333333,
          163.37029032258064
         ],
         "yaxis": "y"
        },
        {
         "hovertemplate": "airp_country_2=AE<br>variable=OBS_VALUE<br>TIME_PERIOD=%{x}<br>value=%{y}<extra></extra>",
         "legendgroup": "AE",
         "line": {
          "color": "#ab63fa",
          "dash": "solid"
         },
         "marker": {
          "symbol": "circle"
         },
         "mode": "lines",
         "name": "AE",
         "orientation": "v",
         "showlegend": false,
         "type": "scatter",
         "x": [
          "2020-01",
          "2020-02",
          "2020-03",
          "2020-04",
          "2020-05",
          "2020-06",
          "2020-07",
          "2020-08",
          "2020-09",
          "2020-10",
          "2020-11",
          "2020-12",
          "2021-01",
          "2021-02",
          "2021-03",
          "2021-04",
          "2021-05",
          "2021-06",
          "2021-07",
          "2021-08",
          "2021-09",
          "2021-10",
          "2021-11",
          "2021-12",
          "2022-01",
          "2022-02",
          "2022-03",
          "2022-04",
          "2022-05",
          "2022-06",
          "2022-07"
         ],
         "xaxis": "x",
         "y": [
          6371.2,
          7439.3,
          8515,
          8411.8,
          9822.9,
          9141.2,
          10471.7,
          10379.099999999999,
          11398.9,
          11287.8,
          11602.3,
          11239.2,
          11030.8,
          9387,
          12616.2,
          11642.599999999999,
          12577.2,
          11990.3,
          10290.2,
          11051.599999999999,
          12007.6,
          13017.8,
          11542.4,
          12634,
          11719.5,
          10000,
          12642.4,
          10299.8,
          10402.2,
          10635.5,
          11981.9
         ],
         "yaxis": "y"
        },
        {
         "hovertemplate": "airp_country_2=US<br>variable=new_cases_smoothed_per_million<br>TIME_PERIOD=%{x}<br>value=%{y}<extra></extra>",
         "legendgroup": "US",
         "line": {
          "color": "#FFA15A",
          "dash": "solid"
         },
         "marker": {
          "symbol": "circle"
         },
         "mode": "lines",
         "name": "US",
         "orientation": "v",
         "showlegend": true,
         "type": "scatter",
         "x": [
          "2020-01",
          "2020-02",
          "2020-03",
          "2020-04",
          "2020-05",
          "2020-06",
          "2020-07",
          "2020-08",
          "2020-09",
          "2020-10",
          "2020-11",
          "2020-12",
          "2021-01",
          "2021-02",
          "2021-03",
          "2021-04",
          "2021-05",
          "2021-06",
          "2021-07",
          "2021-08",
          "2021-09",
          "2021-10",
          "2021-11",
          "2021-12",
          "2022-01",
          "2022-02",
          "2022-03",
          "2022-04",
          "2022-05",
          "2022-06",
          "2022-07"
         ],
         "xaxis": "x",
         "y": [
          0.0022500000000000003,
          0.0013448275862068967,
          12.161838709677419,
          86.36143333333332,
          69.60987096774194,
          77.87033333333333,
          176.2104193548387,
          150.68893548387098,
          118.60713333333334,
          170.34103225806453,
          423.25609999999995,
          607.4164193548387,
          611.8102258064515,
          279.73728571428575,
          174.89612903225805,
          189.65356666666668,
          99.76161290322581,
          39.5641,
          103.57032258064515,
          391.45390322580647,
          423.7932666666667,
          255.65367741935484,
          241.44696666666667,
          488.65754838709677,
          1975.1914516129032,
          525.9835714285714,
          107.91387096774193,
          116.15283333333333,
          266.3946451612903,
          314.53746666666666,
          364.5697419354839
         ],
         "yaxis": "y"
        },
        {
         "hovertemplate": "airp_country_2=US<br>variable=OBS_VALUE<br>TIME_PERIOD=%{x}<br>value=%{y}<extra></extra>",
         "legendgroup": "US",
         "line": {
          "color": "#FFA15A",
          "dash": "solid"
         },
         "marker": {
          "symbol": "circle"
         },
         "mode": "lines",
         "name": "US",
         "orientation": "v",
         "showlegend": false,
         "type": "scatter",
         "x": [
          "2020-01",
          "2020-02",
          "2020-03",
          "2020-04",
          "2020-05",
          "2020-06",
          "2020-07",
          "2020-08",
          "2020-09",
          "2020-10",
          "2020-11",
          "2020-12",
          "2021-01",
          "2021-02",
          "2021-03",
          "2021-04",
          "2021-05",
          "2021-06",
          "2021-07",
          "2021-08",
          "2021-09",
          "2021-10",
          "2021-11",
          "2021-12",
          "2022-01",
          "2022-02",
          "2022-03",
          "2022-04",
          "2022-05",
          "2022-06",
          "2022-07"
         ],
         "xaxis": "x",
         "y": [
          16389.4,
          18023.6,
          17364.7,
          17525.5,
          17209.2,
          18275.1,
          20225.8,
          20405.7,
          20335,
          24191,
          23978.600000000002,
          21680.100000000002,
          22045.2,
          22374.5,
          26512.2,
          24761.800000000003,
          26282.2,
          22565.9,
          22788.5,
          21896.2,
          22962.3,
          25370.4,
          23904.4,
          20934.5,
          17893,
          21445.9,
          24360.1,
          22112.100000000002,
          21808,
          19877.1,
          20399.8
         ],
         "yaxis": "y"
        }
       ],
       "layout": {
        "legend": {
         "title": {
          "text": "airp_country_2"
         },
         "tracegroupgap": 0
        },
        "margin": {
         "t": 60
        },
        "template": {
         "data": {
          "bar": [
           {
            "error_x": {
             "color": "#2a3f5f"
            },
            "error_y": {
             "color": "#2a3f5f"
            },
            "marker": {
             "line": {
              "color": "#E5ECF6",
              "width": 0.5
             },
             "pattern": {
              "fillmode": "overlay",
              "size": 10,
              "solidity": 0.2
             }
            },
            "type": "bar"
           }
          ],
          "barpolar": [
           {
            "marker": {
             "line": {
              "color": "#E5ECF6",
              "width": 0.5
             },
             "pattern": {
              "fillmode": "overlay",
              "size": 10,
              "solidity": 0.2
             }
            },
            "type": "barpolar"
           }
          ],
          "carpet": [
           {
            "aaxis": {
             "endlinecolor": "#2a3f5f",
             "gridcolor": "white",
             "linecolor": "white",
             "minorgridcolor": "white",
             "startlinecolor": "#2a3f5f"
            },
            "baxis": {
             "endlinecolor": "#2a3f5f",
             "gridcolor": "white",
             "linecolor": "white",
             "minorgridcolor": "white",
             "startlinecolor": "#2a3f5f"
            },
            "type": "carpet"
           }
          ],
          "choropleth": [
           {
            "colorbar": {
             "outlinewidth": 0,
             "ticks": ""
            },
            "type": "choropleth"
           }
          ],
          "contour": [
           {
            "colorbar": {
             "outlinewidth": 0,
             "ticks": ""
            },
            "colorscale": [
             [
              0,
              "#0d0887"
             ],
             [
              0.1111111111111111,
              "#46039f"
             ],
             [
              0.2222222222222222,
              "#7201a8"
             ],
             [
              0.3333333333333333,
              "#9c179e"
             ],
             [
              0.4444444444444444,
              "#bd3786"
             ],
             [
              0.5555555555555556,
              "#d8576b"
             ],
             [
              0.6666666666666666,
              "#ed7953"
             ],
             [
              0.7777777777777778,
              "#fb9f3a"
             ],
             [
              0.8888888888888888,
              "#fdca26"
             ],
             [
              1,
              "#f0f921"
             ]
            ],
            "type": "contour"
           }
          ],
          "contourcarpet": [
           {
            "colorbar": {
             "outlinewidth": 0,
             "ticks": ""
            },
            "type": "contourcarpet"
           }
          ],
          "heatmap": [
           {
            "colorbar": {
             "outlinewidth": 0,
             "ticks": ""
            },
            "colorscale": [
             [
              0,
              "#0d0887"
             ],
             [
              0.1111111111111111,
              "#46039f"
             ],
             [
              0.2222222222222222,
              "#7201a8"
             ],
             [
              0.3333333333333333,
              "#9c179e"
             ],
             [
              0.4444444444444444,
              "#bd3786"
             ],
             [
              0.5555555555555556,
              "#d8576b"
             ],
             [
              0.6666666666666666,
              "#ed7953"
             ],
             [
              0.7777777777777778,
              "#fb9f3a"
             ],
             [
              0.8888888888888888,
              "#fdca26"
             ],
             [
              1,
              "#f0f921"
             ]
            ],
            "type": "heatmap"
           }
          ],
          "heatmapgl": [
           {
            "colorbar": {
             "outlinewidth": 0,
             "ticks": ""
            },
            "colorscale": [
             [
              0,
              "#0d0887"
             ],
             [
              0.1111111111111111,
              "#46039f"
             ],
             [
              0.2222222222222222,
              "#7201a8"
             ],
             [
              0.3333333333333333,
              "#9c179e"
             ],
             [
              0.4444444444444444,
              "#bd3786"
             ],
             [
              0.5555555555555556,
              "#d8576b"
             ],
             [
              0.6666666666666666,
              "#ed7953"
             ],
             [
              0.7777777777777778,
              "#fb9f3a"
             ],
             [
              0.8888888888888888,
              "#fdca26"
             ],
             [
              1,
              "#f0f921"
             ]
            ],
            "type": "heatmapgl"
           }
          ],
          "histogram": [
           {
            "marker": {
             "pattern": {
              "fillmode": "overlay",
              "size": 10,
              "solidity": 0.2
             }
            },
            "type": "histogram"
           }
          ],
          "histogram2d": [
           {
            "colorbar": {
             "outlinewidth": 0,
             "ticks": ""
            },
            "colorscale": [
             [
              0,
              "#0d0887"
             ],
             [
              0.1111111111111111,
              "#46039f"
             ],
             [
              0.2222222222222222,
              "#7201a8"
             ],
             [
              0.3333333333333333,
              "#9c179e"
             ],
             [
              0.4444444444444444,
              "#bd3786"
             ],
             [
              0.5555555555555556,
              "#d8576b"
             ],
             [
              0.6666666666666666,
              "#ed7953"
             ],
             [
              0.7777777777777778,
              "#fb9f3a"
             ],
             [
              0.8888888888888888,
              "#fdca26"
             ],
             [
              1,
              "#f0f921"
             ]
            ],
            "type": "histogram2d"
           }
          ],
          "histogram2dcontour": [
           {
            "colorbar": {
             "outlinewidth": 0,
             "ticks": ""
            },
            "colorscale": [
             [
              0,
              "#0d0887"
             ],
             [
              0.1111111111111111,
              "#46039f"
             ],
             [
              0.2222222222222222,
              "#7201a8"
             ],
             [
              0.3333333333333333,
              "#9c179e"
             ],
             [
              0.4444444444444444,
              "#bd3786"
             ],
             [
              0.5555555555555556,
              "#d8576b"
             ],
             [
              0.6666666666666666,
              "#ed7953"
             ],
             [
              0.7777777777777778,
              "#fb9f3a"
             ],
             [
              0.8888888888888888,
              "#fdca26"
             ],
             [
              1,
              "#f0f921"
             ]
            ],
            "type": "histogram2dcontour"
           }
          ],
          "mesh3d": [
           {
            "colorbar": {
             "outlinewidth": 0,
             "ticks": ""
            },
            "type": "mesh3d"
           }
          ],
          "parcoords": [
           {
            "line": {
             "colorbar": {
              "outlinewidth": 0,
              "ticks": ""
             }
            },
            "type": "parcoords"
           }
          ],
          "pie": [
           {
            "automargin": true,
            "type": "pie"
           }
          ],
          "scatter": [
           {
            "fillpattern": {
             "fillmode": "overlay",
             "size": 10,
             "solidity": 0.2
            },
            "type": "scatter"
           }
          ],
          "scatter3d": [
           {
            "line": {
             "colorbar": {
              "outlinewidth": 0,
              "ticks": ""
             }
            },
            "marker": {
             "colorbar": {
              "outlinewidth": 0,
              "ticks": ""
             }
            },
            "type": "scatter3d"
           }
          ],
          "scattercarpet": [
           {
            "marker": {
             "colorbar": {
              "outlinewidth": 0,
              "ticks": ""
             }
            },
            "type": "scattercarpet"
           }
          ],
          "scattergeo": [
           {
            "marker": {
             "colorbar": {
              "outlinewidth": 0,
              "ticks": ""
             }
            },
            "type": "scattergeo"
           }
          ],
          "scattergl": [
           {
            "marker": {
             "colorbar": {
              "outlinewidth": 0,
              "ticks": ""
             }
            },
            "type": "scattergl"
           }
          ],
          "scattermapbox": [
           {
            "marker": {
             "colorbar": {
              "outlinewidth": 0,
              "ticks": ""
             }
            },
            "type": "scattermapbox"
           }
          ],
          "scatterpolar": [
           {
            "marker": {
             "colorbar": {
              "outlinewidth": 0,
              "ticks": ""
             }
            },
            "type": "scatterpolar"
           }
          ],
          "scatterpolargl": [
           {
            "marker": {
             "colorbar": {
              "outlinewidth": 0,
              "ticks": ""
             }
            },
            "type": "scatterpolargl"
           }
          ],
          "scatterternary": [
           {
            "marker": {
             "colorbar": {
              "outlinewidth": 0,
              "ticks": ""
             }
            },
            "type": "scatterternary"
           }
          ],
          "surface": [
           {
            "colorbar": {
             "outlinewidth": 0,
             "ticks": ""
            },
            "colorscale": [
             [
              0,
              "#0d0887"
             ],
             [
              0.1111111111111111,
              "#46039f"
             ],
             [
              0.2222222222222222,
              "#7201a8"
             ],
             [
              0.3333333333333333,
              "#9c179e"
             ],
             [
              0.4444444444444444,
              "#bd3786"
             ],
             [
              0.5555555555555556,
              "#d8576b"
             ],
             [
              0.6666666666666666,
              "#ed7953"
             ],
             [
              0.7777777777777778,
              "#fb9f3a"
             ],
             [
              0.8888888888888888,
              "#fdca26"
             ],
             [
              1,
              "#f0f921"
             ]
            ],
            "type": "surface"
           }
          ],
          "table": [
           {
            "cells": {
             "fill": {
              "color": "#EBF0F8"
             },
             "line": {
              "color": "white"
             }
            },
            "header": {
             "fill": {
              "color": "#C8D4E3"
             },
             "line": {
              "color": "white"
             }
            },
            "type": "table"
           }
          ]
         },
         "layout": {
          "annotationdefaults": {
           "arrowcolor": "#2a3f5f",
           "arrowhead": 0,
           "arrowwidth": 1
          },
          "autotypenumbers": "strict",
          "coloraxis": {
           "colorbar": {
            "outlinewidth": 0,
            "ticks": ""
           }
          },
          "colorscale": {
           "diverging": [
            [
             0,
             "#8e0152"
            ],
            [
             0.1,
             "#c51b7d"
            ],
            [
             0.2,
             "#de77ae"
            ],
            [
             0.3,
             "#f1b6da"
            ],
            [
             0.4,
             "#fde0ef"
            ],
            [
             0.5,
             "#f7f7f7"
            ],
            [
             0.6,
             "#e6f5d0"
            ],
            [
             0.7,
             "#b8e186"
            ],
            [
             0.8,
             "#7fbc41"
            ],
            [
             0.9,
             "#4d9221"
            ],
            [
             1,
             "#276419"
            ]
           ],
           "sequential": [
            [
             0,
             "#0d0887"
            ],
            [
             0.1111111111111111,
             "#46039f"
            ],
            [
             0.2222222222222222,
             "#7201a8"
            ],
            [
             0.3333333333333333,
             "#9c179e"
            ],
            [
             0.4444444444444444,
             "#bd3786"
            ],
            [
             0.5555555555555556,
             "#d8576b"
            ],
            [
             0.6666666666666666,
             "#ed7953"
            ],
            [
             0.7777777777777778,
             "#fb9f3a"
            ],
            [
             0.8888888888888888,
             "#fdca26"
            ],
            [
             1,
             "#f0f921"
            ]
           ],
           "sequentialminus": [
            [
             0,
             "#0d0887"
            ],
            [
             0.1111111111111111,
             "#46039f"
            ],
            [
             0.2222222222222222,
             "#7201a8"
            ],
            [
             0.3333333333333333,
             "#9c179e"
            ],
            [
             0.4444444444444444,
             "#bd3786"
            ],
            [
             0.5555555555555556,
             "#d8576b"
            ],
            [
             0.6666666666666666,
             "#ed7953"
            ],
            [
             0.7777777777777778,
             "#fb9f3a"
            ],
            [
             0.8888888888888888,
             "#fdca26"
            ],
            [
             1,
             "#f0f921"
            ]
           ]
          },
          "colorway": [
           "#636efa",
           "#EF553B",
           "#00cc96",
           "#ab63fa",
           "#FFA15A",
           "#19d3f3",
           "#FF6692",
           "#B6E880",
           "#FF97FF",
           "#FECB52"
          ],
          "font": {
           "color": "#2a3f5f"
          },
          "geo": {
           "bgcolor": "white",
           "lakecolor": "white",
           "landcolor": "#E5ECF6",
           "showlakes": true,
           "showland": true,
           "subunitcolor": "white"
          },
          "hoverlabel": {
           "align": "left"
          },
          "hovermode": "closest",
          "mapbox": {
           "style": "light"
          },
          "paper_bgcolor": "white",
          "plot_bgcolor": "#E5ECF6",
          "polar": {
           "angularaxis": {
            "gridcolor": "white",
            "linecolor": "white",
            "ticks": ""
           },
           "bgcolor": "#E5ECF6",
           "radialaxis": {
            "gridcolor": "white",
            "linecolor": "white",
            "ticks": ""
           }
          },
          "scene": {
           "xaxis": {
            "backgroundcolor": "#E5ECF6",
            "gridcolor": "white",
            "gridwidth": 2,
            "linecolor": "white",
            "showbackground": true,
            "ticks": "",
            "zerolinecolor": "white"
           },
           "yaxis": {
            "backgroundcolor": "#E5ECF6",
            "gridcolor": "white",
            "gridwidth": 2,
            "linecolor": "white",
            "showbackground": true,
            "ticks": "",
            "zerolinecolor": "white"
           },
           "zaxis": {
            "backgroundcolor": "#E5ECF6",
            "gridcolor": "white",
            "gridwidth": 2,
            "linecolor": "white",
            "showbackground": true,
            "ticks": "",
            "zerolinecolor": "white"
           }
          },
          "shapedefaults": {
           "line": {
            "color": "#2a3f5f"
           }
          },
          "ternary": {
           "aaxis": {
            "gridcolor": "white",
            "linecolor": "white",
            "ticks": ""
           },
           "baxis": {
            "gridcolor": "white",
            "linecolor": "white",
            "ticks": ""
           },
           "bgcolor": "#E5ECF6",
           "caxis": {
            "gridcolor": "white",
            "linecolor": "white",
            "ticks": ""
           }
          },
          "title": {
           "x": 0.05
          },
          "xaxis": {
           "automargin": true,
           "gridcolor": "white",
           "linecolor": "white",
           "ticks": "",
           "title": {
            "standoff": 15
           },
           "zerolinecolor": "white",
           "zerolinewidth": 2
          },
          "yaxis": {
           "automargin": true,
           "gridcolor": "white",
           "linecolor": "white",
           "ticks": "",
           "title": {
            "standoff": 15
           },
           "zerolinecolor": "white",
           "zerolinewidth": 2
          }
         }
        },
        "xaxis": {
         "anchor": "y",
         "domain": [
          0,
          1
         ],
         "title": {
          "text": "TIME_PERIOD"
         }
        },
        "yaxis": {
         "anchor": "x",
         "domain": [
          0,
          1
         ],
         "title": {
          "text": "value"
         }
        }
       }
      },
      "text/html": [
       "<div>                            <div id=\"84dfc8b3-bbd0-404f-9890-fe3ed0be983c\" class=\"plotly-graph-div\" style=\"height:525px; width:100%;\"></div>            <script type=\"text/javascript\">                require([\"plotly\"], function(Plotly) {                    window.PLOTLYENV=window.PLOTLYENV || {};                                    if (document.getElementById(\"84dfc8b3-bbd0-404f-9890-fe3ed0be983c\")) {                    Plotly.newPlot(                        \"84dfc8b3-bbd0-404f-9890-fe3ed0be983c\",                        [{\"hovertemplate\":\"airp_country_2=BR<br>variable=new_cases_smoothed_per_million<br>TIME_PERIOD=%{x}<br>value=%{y}<extra></extra>\",\"legendgroup\":\"BR\",\"line\":{\"color\":\"#636efa\",\"dash\":\"solid\"},\"marker\":{\"symbol\":\"circle\"},\"mode\":\"lines\",\"name\":\"BR\",\"orientation\":\"v\",\"showlegend\":true,\"x\":[\"2020-02\",\"2020-03\",\"2020-04\",\"2020-05\",\"2020-06\",\"2020-07\",\"2020-08\",\"2020-09\",\"2020-10\",\"2020-11\",\"2020-12\",\"2021-01\",\"2021-02\",\"2021-03\",\"2021-04\",\"2021-05\",\"2021-06\",\"2021-07\",\"2021-08\",\"2021-09\",\"2021-10\",\"2021-11\",\"2021-12\",\"2022-01\",\"2022-02\",\"2022-03\",\"2022-04\",\"2022-05\",\"2022-06\",\"2022-07\"],\"xaxis\":\"x\",\"y\":[null,0.6088666666666666,10.1449,56.735451612903226,136.69955172413793,181.71745161290323,193.40212903225807,145.6088,110.1686129032258,120.4336,195.40806451612903,228.20158064516127,222.4900357142857,323.864,299.7527,290.0178387096774,314.4952,207.88935483870966,138.54190322580646,83.29475862068965,60.05109677419355,45.937400000000004,27.733290322580643,408.30164516129037,609.9781428571429,186.38645161290324,81.4719,80.971,187.14753333333334,240.85051612903226],\"yaxis\":\"y\",\"type\":\"scatter\"},{\"hovertemplate\":\"airp_country_2=BR<br>variable=OBS_VALUE<br>TIME_PERIOD=%{x}<br>value=%{y}<extra></extra>\",\"legendgroup\":\"BR\",\"line\":{\"color\":\"#636efa\",\"dash\":\"solid\"},\"marker\":{\"symbol\":\"circle\"},\"mode\":\"lines\",\"name\":\"BR\",\"orientation\":\"v\",\"showlegend\":false,\"x\":[\"2020-02\",\"2020-03\",\"2020-04\",\"2020-05\",\"2020-06\",\"2020-07\",\"2020-08\",\"2020-09\",\"2020-10\",\"2020-11\",\"2020-12\",\"2021-01\",\"2021-02\",\"2021-03\",\"2021-04\",\"2021-05\",\"2021-06\",\"2021-07\",\"2021-08\",\"2021-09\",\"2021-10\",\"2021-11\",\"2021-12\",\"2022-01\",\"2022-02\",\"2022-03\",\"2022-04\",\"2022-05\",\"2022-06\",\"2022-07\"],\"xaxis\":\"x\",\"y\":[6228.1,5274.1,4406.7,5642.5,5448.5,5980.400000000001,6129.1,6369.7,6869.2,6207.799999999999,5924.9,5158.700000000001,5640.5,6678.1,6196.4,5438.6,4911.4,5790.3,5605.4,5465.0,5800.0,5230.7,5283.7,3918.5,4485.9,4967.1,4370.7,5026.2,4499.9,4524.4],\"yaxis\":\"y\",\"type\":\"scatter\"},{\"hovertemplate\":\"airp_country_2=CN<br>variable=new_cases_smoothed_per_million<br>TIME_PERIOD=%{x}<br>value=%{y}<extra></extra>\",\"legendgroup\":\"CN\",\"line\":{\"color\":\"#EF553B\",\"dash\":\"solid\"},\"marker\":{\"symbol\":\"circle\"},\"mode\":\"lines\",\"name\":\"CN\",\"orientation\":\"v\",\"showlegend\":true,\"x\":[\"2020-01\",\"2020-02\",\"2020-03\",\"2020-04\",\"2020-05\",\"2020-06\",\"2020-07\",\"2020-08\",\"2020-09\",\"2020-10\",\"2020-11\",\"2020-12\",\"2021-01\",\"2021-02\",\"2021-03\",\"2021-04\",\"2021-05\",\"2021-06\",\"2021-07\",\"2021-08\",\"2021-09\",\"2021-10\",\"2021-11\",\"2021-12\",\"2022-01\",\"2022-02\",\"2022-03\",\"2022-04\",\"2022-05\",\"2022-06\",\"2022-07\"],\"xaxis\":\"x\",\"y\":[0.6717500000000001,1.764,0.08041935483870967,0.09386666666666667,0.017458333333333333,0.016166666666666666,0.020935483870967744,0.03283870967741936,0.021366666666666666,0.029225806451612903,0.0288,0.017225806451612903,0.08019354838709676,0.019035714285714288,0.014387096774193548,0.020066666666666667,0.020741935483870967,0.028266666666666666,0.03512903225806451,0.058741935483870966,0.038599999999999995,0.03158064516129032,0.05146666666666667,0.07993548387096774,0.11958064516129031,0.10189285714285715,1.8674516129032257,13.325600000000001,2.4163548387096774,0.12010000000000001,0.36593548387096775],\"yaxis\":\"y\",\"type\":\"scatter\"},{\"hovertemplate\":\"airp_country_2=CN<br>variable=OBS_VALUE<br>TIME_PERIOD=%{x}<br>value=%{y}<extra></extra>\",\"legendgroup\":\"CN\",\"line\":{\"color\":\"#EF553B\",\"dash\":\"solid\"},\"marker\":{\"symbol\":\"circle\"},\"mode\":\"lines\",\"name\":\"CN\",\"orientation\":\"v\",\"showlegend\":false,\"x\":[\"2020-01\",\"2020-02\",\"2020-03\",\"2020-04\",\"2020-05\",\"2020-06\",\"2020-07\",\"2020-08\",\"2020-09\",\"2020-10\",\"2020-11\",\"2020-12\",\"2021-01\",\"2021-02\",\"2021-03\",\"2021-04\",\"2021-05\",\"2021-06\",\"2021-07\",\"2021-08\",\"2021-09\",\"2021-10\",\"2021-11\",\"2021-12\",\"2022-01\",\"2022-02\",\"2022-03\",\"2022-04\",\"2022-05\",\"2022-06\",\"2022-07\"],\"xaxis\":\"x\",\"y\":[22326.800000000003,15923.599999999999,24860.300000000003,21470.5,25916.3,25626.7,24480.999999999996,23980.7,24763.7,27140.4,29747.2,24644.6,26752.499999999996,22362.5,28878.4,25131.9,27573.300000000003,26004.2,21366.8,21258.9,18972.899999999998,24968.1,26453.0,28369.399999999998,28246.600000000002,24993.6,25364.4,21353.9,23348.2,22974.7,23503.5],\"yaxis\":\"y\",\"type\":\"scatter\"},{\"hovertemplate\":\"airp_country_2=QA<br>variable=new_cases_smoothed_per_million<br>TIME_PERIOD=%{x}<br>value=%{y}<extra></extra>\",\"legendgroup\":\"QA\",\"line\":{\"color\":\"#00cc96\",\"dash\":\"solid\"},\"marker\":{\"symbol\":\"circle\"},\"mode\":\"lines\",\"name\":\"QA\",\"orientation\":\"v\",\"showlegend\":true,\"x\":[\"2020-02\",\"2020-03\",\"2020-04\",\"2020-05\",\"2020-06\",\"2020-07\",\"2020-08\",\"2020-09\",\"2020-10\",\"2020-11\",\"2020-12\",\"2021-01\",\"2021-02\",\"2021-03\",\"2021-04\",\"2021-05\",\"2021-06\",\"2021-07\",\"2021-08\",\"2021-09\",\"2021-10\",\"2021-11\",\"2021-12\",\"2022-01\",\"2022-02\",\"2022-03\",\"2022-04\",\"2022-05\",\"2022-06\",\"2022-07\"],\"xaxis\":\"x\",\"y\":[null,8.510518518518518,129.24396666666667,480.509935483871,526.2047,196.20574193548387,99.52570967741936,85.78643333333333,81.7111935483871,78.8054,60.06196774193548,84.4094193548387,159.15528571428572,186.95393548387096,319.12600000000003,158.85574193548388,60.53536666666666,48.178838709677414,77.41358064516129,52.25596666666667,30.676354838709678,50.03276666666667,71.69312903225807,1023.4319677419355,289.5269642857143,59.68664516129032,42.283033333333336,44.747032258064515,154.68643333333333,305.8454516129033],\"yaxis\":\"y\",\"type\":\"scatter\"},{\"hovertemplate\":\"airp_country_2=QA<br>variable=OBS_VALUE<br>TIME_PERIOD=%{x}<br>value=%{y}<extra></extra>\",\"legendgroup\":\"QA\",\"line\":{\"color\":\"#00cc96\",\"dash\":\"solid\"},\"marker\":{\"symbol\":\"circle\"},\"mode\":\"lines\",\"name\":\"QA\",\"orientation\":\"v\",\"showlegend\":false,\"x\":[\"2020-02\",\"2020-03\",\"2020-04\",\"2020-05\",\"2020-06\",\"2020-07\",\"2020-08\",\"2020-09\",\"2020-10\",\"2020-11\",\"2020-12\",\"2021-01\",\"2021-02\",\"2021-03\",\"2021-04\",\"2021-05\",\"2021-06\",\"2021-07\",\"2021-08\",\"2021-09\",\"2021-10\",\"2021-11\",\"2021-12\",\"2022-01\",\"2022-02\",\"2022-03\",\"2022-04\",\"2022-05\",\"2022-06\",\"2022-07\"],\"xaxis\":\"x\",\"y\":[4933.4,6578.1,6292.8,5417.0,5151.2,5496.4,5578.7,5241.8,5683.2,5328.1,5412.6,5624.7,5536.7,5731.2,5551.8,5644.9,5652.7,5489.6,5506.0,5704.5,5786.4,5782.4,5659.3,5156.6,5008.3,5833.2,5296.8,5598.5,5640.6,5661.5],\"yaxis\":\"y\",\"type\":\"scatter\"},{\"hovertemplate\":\"airp_country_2=AE<br>variable=new_cases_smoothed_per_million<br>TIME_PERIOD=%{x}<br>value=%{y}<extra></extra>\",\"legendgroup\":\"AE\",\"line\":{\"color\":\"#ab63fa\",\"dash\":\"solid\"},\"marker\":{\"symbol\":\"circle\"},\"mode\":\"lines\",\"name\":\"AE\",\"orientation\":\"v\",\"showlegend\":true,\"x\":[\"2020-01\",\"2020-02\",\"2020-03\",\"2020-04\",\"2020-05\",\"2020-06\",\"2020-07\",\"2020-08\",\"2020-09\",\"2020-10\",\"2020-11\",\"2020-12\",\"2021-01\",\"2021-02\",\"2021-03\",\"2021-04\",\"2021-05\",\"2021-06\",\"2021-07\",\"2021-08\",\"2021-09\",\"2021-10\",\"2021-11\",\"2021-12\",\"2022-01\",\"2022-02\",\"2022-03\",\"2022-04\",\"2022-05\",\"2022-06\",\"2022-07\"],\"xaxis\":\"x\",\"y\":[null,0.04744444444444444,1.6134516129032257,36.95973333333333,74.52132258064516,52.99376666666667,41.879451612903225,32.20787096774193,79.94800000000001,129.38661290322582,129.09113333333332,131.47087096774192,308.31854838709677,339.6914285714286,251.89045161290323,211.5275,174.50090322580647,219.3834,170.32567741935486,134.80329032258064,70.36886666666666,15.458774193548386,7.8351,46.49351612903226,285.22819354838714,152.00742857142856,42.63580645161291,26.436500000000002,31.745451612903228,119.21823333333333,163.37029032258064],\"yaxis\":\"y\",\"type\":\"scatter\"},{\"hovertemplate\":\"airp_country_2=AE<br>variable=OBS_VALUE<br>TIME_PERIOD=%{x}<br>value=%{y}<extra></extra>\",\"legendgroup\":\"AE\",\"line\":{\"color\":\"#ab63fa\",\"dash\":\"solid\"},\"marker\":{\"symbol\":\"circle\"},\"mode\":\"lines\",\"name\":\"AE\",\"orientation\":\"v\",\"showlegend\":false,\"x\":[\"2020-01\",\"2020-02\",\"2020-03\",\"2020-04\",\"2020-05\",\"2020-06\",\"2020-07\",\"2020-08\",\"2020-09\",\"2020-10\",\"2020-11\",\"2020-12\",\"2021-01\",\"2021-02\",\"2021-03\",\"2021-04\",\"2021-05\",\"2021-06\",\"2021-07\",\"2021-08\",\"2021-09\",\"2021-10\",\"2021-11\",\"2021-12\",\"2022-01\",\"2022-02\",\"2022-03\",\"2022-04\",\"2022-05\",\"2022-06\",\"2022-07\"],\"xaxis\":\"x\",\"y\":[6371.2,7439.3,8515.0,8411.8,9822.9,9141.2,10471.7,10379.099999999999,11398.9,11287.8,11602.3,11239.2,11030.8,9387.0,12616.2,11642.599999999999,12577.2,11990.3,10290.2,11051.599999999999,12007.6,13017.8,11542.4,12634.0,11719.5,10000.0,12642.4,10299.8,10402.2,10635.5,11981.9],\"yaxis\":\"y\",\"type\":\"scatter\"},{\"hovertemplate\":\"airp_country_2=US<br>variable=new_cases_smoothed_per_million<br>TIME_PERIOD=%{x}<br>value=%{y}<extra></extra>\",\"legendgroup\":\"US\",\"line\":{\"color\":\"#FFA15A\",\"dash\":\"solid\"},\"marker\":{\"symbol\":\"circle\"},\"mode\":\"lines\",\"name\":\"US\",\"orientation\":\"v\",\"showlegend\":true,\"x\":[\"2020-01\",\"2020-02\",\"2020-03\",\"2020-04\",\"2020-05\",\"2020-06\",\"2020-07\",\"2020-08\",\"2020-09\",\"2020-10\",\"2020-11\",\"2020-12\",\"2021-01\",\"2021-02\",\"2021-03\",\"2021-04\",\"2021-05\",\"2021-06\",\"2021-07\",\"2021-08\",\"2021-09\",\"2021-10\",\"2021-11\",\"2021-12\",\"2022-01\",\"2022-02\",\"2022-03\",\"2022-04\",\"2022-05\",\"2022-06\",\"2022-07\"],\"xaxis\":\"x\",\"y\":[0.0022500000000000003,0.0013448275862068967,12.161838709677419,86.36143333333332,69.60987096774194,77.87033333333333,176.2104193548387,150.68893548387098,118.60713333333334,170.34103225806453,423.25609999999995,607.4164193548387,611.8102258064515,279.73728571428575,174.89612903225805,189.65356666666668,99.76161290322581,39.5641,103.57032258064515,391.45390322580647,423.7932666666667,255.65367741935484,241.44696666666667,488.65754838709677,1975.1914516129032,525.9835714285714,107.91387096774193,116.15283333333333,266.3946451612903,314.53746666666666,364.5697419354839],\"yaxis\":\"y\",\"type\":\"scatter\"},{\"hovertemplate\":\"airp_country_2=US<br>variable=OBS_VALUE<br>TIME_PERIOD=%{x}<br>value=%{y}<extra></extra>\",\"legendgroup\":\"US\",\"line\":{\"color\":\"#FFA15A\",\"dash\":\"solid\"},\"marker\":{\"symbol\":\"circle\"},\"mode\":\"lines\",\"name\":\"US\",\"orientation\":\"v\",\"showlegend\":false,\"x\":[\"2020-01\",\"2020-02\",\"2020-03\",\"2020-04\",\"2020-05\",\"2020-06\",\"2020-07\",\"2020-08\",\"2020-09\",\"2020-10\",\"2020-11\",\"2020-12\",\"2021-01\",\"2021-02\",\"2021-03\",\"2021-04\",\"2021-05\",\"2021-06\",\"2021-07\",\"2021-08\",\"2021-09\",\"2021-10\",\"2021-11\",\"2021-12\",\"2022-01\",\"2022-02\",\"2022-03\",\"2022-04\",\"2022-05\",\"2022-06\",\"2022-07\"],\"xaxis\":\"x\",\"y\":[16389.4,18023.6,17364.7,17525.5,17209.2,18275.1,20225.8,20405.7,20335.0,24191.0,23978.600000000002,21680.100000000002,22045.2,22374.5,26512.2,24761.800000000003,26282.2,22565.9,22788.5,21896.2,22962.3,25370.4,23904.4,20934.5,17893.0,21445.9,24360.1,22112.100000000002,21808.0,19877.1,20399.8],\"yaxis\":\"y\",\"type\":\"scatter\"}],                        {\"template\":{\"data\":{\"histogram2dcontour\":[{\"type\":\"histogram2dcontour\",\"colorbar\":{\"outlinewidth\":0,\"ticks\":\"\"},\"colorscale\":[[0.0,\"#0d0887\"],[0.1111111111111111,\"#46039f\"],[0.2222222222222222,\"#7201a8\"],[0.3333333333333333,\"#9c179e\"],[0.4444444444444444,\"#bd3786\"],[0.5555555555555556,\"#d8576b\"],[0.6666666666666666,\"#ed7953\"],[0.7777777777777778,\"#fb9f3a\"],[0.8888888888888888,\"#fdca26\"],[1.0,\"#f0f921\"]]}],\"choropleth\":[{\"type\":\"choropleth\",\"colorbar\":{\"outlinewidth\":0,\"ticks\":\"\"}}],\"histogram2d\":[{\"type\":\"histogram2d\",\"colorbar\":{\"outlinewidth\":0,\"ticks\":\"\"},\"colorscale\":[[0.0,\"#0d0887\"],[0.1111111111111111,\"#46039f\"],[0.2222222222222222,\"#7201a8\"],[0.3333333333333333,\"#9c179e\"],[0.4444444444444444,\"#bd3786\"],[0.5555555555555556,\"#d8576b\"],[0.6666666666666666,\"#ed7953\"],[0.7777777777777778,\"#fb9f3a\"],[0.8888888888888888,\"#fdca26\"],[1.0,\"#f0f921\"]]}],\"heatmap\":[{\"type\":\"heatmap\",\"colorbar\":{\"outlinewidth\":0,\"ticks\":\"\"},\"colorscale\":[[0.0,\"#0d0887\"],[0.1111111111111111,\"#46039f\"],[0.2222222222222222,\"#7201a8\"],[0.3333333333333333,\"#9c179e\"],[0.4444444444444444,\"#bd3786\"],[0.5555555555555556,\"#d8576b\"],[0.6666666666666666,\"#ed7953\"],[0.7777777777777778,\"#fb9f3a\"],[0.8888888888888888,\"#fdca26\"],[1.0,\"#f0f921\"]]}],\"heatmapgl\":[{\"type\":\"heatmapgl\",\"colorbar\":{\"outlinewidth\":0,\"ticks\":\"\"},\"colorscale\":[[0.0,\"#0d0887\"],[0.1111111111111111,\"#46039f\"],[0.2222222222222222,\"#7201a8\"],[0.3333333333333333,\"#9c179e\"],[0.4444444444444444,\"#bd3786\"],[0.5555555555555556,\"#d8576b\"],[0.6666666666666666,\"#ed7953\"],[0.7777777777777778,\"#fb9f3a\"],[0.8888888888888888,\"#fdca26\"],[1.0,\"#f0f921\"]]}],\"contourcarpet\":[{\"type\":\"contourcarpet\",\"colorbar\":{\"outlinewidth\":0,\"ticks\":\"\"}}],\"contour\":[{\"type\":\"contour\",\"colorbar\":{\"outlinewidth\":0,\"ticks\":\"\"},\"colorscale\":[[0.0,\"#0d0887\"],[0.1111111111111111,\"#46039f\"],[0.2222222222222222,\"#7201a8\"],[0.3333333333333333,\"#9c179e\"],[0.4444444444444444,\"#bd3786\"],[0.5555555555555556,\"#d8576b\"],[0.6666666666666666,\"#ed7953\"],[0.7777777777777778,\"#fb9f3a\"],[0.8888888888888888,\"#fdca26\"],[1.0,\"#f0f921\"]]}],\"surface\":[{\"type\":\"surface\",\"colorbar\":{\"outlinewidth\":0,\"ticks\":\"\"},\"colorscale\":[[0.0,\"#0d0887\"],[0.1111111111111111,\"#46039f\"],[0.2222222222222222,\"#7201a8\"],[0.3333333333333333,\"#9c179e\"],[0.4444444444444444,\"#bd3786\"],[0.5555555555555556,\"#d8576b\"],[0.6666666666666666,\"#ed7953\"],[0.7777777777777778,\"#fb9f3a\"],[0.8888888888888888,\"#fdca26\"],[1.0,\"#f0f921\"]]}],\"mesh3d\":[{\"type\":\"mesh3d\",\"colorbar\":{\"outlinewidth\":0,\"ticks\":\"\"}}],\"scatter\":[{\"fillpattern\":{\"fillmode\":\"overlay\",\"size\":10,\"solidity\":0.2},\"type\":\"scatter\"}],\"parcoords\":[{\"type\":\"parcoords\",\"line\":{\"colorbar\":{\"outlinewidth\":0,\"ticks\":\"\"}}}],\"scatterpolargl\":[{\"type\":\"scatterpolargl\",\"marker\":{\"colorbar\":{\"outlinewidth\":0,\"ticks\":\"\"}}}],\"bar\":[{\"error_x\":{\"color\":\"#2a3f5f\"},\"error_y\":{\"color\":\"#2a3f5f\"},\"marker\":{\"line\":{\"color\":\"#E5ECF6\",\"width\":0.5},\"pattern\":{\"fillmode\":\"overlay\",\"size\":10,\"solidity\":0.2}},\"type\":\"bar\"}],\"scattergeo\":[{\"type\":\"scattergeo\",\"marker\":{\"colorbar\":{\"outlinewidth\":0,\"ticks\":\"\"}}}],\"scatterpolar\":[{\"type\":\"scatterpolar\",\"marker\":{\"colorbar\":{\"outlinewidth\":0,\"ticks\":\"\"}}}],\"histogram\":[{\"marker\":{\"pattern\":{\"fillmode\":\"overlay\",\"size\":10,\"solidity\":0.2}},\"type\":\"histogram\"}],\"scattergl\":[{\"type\":\"scattergl\",\"marker\":{\"colorbar\":{\"outlinewidth\":0,\"ticks\":\"\"}}}],\"scatter3d\":[{\"type\":\"scatter3d\",\"line\":{\"colorbar\":{\"outlinewidth\":0,\"ticks\":\"\"}},\"marker\":{\"colorbar\":{\"outlinewidth\":0,\"ticks\":\"\"}}}],\"scattermapbox\":[{\"type\":\"scattermapbox\",\"marker\":{\"colorbar\":{\"outlinewidth\":0,\"ticks\":\"\"}}}],\"scatterternary\":[{\"type\":\"scatterternary\",\"marker\":{\"colorbar\":{\"outlinewidth\":0,\"ticks\":\"\"}}}],\"scattercarpet\":[{\"type\":\"scattercarpet\",\"marker\":{\"colorbar\":{\"outlinewidth\":0,\"ticks\":\"\"}}}],\"carpet\":[{\"aaxis\":{\"endlinecolor\":\"#2a3f5f\",\"gridcolor\":\"white\",\"linecolor\":\"white\",\"minorgridcolor\":\"white\",\"startlinecolor\":\"#2a3f5f\"},\"baxis\":{\"endlinecolor\":\"#2a3f5f\",\"gridcolor\":\"white\",\"linecolor\":\"white\",\"minorgridcolor\":\"white\",\"startlinecolor\":\"#2a3f5f\"},\"type\":\"carpet\"}],\"table\":[{\"cells\":{\"fill\":{\"color\":\"#EBF0F8\"},\"line\":{\"color\":\"white\"}},\"header\":{\"fill\":{\"color\":\"#C8D4E3\"},\"line\":{\"color\":\"white\"}},\"type\":\"table\"}],\"barpolar\":[{\"marker\":{\"line\":{\"color\":\"#E5ECF6\",\"width\":0.5},\"pattern\":{\"fillmode\":\"overlay\",\"size\":10,\"solidity\":0.2}},\"type\":\"barpolar\"}],\"pie\":[{\"automargin\":true,\"type\":\"pie\"}]},\"layout\":{\"autotypenumbers\":\"strict\",\"colorway\":[\"#636efa\",\"#EF553B\",\"#00cc96\",\"#ab63fa\",\"#FFA15A\",\"#19d3f3\",\"#FF6692\",\"#B6E880\",\"#FF97FF\",\"#FECB52\"],\"font\":{\"color\":\"#2a3f5f\"},\"hovermode\":\"closest\",\"hoverlabel\":{\"align\":\"left\"},\"paper_bgcolor\":\"white\",\"plot_bgcolor\":\"#E5ECF6\",\"polar\":{\"bgcolor\":\"#E5ECF6\",\"angularaxis\":{\"gridcolor\":\"white\",\"linecolor\":\"white\",\"ticks\":\"\"},\"radialaxis\":{\"gridcolor\":\"white\",\"linecolor\":\"white\",\"ticks\":\"\"}},\"ternary\":{\"bgcolor\":\"#E5ECF6\",\"aaxis\":{\"gridcolor\":\"white\",\"linecolor\":\"white\",\"ticks\":\"\"},\"baxis\":{\"gridcolor\":\"white\",\"linecolor\":\"white\",\"ticks\":\"\"},\"caxis\":{\"gridcolor\":\"white\",\"linecolor\":\"white\",\"ticks\":\"\"}},\"coloraxis\":{\"colorbar\":{\"outlinewidth\":0,\"ticks\":\"\"}},\"colorscale\":{\"sequential\":[[0.0,\"#0d0887\"],[0.1111111111111111,\"#46039f\"],[0.2222222222222222,\"#7201a8\"],[0.3333333333333333,\"#9c179e\"],[0.4444444444444444,\"#bd3786\"],[0.5555555555555556,\"#d8576b\"],[0.6666666666666666,\"#ed7953\"],[0.7777777777777778,\"#fb9f3a\"],[0.8888888888888888,\"#fdca26\"],[1.0,\"#f0f921\"]],\"sequentialminus\":[[0.0,\"#0d0887\"],[0.1111111111111111,\"#46039f\"],[0.2222222222222222,\"#7201a8\"],[0.3333333333333333,\"#9c179e\"],[0.4444444444444444,\"#bd3786\"],[0.5555555555555556,\"#d8576b\"],[0.6666666666666666,\"#ed7953\"],[0.7777777777777778,\"#fb9f3a\"],[0.8888888888888888,\"#fdca26\"],[1.0,\"#f0f921\"]],\"diverging\":[[0,\"#8e0152\"],[0.1,\"#c51b7d\"],[0.2,\"#de77ae\"],[0.3,\"#f1b6da\"],[0.4,\"#fde0ef\"],[0.5,\"#f7f7f7\"],[0.6,\"#e6f5d0\"],[0.7,\"#b8e186\"],[0.8,\"#7fbc41\"],[0.9,\"#4d9221\"],[1,\"#276419\"]]},\"xaxis\":{\"gridcolor\":\"white\",\"linecolor\":\"white\",\"ticks\":\"\",\"title\":{\"standoff\":15},\"zerolinecolor\":\"white\",\"automargin\":true,\"zerolinewidth\":2},\"yaxis\":{\"gridcolor\":\"white\",\"linecolor\":\"white\",\"ticks\":\"\",\"title\":{\"standoff\":15},\"zerolinecolor\":\"white\",\"automargin\":true,\"zerolinewidth\":2},\"scene\":{\"xaxis\":{\"backgroundcolor\":\"#E5ECF6\",\"gridcolor\":\"white\",\"linecolor\":\"white\",\"showbackground\":true,\"ticks\":\"\",\"zerolinecolor\":\"white\",\"gridwidth\":2},\"yaxis\":{\"backgroundcolor\":\"#E5ECF6\",\"gridcolor\":\"white\",\"linecolor\":\"white\",\"showbackground\":true,\"ticks\":\"\",\"zerolinecolor\":\"white\",\"gridwidth\":2},\"zaxis\":{\"backgroundcolor\":\"#E5ECF6\",\"gridcolor\":\"white\",\"linecolor\":\"white\",\"showbackground\":true,\"ticks\":\"\",\"zerolinecolor\":\"white\",\"gridwidth\":2}},\"shapedefaults\":{\"line\":{\"color\":\"#2a3f5f\"}},\"annotationdefaults\":{\"arrowcolor\":\"#2a3f5f\",\"arrowhead\":0,\"arrowwidth\":1},\"geo\":{\"bgcolor\":\"white\",\"landcolor\":\"#E5ECF6\",\"subunitcolor\":\"white\",\"showland\":true,\"showlakes\":true,\"lakecolor\":\"white\"},\"title\":{\"x\":0.05},\"mapbox\":{\"style\":\"light\"}}},\"xaxis\":{\"anchor\":\"y\",\"domain\":[0.0,1.0],\"title\":{\"text\":\"TIME_PERIOD\"}},\"yaxis\":{\"anchor\":\"x\",\"domain\":[0.0,1.0],\"title\":{\"text\":\"value\"}},\"legend\":{\"title\":{\"text\":\"airp_country_2\"},\"tracegroupgap\":0},\"margin\":{\"t\":60}},                        {\"responsive\": true}                    ).then(function(){\n",
       "                            \n",
       "var gd = document.getElementById('84dfc8b3-bbd0-404f-9890-fe3ed0be983c');\n",
       "var x = new MutationObserver(function (mutations, observer) {{\n",
       "        var display = window.getComputedStyle(gd).display;\n",
       "        if (!display || display === 'none') {{\n",
       "            console.log([gd, 'removed!']);\n",
       "            Plotly.purge(gd);\n",
       "            observer.disconnect();\n",
       "        }}\n",
       "}});\n",
       "\n",
       "// Listen for the removal of the full notebook cells\n",
       "var notebookContainer = gd.closest('#notebook-container');\n",
       "if (notebookContainer) {{\n",
       "    x.observe(notebookContainer, {childList: true});\n",
       "}}\n",
       "\n",
       "// Listen for the clearing of the current output cell\n",
       "var outputEl = gd.closest('.output');\n",
       "if (outputEl) {{\n",
       "    x.observe(outputEl, {childList: true});\n",
       "}}\n",
       "\n",
       "                        })                };                });            </script>        </div>"
      ]
     },
     "metadata": {},
     "output_type": "display_data"
    }
   ],
   "source": [
    "fig = px.line(merged_cargo, x='TIME_PERIOD', y= ['new_cases_smoothed_per_million','OBS_VALUE'] ,color='airp_country_2')\n",
    "fig.show()\n"
   ]
  },
  {
   "cell_type": "code",
   "execution_count": 32,
   "metadata": {},
   "outputs": [
    {
     "data": {
      "application/vnd.plotly.v1+json": {
       "config": {
        "plotlyServerURL": "https://plot.ly"
       },
       "data": [
        {
         "name": "Germany flight",
         "type": "scatter",
         "x": [
          "2020-01",
          "2020-02",
          "2020-03",
          "2020-04",
          "2020-05",
          "2020-06",
          "2020-07",
          "2020-08",
          "2020-09",
          "2020-10",
          "2020-11",
          "2020-12",
          "2021-01",
          "2021-02",
          "2021-03",
          "2021-04",
          "2021-05",
          "2021-06",
          "2021-07",
          "2021-08",
          "2021-09",
          "2021-10",
          "2021-11",
          "2021-12",
          "2022-01",
          "2022-02",
          "2022-03",
          "2022-04",
          "2022-05",
          "2022-06",
          "2022-07"
         ],
         "xaxis": "x",
         "y": [
          279377,
          262496,
          142343,
          11945,
          16475,
          28134,
          67501,
          114559,
          87506,
          54028,
          31909,
          39599,
          27069,
          16647,
          24668,
          25359,
          32597,
          50539,
          96019,
          111088,
          120081,
          136878,
          120563,
          98493,
          80311,
          85641,
          127463,
          150562,
          178758,
          176474,
          155860
         ],
         "yaxis": "y"
        },
        {
         "name": "Germany covid",
         "type": "scatter",
         "x": [
          "2020-01",
          "2020-02",
          "2020-03",
          "2020-04",
          "2020-05",
          "2020-06",
          "2020-07",
          "2020-08",
          "2020-09",
          "2020-10",
          "2020-11",
          "2020-12",
          "2021-01",
          "2021-02",
          "2021-03",
          "2021-04",
          "2021-05",
          "2021-06",
          "2021-07",
          "2021-08",
          "2021-09",
          "2021-10",
          "2021-11",
          "2021-12",
          "2022-01",
          "2022-02",
          "2022-03",
          "2022-04",
          "2022-05",
          "2022-06",
          "2022-07"
         ],
         "xaxis": "x",
         "y": [
          null,
          0.011620689655172413,
          18.258709677419354,
          43.080799999999996,
          9.641290322580645,
          5.198566666666666,
          5.231548387096774,
          12.615,
          17.885133333333332,
          71.43154838709678,
          213.4431,
          253.3441935483871,
          201.1164516129032,
          101.57042857142858,
          135.57254838709676,
          221.43206666666669,
          134.84077419354838,
          23.294033333333335,
          13.64083870967742,
          61.264935483870964,
          112.51320000000001,
          128.28609677419357,
          462.1229,
          524.9686774193549,
          906.9927096774194,
          2115.1259285714286,
          2378.008774193548,
          1593.055655172414,
          662.5184516129033,
          682.6332,
          1070.4196451612902
         ],
         "yaxis": "y2"
        },
        {
         "name": "Italy flight",
         "type": "scatter",
         "x": [
          "2020-01",
          "2020-02",
          "2020-03",
          "2020-04",
          "2020-05",
          "2020-06",
          "2020-07",
          "2020-08",
          "2020-09",
          "2020-10",
          "2020-11",
          "2020-12",
          "2021-01",
          "2021-02",
          "2021-03",
          "2021-04",
          "2021-05",
          "2021-06",
          "2021-07",
          "2021-08",
          "2021-09",
          "2021-10",
          "2021-11",
          "2021-12",
          "2022-01",
          "2022-02",
          "2022-03",
          "2022-04",
          "2022-05",
          "2022-06",
          "2022-07"
         ],
         "xaxis": "x",
         "y": [
          193322,
          182169,
          37838,
          60,
          4856,
          25896,
          58580,
          93024,
          90080,
          61809,
          31303,
          40417,
          35139,
          28212,
          31026,
          35890,
          54019,
          81386,
          187986,
          222028,
          204901,
          236047,
          167406,
          122116,
          95603,
          136112,
          203409,
          249461,
          288108,
          282619,
          260973
         ],
         "yaxis": "y"
        },
        {
         "name": "Italy covid",
         "type": "scatter",
         "x": [
          "2020-01",
          "2020-02",
          "2020-03",
          "2020-04",
          "2020-05",
          "2020-06",
          "2020-07",
          "2020-08",
          "2020-09",
          "2020-10",
          "2020-11",
          "2020-12",
          "2021-01",
          "2021-02",
          "2021-03",
          "2021-04",
          "2021-05",
          "2021-06",
          "2021-07",
          "2021-08",
          "2021-09",
          "2021-10",
          "2021-11",
          "2021-12",
          "2022-01",
          "2022-02",
          "2022-03",
          "2022-04",
          "2022-05",
          "2022-06",
          "2022-07"
         ],
         "xaxis": "x",
         "y": [
          null,
          0.36835999999999997,
          49.42261290322581,
          60.83593333333333,
          17.54151612903226,
          4.841689655172414,
          3.554225806451613,
          10.200516129032259,
          24.951700000000002,
          155.5054193548387,
          527.9896666666667,
          287.36929032258064,
          246.78354838709677,
          214.29225,
          357.7167096774194,
          257.4688333333333,
          122.18477419354839,
          27.549833333333332,
          40.38658064516129,
          103.79383870967742,
          78.816,
          51.65890322580645,
          132.54593333333335,
          444.47651612903223,
          2635.82264516129,
          1225.8344285714286,
          950.4776774193549,
          1044.1011333333333,
          590.4992258064516,
          524.9217333333333,
          1406.1061612903225
         ],
         "yaxis": "y2"
        },
        {
         "name": "United States flight",
         "type": "scatter",
         "x": [
          "2020-01",
          "2020-02",
          "2020-03",
          "2020-04",
          "2020-05",
          "2020-06",
          "2020-07",
          "2020-08",
          "2020-09",
          "2020-10",
          "2020-11",
          "2020-12",
          "2021-01",
          "2021-02",
          "2021-03",
          "2021-04",
          "2021-05",
          "2021-06",
          "2021-07",
          "2021-08",
          "2021-09",
          "2021-10",
          "2021-11",
          "2021-12",
          "2022-01",
          "2022-02",
          "2022-03",
          "2022-04",
          "2022-05",
          "2022-06",
          "2022-07"
         ],
         "xaxis": "x",
         "y": [
          254649,
          224105,
          128254,
          16988,
          21956,
          35769,
          42472,
          45582,
          37247,
          39167,
          39821,
          62952,
          56575,
          24904,
          36341,
          44518,
          67191,
          110219,
          174286,
          204293,
          156388,
          146520,
          171080,
          192042,
          186936,
          151179,
          266160,
          380274,
          445252,
          512371,
          518815
         ],
         "yaxis": "y"
        },
        {
         "name": "United States covid",
         "type": "scatter",
         "x": [
          "2020-01",
          "2020-02",
          "2020-03",
          "2020-04",
          "2020-05",
          "2020-06",
          "2020-07",
          "2020-08",
          "2020-09",
          "2020-10",
          "2020-11",
          "2020-12",
          "2021-01",
          "2021-02",
          "2021-03",
          "2021-04",
          "2021-05",
          "2021-06",
          "2021-07",
          "2021-08",
          "2021-09",
          "2021-10",
          "2021-11",
          "2021-12",
          "2022-01",
          "2022-02",
          "2022-03",
          "2022-04",
          "2022-05",
          "2022-06",
          "2022-07"
         ],
         "xaxis": "x",
         "y": [
          0.0022500000000000003,
          0.0013448275862068967,
          12.161838709677419,
          86.36143333333332,
          69.60987096774194,
          77.87033333333333,
          176.2104193548387,
          150.68893548387098,
          118.60713333333334,
          170.34103225806453,
          423.25609999999995,
          607.4164193548387,
          611.8102258064515,
          279.73728571428575,
          174.89612903225805,
          189.65356666666668,
          99.76161290322581,
          39.5641,
          103.57032258064515,
          391.45390322580647,
          423.7932666666667,
          255.65367741935484,
          241.44696666666667,
          488.65754838709677,
          1975.1914516129032,
          525.9835714285714,
          107.91387096774193,
          116.15283333333333,
          266.3946451612903,
          314.53746666666666,
          364.5697419354839
         ],
         "yaxis": "y2"
        },
        {
         "name": "United Kingdom flight",
         "type": "scatter",
         "x": [
          "2020-01",
          "2020-02",
          "2020-03",
          "2020-04",
          "2020-05",
          "2020-06",
          "2020-07",
          "2020-08",
          "2020-09",
          "2020-10",
          "2020-11",
          "2020-12",
          "2021-01",
          "2021-02",
          "2021-03",
          "2021-04",
          "2021-05",
          "2021-06",
          "2021-07",
          "2021-08",
          "2021-09",
          "2021-10",
          "2021-11",
          "2021-12",
          "2022-01",
          "2022-02",
          "2022-03",
          "2022-04",
          "2022-05",
          "2022-06",
          "2022-07"
         ],
         "xaxis": "x",
         "y": [
          680911,
          644881,
          334026,
          13203,
          21970,
          35748,
          105438,
          167675,
          109887,
          89093,
          74698,
          99882,
          43705,
          0,
          15930,
          44273,
          59678,
          72939,
          86151,
          120553,
          155718,
          218300,
          222256,
          160845,
          160791,
          236145,
          399254,
          524220,
          554654,
          556050,
          490787
         ],
         "yaxis": "y"
        },
        {
         "name": "United Kingdom covid",
         "type": "scatter",
         "x": [
          "2020-01",
          "2020-02",
          "2020-03",
          "2020-04",
          "2020-05",
          "2020-06",
          "2020-07",
          "2020-08",
          "2020-09",
          "2020-10",
          "2020-11",
          "2020-12",
          "2021-01",
          "2021-02",
          "2021-03",
          "2021-04",
          "2021-05",
          "2021-06",
          "2021-07",
          "2021-08",
          "2021-09",
          "2021-10",
          "2021-11",
          "2021-12",
          "2022-01",
          "2022-02",
          "2022-03",
          "2022-04",
          "2022-05",
          "2022-06",
          "2022-07"
         ],
         "xaxis": "x",
         "y": [
          null,
          0.02276,
          13.100193548387097,
          67.28446666666666,
          42.631354838709676,
          14.894633333333333,
          8.954290322580645,
          14.790096774193549,
          50.9964,
          243.3432580645161,
          319.678,
          362.1993225806452,
          671.531129032258,
          217.3199642857143,
          86.42467741935484,
          40.47241379310345,
          33.79716666666666,
          129.14146666666667,
          497.2303548387097,
          440.92296774193545,
          498.9897333333334,
          591.7747096774193,
          579.6016333333333,
          1114.1378387096775,
          1882.3733333333332,
          868.5041785714285,
          1005.5624516129031,
          554.5502333333334,
          137.07586666666666,
          178.5966,
          304.76867741935484
         ],
         "yaxis": "y2"
        },
        {
         "name": "Spain flight",
         "type": "scatter",
         "x": [
          "2020-02",
          "2020-03",
          "2020-04",
          "2020-05",
          "2020-06",
          "2020-07",
          "2020-08",
          "2020-09",
          "2020-10",
          "2020-11",
          "2020-12",
          "2021-01",
          "2021-02",
          "2021-03",
          "2021-04",
          "2021-05",
          "2021-06",
          "2021-07",
          "2021-08",
          "2021-09",
          "2021-10",
          "2021-11",
          "2021-12",
          "2022-01",
          "2022-02",
          "2022-03",
          "2022-04",
          "2022-05",
          "2022-06",
          "2022-07"
         ],
         "xaxis": "x",
         "y": [
          319412,
          168625,
          1259,
          8158,
          25678,
          146712,
          164241,
          64318,
          62911,
          62132,
          79995,
          55903,
          36879,
          56719,
          77211,
          141800,
          224998,
          360073,
          492039,
          441274,
          496486,
          328821,
          300378,
          306124,
          302200,
          412257,
          469193,
          546915,
          515411,
          493600
         ],
         "yaxis": "y"
        },
        {
         "name": "Spain covid",
         "type": "scatter",
         "x": [
          "2020-02",
          "2020-03",
          "2020-04",
          "2020-05",
          "2020-06",
          "2020-07",
          "2020-08",
          "2020-09",
          "2020-10",
          "2020-11",
          "2020-12",
          "2021-01",
          "2021-02",
          "2021-03",
          "2021-04",
          "2021-05",
          "2021-06",
          "2021-07",
          "2021-08",
          "2021-09",
          "2021-10",
          "2021-11",
          "2021-12",
          "2022-01",
          "2022-02",
          "2022-03",
          "2022-04",
          "2022-05",
          "2022-06",
          "2022-07"
         ],
         "xaxis": "x",
         "y": [
          0.01375,
          49.50464516129032,
          103.83244827586208,
          19.89653333333333,
          7.507000000000001,
          21.628064516129033,
          104.98135483870968,
          208.2524,
          272.6689032258065,
          343.04613333333333,
          177.21832258064515,
          548.432,
          365.7568571428571,
          109.31523333333332,
          162.54576666666665,
          115.73890322580645,
          87.03726666666667,
          405.3168387096774,
          303.9787096774194,
          82.8136,
          38.25551612903226,
          89.11926666666666,
          610.9615666666667,
          2499.8829032258063,
          942.3057499999999,
          356.851935483871,
          254.01630000000003,
          318.7866774193549,
          278.73886666666664,
          351.1738666666667
         ],
         "yaxis": "y2"
        }
       ],
       "layout": {
        "template": {
         "data": {
          "bar": [
           {
            "error_x": {
             "color": "#2a3f5f"
            },
            "error_y": {
             "color": "#2a3f5f"
            },
            "marker": {
             "line": {
              "color": "#E5ECF6",
              "width": 0.5
             },
             "pattern": {
              "fillmode": "overlay",
              "size": 10,
              "solidity": 0.2
             }
            },
            "type": "bar"
           }
          ],
          "barpolar": [
           {
            "marker": {
             "line": {
              "color": "#E5ECF6",
              "width": 0.5
             },
             "pattern": {
              "fillmode": "overlay",
              "size": 10,
              "solidity": 0.2
             }
            },
            "type": "barpolar"
           }
          ],
          "carpet": [
           {
            "aaxis": {
             "endlinecolor": "#2a3f5f",
             "gridcolor": "white",
             "linecolor": "white",
             "minorgridcolor": "white",
             "startlinecolor": "#2a3f5f"
            },
            "baxis": {
             "endlinecolor": "#2a3f5f",
             "gridcolor": "white",
             "linecolor": "white",
             "minorgridcolor": "white",
             "startlinecolor": "#2a3f5f"
            },
            "type": "carpet"
           }
          ],
          "choropleth": [
           {
            "colorbar": {
             "outlinewidth": 0,
             "ticks": ""
            },
            "type": "choropleth"
           }
          ],
          "contour": [
           {
            "colorbar": {
             "outlinewidth": 0,
             "ticks": ""
            },
            "colorscale": [
             [
              0,
              "#0d0887"
             ],
             [
              0.1111111111111111,
              "#46039f"
             ],
             [
              0.2222222222222222,
              "#7201a8"
             ],
             [
              0.3333333333333333,
              "#9c179e"
             ],
             [
              0.4444444444444444,
              "#bd3786"
             ],
             [
              0.5555555555555556,
              "#d8576b"
             ],
             [
              0.6666666666666666,
              "#ed7953"
             ],
             [
              0.7777777777777778,
              "#fb9f3a"
             ],
             [
              0.8888888888888888,
              "#fdca26"
             ],
             [
              1,
              "#f0f921"
             ]
            ],
            "type": "contour"
           }
          ],
          "contourcarpet": [
           {
            "colorbar": {
             "outlinewidth": 0,
             "ticks": ""
            },
            "type": "contourcarpet"
           }
          ],
          "heatmap": [
           {
            "colorbar": {
             "outlinewidth": 0,
             "ticks": ""
            },
            "colorscale": [
             [
              0,
              "#0d0887"
             ],
             [
              0.1111111111111111,
              "#46039f"
             ],
             [
              0.2222222222222222,
              "#7201a8"
             ],
             [
              0.3333333333333333,
              "#9c179e"
             ],
             [
              0.4444444444444444,
              "#bd3786"
             ],
             [
              0.5555555555555556,
              "#d8576b"
             ],
             [
              0.6666666666666666,
              "#ed7953"
             ],
             [
              0.7777777777777778,
              "#fb9f3a"
             ],
             [
              0.8888888888888888,
              "#fdca26"
             ],
             [
              1,
              "#f0f921"
             ]
            ],
            "type": "heatmap"
           }
          ],
          "heatmapgl": [
           {
            "colorbar": {
             "outlinewidth": 0,
             "ticks": ""
            },
            "colorscale": [
             [
              0,
              "#0d0887"
             ],
             [
              0.1111111111111111,
              "#46039f"
             ],
             [
              0.2222222222222222,
              "#7201a8"
             ],
             [
              0.3333333333333333,
              "#9c179e"
             ],
             [
              0.4444444444444444,
              "#bd3786"
             ],
             [
              0.5555555555555556,
              "#d8576b"
             ],
             [
              0.6666666666666666,
              "#ed7953"
             ],
             [
              0.7777777777777778,
              "#fb9f3a"
             ],
             [
              0.8888888888888888,
              "#fdca26"
             ],
             [
              1,
              "#f0f921"
             ]
            ],
            "type": "heatmapgl"
           }
          ],
          "histogram": [
           {
            "marker": {
             "pattern": {
              "fillmode": "overlay",
              "size": 10,
              "solidity": 0.2
             }
            },
            "type": "histogram"
           }
          ],
          "histogram2d": [
           {
            "colorbar": {
             "outlinewidth": 0,
             "ticks": ""
            },
            "colorscale": [
             [
              0,
              "#0d0887"
             ],
             [
              0.1111111111111111,
              "#46039f"
             ],
             [
              0.2222222222222222,
              "#7201a8"
             ],
             [
              0.3333333333333333,
              "#9c179e"
             ],
             [
              0.4444444444444444,
              "#bd3786"
             ],
             [
              0.5555555555555556,
              "#d8576b"
             ],
             [
              0.6666666666666666,
              "#ed7953"
             ],
             [
              0.7777777777777778,
              "#fb9f3a"
             ],
             [
              0.8888888888888888,
              "#fdca26"
             ],
             [
              1,
              "#f0f921"
             ]
            ],
            "type": "histogram2d"
           }
          ],
          "histogram2dcontour": [
           {
            "colorbar": {
             "outlinewidth": 0,
             "ticks": ""
            },
            "colorscale": [
             [
              0,
              "#0d0887"
             ],
             [
              0.1111111111111111,
              "#46039f"
             ],
             [
              0.2222222222222222,
              "#7201a8"
             ],
             [
              0.3333333333333333,
              "#9c179e"
             ],
             [
              0.4444444444444444,
              "#bd3786"
             ],
             [
              0.5555555555555556,
              "#d8576b"
             ],
             [
              0.6666666666666666,
              "#ed7953"
             ],
             [
              0.7777777777777778,
              "#fb9f3a"
             ],
             [
              0.8888888888888888,
              "#fdca26"
             ],
             [
              1,
              "#f0f921"
             ]
            ],
            "type": "histogram2dcontour"
           }
          ],
          "mesh3d": [
           {
            "colorbar": {
             "outlinewidth": 0,
             "ticks": ""
            },
            "type": "mesh3d"
           }
          ],
          "parcoords": [
           {
            "line": {
             "colorbar": {
              "outlinewidth": 0,
              "ticks": ""
             }
            },
            "type": "parcoords"
           }
          ],
          "pie": [
           {
            "automargin": true,
            "type": "pie"
           }
          ],
          "scatter": [
           {
            "fillpattern": {
             "fillmode": "overlay",
             "size": 10,
             "solidity": 0.2
            },
            "type": "scatter"
           }
          ],
          "scatter3d": [
           {
            "line": {
             "colorbar": {
              "outlinewidth": 0,
              "ticks": ""
             }
            },
            "marker": {
             "colorbar": {
              "outlinewidth": 0,
              "ticks": ""
             }
            },
            "type": "scatter3d"
           }
          ],
          "scattercarpet": [
           {
            "marker": {
             "colorbar": {
              "outlinewidth": 0,
              "ticks": ""
             }
            },
            "type": "scattercarpet"
           }
          ],
          "scattergeo": [
           {
            "marker": {
             "colorbar": {
              "outlinewidth": 0,
              "ticks": ""
             }
            },
            "type": "scattergeo"
           }
          ],
          "scattergl": [
           {
            "marker": {
             "colorbar": {
              "outlinewidth": 0,
              "ticks": ""
             }
            },
            "type": "scattergl"
           }
          ],
          "scattermapbox": [
           {
            "marker": {
             "colorbar": {
              "outlinewidth": 0,
              "ticks": ""
             }
            },
            "type": "scattermapbox"
           }
          ],
          "scatterpolar": [
           {
            "marker": {
             "colorbar": {
              "outlinewidth": 0,
              "ticks": ""
             }
            },
            "type": "scatterpolar"
           }
          ],
          "scatterpolargl": [
           {
            "marker": {
             "colorbar": {
              "outlinewidth": 0,
              "ticks": ""
             }
            },
            "type": "scatterpolargl"
           }
          ],
          "scatterternary": [
           {
            "marker": {
             "colorbar": {
              "outlinewidth": 0,
              "ticks": ""
             }
            },
            "type": "scatterternary"
           }
          ],
          "surface": [
           {
            "colorbar": {
             "outlinewidth": 0,
             "ticks": ""
            },
            "colorscale": [
             [
              0,
              "#0d0887"
             ],
             [
              0.1111111111111111,
              "#46039f"
             ],
             [
              0.2222222222222222,
              "#7201a8"
             ],
             [
              0.3333333333333333,
              "#9c179e"
             ],
             [
              0.4444444444444444,
              "#bd3786"
             ],
             [
              0.5555555555555556,
              "#d8576b"
             ],
             [
              0.6666666666666666,
              "#ed7953"
             ],
             [
              0.7777777777777778,
              "#fb9f3a"
             ],
             [
              0.8888888888888888,
              "#fdca26"
             ],
             [
              1,
              "#f0f921"
             ]
            ],
            "type": "surface"
           }
          ],
          "table": [
           {
            "cells": {
             "fill": {
              "color": "#EBF0F8"
             },
             "line": {
              "color": "white"
             }
            },
            "header": {
             "fill": {
              "color": "#C8D4E3"
             },
             "line": {
              "color": "white"
             }
            },
            "type": "table"
           }
          ]
         },
         "layout": {
          "annotationdefaults": {
           "arrowcolor": "#2a3f5f",
           "arrowhead": 0,
           "arrowwidth": 1
          },
          "autotypenumbers": "strict",
          "coloraxis": {
           "colorbar": {
            "outlinewidth": 0,
            "ticks": ""
           }
          },
          "colorscale": {
           "diverging": [
            [
             0,
             "#8e0152"
            ],
            [
             0.1,
             "#c51b7d"
            ],
            [
             0.2,
             "#de77ae"
            ],
            [
             0.3,
             "#f1b6da"
            ],
            [
             0.4,
             "#fde0ef"
            ],
            [
             0.5,
             "#f7f7f7"
            ],
            [
             0.6,
             "#e6f5d0"
            ],
            [
             0.7,
             "#b8e186"
            ],
            [
             0.8,
             "#7fbc41"
            ],
            [
             0.9,
             "#4d9221"
            ],
            [
             1,
             "#276419"
            ]
           ],
           "sequential": [
            [
             0,
             "#0d0887"
            ],
            [
             0.1111111111111111,
             "#46039f"
            ],
            [
             0.2222222222222222,
             "#7201a8"
            ],
            [
             0.3333333333333333,
             "#9c179e"
            ],
            [
             0.4444444444444444,
             "#bd3786"
            ],
            [
             0.5555555555555556,
             "#d8576b"
            ],
            [
             0.6666666666666666,
             "#ed7953"
            ],
            [
             0.7777777777777778,
             "#fb9f3a"
            ],
            [
             0.8888888888888888,
             "#fdca26"
            ],
            [
             1,
             "#f0f921"
            ]
           ],
           "sequentialminus": [
            [
             0,
             "#0d0887"
            ],
            [
             0.1111111111111111,
             "#46039f"
            ],
            [
             0.2222222222222222,
             "#7201a8"
            ],
            [
             0.3333333333333333,
             "#9c179e"
            ],
            [
             0.4444444444444444,
             "#bd3786"
            ],
            [
             0.5555555555555556,
             "#d8576b"
            ],
            [
             0.6666666666666666,
             "#ed7953"
            ],
            [
             0.7777777777777778,
             "#fb9f3a"
            ],
            [
             0.8888888888888888,
             "#fdca26"
            ],
            [
             1,
             "#f0f921"
            ]
           ]
          },
          "colorway": [
           "#636efa",
           "#EF553B",
           "#00cc96",
           "#ab63fa",
           "#FFA15A",
           "#19d3f3",
           "#FF6692",
           "#B6E880",
           "#FF97FF",
           "#FECB52"
          ],
          "font": {
           "color": "#2a3f5f"
          },
          "geo": {
           "bgcolor": "white",
           "lakecolor": "white",
           "landcolor": "#E5ECF6",
           "showlakes": true,
           "showland": true,
           "subunitcolor": "white"
          },
          "hoverlabel": {
           "align": "left"
          },
          "hovermode": "closest",
          "mapbox": {
           "style": "light"
          },
          "paper_bgcolor": "white",
          "plot_bgcolor": "#E5ECF6",
          "polar": {
           "angularaxis": {
            "gridcolor": "white",
            "linecolor": "white",
            "ticks": ""
           },
           "bgcolor": "#E5ECF6",
           "radialaxis": {
            "gridcolor": "white",
            "linecolor": "white",
            "ticks": ""
           }
          },
          "scene": {
           "xaxis": {
            "backgroundcolor": "#E5ECF6",
            "gridcolor": "white",
            "gridwidth": 2,
            "linecolor": "white",
            "showbackground": true,
            "ticks": "",
            "zerolinecolor": "white"
           },
           "yaxis": {
            "backgroundcolor": "#E5ECF6",
            "gridcolor": "white",
            "gridwidth": 2,
            "linecolor": "white",
            "showbackground": true,
            "ticks": "",
            "zerolinecolor": "white"
           },
           "zaxis": {
            "backgroundcolor": "#E5ECF6",
            "gridcolor": "white",
            "gridwidth": 2,
            "linecolor": "white",
            "showbackground": true,
            "ticks": "",
            "zerolinecolor": "white"
           }
          },
          "shapedefaults": {
           "line": {
            "color": "#2a3f5f"
           }
          },
          "ternary": {
           "aaxis": {
            "gridcolor": "white",
            "linecolor": "white",
            "ticks": ""
           },
           "baxis": {
            "gridcolor": "white",
            "linecolor": "white",
            "ticks": ""
           },
           "bgcolor": "#E5ECF6",
           "caxis": {
            "gridcolor": "white",
            "linecolor": "white",
            "ticks": ""
           }
          },
          "title": {
           "x": 0.05
          },
          "xaxis": {
           "automargin": true,
           "gridcolor": "white",
           "linecolor": "white",
           "ticks": "",
           "title": {
            "standoff": 15
           },
           "zerolinecolor": "white",
           "zerolinewidth": 2
          },
          "yaxis": {
           "automargin": true,
           "gridcolor": "white",
           "linecolor": "white",
           "ticks": "",
           "title": {
            "standoff": 15
           },
           "zerolinecolor": "white",
           "zerolinewidth": 2
          }
         }
        },
        "title": {
         "text": "Flight passengers compared to the covid cases per million"
        },
        "updatemenus": [
         {
          "bordercolor": "grey",
          "buttons": [
           {
            "args": [
             "visible",
             [
              true,
              true,
              true,
              true,
              true,
              true,
              true,
              true,
              true,
              true
             ]
            ],
            "label": "All",
            "method": "restyle"
           },
           {
            "args": [
             "visible",
             [
              true,
              true,
              false,
              false,
              false,
              false,
              false,
              false,
              false,
              false
             ]
            ],
            "label": "Germany",
            "method": "restyle"
           },
           {
            "args": [
             "visible",
             [
              false,
              false,
              true,
              true,
              false,
              false,
              false,
              false,
              false,
              false
             ]
            ],
            "label": "Italy",
            "method": "restyle"
           },
           {
            "args": [
             "visible",
             [
              false,
              false,
              false,
              false,
              true,
              true,
              false,
              false,
              false,
              false
             ]
            ],
            "label": "United States",
            "method": "restyle"
           },
           {
            "args": [
             "visible",
             [
              false,
              false,
              false,
              false,
              false,
              false,
              true,
              true,
              false,
              false
             ]
            ],
            "label": "United Kingdom",
            "method": "restyle"
           },
           {
            "args": [
             "visible",
             [
              false,
              false,
              false,
              false,
              false,
              false,
              false,
              false,
              true,
              true
             ]
            ],
            "label": "Spain",
            "method": "restyle"
           },
           {
            "args": [
             "visible",
             [
              false,
              true,
              false,
              true,
              false,
              true,
              false,
              true,
              false,
              true
             ]
            ],
            "label": "Covid only",
            "method": "restyle"
           },
           {
            "args": [
             "visible",
             [
              true,
              false,
              true,
              false,
              true,
              false,
              true,
              false,
              true,
              false
             ]
            ],
            "label": "Flight only",
            "method": "restyle"
           }
          ],
          "direction": "right",
          "type": "dropdown",
          "x": 0.13,
          "y": 1.16
         }
        ],
        "xaxis": {
         "anchor": "y",
         "domain": [
          0,
          0.94
         ],
         "title": {
          "text": "Date"
         }
        },
        "yaxis": {
         "anchor": "x",
         "domain": [
          0,
          1
         ],
         "title": {
          "text": "Number of passengers"
         }
        },
        "yaxis2": {
         "anchor": "x",
         "overlaying": "y",
         "side": "right",
         "title": {
          "text": "Covid cases per million people"
         }
        }
       }
      },
      "text/html": [
       "<div>                            <div id=\"ebd7a511-7ba5-43ed-b557-9d55628b7fa3\" class=\"plotly-graph-div\" style=\"height:525px; width:100%;\"></div>            <script type=\"text/javascript\">                require([\"plotly\"], function(Plotly) {                    window.PLOTLYENV=window.PLOTLYENV || {};                                    if (document.getElementById(\"ebd7a511-7ba5-43ed-b557-9d55628b7fa3\")) {                    Plotly.newPlot(                        \"ebd7a511-7ba5-43ed-b557-9d55628b7fa3\",                        [{\"name\":\"Germany flight\",\"x\":[\"2020-01\",\"2020-02\",\"2020-03\",\"2020-04\",\"2020-05\",\"2020-06\",\"2020-07\",\"2020-08\",\"2020-09\",\"2020-10\",\"2020-11\",\"2020-12\",\"2021-01\",\"2021-02\",\"2021-03\",\"2021-04\",\"2021-05\",\"2021-06\",\"2021-07\",\"2021-08\",\"2021-09\",\"2021-10\",\"2021-11\",\"2021-12\",\"2022-01\",\"2022-02\",\"2022-03\",\"2022-04\",\"2022-05\",\"2022-06\",\"2022-07\"],\"y\":[279377,262496,142343,11945,16475,28134,67501,114559,87506,54028,31909,39599,27069,16647,24668,25359,32597,50539,96019,111088,120081,136878,120563,98493,80311,85641,127463,150562,178758,176474,155860],\"type\":\"scatter\",\"xaxis\":\"x\",\"yaxis\":\"y\"},{\"name\":\"Germany covid\",\"x\":[\"2020-01\",\"2020-02\",\"2020-03\",\"2020-04\",\"2020-05\",\"2020-06\",\"2020-07\",\"2020-08\",\"2020-09\",\"2020-10\",\"2020-11\",\"2020-12\",\"2021-01\",\"2021-02\",\"2021-03\",\"2021-04\",\"2021-05\",\"2021-06\",\"2021-07\",\"2021-08\",\"2021-09\",\"2021-10\",\"2021-11\",\"2021-12\",\"2022-01\",\"2022-02\",\"2022-03\",\"2022-04\",\"2022-05\",\"2022-06\",\"2022-07\"],\"y\":[null,0.011620689655172413,18.258709677419354,43.080799999999996,9.641290322580645,5.198566666666666,5.231548387096774,12.615,17.885133333333332,71.43154838709678,213.4431,253.3441935483871,201.1164516129032,101.57042857142858,135.57254838709676,221.43206666666669,134.84077419354838,23.294033333333335,13.64083870967742,61.264935483870964,112.51320000000001,128.28609677419357,462.1229,524.9686774193549,906.9927096774194,2115.1259285714286,2378.008774193548,1593.055655172414,662.5184516129033,682.6332,1070.4196451612902],\"type\":\"scatter\",\"xaxis\":\"x\",\"yaxis\":\"y2\"},{\"name\":\"Italy flight\",\"x\":[\"2020-01\",\"2020-02\",\"2020-03\",\"2020-04\",\"2020-05\",\"2020-06\",\"2020-07\",\"2020-08\",\"2020-09\",\"2020-10\",\"2020-11\",\"2020-12\",\"2021-01\",\"2021-02\",\"2021-03\",\"2021-04\",\"2021-05\",\"2021-06\",\"2021-07\",\"2021-08\",\"2021-09\",\"2021-10\",\"2021-11\",\"2021-12\",\"2022-01\",\"2022-02\",\"2022-03\",\"2022-04\",\"2022-05\",\"2022-06\",\"2022-07\"],\"y\":[193322,182169,37838,60,4856,25896,58580,93024,90080,61809,31303,40417,35139,28212,31026,35890,54019,81386,187986,222028,204901,236047,167406,122116,95603,136112,203409,249461,288108,282619,260973],\"type\":\"scatter\",\"xaxis\":\"x\",\"yaxis\":\"y\"},{\"name\":\"Italy covid\",\"x\":[\"2020-01\",\"2020-02\",\"2020-03\",\"2020-04\",\"2020-05\",\"2020-06\",\"2020-07\",\"2020-08\",\"2020-09\",\"2020-10\",\"2020-11\",\"2020-12\",\"2021-01\",\"2021-02\",\"2021-03\",\"2021-04\",\"2021-05\",\"2021-06\",\"2021-07\",\"2021-08\",\"2021-09\",\"2021-10\",\"2021-11\",\"2021-12\",\"2022-01\",\"2022-02\",\"2022-03\",\"2022-04\",\"2022-05\",\"2022-06\",\"2022-07\"],\"y\":[null,0.36835999999999997,49.42261290322581,60.83593333333333,17.54151612903226,4.841689655172414,3.554225806451613,10.200516129032259,24.951700000000002,155.5054193548387,527.9896666666667,287.36929032258064,246.78354838709677,214.29225,357.7167096774194,257.4688333333333,122.18477419354839,27.549833333333332,40.38658064516129,103.79383870967742,78.816,51.65890322580645,132.54593333333335,444.47651612903223,2635.82264516129,1225.8344285714286,950.4776774193549,1044.1011333333333,590.4992258064516,524.9217333333333,1406.1061612903225],\"type\":\"scatter\",\"xaxis\":\"x\",\"yaxis\":\"y2\"},{\"name\":\"United States flight\",\"x\":[\"2020-01\",\"2020-02\",\"2020-03\",\"2020-04\",\"2020-05\",\"2020-06\",\"2020-07\",\"2020-08\",\"2020-09\",\"2020-10\",\"2020-11\",\"2020-12\",\"2021-01\",\"2021-02\",\"2021-03\",\"2021-04\",\"2021-05\",\"2021-06\",\"2021-07\",\"2021-08\",\"2021-09\",\"2021-10\",\"2021-11\",\"2021-12\",\"2022-01\",\"2022-02\",\"2022-03\",\"2022-04\",\"2022-05\",\"2022-06\",\"2022-07\"],\"y\":[254649,224105,128254,16988,21956,35769,42472,45582,37247,39167,39821,62952,56575,24904,36341,44518,67191,110219,174286,204293,156388,146520,171080,192042,186936,151179,266160,380274,445252,512371,518815],\"type\":\"scatter\",\"xaxis\":\"x\",\"yaxis\":\"y\"},{\"name\":\"United States covid\",\"x\":[\"2020-01\",\"2020-02\",\"2020-03\",\"2020-04\",\"2020-05\",\"2020-06\",\"2020-07\",\"2020-08\",\"2020-09\",\"2020-10\",\"2020-11\",\"2020-12\",\"2021-01\",\"2021-02\",\"2021-03\",\"2021-04\",\"2021-05\",\"2021-06\",\"2021-07\",\"2021-08\",\"2021-09\",\"2021-10\",\"2021-11\",\"2021-12\",\"2022-01\",\"2022-02\",\"2022-03\",\"2022-04\",\"2022-05\",\"2022-06\",\"2022-07\"],\"y\":[0.0022500000000000003,0.0013448275862068967,12.161838709677419,86.36143333333332,69.60987096774194,77.87033333333333,176.2104193548387,150.68893548387098,118.60713333333334,170.34103225806453,423.25609999999995,607.4164193548387,611.8102258064515,279.73728571428575,174.89612903225805,189.65356666666668,99.76161290322581,39.5641,103.57032258064515,391.45390322580647,423.7932666666667,255.65367741935484,241.44696666666667,488.65754838709677,1975.1914516129032,525.9835714285714,107.91387096774193,116.15283333333333,266.3946451612903,314.53746666666666,364.5697419354839],\"type\":\"scatter\",\"xaxis\":\"x\",\"yaxis\":\"y2\"},{\"name\":\"United Kingdom flight\",\"x\":[\"2020-01\",\"2020-02\",\"2020-03\",\"2020-04\",\"2020-05\",\"2020-06\",\"2020-07\",\"2020-08\",\"2020-09\",\"2020-10\",\"2020-11\",\"2020-12\",\"2021-01\",\"2021-02\",\"2021-03\",\"2021-04\",\"2021-05\",\"2021-06\",\"2021-07\",\"2021-08\",\"2021-09\",\"2021-10\",\"2021-11\",\"2021-12\",\"2022-01\",\"2022-02\",\"2022-03\",\"2022-04\",\"2022-05\",\"2022-06\",\"2022-07\"],\"y\":[680911,644881,334026,13203,21970,35748,105438,167675,109887,89093,74698,99882,43705,0,15930,44273,59678,72939,86151,120553,155718,218300,222256,160845,160791,236145,399254,524220,554654,556050,490787],\"type\":\"scatter\",\"xaxis\":\"x\",\"yaxis\":\"y\"},{\"name\":\"United Kingdom covid\",\"x\":[\"2020-01\",\"2020-02\",\"2020-03\",\"2020-04\",\"2020-05\",\"2020-06\",\"2020-07\",\"2020-08\",\"2020-09\",\"2020-10\",\"2020-11\",\"2020-12\",\"2021-01\",\"2021-02\",\"2021-03\",\"2021-04\",\"2021-05\",\"2021-06\",\"2021-07\",\"2021-08\",\"2021-09\",\"2021-10\",\"2021-11\",\"2021-12\",\"2022-01\",\"2022-02\",\"2022-03\",\"2022-04\",\"2022-05\",\"2022-06\",\"2022-07\"],\"y\":[null,0.02276,13.100193548387097,67.28446666666666,42.631354838709676,14.894633333333333,8.954290322580645,14.790096774193549,50.9964,243.3432580645161,319.678,362.1993225806452,671.531129032258,217.3199642857143,86.42467741935484,40.47241379310345,33.79716666666666,129.14146666666667,497.2303548387097,440.92296774193545,498.9897333333334,591.7747096774193,579.6016333333333,1114.1378387096775,1882.3733333333332,868.5041785714285,1005.5624516129031,554.5502333333334,137.07586666666666,178.5966,304.76867741935484],\"type\":\"scatter\",\"xaxis\":\"x\",\"yaxis\":\"y2\"},{\"name\":\"Spain flight\",\"x\":[\"2020-02\",\"2020-03\",\"2020-04\",\"2020-05\",\"2020-06\",\"2020-07\",\"2020-08\",\"2020-09\",\"2020-10\",\"2020-11\",\"2020-12\",\"2021-01\",\"2021-02\",\"2021-03\",\"2021-04\",\"2021-05\",\"2021-06\",\"2021-07\",\"2021-08\",\"2021-09\",\"2021-10\",\"2021-11\",\"2021-12\",\"2022-01\",\"2022-02\",\"2022-03\",\"2022-04\",\"2022-05\",\"2022-06\",\"2022-07\"],\"y\":[319412,168625,1259,8158,25678,146712,164241,64318,62911,62132,79995,55903,36879,56719,77211,141800,224998,360073,492039,441274,496486,328821,300378,306124,302200,412257,469193,546915,515411,493600],\"type\":\"scatter\",\"xaxis\":\"x\",\"yaxis\":\"y\"},{\"name\":\"Spain covid\",\"x\":[\"2020-02\",\"2020-03\",\"2020-04\",\"2020-05\",\"2020-06\",\"2020-07\",\"2020-08\",\"2020-09\",\"2020-10\",\"2020-11\",\"2020-12\",\"2021-01\",\"2021-02\",\"2021-03\",\"2021-04\",\"2021-05\",\"2021-06\",\"2021-07\",\"2021-08\",\"2021-09\",\"2021-10\",\"2021-11\",\"2021-12\",\"2022-01\",\"2022-02\",\"2022-03\",\"2022-04\",\"2022-05\",\"2022-06\",\"2022-07\"],\"y\":[0.01375,49.50464516129032,103.83244827586208,19.89653333333333,7.507000000000001,21.628064516129033,104.98135483870968,208.2524,272.6689032258065,343.04613333333333,177.21832258064515,548.432,365.7568571428571,109.31523333333332,162.54576666666665,115.73890322580645,87.03726666666667,405.3168387096774,303.9787096774194,82.8136,38.25551612903226,89.11926666666666,610.9615666666667,2499.8829032258063,942.3057499999999,356.851935483871,254.01630000000003,318.7866774193549,278.73886666666664,351.1738666666667],\"type\":\"scatter\",\"xaxis\":\"x\",\"yaxis\":\"y2\"}],                        {\"template\":{\"data\":{\"histogram2dcontour\":[{\"type\":\"histogram2dcontour\",\"colorbar\":{\"outlinewidth\":0,\"ticks\":\"\"},\"colorscale\":[[0.0,\"#0d0887\"],[0.1111111111111111,\"#46039f\"],[0.2222222222222222,\"#7201a8\"],[0.3333333333333333,\"#9c179e\"],[0.4444444444444444,\"#bd3786\"],[0.5555555555555556,\"#d8576b\"],[0.6666666666666666,\"#ed7953\"],[0.7777777777777778,\"#fb9f3a\"],[0.8888888888888888,\"#fdca26\"],[1.0,\"#f0f921\"]]}],\"choropleth\":[{\"type\":\"choropleth\",\"colorbar\":{\"outlinewidth\":0,\"ticks\":\"\"}}],\"histogram2d\":[{\"type\":\"histogram2d\",\"colorbar\":{\"outlinewidth\":0,\"ticks\":\"\"},\"colorscale\":[[0.0,\"#0d0887\"],[0.1111111111111111,\"#46039f\"],[0.2222222222222222,\"#7201a8\"],[0.3333333333333333,\"#9c179e\"],[0.4444444444444444,\"#bd3786\"],[0.5555555555555556,\"#d8576b\"],[0.6666666666666666,\"#ed7953\"],[0.7777777777777778,\"#fb9f3a\"],[0.8888888888888888,\"#fdca26\"],[1.0,\"#f0f921\"]]}],\"heatmap\":[{\"type\":\"heatmap\",\"colorbar\":{\"outlinewidth\":0,\"ticks\":\"\"},\"colorscale\":[[0.0,\"#0d0887\"],[0.1111111111111111,\"#46039f\"],[0.2222222222222222,\"#7201a8\"],[0.3333333333333333,\"#9c179e\"],[0.4444444444444444,\"#bd3786\"],[0.5555555555555556,\"#d8576b\"],[0.6666666666666666,\"#ed7953\"],[0.7777777777777778,\"#fb9f3a\"],[0.8888888888888888,\"#fdca26\"],[1.0,\"#f0f921\"]]}],\"heatmapgl\":[{\"type\":\"heatmapgl\",\"colorbar\":{\"outlinewidth\":0,\"ticks\":\"\"},\"colorscale\":[[0.0,\"#0d0887\"],[0.1111111111111111,\"#46039f\"],[0.2222222222222222,\"#7201a8\"],[0.3333333333333333,\"#9c179e\"],[0.4444444444444444,\"#bd3786\"],[0.5555555555555556,\"#d8576b\"],[0.6666666666666666,\"#ed7953\"],[0.7777777777777778,\"#fb9f3a\"],[0.8888888888888888,\"#fdca26\"],[1.0,\"#f0f921\"]]}],\"contourcarpet\":[{\"type\":\"contourcarpet\",\"colorbar\":{\"outlinewidth\":0,\"ticks\":\"\"}}],\"contour\":[{\"type\":\"contour\",\"colorbar\":{\"outlinewidth\":0,\"ticks\":\"\"},\"colorscale\":[[0.0,\"#0d0887\"],[0.1111111111111111,\"#46039f\"],[0.2222222222222222,\"#7201a8\"],[0.3333333333333333,\"#9c179e\"],[0.4444444444444444,\"#bd3786\"],[0.5555555555555556,\"#d8576b\"],[0.6666666666666666,\"#ed7953\"],[0.7777777777777778,\"#fb9f3a\"],[0.8888888888888888,\"#fdca26\"],[1.0,\"#f0f921\"]]}],\"surface\":[{\"type\":\"surface\",\"colorbar\":{\"outlinewidth\":0,\"ticks\":\"\"},\"colorscale\":[[0.0,\"#0d0887\"],[0.1111111111111111,\"#46039f\"],[0.2222222222222222,\"#7201a8\"],[0.3333333333333333,\"#9c179e\"],[0.4444444444444444,\"#bd3786\"],[0.5555555555555556,\"#d8576b\"],[0.6666666666666666,\"#ed7953\"],[0.7777777777777778,\"#fb9f3a\"],[0.8888888888888888,\"#fdca26\"],[1.0,\"#f0f921\"]]}],\"mesh3d\":[{\"type\":\"mesh3d\",\"colorbar\":{\"outlinewidth\":0,\"ticks\":\"\"}}],\"scatter\":[{\"fillpattern\":{\"fillmode\":\"overlay\",\"size\":10,\"solidity\":0.2},\"type\":\"scatter\"}],\"parcoords\":[{\"type\":\"parcoords\",\"line\":{\"colorbar\":{\"outlinewidth\":0,\"ticks\":\"\"}}}],\"scatterpolargl\":[{\"type\":\"scatterpolargl\",\"marker\":{\"colorbar\":{\"outlinewidth\":0,\"ticks\":\"\"}}}],\"bar\":[{\"error_x\":{\"color\":\"#2a3f5f\"},\"error_y\":{\"color\":\"#2a3f5f\"},\"marker\":{\"line\":{\"color\":\"#E5ECF6\",\"width\":0.5},\"pattern\":{\"fillmode\":\"overlay\",\"size\":10,\"solidity\":0.2}},\"type\":\"bar\"}],\"scattergeo\":[{\"type\":\"scattergeo\",\"marker\":{\"colorbar\":{\"outlinewidth\":0,\"ticks\":\"\"}}}],\"scatterpolar\":[{\"type\":\"scatterpolar\",\"marker\":{\"colorbar\":{\"outlinewidth\":0,\"ticks\":\"\"}}}],\"histogram\":[{\"marker\":{\"pattern\":{\"fillmode\":\"overlay\",\"size\":10,\"solidity\":0.2}},\"type\":\"histogram\"}],\"scattergl\":[{\"type\":\"scattergl\",\"marker\":{\"colorbar\":{\"outlinewidth\":0,\"ticks\":\"\"}}}],\"scatter3d\":[{\"type\":\"scatter3d\",\"line\":{\"colorbar\":{\"outlinewidth\":0,\"ticks\":\"\"}},\"marker\":{\"colorbar\":{\"outlinewidth\":0,\"ticks\":\"\"}}}],\"scattermapbox\":[{\"type\":\"scattermapbox\",\"marker\":{\"colorbar\":{\"outlinewidth\":0,\"ticks\":\"\"}}}],\"scatterternary\":[{\"type\":\"scatterternary\",\"marker\":{\"colorbar\":{\"outlinewidth\":0,\"ticks\":\"\"}}}],\"scattercarpet\":[{\"type\":\"scattercarpet\",\"marker\":{\"colorbar\":{\"outlinewidth\":0,\"ticks\":\"\"}}}],\"carpet\":[{\"aaxis\":{\"endlinecolor\":\"#2a3f5f\",\"gridcolor\":\"white\",\"linecolor\":\"white\",\"minorgridcolor\":\"white\",\"startlinecolor\":\"#2a3f5f\"},\"baxis\":{\"endlinecolor\":\"#2a3f5f\",\"gridcolor\":\"white\",\"linecolor\":\"white\",\"minorgridcolor\":\"white\",\"startlinecolor\":\"#2a3f5f\"},\"type\":\"carpet\"}],\"table\":[{\"cells\":{\"fill\":{\"color\":\"#EBF0F8\"},\"line\":{\"color\":\"white\"}},\"header\":{\"fill\":{\"color\":\"#C8D4E3\"},\"line\":{\"color\":\"white\"}},\"type\":\"table\"}],\"barpolar\":[{\"marker\":{\"line\":{\"color\":\"#E5ECF6\",\"width\":0.5},\"pattern\":{\"fillmode\":\"overlay\",\"size\":10,\"solidity\":0.2}},\"type\":\"barpolar\"}],\"pie\":[{\"automargin\":true,\"type\":\"pie\"}]},\"layout\":{\"autotypenumbers\":\"strict\",\"colorway\":[\"#636efa\",\"#EF553B\",\"#00cc96\",\"#ab63fa\",\"#FFA15A\",\"#19d3f3\",\"#FF6692\",\"#B6E880\",\"#FF97FF\",\"#FECB52\"],\"font\":{\"color\":\"#2a3f5f\"},\"hovermode\":\"closest\",\"hoverlabel\":{\"align\":\"left\"},\"paper_bgcolor\":\"white\",\"plot_bgcolor\":\"#E5ECF6\",\"polar\":{\"bgcolor\":\"#E5ECF6\",\"angularaxis\":{\"gridcolor\":\"white\",\"linecolor\":\"white\",\"ticks\":\"\"},\"radialaxis\":{\"gridcolor\":\"white\",\"linecolor\":\"white\",\"ticks\":\"\"}},\"ternary\":{\"bgcolor\":\"#E5ECF6\",\"aaxis\":{\"gridcolor\":\"white\",\"linecolor\":\"white\",\"ticks\":\"\"},\"baxis\":{\"gridcolor\":\"white\",\"linecolor\":\"white\",\"ticks\":\"\"},\"caxis\":{\"gridcolor\":\"white\",\"linecolor\":\"white\",\"ticks\":\"\"}},\"coloraxis\":{\"colorbar\":{\"outlinewidth\":0,\"ticks\":\"\"}},\"colorscale\":{\"sequential\":[[0.0,\"#0d0887\"],[0.1111111111111111,\"#46039f\"],[0.2222222222222222,\"#7201a8\"],[0.3333333333333333,\"#9c179e\"],[0.4444444444444444,\"#bd3786\"],[0.5555555555555556,\"#d8576b\"],[0.6666666666666666,\"#ed7953\"],[0.7777777777777778,\"#fb9f3a\"],[0.8888888888888888,\"#fdca26\"],[1.0,\"#f0f921\"]],\"sequentialminus\":[[0.0,\"#0d0887\"],[0.1111111111111111,\"#46039f\"],[0.2222222222222222,\"#7201a8\"],[0.3333333333333333,\"#9c179e\"],[0.4444444444444444,\"#bd3786\"],[0.5555555555555556,\"#d8576b\"],[0.6666666666666666,\"#ed7953\"],[0.7777777777777778,\"#fb9f3a\"],[0.8888888888888888,\"#fdca26\"],[1.0,\"#f0f921\"]],\"diverging\":[[0,\"#8e0152\"],[0.1,\"#c51b7d\"],[0.2,\"#de77ae\"],[0.3,\"#f1b6da\"],[0.4,\"#fde0ef\"],[0.5,\"#f7f7f7\"],[0.6,\"#e6f5d0\"],[0.7,\"#b8e186\"],[0.8,\"#7fbc41\"],[0.9,\"#4d9221\"],[1,\"#276419\"]]},\"xaxis\":{\"gridcolor\":\"white\",\"linecolor\":\"white\",\"ticks\":\"\",\"title\":{\"standoff\":15},\"zerolinecolor\":\"white\",\"automargin\":true,\"zerolinewidth\":2},\"yaxis\":{\"gridcolor\":\"white\",\"linecolor\":\"white\",\"ticks\":\"\",\"title\":{\"standoff\":15},\"zerolinecolor\":\"white\",\"automargin\":true,\"zerolinewidth\":2},\"scene\":{\"xaxis\":{\"backgroundcolor\":\"#E5ECF6\",\"gridcolor\":\"white\",\"linecolor\":\"white\",\"showbackground\":true,\"ticks\":\"\",\"zerolinecolor\":\"white\",\"gridwidth\":2},\"yaxis\":{\"backgroundcolor\":\"#E5ECF6\",\"gridcolor\":\"white\",\"linecolor\":\"white\",\"showbackground\":true,\"ticks\":\"\",\"zerolinecolor\":\"white\",\"gridwidth\":2},\"zaxis\":{\"backgroundcolor\":\"#E5ECF6\",\"gridcolor\":\"white\",\"linecolor\":\"white\",\"showbackground\":true,\"ticks\":\"\",\"zerolinecolor\":\"white\",\"gridwidth\":2}},\"shapedefaults\":{\"line\":{\"color\":\"#2a3f5f\"}},\"annotationdefaults\":{\"arrowcolor\":\"#2a3f5f\",\"arrowhead\":0,\"arrowwidth\":1},\"geo\":{\"bgcolor\":\"white\",\"landcolor\":\"#E5ECF6\",\"subunitcolor\":\"white\",\"showland\":true,\"showlakes\":true,\"lakecolor\":\"white\"},\"title\":{\"x\":0.05},\"mapbox\":{\"style\":\"light\"}}},\"xaxis\":{\"anchor\":\"y\",\"domain\":[0.0,0.94],\"title\":{\"text\":\"Date\"}},\"yaxis\":{\"anchor\":\"x\",\"domain\":[0.0,1.0],\"title\":{\"text\":\"Number of passengers\"}},\"yaxis2\":{\"anchor\":\"x\",\"overlaying\":\"y\",\"side\":\"right\",\"title\":{\"text\":\"Covid cases per million people\"}},\"title\":{\"text\":\"Flight passengers compared to the covid cases per million\"},\"updatemenus\":[{\"bordercolor\":\"grey\",\"buttons\":[{\"args\":[\"visible\",[true,true,true,true,true,true,true,true,true,true]],\"label\":\"All\",\"method\":\"restyle\"},{\"args\":[\"visible\",[true,true,false,false,false,false,false,false,false,false]],\"label\":\"Germany\",\"method\":\"restyle\"},{\"args\":[\"visible\",[false,false,true,true,false,false,false,false,false,false]],\"label\":\"Italy\",\"method\":\"restyle\"},{\"args\":[\"visible\",[false,false,false,false,true,true,false,false,false,false]],\"label\":\"United States\",\"method\":\"restyle\"},{\"args\":[\"visible\",[false,false,false,false,false,false,true,true,false,false]],\"label\":\"United Kingdom\",\"method\":\"restyle\"},{\"args\":[\"visible\",[false,false,false,false,false,false,false,false,true,true]],\"label\":\"Spain\",\"method\":\"restyle\"},{\"args\":[\"visible\",[false,true,false,true,false,true,false,true,false,true]],\"label\":\"Covid only\",\"method\":\"restyle\"},{\"args\":[\"visible\",[true,false,true,false,true,false,true,false,true,false]],\"label\":\"Flight only\",\"method\":\"restyle\"}],\"direction\":\"right\",\"type\":\"dropdown\",\"x\":0.13,\"y\":1.16}]},                        {\"responsive\": true}                    ).then(function(){\n",
       "                            \n",
       "var gd = document.getElementById('ebd7a511-7ba5-43ed-b557-9d55628b7fa3');\n",
       "var x = new MutationObserver(function (mutations, observer) {{\n",
       "        var display = window.getComputedStyle(gd).display;\n",
       "        if (!display || display === 'none') {{\n",
       "            console.log([gd, 'removed!']);\n",
       "            Plotly.purge(gd);\n",
       "            observer.disconnect();\n",
       "        }}\n",
       "}});\n",
       "\n",
       "// Listen for the removal of the full notebook cells\n",
       "var notebookContainer = gd.closest('#notebook-container');\n",
       "if (notebookContainer) {{\n",
       "    x.observe(notebookContainer, {childList: true});\n",
       "}}\n",
       "\n",
       "// Listen for the clearing of the current output cell\n",
       "var outputEl = gd.closest('.output');\n",
       "if (outputEl) {{\n",
       "    x.observe(outputEl, {childList: true});\n",
       "}}\n",
       "\n",
       "                        })                };                });            </script>        </div>"
      ]
     },
     "metadata": {},
     "output_type": "display_data"
    }
   ],
   "source": [
    "\n",
    "fig = make_subplots(specs=[[{\"secondary_y\": True}]])\n",
    "fig.add_trace(\n",
    "    go.Scatter(x = merged_passengers[merged_passengers['location']== 'Germany']['date'],y = merged_passengers[merged_passengers['location']== 'Germany']['OBS_VALUE'], name='Germany flight'),\n",
    "    secondary_y=False\n",
    ")\n",
    "fig.add_trace(\n",
    "    go.Scatter(x = merged_passengers[merged_passengers['location']== 'Germany']['date'],y = merged_passengers[merged_passengers['location']== 'Germany']['new_cases_smoothed_per_million'], name='Germany covid'),\n",
    "    secondary_y=True,\n",
    ")\n",
    "fig.add_trace(\n",
    "    go.Scatter(x = merged_passengers[merged_passengers['location']== 'Italy']['date'],y = merged_passengers[merged_passengers['location']== 'Italy']['OBS_VALUE'], name='Italy flight'),\n",
    "    secondary_y=False\n",
    ")\n",
    "fig.add_trace(\n",
    "    go.Scatter(x = merged_passengers[merged_passengers['location']== 'Italy']['date'],y = merged_passengers[merged_passengers['location']== 'Italy']['new_cases_smoothed_per_million'], name='Italy covid'),\n",
    "    secondary_y=True,\n",
    ")\n",
    "fig.add_trace(\n",
    "    go.Scatter(x = merged_passengers[merged_passengers['location']== 'United States']['date'],y = merged_passengers[merged_passengers['location']== 'United States']['OBS_VALUE'], name='United States flight'),\n",
    "    secondary_y=False\n",
    ")\n",
    "fig.add_trace(\n",
    "    go.Scatter(x = merged_passengers[merged_passengers['location']== 'United States']['date'],y = merged_passengers[merged_passengers['location']== 'United States']['new_cases_smoothed_per_million'], name='United States covid'),\n",
    "    secondary_y=True,\n",
    ")\n",
    "fig.add_trace(\n",
    "    go.Scatter(x = merged_passengers[merged_passengers['location']== 'United Kingdom']['date'],y = merged_passengers[merged_passengers['location']== 'United Kingdom']['OBS_VALUE'], name='United Kingdom flight'),\n",
    "    secondary_y=False\n",
    ")\n",
    "fig.add_trace(\n",
    "    go.Scatter(x = merged_passengers[merged_passengers['location']== 'United Kingdom']['date'],y = merged_passengers[merged_passengers['location']== 'United Kingdom']['new_cases_smoothed_per_million'], name='United Kingdom covid'),\n",
    "    secondary_y=True,\n",
    ")\n",
    "fig.add_trace(\n",
    "    go.Scatter(x = merged_passengers[merged_passengers['location']== 'Spain']['date'],y = merged_passengers[merged_passengers['location']== 'Spain']['OBS_VALUE'], name='Spain flight'),\n",
    "    secondary_y=False\n",
    ")\n",
    "fig.add_trace(\n",
    "    go.Scatter(x = merged_passengers[merged_passengers['location']== 'Spain']['date'],y = merged_passengers[merged_passengers['location']== 'Spain']['new_cases_smoothed_per_million'], name='Spain covid'),\n",
    "    secondary_y=True,\n",
    ")\n",
    "\n",
    "options = {'Germany':'Germany','Italy':'Italy','United Stated':'United States','United Kingdom':'United Kingdom','Spain':'Spain'}\n",
    "options2 = ['All','Germany','Italy','United States','United Kingdom','Spain','Covid only','Flight only']\n",
    "visList = [\n",
    "    [True,True,True,True,True,True,True,True,True,True],\n",
    "    [True,True,False,False,False,False,False,False,False,False],\n",
    "    [False,False,True,True,False,False,False,False,False,False],\n",
    "    [False,False,False,False,True,True,False,False,False,False],\n",
    "    [False,False,False,False,False,False,True,True,False,False],\n",
    "    [False,False,False,False,False,False,False,False,True,True],\n",
    "    [False,True,False,True,False,True,False,True,False,True],\n",
    "    [True,False,True,False,True,False,True,False,True,False]]\n",
    "buttons = []\n",
    "for i, g in enumerate(options2):\n",
    "    button = dict(label =  g,\n",
    "    method = 'restyle',\n",
    "    args = ['visible',visList[i]])\n",
    "    buttons.append(button)\n",
    "\n",
    "fig.update_layout(\n",
    "    xaxis_title='Date',\n",
    "    yaxis_title='Number of passengers',\n",
    "    title_text='Flight passengers compared to the covid cases per million',\n",
    "    updatemenus=[\n",
    "        dict(\n",
    "            type='dropdown',\n",
    "            direction='right',\n",
    "            buttons = buttons,\n",
    "            x = 0.13,\n",
    "            y = 1.16,\n",
    "            bordercolor = 'grey'   \n",
    "        )\n",
    "    ],\n",
    ")\n",
    "fig.update_yaxes(title_text='Covid cases per million people', secondary_y=True)\n",
    "fig.show()"
   ]
  },
  {
   "cell_type": "code",
   "execution_count": 61,
   "metadata": {},
   "outputs": [
    {
     "data": {
      "application/vnd.plotly.v1+json": {
       "config": {
        "plotlyServerURL": "https://plot.ly"
       },
       "data": [
        {
         "name": "China flight",
         "type": "scatter",
         "x": [
          "2020-01",
          "2020-02",
          "2020-03",
          "2020-04",
          "2020-05",
          "2020-06",
          "2020-07",
          "2020-08",
          "2020-09",
          "2020-10",
          "2020-11",
          "2020-12",
          "2021-01",
          "2021-02",
          "2021-03",
          "2021-04",
          "2021-05",
          "2021-06",
          "2021-07",
          "2021-08",
          "2021-09",
          "2021-10",
          "2021-11",
          "2021-12",
          "2022-01",
          "2022-02",
          "2022-03",
          "2022-04",
          "2022-05",
          "2022-06",
          "2022-07"
         ],
         "xaxis": "x",
         "y": [
          22326.800000000003,
          15923.599999999999,
          24860.300000000003,
          21470.5,
          25916.3,
          25626.7,
          24480.999999999996,
          23980.7,
          24763.7,
          27140.4,
          29747.2,
          24644.6,
          26752.499999999996,
          22362.5,
          28878.4,
          25131.9,
          27573.300000000003,
          26004.2,
          21366.8,
          21258.9,
          18972.899999999998,
          24968.1,
          26453,
          28369.399999999998,
          28246.600000000002,
          24993.6,
          25364.4,
          21353.9,
          23348.2,
          22974.7,
          23503.5
         ],
         "yaxis": "y"
        },
        {
         "name": "China covid",
         "type": "scatter",
         "x": [
          "2020-01",
          "2020-02",
          "2020-03",
          "2020-04",
          "2020-05",
          "2020-06",
          "2020-07",
          "2020-08",
          "2020-09",
          "2020-10",
          "2020-11",
          "2020-12",
          "2021-01",
          "2021-02",
          "2021-03",
          "2021-04",
          "2021-05",
          "2021-06",
          "2021-07",
          "2021-08",
          "2021-09",
          "2021-10",
          "2021-11",
          "2021-12",
          "2022-01",
          "2022-02",
          "2022-03",
          "2022-04",
          "2022-05",
          "2022-06",
          "2022-07"
         ],
         "xaxis": "x",
         "y": [
          0.6717500000000001,
          1.764,
          0.08041935483870967,
          0.09386666666666667,
          0.017458333333333333,
          0.016166666666666666,
          0.020935483870967744,
          0.03283870967741936,
          0.021366666666666666,
          0.029225806451612903,
          0.0288,
          0.017225806451612903,
          0.08019354838709676,
          0.019035714285714288,
          0.014387096774193548,
          0.020066666666666667,
          0.020741935483870967,
          0.028266666666666666,
          0.03512903225806451,
          0.058741935483870966,
          0.038599999999999995,
          0.03158064516129032,
          0.05146666666666667,
          0.07993548387096774,
          0.11958064516129031,
          0.10189285714285715,
          1.8674516129032257,
          13.325600000000001,
          2.4163548387096774,
          0.12010000000000001,
          0.36593548387096775
         ],
         "yaxis": "y2"
        },
        {
         "name": "United Arab Emirates flight",
         "type": "scatter",
         "x": [
          "2020-01",
          "2020-02",
          "2020-03",
          "2020-04",
          "2020-05",
          "2020-06",
          "2020-07",
          "2020-08",
          "2020-09",
          "2020-10",
          "2020-11",
          "2020-12",
          "2021-01",
          "2021-02",
          "2021-03",
          "2021-04",
          "2021-05",
          "2021-06",
          "2021-07",
          "2021-08",
          "2021-09",
          "2021-10",
          "2021-11",
          "2021-12",
          "2022-01",
          "2022-02",
          "2022-03",
          "2022-04",
          "2022-05",
          "2022-06",
          "2022-07"
         ],
         "xaxis": "x",
         "y": [
          6371.2,
          7439.3,
          8515,
          8411.8,
          9822.9,
          9141.2,
          10471.7,
          10379.099999999999,
          11398.9,
          11287.8,
          11602.3,
          11239.2,
          11030.8,
          9387,
          12616.2,
          11642.599999999999,
          12577.2,
          11990.3,
          10290.2,
          11051.599999999999,
          12007.6,
          13017.8,
          11542.4,
          12634,
          11719.5,
          10000,
          12642.4,
          10299.8,
          10402.2,
          10635.5,
          11981.9
         ],
         "yaxis": "y"
        },
        {
         "name": "United Arab Emirates covid",
         "type": "scatter",
         "x": [
          "2020-01",
          "2020-02",
          "2020-03",
          "2020-04",
          "2020-05",
          "2020-06",
          "2020-07",
          "2020-08",
          "2020-09",
          "2020-10",
          "2020-11",
          "2020-12",
          "2021-01",
          "2021-02",
          "2021-03",
          "2021-04",
          "2021-05",
          "2021-06",
          "2021-07",
          "2021-08",
          "2021-09",
          "2021-10",
          "2021-11",
          "2021-12",
          "2022-01",
          "2022-02",
          "2022-03",
          "2022-04",
          "2022-05",
          "2022-06",
          "2022-07"
         ],
         "xaxis": "x",
         "y": [
          null,
          0.04744444444444444,
          1.6134516129032257,
          36.95973333333333,
          74.52132258064516,
          52.99376666666667,
          41.879451612903225,
          32.20787096774193,
          79.94800000000001,
          129.38661290322582,
          129.09113333333332,
          131.47087096774192,
          308.31854838709677,
          339.6914285714286,
          251.89045161290323,
          211.5275,
          174.50090322580647,
          219.3834,
          170.32567741935486,
          134.80329032258064,
          70.36886666666666,
          15.458774193548386,
          7.8351,
          46.49351612903226,
          285.22819354838714,
          152.00742857142856,
          42.63580645161291,
          26.436500000000002,
          31.745451612903228,
          119.21823333333333,
          163.37029032258064
         ],
         "yaxis": "y2"
        },
        {
         "name": "United States flight",
         "type": "scatter",
         "x": [
          "2020-01",
          "2020-02",
          "2020-03",
          "2020-04",
          "2020-05",
          "2020-06",
          "2020-07",
          "2020-08",
          "2020-09",
          "2020-10",
          "2020-11",
          "2020-12",
          "2021-01",
          "2021-02",
          "2021-03",
          "2021-04",
          "2021-05",
          "2021-06",
          "2021-07",
          "2021-08",
          "2021-09",
          "2021-10",
          "2021-11",
          "2021-12",
          "2022-01",
          "2022-02",
          "2022-03",
          "2022-04",
          "2022-05",
          "2022-06",
          "2022-07"
         ],
         "xaxis": "x",
         "y": [
          16389.4,
          18023.6,
          17364.7,
          17525.5,
          17209.2,
          18275.1,
          20225.8,
          20405.7,
          20335,
          24191,
          23978.600000000002,
          21680.100000000002,
          22045.2,
          22374.5,
          26512.2,
          24761.800000000003,
          26282.2,
          22565.9,
          22788.5,
          21896.2,
          22962.3,
          25370.4,
          23904.4,
          20934.5,
          17893,
          21445.9,
          24360.1,
          22112.100000000002,
          21808,
          19877.1,
          20399.8
         ],
         "yaxis": "y"
        },
        {
         "name": "United States covid",
         "type": "scatter",
         "x": [
          "2020-01",
          "2020-02",
          "2020-03",
          "2020-04",
          "2020-05",
          "2020-06",
          "2020-07",
          "2020-08",
          "2020-09",
          "2020-10",
          "2020-11",
          "2020-12",
          "2021-01",
          "2021-02",
          "2021-03",
          "2021-04",
          "2021-05",
          "2021-06",
          "2021-07",
          "2021-08",
          "2021-09",
          "2021-10",
          "2021-11",
          "2021-12",
          "2022-01",
          "2022-02",
          "2022-03",
          "2022-04",
          "2022-05",
          "2022-06",
          "2022-07"
         ],
         "xaxis": "x",
         "y": [
          0.0022500000000000003,
          0.0013448275862068967,
          12.161838709677419,
          86.36143333333332,
          69.60987096774194,
          77.87033333333333,
          176.2104193548387,
          150.68893548387098,
          118.60713333333334,
          170.34103225806453,
          423.25609999999995,
          607.4164193548387,
          611.8102258064515,
          279.73728571428575,
          174.89612903225805,
          189.65356666666668,
          99.76161290322581,
          39.5641,
          103.57032258064515,
          391.45390322580647,
          423.7932666666667,
          255.65367741935484,
          241.44696666666667,
          488.65754838709677,
          1975.1914516129032,
          525.9835714285714,
          107.91387096774193,
          116.15283333333333,
          266.3946451612903,
          314.53746666666666,
          364.5697419354839
         ],
         "yaxis": "y2"
        },
        {
         "name": "Brazil flight",
         "type": "scatter",
         "x": [
          "2020-02",
          "2020-03",
          "2020-04",
          "2020-05",
          "2020-06",
          "2020-07",
          "2020-08",
          "2020-09",
          "2020-10",
          "2020-11",
          "2020-12",
          "2021-01",
          "2021-02",
          "2021-03",
          "2021-04",
          "2021-05",
          "2021-06",
          "2021-07",
          "2021-08",
          "2021-09",
          "2021-10",
          "2021-11",
          "2021-12",
          "2022-01",
          "2022-02",
          "2022-03",
          "2022-04",
          "2022-05",
          "2022-06",
          "2022-07"
         ],
         "xaxis": "x",
         "y": [
          6228.1,
          5274.1,
          4406.7,
          5642.5,
          5448.5,
          5980.400000000001,
          6129.1,
          6369.7,
          6869.2,
          6207.799999999999,
          5924.9,
          5158.700000000001,
          5640.5,
          6678.1,
          6196.4,
          5438.6,
          4911.4,
          5790.3,
          5605.4,
          5465,
          5800,
          5230.7,
          5283.7,
          3918.5,
          4485.9,
          4967.1,
          4370.7,
          5026.2,
          4499.9,
          4524.4
         ],
         "yaxis": "y"
        },
        {
         "name": "Brazil covid",
         "type": "scatter",
         "x": [
          "2020-02",
          "2020-03",
          "2020-04",
          "2020-05",
          "2020-06",
          "2020-07",
          "2020-08",
          "2020-09",
          "2020-10",
          "2020-11",
          "2020-12",
          "2021-01",
          "2021-02",
          "2021-03",
          "2021-04",
          "2021-05",
          "2021-06",
          "2021-07",
          "2021-08",
          "2021-09",
          "2021-10",
          "2021-11",
          "2021-12",
          "2022-01",
          "2022-02",
          "2022-03",
          "2022-04",
          "2022-05",
          "2022-06",
          "2022-07"
         ],
         "xaxis": "x",
         "y": [
          null,
          0.6088666666666666,
          10.1449,
          56.735451612903226,
          136.69955172413793,
          181.71745161290323,
          193.40212903225807,
          145.6088,
          110.1686129032258,
          120.4336,
          195.40806451612903,
          228.20158064516127,
          222.4900357142857,
          323.864,
          299.7527,
          290.0178387096774,
          314.4952,
          207.88935483870966,
          138.54190322580646,
          83.29475862068965,
          60.05109677419355,
          45.937400000000004,
          27.733290322580643,
          408.30164516129037,
          609.9781428571429,
          186.38645161290324,
          81.4719,
          80.971,
          187.14753333333334,
          240.85051612903226
         ],
         "yaxis": "y2"
        },
        {
         "name": "Qatar flight",
         "type": "scatter",
         "x": [
          "2020-02",
          "2020-03",
          "2020-04",
          "2020-05",
          "2020-06",
          "2020-07",
          "2020-08",
          "2020-09",
          "2020-10",
          "2020-11",
          "2020-12",
          "2021-01",
          "2021-02",
          "2021-03",
          "2021-04",
          "2021-05",
          "2021-06",
          "2021-07",
          "2021-08",
          "2021-09",
          "2021-10",
          "2021-11",
          "2021-12",
          "2022-01",
          "2022-02",
          "2022-03",
          "2022-04",
          "2022-05",
          "2022-06",
          "2022-07"
         ],
         "xaxis": "x",
         "y": [
          4933.4,
          6578.1,
          6292.8,
          5417,
          5151.2,
          5496.4,
          5578.7,
          5241.8,
          5683.2,
          5328.1,
          5412.6,
          5624.7,
          5536.7,
          5731.2,
          5551.8,
          5644.9,
          5652.7,
          5489.6,
          5506,
          5704.5,
          5786.4,
          5782.4,
          5659.3,
          5156.6,
          5008.3,
          5833.2,
          5296.8,
          5598.5,
          5640.6,
          5661.5
         ],
         "yaxis": "y"
        },
        {
         "name": "Qatar covid",
         "type": "scatter",
         "x": [
          "2020-02",
          "2020-03",
          "2020-04",
          "2020-05",
          "2020-06",
          "2020-07",
          "2020-08",
          "2020-09",
          "2020-10",
          "2020-11",
          "2020-12",
          "2021-01",
          "2021-02",
          "2021-03",
          "2021-04",
          "2021-05",
          "2021-06",
          "2021-07",
          "2021-08",
          "2021-09",
          "2021-10",
          "2021-11",
          "2021-12",
          "2022-01",
          "2022-02",
          "2022-03",
          "2022-04",
          "2022-05",
          "2022-06",
          "2022-07"
         ],
         "xaxis": "x",
         "y": [
          null,
          8.510518518518518,
          129.24396666666667,
          480.509935483871,
          526.2047,
          196.20574193548387,
          99.52570967741936,
          85.78643333333333,
          81.7111935483871,
          78.8054,
          60.06196774193548,
          84.4094193548387,
          159.15528571428572,
          186.95393548387096,
          319.12600000000003,
          158.85574193548388,
          60.53536666666666,
          48.178838709677414,
          77.41358064516129,
          52.25596666666667,
          30.676354838709678,
          50.03276666666667,
          71.69312903225807,
          1023.4319677419355,
          289.5269642857143,
          59.68664516129032,
          42.283033333333336,
          44.747032258064515,
          154.68643333333333,
          305.8454516129033
         ],
         "yaxis": "y2"
        }
       ],
       "layout": {
        "template": {
         "data": {
          "bar": [
           {
            "error_x": {
             "color": "#2a3f5f"
            },
            "error_y": {
             "color": "#2a3f5f"
            },
            "marker": {
             "line": {
              "color": "#E5ECF6",
              "width": 0.5
             },
             "pattern": {
              "fillmode": "overlay",
              "size": 10,
              "solidity": 0.2
             }
            },
            "type": "bar"
           }
          ],
          "barpolar": [
           {
            "marker": {
             "line": {
              "color": "#E5ECF6",
              "width": 0.5
             },
             "pattern": {
              "fillmode": "overlay",
              "size": 10,
              "solidity": 0.2
             }
            },
            "type": "barpolar"
           }
          ],
          "carpet": [
           {
            "aaxis": {
             "endlinecolor": "#2a3f5f",
             "gridcolor": "white",
             "linecolor": "white",
             "minorgridcolor": "white",
             "startlinecolor": "#2a3f5f"
            },
            "baxis": {
             "endlinecolor": "#2a3f5f",
             "gridcolor": "white",
             "linecolor": "white",
             "minorgridcolor": "white",
             "startlinecolor": "#2a3f5f"
            },
            "type": "carpet"
           }
          ],
          "choropleth": [
           {
            "colorbar": {
             "outlinewidth": 0,
             "ticks": ""
            },
            "type": "choropleth"
           }
          ],
          "contour": [
           {
            "colorbar": {
             "outlinewidth": 0,
             "ticks": ""
            },
            "colorscale": [
             [
              0,
              "#0d0887"
             ],
             [
              0.1111111111111111,
              "#46039f"
             ],
             [
              0.2222222222222222,
              "#7201a8"
             ],
             [
              0.3333333333333333,
              "#9c179e"
             ],
             [
              0.4444444444444444,
              "#bd3786"
             ],
             [
              0.5555555555555556,
              "#d8576b"
             ],
             [
              0.6666666666666666,
              "#ed7953"
             ],
             [
              0.7777777777777778,
              "#fb9f3a"
             ],
             [
              0.8888888888888888,
              "#fdca26"
             ],
             [
              1,
              "#f0f921"
             ]
            ],
            "type": "contour"
           }
          ],
          "contourcarpet": [
           {
            "colorbar": {
             "outlinewidth": 0,
             "ticks": ""
            },
            "type": "contourcarpet"
           }
          ],
          "heatmap": [
           {
            "colorbar": {
             "outlinewidth": 0,
             "ticks": ""
            },
            "colorscale": [
             [
              0,
              "#0d0887"
             ],
             [
              0.1111111111111111,
              "#46039f"
             ],
             [
              0.2222222222222222,
              "#7201a8"
             ],
             [
              0.3333333333333333,
              "#9c179e"
             ],
             [
              0.4444444444444444,
              "#bd3786"
             ],
             [
              0.5555555555555556,
              "#d8576b"
             ],
             [
              0.6666666666666666,
              "#ed7953"
             ],
             [
              0.7777777777777778,
              "#fb9f3a"
             ],
             [
              0.8888888888888888,
              "#fdca26"
             ],
             [
              1,
              "#f0f921"
             ]
            ],
            "type": "heatmap"
           }
          ],
          "heatmapgl": [
           {
            "colorbar": {
             "outlinewidth": 0,
             "ticks": ""
            },
            "colorscale": [
             [
              0,
              "#0d0887"
             ],
             [
              0.1111111111111111,
              "#46039f"
             ],
             [
              0.2222222222222222,
              "#7201a8"
             ],
             [
              0.3333333333333333,
              "#9c179e"
             ],
             [
              0.4444444444444444,
              "#bd3786"
             ],
             [
              0.5555555555555556,
              "#d8576b"
             ],
             [
              0.6666666666666666,
              "#ed7953"
             ],
             [
              0.7777777777777778,
              "#fb9f3a"
             ],
             [
              0.8888888888888888,
              "#fdca26"
             ],
             [
              1,
              "#f0f921"
             ]
            ],
            "type": "heatmapgl"
           }
          ],
          "histogram": [
           {
            "marker": {
             "pattern": {
              "fillmode": "overlay",
              "size": 10,
              "solidity": 0.2
             }
            },
            "type": "histogram"
           }
          ],
          "histogram2d": [
           {
            "colorbar": {
             "outlinewidth": 0,
             "ticks": ""
            },
            "colorscale": [
             [
              0,
              "#0d0887"
             ],
             [
              0.1111111111111111,
              "#46039f"
             ],
             [
              0.2222222222222222,
              "#7201a8"
             ],
             [
              0.3333333333333333,
              "#9c179e"
             ],
             [
              0.4444444444444444,
              "#bd3786"
             ],
             [
              0.5555555555555556,
              "#d8576b"
             ],
             [
              0.6666666666666666,
              "#ed7953"
             ],
             [
              0.7777777777777778,
              "#fb9f3a"
             ],
             [
              0.8888888888888888,
              "#fdca26"
             ],
             [
              1,
              "#f0f921"
             ]
            ],
            "type": "histogram2d"
           }
          ],
          "histogram2dcontour": [
           {
            "colorbar": {
             "outlinewidth": 0,
             "ticks": ""
            },
            "colorscale": [
             [
              0,
              "#0d0887"
             ],
             [
              0.1111111111111111,
              "#46039f"
             ],
             [
              0.2222222222222222,
              "#7201a8"
             ],
             [
              0.3333333333333333,
              "#9c179e"
             ],
             [
              0.4444444444444444,
              "#bd3786"
             ],
             [
              0.5555555555555556,
              "#d8576b"
             ],
             [
              0.6666666666666666,
              "#ed7953"
             ],
             [
              0.7777777777777778,
              "#fb9f3a"
             ],
             [
              0.8888888888888888,
              "#fdca26"
             ],
             [
              1,
              "#f0f921"
             ]
            ],
            "type": "histogram2dcontour"
           }
          ],
          "mesh3d": [
           {
            "colorbar": {
             "outlinewidth": 0,
             "ticks": ""
            },
            "type": "mesh3d"
           }
          ],
          "parcoords": [
           {
            "line": {
             "colorbar": {
              "outlinewidth": 0,
              "ticks": ""
             }
            },
            "type": "parcoords"
           }
          ],
          "pie": [
           {
            "automargin": true,
            "type": "pie"
           }
          ],
          "scatter": [
           {
            "fillpattern": {
             "fillmode": "overlay",
             "size": 10,
             "solidity": 0.2
            },
            "type": "scatter"
           }
          ],
          "scatter3d": [
           {
            "line": {
             "colorbar": {
              "outlinewidth": 0,
              "ticks": ""
             }
            },
            "marker": {
             "colorbar": {
              "outlinewidth": 0,
              "ticks": ""
             }
            },
            "type": "scatter3d"
           }
          ],
          "scattercarpet": [
           {
            "marker": {
             "colorbar": {
              "outlinewidth": 0,
              "ticks": ""
             }
            },
            "type": "scattercarpet"
           }
          ],
          "scattergeo": [
           {
            "marker": {
             "colorbar": {
              "outlinewidth": 0,
              "ticks": ""
             }
            },
            "type": "scattergeo"
           }
          ],
          "scattergl": [
           {
            "marker": {
             "colorbar": {
              "outlinewidth": 0,
              "ticks": ""
             }
            },
            "type": "scattergl"
           }
          ],
          "scattermapbox": [
           {
            "marker": {
             "colorbar": {
              "outlinewidth": 0,
              "ticks": ""
             }
            },
            "type": "scattermapbox"
           }
          ],
          "scatterpolar": [
           {
            "marker": {
             "colorbar": {
              "outlinewidth": 0,
              "ticks": ""
             }
            },
            "type": "scatterpolar"
           }
          ],
          "scatterpolargl": [
           {
            "marker": {
             "colorbar": {
              "outlinewidth": 0,
              "ticks": ""
             }
            },
            "type": "scatterpolargl"
           }
          ],
          "scatterternary": [
           {
            "marker": {
             "colorbar": {
              "outlinewidth": 0,
              "ticks": ""
             }
            },
            "type": "scatterternary"
           }
          ],
          "surface": [
           {
            "colorbar": {
             "outlinewidth": 0,
             "ticks": ""
            },
            "colorscale": [
             [
              0,
              "#0d0887"
             ],
             [
              0.1111111111111111,
              "#46039f"
             ],
             [
              0.2222222222222222,
              "#7201a8"
             ],
             [
              0.3333333333333333,
              "#9c179e"
             ],
             [
              0.4444444444444444,
              "#bd3786"
             ],
             [
              0.5555555555555556,
              "#d8576b"
             ],
             [
              0.6666666666666666,
              "#ed7953"
             ],
             [
              0.7777777777777778,
              "#fb9f3a"
             ],
             [
              0.8888888888888888,
              "#fdca26"
             ],
             [
              1,
              "#f0f921"
             ]
            ],
            "type": "surface"
           }
          ],
          "table": [
           {
            "cells": {
             "fill": {
              "color": "#EBF0F8"
             },
             "line": {
              "color": "white"
             }
            },
            "header": {
             "fill": {
              "color": "#C8D4E3"
             },
             "line": {
              "color": "white"
             }
            },
            "type": "table"
           }
          ]
         },
         "layout": {
          "annotationdefaults": {
           "arrowcolor": "#2a3f5f",
           "arrowhead": 0,
           "arrowwidth": 1
          },
          "autotypenumbers": "strict",
          "coloraxis": {
           "colorbar": {
            "outlinewidth": 0,
            "ticks": ""
           }
          },
          "colorscale": {
           "diverging": [
            [
             0,
             "#8e0152"
            ],
            [
             0.1,
             "#c51b7d"
            ],
            [
             0.2,
             "#de77ae"
            ],
            [
             0.3,
             "#f1b6da"
            ],
            [
             0.4,
             "#fde0ef"
            ],
            [
             0.5,
             "#f7f7f7"
            ],
            [
             0.6,
             "#e6f5d0"
            ],
            [
             0.7,
             "#b8e186"
            ],
            [
             0.8,
             "#7fbc41"
            ],
            [
             0.9,
             "#4d9221"
            ],
            [
             1,
             "#276419"
            ]
           ],
           "sequential": [
            [
             0,
             "#0d0887"
            ],
            [
             0.1111111111111111,
             "#46039f"
            ],
            [
             0.2222222222222222,
             "#7201a8"
            ],
            [
             0.3333333333333333,
             "#9c179e"
            ],
            [
             0.4444444444444444,
             "#bd3786"
            ],
            [
             0.5555555555555556,
             "#d8576b"
            ],
            [
             0.6666666666666666,
             "#ed7953"
            ],
            [
             0.7777777777777778,
             "#fb9f3a"
            ],
            [
             0.8888888888888888,
             "#fdca26"
            ],
            [
             1,
             "#f0f921"
            ]
           ],
           "sequentialminus": [
            [
             0,
             "#0d0887"
            ],
            [
             0.1111111111111111,
             "#46039f"
            ],
            [
             0.2222222222222222,
             "#7201a8"
            ],
            [
             0.3333333333333333,
             "#9c179e"
            ],
            [
             0.4444444444444444,
             "#bd3786"
            ],
            [
             0.5555555555555556,
             "#d8576b"
            ],
            [
             0.6666666666666666,
             "#ed7953"
            ],
            [
             0.7777777777777778,
             "#fb9f3a"
            ],
            [
             0.8888888888888888,
             "#fdca26"
            ],
            [
             1,
             "#f0f921"
            ]
           ]
          },
          "colorway": [
           "#636efa",
           "#EF553B",
           "#00cc96",
           "#ab63fa",
           "#FFA15A",
           "#19d3f3",
           "#FF6692",
           "#B6E880",
           "#FF97FF",
           "#FECB52"
          ],
          "font": {
           "color": "#2a3f5f"
          },
          "geo": {
           "bgcolor": "white",
           "lakecolor": "white",
           "landcolor": "#E5ECF6",
           "showlakes": true,
           "showland": true,
           "subunitcolor": "white"
          },
          "hoverlabel": {
           "align": "left"
          },
          "hovermode": "closest",
          "mapbox": {
           "style": "light"
          },
          "paper_bgcolor": "white",
          "plot_bgcolor": "#E5ECF6",
          "polar": {
           "angularaxis": {
            "gridcolor": "white",
            "linecolor": "white",
            "ticks": ""
           },
           "bgcolor": "#E5ECF6",
           "radialaxis": {
            "gridcolor": "white",
            "linecolor": "white",
            "ticks": ""
           }
          },
          "scene": {
           "xaxis": {
            "backgroundcolor": "#E5ECF6",
            "gridcolor": "white",
            "gridwidth": 2,
            "linecolor": "white",
            "showbackground": true,
            "ticks": "",
            "zerolinecolor": "white"
           },
           "yaxis": {
            "backgroundcolor": "#E5ECF6",
            "gridcolor": "white",
            "gridwidth": 2,
            "linecolor": "white",
            "showbackground": true,
            "ticks": "",
            "zerolinecolor": "white"
           },
           "zaxis": {
            "backgroundcolor": "#E5ECF6",
            "gridcolor": "white",
            "gridwidth": 2,
            "linecolor": "white",
            "showbackground": true,
            "ticks": "",
            "zerolinecolor": "white"
           }
          },
          "shapedefaults": {
           "line": {
            "color": "#2a3f5f"
           }
          },
          "ternary": {
           "aaxis": {
            "gridcolor": "white",
            "linecolor": "white",
            "ticks": ""
           },
           "baxis": {
            "gridcolor": "white",
            "linecolor": "white",
            "ticks": ""
           },
           "bgcolor": "#E5ECF6",
           "caxis": {
            "gridcolor": "white",
            "linecolor": "white",
            "ticks": ""
           }
          },
          "title": {
           "x": 0.05
          },
          "xaxis": {
           "automargin": true,
           "gridcolor": "white",
           "linecolor": "white",
           "ticks": "",
           "title": {
            "standoff": 15
           },
           "zerolinecolor": "white",
           "zerolinewidth": 2
          },
          "yaxis": {
           "automargin": true,
           "gridcolor": "white",
           "linecolor": "white",
           "ticks": "",
           "title": {
            "standoff": 15
           },
           "zerolinecolor": "white",
           "zerolinewidth": 2
          }
         }
        },
        "title": {
         "text": "Flight passengers compared to the covid cases per million"
        },
        "updatemenus": [
         {
          "bordercolor": "grey",
          "buttons": [
           {
            "args": [
             "visible",
             [
              true,
              true,
              true,
              true,
              true,
              true,
              true,
              true,
              true,
              true
             ]
            ],
            "label": "All",
            "method": "restyle"
           },
           {
            "args": [
             "visible",
             [
              true,
              true,
              false,
              false,
              false,
              false,
              false,
              false,
              false,
              false
             ]
            ],
            "label": "China",
            "method": "restyle"
           },
           {
            "args": [
             "visible",
             [
              false,
              false,
              true,
              true,
              false,
              false,
              false,
              false,
              false,
              false
             ]
            ],
            "label": "United Arab Emirates",
            "method": "restyle"
           },
           {
            "args": [
             "visible",
             [
              false,
              false,
              false,
              false,
              true,
              true,
              false,
              false,
              false,
              false
             ]
            ],
            "label": "United States",
            "method": "restyle"
           },
           {
            "args": [
             "visible",
             [
              false,
              false,
              false,
              false,
              false,
              false,
              true,
              true,
              false,
              false
             ]
            ],
            "label": "Brazil",
            "method": "restyle"
           },
           {
            "args": [
             "visible",
             [
              false,
              false,
              false,
              false,
              false,
              false,
              false,
              false,
              true,
              true
             ]
            ],
            "label": "Qatar",
            "method": "restyle"
           },
           {
            "args": [
             "visible",
             [
              false,
              true,
              false,
              true,
              false,
              true,
              false,
              true,
              false,
              true
             ]
            ],
            "label": "Covid only",
            "method": "restyle"
           },
           {
            "args": [
             "visible",
             [
              true,
              false,
              true,
              false,
              true,
              false,
              true,
              false,
              true,
              false
             ]
            ],
            "label": "Flight only",
            "method": "restyle"
           }
          ],
          "direction": "right",
          "type": "dropdown",
          "x": 0.17,
          "y": 1.16
         }
        ],
        "xaxis": {
         "anchor": "y",
         "domain": [
          0,
          0.94
         ],
         "title": {
          "text": "Date"
         }
        },
        "yaxis": {
         "anchor": "x",
         "domain": [
          0,
          1
         ],
         "title": {
          "text": "Transported cargo [Tonnes]"
         }
        },
        "yaxis2": {
         "anchor": "x",
         "overlaying": "y",
         "side": "right",
         "title": {
          "text": "Covid cases per million people"
         }
        }
       }
      },
      "text/html": [
       "<div>                            <div id=\"f6e83dd2-722b-4502-ad45-499b223cc476\" class=\"plotly-graph-div\" style=\"height:525px; width:100%;\"></div>            <script type=\"text/javascript\">                require([\"plotly\"], function(Plotly) {                    window.PLOTLYENV=window.PLOTLYENV || {};                                    if (document.getElementById(\"f6e83dd2-722b-4502-ad45-499b223cc476\")) {                    Plotly.newPlot(                        \"f6e83dd2-722b-4502-ad45-499b223cc476\",                        [{\"name\":\"China flight\",\"x\":[\"2020-01\",\"2020-02\",\"2020-03\",\"2020-04\",\"2020-05\",\"2020-06\",\"2020-07\",\"2020-08\",\"2020-09\",\"2020-10\",\"2020-11\",\"2020-12\",\"2021-01\",\"2021-02\",\"2021-03\",\"2021-04\",\"2021-05\",\"2021-06\",\"2021-07\",\"2021-08\",\"2021-09\",\"2021-10\",\"2021-11\",\"2021-12\",\"2022-01\",\"2022-02\",\"2022-03\",\"2022-04\",\"2022-05\",\"2022-06\",\"2022-07\"],\"y\":[22326.800000000003,15923.599999999999,24860.300000000003,21470.5,25916.3,25626.7,24480.999999999996,23980.7,24763.7,27140.4,29747.2,24644.6,26752.499999999996,22362.5,28878.4,25131.9,27573.300000000003,26004.2,21366.8,21258.9,18972.899999999998,24968.1,26453.0,28369.399999999998,28246.600000000002,24993.6,25364.4,21353.9,23348.2,22974.7,23503.5],\"type\":\"scatter\",\"xaxis\":\"x\",\"yaxis\":\"y\"},{\"name\":\"China covid\",\"x\":[\"2020-01\",\"2020-02\",\"2020-03\",\"2020-04\",\"2020-05\",\"2020-06\",\"2020-07\",\"2020-08\",\"2020-09\",\"2020-10\",\"2020-11\",\"2020-12\",\"2021-01\",\"2021-02\",\"2021-03\",\"2021-04\",\"2021-05\",\"2021-06\",\"2021-07\",\"2021-08\",\"2021-09\",\"2021-10\",\"2021-11\",\"2021-12\",\"2022-01\",\"2022-02\",\"2022-03\",\"2022-04\",\"2022-05\",\"2022-06\",\"2022-07\"],\"y\":[0.6717500000000001,1.764,0.08041935483870967,0.09386666666666667,0.017458333333333333,0.016166666666666666,0.020935483870967744,0.03283870967741936,0.021366666666666666,0.029225806451612903,0.0288,0.017225806451612903,0.08019354838709676,0.019035714285714288,0.014387096774193548,0.020066666666666667,0.020741935483870967,0.028266666666666666,0.03512903225806451,0.058741935483870966,0.038599999999999995,0.03158064516129032,0.05146666666666667,0.07993548387096774,0.11958064516129031,0.10189285714285715,1.8674516129032257,13.325600000000001,2.4163548387096774,0.12010000000000001,0.36593548387096775],\"type\":\"scatter\",\"xaxis\":\"x\",\"yaxis\":\"y2\"},{\"name\":\"United Arab Emirates flight\",\"x\":[\"2020-01\",\"2020-02\",\"2020-03\",\"2020-04\",\"2020-05\",\"2020-06\",\"2020-07\",\"2020-08\",\"2020-09\",\"2020-10\",\"2020-11\",\"2020-12\",\"2021-01\",\"2021-02\",\"2021-03\",\"2021-04\",\"2021-05\",\"2021-06\",\"2021-07\",\"2021-08\",\"2021-09\",\"2021-10\",\"2021-11\",\"2021-12\",\"2022-01\",\"2022-02\",\"2022-03\",\"2022-04\",\"2022-05\",\"2022-06\",\"2022-07\"],\"y\":[6371.2,7439.3,8515.0,8411.8,9822.9,9141.2,10471.7,10379.099999999999,11398.9,11287.8,11602.3,11239.2,11030.8,9387.0,12616.2,11642.599999999999,12577.2,11990.3,10290.2,11051.599999999999,12007.6,13017.8,11542.4,12634.0,11719.5,10000.0,12642.4,10299.8,10402.2,10635.5,11981.9],\"type\":\"scatter\",\"xaxis\":\"x\",\"yaxis\":\"y\"},{\"name\":\"United Arab Emirates covid\",\"x\":[\"2020-01\",\"2020-02\",\"2020-03\",\"2020-04\",\"2020-05\",\"2020-06\",\"2020-07\",\"2020-08\",\"2020-09\",\"2020-10\",\"2020-11\",\"2020-12\",\"2021-01\",\"2021-02\",\"2021-03\",\"2021-04\",\"2021-05\",\"2021-06\",\"2021-07\",\"2021-08\",\"2021-09\",\"2021-10\",\"2021-11\",\"2021-12\",\"2022-01\",\"2022-02\",\"2022-03\",\"2022-04\",\"2022-05\",\"2022-06\",\"2022-07\"],\"y\":[null,0.04744444444444444,1.6134516129032257,36.95973333333333,74.52132258064516,52.99376666666667,41.879451612903225,32.20787096774193,79.94800000000001,129.38661290322582,129.09113333333332,131.47087096774192,308.31854838709677,339.6914285714286,251.89045161290323,211.5275,174.50090322580647,219.3834,170.32567741935486,134.80329032258064,70.36886666666666,15.458774193548386,7.8351,46.49351612903226,285.22819354838714,152.00742857142856,42.63580645161291,26.436500000000002,31.745451612903228,119.21823333333333,163.37029032258064],\"type\":\"scatter\",\"xaxis\":\"x\",\"yaxis\":\"y2\"},{\"name\":\"United States flight\",\"x\":[\"2020-01\",\"2020-02\",\"2020-03\",\"2020-04\",\"2020-05\",\"2020-06\",\"2020-07\",\"2020-08\",\"2020-09\",\"2020-10\",\"2020-11\",\"2020-12\",\"2021-01\",\"2021-02\",\"2021-03\",\"2021-04\",\"2021-05\",\"2021-06\",\"2021-07\",\"2021-08\",\"2021-09\",\"2021-10\",\"2021-11\",\"2021-12\",\"2022-01\",\"2022-02\",\"2022-03\",\"2022-04\",\"2022-05\",\"2022-06\",\"2022-07\"],\"y\":[16389.4,18023.6,17364.7,17525.5,17209.2,18275.1,20225.8,20405.7,20335.0,24191.0,23978.600000000002,21680.100000000002,22045.2,22374.5,26512.2,24761.800000000003,26282.2,22565.9,22788.5,21896.2,22962.3,25370.4,23904.4,20934.5,17893.0,21445.9,24360.1,22112.100000000002,21808.0,19877.1,20399.8],\"type\":\"scatter\",\"xaxis\":\"x\",\"yaxis\":\"y\"},{\"name\":\"United States covid\",\"x\":[\"2020-01\",\"2020-02\",\"2020-03\",\"2020-04\",\"2020-05\",\"2020-06\",\"2020-07\",\"2020-08\",\"2020-09\",\"2020-10\",\"2020-11\",\"2020-12\",\"2021-01\",\"2021-02\",\"2021-03\",\"2021-04\",\"2021-05\",\"2021-06\",\"2021-07\",\"2021-08\",\"2021-09\",\"2021-10\",\"2021-11\",\"2021-12\",\"2022-01\",\"2022-02\",\"2022-03\",\"2022-04\",\"2022-05\",\"2022-06\",\"2022-07\"],\"y\":[0.0022500000000000003,0.0013448275862068967,12.161838709677419,86.36143333333332,69.60987096774194,77.87033333333333,176.2104193548387,150.68893548387098,118.60713333333334,170.34103225806453,423.25609999999995,607.4164193548387,611.8102258064515,279.73728571428575,174.89612903225805,189.65356666666668,99.76161290322581,39.5641,103.57032258064515,391.45390322580647,423.7932666666667,255.65367741935484,241.44696666666667,488.65754838709677,1975.1914516129032,525.9835714285714,107.91387096774193,116.15283333333333,266.3946451612903,314.53746666666666,364.5697419354839],\"type\":\"scatter\",\"xaxis\":\"x\",\"yaxis\":\"y2\"},{\"name\":\"Brazil flight\",\"x\":[\"2020-02\",\"2020-03\",\"2020-04\",\"2020-05\",\"2020-06\",\"2020-07\",\"2020-08\",\"2020-09\",\"2020-10\",\"2020-11\",\"2020-12\",\"2021-01\",\"2021-02\",\"2021-03\",\"2021-04\",\"2021-05\",\"2021-06\",\"2021-07\",\"2021-08\",\"2021-09\",\"2021-10\",\"2021-11\",\"2021-12\",\"2022-01\",\"2022-02\",\"2022-03\",\"2022-04\",\"2022-05\",\"2022-06\",\"2022-07\"],\"y\":[6228.1,5274.1,4406.7,5642.5,5448.5,5980.400000000001,6129.1,6369.7,6869.2,6207.799999999999,5924.9,5158.700000000001,5640.5,6678.1,6196.4,5438.6,4911.4,5790.3,5605.4,5465.0,5800.0,5230.7,5283.7,3918.5,4485.9,4967.1,4370.7,5026.2,4499.9,4524.4],\"type\":\"scatter\",\"xaxis\":\"x\",\"yaxis\":\"y\"},{\"name\":\"Brazil covid\",\"x\":[\"2020-02\",\"2020-03\",\"2020-04\",\"2020-05\",\"2020-06\",\"2020-07\",\"2020-08\",\"2020-09\",\"2020-10\",\"2020-11\",\"2020-12\",\"2021-01\",\"2021-02\",\"2021-03\",\"2021-04\",\"2021-05\",\"2021-06\",\"2021-07\",\"2021-08\",\"2021-09\",\"2021-10\",\"2021-11\",\"2021-12\",\"2022-01\",\"2022-02\",\"2022-03\",\"2022-04\",\"2022-05\",\"2022-06\",\"2022-07\"],\"y\":[null,0.6088666666666666,10.1449,56.735451612903226,136.69955172413793,181.71745161290323,193.40212903225807,145.6088,110.1686129032258,120.4336,195.40806451612903,228.20158064516127,222.4900357142857,323.864,299.7527,290.0178387096774,314.4952,207.88935483870966,138.54190322580646,83.29475862068965,60.05109677419355,45.937400000000004,27.733290322580643,408.30164516129037,609.9781428571429,186.38645161290324,81.4719,80.971,187.14753333333334,240.85051612903226],\"type\":\"scatter\",\"xaxis\":\"x\",\"yaxis\":\"y2\"},{\"name\":\"Qatar flight\",\"x\":[\"2020-02\",\"2020-03\",\"2020-04\",\"2020-05\",\"2020-06\",\"2020-07\",\"2020-08\",\"2020-09\",\"2020-10\",\"2020-11\",\"2020-12\",\"2021-01\",\"2021-02\",\"2021-03\",\"2021-04\",\"2021-05\",\"2021-06\",\"2021-07\",\"2021-08\",\"2021-09\",\"2021-10\",\"2021-11\",\"2021-12\",\"2022-01\",\"2022-02\",\"2022-03\",\"2022-04\",\"2022-05\",\"2022-06\",\"2022-07\"],\"y\":[4933.4,6578.1,6292.8,5417.0,5151.2,5496.4,5578.7,5241.8,5683.2,5328.1,5412.6,5624.7,5536.7,5731.2,5551.8,5644.9,5652.7,5489.6,5506.0,5704.5,5786.4,5782.4,5659.3,5156.6,5008.3,5833.2,5296.8,5598.5,5640.6,5661.5],\"type\":\"scatter\",\"xaxis\":\"x\",\"yaxis\":\"y\"},{\"name\":\"Qatar covid\",\"x\":[\"2020-02\",\"2020-03\",\"2020-04\",\"2020-05\",\"2020-06\",\"2020-07\",\"2020-08\",\"2020-09\",\"2020-10\",\"2020-11\",\"2020-12\",\"2021-01\",\"2021-02\",\"2021-03\",\"2021-04\",\"2021-05\",\"2021-06\",\"2021-07\",\"2021-08\",\"2021-09\",\"2021-10\",\"2021-11\",\"2021-12\",\"2022-01\",\"2022-02\",\"2022-03\",\"2022-04\",\"2022-05\",\"2022-06\",\"2022-07\"],\"y\":[null,8.510518518518518,129.24396666666667,480.509935483871,526.2047,196.20574193548387,99.52570967741936,85.78643333333333,81.7111935483871,78.8054,60.06196774193548,84.4094193548387,159.15528571428572,186.95393548387096,319.12600000000003,158.85574193548388,60.53536666666666,48.178838709677414,77.41358064516129,52.25596666666667,30.676354838709678,50.03276666666667,71.69312903225807,1023.4319677419355,289.5269642857143,59.68664516129032,42.283033333333336,44.747032258064515,154.68643333333333,305.8454516129033],\"type\":\"scatter\",\"xaxis\":\"x\",\"yaxis\":\"y2\"}],                        {\"template\":{\"data\":{\"histogram2dcontour\":[{\"type\":\"histogram2dcontour\",\"colorbar\":{\"outlinewidth\":0,\"ticks\":\"\"},\"colorscale\":[[0.0,\"#0d0887\"],[0.1111111111111111,\"#46039f\"],[0.2222222222222222,\"#7201a8\"],[0.3333333333333333,\"#9c179e\"],[0.4444444444444444,\"#bd3786\"],[0.5555555555555556,\"#d8576b\"],[0.6666666666666666,\"#ed7953\"],[0.7777777777777778,\"#fb9f3a\"],[0.8888888888888888,\"#fdca26\"],[1.0,\"#f0f921\"]]}],\"choropleth\":[{\"type\":\"choropleth\",\"colorbar\":{\"outlinewidth\":0,\"ticks\":\"\"}}],\"histogram2d\":[{\"type\":\"histogram2d\",\"colorbar\":{\"outlinewidth\":0,\"ticks\":\"\"},\"colorscale\":[[0.0,\"#0d0887\"],[0.1111111111111111,\"#46039f\"],[0.2222222222222222,\"#7201a8\"],[0.3333333333333333,\"#9c179e\"],[0.4444444444444444,\"#bd3786\"],[0.5555555555555556,\"#d8576b\"],[0.6666666666666666,\"#ed7953\"],[0.7777777777777778,\"#fb9f3a\"],[0.8888888888888888,\"#fdca26\"],[1.0,\"#f0f921\"]]}],\"heatmap\":[{\"type\":\"heatmap\",\"colorbar\":{\"outlinewidth\":0,\"ticks\":\"\"},\"colorscale\":[[0.0,\"#0d0887\"],[0.1111111111111111,\"#46039f\"],[0.2222222222222222,\"#7201a8\"],[0.3333333333333333,\"#9c179e\"],[0.4444444444444444,\"#bd3786\"],[0.5555555555555556,\"#d8576b\"],[0.6666666666666666,\"#ed7953\"],[0.7777777777777778,\"#fb9f3a\"],[0.8888888888888888,\"#fdca26\"],[1.0,\"#f0f921\"]]}],\"heatmapgl\":[{\"type\":\"heatmapgl\",\"colorbar\":{\"outlinewidth\":0,\"ticks\":\"\"},\"colorscale\":[[0.0,\"#0d0887\"],[0.1111111111111111,\"#46039f\"],[0.2222222222222222,\"#7201a8\"],[0.3333333333333333,\"#9c179e\"],[0.4444444444444444,\"#bd3786\"],[0.5555555555555556,\"#d8576b\"],[0.6666666666666666,\"#ed7953\"],[0.7777777777777778,\"#fb9f3a\"],[0.8888888888888888,\"#fdca26\"],[1.0,\"#f0f921\"]]}],\"contourcarpet\":[{\"type\":\"contourcarpet\",\"colorbar\":{\"outlinewidth\":0,\"ticks\":\"\"}}],\"contour\":[{\"type\":\"contour\",\"colorbar\":{\"outlinewidth\":0,\"ticks\":\"\"},\"colorscale\":[[0.0,\"#0d0887\"],[0.1111111111111111,\"#46039f\"],[0.2222222222222222,\"#7201a8\"],[0.3333333333333333,\"#9c179e\"],[0.4444444444444444,\"#bd3786\"],[0.5555555555555556,\"#d8576b\"],[0.6666666666666666,\"#ed7953\"],[0.7777777777777778,\"#fb9f3a\"],[0.8888888888888888,\"#fdca26\"],[1.0,\"#f0f921\"]]}],\"surface\":[{\"type\":\"surface\",\"colorbar\":{\"outlinewidth\":0,\"ticks\":\"\"},\"colorscale\":[[0.0,\"#0d0887\"],[0.1111111111111111,\"#46039f\"],[0.2222222222222222,\"#7201a8\"],[0.3333333333333333,\"#9c179e\"],[0.4444444444444444,\"#bd3786\"],[0.5555555555555556,\"#d8576b\"],[0.6666666666666666,\"#ed7953\"],[0.7777777777777778,\"#fb9f3a\"],[0.8888888888888888,\"#fdca26\"],[1.0,\"#f0f921\"]]}],\"mesh3d\":[{\"type\":\"mesh3d\",\"colorbar\":{\"outlinewidth\":0,\"ticks\":\"\"}}],\"scatter\":[{\"fillpattern\":{\"fillmode\":\"overlay\",\"size\":10,\"solidity\":0.2},\"type\":\"scatter\"}],\"parcoords\":[{\"type\":\"parcoords\",\"line\":{\"colorbar\":{\"outlinewidth\":0,\"ticks\":\"\"}}}],\"scatterpolargl\":[{\"type\":\"scatterpolargl\",\"marker\":{\"colorbar\":{\"outlinewidth\":0,\"ticks\":\"\"}}}],\"bar\":[{\"error_x\":{\"color\":\"#2a3f5f\"},\"error_y\":{\"color\":\"#2a3f5f\"},\"marker\":{\"line\":{\"color\":\"#E5ECF6\",\"width\":0.5},\"pattern\":{\"fillmode\":\"overlay\",\"size\":10,\"solidity\":0.2}},\"type\":\"bar\"}],\"scattergeo\":[{\"type\":\"scattergeo\",\"marker\":{\"colorbar\":{\"outlinewidth\":0,\"ticks\":\"\"}}}],\"scatterpolar\":[{\"type\":\"scatterpolar\",\"marker\":{\"colorbar\":{\"outlinewidth\":0,\"ticks\":\"\"}}}],\"histogram\":[{\"marker\":{\"pattern\":{\"fillmode\":\"overlay\",\"size\":10,\"solidity\":0.2}},\"type\":\"histogram\"}],\"scattergl\":[{\"type\":\"scattergl\",\"marker\":{\"colorbar\":{\"outlinewidth\":0,\"ticks\":\"\"}}}],\"scatter3d\":[{\"type\":\"scatter3d\",\"line\":{\"colorbar\":{\"outlinewidth\":0,\"ticks\":\"\"}},\"marker\":{\"colorbar\":{\"outlinewidth\":0,\"ticks\":\"\"}}}],\"scattermapbox\":[{\"type\":\"scattermapbox\",\"marker\":{\"colorbar\":{\"outlinewidth\":0,\"ticks\":\"\"}}}],\"scatterternary\":[{\"type\":\"scatterternary\",\"marker\":{\"colorbar\":{\"outlinewidth\":0,\"ticks\":\"\"}}}],\"scattercarpet\":[{\"type\":\"scattercarpet\",\"marker\":{\"colorbar\":{\"outlinewidth\":0,\"ticks\":\"\"}}}],\"carpet\":[{\"aaxis\":{\"endlinecolor\":\"#2a3f5f\",\"gridcolor\":\"white\",\"linecolor\":\"white\",\"minorgridcolor\":\"white\",\"startlinecolor\":\"#2a3f5f\"},\"baxis\":{\"endlinecolor\":\"#2a3f5f\",\"gridcolor\":\"white\",\"linecolor\":\"white\",\"minorgridcolor\":\"white\",\"startlinecolor\":\"#2a3f5f\"},\"type\":\"carpet\"}],\"table\":[{\"cells\":{\"fill\":{\"color\":\"#EBF0F8\"},\"line\":{\"color\":\"white\"}},\"header\":{\"fill\":{\"color\":\"#C8D4E3\"},\"line\":{\"color\":\"white\"}},\"type\":\"table\"}],\"barpolar\":[{\"marker\":{\"line\":{\"color\":\"#E5ECF6\",\"width\":0.5},\"pattern\":{\"fillmode\":\"overlay\",\"size\":10,\"solidity\":0.2}},\"type\":\"barpolar\"}],\"pie\":[{\"automargin\":true,\"type\":\"pie\"}]},\"layout\":{\"autotypenumbers\":\"strict\",\"colorway\":[\"#636efa\",\"#EF553B\",\"#00cc96\",\"#ab63fa\",\"#FFA15A\",\"#19d3f3\",\"#FF6692\",\"#B6E880\",\"#FF97FF\",\"#FECB52\"],\"font\":{\"color\":\"#2a3f5f\"},\"hovermode\":\"closest\",\"hoverlabel\":{\"align\":\"left\"},\"paper_bgcolor\":\"white\",\"plot_bgcolor\":\"#E5ECF6\",\"polar\":{\"bgcolor\":\"#E5ECF6\",\"angularaxis\":{\"gridcolor\":\"white\",\"linecolor\":\"white\",\"ticks\":\"\"},\"radialaxis\":{\"gridcolor\":\"white\",\"linecolor\":\"white\",\"ticks\":\"\"}},\"ternary\":{\"bgcolor\":\"#E5ECF6\",\"aaxis\":{\"gridcolor\":\"white\",\"linecolor\":\"white\",\"ticks\":\"\"},\"baxis\":{\"gridcolor\":\"white\",\"linecolor\":\"white\",\"ticks\":\"\"},\"caxis\":{\"gridcolor\":\"white\",\"linecolor\":\"white\",\"ticks\":\"\"}},\"coloraxis\":{\"colorbar\":{\"outlinewidth\":0,\"ticks\":\"\"}},\"colorscale\":{\"sequential\":[[0.0,\"#0d0887\"],[0.1111111111111111,\"#46039f\"],[0.2222222222222222,\"#7201a8\"],[0.3333333333333333,\"#9c179e\"],[0.4444444444444444,\"#bd3786\"],[0.5555555555555556,\"#d8576b\"],[0.6666666666666666,\"#ed7953\"],[0.7777777777777778,\"#fb9f3a\"],[0.8888888888888888,\"#fdca26\"],[1.0,\"#f0f921\"]],\"sequentialminus\":[[0.0,\"#0d0887\"],[0.1111111111111111,\"#46039f\"],[0.2222222222222222,\"#7201a8\"],[0.3333333333333333,\"#9c179e\"],[0.4444444444444444,\"#bd3786\"],[0.5555555555555556,\"#d8576b\"],[0.6666666666666666,\"#ed7953\"],[0.7777777777777778,\"#fb9f3a\"],[0.8888888888888888,\"#fdca26\"],[1.0,\"#f0f921\"]],\"diverging\":[[0,\"#8e0152\"],[0.1,\"#c51b7d\"],[0.2,\"#de77ae\"],[0.3,\"#f1b6da\"],[0.4,\"#fde0ef\"],[0.5,\"#f7f7f7\"],[0.6,\"#e6f5d0\"],[0.7,\"#b8e186\"],[0.8,\"#7fbc41\"],[0.9,\"#4d9221\"],[1,\"#276419\"]]},\"xaxis\":{\"gridcolor\":\"white\",\"linecolor\":\"white\",\"ticks\":\"\",\"title\":{\"standoff\":15},\"zerolinecolor\":\"white\",\"automargin\":true,\"zerolinewidth\":2},\"yaxis\":{\"gridcolor\":\"white\",\"linecolor\":\"white\",\"ticks\":\"\",\"title\":{\"standoff\":15},\"zerolinecolor\":\"white\",\"automargin\":true,\"zerolinewidth\":2},\"scene\":{\"xaxis\":{\"backgroundcolor\":\"#E5ECF6\",\"gridcolor\":\"white\",\"linecolor\":\"white\",\"showbackground\":true,\"ticks\":\"\",\"zerolinecolor\":\"white\",\"gridwidth\":2},\"yaxis\":{\"backgroundcolor\":\"#E5ECF6\",\"gridcolor\":\"white\",\"linecolor\":\"white\",\"showbackground\":true,\"ticks\":\"\",\"zerolinecolor\":\"white\",\"gridwidth\":2},\"zaxis\":{\"backgroundcolor\":\"#E5ECF6\",\"gridcolor\":\"white\",\"linecolor\":\"white\",\"showbackground\":true,\"ticks\":\"\",\"zerolinecolor\":\"white\",\"gridwidth\":2}},\"shapedefaults\":{\"line\":{\"color\":\"#2a3f5f\"}},\"annotationdefaults\":{\"arrowcolor\":\"#2a3f5f\",\"arrowhead\":0,\"arrowwidth\":1},\"geo\":{\"bgcolor\":\"white\",\"landcolor\":\"#E5ECF6\",\"subunitcolor\":\"white\",\"showland\":true,\"showlakes\":true,\"lakecolor\":\"white\"},\"title\":{\"x\":0.05},\"mapbox\":{\"style\":\"light\"}}},\"xaxis\":{\"anchor\":\"y\",\"domain\":[0.0,0.94],\"title\":{\"text\":\"Date\"}},\"yaxis\":{\"anchor\":\"x\",\"domain\":[0.0,1.0],\"title\":{\"text\":\"Transported cargo [Tonnes]\"}},\"yaxis2\":{\"anchor\":\"x\",\"overlaying\":\"y\",\"side\":\"right\",\"title\":{\"text\":\"Covid cases per million people\"}},\"title\":{\"text\":\"Flight passengers compared to the covid cases per million\"},\"updatemenus\":[{\"bordercolor\":\"grey\",\"buttons\":[{\"args\":[\"visible\",[true,true,true,true,true,true,true,true,true,true]],\"label\":\"All\",\"method\":\"restyle\"},{\"args\":[\"visible\",[true,true,false,false,false,false,false,false,false,false]],\"label\":\"China\",\"method\":\"restyle\"},{\"args\":[\"visible\",[false,false,true,true,false,false,false,false,false,false]],\"label\":\"United Arab Emirates\",\"method\":\"restyle\"},{\"args\":[\"visible\",[false,false,false,false,true,true,false,false,false,false]],\"label\":\"United States\",\"method\":\"restyle\"},{\"args\":[\"visible\",[false,false,false,false,false,false,true,true,false,false]],\"label\":\"Brazil\",\"method\":\"restyle\"},{\"args\":[\"visible\",[false,false,false,false,false,false,false,false,true,true]],\"label\":\"Qatar\",\"method\":\"restyle\"},{\"args\":[\"visible\",[false,true,false,true,false,true,false,true,false,true]],\"label\":\"Covid only\",\"method\":\"restyle\"},{\"args\":[\"visible\",[true,false,true,false,true,false,true,false,true,false]],\"label\":\"Flight only\",\"method\":\"restyle\"}],\"direction\":\"right\",\"type\":\"dropdown\",\"x\":0.17,\"y\":1.16}]},                        {\"responsive\": true}                    ).then(function(){\n",
       "                            \n",
       "var gd = document.getElementById('f6e83dd2-722b-4502-ad45-499b223cc476');\n",
       "var x = new MutationObserver(function (mutations, observer) {{\n",
       "        var display = window.getComputedStyle(gd).display;\n",
       "        if (!display || display === 'none') {{\n",
       "            console.log([gd, 'removed!']);\n",
       "            Plotly.purge(gd);\n",
       "            observer.disconnect();\n",
       "        }}\n",
       "}});\n",
       "\n",
       "// Listen for the removal of the full notebook cells\n",
       "var notebookContainer = gd.closest('#notebook-container');\n",
       "if (notebookContainer) {{\n",
       "    x.observe(notebookContainer, {childList: true});\n",
       "}}\n",
       "\n",
       "// Listen for the clearing of the current output cell\n",
       "var outputEl = gd.closest('.output');\n",
       "if (outputEl) {{\n",
       "    x.observe(outputEl, {childList: true});\n",
       "}}\n",
       "\n",
       "                        })                };                });            </script>        </div>"
      ]
     },
     "metadata": {},
     "output_type": "display_data"
    }
   ],
   "source": [
    "\n",
    "fig = make_subplots(specs=[[{'secondary_y': True}]])\n",
    "fig.add_trace(\n",
    "    go.Scatter(x = merged_cargo[merged_cargo['location']== 'China']['date'],y = merged_cargo[merged_cargo['location']== 'China']['OBS_VALUE'], name='China flight'),\n",
    "    secondary_y=False\n",
    ")\n",
    "fig.add_trace(\n",
    "    go.Scatter(x = merged_cargo[merged_cargo['location']== 'China']['date'],y = merged_cargo[merged_cargo['location']== 'China']['new_cases_smoothed_per_million'], name='China covid'),\n",
    "    secondary_y=True,\n",
    ")\n",
    "fig.add_trace(\n",
    "    go.Scatter(x = merged_cargo[merged_cargo['location']== 'United Arab Emirates']['date'],y = merged_cargo[merged_cargo['location']== 'United Arab Emirates']['OBS_VALUE'], name='United Arab Emirates flight'),\n",
    "    secondary_y=False\n",
    ")\n",
    "fig.add_trace(\n",
    "    go.Scatter(x = merged_cargo[merged_cargo['location']== 'United Arab Emirates']['date'],y = merged_cargo[merged_cargo['location']== 'United Arab Emirates']['new_cases_smoothed_per_million'], name='United Arab Emirates covid'),\n",
    "    secondary_y=True,\n",
    ")\n",
    "fig.add_trace(\n",
    "    go.Scatter(x = merged_cargo[merged_cargo['location']== 'United States']['date'],y = merged_cargo[merged_cargo['location']== 'United States']['OBS_VALUE'], name='United States flight'),\n",
    "    secondary_y=False\n",
    ")\n",
    "fig.add_trace(\n",
    "    go.Scatter(x = merged_cargo[merged_cargo['location']== 'United States']['date'],y = merged_cargo[merged_cargo['location']== 'United States']['new_cases_smoothed_per_million'], name='United States covid'),\n",
    "    secondary_y=True,\n",
    ")\n",
    "fig.add_trace(\n",
    "    go.Scatter(x = merged_cargo[merged_cargo['location']== 'Brazil']['date'],y = merged_cargo[merged_cargo['location']== 'Brazil']['OBS_VALUE'], name='Brazil flight'),\n",
    "    secondary_y=False\n",
    ")\n",
    "fig.add_trace(\n",
    "    go.Scatter(x = merged_cargo[merged_cargo['location']== 'Brazil']['date'],y = merged_cargo[merged_cargo['location']== 'Brazil']['new_cases_smoothed_per_million'], name= 'Brazil covid'),\n",
    "    secondary_y=True,\n",
    ")\n",
    "fig.add_trace(\n",
    "    go.Scatter(x = merged_cargo[merged_cargo['location']== 'Qatar']['date'],y = merged_cargo[merged_cargo['location']== 'Qatar']['OBS_VALUE'], name='Qatar flight'),\n",
    "    secondary_y=False\n",
    ")\n",
    "fig.add_trace(\n",
    "    go.Scatter(x = merged_cargo[merged_cargo['location']== 'Qatar']['date'],y = merged_cargo[merged_cargo['location']== 'Qatar']['new_cases_smoothed_per_million'], name='Qatar covid'),\n",
    "    secondary_y=True,\n",
    ")\n",
    "\n",
    "options2 = ['All','China','United Arab Emirates','United States','Brazil','Qatar','Covid only','Flight only']\n",
    "visList = [\n",
    "    [True,True,True,True,True,True,True,True,True,True],\n",
    "    [True,True,False,False,False,False,False,False,False,False],\n",
    "    [False,False,True,True,False,False,False,False,False,False],\n",
    "    [False,False,False,False,True,True,False,False,False,False],\n",
    "    [False,False,False,False,False,False,True,True,False,False],\n",
    "    [False,False,False,False,False,False,False,False,True,True],\n",
    "    [False,True,False,True,False,True,False,True,False,True],\n",
    "    [True,False,True,False,True,False,True,False,True,False]]\n",
    "buttons = []\n",
    "for i, g in enumerate(options2):\n",
    "    button = dict(label =  g,\n",
    "    method = 'restyle',\n",
    "    args = ['visible',visList[i]])\n",
    "    buttons.append(button)\n",
    "\n",
    "fig.update_layout(\n",
    "    xaxis_title='Date',\n",
    "    yaxis_title='Transported cargo [Tonnes]',\n",
    "    title_text='Flight passengers compared to the covid cases per million',\n",
    "    updatemenus=[\n",
    "        dict(\n",
    "            type='dropdown',\n",
    "            direction='right',\n",
    "            buttons = buttons,\n",
    "            x = 0.17,\n",
    "            y = 1.16,\n",
    "            bordercolor = 'grey'   \n",
    "        )\n",
    "    ],\n",
    ")\n",
    "fig.update_yaxes(title_text='Covid cases per million people', secondary_y=True)\n",
    "fig.show()"
   ]
  },
  {
   "cell_type": "code",
   "execution_count": 64,
   "metadata": {},
   "outputs": [
    {
     "data": {
      "application/vnd.plotly.v1+json": {
       "config": {
        "plotlyServerURL": "https://plot.ly"
       },
       "data": [
        {
         "name": "Germany flight",
         "type": "scatter",
         "x": [
          "2020-01",
          "2020-02",
          "2020-03",
          "2020-04",
          "2020-05",
          "2020-06",
          "2020-07",
          "2020-08",
          "2020-09",
          "2020-10",
          "2020-11",
          "2020-12",
          "2021-01",
          "2021-02",
          "2021-03",
          "2021-04",
          "2021-05",
          "2021-06",
          "2021-07",
          "2021-08",
          "2021-09",
          "2021-10",
          "2021-11",
          "2021-12",
          "2022-01",
          "2022-02",
          "2022-03",
          "2022-04",
          "2022-05",
          "2022-06",
          "2022-07"
         ],
         "xaxis": "x",
         "y": [
          279377,
          262496,
          142343,
          11945,
          16475,
          28134,
          67501,
          114559,
          87506,
          54028,
          31909,
          39599,
          27069,
          16647,
          24668,
          25359,
          32597,
          50539,
          96019,
          111088,
          120081,
          136878,
          120563,
          98493,
          80311,
          85641,
          127463,
          150562,
          178758,
          176474,
          155860
         ],
         "yaxis": "y"
        },
        {
         "name": "Germany vaccinations",
         "type": "scatter",
         "x": [
          "2020-01",
          "2020-02",
          "2020-03",
          "2020-04",
          "2020-05",
          "2020-06",
          "2020-07",
          "2020-08",
          "2020-09",
          "2020-10",
          "2020-11",
          "2020-12",
          "2021-01",
          "2021-02",
          "2021-03",
          "2021-04",
          "2021-05",
          "2021-06",
          "2021-07",
          "2021-08",
          "2021-09",
          "2021-10",
          "2021-11",
          "2021-12",
          "2022-01",
          "2022-02",
          "2022-03",
          "2022-04",
          "2022-05",
          "2022-06",
          "2022-07"
         ],
         "xaxis": "x",
         "y": [
          null,
          null,
          null,
          null,
          null,
          null,
          null,
          null,
          null,
          null,
          null,
          null,
          0.3064705882352941,
          1.782857142857143,
          3.7948387096774194,
          6.463333333333334,
          12.178064516129032,
          28.428333333333335,
          45.54290322580645,
          57.34645161290322,
          62.449,
          65.34612903225806,
          67.33633333333333,
          69.7158064516129,
          72.41032258064516,
          74.59214285714286,
          75.42483870967742,
          75.724,
          75.86354838709677,
          75.93833333333333,
          75.99741935483871
         ],
         "yaxis": "y2"
        },
        {
         "name": "Italy flight",
         "type": "scatter",
         "x": [
          "2020-01",
          "2020-02",
          "2020-03",
          "2020-04",
          "2020-05",
          "2020-06",
          "2020-07",
          "2020-08",
          "2020-09",
          "2020-10",
          "2020-11",
          "2020-12",
          "2021-01",
          "2021-02",
          "2021-03",
          "2021-04",
          "2021-05",
          "2021-06",
          "2021-07",
          "2021-08",
          "2021-09",
          "2021-10",
          "2021-11",
          "2021-12",
          "2022-01",
          "2022-02",
          "2022-03",
          "2022-04",
          "2022-05",
          "2022-06",
          "2022-07"
         ],
         "xaxis": "x",
         "y": [
          193322,
          182169,
          37838,
          60,
          4856,
          25896,
          58580,
          93024,
          90080,
          61809,
          31303,
          40417,
          35139,
          28212,
          31026,
          35890,
          54019,
          81386,
          187986,
          222028,
          204901,
          236047,
          167406,
          122116,
          95603,
          136112,
          203409,
          249461,
          288108,
          282619,
          260973
         ],
         "yaxis": "y"
        },
        {
         "name": "Italy vaccinations",
         "type": "scatter",
         "x": [
          "2020-01",
          "2020-02",
          "2020-03",
          "2020-04",
          "2020-05",
          "2020-06",
          "2020-07",
          "2020-08",
          "2020-09",
          "2020-10",
          "2020-11",
          "2020-12",
          "2021-01",
          "2021-02",
          "2021-03",
          "2021-04",
          "2021-05",
          "2021-06",
          "2021-07",
          "2021-08",
          "2021-09",
          "2021-10",
          "2021-11",
          "2021-12",
          "2022-01",
          "2022-02",
          "2022-03",
          "2022-04",
          "2022-05",
          "2022-06",
          "2022-07"
         ],
         "xaxis": "x",
         "y": [
          null,
          null,
          null,
          null,
          null,
          null,
          null,
          null,
          null,
          null,
          null,
          null,
          0.19357142857142856,
          2.1239285714285714,
          3.825483870967742,
          7.545,
          15.173870967741935,
          25.685666666666666,
          43.157419354838716,
          58.513548387096776,
          66.126,
          71.2567741935484,
          73.815,
          74.98290322580644,
          76.61999999999999,
          79.20642857142856,
          80.51967741935485,
          80.80066666666667,
          80.87870967741935,
          80.912,
          80.9341935483871
         ],
         "yaxis": "y2"
        },
        {
         "name": "United States flight",
         "type": "scatter",
         "x": [
          "2020-01",
          "2020-02",
          "2020-03",
          "2020-04",
          "2020-05",
          "2020-06",
          "2020-07",
          "2020-08",
          "2020-09",
          "2020-10",
          "2020-11",
          "2020-12",
          "2021-01",
          "2021-02",
          "2021-03",
          "2021-04",
          "2021-05",
          "2021-06",
          "2021-07",
          "2021-08",
          "2021-09",
          "2021-10",
          "2021-11",
          "2021-12",
          "2022-01",
          "2022-02",
          "2022-03",
          "2022-04",
          "2022-05",
          "2022-06",
          "2022-07"
         ],
         "xaxis": "x",
         "y": [
          254649,
          224105,
          128254,
          16988,
          21956,
          35769,
          42472,
          45582,
          37247,
          39167,
          39821,
          62952,
          56575,
          24904,
          36341,
          44518,
          67191,
          110219,
          174286,
          204293,
          156388,
          146520,
          171080,
          192042,
          186936,
          151179,
          266160,
          380274,
          445252,
          512371,
          518815
         ],
         "yaxis": "y"
        },
        {
         "name": "United States vaccinations",
         "type": "scatter",
         "x": [
          "2020-01",
          "2020-02",
          "2020-03",
          "2020-04",
          "2020-05",
          "2020-06",
          "2020-07",
          "2020-08",
          "2020-09",
          "2020-10",
          "2020-11",
          "2020-12",
          "2021-01",
          "2021-02",
          "2021-03",
          "2021-04",
          "2021-05",
          "2021-06",
          "2021-07",
          "2021-08",
          "2021-09",
          "2021-10",
          "2021-11",
          "2021-12",
          "2022-01",
          "2022-02",
          "2022-03",
          "2022-04",
          "2022-05",
          "2022-06",
          "2022-07"
         ],
         "xaxis": "x",
         "y": [
          null,
          null,
          null,
          null,
          null,
          null,
          null,
          null,
          null,
          null,
          null,
          0.005263157894736842,
          0.8738709677419355,
          5.576785714285714,
          14.069354838709677,
          27.366333333333333,
          40.36322580645161,
          47.25366666666666,
          50.42,
          52.8258064516129,
          56.044666666666664,
          58.49161290322581,
          60.083999999999996,
          62.292258064516126,
          63.96258064516129,
          65.19571428571429,
          65.84225806451613,
          66.29933333333334,
          66.70451612903226,
          67.01966666666667,
          67.27225806451614
         ],
         "yaxis": "y2"
        },
        {
         "name": "United Kingdom flight",
         "type": "scatter",
         "x": [
          "2020-01",
          "2020-02",
          "2020-03",
          "2020-04",
          "2020-05",
          "2020-06",
          "2020-07",
          "2020-08",
          "2020-09",
          "2020-10",
          "2020-11",
          "2020-12",
          "2021-01",
          "2021-02",
          "2021-03",
          "2021-04",
          "2021-05",
          "2021-06",
          "2021-07",
          "2021-08",
          "2021-09",
          "2021-10",
          "2021-11",
          "2021-12",
          "2022-01",
          "2022-02",
          "2022-03",
          "2022-04",
          "2022-05",
          "2022-06",
          "2022-07"
         ],
         "xaxis": "x",
         "y": [
          680911,
          644881,
          334026,
          13203,
          21970,
          35748,
          105438,
          167675,
          109887,
          89093,
          74698,
          99882,
          43705,
          0,
          15930,
          44273,
          59678,
          72939,
          86151,
          120553,
          155718,
          218300,
          222256,
          160845,
          160791,
          236145,
          399254,
          524220,
          554654,
          556050,
          490787
         ],
         "yaxis": "y"
        },
        {
         "name": "United Kingdom vaccinations",
         "type": "scatter",
         "x": [
          "2020-01",
          "2020-02",
          "2020-03",
          "2020-04",
          "2020-05",
          "2020-06",
          "2020-07",
          "2020-08",
          "2020-09",
          "2020-10",
          "2020-11",
          "2020-12",
          "2021-01",
          "2021-02",
          "2021-03",
          "2021-04",
          "2021-05",
          "2021-06",
          "2021-07",
          "2021-08",
          "2021-09",
          "2021-10",
          "2021-11",
          "2021-12",
          "2022-01",
          "2022-02",
          "2022-03",
          "2022-04",
          "2022-05",
          "2022-06",
          "2022-07"
         ],
         "xaxis": "x",
         "y": [
          null,
          null,
          null,
          null,
          null,
          null,
          null,
          null,
          null,
          null,
          null,
          null,
          0.6809090909090909,
          0.8742857142857143,
          3.101612903225807,
          13.964,
          30.29258064516129,
          44.855000000000004,
          53.12903225806452,
          60.63903225806452,
          65.641,
          67.39612903225807,
          68.44866666666667,
          69.76290322580645,
          71.26225806451613,
          72.48821428571429,
          73.19483870967741,
          73.73433333333334,
          74.13774193548387,
          74.44966666666666,
          74.8583870967742
         ],
         "yaxis": "y2"
        },
        {
         "name": "Spain flight",
         "type": "scatter",
         "x": [
          "2020-02",
          "2020-03",
          "2020-04",
          "2020-05",
          "2020-06",
          "2020-07",
          "2020-08",
          "2020-09",
          "2020-10",
          "2020-11",
          "2020-12",
          "2021-01",
          "2021-02",
          "2021-03",
          "2021-04",
          "2021-05",
          "2021-06",
          "2021-07",
          "2021-08",
          "2021-09",
          "2021-10",
          "2021-11",
          "2021-12",
          "2022-01",
          "2022-02",
          "2022-03",
          "2022-04",
          "2022-05",
          "2022-06",
          "2022-07"
         ],
         "xaxis": "x",
         "y": [
          319412,
          168625,
          1259,
          8158,
          25678,
          146712,
          164241,
          64318,
          62911,
          62132,
          79995,
          55903,
          36879,
          56719,
          77211,
          141800,
          224998,
          360073,
          492039,
          441274,
          496486,
          328821,
          300378,
          306124,
          302200,
          412257,
          469193,
          546915,
          515411,
          493600
         ],
         "yaxis": "y"
        },
        {
         "name": "Spain vaccinations",
         "type": "scatter",
         "x": [
          "2020-02",
          "2020-03",
          "2020-04",
          "2020-05",
          "2020-06",
          "2020-07",
          "2020-08",
          "2020-09",
          "2020-10",
          "2020-11",
          "2020-12",
          "2021-01",
          "2021-02",
          "2021-03",
          "2021-04",
          "2021-05",
          "2021-06",
          "2021-07",
          "2021-08",
          "2021-09",
          "2021-10",
          "2021-11",
          "2021-12",
          "2022-01",
          "2022-02",
          "2022-03",
          "2022-04",
          "2022-05",
          "2022-06",
          "2022-07"
         ],
         "xaxis": "x",
         "y": [
          null,
          null,
          null,
          null,
          null,
          null,
          null,
          null,
          null,
          null,
          null,
          0.25363636363636366,
          2.065,
          3.9171428571428573,
          7.253636363636364,
          15.174545454545454,
          28.67772727272727,
          48.84619047619047,
          63.58826086956522,
          74.85,
          78.0475,
          78.9595,
          79.53222222222222,
          80.38333333333333,
          81.2955,
          83.46000000000001,
          84.9875,
          85.22,
          85.36600000000001,
          85.48
         ],
         "yaxis": "y2"
        }
       ],
       "layout": {
        "template": {
         "data": {
          "bar": [
           {
            "error_x": {
             "color": "#2a3f5f"
            },
            "error_y": {
             "color": "#2a3f5f"
            },
            "marker": {
             "line": {
              "color": "#E5ECF6",
              "width": 0.5
             },
             "pattern": {
              "fillmode": "overlay",
              "size": 10,
              "solidity": 0.2
             }
            },
            "type": "bar"
           }
          ],
          "barpolar": [
           {
            "marker": {
             "line": {
              "color": "#E5ECF6",
              "width": 0.5
             },
             "pattern": {
              "fillmode": "overlay",
              "size": 10,
              "solidity": 0.2
             }
            },
            "type": "barpolar"
           }
          ],
          "carpet": [
           {
            "aaxis": {
             "endlinecolor": "#2a3f5f",
             "gridcolor": "white",
             "linecolor": "white",
             "minorgridcolor": "white",
             "startlinecolor": "#2a3f5f"
            },
            "baxis": {
             "endlinecolor": "#2a3f5f",
             "gridcolor": "white",
             "linecolor": "white",
             "minorgridcolor": "white",
             "startlinecolor": "#2a3f5f"
            },
            "type": "carpet"
           }
          ],
          "choropleth": [
           {
            "colorbar": {
             "outlinewidth": 0,
             "ticks": ""
            },
            "type": "choropleth"
           }
          ],
          "contour": [
           {
            "colorbar": {
             "outlinewidth": 0,
             "ticks": ""
            },
            "colorscale": [
             [
              0,
              "#0d0887"
             ],
             [
              0.1111111111111111,
              "#46039f"
             ],
             [
              0.2222222222222222,
              "#7201a8"
             ],
             [
              0.3333333333333333,
              "#9c179e"
             ],
             [
              0.4444444444444444,
              "#bd3786"
             ],
             [
              0.5555555555555556,
              "#d8576b"
             ],
             [
              0.6666666666666666,
              "#ed7953"
             ],
             [
              0.7777777777777778,
              "#fb9f3a"
             ],
             [
              0.8888888888888888,
              "#fdca26"
             ],
             [
              1,
              "#f0f921"
             ]
            ],
            "type": "contour"
           }
          ],
          "contourcarpet": [
           {
            "colorbar": {
             "outlinewidth": 0,
             "ticks": ""
            },
            "type": "contourcarpet"
           }
          ],
          "heatmap": [
           {
            "colorbar": {
             "outlinewidth": 0,
             "ticks": ""
            },
            "colorscale": [
             [
              0,
              "#0d0887"
             ],
             [
              0.1111111111111111,
              "#46039f"
             ],
             [
              0.2222222222222222,
              "#7201a8"
             ],
             [
              0.3333333333333333,
              "#9c179e"
             ],
             [
              0.4444444444444444,
              "#bd3786"
             ],
             [
              0.5555555555555556,
              "#d8576b"
             ],
             [
              0.6666666666666666,
              "#ed7953"
             ],
             [
              0.7777777777777778,
              "#fb9f3a"
             ],
             [
              0.8888888888888888,
              "#fdca26"
             ],
             [
              1,
              "#f0f921"
             ]
            ],
            "type": "heatmap"
           }
          ],
          "heatmapgl": [
           {
            "colorbar": {
             "outlinewidth": 0,
             "ticks": ""
            },
            "colorscale": [
             [
              0,
              "#0d0887"
             ],
             [
              0.1111111111111111,
              "#46039f"
             ],
             [
              0.2222222222222222,
              "#7201a8"
             ],
             [
              0.3333333333333333,
              "#9c179e"
             ],
             [
              0.4444444444444444,
              "#bd3786"
             ],
             [
              0.5555555555555556,
              "#d8576b"
             ],
             [
              0.6666666666666666,
              "#ed7953"
             ],
             [
              0.7777777777777778,
              "#fb9f3a"
             ],
             [
              0.8888888888888888,
              "#fdca26"
             ],
             [
              1,
              "#f0f921"
             ]
            ],
            "type": "heatmapgl"
           }
          ],
          "histogram": [
           {
            "marker": {
             "pattern": {
              "fillmode": "overlay",
              "size": 10,
              "solidity": 0.2
             }
            },
            "type": "histogram"
           }
          ],
          "histogram2d": [
           {
            "colorbar": {
             "outlinewidth": 0,
             "ticks": ""
            },
            "colorscale": [
             [
              0,
              "#0d0887"
             ],
             [
              0.1111111111111111,
              "#46039f"
             ],
             [
              0.2222222222222222,
              "#7201a8"
             ],
             [
              0.3333333333333333,
              "#9c179e"
             ],
             [
              0.4444444444444444,
              "#bd3786"
             ],
             [
              0.5555555555555556,
              "#d8576b"
             ],
             [
              0.6666666666666666,
              "#ed7953"
             ],
             [
              0.7777777777777778,
              "#fb9f3a"
             ],
             [
              0.8888888888888888,
              "#fdca26"
             ],
             [
              1,
              "#f0f921"
             ]
            ],
            "type": "histogram2d"
           }
          ],
          "histogram2dcontour": [
           {
            "colorbar": {
             "outlinewidth": 0,
             "ticks": ""
            },
            "colorscale": [
             [
              0,
              "#0d0887"
             ],
             [
              0.1111111111111111,
              "#46039f"
             ],
             [
              0.2222222222222222,
              "#7201a8"
             ],
             [
              0.3333333333333333,
              "#9c179e"
             ],
             [
              0.4444444444444444,
              "#bd3786"
             ],
             [
              0.5555555555555556,
              "#d8576b"
             ],
             [
              0.6666666666666666,
              "#ed7953"
             ],
             [
              0.7777777777777778,
              "#fb9f3a"
             ],
             [
              0.8888888888888888,
              "#fdca26"
             ],
             [
              1,
              "#f0f921"
             ]
            ],
            "type": "histogram2dcontour"
           }
          ],
          "mesh3d": [
           {
            "colorbar": {
             "outlinewidth": 0,
             "ticks": ""
            },
            "type": "mesh3d"
           }
          ],
          "parcoords": [
           {
            "line": {
             "colorbar": {
              "outlinewidth": 0,
              "ticks": ""
             }
            },
            "type": "parcoords"
           }
          ],
          "pie": [
           {
            "automargin": true,
            "type": "pie"
           }
          ],
          "scatter": [
           {
            "fillpattern": {
             "fillmode": "overlay",
             "size": 10,
             "solidity": 0.2
            },
            "type": "scatter"
           }
          ],
          "scatter3d": [
           {
            "line": {
             "colorbar": {
              "outlinewidth": 0,
              "ticks": ""
             }
            },
            "marker": {
             "colorbar": {
              "outlinewidth": 0,
              "ticks": ""
             }
            },
            "type": "scatter3d"
           }
          ],
          "scattercarpet": [
           {
            "marker": {
             "colorbar": {
              "outlinewidth": 0,
              "ticks": ""
             }
            },
            "type": "scattercarpet"
           }
          ],
          "scattergeo": [
           {
            "marker": {
             "colorbar": {
              "outlinewidth": 0,
              "ticks": ""
             }
            },
            "type": "scattergeo"
           }
          ],
          "scattergl": [
           {
            "marker": {
             "colorbar": {
              "outlinewidth": 0,
              "ticks": ""
             }
            },
            "type": "scattergl"
           }
          ],
          "scattermapbox": [
           {
            "marker": {
             "colorbar": {
              "outlinewidth": 0,
              "ticks": ""
             }
            },
            "type": "scattermapbox"
           }
          ],
          "scatterpolar": [
           {
            "marker": {
             "colorbar": {
              "outlinewidth": 0,
              "ticks": ""
             }
            },
            "type": "scatterpolar"
           }
          ],
          "scatterpolargl": [
           {
            "marker": {
             "colorbar": {
              "outlinewidth": 0,
              "ticks": ""
             }
            },
            "type": "scatterpolargl"
           }
          ],
          "scatterternary": [
           {
            "marker": {
             "colorbar": {
              "outlinewidth": 0,
              "ticks": ""
             }
            },
            "type": "scatterternary"
           }
          ],
          "surface": [
           {
            "colorbar": {
             "outlinewidth": 0,
             "ticks": ""
            },
            "colorscale": [
             [
              0,
              "#0d0887"
             ],
             [
              0.1111111111111111,
              "#46039f"
             ],
             [
              0.2222222222222222,
              "#7201a8"
             ],
             [
              0.3333333333333333,
              "#9c179e"
             ],
             [
              0.4444444444444444,
              "#bd3786"
             ],
             [
              0.5555555555555556,
              "#d8576b"
             ],
             [
              0.6666666666666666,
              "#ed7953"
             ],
             [
              0.7777777777777778,
              "#fb9f3a"
             ],
             [
              0.8888888888888888,
              "#fdca26"
             ],
             [
              1,
              "#f0f921"
             ]
            ],
            "type": "surface"
           }
          ],
          "table": [
           {
            "cells": {
             "fill": {
              "color": "#EBF0F8"
             },
             "line": {
              "color": "white"
             }
            },
            "header": {
             "fill": {
              "color": "#C8D4E3"
             },
             "line": {
              "color": "white"
             }
            },
            "type": "table"
           }
          ]
         },
         "layout": {
          "annotationdefaults": {
           "arrowcolor": "#2a3f5f",
           "arrowhead": 0,
           "arrowwidth": 1
          },
          "autotypenumbers": "strict",
          "coloraxis": {
           "colorbar": {
            "outlinewidth": 0,
            "ticks": ""
           }
          },
          "colorscale": {
           "diverging": [
            [
             0,
             "#8e0152"
            ],
            [
             0.1,
             "#c51b7d"
            ],
            [
             0.2,
             "#de77ae"
            ],
            [
             0.3,
             "#f1b6da"
            ],
            [
             0.4,
             "#fde0ef"
            ],
            [
             0.5,
             "#f7f7f7"
            ],
            [
             0.6,
             "#e6f5d0"
            ],
            [
             0.7,
             "#b8e186"
            ],
            [
             0.8,
             "#7fbc41"
            ],
            [
             0.9,
             "#4d9221"
            ],
            [
             1,
             "#276419"
            ]
           ],
           "sequential": [
            [
             0,
             "#0d0887"
            ],
            [
             0.1111111111111111,
             "#46039f"
            ],
            [
             0.2222222222222222,
             "#7201a8"
            ],
            [
             0.3333333333333333,
             "#9c179e"
            ],
            [
             0.4444444444444444,
             "#bd3786"
            ],
            [
             0.5555555555555556,
             "#d8576b"
            ],
            [
             0.6666666666666666,
             "#ed7953"
            ],
            [
             0.7777777777777778,
             "#fb9f3a"
            ],
            [
             0.8888888888888888,
             "#fdca26"
            ],
            [
             1,
             "#f0f921"
            ]
           ],
           "sequentialminus": [
            [
             0,
             "#0d0887"
            ],
            [
             0.1111111111111111,
             "#46039f"
            ],
            [
             0.2222222222222222,
             "#7201a8"
            ],
            [
             0.3333333333333333,
             "#9c179e"
            ],
            [
             0.4444444444444444,
             "#bd3786"
            ],
            [
             0.5555555555555556,
             "#d8576b"
            ],
            [
             0.6666666666666666,
             "#ed7953"
            ],
            [
             0.7777777777777778,
             "#fb9f3a"
            ],
            [
             0.8888888888888888,
             "#fdca26"
            ],
            [
             1,
             "#f0f921"
            ]
           ]
          },
          "colorway": [
           "#636efa",
           "#EF553B",
           "#00cc96",
           "#ab63fa",
           "#FFA15A",
           "#19d3f3",
           "#FF6692",
           "#B6E880",
           "#FF97FF",
           "#FECB52"
          ],
          "font": {
           "color": "#2a3f5f"
          },
          "geo": {
           "bgcolor": "white",
           "lakecolor": "white",
           "landcolor": "#E5ECF6",
           "showlakes": true,
           "showland": true,
           "subunitcolor": "white"
          },
          "hoverlabel": {
           "align": "left"
          },
          "hovermode": "closest",
          "mapbox": {
           "style": "light"
          },
          "paper_bgcolor": "white",
          "plot_bgcolor": "#E5ECF6",
          "polar": {
           "angularaxis": {
            "gridcolor": "white",
            "linecolor": "white",
            "ticks": ""
           },
           "bgcolor": "#E5ECF6",
           "radialaxis": {
            "gridcolor": "white",
            "linecolor": "white",
            "ticks": ""
           }
          },
          "scene": {
           "xaxis": {
            "backgroundcolor": "#E5ECF6",
            "gridcolor": "white",
            "gridwidth": 2,
            "linecolor": "white",
            "showbackground": true,
            "ticks": "",
            "zerolinecolor": "white"
           },
           "yaxis": {
            "backgroundcolor": "#E5ECF6",
            "gridcolor": "white",
            "gridwidth": 2,
            "linecolor": "white",
            "showbackground": true,
            "ticks": "",
            "zerolinecolor": "white"
           },
           "zaxis": {
            "backgroundcolor": "#E5ECF6",
            "gridcolor": "white",
            "gridwidth": 2,
            "linecolor": "white",
            "showbackground": true,
            "ticks": "",
            "zerolinecolor": "white"
           }
          },
          "shapedefaults": {
           "line": {
            "color": "#2a3f5f"
           }
          },
          "ternary": {
           "aaxis": {
            "gridcolor": "white",
            "linecolor": "white",
            "ticks": ""
           },
           "baxis": {
            "gridcolor": "white",
            "linecolor": "white",
            "ticks": ""
           },
           "bgcolor": "#E5ECF6",
           "caxis": {
            "gridcolor": "white",
            "linecolor": "white",
            "ticks": ""
           }
          },
          "title": {
           "x": 0.05
          },
          "xaxis": {
           "automargin": true,
           "gridcolor": "white",
           "linecolor": "white",
           "ticks": "",
           "title": {
            "standoff": 15
           },
           "zerolinecolor": "white",
           "zerolinewidth": 2
          },
          "yaxis": {
           "automargin": true,
           "gridcolor": "white",
           "linecolor": "white",
           "ticks": "",
           "title": {
            "standoff": 15
           },
           "zerolinecolor": "white",
           "zerolinewidth": 2
          }
         }
        },
        "title": {
         "text": "Flight passengers compared to the percentage of vaccinated people"
        },
        "updatemenus": [
         {
          "bordercolor": "grey",
          "buttons": [
           {
            "args": [
             "visible",
             [
              true,
              true,
              true,
              true,
              true,
              true,
              true,
              true,
              true,
              true
             ]
            ],
            "label": "All",
            "method": "restyle"
           },
           {
            "args": [
             "visible",
             [
              true,
              true,
              false,
              false,
              false,
              false,
              false,
              false,
              false,
              false
             ]
            ],
            "label": "Germany",
            "method": "restyle"
           },
           {
            "args": [
             "visible",
             [
              false,
              false,
              true,
              true,
              false,
              false,
              false,
              false,
              false,
              false
             ]
            ],
            "label": "Italy",
            "method": "restyle"
           },
           {
            "args": [
             "visible",
             [
              false,
              false,
              false,
              false,
              true,
              true,
              false,
              false,
              false,
              false
             ]
            ],
            "label": "United States",
            "method": "restyle"
           },
           {
            "args": [
             "visible",
             [
              false,
              false,
              false,
              false,
              false,
              false,
              true,
              true,
              false,
              false
             ]
            ],
            "label": "United Kingdom",
            "method": "restyle"
           },
           {
            "args": [
             "visible",
             [
              false,
              false,
              false,
              false,
              false,
              false,
              false,
              false,
              true,
              true
             ]
            ],
            "label": "Spain",
            "method": "restyle"
           },
           {
            "args": [
             "visible",
             [
              false,
              true,
              false,
              true,
              false,
              true,
              false,
              true,
              false,
              true
             ]
            ],
            "label": "Vaccinations only",
            "method": "restyle"
           },
           {
            "args": [
             "visible",
             [
              true,
              false,
              true,
              false,
              true,
              false,
              true,
              false,
              true,
              false
             ]
            ],
            "label": "Flight only",
            "method": "restyle"
           }
          ],
          "direction": "right",
          "type": "dropdown",
          "x": 0.13,
          "y": 1.16
         }
        ],
        "xaxis": {
         "anchor": "y",
         "domain": [
          0,
          0.94
         ],
         "title": {
          "text": "Date"
         }
        },
        "yaxis": {
         "anchor": "x",
         "domain": [
          0,
          1
         ],
         "title": {
          "text": "Number of passengers"
         }
        },
        "yaxis2": {
         "anchor": "x",
         "overlaying": "y",
         "side": "right",
         "title": {
          "text": "Fully vaccinated people [%]"
         }
        }
       }
      },
      "text/html": [
       "<div>                            <div id=\"90d44fd5-bed7-43c8-af3c-d420625b6bf6\" class=\"plotly-graph-div\" style=\"height:525px; width:100%;\"></div>            <script type=\"text/javascript\">                require([\"plotly\"], function(Plotly) {                    window.PLOTLYENV=window.PLOTLYENV || {};                                    if (document.getElementById(\"90d44fd5-bed7-43c8-af3c-d420625b6bf6\")) {                    Plotly.newPlot(                        \"90d44fd5-bed7-43c8-af3c-d420625b6bf6\",                        [{\"name\":\"Germany flight\",\"x\":[\"2020-01\",\"2020-02\",\"2020-03\",\"2020-04\",\"2020-05\",\"2020-06\",\"2020-07\",\"2020-08\",\"2020-09\",\"2020-10\",\"2020-11\",\"2020-12\",\"2021-01\",\"2021-02\",\"2021-03\",\"2021-04\",\"2021-05\",\"2021-06\",\"2021-07\",\"2021-08\",\"2021-09\",\"2021-10\",\"2021-11\",\"2021-12\",\"2022-01\",\"2022-02\",\"2022-03\",\"2022-04\",\"2022-05\",\"2022-06\",\"2022-07\"],\"y\":[279377,262496,142343,11945,16475,28134,67501,114559,87506,54028,31909,39599,27069,16647,24668,25359,32597,50539,96019,111088,120081,136878,120563,98493,80311,85641,127463,150562,178758,176474,155860],\"type\":\"scatter\",\"xaxis\":\"x\",\"yaxis\":\"y\"},{\"name\":\"Germany vaccinations\",\"x\":[\"2020-01\",\"2020-02\",\"2020-03\",\"2020-04\",\"2020-05\",\"2020-06\",\"2020-07\",\"2020-08\",\"2020-09\",\"2020-10\",\"2020-11\",\"2020-12\",\"2021-01\",\"2021-02\",\"2021-03\",\"2021-04\",\"2021-05\",\"2021-06\",\"2021-07\",\"2021-08\",\"2021-09\",\"2021-10\",\"2021-11\",\"2021-12\",\"2022-01\",\"2022-02\",\"2022-03\",\"2022-04\",\"2022-05\",\"2022-06\",\"2022-07\"],\"y\":[null,null,null,null,null,null,null,null,null,null,null,null,0.3064705882352941,1.782857142857143,3.7948387096774194,6.463333333333334,12.178064516129032,28.428333333333335,45.54290322580645,57.34645161290322,62.449,65.34612903225806,67.33633333333333,69.7158064516129,72.41032258064516,74.59214285714286,75.42483870967742,75.724,75.86354838709677,75.93833333333333,75.99741935483871],\"type\":\"scatter\",\"xaxis\":\"x\",\"yaxis\":\"y2\"},{\"name\":\"Italy flight\",\"x\":[\"2020-01\",\"2020-02\",\"2020-03\",\"2020-04\",\"2020-05\",\"2020-06\",\"2020-07\",\"2020-08\",\"2020-09\",\"2020-10\",\"2020-11\",\"2020-12\",\"2021-01\",\"2021-02\",\"2021-03\",\"2021-04\",\"2021-05\",\"2021-06\",\"2021-07\",\"2021-08\",\"2021-09\",\"2021-10\",\"2021-11\",\"2021-12\",\"2022-01\",\"2022-02\",\"2022-03\",\"2022-04\",\"2022-05\",\"2022-06\",\"2022-07\"],\"y\":[193322,182169,37838,60,4856,25896,58580,93024,90080,61809,31303,40417,35139,28212,31026,35890,54019,81386,187986,222028,204901,236047,167406,122116,95603,136112,203409,249461,288108,282619,260973],\"type\":\"scatter\",\"xaxis\":\"x\",\"yaxis\":\"y\"},{\"name\":\"Italy vaccinations\",\"x\":[\"2020-01\",\"2020-02\",\"2020-03\",\"2020-04\",\"2020-05\",\"2020-06\",\"2020-07\",\"2020-08\",\"2020-09\",\"2020-10\",\"2020-11\",\"2020-12\",\"2021-01\",\"2021-02\",\"2021-03\",\"2021-04\",\"2021-05\",\"2021-06\",\"2021-07\",\"2021-08\",\"2021-09\",\"2021-10\",\"2021-11\",\"2021-12\",\"2022-01\",\"2022-02\",\"2022-03\",\"2022-04\",\"2022-05\",\"2022-06\",\"2022-07\"],\"y\":[null,null,null,null,null,null,null,null,null,null,null,null,0.19357142857142856,2.1239285714285714,3.825483870967742,7.545,15.173870967741935,25.685666666666666,43.157419354838716,58.513548387096776,66.126,71.2567741935484,73.815,74.98290322580644,76.61999999999999,79.20642857142856,80.51967741935485,80.80066666666667,80.87870967741935,80.912,80.9341935483871],\"type\":\"scatter\",\"xaxis\":\"x\",\"yaxis\":\"y2\"},{\"name\":\"United States flight\",\"x\":[\"2020-01\",\"2020-02\",\"2020-03\",\"2020-04\",\"2020-05\",\"2020-06\",\"2020-07\",\"2020-08\",\"2020-09\",\"2020-10\",\"2020-11\",\"2020-12\",\"2021-01\",\"2021-02\",\"2021-03\",\"2021-04\",\"2021-05\",\"2021-06\",\"2021-07\",\"2021-08\",\"2021-09\",\"2021-10\",\"2021-11\",\"2021-12\",\"2022-01\",\"2022-02\",\"2022-03\",\"2022-04\",\"2022-05\",\"2022-06\",\"2022-07\"],\"y\":[254649,224105,128254,16988,21956,35769,42472,45582,37247,39167,39821,62952,56575,24904,36341,44518,67191,110219,174286,204293,156388,146520,171080,192042,186936,151179,266160,380274,445252,512371,518815],\"type\":\"scatter\",\"xaxis\":\"x\",\"yaxis\":\"y\"},{\"name\":\"United States vaccinations\",\"x\":[\"2020-01\",\"2020-02\",\"2020-03\",\"2020-04\",\"2020-05\",\"2020-06\",\"2020-07\",\"2020-08\",\"2020-09\",\"2020-10\",\"2020-11\",\"2020-12\",\"2021-01\",\"2021-02\",\"2021-03\",\"2021-04\",\"2021-05\",\"2021-06\",\"2021-07\",\"2021-08\",\"2021-09\",\"2021-10\",\"2021-11\",\"2021-12\",\"2022-01\",\"2022-02\",\"2022-03\",\"2022-04\",\"2022-05\",\"2022-06\",\"2022-07\"],\"y\":[null,null,null,null,null,null,null,null,null,null,null,0.005263157894736842,0.8738709677419355,5.576785714285714,14.069354838709677,27.366333333333333,40.36322580645161,47.25366666666666,50.42,52.8258064516129,56.044666666666664,58.49161290322581,60.083999999999996,62.292258064516126,63.96258064516129,65.19571428571429,65.84225806451613,66.29933333333334,66.70451612903226,67.01966666666667,67.27225806451614],\"type\":\"scatter\",\"xaxis\":\"x\",\"yaxis\":\"y2\"},{\"name\":\"United Kingdom flight\",\"x\":[\"2020-01\",\"2020-02\",\"2020-03\",\"2020-04\",\"2020-05\",\"2020-06\",\"2020-07\",\"2020-08\",\"2020-09\",\"2020-10\",\"2020-11\",\"2020-12\",\"2021-01\",\"2021-02\",\"2021-03\",\"2021-04\",\"2021-05\",\"2021-06\",\"2021-07\",\"2021-08\",\"2021-09\",\"2021-10\",\"2021-11\",\"2021-12\",\"2022-01\",\"2022-02\",\"2022-03\",\"2022-04\",\"2022-05\",\"2022-06\",\"2022-07\"],\"y\":[680911,644881,334026,13203,21970,35748,105438,167675,109887,89093,74698,99882,43705,0,15930,44273,59678,72939,86151,120553,155718,218300,222256,160845,160791,236145,399254,524220,554654,556050,490787],\"type\":\"scatter\",\"xaxis\":\"x\",\"yaxis\":\"y\"},{\"name\":\"United Kingdom vaccinations\",\"x\":[\"2020-01\",\"2020-02\",\"2020-03\",\"2020-04\",\"2020-05\",\"2020-06\",\"2020-07\",\"2020-08\",\"2020-09\",\"2020-10\",\"2020-11\",\"2020-12\",\"2021-01\",\"2021-02\",\"2021-03\",\"2021-04\",\"2021-05\",\"2021-06\",\"2021-07\",\"2021-08\",\"2021-09\",\"2021-10\",\"2021-11\",\"2021-12\",\"2022-01\",\"2022-02\",\"2022-03\",\"2022-04\",\"2022-05\",\"2022-06\",\"2022-07\"],\"y\":[null,null,null,null,null,null,null,null,null,null,null,null,0.6809090909090909,0.8742857142857143,3.101612903225807,13.964,30.29258064516129,44.855000000000004,53.12903225806452,60.63903225806452,65.641,67.39612903225807,68.44866666666667,69.76290322580645,71.26225806451613,72.48821428571429,73.19483870967741,73.73433333333334,74.13774193548387,74.44966666666666,74.8583870967742],\"type\":\"scatter\",\"xaxis\":\"x\",\"yaxis\":\"y2\"},{\"name\":\"Spain flight\",\"x\":[\"2020-02\",\"2020-03\",\"2020-04\",\"2020-05\",\"2020-06\",\"2020-07\",\"2020-08\",\"2020-09\",\"2020-10\",\"2020-11\",\"2020-12\",\"2021-01\",\"2021-02\",\"2021-03\",\"2021-04\",\"2021-05\",\"2021-06\",\"2021-07\",\"2021-08\",\"2021-09\",\"2021-10\",\"2021-11\",\"2021-12\",\"2022-01\",\"2022-02\",\"2022-03\",\"2022-04\",\"2022-05\",\"2022-06\",\"2022-07\"],\"y\":[319412,168625,1259,8158,25678,146712,164241,64318,62911,62132,79995,55903,36879,56719,77211,141800,224998,360073,492039,441274,496486,328821,300378,306124,302200,412257,469193,546915,515411,493600],\"type\":\"scatter\",\"xaxis\":\"x\",\"yaxis\":\"y\"},{\"name\":\"Spain vaccinations\",\"x\":[\"2020-02\",\"2020-03\",\"2020-04\",\"2020-05\",\"2020-06\",\"2020-07\",\"2020-08\",\"2020-09\",\"2020-10\",\"2020-11\",\"2020-12\",\"2021-01\",\"2021-02\",\"2021-03\",\"2021-04\",\"2021-05\",\"2021-06\",\"2021-07\",\"2021-08\",\"2021-09\",\"2021-10\",\"2021-11\",\"2021-12\",\"2022-01\",\"2022-02\",\"2022-03\",\"2022-04\",\"2022-05\",\"2022-06\",\"2022-07\"],\"y\":[null,null,null,null,null,null,null,null,null,null,null,0.25363636363636366,2.065,3.9171428571428573,7.253636363636364,15.174545454545454,28.67772727272727,48.84619047619047,63.58826086956522,74.85,78.0475,78.9595,79.53222222222222,80.38333333333333,81.2955,83.46000000000001,84.9875,85.22,85.36600000000001,85.48],\"type\":\"scatter\",\"xaxis\":\"x\",\"yaxis\":\"y2\"}],                        {\"template\":{\"data\":{\"histogram2dcontour\":[{\"type\":\"histogram2dcontour\",\"colorbar\":{\"outlinewidth\":0,\"ticks\":\"\"},\"colorscale\":[[0.0,\"#0d0887\"],[0.1111111111111111,\"#46039f\"],[0.2222222222222222,\"#7201a8\"],[0.3333333333333333,\"#9c179e\"],[0.4444444444444444,\"#bd3786\"],[0.5555555555555556,\"#d8576b\"],[0.6666666666666666,\"#ed7953\"],[0.7777777777777778,\"#fb9f3a\"],[0.8888888888888888,\"#fdca26\"],[1.0,\"#f0f921\"]]}],\"choropleth\":[{\"type\":\"choropleth\",\"colorbar\":{\"outlinewidth\":0,\"ticks\":\"\"}}],\"histogram2d\":[{\"type\":\"histogram2d\",\"colorbar\":{\"outlinewidth\":0,\"ticks\":\"\"},\"colorscale\":[[0.0,\"#0d0887\"],[0.1111111111111111,\"#46039f\"],[0.2222222222222222,\"#7201a8\"],[0.3333333333333333,\"#9c179e\"],[0.4444444444444444,\"#bd3786\"],[0.5555555555555556,\"#d8576b\"],[0.6666666666666666,\"#ed7953\"],[0.7777777777777778,\"#fb9f3a\"],[0.8888888888888888,\"#fdca26\"],[1.0,\"#f0f921\"]]}],\"heatmap\":[{\"type\":\"heatmap\",\"colorbar\":{\"outlinewidth\":0,\"ticks\":\"\"},\"colorscale\":[[0.0,\"#0d0887\"],[0.1111111111111111,\"#46039f\"],[0.2222222222222222,\"#7201a8\"],[0.3333333333333333,\"#9c179e\"],[0.4444444444444444,\"#bd3786\"],[0.5555555555555556,\"#d8576b\"],[0.6666666666666666,\"#ed7953\"],[0.7777777777777778,\"#fb9f3a\"],[0.8888888888888888,\"#fdca26\"],[1.0,\"#f0f921\"]]}],\"heatmapgl\":[{\"type\":\"heatmapgl\",\"colorbar\":{\"outlinewidth\":0,\"ticks\":\"\"},\"colorscale\":[[0.0,\"#0d0887\"],[0.1111111111111111,\"#46039f\"],[0.2222222222222222,\"#7201a8\"],[0.3333333333333333,\"#9c179e\"],[0.4444444444444444,\"#bd3786\"],[0.5555555555555556,\"#d8576b\"],[0.6666666666666666,\"#ed7953\"],[0.7777777777777778,\"#fb9f3a\"],[0.8888888888888888,\"#fdca26\"],[1.0,\"#f0f921\"]]}],\"contourcarpet\":[{\"type\":\"contourcarpet\",\"colorbar\":{\"outlinewidth\":0,\"ticks\":\"\"}}],\"contour\":[{\"type\":\"contour\",\"colorbar\":{\"outlinewidth\":0,\"ticks\":\"\"},\"colorscale\":[[0.0,\"#0d0887\"],[0.1111111111111111,\"#46039f\"],[0.2222222222222222,\"#7201a8\"],[0.3333333333333333,\"#9c179e\"],[0.4444444444444444,\"#bd3786\"],[0.5555555555555556,\"#d8576b\"],[0.6666666666666666,\"#ed7953\"],[0.7777777777777778,\"#fb9f3a\"],[0.8888888888888888,\"#fdca26\"],[1.0,\"#f0f921\"]]}],\"surface\":[{\"type\":\"surface\",\"colorbar\":{\"outlinewidth\":0,\"ticks\":\"\"},\"colorscale\":[[0.0,\"#0d0887\"],[0.1111111111111111,\"#46039f\"],[0.2222222222222222,\"#7201a8\"],[0.3333333333333333,\"#9c179e\"],[0.4444444444444444,\"#bd3786\"],[0.5555555555555556,\"#d8576b\"],[0.6666666666666666,\"#ed7953\"],[0.7777777777777778,\"#fb9f3a\"],[0.8888888888888888,\"#fdca26\"],[1.0,\"#f0f921\"]]}],\"mesh3d\":[{\"type\":\"mesh3d\",\"colorbar\":{\"outlinewidth\":0,\"ticks\":\"\"}}],\"scatter\":[{\"fillpattern\":{\"fillmode\":\"overlay\",\"size\":10,\"solidity\":0.2},\"type\":\"scatter\"}],\"parcoords\":[{\"type\":\"parcoords\",\"line\":{\"colorbar\":{\"outlinewidth\":0,\"ticks\":\"\"}}}],\"scatterpolargl\":[{\"type\":\"scatterpolargl\",\"marker\":{\"colorbar\":{\"outlinewidth\":0,\"ticks\":\"\"}}}],\"bar\":[{\"error_x\":{\"color\":\"#2a3f5f\"},\"error_y\":{\"color\":\"#2a3f5f\"},\"marker\":{\"line\":{\"color\":\"#E5ECF6\",\"width\":0.5},\"pattern\":{\"fillmode\":\"overlay\",\"size\":10,\"solidity\":0.2}},\"type\":\"bar\"}],\"scattergeo\":[{\"type\":\"scattergeo\",\"marker\":{\"colorbar\":{\"outlinewidth\":0,\"ticks\":\"\"}}}],\"scatterpolar\":[{\"type\":\"scatterpolar\",\"marker\":{\"colorbar\":{\"outlinewidth\":0,\"ticks\":\"\"}}}],\"histogram\":[{\"marker\":{\"pattern\":{\"fillmode\":\"overlay\",\"size\":10,\"solidity\":0.2}},\"type\":\"histogram\"}],\"scattergl\":[{\"type\":\"scattergl\",\"marker\":{\"colorbar\":{\"outlinewidth\":0,\"ticks\":\"\"}}}],\"scatter3d\":[{\"type\":\"scatter3d\",\"line\":{\"colorbar\":{\"outlinewidth\":0,\"ticks\":\"\"}},\"marker\":{\"colorbar\":{\"outlinewidth\":0,\"ticks\":\"\"}}}],\"scattermapbox\":[{\"type\":\"scattermapbox\",\"marker\":{\"colorbar\":{\"outlinewidth\":0,\"ticks\":\"\"}}}],\"scatterternary\":[{\"type\":\"scatterternary\",\"marker\":{\"colorbar\":{\"outlinewidth\":0,\"ticks\":\"\"}}}],\"scattercarpet\":[{\"type\":\"scattercarpet\",\"marker\":{\"colorbar\":{\"outlinewidth\":0,\"ticks\":\"\"}}}],\"carpet\":[{\"aaxis\":{\"endlinecolor\":\"#2a3f5f\",\"gridcolor\":\"white\",\"linecolor\":\"white\",\"minorgridcolor\":\"white\",\"startlinecolor\":\"#2a3f5f\"},\"baxis\":{\"endlinecolor\":\"#2a3f5f\",\"gridcolor\":\"white\",\"linecolor\":\"white\",\"minorgridcolor\":\"white\",\"startlinecolor\":\"#2a3f5f\"},\"type\":\"carpet\"}],\"table\":[{\"cells\":{\"fill\":{\"color\":\"#EBF0F8\"},\"line\":{\"color\":\"white\"}},\"header\":{\"fill\":{\"color\":\"#C8D4E3\"},\"line\":{\"color\":\"white\"}},\"type\":\"table\"}],\"barpolar\":[{\"marker\":{\"line\":{\"color\":\"#E5ECF6\",\"width\":0.5},\"pattern\":{\"fillmode\":\"overlay\",\"size\":10,\"solidity\":0.2}},\"type\":\"barpolar\"}],\"pie\":[{\"automargin\":true,\"type\":\"pie\"}]},\"layout\":{\"autotypenumbers\":\"strict\",\"colorway\":[\"#636efa\",\"#EF553B\",\"#00cc96\",\"#ab63fa\",\"#FFA15A\",\"#19d3f3\",\"#FF6692\",\"#B6E880\",\"#FF97FF\",\"#FECB52\"],\"font\":{\"color\":\"#2a3f5f\"},\"hovermode\":\"closest\",\"hoverlabel\":{\"align\":\"left\"},\"paper_bgcolor\":\"white\",\"plot_bgcolor\":\"#E5ECF6\",\"polar\":{\"bgcolor\":\"#E5ECF6\",\"angularaxis\":{\"gridcolor\":\"white\",\"linecolor\":\"white\",\"ticks\":\"\"},\"radialaxis\":{\"gridcolor\":\"white\",\"linecolor\":\"white\",\"ticks\":\"\"}},\"ternary\":{\"bgcolor\":\"#E5ECF6\",\"aaxis\":{\"gridcolor\":\"white\",\"linecolor\":\"white\",\"ticks\":\"\"},\"baxis\":{\"gridcolor\":\"white\",\"linecolor\":\"white\",\"ticks\":\"\"},\"caxis\":{\"gridcolor\":\"white\",\"linecolor\":\"white\",\"ticks\":\"\"}},\"coloraxis\":{\"colorbar\":{\"outlinewidth\":0,\"ticks\":\"\"}},\"colorscale\":{\"sequential\":[[0.0,\"#0d0887\"],[0.1111111111111111,\"#46039f\"],[0.2222222222222222,\"#7201a8\"],[0.3333333333333333,\"#9c179e\"],[0.4444444444444444,\"#bd3786\"],[0.5555555555555556,\"#d8576b\"],[0.6666666666666666,\"#ed7953\"],[0.7777777777777778,\"#fb9f3a\"],[0.8888888888888888,\"#fdca26\"],[1.0,\"#f0f921\"]],\"sequentialminus\":[[0.0,\"#0d0887\"],[0.1111111111111111,\"#46039f\"],[0.2222222222222222,\"#7201a8\"],[0.3333333333333333,\"#9c179e\"],[0.4444444444444444,\"#bd3786\"],[0.5555555555555556,\"#d8576b\"],[0.6666666666666666,\"#ed7953\"],[0.7777777777777778,\"#fb9f3a\"],[0.8888888888888888,\"#fdca26\"],[1.0,\"#f0f921\"]],\"diverging\":[[0,\"#8e0152\"],[0.1,\"#c51b7d\"],[0.2,\"#de77ae\"],[0.3,\"#f1b6da\"],[0.4,\"#fde0ef\"],[0.5,\"#f7f7f7\"],[0.6,\"#e6f5d0\"],[0.7,\"#b8e186\"],[0.8,\"#7fbc41\"],[0.9,\"#4d9221\"],[1,\"#276419\"]]},\"xaxis\":{\"gridcolor\":\"white\",\"linecolor\":\"white\",\"ticks\":\"\",\"title\":{\"standoff\":15},\"zerolinecolor\":\"white\",\"automargin\":true,\"zerolinewidth\":2},\"yaxis\":{\"gridcolor\":\"white\",\"linecolor\":\"white\",\"ticks\":\"\",\"title\":{\"standoff\":15},\"zerolinecolor\":\"white\",\"automargin\":true,\"zerolinewidth\":2},\"scene\":{\"xaxis\":{\"backgroundcolor\":\"#E5ECF6\",\"gridcolor\":\"white\",\"linecolor\":\"white\",\"showbackground\":true,\"ticks\":\"\",\"zerolinecolor\":\"white\",\"gridwidth\":2},\"yaxis\":{\"backgroundcolor\":\"#E5ECF6\",\"gridcolor\":\"white\",\"linecolor\":\"white\",\"showbackground\":true,\"ticks\":\"\",\"zerolinecolor\":\"white\",\"gridwidth\":2},\"zaxis\":{\"backgroundcolor\":\"#E5ECF6\",\"gridcolor\":\"white\",\"linecolor\":\"white\",\"showbackground\":true,\"ticks\":\"\",\"zerolinecolor\":\"white\",\"gridwidth\":2}},\"shapedefaults\":{\"line\":{\"color\":\"#2a3f5f\"}},\"annotationdefaults\":{\"arrowcolor\":\"#2a3f5f\",\"arrowhead\":0,\"arrowwidth\":1},\"geo\":{\"bgcolor\":\"white\",\"landcolor\":\"#E5ECF6\",\"subunitcolor\":\"white\",\"showland\":true,\"showlakes\":true,\"lakecolor\":\"white\"},\"title\":{\"x\":0.05},\"mapbox\":{\"style\":\"light\"}}},\"xaxis\":{\"anchor\":\"y\",\"domain\":[0.0,0.94],\"title\":{\"text\":\"Date\"}},\"yaxis\":{\"anchor\":\"x\",\"domain\":[0.0,1.0],\"title\":{\"text\":\"Number of passengers\"}},\"yaxis2\":{\"anchor\":\"x\",\"overlaying\":\"y\",\"side\":\"right\",\"title\":{\"text\":\"Fully vaccinated people [%]\"}},\"title\":{\"text\":\"Flight passengers compared to the percentage of vaccinated people\"},\"updatemenus\":[{\"bordercolor\":\"grey\",\"buttons\":[{\"args\":[\"visible\",[true,true,true,true,true,true,true,true,true,true]],\"label\":\"All\",\"method\":\"restyle\"},{\"args\":[\"visible\",[true,true,false,false,false,false,false,false,false,false]],\"label\":\"Germany\",\"method\":\"restyle\"},{\"args\":[\"visible\",[false,false,true,true,false,false,false,false,false,false]],\"label\":\"Italy\",\"method\":\"restyle\"},{\"args\":[\"visible\",[false,false,false,false,true,true,false,false,false,false]],\"label\":\"United States\",\"method\":\"restyle\"},{\"args\":[\"visible\",[false,false,false,false,false,false,true,true,false,false]],\"label\":\"United Kingdom\",\"method\":\"restyle\"},{\"args\":[\"visible\",[false,false,false,false,false,false,false,false,true,true]],\"label\":\"Spain\",\"method\":\"restyle\"},{\"args\":[\"visible\",[false,true,false,true,false,true,false,true,false,true]],\"label\":\"Vaccinations only\",\"method\":\"restyle\"},{\"args\":[\"visible\",[true,false,true,false,true,false,true,false,true,false]],\"label\":\"Flight only\",\"method\":\"restyle\"}],\"direction\":\"right\",\"type\":\"dropdown\",\"x\":0.13,\"y\":1.16}]},                        {\"responsive\": true}                    ).then(function(){\n",
       "                            \n",
       "var gd = document.getElementById('90d44fd5-bed7-43c8-af3c-d420625b6bf6');\n",
       "var x = new MutationObserver(function (mutations, observer) {{\n",
       "        var display = window.getComputedStyle(gd).display;\n",
       "        if (!display || display === 'none') {{\n",
       "            console.log([gd, 'removed!']);\n",
       "            Plotly.purge(gd);\n",
       "            observer.disconnect();\n",
       "        }}\n",
       "}});\n",
       "\n",
       "// Listen for the removal of the full notebook cells\n",
       "var notebookContainer = gd.closest('#notebook-container');\n",
       "if (notebookContainer) {{\n",
       "    x.observe(notebookContainer, {childList: true});\n",
       "}}\n",
       "\n",
       "// Listen for the clearing of the current output cell\n",
       "var outputEl = gd.closest('.output');\n",
       "if (outputEl) {{\n",
       "    x.observe(outputEl, {childList: true});\n",
       "}}\n",
       "\n",
       "                        })                };                });            </script>        </div>"
      ]
     },
     "metadata": {},
     "output_type": "display_data"
    }
   ],
   "source": [
    "\n",
    "fig = make_subplots(specs=[[{'secondary_y': True}]])\n",
    "fig.add_trace(\n",
    "    go.Scatter(x = merged_passengers[merged_passengers['location']== 'Germany']['date'],y = merged_passengers[merged_passengers['location']== 'Germany']['OBS_VALUE'], name='Germany flight'),\n",
    "    secondary_y=False\n",
    ")\n",
    "fig.add_trace(\n",
    "    go.Scatter(x = merged_passengers[merged_passengers['location']== 'Germany']['date'],y = merged_passengers[merged_passengers['location']== 'Germany']['people_fully_vaccinated_per_hundred'], name='Germany vaccinations'),\n",
    "    secondary_y=True,\n",
    ")\n",
    "fig.add_trace(\n",
    "    go.Scatter(x = merged_passengers[merged_passengers['location']== 'Italy']['date'],y = merged_passengers[merged_passengers['location']== 'Italy']['OBS_VALUE'], name='Italy flight'),\n",
    "    secondary_y=False\n",
    ")\n",
    "fig.add_trace(\n",
    "    go.Scatter(x = merged_passengers[merged_passengers['location']== 'Italy']['date'],y = merged_passengers[merged_passengers['location']== 'Italy']['people_fully_vaccinated_per_hundred'], name='Italy vaccinations'),\n",
    "    secondary_y=True,\n",
    ")\n",
    "fig.add_trace(\n",
    "    go.Scatter(x = merged_passengers[merged_passengers['location']== 'United States']['date'],y = merged_passengers[merged_passengers['location']== 'United States']['OBS_VALUE'], name='United States flight'),\n",
    "    secondary_y=False\n",
    ")\n",
    "fig.add_trace(\n",
    "    go.Scatter(x = merged_passengers[merged_passengers['location']== 'United States']['date'],y = merged_passengers[merged_passengers['location']== 'United States']['people_fully_vaccinated_per_hundred'], name='United States vaccinations'),\n",
    "    secondary_y=True,\n",
    ")\n",
    "fig.add_trace(\n",
    "    go.Scatter(x = merged_passengers[merged_passengers['location']== 'United Kingdom']['date'],y = merged_passengers[merged_passengers['location']== 'United Kingdom']['OBS_VALUE'], name='United Kingdom flight'),\n",
    "    secondary_y=False\n",
    ")\n",
    "fig.add_trace(\n",
    "    go.Scatter(x = merged_passengers[merged_passengers['location']== 'United Kingdom']['date'],y = merged_passengers[merged_passengers['location']== 'United Kingdom']['people_fully_vaccinated_per_hundred'], name='United Kingdom vaccinations'),\n",
    "    secondary_y=True,\n",
    ")\n",
    "fig.add_trace(\n",
    "    go.Scatter(x = merged_passengers[merged_passengers['location']== 'Spain']['date'],y = merged_passengers[merged_passengers['location']== 'Spain']['OBS_VALUE'], name='Spain flight'),\n",
    "    secondary_y=False\n",
    ")\n",
    "fig.add_trace(\n",
    "    go.Scatter(x = merged_passengers[merged_passengers['location']== 'Spain']['date'],y = merged_passengers[merged_passengers['location']== 'Spain']['people_fully_vaccinated_per_hundred'], name='Spain vaccinations'),\n",
    "    secondary_y=True,\n",
    ")\n",
    "\n",
    "options = {'Germany':'Germany','Italy':'Italy','United Stated':'United States','United Kingdom':'United Kingdom','Spain':'Spain'}\n",
    "options2 = ['All','Germany','Italy','United States','United Kingdom','Spain','Vaccinations only','Flight only']\n",
    "visList = [\n",
    "    [True,True,True,True,True,True,True,True,True,True],\n",
    "    [True,True,False,False,False,False,False,False,False,False],\n",
    "    [False,False,True,True,False,False,False,False,False,False],\n",
    "    [False,False,False,False,True,True,False,False,False,False],\n",
    "    [False,False,False,False,False,False,True,True,False,False],\n",
    "    [False,False,False,False,False,False,False,False,True,True],\n",
    "    [False,True,False,True,False,True,False,True,False,True],\n",
    "    [True,False,True,False,True,False,True,False,True,False]]\n",
    "buttons = []\n",
    "for i, g in enumerate(options2):\n",
    "    button = dict(label =  g,\n",
    "    method = 'restyle',\n",
    "    args = ['visible',visList[i]])\n",
    "    buttons.append(button)\n",
    "\n",
    "fig.update_layout(\n",
    "    xaxis_title='Date',\n",
    "    yaxis_title='Number of passengers',\n",
    "    title_text='Flight passengers compared to the percentage of vaccinated people',\n",
    "    updatemenus=[\n",
    "        dict(\n",
    "            type='dropdown',\n",
    "            direction='right',\n",
    "            buttons = buttons,\n",
    "            x = 0.13,\n",
    "            y = 1.16,\n",
    "            bordercolor = 'grey'   \n",
    "        )\n",
    "    ],\n",
    ")\n",
    "fig.update_yaxes(title_text='Fully vaccinated people [%]' , secondary_y=True)\n",
    "fig.show()"
   ]
  },
  {
   "cell_type": "code",
   "execution_count": 68,
   "metadata": {},
   "outputs": [
    {
     "data": {
      "application/vnd.plotly.v1+json": {
       "config": {
        "plotlyServerURL": "https://plot.ly"
       },
       "data": [
        {
         "name": "China flight",
         "type": "scatter",
         "x": [
          "2020-01",
          "2020-02",
          "2020-03",
          "2020-04",
          "2020-05",
          "2020-06",
          "2020-07",
          "2020-08",
          "2020-09",
          "2020-10",
          "2020-11",
          "2020-12",
          "2021-01",
          "2021-02",
          "2021-03",
          "2021-04",
          "2021-05",
          "2021-06",
          "2021-07",
          "2021-08",
          "2021-09",
          "2021-10",
          "2021-11",
          "2021-12",
          "2022-01",
          "2022-02",
          "2022-03",
          "2022-04",
          "2022-05",
          "2022-06",
          "2022-07"
         ],
         "xaxis": "x",
         "y": [
          22326.800000000003,
          15923.599999999999,
          24860.300000000003,
          21470.5,
          25916.3,
          25626.7,
          24480.999999999996,
          23980.7,
          24763.7,
          27140.4,
          29747.2,
          24644.6,
          26752.499999999996,
          22362.5,
          28878.4,
          25131.9,
          27573.300000000003,
          26004.2,
          21366.8,
          21258.9,
          18972.899999999998,
          24968.1,
          26453,
          28369.399999999998,
          28246.600000000002,
          24993.6,
          25364.4,
          21353.9,
          23348.2,
          22974.7,
          23503.5
         ],
         "yaxis": "y"
        },
        {
         "name": "China vaccinations",
         "type": "scatter",
         "x": [
          "2020-01",
          "2020-02",
          "2020-03",
          "2020-04",
          "2020-05",
          "2020-06",
          "2020-07",
          "2020-08",
          "2020-09",
          "2020-10",
          "2020-11",
          "2020-12",
          "2021-01",
          "2021-02",
          "2021-03",
          "2021-04",
          "2021-05",
          "2021-06",
          "2021-07",
          "2021-08",
          "2021-09",
          "2021-10",
          "2021-11",
          "2021-12",
          "2022-01",
          "2022-02",
          "2022-03",
          "2022-04",
          "2022-05",
          "2022-06",
          "2022-07"
         ],
         "xaxis": "x",
         "y": [
          null,
          null,
          null,
          null,
          null,
          null,
          null,
          null,
          null,
          null,
          null,
          null,
          null,
          null,
          null,
          null,
          null,
          null,
          null,
          58.44,
          71.0325,
          74.97,
          75.97,
          82.73333333333333,
          85.578,
          86.39,
          86.98333333333333,
          87.44,
          87.91749999999999,
          88.27799999999999,
          88.62666666666667
         ],
         "yaxis": "y2"
        },
        {
         "name": "United Arab Emirates flight",
         "type": "scatter",
         "x": [
          "2020-01",
          "2020-02",
          "2020-03",
          "2020-04",
          "2020-05",
          "2020-06",
          "2020-07",
          "2020-08",
          "2020-09",
          "2020-10",
          "2020-11",
          "2020-12",
          "2021-01",
          "2021-02",
          "2021-03",
          "2021-04",
          "2021-05",
          "2021-06",
          "2021-07",
          "2021-08",
          "2021-09",
          "2021-10",
          "2021-11",
          "2021-12",
          "2022-01",
          "2022-02",
          "2022-03",
          "2022-04",
          "2022-05",
          "2022-06",
          "2022-07"
         ],
         "xaxis": "x",
         "y": [
          6371.2,
          7439.3,
          8515,
          8411.8,
          9822.9,
          9141.2,
          10471.7,
          10379.099999999999,
          11398.9,
          11287.8,
          11602.3,
          11239.2,
          11030.8,
          9387,
          12616.2,
          11642.599999999999,
          12577.2,
          11990.3,
          10290.2,
          11051.599999999999,
          12007.6,
          13017.8,
          11542.4,
          12634,
          11719.5,
          10000,
          12642.4,
          10299.8,
          10402.2,
          10635.5,
          11981.9
         ],
         "yaxis": "y"
        },
        {
         "name": "United Arab Emirates vaccinations",
         "type": "scatter",
         "x": [
          "2020-01",
          "2020-02",
          "2020-03",
          "2020-04",
          "2020-05",
          "2020-06",
          "2020-07",
          "2020-08",
          "2020-09",
          "2020-10",
          "2020-11",
          "2020-12",
          "2021-01",
          "2021-02",
          "2021-03",
          "2021-04",
          "2021-05",
          "2021-06",
          "2021-07",
          "2021-08",
          "2021-09",
          "2021-10",
          "2021-11",
          "2021-12",
          "2022-01",
          "2022-02",
          "2022-03",
          "2022-04",
          "2022-05",
          "2022-06",
          "2022-07"
         ],
         "xaxis": "x",
         "y": [
          null,
          null,
          null,
          null,
          null,
          null,
          null,
          null,
          null,
          null,
          null,
          null,
          2.67,
          23.36,
          null,
          40.97,
          null,
          null,
          70.89,
          76.86318181818181,
          84.7969230769231,
          90.72625,
          94.25285714285714,
          96.05999999999999,
          98.32619047619048,
          100.47130434782609,
          101.80666666666667,
          102.76,
          103.51166666666666,
          104.24000000000001,
          null
         ],
         "yaxis": "y2"
        },
        {
         "name": "United States flight",
         "type": "scatter",
         "x": [
          "2020-01",
          "2020-02",
          "2020-03",
          "2020-04",
          "2020-05",
          "2020-06",
          "2020-07",
          "2020-08",
          "2020-09",
          "2020-10",
          "2020-11",
          "2020-12",
          "2021-01",
          "2021-02",
          "2021-03",
          "2021-04",
          "2021-05",
          "2021-06",
          "2021-07",
          "2021-08",
          "2021-09",
          "2021-10",
          "2021-11",
          "2021-12",
          "2022-01",
          "2022-02",
          "2022-03",
          "2022-04",
          "2022-05",
          "2022-06",
          "2022-07"
         ],
         "xaxis": "x",
         "y": [
          16389.4,
          18023.6,
          17364.7,
          17525.5,
          17209.2,
          18275.1,
          20225.8,
          20405.7,
          20335,
          24191,
          23978.600000000002,
          21680.100000000002,
          22045.2,
          22374.5,
          26512.2,
          24761.800000000003,
          26282.2,
          22565.9,
          22788.5,
          21896.2,
          22962.3,
          25370.4,
          23904.4,
          20934.5,
          17893,
          21445.9,
          24360.1,
          22112.100000000002,
          21808,
          19877.1,
          20399.8
         ],
         "yaxis": "y"
        },
        {
         "name": "United States vaccinations",
         "type": "scatter",
         "x": [
          "2020-01",
          "2020-02",
          "2020-03",
          "2020-04",
          "2020-05",
          "2020-06",
          "2020-07",
          "2020-08",
          "2020-09",
          "2020-10",
          "2020-11",
          "2020-12",
          "2021-01",
          "2021-02",
          "2021-03",
          "2021-04",
          "2021-05",
          "2021-06",
          "2021-07",
          "2021-08",
          "2021-09",
          "2021-10",
          "2021-11",
          "2021-12",
          "2022-01",
          "2022-02",
          "2022-03",
          "2022-04",
          "2022-05",
          "2022-06",
          "2022-07"
         ],
         "xaxis": "x",
         "y": [
          null,
          null,
          null,
          null,
          null,
          null,
          null,
          null,
          null,
          null,
          null,
          0.005263157894736842,
          0.8738709677419355,
          5.576785714285714,
          14.069354838709677,
          27.366333333333333,
          40.36322580645161,
          47.25366666666666,
          50.42,
          52.8258064516129,
          56.044666666666664,
          58.49161290322581,
          60.083999999999996,
          62.292258064516126,
          63.96258064516129,
          65.19571428571429,
          65.84225806451613,
          66.29933333333334,
          66.70451612903226,
          67.01966666666667,
          67.27225806451614
         ],
         "yaxis": "y2"
        },
        {
         "name": "Brazil flight",
         "type": "scatter",
         "x": [
          "2020-02",
          "2020-03",
          "2020-04",
          "2020-05",
          "2020-06",
          "2020-07",
          "2020-08",
          "2020-09",
          "2020-10",
          "2020-11",
          "2020-12",
          "2021-01",
          "2021-02",
          "2021-03",
          "2021-04",
          "2021-05",
          "2021-06",
          "2021-07",
          "2021-08",
          "2021-09",
          "2021-10",
          "2021-11",
          "2021-12",
          "2022-01",
          "2022-02",
          "2022-03",
          "2022-04",
          "2022-05",
          "2022-06",
          "2022-07"
         ],
         "xaxis": "x",
         "y": [
          6228.1,
          5274.1,
          4406.7,
          5642.5,
          5448.5,
          5980.400000000001,
          6129.1,
          6369.7,
          6869.2,
          6207.799999999999,
          5924.9,
          5158.700000000001,
          5640.5,
          6678.1,
          6196.4,
          5438.6,
          4911.4,
          5790.3,
          5605.4,
          5465,
          5800,
          5230.7,
          5283.7,
          3918.5,
          4485.9,
          4967.1,
          4370.7,
          5026.2,
          4499.9,
          4524.4
         ],
         "yaxis": "y"
        },
        {
         "name": "Brazil vaccinations",
         "type": "scatter",
         "x": [
          "2020-02",
          "2020-03",
          "2020-04",
          "2020-05",
          "2020-06",
          "2020-07",
          "2020-08",
          "2020-09",
          "2020-10",
          "2020-11",
          "2020-12",
          "2021-01",
          "2021-02",
          "2021-03",
          "2021-04",
          "2021-05",
          "2021-06",
          "2021-07",
          "2021-08",
          "2021-09",
          "2021-10",
          "2021-11",
          "2021-12",
          "2022-01",
          "2022-02",
          "2022-03",
          "2022-04",
          "2022-05",
          "2022-06",
          "2022-07"
         ],
         "xaxis": "x",
         "y": [
          null,
          null,
          null,
          null,
          null,
          null,
          null,
          null,
          null,
          null,
          null,
          null,
          0.36041666666666666,
          1.7193548387096773,
          4.350333333333333,
          9.021290322580644,
          11.310666666666666,
          15.610645161290323,
          24.029032258064515,
          36.06466666666667,
          48.64387096774194,
          58.638,
          65.30222222222223,
          68.51428571428572,
          71.17107142857142,
          73.762,
          75.83291666666666,
          77.03884615384615,
          78.32370370370371,
          79.05071428571429
         ],
         "yaxis": "y2"
        },
        {
         "name": "Qatar flight",
         "type": "scatter",
         "x": [
          "2020-02",
          "2020-03",
          "2020-04",
          "2020-05",
          "2020-06",
          "2020-07",
          "2020-08",
          "2020-09",
          "2020-10",
          "2020-11",
          "2020-12",
          "2021-01",
          "2021-02",
          "2021-03",
          "2021-04",
          "2021-05",
          "2021-06",
          "2021-07",
          "2021-08",
          "2021-09",
          "2021-10",
          "2021-11",
          "2021-12",
          "2022-01",
          "2022-02",
          "2022-03",
          "2022-04",
          "2022-05",
          "2022-06",
          "2022-07"
         ],
         "xaxis": "x",
         "y": [
          4933.4,
          6578.1,
          6292.8,
          5417,
          5151.2,
          5496.4,
          5578.7,
          5241.8,
          5683.2,
          5328.1,
          5412.6,
          5624.7,
          5536.7,
          5731.2,
          5551.8,
          5644.9,
          5652.7,
          5489.6,
          5506,
          5704.5,
          5786.4,
          5782.4,
          5659.3,
          5156.6,
          5008.3,
          5833.2,
          5296.8,
          5598.5,
          5640.6,
          5661.5
         ],
         "yaxis": "y"
        },
        {
         "name": "Qatar vaccinations",
         "type": "scatter",
         "x": [
          "2020-02",
          "2020-03",
          "2020-04",
          "2020-05",
          "2020-06",
          "2020-07",
          "2020-08",
          "2020-09",
          "2020-10",
          "2020-11",
          "2020-12",
          "2021-01",
          "2021-02",
          "2021-03",
          "2021-04",
          "2021-05",
          "2021-06",
          "2021-07",
          "2021-08",
          "2021-09",
          "2021-10",
          "2021-11",
          "2021-12",
          "2022-01",
          "2022-02",
          "2022-03",
          "2022-04",
          "2022-05",
          "2022-06",
          "2022-07"
         ],
         "xaxis": "x",
         "y": [
          null,
          null,
          null,
          null,
          null,
          null,
          null,
          null,
          null,
          null,
          null,
          null,
          null,
          null,
          20.86,
          31.053333333333335,
          45.95133333333333,
          59.257,
          70.62346153846154,
          81.33,
          null,
          null,
          null,
          null,
          null,
          96.22333333333334,
          96.8,
          97.13,
          98.266,
          101.90000000000002
         ],
         "yaxis": "y2"
        }
       ],
       "layout": {
        "template": {
         "data": {
          "bar": [
           {
            "error_x": {
             "color": "#2a3f5f"
            },
            "error_y": {
             "color": "#2a3f5f"
            },
            "marker": {
             "line": {
              "color": "#E5ECF6",
              "width": 0.5
             },
             "pattern": {
              "fillmode": "overlay",
              "size": 10,
              "solidity": 0.2
             }
            },
            "type": "bar"
           }
          ],
          "barpolar": [
           {
            "marker": {
             "line": {
              "color": "#E5ECF6",
              "width": 0.5
             },
             "pattern": {
              "fillmode": "overlay",
              "size": 10,
              "solidity": 0.2
             }
            },
            "type": "barpolar"
           }
          ],
          "carpet": [
           {
            "aaxis": {
             "endlinecolor": "#2a3f5f",
             "gridcolor": "white",
             "linecolor": "white",
             "minorgridcolor": "white",
             "startlinecolor": "#2a3f5f"
            },
            "baxis": {
             "endlinecolor": "#2a3f5f",
             "gridcolor": "white",
             "linecolor": "white",
             "minorgridcolor": "white",
             "startlinecolor": "#2a3f5f"
            },
            "type": "carpet"
           }
          ],
          "choropleth": [
           {
            "colorbar": {
             "outlinewidth": 0,
             "ticks": ""
            },
            "type": "choropleth"
           }
          ],
          "contour": [
           {
            "colorbar": {
             "outlinewidth": 0,
             "ticks": ""
            },
            "colorscale": [
             [
              0,
              "#0d0887"
             ],
             [
              0.1111111111111111,
              "#46039f"
             ],
             [
              0.2222222222222222,
              "#7201a8"
             ],
             [
              0.3333333333333333,
              "#9c179e"
             ],
             [
              0.4444444444444444,
              "#bd3786"
             ],
             [
              0.5555555555555556,
              "#d8576b"
             ],
             [
              0.6666666666666666,
              "#ed7953"
             ],
             [
              0.7777777777777778,
              "#fb9f3a"
             ],
             [
              0.8888888888888888,
              "#fdca26"
             ],
             [
              1,
              "#f0f921"
             ]
            ],
            "type": "contour"
           }
          ],
          "contourcarpet": [
           {
            "colorbar": {
             "outlinewidth": 0,
             "ticks": ""
            },
            "type": "contourcarpet"
           }
          ],
          "heatmap": [
           {
            "colorbar": {
             "outlinewidth": 0,
             "ticks": ""
            },
            "colorscale": [
             [
              0,
              "#0d0887"
             ],
             [
              0.1111111111111111,
              "#46039f"
             ],
             [
              0.2222222222222222,
              "#7201a8"
             ],
             [
              0.3333333333333333,
              "#9c179e"
             ],
             [
              0.4444444444444444,
              "#bd3786"
             ],
             [
              0.5555555555555556,
              "#d8576b"
             ],
             [
              0.6666666666666666,
              "#ed7953"
             ],
             [
              0.7777777777777778,
              "#fb9f3a"
             ],
             [
              0.8888888888888888,
              "#fdca26"
             ],
             [
              1,
              "#f0f921"
             ]
            ],
            "type": "heatmap"
           }
          ],
          "heatmapgl": [
           {
            "colorbar": {
             "outlinewidth": 0,
             "ticks": ""
            },
            "colorscale": [
             [
              0,
              "#0d0887"
             ],
             [
              0.1111111111111111,
              "#46039f"
             ],
             [
              0.2222222222222222,
              "#7201a8"
             ],
             [
              0.3333333333333333,
              "#9c179e"
             ],
             [
              0.4444444444444444,
              "#bd3786"
             ],
             [
              0.5555555555555556,
              "#d8576b"
             ],
             [
              0.6666666666666666,
              "#ed7953"
             ],
             [
              0.7777777777777778,
              "#fb9f3a"
             ],
             [
              0.8888888888888888,
              "#fdca26"
             ],
             [
              1,
              "#f0f921"
             ]
            ],
            "type": "heatmapgl"
           }
          ],
          "histogram": [
           {
            "marker": {
             "pattern": {
              "fillmode": "overlay",
              "size": 10,
              "solidity": 0.2
             }
            },
            "type": "histogram"
           }
          ],
          "histogram2d": [
           {
            "colorbar": {
             "outlinewidth": 0,
             "ticks": ""
            },
            "colorscale": [
             [
              0,
              "#0d0887"
             ],
             [
              0.1111111111111111,
              "#46039f"
             ],
             [
              0.2222222222222222,
              "#7201a8"
             ],
             [
              0.3333333333333333,
              "#9c179e"
             ],
             [
              0.4444444444444444,
              "#bd3786"
             ],
             [
              0.5555555555555556,
              "#d8576b"
             ],
             [
              0.6666666666666666,
              "#ed7953"
             ],
             [
              0.7777777777777778,
              "#fb9f3a"
             ],
             [
              0.8888888888888888,
              "#fdca26"
             ],
             [
              1,
              "#f0f921"
             ]
            ],
            "type": "histogram2d"
           }
          ],
          "histogram2dcontour": [
           {
            "colorbar": {
             "outlinewidth": 0,
             "ticks": ""
            },
            "colorscale": [
             [
              0,
              "#0d0887"
             ],
             [
              0.1111111111111111,
              "#46039f"
             ],
             [
              0.2222222222222222,
              "#7201a8"
             ],
             [
              0.3333333333333333,
              "#9c179e"
             ],
             [
              0.4444444444444444,
              "#bd3786"
             ],
             [
              0.5555555555555556,
              "#d8576b"
             ],
             [
              0.6666666666666666,
              "#ed7953"
             ],
             [
              0.7777777777777778,
              "#fb9f3a"
             ],
             [
              0.8888888888888888,
              "#fdca26"
             ],
             [
              1,
              "#f0f921"
             ]
            ],
            "type": "histogram2dcontour"
           }
          ],
          "mesh3d": [
           {
            "colorbar": {
             "outlinewidth": 0,
             "ticks": ""
            },
            "type": "mesh3d"
           }
          ],
          "parcoords": [
           {
            "line": {
             "colorbar": {
              "outlinewidth": 0,
              "ticks": ""
             }
            },
            "type": "parcoords"
           }
          ],
          "pie": [
           {
            "automargin": true,
            "type": "pie"
           }
          ],
          "scatter": [
           {
            "fillpattern": {
             "fillmode": "overlay",
             "size": 10,
             "solidity": 0.2
            },
            "type": "scatter"
           }
          ],
          "scatter3d": [
           {
            "line": {
             "colorbar": {
              "outlinewidth": 0,
              "ticks": ""
             }
            },
            "marker": {
             "colorbar": {
              "outlinewidth": 0,
              "ticks": ""
             }
            },
            "type": "scatter3d"
           }
          ],
          "scattercarpet": [
           {
            "marker": {
             "colorbar": {
              "outlinewidth": 0,
              "ticks": ""
             }
            },
            "type": "scattercarpet"
           }
          ],
          "scattergeo": [
           {
            "marker": {
             "colorbar": {
              "outlinewidth": 0,
              "ticks": ""
             }
            },
            "type": "scattergeo"
           }
          ],
          "scattergl": [
           {
            "marker": {
             "colorbar": {
              "outlinewidth": 0,
              "ticks": ""
             }
            },
            "type": "scattergl"
           }
          ],
          "scattermapbox": [
           {
            "marker": {
             "colorbar": {
              "outlinewidth": 0,
              "ticks": ""
             }
            },
            "type": "scattermapbox"
           }
          ],
          "scatterpolar": [
           {
            "marker": {
             "colorbar": {
              "outlinewidth": 0,
              "ticks": ""
             }
            },
            "type": "scatterpolar"
           }
          ],
          "scatterpolargl": [
           {
            "marker": {
             "colorbar": {
              "outlinewidth": 0,
              "ticks": ""
             }
            },
            "type": "scatterpolargl"
           }
          ],
          "scatterternary": [
           {
            "marker": {
             "colorbar": {
              "outlinewidth": 0,
              "ticks": ""
             }
            },
            "type": "scatterternary"
           }
          ],
          "surface": [
           {
            "colorbar": {
             "outlinewidth": 0,
             "ticks": ""
            },
            "colorscale": [
             [
              0,
              "#0d0887"
             ],
             [
              0.1111111111111111,
              "#46039f"
             ],
             [
              0.2222222222222222,
              "#7201a8"
             ],
             [
              0.3333333333333333,
              "#9c179e"
             ],
             [
              0.4444444444444444,
              "#bd3786"
             ],
             [
              0.5555555555555556,
              "#d8576b"
             ],
             [
              0.6666666666666666,
              "#ed7953"
             ],
             [
              0.7777777777777778,
              "#fb9f3a"
             ],
             [
              0.8888888888888888,
              "#fdca26"
             ],
             [
              1,
              "#f0f921"
             ]
            ],
            "type": "surface"
           }
          ],
          "table": [
           {
            "cells": {
             "fill": {
              "color": "#EBF0F8"
             },
             "line": {
              "color": "white"
             }
            },
            "header": {
             "fill": {
              "color": "#C8D4E3"
             },
             "line": {
              "color": "white"
             }
            },
            "type": "table"
           }
          ]
         },
         "layout": {
          "annotationdefaults": {
           "arrowcolor": "#2a3f5f",
           "arrowhead": 0,
           "arrowwidth": 1
          },
          "autotypenumbers": "strict",
          "coloraxis": {
           "colorbar": {
            "outlinewidth": 0,
            "ticks": ""
           }
          },
          "colorscale": {
           "diverging": [
            [
             0,
             "#8e0152"
            ],
            [
             0.1,
             "#c51b7d"
            ],
            [
             0.2,
             "#de77ae"
            ],
            [
             0.3,
             "#f1b6da"
            ],
            [
             0.4,
             "#fde0ef"
            ],
            [
             0.5,
             "#f7f7f7"
            ],
            [
             0.6,
             "#e6f5d0"
            ],
            [
             0.7,
             "#b8e186"
            ],
            [
             0.8,
             "#7fbc41"
            ],
            [
             0.9,
             "#4d9221"
            ],
            [
             1,
             "#276419"
            ]
           ],
           "sequential": [
            [
             0,
             "#0d0887"
            ],
            [
             0.1111111111111111,
             "#46039f"
            ],
            [
             0.2222222222222222,
             "#7201a8"
            ],
            [
             0.3333333333333333,
             "#9c179e"
            ],
            [
             0.4444444444444444,
             "#bd3786"
            ],
            [
             0.5555555555555556,
             "#d8576b"
            ],
            [
             0.6666666666666666,
             "#ed7953"
            ],
            [
             0.7777777777777778,
             "#fb9f3a"
            ],
            [
             0.8888888888888888,
             "#fdca26"
            ],
            [
             1,
             "#f0f921"
            ]
           ],
           "sequentialminus": [
            [
             0,
             "#0d0887"
            ],
            [
             0.1111111111111111,
             "#46039f"
            ],
            [
             0.2222222222222222,
             "#7201a8"
            ],
            [
             0.3333333333333333,
             "#9c179e"
            ],
            [
             0.4444444444444444,
             "#bd3786"
            ],
            [
             0.5555555555555556,
             "#d8576b"
            ],
            [
             0.6666666666666666,
             "#ed7953"
            ],
            [
             0.7777777777777778,
             "#fb9f3a"
            ],
            [
             0.8888888888888888,
             "#fdca26"
            ],
            [
             1,
             "#f0f921"
            ]
           ]
          },
          "colorway": [
           "#636efa",
           "#EF553B",
           "#00cc96",
           "#ab63fa",
           "#FFA15A",
           "#19d3f3",
           "#FF6692",
           "#B6E880",
           "#FF97FF",
           "#FECB52"
          ],
          "font": {
           "color": "#2a3f5f"
          },
          "geo": {
           "bgcolor": "white",
           "lakecolor": "white",
           "landcolor": "#E5ECF6",
           "showlakes": true,
           "showland": true,
           "subunitcolor": "white"
          },
          "hoverlabel": {
           "align": "left"
          },
          "hovermode": "closest",
          "mapbox": {
           "style": "light"
          },
          "paper_bgcolor": "white",
          "plot_bgcolor": "#E5ECF6",
          "polar": {
           "angularaxis": {
            "gridcolor": "white",
            "linecolor": "white",
            "ticks": ""
           },
           "bgcolor": "#E5ECF6",
           "radialaxis": {
            "gridcolor": "white",
            "linecolor": "white",
            "ticks": ""
           }
          },
          "scene": {
           "xaxis": {
            "backgroundcolor": "#E5ECF6",
            "gridcolor": "white",
            "gridwidth": 2,
            "linecolor": "white",
            "showbackground": true,
            "ticks": "",
            "zerolinecolor": "white"
           },
           "yaxis": {
            "backgroundcolor": "#E5ECF6",
            "gridcolor": "white",
            "gridwidth": 2,
            "linecolor": "white",
            "showbackground": true,
            "ticks": "",
            "zerolinecolor": "white"
           },
           "zaxis": {
            "backgroundcolor": "#E5ECF6",
            "gridcolor": "white",
            "gridwidth": 2,
            "linecolor": "white",
            "showbackground": true,
            "ticks": "",
            "zerolinecolor": "white"
           }
          },
          "shapedefaults": {
           "line": {
            "color": "#2a3f5f"
           }
          },
          "ternary": {
           "aaxis": {
            "gridcolor": "white",
            "linecolor": "white",
            "ticks": ""
           },
           "baxis": {
            "gridcolor": "white",
            "linecolor": "white",
            "ticks": ""
           },
           "bgcolor": "#E5ECF6",
           "caxis": {
            "gridcolor": "white",
            "linecolor": "white",
            "ticks": ""
           }
          },
          "title": {
           "x": 0.05
          },
          "xaxis": {
           "automargin": true,
           "gridcolor": "white",
           "linecolor": "white",
           "ticks": "",
           "title": {
            "standoff": 15
           },
           "zerolinecolor": "white",
           "zerolinewidth": 2
          },
          "yaxis": {
           "automargin": true,
           "gridcolor": "white",
           "linecolor": "white",
           "ticks": "",
           "title": {
            "standoff": 15
           },
           "zerolinecolor": "white",
           "zerolinewidth": 2
          }
         }
        },
        "title": {
         "text": "Flight passengers compared to the percentage of people vaccinated"
        },
        "updatemenus": [
         {
          "bordercolor": "grey",
          "buttons": [
           {
            "args": [
             "visible",
             [
              true,
              true,
              true,
              true,
              true,
              true,
              true,
              true,
              true,
              true
             ]
            ],
            "label": "All",
            "method": "restyle"
           },
           {
            "args": [
             "visible",
             [
              true,
              true,
              false,
              false,
              false,
              false,
              false,
              false,
              false,
              false
             ]
            ],
            "label": "China",
            "method": "restyle"
           },
           {
            "args": [
             "visible",
             [
              false,
              false,
              true,
              true,
              false,
              false,
              false,
              false,
              false,
              false
             ]
            ],
            "label": "United Arab Emirates",
            "method": "restyle"
           },
           {
            "args": [
             "visible",
             [
              false,
              false,
              false,
              false,
              true,
              true,
              false,
              false,
              false,
              false
             ]
            ],
            "label": "United States",
            "method": "restyle"
           },
           {
            "args": [
             "visible",
             [
              false,
              false,
              false,
              false,
              false,
              false,
              true,
              true,
              false,
              false
             ]
            ],
            "label": "Brazil",
            "method": "restyle"
           },
           {
            "args": [
             "visible",
             [
              false,
              false,
              false,
              false,
              false,
              false,
              false,
              false,
              true,
              true
             ]
            ],
            "label": "Qatar",
            "method": "restyle"
           },
           {
            "args": [
             "visible",
             [
              false,
              true,
              false,
              true,
              false,
              true,
              false,
              true,
              false,
              true
             ]
            ],
            "label": "Vaccinations only",
            "method": "restyle"
           },
           {
            "args": [
             "visible",
             [
              true,
              false,
              true,
              false,
              true,
              false,
              true,
              false,
              true,
              false
             ]
            ],
            "label": "Flight only",
            "method": "restyle"
           }
          ],
          "direction": "right",
          "type": "dropdown",
          "x": 0.15,
          "y": 1.16
         }
        ],
        "xaxis": {
         "anchor": "y",
         "domain": [
          0,
          0.94
         ],
         "title": {
          "text": "Date"
         }
        },
        "yaxis": {
         "anchor": "x",
         "domain": [
          0,
          1
         ],
         "title": {
          "text": "Transported cargo [Tonnes]"
         }
        },
        "yaxis2": {
         "anchor": "x",
         "overlaying": "y",
         "side": "right",
         "title": {
          "text": "Fully vaccinated people [%]"
         }
        }
       }
      },
      "text/html": [
       "<div>                            <div id=\"0575c26f-de27-4908-824d-dfd812254fa2\" class=\"plotly-graph-div\" style=\"height:525px; width:100%;\"></div>            <script type=\"text/javascript\">                require([\"plotly\"], function(Plotly) {                    window.PLOTLYENV=window.PLOTLYENV || {};                                    if (document.getElementById(\"0575c26f-de27-4908-824d-dfd812254fa2\")) {                    Plotly.newPlot(                        \"0575c26f-de27-4908-824d-dfd812254fa2\",                        [{\"name\":\"China flight\",\"x\":[\"2020-01\",\"2020-02\",\"2020-03\",\"2020-04\",\"2020-05\",\"2020-06\",\"2020-07\",\"2020-08\",\"2020-09\",\"2020-10\",\"2020-11\",\"2020-12\",\"2021-01\",\"2021-02\",\"2021-03\",\"2021-04\",\"2021-05\",\"2021-06\",\"2021-07\",\"2021-08\",\"2021-09\",\"2021-10\",\"2021-11\",\"2021-12\",\"2022-01\",\"2022-02\",\"2022-03\",\"2022-04\",\"2022-05\",\"2022-06\",\"2022-07\"],\"y\":[22326.800000000003,15923.599999999999,24860.300000000003,21470.5,25916.3,25626.7,24480.999999999996,23980.7,24763.7,27140.4,29747.2,24644.6,26752.499999999996,22362.5,28878.4,25131.9,27573.300000000003,26004.2,21366.8,21258.9,18972.899999999998,24968.1,26453.0,28369.399999999998,28246.600000000002,24993.6,25364.4,21353.9,23348.2,22974.7,23503.5],\"type\":\"scatter\",\"xaxis\":\"x\",\"yaxis\":\"y\"},{\"name\":\"China vaccinations\",\"x\":[\"2020-01\",\"2020-02\",\"2020-03\",\"2020-04\",\"2020-05\",\"2020-06\",\"2020-07\",\"2020-08\",\"2020-09\",\"2020-10\",\"2020-11\",\"2020-12\",\"2021-01\",\"2021-02\",\"2021-03\",\"2021-04\",\"2021-05\",\"2021-06\",\"2021-07\",\"2021-08\",\"2021-09\",\"2021-10\",\"2021-11\",\"2021-12\",\"2022-01\",\"2022-02\",\"2022-03\",\"2022-04\",\"2022-05\",\"2022-06\",\"2022-07\"],\"y\":[null,null,null,null,null,null,null,null,null,null,null,null,null,null,null,null,null,null,null,58.44,71.0325,74.97,75.97,82.73333333333333,85.578,86.39,86.98333333333333,87.44,87.91749999999999,88.27799999999999,88.62666666666667],\"type\":\"scatter\",\"xaxis\":\"x\",\"yaxis\":\"y2\"},{\"name\":\"United Arab Emirates flight\",\"x\":[\"2020-01\",\"2020-02\",\"2020-03\",\"2020-04\",\"2020-05\",\"2020-06\",\"2020-07\",\"2020-08\",\"2020-09\",\"2020-10\",\"2020-11\",\"2020-12\",\"2021-01\",\"2021-02\",\"2021-03\",\"2021-04\",\"2021-05\",\"2021-06\",\"2021-07\",\"2021-08\",\"2021-09\",\"2021-10\",\"2021-11\",\"2021-12\",\"2022-01\",\"2022-02\",\"2022-03\",\"2022-04\",\"2022-05\",\"2022-06\",\"2022-07\"],\"y\":[6371.2,7439.3,8515.0,8411.8,9822.9,9141.2,10471.7,10379.099999999999,11398.9,11287.8,11602.3,11239.2,11030.8,9387.0,12616.2,11642.599999999999,12577.2,11990.3,10290.2,11051.599999999999,12007.6,13017.8,11542.4,12634.0,11719.5,10000.0,12642.4,10299.8,10402.2,10635.5,11981.9],\"type\":\"scatter\",\"xaxis\":\"x\",\"yaxis\":\"y\"},{\"name\":\"United Arab Emirates vaccinations\",\"x\":[\"2020-01\",\"2020-02\",\"2020-03\",\"2020-04\",\"2020-05\",\"2020-06\",\"2020-07\",\"2020-08\",\"2020-09\",\"2020-10\",\"2020-11\",\"2020-12\",\"2021-01\",\"2021-02\",\"2021-03\",\"2021-04\",\"2021-05\",\"2021-06\",\"2021-07\",\"2021-08\",\"2021-09\",\"2021-10\",\"2021-11\",\"2021-12\",\"2022-01\",\"2022-02\",\"2022-03\",\"2022-04\",\"2022-05\",\"2022-06\",\"2022-07\"],\"y\":[null,null,null,null,null,null,null,null,null,null,null,null,2.67,23.36,null,40.97,null,null,70.89,76.86318181818181,84.7969230769231,90.72625,94.25285714285714,96.05999999999999,98.32619047619048,100.47130434782609,101.80666666666667,102.76,103.51166666666666,104.24000000000001,null],\"type\":\"scatter\",\"xaxis\":\"x\",\"yaxis\":\"y2\"},{\"name\":\"United States flight\",\"x\":[\"2020-01\",\"2020-02\",\"2020-03\",\"2020-04\",\"2020-05\",\"2020-06\",\"2020-07\",\"2020-08\",\"2020-09\",\"2020-10\",\"2020-11\",\"2020-12\",\"2021-01\",\"2021-02\",\"2021-03\",\"2021-04\",\"2021-05\",\"2021-06\",\"2021-07\",\"2021-08\",\"2021-09\",\"2021-10\",\"2021-11\",\"2021-12\",\"2022-01\",\"2022-02\",\"2022-03\",\"2022-04\",\"2022-05\",\"2022-06\",\"2022-07\"],\"y\":[16389.4,18023.6,17364.7,17525.5,17209.2,18275.1,20225.8,20405.7,20335.0,24191.0,23978.600000000002,21680.100000000002,22045.2,22374.5,26512.2,24761.800000000003,26282.2,22565.9,22788.5,21896.2,22962.3,25370.4,23904.4,20934.5,17893.0,21445.9,24360.1,22112.100000000002,21808.0,19877.1,20399.8],\"type\":\"scatter\",\"xaxis\":\"x\",\"yaxis\":\"y\"},{\"name\":\"United States vaccinations\",\"x\":[\"2020-01\",\"2020-02\",\"2020-03\",\"2020-04\",\"2020-05\",\"2020-06\",\"2020-07\",\"2020-08\",\"2020-09\",\"2020-10\",\"2020-11\",\"2020-12\",\"2021-01\",\"2021-02\",\"2021-03\",\"2021-04\",\"2021-05\",\"2021-06\",\"2021-07\",\"2021-08\",\"2021-09\",\"2021-10\",\"2021-11\",\"2021-12\",\"2022-01\",\"2022-02\",\"2022-03\",\"2022-04\",\"2022-05\",\"2022-06\",\"2022-07\"],\"y\":[null,null,null,null,null,null,null,null,null,null,null,0.005263157894736842,0.8738709677419355,5.576785714285714,14.069354838709677,27.366333333333333,40.36322580645161,47.25366666666666,50.42,52.8258064516129,56.044666666666664,58.49161290322581,60.083999999999996,62.292258064516126,63.96258064516129,65.19571428571429,65.84225806451613,66.29933333333334,66.70451612903226,67.01966666666667,67.27225806451614],\"type\":\"scatter\",\"xaxis\":\"x\",\"yaxis\":\"y2\"},{\"name\":\"Brazil flight\",\"x\":[\"2020-02\",\"2020-03\",\"2020-04\",\"2020-05\",\"2020-06\",\"2020-07\",\"2020-08\",\"2020-09\",\"2020-10\",\"2020-11\",\"2020-12\",\"2021-01\",\"2021-02\",\"2021-03\",\"2021-04\",\"2021-05\",\"2021-06\",\"2021-07\",\"2021-08\",\"2021-09\",\"2021-10\",\"2021-11\",\"2021-12\",\"2022-01\",\"2022-02\",\"2022-03\",\"2022-04\",\"2022-05\",\"2022-06\",\"2022-07\"],\"y\":[6228.1,5274.1,4406.7,5642.5,5448.5,5980.400000000001,6129.1,6369.7,6869.2,6207.799999999999,5924.9,5158.700000000001,5640.5,6678.1,6196.4,5438.6,4911.4,5790.3,5605.4,5465.0,5800.0,5230.7,5283.7,3918.5,4485.9,4967.1,4370.7,5026.2,4499.9,4524.4],\"type\":\"scatter\",\"xaxis\":\"x\",\"yaxis\":\"y\"},{\"name\":\"Brazil vaccinations\",\"x\":[\"2020-02\",\"2020-03\",\"2020-04\",\"2020-05\",\"2020-06\",\"2020-07\",\"2020-08\",\"2020-09\",\"2020-10\",\"2020-11\",\"2020-12\",\"2021-01\",\"2021-02\",\"2021-03\",\"2021-04\",\"2021-05\",\"2021-06\",\"2021-07\",\"2021-08\",\"2021-09\",\"2021-10\",\"2021-11\",\"2021-12\",\"2022-01\",\"2022-02\",\"2022-03\",\"2022-04\",\"2022-05\",\"2022-06\",\"2022-07\"],\"y\":[null,null,null,null,null,null,null,null,null,null,null,null,0.36041666666666666,1.7193548387096773,4.350333333333333,9.021290322580644,11.310666666666666,15.610645161290323,24.029032258064515,36.06466666666667,48.64387096774194,58.638,65.30222222222223,68.51428571428572,71.17107142857142,73.762,75.83291666666666,77.03884615384615,78.32370370370371,79.05071428571429],\"type\":\"scatter\",\"xaxis\":\"x\",\"yaxis\":\"y2\"},{\"name\":\"Qatar flight\",\"x\":[\"2020-02\",\"2020-03\",\"2020-04\",\"2020-05\",\"2020-06\",\"2020-07\",\"2020-08\",\"2020-09\",\"2020-10\",\"2020-11\",\"2020-12\",\"2021-01\",\"2021-02\",\"2021-03\",\"2021-04\",\"2021-05\",\"2021-06\",\"2021-07\",\"2021-08\",\"2021-09\",\"2021-10\",\"2021-11\",\"2021-12\",\"2022-01\",\"2022-02\",\"2022-03\",\"2022-04\",\"2022-05\",\"2022-06\",\"2022-07\"],\"y\":[4933.4,6578.1,6292.8,5417.0,5151.2,5496.4,5578.7,5241.8,5683.2,5328.1,5412.6,5624.7,5536.7,5731.2,5551.8,5644.9,5652.7,5489.6,5506.0,5704.5,5786.4,5782.4,5659.3,5156.6,5008.3,5833.2,5296.8,5598.5,5640.6,5661.5],\"type\":\"scatter\",\"xaxis\":\"x\",\"yaxis\":\"y\"},{\"name\":\"Qatar vaccinations\",\"x\":[\"2020-02\",\"2020-03\",\"2020-04\",\"2020-05\",\"2020-06\",\"2020-07\",\"2020-08\",\"2020-09\",\"2020-10\",\"2020-11\",\"2020-12\",\"2021-01\",\"2021-02\",\"2021-03\",\"2021-04\",\"2021-05\",\"2021-06\",\"2021-07\",\"2021-08\",\"2021-09\",\"2021-10\",\"2021-11\",\"2021-12\",\"2022-01\",\"2022-02\",\"2022-03\",\"2022-04\",\"2022-05\",\"2022-06\",\"2022-07\"],\"y\":[null,null,null,null,null,null,null,null,null,null,null,null,null,null,20.86,31.053333333333335,45.95133333333333,59.257,70.62346153846154,81.33,null,null,null,null,null,96.22333333333334,96.8,97.13,98.266,101.90000000000002],\"type\":\"scatter\",\"xaxis\":\"x\",\"yaxis\":\"y2\"}],                        {\"template\":{\"data\":{\"histogram2dcontour\":[{\"type\":\"histogram2dcontour\",\"colorbar\":{\"outlinewidth\":0,\"ticks\":\"\"},\"colorscale\":[[0.0,\"#0d0887\"],[0.1111111111111111,\"#46039f\"],[0.2222222222222222,\"#7201a8\"],[0.3333333333333333,\"#9c179e\"],[0.4444444444444444,\"#bd3786\"],[0.5555555555555556,\"#d8576b\"],[0.6666666666666666,\"#ed7953\"],[0.7777777777777778,\"#fb9f3a\"],[0.8888888888888888,\"#fdca26\"],[1.0,\"#f0f921\"]]}],\"choropleth\":[{\"type\":\"choropleth\",\"colorbar\":{\"outlinewidth\":0,\"ticks\":\"\"}}],\"histogram2d\":[{\"type\":\"histogram2d\",\"colorbar\":{\"outlinewidth\":0,\"ticks\":\"\"},\"colorscale\":[[0.0,\"#0d0887\"],[0.1111111111111111,\"#46039f\"],[0.2222222222222222,\"#7201a8\"],[0.3333333333333333,\"#9c179e\"],[0.4444444444444444,\"#bd3786\"],[0.5555555555555556,\"#d8576b\"],[0.6666666666666666,\"#ed7953\"],[0.7777777777777778,\"#fb9f3a\"],[0.8888888888888888,\"#fdca26\"],[1.0,\"#f0f921\"]]}],\"heatmap\":[{\"type\":\"heatmap\",\"colorbar\":{\"outlinewidth\":0,\"ticks\":\"\"},\"colorscale\":[[0.0,\"#0d0887\"],[0.1111111111111111,\"#46039f\"],[0.2222222222222222,\"#7201a8\"],[0.3333333333333333,\"#9c179e\"],[0.4444444444444444,\"#bd3786\"],[0.5555555555555556,\"#d8576b\"],[0.6666666666666666,\"#ed7953\"],[0.7777777777777778,\"#fb9f3a\"],[0.8888888888888888,\"#fdca26\"],[1.0,\"#f0f921\"]]}],\"heatmapgl\":[{\"type\":\"heatmapgl\",\"colorbar\":{\"outlinewidth\":0,\"ticks\":\"\"},\"colorscale\":[[0.0,\"#0d0887\"],[0.1111111111111111,\"#46039f\"],[0.2222222222222222,\"#7201a8\"],[0.3333333333333333,\"#9c179e\"],[0.4444444444444444,\"#bd3786\"],[0.5555555555555556,\"#d8576b\"],[0.6666666666666666,\"#ed7953\"],[0.7777777777777778,\"#fb9f3a\"],[0.8888888888888888,\"#fdca26\"],[1.0,\"#f0f921\"]]}],\"contourcarpet\":[{\"type\":\"contourcarpet\",\"colorbar\":{\"outlinewidth\":0,\"ticks\":\"\"}}],\"contour\":[{\"type\":\"contour\",\"colorbar\":{\"outlinewidth\":0,\"ticks\":\"\"},\"colorscale\":[[0.0,\"#0d0887\"],[0.1111111111111111,\"#46039f\"],[0.2222222222222222,\"#7201a8\"],[0.3333333333333333,\"#9c179e\"],[0.4444444444444444,\"#bd3786\"],[0.5555555555555556,\"#d8576b\"],[0.6666666666666666,\"#ed7953\"],[0.7777777777777778,\"#fb9f3a\"],[0.8888888888888888,\"#fdca26\"],[1.0,\"#f0f921\"]]}],\"surface\":[{\"type\":\"surface\",\"colorbar\":{\"outlinewidth\":0,\"ticks\":\"\"},\"colorscale\":[[0.0,\"#0d0887\"],[0.1111111111111111,\"#46039f\"],[0.2222222222222222,\"#7201a8\"],[0.3333333333333333,\"#9c179e\"],[0.4444444444444444,\"#bd3786\"],[0.5555555555555556,\"#d8576b\"],[0.6666666666666666,\"#ed7953\"],[0.7777777777777778,\"#fb9f3a\"],[0.8888888888888888,\"#fdca26\"],[1.0,\"#f0f921\"]]}],\"mesh3d\":[{\"type\":\"mesh3d\",\"colorbar\":{\"outlinewidth\":0,\"ticks\":\"\"}}],\"scatter\":[{\"fillpattern\":{\"fillmode\":\"overlay\",\"size\":10,\"solidity\":0.2},\"type\":\"scatter\"}],\"parcoords\":[{\"type\":\"parcoords\",\"line\":{\"colorbar\":{\"outlinewidth\":0,\"ticks\":\"\"}}}],\"scatterpolargl\":[{\"type\":\"scatterpolargl\",\"marker\":{\"colorbar\":{\"outlinewidth\":0,\"ticks\":\"\"}}}],\"bar\":[{\"error_x\":{\"color\":\"#2a3f5f\"},\"error_y\":{\"color\":\"#2a3f5f\"},\"marker\":{\"line\":{\"color\":\"#E5ECF6\",\"width\":0.5},\"pattern\":{\"fillmode\":\"overlay\",\"size\":10,\"solidity\":0.2}},\"type\":\"bar\"}],\"scattergeo\":[{\"type\":\"scattergeo\",\"marker\":{\"colorbar\":{\"outlinewidth\":0,\"ticks\":\"\"}}}],\"scatterpolar\":[{\"type\":\"scatterpolar\",\"marker\":{\"colorbar\":{\"outlinewidth\":0,\"ticks\":\"\"}}}],\"histogram\":[{\"marker\":{\"pattern\":{\"fillmode\":\"overlay\",\"size\":10,\"solidity\":0.2}},\"type\":\"histogram\"}],\"scattergl\":[{\"type\":\"scattergl\",\"marker\":{\"colorbar\":{\"outlinewidth\":0,\"ticks\":\"\"}}}],\"scatter3d\":[{\"type\":\"scatter3d\",\"line\":{\"colorbar\":{\"outlinewidth\":0,\"ticks\":\"\"}},\"marker\":{\"colorbar\":{\"outlinewidth\":0,\"ticks\":\"\"}}}],\"scattermapbox\":[{\"type\":\"scattermapbox\",\"marker\":{\"colorbar\":{\"outlinewidth\":0,\"ticks\":\"\"}}}],\"scatterternary\":[{\"type\":\"scatterternary\",\"marker\":{\"colorbar\":{\"outlinewidth\":0,\"ticks\":\"\"}}}],\"scattercarpet\":[{\"type\":\"scattercarpet\",\"marker\":{\"colorbar\":{\"outlinewidth\":0,\"ticks\":\"\"}}}],\"carpet\":[{\"aaxis\":{\"endlinecolor\":\"#2a3f5f\",\"gridcolor\":\"white\",\"linecolor\":\"white\",\"minorgridcolor\":\"white\",\"startlinecolor\":\"#2a3f5f\"},\"baxis\":{\"endlinecolor\":\"#2a3f5f\",\"gridcolor\":\"white\",\"linecolor\":\"white\",\"minorgridcolor\":\"white\",\"startlinecolor\":\"#2a3f5f\"},\"type\":\"carpet\"}],\"table\":[{\"cells\":{\"fill\":{\"color\":\"#EBF0F8\"},\"line\":{\"color\":\"white\"}},\"header\":{\"fill\":{\"color\":\"#C8D4E3\"},\"line\":{\"color\":\"white\"}},\"type\":\"table\"}],\"barpolar\":[{\"marker\":{\"line\":{\"color\":\"#E5ECF6\",\"width\":0.5},\"pattern\":{\"fillmode\":\"overlay\",\"size\":10,\"solidity\":0.2}},\"type\":\"barpolar\"}],\"pie\":[{\"automargin\":true,\"type\":\"pie\"}]},\"layout\":{\"autotypenumbers\":\"strict\",\"colorway\":[\"#636efa\",\"#EF553B\",\"#00cc96\",\"#ab63fa\",\"#FFA15A\",\"#19d3f3\",\"#FF6692\",\"#B6E880\",\"#FF97FF\",\"#FECB52\"],\"font\":{\"color\":\"#2a3f5f\"},\"hovermode\":\"closest\",\"hoverlabel\":{\"align\":\"left\"},\"paper_bgcolor\":\"white\",\"plot_bgcolor\":\"#E5ECF6\",\"polar\":{\"bgcolor\":\"#E5ECF6\",\"angularaxis\":{\"gridcolor\":\"white\",\"linecolor\":\"white\",\"ticks\":\"\"},\"radialaxis\":{\"gridcolor\":\"white\",\"linecolor\":\"white\",\"ticks\":\"\"}},\"ternary\":{\"bgcolor\":\"#E5ECF6\",\"aaxis\":{\"gridcolor\":\"white\",\"linecolor\":\"white\",\"ticks\":\"\"},\"baxis\":{\"gridcolor\":\"white\",\"linecolor\":\"white\",\"ticks\":\"\"},\"caxis\":{\"gridcolor\":\"white\",\"linecolor\":\"white\",\"ticks\":\"\"}},\"coloraxis\":{\"colorbar\":{\"outlinewidth\":0,\"ticks\":\"\"}},\"colorscale\":{\"sequential\":[[0.0,\"#0d0887\"],[0.1111111111111111,\"#46039f\"],[0.2222222222222222,\"#7201a8\"],[0.3333333333333333,\"#9c179e\"],[0.4444444444444444,\"#bd3786\"],[0.5555555555555556,\"#d8576b\"],[0.6666666666666666,\"#ed7953\"],[0.7777777777777778,\"#fb9f3a\"],[0.8888888888888888,\"#fdca26\"],[1.0,\"#f0f921\"]],\"sequentialminus\":[[0.0,\"#0d0887\"],[0.1111111111111111,\"#46039f\"],[0.2222222222222222,\"#7201a8\"],[0.3333333333333333,\"#9c179e\"],[0.4444444444444444,\"#bd3786\"],[0.5555555555555556,\"#d8576b\"],[0.6666666666666666,\"#ed7953\"],[0.7777777777777778,\"#fb9f3a\"],[0.8888888888888888,\"#fdca26\"],[1.0,\"#f0f921\"]],\"diverging\":[[0,\"#8e0152\"],[0.1,\"#c51b7d\"],[0.2,\"#de77ae\"],[0.3,\"#f1b6da\"],[0.4,\"#fde0ef\"],[0.5,\"#f7f7f7\"],[0.6,\"#e6f5d0\"],[0.7,\"#b8e186\"],[0.8,\"#7fbc41\"],[0.9,\"#4d9221\"],[1,\"#276419\"]]},\"xaxis\":{\"gridcolor\":\"white\",\"linecolor\":\"white\",\"ticks\":\"\",\"title\":{\"standoff\":15},\"zerolinecolor\":\"white\",\"automargin\":true,\"zerolinewidth\":2},\"yaxis\":{\"gridcolor\":\"white\",\"linecolor\":\"white\",\"ticks\":\"\",\"title\":{\"standoff\":15},\"zerolinecolor\":\"white\",\"automargin\":true,\"zerolinewidth\":2},\"scene\":{\"xaxis\":{\"backgroundcolor\":\"#E5ECF6\",\"gridcolor\":\"white\",\"linecolor\":\"white\",\"showbackground\":true,\"ticks\":\"\",\"zerolinecolor\":\"white\",\"gridwidth\":2},\"yaxis\":{\"backgroundcolor\":\"#E5ECF6\",\"gridcolor\":\"white\",\"linecolor\":\"white\",\"showbackground\":true,\"ticks\":\"\",\"zerolinecolor\":\"white\",\"gridwidth\":2},\"zaxis\":{\"backgroundcolor\":\"#E5ECF6\",\"gridcolor\":\"white\",\"linecolor\":\"white\",\"showbackground\":true,\"ticks\":\"\",\"zerolinecolor\":\"white\",\"gridwidth\":2}},\"shapedefaults\":{\"line\":{\"color\":\"#2a3f5f\"}},\"annotationdefaults\":{\"arrowcolor\":\"#2a3f5f\",\"arrowhead\":0,\"arrowwidth\":1},\"geo\":{\"bgcolor\":\"white\",\"landcolor\":\"#E5ECF6\",\"subunitcolor\":\"white\",\"showland\":true,\"showlakes\":true,\"lakecolor\":\"white\"},\"title\":{\"x\":0.05},\"mapbox\":{\"style\":\"light\"}}},\"xaxis\":{\"anchor\":\"y\",\"domain\":[0.0,0.94],\"title\":{\"text\":\"Date\"}},\"yaxis\":{\"anchor\":\"x\",\"domain\":[0.0,1.0],\"title\":{\"text\":\"Transported cargo [Tonnes]\"}},\"yaxis2\":{\"anchor\":\"x\",\"overlaying\":\"y\",\"side\":\"right\",\"title\":{\"text\":\"Fully vaccinated people [%]\"}},\"title\":{\"text\":\"Flight passengers compared to the percentage of people vaccinated\"},\"updatemenus\":[{\"bordercolor\":\"grey\",\"buttons\":[{\"args\":[\"visible\",[true,true,true,true,true,true,true,true,true,true]],\"label\":\"All\",\"method\":\"restyle\"},{\"args\":[\"visible\",[true,true,false,false,false,false,false,false,false,false]],\"label\":\"China\",\"method\":\"restyle\"},{\"args\":[\"visible\",[false,false,true,true,false,false,false,false,false,false]],\"label\":\"United Arab Emirates\",\"method\":\"restyle\"},{\"args\":[\"visible\",[false,false,false,false,true,true,false,false,false,false]],\"label\":\"United States\",\"method\":\"restyle\"},{\"args\":[\"visible\",[false,false,false,false,false,false,true,true,false,false]],\"label\":\"Brazil\",\"method\":\"restyle\"},{\"args\":[\"visible\",[false,false,false,false,false,false,false,false,true,true]],\"label\":\"Qatar\",\"method\":\"restyle\"},{\"args\":[\"visible\",[false,true,false,true,false,true,false,true,false,true]],\"label\":\"Vaccinations only\",\"method\":\"restyle\"},{\"args\":[\"visible\",[true,false,true,false,true,false,true,false,true,false]],\"label\":\"Flight only\",\"method\":\"restyle\"}],\"direction\":\"right\",\"type\":\"dropdown\",\"x\":0.15,\"y\":1.16}]},                        {\"responsive\": true}                    ).then(function(){\n",
       "                            \n",
       "var gd = document.getElementById('0575c26f-de27-4908-824d-dfd812254fa2');\n",
       "var x = new MutationObserver(function (mutations, observer) {{\n",
       "        var display = window.getComputedStyle(gd).display;\n",
       "        if (!display || display === 'none') {{\n",
       "            console.log([gd, 'removed!']);\n",
       "            Plotly.purge(gd);\n",
       "            observer.disconnect();\n",
       "        }}\n",
       "}});\n",
       "\n",
       "// Listen for the removal of the full notebook cells\n",
       "var notebookContainer = gd.closest('#notebook-container');\n",
       "if (notebookContainer) {{\n",
       "    x.observe(notebookContainer, {childList: true});\n",
       "}}\n",
       "\n",
       "// Listen for the clearing of the current output cell\n",
       "var outputEl = gd.closest('.output');\n",
       "if (outputEl) {{\n",
       "    x.observe(outputEl, {childList: true});\n",
       "}}\n",
       "\n",
       "                        })                };                });            </script>        </div>"
      ]
     },
     "metadata": {},
     "output_type": "display_data"
    }
   ],
   "source": [
    "\n",
    "fig = make_subplots(specs=[[{'secondary_y': True}]])\n",
    "fig.add_trace(\n",
    "    go.Scatter(x = merged_cargo[merged_cargo['location']== 'China']['date'],y = merged_cargo[merged_cargo['location']== 'China']['OBS_VALUE'], name='China flight'),\n",
    "    secondary_y=False\n",
    ")\n",
    "fig.add_trace(\n",
    "    go.Scatter(x = merged_cargo[merged_cargo['location']== 'China']['date'],y = merged_cargo[merged_cargo['location']== 'China']['people_fully_vaccinated_per_hundred'], name='China vaccinations'),\n",
    "    secondary_y=True,\n",
    ")\n",
    "fig.add_trace(\n",
    "    go.Scatter(x = merged_cargo[merged_cargo['location']== 'United Arab Emirates']['date'],y = merged_cargo[merged_cargo['location']== 'United Arab Emirates']['OBS_VALUE'], name='United Arab Emirates flight'),\n",
    "    secondary_y=False\n",
    ")\n",
    "fig.add_trace(\n",
    "    go.Scatter(x = merged_cargo[merged_cargo['location']== 'United Arab Emirates']['date'],y = merged_cargo[merged_cargo['location']== 'United Arab Emirates']['people_fully_vaccinated_per_hundred'], name='United Arab Emirates vaccinations'),\n",
    "    secondary_y=True,\n",
    ")\n",
    "fig.add_trace(\n",
    "    go.Scatter(x = merged_cargo[merged_cargo['location']== 'United States']['date'],y = merged_cargo[merged_cargo['location']== 'United States']['OBS_VALUE'], name='United States flight'),\n",
    "    secondary_y=False\n",
    ")\n",
    "fig.add_trace(\n",
    "    go.Scatter(x = merged_cargo[merged_cargo['location']== 'United States']['date'],y = merged_cargo[merged_cargo['location']== 'United States']['people_fully_vaccinated_per_hundred'], name='United States vaccinations'),\n",
    "    secondary_y=True,\n",
    ")\n",
    "fig.add_trace(\n",
    "    go.Scatter(x = merged_cargo[merged_cargo['location']== 'Brazil']['date'],y = merged_cargo[merged_cargo['location']== 'Brazil']['OBS_VALUE'], name='Brazil flight'),\n",
    "    secondary_y=False\n",
    ")\n",
    "fig.add_trace(\n",
    "    go.Scatter(x = merged_cargo[merged_cargo['location']== 'Brazil']['date'],y = merged_cargo[merged_cargo['location']== 'Brazil']['people_fully_vaccinated_per_hundred'], name= 'Brazil vaccinations'),\n",
    "    secondary_y=True,\n",
    ")\n",
    "fig.add_trace(\n",
    "    go.Scatter(x = merged_cargo[merged_cargo['location']== 'Qatar']['date'],y = merged_cargo[merged_cargo['location']== 'Qatar']['OBS_VALUE'], name='Qatar flight'),\n",
    "    secondary_y=False\n",
    ")\n",
    "fig.add_trace(\n",
    "    go.Scatter(x = merged_cargo[merged_cargo['location']== 'Qatar']['date'],y = merged_cargo[merged_cargo['location']== 'Qatar']['people_fully_vaccinated_per_hundred'], name='Qatar vaccinations'),\n",
    "    secondary_y=True,\n",
    ")\n",
    "\n",
    "options2 = ['All','China','United Arab Emirates','United States','Brazil','Qatar','Vaccinations only','Flight only']\n",
    "visList = [\n",
    "    [True,True,True,True,True,True,True,True,True,True],\n",
    "    [True,True,False,False,False,False,False,False,False,False],\n",
    "    [False,False,True,True,False,False,False,False,False,False],\n",
    "    [False,False,False,False,True,True,False,False,False,False],\n",
    "    [False,False,False,False,False,False,True,True,False,False],\n",
    "    [False,False,False,False,False,False,False,False,True,True],\n",
    "    [False,True,False,True,False,True,False,True,False,True],\n",
    "    [True,False,True,False,True,False,True,False,True,False]]\n",
    "buttons = []\n",
    "for i, g in enumerate(options2):\n",
    "    button = dict(label =  g,\n",
    "    method = 'restyle',\n",
    "    args = ['visible',visList[i]])\n",
    "    buttons.append(button)\n",
    "\n",
    "fig.update_layout(\n",
    "    xaxis_title='Date',\n",
    "    yaxis_title='Transported cargo [Tonnes]',\n",
    "    title_text='Flight passengers compared to the percentage of people vaccinated',\n",
    "    updatemenus=[\n",
    "        dict(\n",
    "            type='dropdown',\n",
    "            direction='right',\n",
    "            buttons = buttons,\n",
    "            x = 0.15,\n",
    "            y = 1.16,\n",
    "            bordercolor = 'grey'   \n",
    "        )\n",
    "    ],\n",
    ")\n",
    "fig.update_yaxes(title_text='Fully vaccinated people [%]', secondary_y=True)\n",
    "fig.show()"
   ]
  }
 ],
 "metadata": {
  "kernelspec": {
   "display_name": "Python 3.7.13 ('TIL6022')",
   "language": "python",
   "name": "python3"
  },
  "language_info": {
   "codemirror_mode": {
    "name": "ipython",
    "version": 3
   },
   "file_extension": ".py",
   "mimetype": "text/x-python",
   "name": "python",
   "nbconvert_exporter": "python",
   "pygments_lexer": "ipython3",
   "version": "3.7.13"
  },
  "orig_nbformat": 4,
  "vscode": {
   "interpreter": {
    "hash": "58ee865eb3b11d5dd89cf7788ab2fae867f606da9f759e5db2610ec1599d7ef5"
   }
  }
 },
 "nbformat": 4,
 "nbformat_minor": 2
}
