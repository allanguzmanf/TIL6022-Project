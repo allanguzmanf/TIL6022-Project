{
 "cells": [
  {
   "cell_type": "code",
   "execution_count": null,
   "metadata": {},
   "outputs": [],
   "source": [
    "import pandas as pd\n",
    "import numpy as np\n",
    "import plotly as plt\n",
    "\n",
    "import math\n",
    "import scipy\n",
    "\n",
    "import matplotlib.pyplot as plt\n",
    "import seaborn as sns\n",
    "import plotly.express as px\n",
    "import plotly.graph_objects as go\n",
    "\n",
    "import geopandas as gpd\n",
    "\n",
    "import plotly.io as pio\n",
    "import plotly.graph_objects as go   \n",
    "import country_converter as coco\n",
    "pio.renderers.default = \"plotly_mimetype+notebook\""
   ]
  },
  {
   "cell_type": "code",
   "execution_count": null,
   "metadata": {},
   "outputs": [],
   "source": [
    "freight = pd.read_csv(\"Data_Sets/avia_gor_nl__custom_3564729_monthly_linear.csv\")\n",
    "passengers = pd.read_csv(\"Data_Sets/avia_par_nl__custom_3564728_monthly_linear.csv\")\n",
    "country_code_fix = {'EL':'GR','AN':'BQ'}\n",
    "\n",
    "def top_n_year(df,n,year):\n",
    "    df[[\"airp_country_1\",\"airp_code_1\",\"airp_country_2\",\"airp_code_2\"]] = df.airp_pr.str.split(\"_\",expand=True)\n",
    "    df[[\"Year\",\"Month\"]] = df.TIME_PERIOD.str.split(\"-\",expand=True)\n",
    "    topn = df.groupby(['Year',\"airp_country_2\"]).sum()\n",
    "    topn = topn.loc[year,:].sort_values(\"OBS_VALUE\", ascending= False).head(n).reset_index()\n",
    "    cleaned = df[df[\"airp_country_2\"].isin(topn[\"airp_country_2\"])]\n",
    "    return cleaned\n",
    "\n",
    "def codes_correction(df,ISO_2):\n",
    "    df[ISO_2] = df[ISO_2].replace(to_replace= country_code_fix)\n",
    "    df['iso_3_country'] = coco.convert(names = df[ISO_2], to= 'ISO3')\n",
    "    df['country_2_name'] = coco.convert(names = df[ISO_2], to= 'name_short')\n",
    "    return df\n",
    "\n",
    "top_passengers = top_n_year(passengers,5,'2019')\n",
    "top_cargo = top_n_year(freight,5,'2019')"
   ]
  },
  {
   "cell_type": "code",
   "execution_count": null,
   "metadata": {},
   "outputs": [],
   "source": []
  },
  {
   "cell_type": "code",
   "execution_count": null,
   "metadata": {},
   "outputs": [],
   "source": [
    "total_cargo = top_cargo.groupby(['airp_country_2','Year']).sum()\n",
    "total_cargo = total_cargo.reset_index()\n",
    "total_cargo = codes_correction(total_cargo,'airp_country_2')\n",
    "fig = px.line(total_cargo, x='Year', y= 'OBS_VALUE' ,color='airp_country_2')\n",
    "fig.show()"
   ]
  },
  {
   "cell_type": "code",
   "execution_count": null,
   "metadata": {},
   "outputs": [],
   "source": [
    "total_passengers = top_passengers.groupby(['airp_country_2','Year']).sum()\n",
    "total_passengers = total_passengers.reset_index()\n",
    "total_passengers = codes_correction(total_passengers,'airp_country_2')\n",
    "fig = px.line(total_passengers, x='Year', y= 'OBS_VALUE' ,color='airp_country_2')\n",
    "fig.show()"
   ]
  },
  {
   "cell_type": "code",
   "execution_count": null,
   "metadata": {},
   "outputs": [],
   "source": [
    "world = gpd.read_file(gpd.datasets.get_path('naturalearth_lowres'))\n",
    "world.head()"
   ]
  },
  {
   "cell_type": "code",
   "execution_count": null,
   "metadata": {},
   "outputs": [],
   "source": [
    "passengers_for_map = passengers.groupby(['Year','airp_country_2']).sum()\n",
    "passengers_for_map = passengers_for_map.loc['2019',:].reset_index()\n",
    "passengers_for_map = codes_correction(passengers_for_map,'airp_country_2')\n",
    "\n",
    "freight_for_map = freight.groupby(['Year','airp_country_2']).sum()\n",
    "freight_for_map = freight_for_map.loc['2019',:].reset_index()\n",
    "freight_for_map = codes_correction(freight_for_map,'airp_country_2')\n"
   ]
  },
  {
   "cell_type": "code",
   "execution_count": null,
   "metadata": {},
   "outputs": [],
   "source": []
  },
  {
   "cell_type": "code",
   "execution_count": null,
   "metadata": {},
   "outputs": [],
   "source": [
    "map_data_passengers = world.merge(passengers_for_map,left_on = 'iso_a3', right_on = 'iso_3_country', how = 'left')\n",
    "\n",
    "fig = px.choropleth(map_data_passengers, hover_name = 'country_2_name',locations= 'iso_3_country', locationmode= 'ISO-3', color='OBS_VALUE')\n",
    "\n",
    "fig.update_layout(\n",
    "    title_text = 'Total passengers flying from Schiphol Airport in 2019',\n",
    "    geo= dict(\n",
    "        showframe = False,\n",
    "        showcoastlines = False,\n",
    "        projection_type = 'equirectangular'\n",
    "    )\n",
    ")\n",
    "fig.show()"
   ]
  },
  {
   "cell_type": "code",
   "execution_count": null,
   "metadata": {},
   "outputs": [],
   "source": [
    "map_data_cargo = world.merge(freight_for_map,left_on = 'iso_a3', right_on = 'iso_3_country', how = 'left')\n",
    "\n",
    "fig = px.choropleth(freight_for_map, hover_name = 'country_2_name',locations= 'iso_3_country', locationmode= 'ISO-3', color='OBS_VALUE')\n",
    "\n",
    "fig.update_layout(\n",
    "    title_text = 'Total tons transported by air from Schiphol Airport in 2019',\n",
    "    geo= dict(\n",
    "        showframe = False,\n",
    "        showcoastlines = False,\n",
    "        projection_type = 'equirectangular'\n",
    "    )\n",
    ")\n",
    "fig.show()"
   ]
  },
  {
   "cell_type": "code",
   "execution_count": null,
   "metadata": {},
   "outputs": [],
   "source": [
    "fig = px.bar(map_data_passengers.sort_values('OBS_VALUE',ascending= False).head(20),x= 'country_2_name', y = 'OBS_VALUE')\n",
    "fig.show()"
   ]
  },
  {
   "cell_type": "code",
   "execution_count": null,
   "metadata": {},
   "outputs": [],
   "source": [
    "fig = px.bar(map_data_cargo.sort_values('OBS_VALUE',ascending= False).head(20),x= 'country_2_name', y = 'OBS_VALUE')\n",
    "fig.show()"
   ]
  }
 ],
 "metadata": {
  "kernelspec": {
   "display_name": "Python 3.10.6 ('TUDELFT')",
   "language": "python",
   "name": "python3"
  },
  "language_info": {
   "codemirror_mode": {
    "name": "ipython",
    "version": 3
   },
   "file_extension": ".py",
   "mimetype": "text/x-python",
   "name": "python",
   "nbconvert_exporter": "python",
   "pygments_lexer": "ipython3",
   "version": "3.10.6"
  },
  "orig_nbformat": 4,
  "vscode": {
   "interpreter": {
    "hash": "92a6cbca651f00db2d15eae71bddba99a71270e315c61a41948e474df692a2cc"
   }
  }
 },
 "nbformat": 4,
 "nbformat_minor": 2
}
