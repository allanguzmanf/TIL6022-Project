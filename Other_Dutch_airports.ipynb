{
 "cells": [
  {
   "cell_type": "markdown",
   "metadata": {},
   "source": [
    "# PART III"
   ]
  },
  {
   "cell_type": "markdown",
   "metadata": {},
   "source": [
    "4. What is the effect caused by COVID on Amsterdam Schiphol Airport compared to other Dutch airports?"
   ]
  },
  {
   "cell_type": "code",
   "execution_count": 1,
   "metadata": {},
   "outputs": [],
   "source": [
    "import pandas as pd \n",
    "import numpy as np\n",
    "import math\n",
    "import scipy\n",
    "\n",
    "import matplotlib.pyplot as plt\n",
    "import seaborn as sns\n",
    "import plotly.express as px\n",
    "import plotly.graph_objects as go\n",
    "\n",
    "import plotly.io as pio\n",
    "pio.renderers.default = \"plotly_mimetype+notebook\""
   ]
  },
  {
   "cell_type": "markdown",
   "metadata": {},
   "source": [
    "Import and preparation of the covid data"
   ]
  },
  {
   "cell_type": "code",
   "execution_count": 56,
   "metadata": {},
   "outputs": [
    {
     "data": {
      "text/html": [
       "<div>\n",
       "<style scoped>\n",
       "    .dataframe tbody tr th:only-of-type {\n",
       "        vertical-align: middle;\n",
       "    }\n",
       "\n",
       "    .dataframe tbody tr th {\n",
       "        vertical-align: top;\n",
       "    }\n",
       "\n",
       "    .dataframe thead th {\n",
       "        text-align: right;\n",
       "    }\n",
       "</style>\n",
       "<table border=\"1\" class=\"dataframe\">\n",
       "  <thead>\n",
       "    <tr style=\"text-align: right;\">\n",
       "      <th></th>\n",
       "      <th>Periods</th>\n",
       "      <th>Airports</th>\n",
       "      <th>Commercial air traffic/Flights/All flights/Total flights (number)</th>\n",
       "      <th>Commercial air traffic/Passengers/Total passengers/Total passengers (number)</th>\n",
       "      <th>Commercial air traffic/Cargo/Total cargo/Total cargo (ton)</th>\n",
       "      <th>Commercial air traffic/Mail/Total mail/Total mail (ton)</th>\n",
       "      <th>PC_flights</th>\n",
       "      <th>PC_pass</th>\n",
       "      <th>PC_cargo</th>\n",
       "      <th>PC_mail</th>\n",
       "    </tr>\n",
       "  </thead>\n",
       "  <tbody>\n",
       "    <tr>\n",
       "      <th>0</th>\n",
       "      <td>2020 January*</td>\n",
       "      <td>Amsterdam Airport Schiphol</td>\n",
       "      <td>37567</td>\n",
       "      <td>5074773</td>\n",
       "      <td>113080</td>\n",
       "      <td>1908</td>\n",
       "      <td>0.000000</td>\n",
       "      <td>0.000000</td>\n",
       "      <td>0.000000</td>\n",
       "      <td>0.000000</td>\n",
       "    </tr>\n",
       "    <tr>\n",
       "      <th>1</th>\n",
       "      <td>2020 February*</td>\n",
       "      <td>Amsterdam Airport Schiphol</td>\n",
       "      <td>34979</td>\n",
       "      <td>4719769</td>\n",
       "      <td>116293</td>\n",
       "      <td>1491</td>\n",
       "      <td>-6.889025</td>\n",
       "      <td>-6.995466</td>\n",
       "      <td>2.841351</td>\n",
       "      <td>-21.855346</td>\n",
       "    </tr>\n",
       "    <tr>\n",
       "      <th>2</th>\n",
       "      <td>2020 March*</td>\n",
       "      <td>Amsterdam Airport Schiphol</td>\n",
       "      <td>25155</td>\n",
       "      <td>2476372</td>\n",
       "      <td>120481</td>\n",
       "      <td>1167</td>\n",
       "      <td>-28.085423</td>\n",
       "      <td>-47.531924</td>\n",
       "      <td>3.601249</td>\n",
       "      <td>-21.730382</td>\n",
       "    </tr>\n",
       "    <tr>\n",
       "      <th>3</th>\n",
       "      <td>2020 April*</td>\n",
       "      <td>Amsterdam Airport Schiphol</td>\n",
       "      <td>4236</td>\n",
       "      <td>126015</td>\n",
       "      <td>93255</td>\n",
       "      <td>382</td>\n",
       "      <td>-83.160405</td>\n",
       "      <td>-94.911306</td>\n",
       "      <td>-22.597754</td>\n",
       "      <td>-67.266495</td>\n",
       "    </tr>\n",
       "    <tr>\n",
       "      <th>4</th>\n",
       "      <td>2020 May*</td>\n",
       "      <td>Amsterdam Airport Schiphol</td>\n",
       "      <td>5873</td>\n",
       "      <td>207827</td>\n",
       "      <td>104745</td>\n",
       "      <td>542</td>\n",
       "      <td>38.644948</td>\n",
       "      <td>64.922430</td>\n",
       "      <td>12.321055</td>\n",
       "      <td>41.884817</td>\n",
       "    </tr>\n",
       "    <tr>\n",
       "      <th>...</th>\n",
       "      <td>...</td>\n",
       "      <td>...</td>\n",
       "      <td>...</td>\n",
       "      <td>...</td>\n",
       "      <td>...</td>\n",
       "      <td>...</td>\n",
       "      <td>...</td>\n",
       "      <td>...</td>\n",
       "      <td>...</td>\n",
       "      <td>...</td>\n",
       "    </tr>\n",
       "    <tr>\n",
       "      <th>155</th>\n",
       "      <td>2022 April*</td>\n",
       "      <td>Groningen Airport Eelde</td>\n",
       "      <td>62</td>\n",
       "      <td>5010</td>\n",
       "      <td>0</td>\n",
       "      <td>0</td>\n",
       "      <td>-1.587302</td>\n",
       "      <td>51.542650</td>\n",
       "      <td>0.000000</td>\n",
       "      <td>0.000000</td>\n",
       "    </tr>\n",
       "    <tr>\n",
       "      <th>156</th>\n",
       "      <td>2022 May*</td>\n",
       "      <td>Groningen Airport Eelde</td>\n",
       "      <td>120</td>\n",
       "      <td>8746</td>\n",
       "      <td>0</td>\n",
       "      <td>0</td>\n",
       "      <td>93.548387</td>\n",
       "      <td>74.570858</td>\n",
       "      <td>0.000000</td>\n",
       "      <td>0.000000</td>\n",
       "    </tr>\n",
       "    <tr>\n",
       "      <th>157</th>\n",
       "      <td>2022 June*</td>\n",
       "      <td>Groningen Airport Eelde</td>\n",
       "      <td>148</td>\n",
       "      <td>9400</td>\n",
       "      <td>0</td>\n",
       "      <td>0</td>\n",
       "      <td>23.333333</td>\n",
       "      <td>7.477704</td>\n",
       "      <td>0.000000</td>\n",
       "      <td>0.000000</td>\n",
       "    </tr>\n",
       "    <tr>\n",
       "      <th>158</th>\n",
       "      <td>2022 July*</td>\n",
       "      <td>Groningen Airport Eelde</td>\n",
       "      <td>132</td>\n",
       "      <td>11314</td>\n",
       "      <td>0</td>\n",
       "      <td>0</td>\n",
       "      <td>-10.810811</td>\n",
       "      <td>20.361702</td>\n",
       "      <td>0.000000</td>\n",
       "      <td>0.000000</td>\n",
       "    </tr>\n",
       "    <tr>\n",
       "      <th>159</th>\n",
       "      <td>2022 August*</td>\n",
       "      <td>Groningen Airport Eelde</td>\n",
       "      <td>135</td>\n",
       "      <td>13390</td>\n",
       "      <td>0</td>\n",
       "      <td>0</td>\n",
       "      <td>2.272727</td>\n",
       "      <td>18.348948</td>\n",
       "      <td>0.000000</td>\n",
       "      <td>0.000000</td>\n",
       "    </tr>\n",
       "  </tbody>\n",
       "</table>\n",
       "<p>160 rows × 10 columns</p>\n",
       "</div>"
      ],
      "text/plain": [
       "            Periods                    Airports  \\\n",
       "0     2020 January*  Amsterdam Airport Schiphol   \n",
       "1    2020 February*  Amsterdam Airport Schiphol   \n",
       "2       2020 March*  Amsterdam Airport Schiphol   \n",
       "3       2020 April*  Amsterdam Airport Schiphol   \n",
       "4         2020 May*  Amsterdam Airport Schiphol   \n",
       "..              ...                         ...   \n",
       "155     2022 April*     Groningen Airport Eelde   \n",
       "156       2022 May*     Groningen Airport Eelde   \n",
       "157      2022 June*     Groningen Airport Eelde   \n",
       "158      2022 July*     Groningen Airport Eelde   \n",
       "159    2022 August*     Groningen Airport Eelde   \n",
       "\n",
       "     Commercial air traffic/Flights/All flights/Total flights (number)  \\\n",
       "0                                                37567                   \n",
       "1                                                34979                   \n",
       "2                                                25155                   \n",
       "3                                                 4236                   \n",
       "4                                                 5873                   \n",
       "..                                                 ...                   \n",
       "155                                                 62                   \n",
       "156                                                120                   \n",
       "157                                                148                   \n",
       "158                                                132                   \n",
       "159                                                135                   \n",
       "\n",
       "     Commercial air traffic/Passengers/Total passengers/Total passengers (number)  \\\n",
       "0                                              5074773                              \n",
       "1                                              4719769                              \n",
       "2                                              2476372                              \n",
       "3                                               126015                              \n",
       "4                                               207827                              \n",
       "..                                                 ...                              \n",
       "155                                               5010                              \n",
       "156                                               8746                              \n",
       "157                                               9400                              \n",
       "158                                              11314                              \n",
       "159                                              13390                              \n",
       "\n",
       "     Commercial air traffic/Cargo/Total cargo/Total cargo (ton)  \\\n",
       "0                                               113080            \n",
       "1                                               116293            \n",
       "2                                               120481            \n",
       "3                                                93255            \n",
       "4                                               104745            \n",
       "..                                                 ...            \n",
       "155                                                  0            \n",
       "156                                                  0            \n",
       "157                                                  0            \n",
       "158                                                  0            \n",
       "159                                                  0            \n",
       "\n",
       "     Commercial air traffic/Mail/Total mail/Total mail (ton)  PC_flights  \\\n",
       "0                                                 1908          0.000000   \n",
       "1                                                 1491         -6.889025   \n",
       "2                                                 1167        -28.085423   \n",
       "3                                                  382        -83.160405   \n",
       "4                                                  542         38.644948   \n",
       "..                                                 ...               ...   \n",
       "155                                                  0         -1.587302   \n",
       "156                                                  0         93.548387   \n",
       "157                                                  0         23.333333   \n",
       "158                                                  0        -10.810811   \n",
       "159                                                  0          2.272727   \n",
       "\n",
       "       PC_pass   PC_cargo    PC_mail  \n",
       "0     0.000000   0.000000   0.000000  \n",
       "1    -6.995466   2.841351 -21.855346  \n",
       "2   -47.531924   3.601249 -21.730382  \n",
       "3   -94.911306 -22.597754 -67.266495  \n",
       "4    64.922430  12.321055  41.884817  \n",
       "..         ...        ...        ...  \n",
       "155  51.542650   0.000000   0.000000  \n",
       "156  74.570858   0.000000   0.000000  \n",
       "157   7.477704   0.000000   0.000000  \n",
       "158  20.361702   0.000000   0.000000  \n",
       "159  18.348948   0.000000   0.000000  \n",
       "\n",
       "[160 rows x 10 columns]"
      ]
     },
     "execution_count": 56,
     "metadata": {},
     "output_type": "execute_result"
    }
   ],
   "source": [
    "filepath = 'Data_Sets/Dutch Airports.csv'\n",
    "DutchAirports = pd.read_csv(filepath, delimiter=';')\n",
    " \n",
    "DutchAirports = DutchAirports.drop(['Aircraft movements/Cross-country flights (number)', 'Aircraft movements/Local flights (number)', 'Commercial air traffic/Flights/All flights/Scheduled (number)'], axis = 1)\n",
    "DutchAirports = DutchAirports.set_index('Airports')\n",
    "DutchAirports = DutchAirports.T\n",
    "DutchAirports = DutchAirports.drop(['Total Dutch airports'], axis = 1)\n",
    "DutchAirports = DutchAirports.T\n",
    "DutchAirports = DutchAirports.reset_index()\n",
    "DutchAirports = DutchAirports.set_index('Periods')\n",
    "DutchAirports = DutchAirports.T\n",
    "DutchAirports = DutchAirports.drop(['2018'], axis = 1)\n",
    "DutchAirports = DutchAirports.drop(['2019'], axis = 1)\n",
    "DutchAirports = DutchAirports.drop(['2020*'], axis = 1)\n",
    "DutchAirports = DutchAirports.drop(['2021*'], axis = 1)\n",
    "DutchAirports = DutchAirports.T\n",
    "DutchAirports = DutchAirports.reset_index()\n",
    "#DutchAirports = DutchAirports.set_index('Airports')\n",
    "DutchAirports['PC_flights'] = DutchAirports['Commercial air traffic/Flights/All flights/Total flights (number)'].pct_change()*100\n",
    "DutchAirports['PC_pass'] = DutchAirports['Commercial air traffic/Passengers/Total passengers/Total passengers (number)'].pct_change()*100\n",
    "DutchAirports['PC_cargo'] = DutchAirports['Commercial air traffic/Cargo/Total cargo/Total cargo (ton)'].pct_change()*100\n",
    "DutchAirports['PC_mail'] = DutchAirports['Commercial air traffic/Mail/Total mail/Total mail (ton)'].pct_change()*100\n",
    "DutchAirports = DutchAirports.fillna(0)\n",
    "DutchAirports\n",
    "#DutchAirports_EHAM = DutchAirports.drop(['Rotterdam The Hague Airport','Eindhoven Airport','Maastricht Aachen Airport','Groningen Airport Eelde'], axis = 1)\n",
    "#DutchAirports_EHAM"
   ]
  },
  {
   "cell_type": "code",
   "execution_count": 57,
   "metadata": {},
   "outputs": [
    {
     "data": {
      "application/vnd.plotly.v1+json": {
       "config": {
        "plotlyServerURL": "https://plot.ly"
       },
       "data": [
        {
         "hovertemplate": "Airports=Amsterdam Airport Schiphol<br>Periods=%{x}<br>Commercial air traffic/Flights/All flights/Total flights (number)=%{y}<extra></extra>",
         "legendgroup": "Amsterdam Airport Schiphol",
         "line": {
          "color": "#636efa",
          "dash": "solid"
         },
         "marker": {
          "symbol": "circle"
         },
         "mode": "lines",
         "name": "Amsterdam Airport Schiphol",
         "orientation": "v",
         "showlegend": true,
         "type": "scatter",
         "x": [
          "2020 January*",
          "2020 February*",
          "2020 March*",
          "2020 April*",
          "2020 May*",
          "2020 June*",
          "2020 July*",
          "2020 August*",
          "2020 September*",
          "2020 October*",
          "2020 November*",
          "2020 December*",
          "2021 January*",
          "2021 February*",
          "2021 March*",
          "2021 April*",
          "2021 May*",
          "2021 June*",
          "2021 July*",
          "2021 August*",
          "2021 September*",
          "2021 October*",
          "2021 November*",
          "2021 December*",
          "2022 January*",
          "2022 February*",
          "2022 March*",
          "2022 April*",
          "2022 May*",
          "2022 June*",
          "2022 July*",
          "2022 August*"
         ],
         "xaxis": "x",
         "y": [
          37567,
          34979,
          25155,
          4236,
          5873,
          8108,
          15702,
          23125,
          22162,
          19614,
          14858,
          15896,
          14666,
          10655,
          12217,
          13720,
          15576,
          19195,
          29141,
          31847,
          30019,
          31324,
          28371,
          30225,
          26231,
          24129,
          30382,
          33421,
          38419,
          36919,
          36000,
          37730
         ],
         "yaxis": "y"
        },
        {
         "hovertemplate": "Airports=Rotterdam The Hague Airport<br>Periods=%{x}<br>Commercial air traffic/Flights/All flights/Total flights (number)=%{y}<extra></extra>",
         "legendgroup": "Rotterdam The Hague Airport",
         "line": {
          "color": "#EF553B",
          "dash": "solid"
         },
         "marker": {
          "symbol": "circle"
         },
         "mode": "lines",
         "name": "Rotterdam The Hague Airport",
         "orientation": "v",
         "showlegend": true,
         "type": "scatter",
         "x": [
          "2020 January*",
          "2020 February*",
          "2020 March*",
          "2020 April*",
          "2020 May*",
          "2020 June*",
          "2020 July*",
          "2020 August*",
          "2020 September*",
          "2020 October*",
          "2020 November*",
          "2020 December*",
          "2021 January*",
          "2021 February*",
          "2021 March*",
          "2021 April*",
          "2021 May*",
          "2021 June*",
          "2021 July*",
          "2021 August*",
          "2021 September*",
          "2021 October*",
          "2021 November*",
          "2021 December*",
          "2022 January*",
          "2022 February*",
          "2022 March*",
          "2022 April*",
          "2022 May*",
          "2022 June*",
          "2022 July*",
          "2022 August*"
         ],
         "xaxis": "x",
         "y": [
          963,
          1031,
          748,
          41,
          46,
          168,
          1032,
          1071,
          635,
          353,
          134,
          115,
          181,
          144,
          185,
          195,
          267,
          579,
          1312,
          1516,
          1410,
          1303,
          674,
          541,
          734,
          699,
          989,
          1437,
          1974,
          1858,
          2465,
          2353
         ],
         "yaxis": "y"
        },
        {
         "hovertemplate": "Airports=Eindhoven Airport<br>Periods=%{x}<br>Commercial air traffic/Flights/All flights/Total flights (number)=%{y}<extra></extra>",
         "legendgroup": "Eindhoven Airport",
         "line": {
          "color": "#00cc96",
          "dash": "solid"
         },
         "marker": {
          "symbol": "circle"
         },
         "mode": "lines",
         "name": "Eindhoven Airport",
         "orientation": "v",
         "showlegend": true,
         "type": "scatter",
         "x": [
          "2020 January*",
          "2020 February*",
          "2020 March*",
          "2020 April*",
          "2020 May*",
          "2020 June*",
          "2020 July*",
          "2020 August*",
          "2020 September*",
          "2020 October*",
          "2020 November*",
          "2020 December*",
          "2021 January*",
          "2021 February*",
          "2021 March*",
          "2021 April*",
          "2021 May*",
          "2021 June*",
          "2021 July*",
          "2021 August*",
          "2021 September*",
          "2021 October*",
          "2021 November*",
          "2021 December*",
          "2022 January*",
          "2022 February*",
          "2022 March*",
          "2022 April*",
          "2022 May*",
          "2022 June*",
          "2022 July*",
          "2022 August*"
         ],
         "xaxis": "x",
         "y": [
          2554,
          2649,
          1888,
          148,
          178,
          565,
          2292,
          2713,
          1947,
          1451,
          721,
          769,
          572,
          169,
          226,
          373,
          562,
          1428,
          2779,
          3245,
          3112,
          3097,
          2390,
          2571,
          2133,
          2151,
          2700,
          3390,
          3768,
          3724,
          3909,
          3948
         ],
         "yaxis": "y"
        },
        {
         "hovertemplate": "Airports=Maastricht Aachen Airport<br>Periods=%{x}<br>Commercial air traffic/Flights/All flights/Total flights (number)=%{y}<extra></extra>",
         "legendgroup": "Maastricht Aachen Airport",
         "line": {
          "color": "#ab63fa",
          "dash": "solid"
         },
         "marker": {
          "symbol": "circle"
         },
         "mode": "lines",
         "name": "Maastricht Aachen Airport",
         "orientation": "v",
         "showlegend": true,
         "type": "scatter",
         "x": [
          "2020 January*",
          "2020 February*",
          "2020 March*",
          "2020 April*",
          "2020 May*",
          "2020 June*",
          "2020 July*",
          "2020 August*",
          "2020 September*",
          "2020 October*",
          "2020 November*",
          "2020 December*",
          "2021 January*",
          "2021 February*",
          "2021 March*",
          "2021 April*",
          "2021 May*",
          "2021 June*",
          "2021 July*",
          "2021 August*",
          "2021 September*",
          "2021 October*",
          "2021 November*",
          "2021 December*",
          "2022 January*",
          "2022 February*",
          "2022 March*",
          "2022 April*",
          "2022 May*",
          "2022 June*",
          "2022 July*",
          "2022 August*"
         ],
         "xaxis": "x",
         "y": [
          474,
          476,
          485,
          329,
          452,
          489,
          621,
          615,
          516,
          587,
          548,
          535,
          468,
          537,
          560,
          563,
          555,
          460,
          583,
          600,
          623,
          656,
          523,
          473,
          431,
          398,
          434,
          514,
          542,
          599,
          712,
          696
         ],
         "yaxis": "y"
        },
        {
         "hovertemplate": "Airports=Groningen Airport Eelde<br>Periods=%{x}<br>Commercial air traffic/Flights/All flights/Total flights (number)=%{y}<extra></extra>",
         "legendgroup": "Groningen Airport Eelde",
         "line": {
          "color": "#FFA15A",
          "dash": "solid"
         },
         "marker": {
          "symbol": "circle"
         },
         "mode": "lines",
         "name": "Groningen Airport Eelde",
         "orientation": "v",
         "showlegend": true,
         "type": "scatter",
         "x": [
          "2020 January*",
          "2020 February*",
          "2020 March*",
          "2020 April*",
          "2020 May*",
          "2020 June*",
          "2020 July*",
          "2020 August*",
          "2020 September*",
          "2020 October*",
          "2020 November*",
          "2020 December*",
          "2021 January*",
          "2021 February*",
          "2021 March*",
          "2021 April*",
          "2021 May*",
          "2021 June*",
          "2021 July*",
          "2021 August*",
          "2021 September*",
          "2021 October*",
          "2021 November*",
          "2021 December*",
          "2022 January*",
          "2022 February*",
          "2022 March*",
          "2022 April*",
          "2022 May*",
          "2022 June*",
          "2022 July*",
          "2022 August*"
         ],
         "xaxis": "x",
         "y": [
          210,
          164,
          30,
          5,
          7,
          6,
          54,
          51,
          30,
          23,
          22,
          10,
          20,
          23,
          40,
          40,
          27,
          39,
          101,
          74,
          98,
          85,
          68,
          59,
          75,
          79,
          63,
          62,
          120,
          148,
          132,
          135
         ],
         "yaxis": "y"
        }
       ],
       "layout": {
        "legend": {
         "title": {
          "text": "Airports"
         },
         "tracegroupgap": 0
        },
        "margin": {
         "t": 60
        },
        "template": {
         "data": {
          "bar": [
           {
            "error_x": {
             "color": "#2a3f5f"
            },
            "error_y": {
             "color": "#2a3f5f"
            },
            "marker": {
             "line": {
              "color": "#E5ECF6",
              "width": 0.5
             },
             "pattern": {
              "fillmode": "overlay",
              "size": 10,
              "solidity": 0.2
             }
            },
            "type": "bar"
           }
          ],
          "barpolar": [
           {
            "marker": {
             "line": {
              "color": "#E5ECF6",
              "width": 0.5
             },
             "pattern": {
              "fillmode": "overlay",
              "size": 10,
              "solidity": 0.2
             }
            },
            "type": "barpolar"
           }
          ],
          "carpet": [
           {
            "aaxis": {
             "endlinecolor": "#2a3f5f",
             "gridcolor": "white",
             "linecolor": "white",
             "minorgridcolor": "white",
             "startlinecolor": "#2a3f5f"
            },
            "baxis": {
             "endlinecolor": "#2a3f5f",
             "gridcolor": "white",
             "linecolor": "white",
             "minorgridcolor": "white",
             "startlinecolor": "#2a3f5f"
            },
            "type": "carpet"
           }
          ],
          "choropleth": [
           {
            "colorbar": {
             "outlinewidth": 0,
             "ticks": ""
            },
            "type": "choropleth"
           }
          ],
          "contour": [
           {
            "colorbar": {
             "outlinewidth": 0,
             "ticks": ""
            },
            "colorscale": [
             [
              0,
              "#0d0887"
             ],
             [
              0.1111111111111111,
              "#46039f"
             ],
             [
              0.2222222222222222,
              "#7201a8"
             ],
             [
              0.3333333333333333,
              "#9c179e"
             ],
             [
              0.4444444444444444,
              "#bd3786"
             ],
             [
              0.5555555555555556,
              "#d8576b"
             ],
             [
              0.6666666666666666,
              "#ed7953"
             ],
             [
              0.7777777777777778,
              "#fb9f3a"
             ],
             [
              0.8888888888888888,
              "#fdca26"
             ],
             [
              1,
              "#f0f921"
             ]
            ],
            "type": "contour"
           }
          ],
          "contourcarpet": [
           {
            "colorbar": {
             "outlinewidth": 0,
             "ticks": ""
            },
            "type": "contourcarpet"
           }
          ],
          "heatmap": [
           {
            "colorbar": {
             "outlinewidth": 0,
             "ticks": ""
            },
            "colorscale": [
             [
              0,
              "#0d0887"
             ],
             [
              0.1111111111111111,
              "#46039f"
             ],
             [
              0.2222222222222222,
              "#7201a8"
             ],
             [
              0.3333333333333333,
              "#9c179e"
             ],
             [
              0.4444444444444444,
              "#bd3786"
             ],
             [
              0.5555555555555556,
              "#d8576b"
             ],
             [
              0.6666666666666666,
              "#ed7953"
             ],
             [
              0.7777777777777778,
              "#fb9f3a"
             ],
             [
              0.8888888888888888,
              "#fdca26"
             ],
             [
              1,
              "#f0f921"
             ]
            ],
            "type": "heatmap"
           }
          ],
          "heatmapgl": [
           {
            "colorbar": {
             "outlinewidth": 0,
             "ticks": ""
            },
            "colorscale": [
             [
              0,
              "#0d0887"
             ],
             [
              0.1111111111111111,
              "#46039f"
             ],
             [
              0.2222222222222222,
              "#7201a8"
             ],
             [
              0.3333333333333333,
              "#9c179e"
             ],
             [
              0.4444444444444444,
              "#bd3786"
             ],
             [
              0.5555555555555556,
              "#d8576b"
             ],
             [
              0.6666666666666666,
              "#ed7953"
             ],
             [
              0.7777777777777778,
              "#fb9f3a"
             ],
             [
              0.8888888888888888,
              "#fdca26"
             ],
             [
              1,
              "#f0f921"
             ]
            ],
            "type": "heatmapgl"
           }
          ],
          "histogram": [
           {
            "marker": {
             "pattern": {
              "fillmode": "overlay",
              "size": 10,
              "solidity": 0.2
             }
            },
            "type": "histogram"
           }
          ],
          "histogram2d": [
           {
            "colorbar": {
             "outlinewidth": 0,
             "ticks": ""
            },
            "colorscale": [
             [
              0,
              "#0d0887"
             ],
             [
              0.1111111111111111,
              "#46039f"
             ],
             [
              0.2222222222222222,
              "#7201a8"
             ],
             [
              0.3333333333333333,
              "#9c179e"
             ],
             [
              0.4444444444444444,
              "#bd3786"
             ],
             [
              0.5555555555555556,
              "#d8576b"
             ],
             [
              0.6666666666666666,
              "#ed7953"
             ],
             [
              0.7777777777777778,
              "#fb9f3a"
             ],
             [
              0.8888888888888888,
              "#fdca26"
             ],
             [
              1,
              "#f0f921"
             ]
            ],
            "type": "histogram2d"
           }
          ],
          "histogram2dcontour": [
           {
            "colorbar": {
             "outlinewidth": 0,
             "ticks": ""
            },
            "colorscale": [
             [
              0,
              "#0d0887"
             ],
             [
              0.1111111111111111,
              "#46039f"
             ],
             [
              0.2222222222222222,
              "#7201a8"
             ],
             [
              0.3333333333333333,
              "#9c179e"
             ],
             [
              0.4444444444444444,
              "#bd3786"
             ],
             [
              0.5555555555555556,
              "#d8576b"
             ],
             [
              0.6666666666666666,
              "#ed7953"
             ],
             [
              0.7777777777777778,
              "#fb9f3a"
             ],
             [
              0.8888888888888888,
              "#fdca26"
             ],
             [
              1,
              "#f0f921"
             ]
            ],
            "type": "histogram2dcontour"
           }
          ],
          "mesh3d": [
           {
            "colorbar": {
             "outlinewidth": 0,
             "ticks": ""
            },
            "type": "mesh3d"
           }
          ],
          "parcoords": [
           {
            "line": {
             "colorbar": {
              "outlinewidth": 0,
              "ticks": ""
             }
            },
            "type": "parcoords"
           }
          ],
          "pie": [
           {
            "automargin": true,
            "type": "pie"
           }
          ],
          "scatter": [
           {
            "fillpattern": {
             "fillmode": "overlay",
             "size": 10,
             "solidity": 0.2
            },
            "type": "scatter"
           }
          ],
          "scatter3d": [
           {
            "line": {
             "colorbar": {
              "outlinewidth": 0,
              "ticks": ""
             }
            },
            "marker": {
             "colorbar": {
              "outlinewidth": 0,
              "ticks": ""
             }
            },
            "type": "scatter3d"
           }
          ],
          "scattercarpet": [
           {
            "marker": {
             "colorbar": {
              "outlinewidth": 0,
              "ticks": ""
             }
            },
            "type": "scattercarpet"
           }
          ],
          "scattergeo": [
           {
            "marker": {
             "colorbar": {
              "outlinewidth": 0,
              "ticks": ""
             }
            },
            "type": "scattergeo"
           }
          ],
          "scattergl": [
           {
            "marker": {
             "colorbar": {
              "outlinewidth": 0,
              "ticks": ""
             }
            },
            "type": "scattergl"
           }
          ],
          "scattermapbox": [
           {
            "marker": {
             "colorbar": {
              "outlinewidth": 0,
              "ticks": ""
             }
            },
            "type": "scattermapbox"
           }
          ],
          "scatterpolar": [
           {
            "marker": {
             "colorbar": {
              "outlinewidth": 0,
              "ticks": ""
             }
            },
            "type": "scatterpolar"
           }
          ],
          "scatterpolargl": [
           {
            "marker": {
             "colorbar": {
              "outlinewidth": 0,
              "ticks": ""
             }
            },
            "type": "scatterpolargl"
           }
          ],
          "scatterternary": [
           {
            "marker": {
             "colorbar": {
              "outlinewidth": 0,
              "ticks": ""
             }
            },
            "type": "scatterternary"
           }
          ],
          "surface": [
           {
            "colorbar": {
             "outlinewidth": 0,
             "ticks": ""
            },
            "colorscale": [
             [
              0,
              "#0d0887"
             ],
             [
              0.1111111111111111,
              "#46039f"
             ],
             [
              0.2222222222222222,
              "#7201a8"
             ],
             [
              0.3333333333333333,
              "#9c179e"
             ],
             [
              0.4444444444444444,
              "#bd3786"
             ],
             [
              0.5555555555555556,
              "#d8576b"
             ],
             [
              0.6666666666666666,
              "#ed7953"
             ],
             [
              0.7777777777777778,
              "#fb9f3a"
             ],
             [
              0.8888888888888888,
              "#fdca26"
             ],
             [
              1,
              "#f0f921"
             ]
            ],
            "type": "surface"
           }
          ],
          "table": [
           {
            "cells": {
             "fill": {
              "color": "#EBF0F8"
             },
             "line": {
              "color": "white"
             }
            },
            "header": {
             "fill": {
              "color": "#C8D4E3"
             },
             "line": {
              "color": "white"
             }
            },
            "type": "table"
           }
          ]
         },
         "layout": {
          "annotationdefaults": {
           "arrowcolor": "#2a3f5f",
           "arrowhead": 0,
           "arrowwidth": 1
          },
          "autotypenumbers": "strict",
          "coloraxis": {
           "colorbar": {
            "outlinewidth": 0,
            "ticks": ""
           }
          },
          "colorscale": {
           "diverging": [
            [
             0,
             "#8e0152"
            ],
            [
             0.1,
             "#c51b7d"
            ],
            [
             0.2,
             "#de77ae"
            ],
            [
             0.3,
             "#f1b6da"
            ],
            [
             0.4,
             "#fde0ef"
            ],
            [
             0.5,
             "#f7f7f7"
            ],
            [
             0.6,
             "#e6f5d0"
            ],
            [
             0.7,
             "#b8e186"
            ],
            [
             0.8,
             "#7fbc41"
            ],
            [
             0.9,
             "#4d9221"
            ],
            [
             1,
             "#276419"
            ]
           ],
           "sequential": [
            [
             0,
             "#0d0887"
            ],
            [
             0.1111111111111111,
             "#46039f"
            ],
            [
             0.2222222222222222,
             "#7201a8"
            ],
            [
             0.3333333333333333,
             "#9c179e"
            ],
            [
             0.4444444444444444,
             "#bd3786"
            ],
            [
             0.5555555555555556,
             "#d8576b"
            ],
            [
             0.6666666666666666,
             "#ed7953"
            ],
            [
             0.7777777777777778,
             "#fb9f3a"
            ],
            [
             0.8888888888888888,
             "#fdca26"
            ],
            [
             1,
             "#f0f921"
            ]
           ],
           "sequentialminus": [
            [
             0,
             "#0d0887"
            ],
            [
             0.1111111111111111,
             "#46039f"
            ],
            [
             0.2222222222222222,
             "#7201a8"
            ],
            [
             0.3333333333333333,
             "#9c179e"
            ],
            [
             0.4444444444444444,
             "#bd3786"
            ],
            [
             0.5555555555555556,
             "#d8576b"
            ],
            [
             0.6666666666666666,
             "#ed7953"
            ],
            [
             0.7777777777777778,
             "#fb9f3a"
            ],
            [
             0.8888888888888888,
             "#fdca26"
            ],
            [
             1,
             "#f0f921"
            ]
           ]
          },
          "colorway": [
           "#636efa",
           "#EF553B",
           "#00cc96",
           "#ab63fa",
           "#FFA15A",
           "#19d3f3",
           "#FF6692",
           "#B6E880",
           "#FF97FF",
           "#FECB52"
          ],
          "font": {
           "color": "#2a3f5f"
          },
          "geo": {
           "bgcolor": "white",
           "lakecolor": "white",
           "landcolor": "#E5ECF6",
           "showlakes": true,
           "showland": true,
           "subunitcolor": "white"
          },
          "hoverlabel": {
           "align": "left"
          },
          "hovermode": "closest",
          "mapbox": {
           "style": "light"
          },
          "paper_bgcolor": "white",
          "plot_bgcolor": "#E5ECF6",
          "polar": {
           "angularaxis": {
            "gridcolor": "white",
            "linecolor": "white",
            "ticks": ""
           },
           "bgcolor": "#E5ECF6",
           "radialaxis": {
            "gridcolor": "white",
            "linecolor": "white",
            "ticks": ""
           }
          },
          "scene": {
           "xaxis": {
            "backgroundcolor": "#E5ECF6",
            "gridcolor": "white",
            "gridwidth": 2,
            "linecolor": "white",
            "showbackground": true,
            "ticks": "",
            "zerolinecolor": "white"
           },
           "yaxis": {
            "backgroundcolor": "#E5ECF6",
            "gridcolor": "white",
            "gridwidth": 2,
            "linecolor": "white",
            "showbackground": true,
            "ticks": "",
            "zerolinecolor": "white"
           },
           "zaxis": {
            "backgroundcolor": "#E5ECF6",
            "gridcolor": "white",
            "gridwidth": 2,
            "linecolor": "white",
            "showbackground": true,
            "ticks": "",
            "zerolinecolor": "white"
           }
          },
          "shapedefaults": {
           "line": {
            "color": "#2a3f5f"
           }
          },
          "ternary": {
           "aaxis": {
            "gridcolor": "white",
            "linecolor": "white",
            "ticks": ""
           },
           "baxis": {
            "gridcolor": "white",
            "linecolor": "white",
            "ticks": ""
           },
           "bgcolor": "#E5ECF6",
           "caxis": {
            "gridcolor": "white",
            "linecolor": "white",
            "ticks": ""
           }
          },
          "title": {
           "x": 0.05
          },
          "xaxis": {
           "automargin": true,
           "gridcolor": "white",
           "linecolor": "white",
           "ticks": "",
           "title": {
            "standoff": 15
           },
           "zerolinecolor": "white",
           "zerolinewidth": 2
          },
          "yaxis": {
           "automargin": true,
           "gridcolor": "white",
           "linecolor": "white",
           "ticks": "",
           "title": {
            "standoff": 15
           },
           "zerolinecolor": "white",
           "zerolinewidth": 2
          }
         }
        },
        "xaxis": {
         "anchor": "y",
         "domain": [
          0,
          1
         ],
         "title": {
          "text": "Periods"
         }
        },
        "yaxis": {
         "anchor": "x",
         "domain": [
          0,
          1
         ],
         "title": {
          "text": "Commercial air traffic/Flights/All flights/Total flights (number)"
         }
        }
       }
      },
      "text/html": [
       "<div>                            <div id=\"c0d3c2b0-bcce-4eda-805d-c94b5611a56f\" class=\"plotly-graph-div\" style=\"height:525px; width:100%;\"></div>            <script type=\"text/javascript\">                require([\"plotly\"], function(Plotly) {                    window.PLOTLYENV=window.PLOTLYENV || {};                                    if (document.getElementById(\"c0d3c2b0-bcce-4eda-805d-c94b5611a56f\")) {                    Plotly.newPlot(                        \"c0d3c2b0-bcce-4eda-805d-c94b5611a56f\",                        [{\"hovertemplate\":\"Airports=Amsterdam Airport Schiphol<br>Periods=%{x}<br>Commercial air traffic/Flights/All flights/Total flights (number)=%{y}<extra></extra>\",\"legendgroup\":\"Amsterdam Airport Schiphol\",\"line\":{\"color\":\"#636efa\",\"dash\":\"solid\"},\"marker\":{\"symbol\":\"circle\"},\"mode\":\"lines\",\"name\":\"Amsterdam Airport Schiphol\",\"orientation\":\"v\",\"showlegend\":true,\"x\":[\"2020 January*\",\"2020 February*\",\"2020 March*\",\"2020 April*\",\"2020 May*\",\"2020 June*\",\"2020 July*\",\"2020 August*\",\"2020 September*\",\"2020 October*\",\"2020 November*\",\"2020 December*\",\"2021 January*\",\"2021 February*\",\"2021 March*\",\"2021 April*\",\"2021 May*\",\"2021 June*\",\"2021 July*\",\"2021 August*\",\"2021 September*\",\"2021 October*\",\"2021 November*\",\"2021 December*\",\"2022 January*\",\"2022 February*\",\"2022 March*\",\"2022 April*\",\"2022 May*\",\"2022 June*\",\"2022 July*\",\"2022 August*\"],\"xaxis\":\"x\",\"y\":[37567,34979,25155,4236,5873,8108,15702,23125,22162,19614,14858,15896,14666,10655,12217,13720,15576,19195,29141,31847,30019,31324,28371,30225,26231,24129,30382,33421,38419,36919,36000,37730],\"yaxis\":\"y\",\"type\":\"scatter\"},{\"hovertemplate\":\"Airports=Rotterdam The Hague Airport<br>Periods=%{x}<br>Commercial air traffic/Flights/All flights/Total flights (number)=%{y}<extra></extra>\",\"legendgroup\":\"Rotterdam The Hague Airport\",\"line\":{\"color\":\"#EF553B\",\"dash\":\"solid\"},\"marker\":{\"symbol\":\"circle\"},\"mode\":\"lines\",\"name\":\"Rotterdam The Hague Airport\",\"orientation\":\"v\",\"showlegend\":true,\"x\":[\"2020 January*\",\"2020 February*\",\"2020 March*\",\"2020 April*\",\"2020 May*\",\"2020 June*\",\"2020 July*\",\"2020 August*\",\"2020 September*\",\"2020 October*\",\"2020 November*\",\"2020 December*\",\"2021 January*\",\"2021 February*\",\"2021 March*\",\"2021 April*\",\"2021 May*\",\"2021 June*\",\"2021 July*\",\"2021 August*\",\"2021 September*\",\"2021 October*\",\"2021 November*\",\"2021 December*\",\"2022 January*\",\"2022 February*\",\"2022 March*\",\"2022 April*\",\"2022 May*\",\"2022 June*\",\"2022 July*\",\"2022 August*\"],\"xaxis\":\"x\",\"y\":[963,1031,748,41,46,168,1032,1071,635,353,134,115,181,144,185,195,267,579,1312,1516,1410,1303,674,541,734,699,989,1437,1974,1858,2465,2353],\"yaxis\":\"y\",\"type\":\"scatter\"},{\"hovertemplate\":\"Airports=Eindhoven Airport<br>Periods=%{x}<br>Commercial air traffic/Flights/All flights/Total flights (number)=%{y}<extra></extra>\",\"legendgroup\":\"Eindhoven Airport\",\"line\":{\"color\":\"#00cc96\",\"dash\":\"solid\"},\"marker\":{\"symbol\":\"circle\"},\"mode\":\"lines\",\"name\":\"Eindhoven Airport\",\"orientation\":\"v\",\"showlegend\":true,\"x\":[\"2020 January*\",\"2020 February*\",\"2020 March*\",\"2020 April*\",\"2020 May*\",\"2020 June*\",\"2020 July*\",\"2020 August*\",\"2020 September*\",\"2020 October*\",\"2020 November*\",\"2020 December*\",\"2021 January*\",\"2021 February*\",\"2021 March*\",\"2021 April*\",\"2021 May*\",\"2021 June*\",\"2021 July*\",\"2021 August*\",\"2021 September*\",\"2021 October*\",\"2021 November*\",\"2021 December*\",\"2022 January*\",\"2022 February*\",\"2022 March*\",\"2022 April*\",\"2022 May*\",\"2022 June*\",\"2022 July*\",\"2022 August*\"],\"xaxis\":\"x\",\"y\":[2554,2649,1888,148,178,565,2292,2713,1947,1451,721,769,572,169,226,373,562,1428,2779,3245,3112,3097,2390,2571,2133,2151,2700,3390,3768,3724,3909,3948],\"yaxis\":\"y\",\"type\":\"scatter\"},{\"hovertemplate\":\"Airports=Maastricht Aachen Airport<br>Periods=%{x}<br>Commercial air traffic/Flights/All flights/Total flights (number)=%{y}<extra></extra>\",\"legendgroup\":\"Maastricht Aachen Airport\",\"line\":{\"color\":\"#ab63fa\",\"dash\":\"solid\"},\"marker\":{\"symbol\":\"circle\"},\"mode\":\"lines\",\"name\":\"Maastricht Aachen Airport\",\"orientation\":\"v\",\"showlegend\":true,\"x\":[\"2020 January*\",\"2020 February*\",\"2020 March*\",\"2020 April*\",\"2020 May*\",\"2020 June*\",\"2020 July*\",\"2020 August*\",\"2020 September*\",\"2020 October*\",\"2020 November*\",\"2020 December*\",\"2021 January*\",\"2021 February*\",\"2021 March*\",\"2021 April*\",\"2021 May*\",\"2021 June*\",\"2021 July*\",\"2021 August*\",\"2021 September*\",\"2021 October*\",\"2021 November*\",\"2021 December*\",\"2022 January*\",\"2022 February*\",\"2022 March*\",\"2022 April*\",\"2022 May*\",\"2022 June*\",\"2022 July*\",\"2022 August*\"],\"xaxis\":\"x\",\"y\":[474,476,485,329,452,489,621,615,516,587,548,535,468,537,560,563,555,460,583,600,623,656,523,473,431,398,434,514,542,599,712,696],\"yaxis\":\"y\",\"type\":\"scatter\"},{\"hovertemplate\":\"Airports=Groningen Airport Eelde<br>Periods=%{x}<br>Commercial air traffic/Flights/All flights/Total flights (number)=%{y}<extra></extra>\",\"legendgroup\":\"Groningen Airport Eelde\",\"line\":{\"color\":\"#FFA15A\",\"dash\":\"solid\"},\"marker\":{\"symbol\":\"circle\"},\"mode\":\"lines\",\"name\":\"Groningen Airport Eelde\",\"orientation\":\"v\",\"showlegend\":true,\"x\":[\"2020 January*\",\"2020 February*\",\"2020 March*\",\"2020 April*\",\"2020 May*\",\"2020 June*\",\"2020 July*\",\"2020 August*\",\"2020 September*\",\"2020 October*\",\"2020 November*\",\"2020 December*\",\"2021 January*\",\"2021 February*\",\"2021 March*\",\"2021 April*\",\"2021 May*\",\"2021 June*\",\"2021 July*\",\"2021 August*\",\"2021 September*\",\"2021 October*\",\"2021 November*\",\"2021 December*\",\"2022 January*\",\"2022 February*\",\"2022 March*\",\"2022 April*\",\"2022 May*\",\"2022 June*\",\"2022 July*\",\"2022 August*\"],\"xaxis\":\"x\",\"y\":[210,164,30,5,7,6,54,51,30,23,22,10,20,23,40,40,27,39,101,74,98,85,68,59,75,79,63,62,120,148,132,135],\"yaxis\":\"y\",\"type\":\"scatter\"}],                        {\"template\":{\"data\":{\"histogram2dcontour\":[{\"type\":\"histogram2dcontour\",\"colorbar\":{\"outlinewidth\":0,\"ticks\":\"\"},\"colorscale\":[[0.0,\"#0d0887\"],[0.1111111111111111,\"#46039f\"],[0.2222222222222222,\"#7201a8\"],[0.3333333333333333,\"#9c179e\"],[0.4444444444444444,\"#bd3786\"],[0.5555555555555556,\"#d8576b\"],[0.6666666666666666,\"#ed7953\"],[0.7777777777777778,\"#fb9f3a\"],[0.8888888888888888,\"#fdca26\"],[1.0,\"#f0f921\"]]}],\"choropleth\":[{\"type\":\"choropleth\",\"colorbar\":{\"outlinewidth\":0,\"ticks\":\"\"}}],\"histogram2d\":[{\"type\":\"histogram2d\",\"colorbar\":{\"outlinewidth\":0,\"ticks\":\"\"},\"colorscale\":[[0.0,\"#0d0887\"],[0.1111111111111111,\"#46039f\"],[0.2222222222222222,\"#7201a8\"],[0.3333333333333333,\"#9c179e\"],[0.4444444444444444,\"#bd3786\"],[0.5555555555555556,\"#d8576b\"],[0.6666666666666666,\"#ed7953\"],[0.7777777777777778,\"#fb9f3a\"],[0.8888888888888888,\"#fdca26\"],[1.0,\"#f0f921\"]]}],\"heatmap\":[{\"type\":\"heatmap\",\"colorbar\":{\"outlinewidth\":0,\"ticks\":\"\"},\"colorscale\":[[0.0,\"#0d0887\"],[0.1111111111111111,\"#46039f\"],[0.2222222222222222,\"#7201a8\"],[0.3333333333333333,\"#9c179e\"],[0.4444444444444444,\"#bd3786\"],[0.5555555555555556,\"#d8576b\"],[0.6666666666666666,\"#ed7953\"],[0.7777777777777778,\"#fb9f3a\"],[0.8888888888888888,\"#fdca26\"],[1.0,\"#f0f921\"]]}],\"heatmapgl\":[{\"type\":\"heatmapgl\",\"colorbar\":{\"outlinewidth\":0,\"ticks\":\"\"},\"colorscale\":[[0.0,\"#0d0887\"],[0.1111111111111111,\"#46039f\"],[0.2222222222222222,\"#7201a8\"],[0.3333333333333333,\"#9c179e\"],[0.4444444444444444,\"#bd3786\"],[0.5555555555555556,\"#d8576b\"],[0.6666666666666666,\"#ed7953\"],[0.7777777777777778,\"#fb9f3a\"],[0.8888888888888888,\"#fdca26\"],[1.0,\"#f0f921\"]]}],\"contourcarpet\":[{\"type\":\"contourcarpet\",\"colorbar\":{\"outlinewidth\":0,\"ticks\":\"\"}}],\"contour\":[{\"type\":\"contour\",\"colorbar\":{\"outlinewidth\":0,\"ticks\":\"\"},\"colorscale\":[[0.0,\"#0d0887\"],[0.1111111111111111,\"#46039f\"],[0.2222222222222222,\"#7201a8\"],[0.3333333333333333,\"#9c179e\"],[0.4444444444444444,\"#bd3786\"],[0.5555555555555556,\"#d8576b\"],[0.6666666666666666,\"#ed7953\"],[0.7777777777777778,\"#fb9f3a\"],[0.8888888888888888,\"#fdca26\"],[1.0,\"#f0f921\"]]}],\"surface\":[{\"type\":\"surface\",\"colorbar\":{\"outlinewidth\":0,\"ticks\":\"\"},\"colorscale\":[[0.0,\"#0d0887\"],[0.1111111111111111,\"#46039f\"],[0.2222222222222222,\"#7201a8\"],[0.3333333333333333,\"#9c179e\"],[0.4444444444444444,\"#bd3786\"],[0.5555555555555556,\"#d8576b\"],[0.6666666666666666,\"#ed7953\"],[0.7777777777777778,\"#fb9f3a\"],[0.8888888888888888,\"#fdca26\"],[1.0,\"#f0f921\"]]}],\"mesh3d\":[{\"type\":\"mesh3d\",\"colorbar\":{\"outlinewidth\":0,\"ticks\":\"\"}}],\"scatter\":[{\"fillpattern\":{\"fillmode\":\"overlay\",\"size\":10,\"solidity\":0.2},\"type\":\"scatter\"}],\"parcoords\":[{\"type\":\"parcoords\",\"line\":{\"colorbar\":{\"outlinewidth\":0,\"ticks\":\"\"}}}],\"scatterpolargl\":[{\"type\":\"scatterpolargl\",\"marker\":{\"colorbar\":{\"outlinewidth\":0,\"ticks\":\"\"}}}],\"bar\":[{\"error_x\":{\"color\":\"#2a3f5f\"},\"error_y\":{\"color\":\"#2a3f5f\"},\"marker\":{\"line\":{\"color\":\"#E5ECF6\",\"width\":0.5},\"pattern\":{\"fillmode\":\"overlay\",\"size\":10,\"solidity\":0.2}},\"type\":\"bar\"}],\"scattergeo\":[{\"type\":\"scattergeo\",\"marker\":{\"colorbar\":{\"outlinewidth\":0,\"ticks\":\"\"}}}],\"scatterpolar\":[{\"type\":\"scatterpolar\",\"marker\":{\"colorbar\":{\"outlinewidth\":0,\"ticks\":\"\"}}}],\"histogram\":[{\"marker\":{\"pattern\":{\"fillmode\":\"overlay\",\"size\":10,\"solidity\":0.2}},\"type\":\"histogram\"}],\"scattergl\":[{\"type\":\"scattergl\",\"marker\":{\"colorbar\":{\"outlinewidth\":0,\"ticks\":\"\"}}}],\"scatter3d\":[{\"type\":\"scatter3d\",\"line\":{\"colorbar\":{\"outlinewidth\":0,\"ticks\":\"\"}},\"marker\":{\"colorbar\":{\"outlinewidth\":0,\"ticks\":\"\"}}}],\"scattermapbox\":[{\"type\":\"scattermapbox\",\"marker\":{\"colorbar\":{\"outlinewidth\":0,\"ticks\":\"\"}}}],\"scatterternary\":[{\"type\":\"scatterternary\",\"marker\":{\"colorbar\":{\"outlinewidth\":0,\"ticks\":\"\"}}}],\"scattercarpet\":[{\"type\":\"scattercarpet\",\"marker\":{\"colorbar\":{\"outlinewidth\":0,\"ticks\":\"\"}}}],\"carpet\":[{\"aaxis\":{\"endlinecolor\":\"#2a3f5f\",\"gridcolor\":\"white\",\"linecolor\":\"white\",\"minorgridcolor\":\"white\",\"startlinecolor\":\"#2a3f5f\"},\"baxis\":{\"endlinecolor\":\"#2a3f5f\",\"gridcolor\":\"white\",\"linecolor\":\"white\",\"minorgridcolor\":\"white\",\"startlinecolor\":\"#2a3f5f\"},\"type\":\"carpet\"}],\"table\":[{\"cells\":{\"fill\":{\"color\":\"#EBF0F8\"},\"line\":{\"color\":\"white\"}},\"header\":{\"fill\":{\"color\":\"#C8D4E3\"},\"line\":{\"color\":\"white\"}},\"type\":\"table\"}],\"barpolar\":[{\"marker\":{\"line\":{\"color\":\"#E5ECF6\",\"width\":0.5},\"pattern\":{\"fillmode\":\"overlay\",\"size\":10,\"solidity\":0.2}},\"type\":\"barpolar\"}],\"pie\":[{\"automargin\":true,\"type\":\"pie\"}]},\"layout\":{\"autotypenumbers\":\"strict\",\"colorway\":[\"#636efa\",\"#EF553B\",\"#00cc96\",\"#ab63fa\",\"#FFA15A\",\"#19d3f3\",\"#FF6692\",\"#B6E880\",\"#FF97FF\",\"#FECB52\"],\"font\":{\"color\":\"#2a3f5f\"},\"hovermode\":\"closest\",\"hoverlabel\":{\"align\":\"left\"},\"paper_bgcolor\":\"white\",\"plot_bgcolor\":\"#E5ECF6\",\"polar\":{\"bgcolor\":\"#E5ECF6\",\"angularaxis\":{\"gridcolor\":\"white\",\"linecolor\":\"white\",\"ticks\":\"\"},\"radialaxis\":{\"gridcolor\":\"white\",\"linecolor\":\"white\",\"ticks\":\"\"}},\"ternary\":{\"bgcolor\":\"#E5ECF6\",\"aaxis\":{\"gridcolor\":\"white\",\"linecolor\":\"white\",\"ticks\":\"\"},\"baxis\":{\"gridcolor\":\"white\",\"linecolor\":\"white\",\"ticks\":\"\"},\"caxis\":{\"gridcolor\":\"white\",\"linecolor\":\"white\",\"ticks\":\"\"}},\"coloraxis\":{\"colorbar\":{\"outlinewidth\":0,\"ticks\":\"\"}},\"colorscale\":{\"sequential\":[[0.0,\"#0d0887\"],[0.1111111111111111,\"#46039f\"],[0.2222222222222222,\"#7201a8\"],[0.3333333333333333,\"#9c179e\"],[0.4444444444444444,\"#bd3786\"],[0.5555555555555556,\"#d8576b\"],[0.6666666666666666,\"#ed7953\"],[0.7777777777777778,\"#fb9f3a\"],[0.8888888888888888,\"#fdca26\"],[1.0,\"#f0f921\"]],\"sequentialminus\":[[0.0,\"#0d0887\"],[0.1111111111111111,\"#46039f\"],[0.2222222222222222,\"#7201a8\"],[0.3333333333333333,\"#9c179e\"],[0.4444444444444444,\"#bd3786\"],[0.5555555555555556,\"#d8576b\"],[0.6666666666666666,\"#ed7953\"],[0.7777777777777778,\"#fb9f3a\"],[0.8888888888888888,\"#fdca26\"],[1.0,\"#f0f921\"]],\"diverging\":[[0,\"#8e0152\"],[0.1,\"#c51b7d\"],[0.2,\"#de77ae\"],[0.3,\"#f1b6da\"],[0.4,\"#fde0ef\"],[0.5,\"#f7f7f7\"],[0.6,\"#e6f5d0\"],[0.7,\"#b8e186\"],[0.8,\"#7fbc41\"],[0.9,\"#4d9221\"],[1,\"#276419\"]]},\"xaxis\":{\"gridcolor\":\"white\",\"linecolor\":\"white\",\"ticks\":\"\",\"title\":{\"standoff\":15},\"zerolinecolor\":\"white\",\"automargin\":true,\"zerolinewidth\":2},\"yaxis\":{\"gridcolor\":\"white\",\"linecolor\":\"white\",\"ticks\":\"\",\"title\":{\"standoff\":15},\"zerolinecolor\":\"white\",\"automargin\":true,\"zerolinewidth\":2},\"scene\":{\"xaxis\":{\"backgroundcolor\":\"#E5ECF6\",\"gridcolor\":\"white\",\"linecolor\":\"white\",\"showbackground\":true,\"ticks\":\"\",\"zerolinecolor\":\"white\",\"gridwidth\":2},\"yaxis\":{\"backgroundcolor\":\"#E5ECF6\",\"gridcolor\":\"white\",\"linecolor\":\"white\",\"showbackground\":true,\"ticks\":\"\",\"zerolinecolor\":\"white\",\"gridwidth\":2},\"zaxis\":{\"backgroundcolor\":\"#E5ECF6\",\"gridcolor\":\"white\",\"linecolor\":\"white\",\"showbackground\":true,\"ticks\":\"\",\"zerolinecolor\":\"white\",\"gridwidth\":2}},\"shapedefaults\":{\"line\":{\"color\":\"#2a3f5f\"}},\"annotationdefaults\":{\"arrowcolor\":\"#2a3f5f\",\"arrowhead\":0,\"arrowwidth\":1},\"geo\":{\"bgcolor\":\"white\",\"landcolor\":\"#E5ECF6\",\"subunitcolor\":\"white\",\"showland\":true,\"showlakes\":true,\"lakecolor\":\"white\"},\"title\":{\"x\":0.05},\"mapbox\":{\"style\":\"light\"}}},\"xaxis\":{\"anchor\":\"y\",\"domain\":[0.0,1.0],\"title\":{\"text\":\"Periods\"}},\"yaxis\":{\"anchor\":\"x\",\"domain\":[0.0,1.0],\"title\":{\"text\":\"Commercial air traffic/Flights/All flights/Total flights (number)\"}},\"legend\":{\"title\":{\"text\":\"Airports\"},\"tracegroupgap\":0},\"margin\":{\"t\":60}},                        {\"responsive\": true}                    ).then(function(){\n",
       "                            \n",
       "var gd = document.getElementById('c0d3c2b0-bcce-4eda-805d-c94b5611a56f');\n",
       "var x = new MutationObserver(function (mutations, observer) {{\n",
       "        var display = window.getComputedStyle(gd).display;\n",
       "        if (!display || display === 'none') {{\n",
       "            console.log([gd, 'removed!']);\n",
       "            Plotly.purge(gd);\n",
       "            observer.disconnect();\n",
       "        }}\n",
       "}});\n",
       "\n",
       "// Listen for the removal of the full notebook cells\n",
       "var notebookContainer = gd.closest('#notebook-container');\n",
       "if (notebookContainer) {{\n",
       "    x.observe(notebookContainer, {childList: true});\n",
       "}}\n",
       "\n",
       "// Listen for the clearing of the current output cell\n",
       "var outputEl = gd.closest('.output');\n",
       "if (outputEl) {{\n",
       "    x.observe(outputEl, {childList: true});\n",
       "}}\n",
       "\n",
       "                        })                };                });            </script>        </div>"
      ]
     },
     "metadata": {},
     "output_type": "display_data"
    }
   ],
   "source": [
    "fig = px.line(DutchAirports, x='Periods', y= 'Commercial air traffic/Flights/All flights/Total flights (number)' ,color='Airports',\n",
    "                 )\n",
    "\n",
    "fig.show()"
   ]
  },
  {
   "cell_type": "code",
   "execution_count": 60,
   "metadata": {},
   "outputs": [
    {
     "data": {
      "application/vnd.plotly.v1+json": {
       "config": {
        "plotlyServerURL": "https://plot.ly"
       },
       "data": [
        {
         "hovertemplate": "Airports=Amsterdam Airport Schiphol<br>Periods=%{x}<br>PC_flights=%{y}<extra></extra>",
         "legendgroup": "Amsterdam Airport Schiphol",
         "line": {
          "color": "#636efa",
          "dash": "solid"
         },
         "marker": {
          "symbol": "circle"
         },
         "mode": "lines",
         "name": "Amsterdam Airport Schiphol",
         "orientation": "v",
         "showlegend": true,
         "type": "scatter",
         "x": [
          "2020 January*",
          "2020 February*",
          "2020 March*",
          "2020 April*",
          "2020 May*",
          "2020 June*",
          "2020 July*",
          "2020 August*",
          "2020 September*",
          "2020 October*",
          "2020 November*",
          "2020 December*",
          "2021 January*",
          "2021 February*",
          "2021 March*",
          "2021 April*",
          "2021 May*",
          "2021 June*",
          "2021 July*",
          "2021 August*",
          "2021 September*",
          "2021 October*",
          "2021 November*",
          "2021 December*",
          "2022 January*",
          "2022 February*",
          "2022 March*",
          "2022 April*",
          "2022 May*",
          "2022 June*",
          "2022 July*",
          "2022 August*"
         ],
         "xaxis": "x",
         "y": [
          0,
          -6.889024942103439,
          -28.085422682180738,
          -83.16040548598689,
          38.644948064211526,
          38.05550825813042,
          93.6605821410952,
          47.27423258183671,
          -4.16432432432432,
          -11.497157296272897,
          -24.247986132354438,
          6.986135415264494,
          -7.737795671867131,
          -27.34897040774581,
          14.659784138901921,
          12.30252926250306,
          13.527696793002919,
          23.23446327683616,
          51.815576973170096,
          9.285885865275723,
          -5.739944107765249,
          4.347246743728972,
          -9.427276209934876,
          6.534841916041034,
          -13.214226633581472,
          -8.013419236780905,
          25.914874217746274,
          10.00263313804226,
          14.954669219951523,
          -3.9043181759025436,
          -2.489233186164308,
          4.805555555555552
         ],
         "yaxis": "y"
        },
        {
         "hovertemplate": "Airports=Rotterdam The Hague Airport<br>Periods=%{x}<br>PC_flights=%{y}<extra></extra>",
         "legendgroup": "Rotterdam The Hague Airport",
         "line": {
          "color": "#EF553B",
          "dash": "solid"
         },
         "marker": {
          "symbol": "circle"
         },
         "mode": "lines",
         "name": "Rotterdam The Hague Airport",
         "orientation": "v",
         "showlegend": true,
         "type": "scatter",
         "x": [
          "2020 January*",
          "2020 February*",
          "2020 March*",
          "2020 April*",
          "2020 May*",
          "2020 June*",
          "2020 July*",
          "2020 August*",
          "2020 September*",
          "2020 October*",
          "2020 November*",
          "2020 December*",
          "2021 January*",
          "2021 February*",
          "2021 March*",
          "2021 April*",
          "2021 May*",
          "2021 June*",
          "2021 July*",
          "2021 August*",
          "2021 September*",
          "2021 October*",
          "2021 November*",
          "2021 December*",
          "2022 January*",
          "2022 February*",
          "2022 March*",
          "2022 April*",
          "2022 May*",
          "2022 June*",
          "2022 July*",
          "2022 August*"
         ],
         "xaxis": "x",
         "y": [
          -97.44765438642989,
          7.06126687435098,
          -27.449078564500486,
          -94.5187165775401,
          12.195121951219523,
          265.2173913043478,
          514.2857142857143,
          3.779069767441867,
          -40.70961718020541,
          -44.40944881889764,
          -62.03966005665722,
          -14.179104477611936,
          57.391304347826086,
          -20.441988950276247,
          28.472222222222232,
          5.405405405405395,
          36.92307692307693,
          116.85393258426969,
          126.59758203799653,
          15.54878048780488,
          -6.992084432717682,
          -7.588652482269509,
          -48.273215656178046,
          -19.732937685459937,
          35.674676524953796,
          -4.768392370572205,
          41.48783977110158,
          45.298281092012125,
          37.369519832985375,
          -5.876393110435663,
          32.669537136706126,
          -4.543610547667343
         ],
         "yaxis": "y"
        },
        {
         "hovertemplate": "Airports=Eindhoven Airport<br>Periods=%{x}<br>PC_flights=%{y}<extra></extra>",
         "legendgroup": "Eindhoven Airport",
         "line": {
          "color": "#00cc96",
          "dash": "solid"
         },
         "marker": {
          "symbol": "circle"
         },
         "mode": "lines",
         "name": "Eindhoven Airport",
         "orientation": "v",
         "showlegend": true,
         "type": "scatter",
         "x": [
          "2020 January*",
          "2020 February*",
          "2020 March*",
          "2020 April*",
          "2020 May*",
          "2020 June*",
          "2020 July*",
          "2020 August*",
          "2020 September*",
          "2020 October*",
          "2020 November*",
          "2020 December*",
          "2021 January*",
          "2021 February*",
          "2021 March*",
          "2021 April*",
          "2021 May*",
          "2021 June*",
          "2021 July*",
          "2021 August*",
          "2021 September*",
          "2021 October*",
          "2021 November*",
          "2021 December*",
          "2022 January*",
          "2022 February*",
          "2022 March*",
          "2022 April*",
          "2022 May*",
          "2022 June*",
          "2022 July*",
          "2022 August*"
         ],
         "xaxis": "x",
         "y": [
          8.54228644283892,
          3.719655442443237,
          -28.727821819554546,
          -92.16101694915254,
          20.270270270270263,
          217.41573033707863,
          305.66371681415933,
          18.368237347294937,
          -28.234426833763358,
          -25.47508988186954,
          -50.31013094417642,
          6.657420249653256,
          -25.617685305591674,
          -70.45454545454545,
          33.72781065088757,
          65.04424778761062,
          50.67024128686326,
          154.09252669039145,
          94.6078431372549,
          16.76862180640517,
          -4.098613251155625,
          -0.4820051413881754,
          -22.82854375201808,
          7.573221757322179,
          -17.03617269544924,
          0.8438818565400741,
          25.52301255230125,
          25.555555555555554,
          11.15044247787611,
          -1.1677282377919318,
          4.967776584317929,
          0.9976976208748933
         ],
         "yaxis": "y"
        },
        {
         "hovertemplate": "Airports=Maastricht Aachen Airport<br>Periods=%{x}<br>PC_flights=%{y}<extra></extra>",
         "legendgroup": "Maastricht Aachen Airport",
         "line": {
          "color": "#ab63fa",
          "dash": "solid"
         },
         "marker": {
          "symbol": "circle"
         },
         "mode": "lines",
         "name": "Maastricht Aachen Airport",
         "orientation": "v",
         "showlegend": true,
         "type": "scatter",
         "x": [
          "2020 January*",
          "2020 February*",
          "2020 March*",
          "2020 April*",
          "2020 May*",
          "2020 June*",
          "2020 July*",
          "2020 August*",
          "2020 September*",
          "2020 October*",
          "2020 November*",
          "2020 December*",
          "2021 January*",
          "2021 February*",
          "2021 March*",
          "2021 April*",
          "2021 May*",
          "2021 June*",
          "2021 July*",
          "2021 August*",
          "2021 September*",
          "2021 October*",
          "2021 November*",
          "2021 December*",
          "2022 January*",
          "2022 February*",
          "2022 March*",
          "2022 April*",
          "2022 May*",
          "2022 June*",
          "2022 July*",
          "2022 August*"
         ],
         "xaxis": "x",
         "y": [
          -87.99392097264437,
          0.42194092827003704,
          1.8907563025210017,
          -32.16494845360825,
          37.38601823708208,
          8.185840707964598,
          26.993865030674847,
          -0.9661835748792313,
          -16.09756097560976,
          13.759689922480622,
          -6.643952299829648,
          -2.372262773722633,
          -12.523364485981304,
          14.743589743589736,
          4.283054003724396,
          0.5357142857142838,
          -1.4209591474245165,
          -17.117117117117118,
          26.7391304347826,
          2.9159519725557415,
          3.833333333333333,
          5.296950240770459,
          -20.27439024390244,
          -9.560229445506696,
          -8.879492600422834,
          -7.656612529002316,
          9.045226130653262,
          18.433179723502313,
          5.447470817120625,
          10.516605166051662,
          18.864774624373947,
          -2.2471910112359605
         ],
         "yaxis": "y"
        },
        {
         "hovertemplate": "Airports=Groningen Airport Eelde<br>Periods=%{x}<br>PC_flights=%{y}<extra></extra>",
         "legendgroup": "Groningen Airport Eelde",
         "line": {
          "color": "#FFA15A",
          "dash": "solid"
         },
         "marker": {
          "symbol": "circle"
         },
         "mode": "lines",
         "name": "Groningen Airport Eelde",
         "orientation": "v",
         "showlegend": true,
         "type": "scatter",
         "x": [
          "2020 January*",
          "2020 February*",
          "2020 March*",
          "2020 April*",
          "2020 May*",
          "2020 June*",
          "2020 July*",
          "2020 August*",
          "2020 September*",
          "2020 October*",
          "2020 November*",
          "2020 December*",
          "2021 January*",
          "2021 February*",
          "2021 March*",
          "2021 April*",
          "2021 May*",
          "2021 June*",
          "2021 July*",
          "2021 August*",
          "2021 September*",
          "2021 October*",
          "2021 November*",
          "2021 December*",
          "2022 January*",
          "2022 February*",
          "2022 March*",
          "2022 April*",
          "2022 May*",
          "2022 June*",
          "2022 July*",
          "2022 August*"
         ],
         "xaxis": "x",
         "y": [
          -69.82758620689656,
          -21.904761904761905,
          -81.70731707317074,
          -83.33333333333334,
          39.99999999999999,
          -14.28571428571429,
          800,
          -5.555555555555558,
          -41.17647058823529,
          -23.33333333333333,
          -4.347826086956519,
          -54.54545454545454,
          100,
          14.999999999999991,
          73.91304347826086,
          0,
          -32.49999999999999,
          44.44444444444444,
          158.97435897435898,
          -26.732673267326735,
          32.432432432432435,
          -13.265306122448983,
          -19.999999999999996,
          -13.235294117647056,
          27.118644067796605,
          5.333333333333323,
          -20.253164556962023,
          -1.5873015873015928,
          93.5483870967742,
          23.33333333333334,
          -10.81081081081081,
          2.2727272727272707
         ],
         "yaxis": "y"
        }
       ],
       "layout": {
        "legend": {
         "title": {
          "text": "Airports"
         },
         "tracegroupgap": 0
        },
        "margin": {
         "t": 60
        },
        "template": {
         "data": {
          "bar": [
           {
            "error_x": {
             "color": "#2a3f5f"
            },
            "error_y": {
             "color": "#2a3f5f"
            },
            "marker": {
             "line": {
              "color": "#E5ECF6",
              "width": 0.5
             },
             "pattern": {
              "fillmode": "overlay",
              "size": 10,
              "solidity": 0.2
             }
            },
            "type": "bar"
           }
          ],
          "barpolar": [
           {
            "marker": {
             "line": {
              "color": "#E5ECF6",
              "width": 0.5
             },
             "pattern": {
              "fillmode": "overlay",
              "size": 10,
              "solidity": 0.2
             }
            },
            "type": "barpolar"
           }
          ],
          "carpet": [
           {
            "aaxis": {
             "endlinecolor": "#2a3f5f",
             "gridcolor": "white",
             "linecolor": "white",
             "minorgridcolor": "white",
             "startlinecolor": "#2a3f5f"
            },
            "baxis": {
             "endlinecolor": "#2a3f5f",
             "gridcolor": "white",
             "linecolor": "white",
             "minorgridcolor": "white",
             "startlinecolor": "#2a3f5f"
            },
            "type": "carpet"
           }
          ],
          "choropleth": [
           {
            "colorbar": {
             "outlinewidth": 0,
             "ticks": ""
            },
            "type": "choropleth"
           }
          ],
          "contour": [
           {
            "colorbar": {
             "outlinewidth": 0,
             "ticks": ""
            },
            "colorscale": [
             [
              0,
              "#0d0887"
             ],
             [
              0.1111111111111111,
              "#46039f"
             ],
             [
              0.2222222222222222,
              "#7201a8"
             ],
             [
              0.3333333333333333,
              "#9c179e"
             ],
             [
              0.4444444444444444,
              "#bd3786"
             ],
             [
              0.5555555555555556,
              "#d8576b"
             ],
             [
              0.6666666666666666,
              "#ed7953"
             ],
             [
              0.7777777777777778,
              "#fb9f3a"
             ],
             [
              0.8888888888888888,
              "#fdca26"
             ],
             [
              1,
              "#f0f921"
             ]
            ],
            "type": "contour"
           }
          ],
          "contourcarpet": [
           {
            "colorbar": {
             "outlinewidth": 0,
             "ticks": ""
            },
            "type": "contourcarpet"
           }
          ],
          "heatmap": [
           {
            "colorbar": {
             "outlinewidth": 0,
             "ticks": ""
            },
            "colorscale": [
             [
              0,
              "#0d0887"
             ],
             [
              0.1111111111111111,
              "#46039f"
             ],
             [
              0.2222222222222222,
              "#7201a8"
             ],
             [
              0.3333333333333333,
              "#9c179e"
             ],
             [
              0.4444444444444444,
              "#bd3786"
             ],
             [
              0.5555555555555556,
              "#d8576b"
             ],
             [
              0.6666666666666666,
              "#ed7953"
             ],
             [
              0.7777777777777778,
              "#fb9f3a"
             ],
             [
              0.8888888888888888,
              "#fdca26"
             ],
             [
              1,
              "#f0f921"
             ]
            ],
            "type": "heatmap"
           }
          ],
          "heatmapgl": [
           {
            "colorbar": {
             "outlinewidth": 0,
             "ticks": ""
            },
            "colorscale": [
             [
              0,
              "#0d0887"
             ],
             [
              0.1111111111111111,
              "#46039f"
             ],
             [
              0.2222222222222222,
              "#7201a8"
             ],
             [
              0.3333333333333333,
              "#9c179e"
             ],
             [
              0.4444444444444444,
              "#bd3786"
             ],
             [
              0.5555555555555556,
              "#d8576b"
             ],
             [
              0.6666666666666666,
              "#ed7953"
             ],
             [
              0.7777777777777778,
              "#fb9f3a"
             ],
             [
              0.8888888888888888,
              "#fdca26"
             ],
             [
              1,
              "#f0f921"
             ]
            ],
            "type": "heatmapgl"
           }
          ],
          "histogram": [
           {
            "marker": {
             "pattern": {
              "fillmode": "overlay",
              "size": 10,
              "solidity": 0.2
             }
            },
            "type": "histogram"
           }
          ],
          "histogram2d": [
           {
            "colorbar": {
             "outlinewidth": 0,
             "ticks": ""
            },
            "colorscale": [
             [
              0,
              "#0d0887"
             ],
             [
              0.1111111111111111,
              "#46039f"
             ],
             [
              0.2222222222222222,
              "#7201a8"
             ],
             [
              0.3333333333333333,
              "#9c179e"
             ],
             [
              0.4444444444444444,
              "#bd3786"
             ],
             [
              0.5555555555555556,
              "#d8576b"
             ],
             [
              0.6666666666666666,
              "#ed7953"
             ],
             [
              0.7777777777777778,
              "#fb9f3a"
             ],
             [
              0.8888888888888888,
              "#fdca26"
             ],
             [
              1,
              "#f0f921"
             ]
            ],
            "type": "histogram2d"
           }
          ],
          "histogram2dcontour": [
           {
            "colorbar": {
             "outlinewidth": 0,
             "ticks": ""
            },
            "colorscale": [
             [
              0,
              "#0d0887"
             ],
             [
              0.1111111111111111,
              "#46039f"
             ],
             [
              0.2222222222222222,
              "#7201a8"
             ],
             [
              0.3333333333333333,
              "#9c179e"
             ],
             [
              0.4444444444444444,
              "#bd3786"
             ],
             [
              0.5555555555555556,
              "#d8576b"
             ],
             [
              0.6666666666666666,
              "#ed7953"
             ],
             [
              0.7777777777777778,
              "#fb9f3a"
             ],
             [
              0.8888888888888888,
              "#fdca26"
             ],
             [
              1,
              "#f0f921"
             ]
            ],
            "type": "histogram2dcontour"
           }
          ],
          "mesh3d": [
           {
            "colorbar": {
             "outlinewidth": 0,
             "ticks": ""
            },
            "type": "mesh3d"
           }
          ],
          "parcoords": [
           {
            "line": {
             "colorbar": {
              "outlinewidth": 0,
              "ticks": ""
             }
            },
            "type": "parcoords"
           }
          ],
          "pie": [
           {
            "automargin": true,
            "type": "pie"
           }
          ],
          "scatter": [
           {
            "fillpattern": {
             "fillmode": "overlay",
             "size": 10,
             "solidity": 0.2
            },
            "type": "scatter"
           }
          ],
          "scatter3d": [
           {
            "line": {
             "colorbar": {
              "outlinewidth": 0,
              "ticks": ""
             }
            },
            "marker": {
             "colorbar": {
              "outlinewidth": 0,
              "ticks": ""
             }
            },
            "type": "scatter3d"
           }
          ],
          "scattercarpet": [
           {
            "marker": {
             "colorbar": {
              "outlinewidth": 0,
              "ticks": ""
             }
            },
            "type": "scattercarpet"
           }
          ],
          "scattergeo": [
           {
            "marker": {
             "colorbar": {
              "outlinewidth": 0,
              "ticks": ""
             }
            },
            "type": "scattergeo"
           }
          ],
          "scattergl": [
           {
            "marker": {
             "colorbar": {
              "outlinewidth": 0,
              "ticks": ""
             }
            },
            "type": "scattergl"
           }
          ],
          "scattermapbox": [
           {
            "marker": {
             "colorbar": {
              "outlinewidth": 0,
              "ticks": ""
             }
            },
            "type": "scattermapbox"
           }
          ],
          "scatterpolar": [
           {
            "marker": {
             "colorbar": {
              "outlinewidth": 0,
              "ticks": ""
             }
            },
            "type": "scatterpolar"
           }
          ],
          "scatterpolargl": [
           {
            "marker": {
             "colorbar": {
              "outlinewidth": 0,
              "ticks": ""
             }
            },
            "type": "scatterpolargl"
           }
          ],
          "scatterternary": [
           {
            "marker": {
             "colorbar": {
              "outlinewidth": 0,
              "ticks": ""
             }
            },
            "type": "scatterternary"
           }
          ],
          "surface": [
           {
            "colorbar": {
             "outlinewidth": 0,
             "ticks": ""
            },
            "colorscale": [
             [
              0,
              "#0d0887"
             ],
             [
              0.1111111111111111,
              "#46039f"
             ],
             [
              0.2222222222222222,
              "#7201a8"
             ],
             [
              0.3333333333333333,
              "#9c179e"
             ],
             [
              0.4444444444444444,
              "#bd3786"
             ],
             [
              0.5555555555555556,
              "#d8576b"
             ],
             [
              0.6666666666666666,
              "#ed7953"
             ],
             [
              0.7777777777777778,
              "#fb9f3a"
             ],
             [
              0.8888888888888888,
              "#fdca26"
             ],
             [
              1,
              "#f0f921"
             ]
            ],
            "type": "surface"
           }
          ],
          "table": [
           {
            "cells": {
             "fill": {
              "color": "#EBF0F8"
             },
             "line": {
              "color": "white"
             }
            },
            "header": {
             "fill": {
              "color": "#C8D4E3"
             },
             "line": {
              "color": "white"
             }
            },
            "type": "table"
           }
          ]
         },
         "layout": {
          "annotationdefaults": {
           "arrowcolor": "#2a3f5f",
           "arrowhead": 0,
           "arrowwidth": 1
          },
          "autotypenumbers": "strict",
          "coloraxis": {
           "colorbar": {
            "outlinewidth": 0,
            "ticks": ""
           }
          },
          "colorscale": {
           "diverging": [
            [
             0,
             "#8e0152"
            ],
            [
             0.1,
             "#c51b7d"
            ],
            [
             0.2,
             "#de77ae"
            ],
            [
             0.3,
             "#f1b6da"
            ],
            [
             0.4,
             "#fde0ef"
            ],
            [
             0.5,
             "#f7f7f7"
            ],
            [
             0.6,
             "#e6f5d0"
            ],
            [
             0.7,
             "#b8e186"
            ],
            [
             0.8,
             "#7fbc41"
            ],
            [
             0.9,
             "#4d9221"
            ],
            [
             1,
             "#276419"
            ]
           ],
           "sequential": [
            [
             0,
             "#0d0887"
            ],
            [
             0.1111111111111111,
             "#46039f"
            ],
            [
             0.2222222222222222,
             "#7201a8"
            ],
            [
             0.3333333333333333,
             "#9c179e"
            ],
            [
             0.4444444444444444,
             "#bd3786"
            ],
            [
             0.5555555555555556,
             "#d8576b"
            ],
            [
             0.6666666666666666,
             "#ed7953"
            ],
            [
             0.7777777777777778,
             "#fb9f3a"
            ],
            [
             0.8888888888888888,
             "#fdca26"
            ],
            [
             1,
             "#f0f921"
            ]
           ],
           "sequentialminus": [
            [
             0,
             "#0d0887"
            ],
            [
             0.1111111111111111,
             "#46039f"
            ],
            [
             0.2222222222222222,
             "#7201a8"
            ],
            [
             0.3333333333333333,
             "#9c179e"
            ],
            [
             0.4444444444444444,
             "#bd3786"
            ],
            [
             0.5555555555555556,
             "#d8576b"
            ],
            [
             0.6666666666666666,
             "#ed7953"
            ],
            [
             0.7777777777777778,
             "#fb9f3a"
            ],
            [
             0.8888888888888888,
             "#fdca26"
            ],
            [
             1,
             "#f0f921"
            ]
           ]
          },
          "colorway": [
           "#636efa",
           "#EF553B",
           "#00cc96",
           "#ab63fa",
           "#FFA15A",
           "#19d3f3",
           "#FF6692",
           "#B6E880",
           "#FF97FF",
           "#FECB52"
          ],
          "font": {
           "color": "#2a3f5f"
          },
          "geo": {
           "bgcolor": "white",
           "lakecolor": "white",
           "landcolor": "#E5ECF6",
           "showlakes": true,
           "showland": true,
           "subunitcolor": "white"
          },
          "hoverlabel": {
           "align": "left"
          },
          "hovermode": "closest",
          "mapbox": {
           "style": "light"
          },
          "paper_bgcolor": "white",
          "plot_bgcolor": "#E5ECF6",
          "polar": {
           "angularaxis": {
            "gridcolor": "white",
            "linecolor": "white",
            "ticks": ""
           },
           "bgcolor": "#E5ECF6",
           "radialaxis": {
            "gridcolor": "white",
            "linecolor": "white",
            "ticks": ""
           }
          },
          "scene": {
           "xaxis": {
            "backgroundcolor": "#E5ECF6",
            "gridcolor": "white",
            "gridwidth": 2,
            "linecolor": "white",
            "showbackground": true,
            "ticks": "",
            "zerolinecolor": "white"
           },
           "yaxis": {
            "backgroundcolor": "#E5ECF6",
            "gridcolor": "white",
            "gridwidth": 2,
            "linecolor": "white",
            "showbackground": true,
            "ticks": "",
            "zerolinecolor": "white"
           },
           "zaxis": {
            "backgroundcolor": "#E5ECF6",
            "gridcolor": "white",
            "gridwidth": 2,
            "linecolor": "white",
            "showbackground": true,
            "ticks": "",
            "zerolinecolor": "white"
           }
          },
          "shapedefaults": {
           "line": {
            "color": "#2a3f5f"
           }
          },
          "ternary": {
           "aaxis": {
            "gridcolor": "white",
            "linecolor": "white",
            "ticks": ""
           },
           "baxis": {
            "gridcolor": "white",
            "linecolor": "white",
            "ticks": ""
           },
           "bgcolor": "#E5ECF6",
           "caxis": {
            "gridcolor": "white",
            "linecolor": "white",
            "ticks": ""
           }
          },
          "title": {
           "x": 0.05
          },
          "xaxis": {
           "automargin": true,
           "gridcolor": "white",
           "linecolor": "white",
           "ticks": "",
           "title": {
            "standoff": 15
           },
           "zerolinecolor": "white",
           "zerolinewidth": 2
          },
          "yaxis": {
           "automargin": true,
           "gridcolor": "white",
           "linecolor": "white",
           "ticks": "",
           "title": {
            "standoff": 15
           },
           "zerolinecolor": "white",
           "zerolinewidth": 2
          }
         }
        },
        "xaxis": {
         "anchor": "y",
         "domain": [
          0,
          1
         ],
         "rangeselector": {
          "buttons": [
           {
            "count": 1,
            "step": "month",
            "stepmode": "backward"
           }
          ]
         },
         "rangeslider": {
          "visible": true
         },
         "title": {
          "text": "Periods"
         }
        },
        "yaxis": {
         "anchor": "x",
         "domain": [
          0,
          1
         ],
         "title": {
          "text": "PC_flights"
         }
        }
       }
      },
      "text/html": [
       "<div>                            <div id=\"ae460fda-445f-4618-804d-91835fb28e7b\" class=\"plotly-graph-div\" style=\"height:525px; width:100%;\"></div>            <script type=\"text/javascript\">                require([\"plotly\"], function(Plotly) {                    window.PLOTLYENV=window.PLOTLYENV || {};                                    if (document.getElementById(\"ae460fda-445f-4618-804d-91835fb28e7b\")) {                    Plotly.newPlot(                        \"ae460fda-445f-4618-804d-91835fb28e7b\",                        [{\"hovertemplate\":\"Airports=Amsterdam Airport Schiphol<br>Periods=%{x}<br>PC_flights=%{y}<extra></extra>\",\"legendgroup\":\"Amsterdam Airport Schiphol\",\"line\":{\"color\":\"#636efa\",\"dash\":\"solid\"},\"marker\":{\"symbol\":\"circle\"},\"mode\":\"lines\",\"name\":\"Amsterdam Airport Schiphol\",\"orientation\":\"v\",\"showlegend\":true,\"x\":[\"2020 January*\",\"2020 February*\",\"2020 March*\",\"2020 April*\",\"2020 May*\",\"2020 June*\",\"2020 July*\",\"2020 August*\",\"2020 September*\",\"2020 October*\",\"2020 November*\",\"2020 December*\",\"2021 January*\",\"2021 February*\",\"2021 March*\",\"2021 April*\",\"2021 May*\",\"2021 June*\",\"2021 July*\",\"2021 August*\",\"2021 September*\",\"2021 October*\",\"2021 November*\",\"2021 December*\",\"2022 January*\",\"2022 February*\",\"2022 March*\",\"2022 April*\",\"2022 May*\",\"2022 June*\",\"2022 July*\",\"2022 August*\"],\"xaxis\":\"x\",\"y\":[0.0,-6.889024942103439,-28.085422682180738,-83.16040548598689,38.644948064211526,38.05550825813042,93.6605821410952,47.27423258183671,-4.16432432432432,-11.497157296272897,-24.247986132354438,6.986135415264494,-7.737795671867131,-27.34897040774581,14.659784138901921,12.30252926250306,13.527696793002919,23.23446327683616,51.815576973170096,9.285885865275723,-5.739944107765249,4.347246743728972,-9.427276209934876,6.534841916041034,-13.214226633581472,-8.013419236780905,25.914874217746274,10.00263313804226,14.954669219951523,-3.9043181759025436,-2.489233186164308,4.805555555555552],\"yaxis\":\"y\",\"type\":\"scatter\"},{\"hovertemplate\":\"Airports=Rotterdam The Hague Airport<br>Periods=%{x}<br>PC_flights=%{y}<extra></extra>\",\"legendgroup\":\"Rotterdam The Hague Airport\",\"line\":{\"color\":\"#EF553B\",\"dash\":\"solid\"},\"marker\":{\"symbol\":\"circle\"},\"mode\":\"lines\",\"name\":\"Rotterdam The Hague Airport\",\"orientation\":\"v\",\"showlegend\":true,\"x\":[\"2020 January*\",\"2020 February*\",\"2020 March*\",\"2020 April*\",\"2020 May*\",\"2020 June*\",\"2020 July*\",\"2020 August*\",\"2020 September*\",\"2020 October*\",\"2020 November*\",\"2020 December*\",\"2021 January*\",\"2021 February*\",\"2021 March*\",\"2021 April*\",\"2021 May*\",\"2021 June*\",\"2021 July*\",\"2021 August*\",\"2021 September*\",\"2021 October*\",\"2021 November*\",\"2021 December*\",\"2022 January*\",\"2022 February*\",\"2022 March*\",\"2022 April*\",\"2022 May*\",\"2022 June*\",\"2022 July*\",\"2022 August*\"],\"xaxis\":\"x\",\"y\":[-97.44765438642989,7.06126687435098,-27.449078564500486,-94.5187165775401,12.195121951219523,265.2173913043478,514.2857142857143,3.779069767441867,-40.70961718020541,-44.40944881889764,-62.03966005665722,-14.179104477611936,57.391304347826086,-20.441988950276247,28.472222222222232,5.405405405405395,36.92307692307693,116.85393258426969,126.59758203799653,15.54878048780488,-6.992084432717682,-7.588652482269509,-48.273215656178046,-19.732937685459937,35.674676524953796,-4.768392370572205,41.48783977110158,45.298281092012125,37.369519832985375,-5.876393110435663,32.669537136706126,-4.543610547667343],\"yaxis\":\"y\",\"type\":\"scatter\"},{\"hovertemplate\":\"Airports=Eindhoven Airport<br>Periods=%{x}<br>PC_flights=%{y}<extra></extra>\",\"legendgroup\":\"Eindhoven Airport\",\"line\":{\"color\":\"#00cc96\",\"dash\":\"solid\"},\"marker\":{\"symbol\":\"circle\"},\"mode\":\"lines\",\"name\":\"Eindhoven Airport\",\"orientation\":\"v\",\"showlegend\":true,\"x\":[\"2020 January*\",\"2020 February*\",\"2020 March*\",\"2020 April*\",\"2020 May*\",\"2020 June*\",\"2020 July*\",\"2020 August*\",\"2020 September*\",\"2020 October*\",\"2020 November*\",\"2020 December*\",\"2021 January*\",\"2021 February*\",\"2021 March*\",\"2021 April*\",\"2021 May*\",\"2021 June*\",\"2021 July*\",\"2021 August*\",\"2021 September*\",\"2021 October*\",\"2021 November*\",\"2021 December*\",\"2022 January*\",\"2022 February*\",\"2022 March*\",\"2022 April*\",\"2022 May*\",\"2022 June*\",\"2022 July*\",\"2022 August*\"],\"xaxis\":\"x\",\"y\":[8.54228644283892,3.719655442443237,-28.727821819554546,-92.16101694915254,20.270270270270263,217.41573033707863,305.66371681415933,18.368237347294937,-28.234426833763358,-25.47508988186954,-50.31013094417642,6.657420249653256,-25.617685305591674,-70.45454545454545,33.72781065088757,65.04424778761062,50.67024128686326,154.09252669039145,94.6078431372549,16.76862180640517,-4.098613251155625,-0.4820051413881754,-22.82854375201808,7.573221757322179,-17.03617269544924,0.8438818565400741,25.52301255230125,25.555555555555554,11.15044247787611,-1.1677282377919318,4.967776584317929,0.9976976208748933],\"yaxis\":\"y\",\"type\":\"scatter\"},{\"hovertemplate\":\"Airports=Maastricht Aachen Airport<br>Periods=%{x}<br>PC_flights=%{y}<extra></extra>\",\"legendgroup\":\"Maastricht Aachen Airport\",\"line\":{\"color\":\"#ab63fa\",\"dash\":\"solid\"},\"marker\":{\"symbol\":\"circle\"},\"mode\":\"lines\",\"name\":\"Maastricht Aachen Airport\",\"orientation\":\"v\",\"showlegend\":true,\"x\":[\"2020 January*\",\"2020 February*\",\"2020 March*\",\"2020 April*\",\"2020 May*\",\"2020 June*\",\"2020 July*\",\"2020 August*\",\"2020 September*\",\"2020 October*\",\"2020 November*\",\"2020 December*\",\"2021 January*\",\"2021 February*\",\"2021 March*\",\"2021 April*\",\"2021 May*\",\"2021 June*\",\"2021 July*\",\"2021 August*\",\"2021 September*\",\"2021 October*\",\"2021 November*\",\"2021 December*\",\"2022 January*\",\"2022 February*\",\"2022 March*\",\"2022 April*\",\"2022 May*\",\"2022 June*\",\"2022 July*\",\"2022 August*\"],\"xaxis\":\"x\",\"y\":[-87.99392097264437,0.42194092827003704,1.8907563025210017,-32.16494845360825,37.38601823708208,8.185840707964598,26.993865030674847,-0.9661835748792313,-16.09756097560976,13.759689922480622,-6.643952299829648,-2.372262773722633,-12.523364485981304,14.743589743589736,4.283054003724396,0.5357142857142838,-1.4209591474245165,-17.117117117117118,26.7391304347826,2.9159519725557415,3.833333333333333,5.296950240770459,-20.27439024390244,-9.560229445506696,-8.879492600422834,-7.656612529002316,9.045226130653262,18.433179723502313,5.447470817120625,10.516605166051662,18.864774624373947,-2.2471910112359605],\"yaxis\":\"y\",\"type\":\"scatter\"},{\"hovertemplate\":\"Airports=Groningen Airport Eelde<br>Periods=%{x}<br>PC_flights=%{y}<extra></extra>\",\"legendgroup\":\"Groningen Airport Eelde\",\"line\":{\"color\":\"#FFA15A\",\"dash\":\"solid\"},\"marker\":{\"symbol\":\"circle\"},\"mode\":\"lines\",\"name\":\"Groningen Airport Eelde\",\"orientation\":\"v\",\"showlegend\":true,\"x\":[\"2020 January*\",\"2020 February*\",\"2020 March*\",\"2020 April*\",\"2020 May*\",\"2020 June*\",\"2020 July*\",\"2020 August*\",\"2020 September*\",\"2020 October*\",\"2020 November*\",\"2020 December*\",\"2021 January*\",\"2021 February*\",\"2021 March*\",\"2021 April*\",\"2021 May*\",\"2021 June*\",\"2021 July*\",\"2021 August*\",\"2021 September*\",\"2021 October*\",\"2021 November*\",\"2021 December*\",\"2022 January*\",\"2022 February*\",\"2022 March*\",\"2022 April*\",\"2022 May*\",\"2022 June*\",\"2022 July*\",\"2022 August*\"],\"xaxis\":\"x\",\"y\":[-69.82758620689656,-21.904761904761905,-81.70731707317074,-83.33333333333334,39.99999999999999,-14.28571428571429,800.0,-5.555555555555558,-41.17647058823529,-23.33333333333333,-4.347826086956519,-54.54545454545454,100.0,14.999999999999991,73.91304347826086,0.0,-32.49999999999999,44.44444444444444,158.97435897435898,-26.732673267326735,32.432432432432435,-13.265306122448983,-19.999999999999996,-13.235294117647056,27.118644067796605,5.333333333333323,-20.253164556962023,-1.5873015873015928,93.5483870967742,23.33333333333334,-10.81081081081081,2.2727272727272707],\"yaxis\":\"y\",\"type\":\"scatter\"}],                        {\"template\":{\"data\":{\"histogram2dcontour\":[{\"type\":\"histogram2dcontour\",\"colorbar\":{\"outlinewidth\":0,\"ticks\":\"\"},\"colorscale\":[[0.0,\"#0d0887\"],[0.1111111111111111,\"#46039f\"],[0.2222222222222222,\"#7201a8\"],[0.3333333333333333,\"#9c179e\"],[0.4444444444444444,\"#bd3786\"],[0.5555555555555556,\"#d8576b\"],[0.6666666666666666,\"#ed7953\"],[0.7777777777777778,\"#fb9f3a\"],[0.8888888888888888,\"#fdca26\"],[1.0,\"#f0f921\"]]}],\"choropleth\":[{\"type\":\"choropleth\",\"colorbar\":{\"outlinewidth\":0,\"ticks\":\"\"}}],\"histogram2d\":[{\"type\":\"histogram2d\",\"colorbar\":{\"outlinewidth\":0,\"ticks\":\"\"},\"colorscale\":[[0.0,\"#0d0887\"],[0.1111111111111111,\"#46039f\"],[0.2222222222222222,\"#7201a8\"],[0.3333333333333333,\"#9c179e\"],[0.4444444444444444,\"#bd3786\"],[0.5555555555555556,\"#d8576b\"],[0.6666666666666666,\"#ed7953\"],[0.7777777777777778,\"#fb9f3a\"],[0.8888888888888888,\"#fdca26\"],[1.0,\"#f0f921\"]]}],\"heatmap\":[{\"type\":\"heatmap\",\"colorbar\":{\"outlinewidth\":0,\"ticks\":\"\"},\"colorscale\":[[0.0,\"#0d0887\"],[0.1111111111111111,\"#46039f\"],[0.2222222222222222,\"#7201a8\"],[0.3333333333333333,\"#9c179e\"],[0.4444444444444444,\"#bd3786\"],[0.5555555555555556,\"#d8576b\"],[0.6666666666666666,\"#ed7953\"],[0.7777777777777778,\"#fb9f3a\"],[0.8888888888888888,\"#fdca26\"],[1.0,\"#f0f921\"]]}],\"heatmapgl\":[{\"type\":\"heatmapgl\",\"colorbar\":{\"outlinewidth\":0,\"ticks\":\"\"},\"colorscale\":[[0.0,\"#0d0887\"],[0.1111111111111111,\"#46039f\"],[0.2222222222222222,\"#7201a8\"],[0.3333333333333333,\"#9c179e\"],[0.4444444444444444,\"#bd3786\"],[0.5555555555555556,\"#d8576b\"],[0.6666666666666666,\"#ed7953\"],[0.7777777777777778,\"#fb9f3a\"],[0.8888888888888888,\"#fdca26\"],[1.0,\"#f0f921\"]]}],\"contourcarpet\":[{\"type\":\"contourcarpet\",\"colorbar\":{\"outlinewidth\":0,\"ticks\":\"\"}}],\"contour\":[{\"type\":\"contour\",\"colorbar\":{\"outlinewidth\":0,\"ticks\":\"\"},\"colorscale\":[[0.0,\"#0d0887\"],[0.1111111111111111,\"#46039f\"],[0.2222222222222222,\"#7201a8\"],[0.3333333333333333,\"#9c179e\"],[0.4444444444444444,\"#bd3786\"],[0.5555555555555556,\"#d8576b\"],[0.6666666666666666,\"#ed7953\"],[0.7777777777777778,\"#fb9f3a\"],[0.8888888888888888,\"#fdca26\"],[1.0,\"#f0f921\"]]}],\"surface\":[{\"type\":\"surface\",\"colorbar\":{\"outlinewidth\":0,\"ticks\":\"\"},\"colorscale\":[[0.0,\"#0d0887\"],[0.1111111111111111,\"#46039f\"],[0.2222222222222222,\"#7201a8\"],[0.3333333333333333,\"#9c179e\"],[0.4444444444444444,\"#bd3786\"],[0.5555555555555556,\"#d8576b\"],[0.6666666666666666,\"#ed7953\"],[0.7777777777777778,\"#fb9f3a\"],[0.8888888888888888,\"#fdca26\"],[1.0,\"#f0f921\"]]}],\"mesh3d\":[{\"type\":\"mesh3d\",\"colorbar\":{\"outlinewidth\":0,\"ticks\":\"\"}}],\"scatter\":[{\"fillpattern\":{\"fillmode\":\"overlay\",\"size\":10,\"solidity\":0.2},\"type\":\"scatter\"}],\"parcoords\":[{\"type\":\"parcoords\",\"line\":{\"colorbar\":{\"outlinewidth\":0,\"ticks\":\"\"}}}],\"scatterpolargl\":[{\"type\":\"scatterpolargl\",\"marker\":{\"colorbar\":{\"outlinewidth\":0,\"ticks\":\"\"}}}],\"bar\":[{\"error_x\":{\"color\":\"#2a3f5f\"},\"error_y\":{\"color\":\"#2a3f5f\"},\"marker\":{\"line\":{\"color\":\"#E5ECF6\",\"width\":0.5},\"pattern\":{\"fillmode\":\"overlay\",\"size\":10,\"solidity\":0.2}},\"type\":\"bar\"}],\"scattergeo\":[{\"type\":\"scattergeo\",\"marker\":{\"colorbar\":{\"outlinewidth\":0,\"ticks\":\"\"}}}],\"scatterpolar\":[{\"type\":\"scatterpolar\",\"marker\":{\"colorbar\":{\"outlinewidth\":0,\"ticks\":\"\"}}}],\"histogram\":[{\"marker\":{\"pattern\":{\"fillmode\":\"overlay\",\"size\":10,\"solidity\":0.2}},\"type\":\"histogram\"}],\"scattergl\":[{\"type\":\"scattergl\",\"marker\":{\"colorbar\":{\"outlinewidth\":0,\"ticks\":\"\"}}}],\"scatter3d\":[{\"type\":\"scatter3d\",\"line\":{\"colorbar\":{\"outlinewidth\":0,\"ticks\":\"\"}},\"marker\":{\"colorbar\":{\"outlinewidth\":0,\"ticks\":\"\"}}}],\"scattermapbox\":[{\"type\":\"scattermapbox\",\"marker\":{\"colorbar\":{\"outlinewidth\":0,\"ticks\":\"\"}}}],\"scatterternary\":[{\"type\":\"scatterternary\",\"marker\":{\"colorbar\":{\"outlinewidth\":0,\"ticks\":\"\"}}}],\"scattercarpet\":[{\"type\":\"scattercarpet\",\"marker\":{\"colorbar\":{\"outlinewidth\":0,\"ticks\":\"\"}}}],\"carpet\":[{\"aaxis\":{\"endlinecolor\":\"#2a3f5f\",\"gridcolor\":\"white\",\"linecolor\":\"white\",\"minorgridcolor\":\"white\",\"startlinecolor\":\"#2a3f5f\"},\"baxis\":{\"endlinecolor\":\"#2a3f5f\",\"gridcolor\":\"white\",\"linecolor\":\"white\",\"minorgridcolor\":\"white\",\"startlinecolor\":\"#2a3f5f\"},\"type\":\"carpet\"}],\"table\":[{\"cells\":{\"fill\":{\"color\":\"#EBF0F8\"},\"line\":{\"color\":\"white\"}},\"header\":{\"fill\":{\"color\":\"#C8D4E3\"},\"line\":{\"color\":\"white\"}},\"type\":\"table\"}],\"barpolar\":[{\"marker\":{\"line\":{\"color\":\"#E5ECF6\",\"width\":0.5},\"pattern\":{\"fillmode\":\"overlay\",\"size\":10,\"solidity\":0.2}},\"type\":\"barpolar\"}],\"pie\":[{\"automargin\":true,\"type\":\"pie\"}]},\"layout\":{\"autotypenumbers\":\"strict\",\"colorway\":[\"#636efa\",\"#EF553B\",\"#00cc96\",\"#ab63fa\",\"#FFA15A\",\"#19d3f3\",\"#FF6692\",\"#B6E880\",\"#FF97FF\",\"#FECB52\"],\"font\":{\"color\":\"#2a3f5f\"},\"hovermode\":\"closest\",\"hoverlabel\":{\"align\":\"left\"},\"paper_bgcolor\":\"white\",\"plot_bgcolor\":\"#E5ECF6\",\"polar\":{\"bgcolor\":\"#E5ECF6\",\"angularaxis\":{\"gridcolor\":\"white\",\"linecolor\":\"white\",\"ticks\":\"\"},\"radialaxis\":{\"gridcolor\":\"white\",\"linecolor\":\"white\",\"ticks\":\"\"}},\"ternary\":{\"bgcolor\":\"#E5ECF6\",\"aaxis\":{\"gridcolor\":\"white\",\"linecolor\":\"white\",\"ticks\":\"\"},\"baxis\":{\"gridcolor\":\"white\",\"linecolor\":\"white\",\"ticks\":\"\"},\"caxis\":{\"gridcolor\":\"white\",\"linecolor\":\"white\",\"ticks\":\"\"}},\"coloraxis\":{\"colorbar\":{\"outlinewidth\":0,\"ticks\":\"\"}},\"colorscale\":{\"sequential\":[[0.0,\"#0d0887\"],[0.1111111111111111,\"#46039f\"],[0.2222222222222222,\"#7201a8\"],[0.3333333333333333,\"#9c179e\"],[0.4444444444444444,\"#bd3786\"],[0.5555555555555556,\"#d8576b\"],[0.6666666666666666,\"#ed7953\"],[0.7777777777777778,\"#fb9f3a\"],[0.8888888888888888,\"#fdca26\"],[1.0,\"#f0f921\"]],\"sequentialminus\":[[0.0,\"#0d0887\"],[0.1111111111111111,\"#46039f\"],[0.2222222222222222,\"#7201a8\"],[0.3333333333333333,\"#9c179e\"],[0.4444444444444444,\"#bd3786\"],[0.5555555555555556,\"#d8576b\"],[0.6666666666666666,\"#ed7953\"],[0.7777777777777778,\"#fb9f3a\"],[0.8888888888888888,\"#fdca26\"],[1.0,\"#f0f921\"]],\"diverging\":[[0,\"#8e0152\"],[0.1,\"#c51b7d\"],[0.2,\"#de77ae\"],[0.3,\"#f1b6da\"],[0.4,\"#fde0ef\"],[0.5,\"#f7f7f7\"],[0.6,\"#e6f5d0\"],[0.7,\"#b8e186\"],[0.8,\"#7fbc41\"],[0.9,\"#4d9221\"],[1,\"#276419\"]]},\"xaxis\":{\"gridcolor\":\"white\",\"linecolor\":\"white\",\"ticks\":\"\",\"title\":{\"standoff\":15},\"zerolinecolor\":\"white\",\"automargin\":true,\"zerolinewidth\":2},\"yaxis\":{\"gridcolor\":\"white\",\"linecolor\":\"white\",\"ticks\":\"\",\"title\":{\"standoff\":15},\"zerolinecolor\":\"white\",\"automargin\":true,\"zerolinewidth\":2},\"scene\":{\"xaxis\":{\"backgroundcolor\":\"#E5ECF6\",\"gridcolor\":\"white\",\"linecolor\":\"white\",\"showbackground\":true,\"ticks\":\"\",\"zerolinecolor\":\"white\",\"gridwidth\":2},\"yaxis\":{\"backgroundcolor\":\"#E5ECF6\",\"gridcolor\":\"white\",\"linecolor\":\"white\",\"showbackground\":true,\"ticks\":\"\",\"zerolinecolor\":\"white\",\"gridwidth\":2},\"zaxis\":{\"backgroundcolor\":\"#E5ECF6\",\"gridcolor\":\"white\",\"linecolor\":\"white\",\"showbackground\":true,\"ticks\":\"\",\"zerolinecolor\":\"white\",\"gridwidth\":2}},\"shapedefaults\":{\"line\":{\"color\":\"#2a3f5f\"}},\"annotationdefaults\":{\"arrowcolor\":\"#2a3f5f\",\"arrowhead\":0,\"arrowwidth\":1},\"geo\":{\"bgcolor\":\"white\",\"landcolor\":\"#E5ECF6\",\"subunitcolor\":\"white\",\"showland\":true,\"showlakes\":true,\"lakecolor\":\"white\"},\"title\":{\"x\":0.05},\"mapbox\":{\"style\":\"light\"}}},\"xaxis\":{\"anchor\":\"y\",\"domain\":[0.0,1.0],\"title\":{\"text\":\"Periods\"},\"rangeslider\":{\"visible\":true},\"rangeselector\":{\"buttons\":[{\"count\":1,\"step\":\"month\",\"stepmode\":\"backward\"}]}},\"yaxis\":{\"anchor\":\"x\",\"domain\":[0.0,1.0],\"title\":{\"text\":\"PC_flights\"}},\"legend\":{\"title\":{\"text\":\"Airports\"},\"tracegroupgap\":0},\"margin\":{\"t\":60}},                        {\"responsive\": true}                    ).then(function(){\n",
       "                            \n",
       "var gd = document.getElementById('ae460fda-445f-4618-804d-91835fb28e7b');\n",
       "var x = new MutationObserver(function (mutations, observer) {{\n",
       "        var display = window.getComputedStyle(gd).display;\n",
       "        if (!display || display === 'none') {{\n",
       "            console.log([gd, 'removed!']);\n",
       "            Plotly.purge(gd);\n",
       "            observer.disconnect();\n",
       "        }}\n",
       "}});\n",
       "\n",
       "// Listen for the removal of the full notebook cells\n",
       "var notebookContainer = gd.closest('#notebook-container');\n",
       "if (notebookContainer) {{\n",
       "    x.observe(notebookContainer, {childList: true});\n",
       "}}\n",
       "\n",
       "// Listen for the clearing of the current output cell\n",
       "var outputEl = gd.closest('.output');\n",
       "if (outputEl) {{\n",
       "    x.observe(outputEl, {childList: true});\n",
       "}}\n",
       "\n",
       "                        })                };                });            </script>        </div>"
      ]
     },
     "metadata": {},
     "output_type": "display_data"
    }
   ],
   "source": [
    "# Plot interactive (color makes possible to select on right of graph)\n",
    "plot = px.line(DutchAirports, x='Periods', y= 'PC_flights', color='Airports')\n",
    "\n",
    "# Add range selector to zoom in on periods in Y axis.\n",
    "plot.update_layout(\n",
    "    xaxis=dict(\n",
    "        rangeselector=dict(\n",
    "            buttons=list([\n",
    "                dict(count=1,\n",
    "                     step=\"month\",\n",
    "                     stepmode=\"backward\"),\n",
    "            ])\n",
    "        ),\n",
    "        rangeslider=dict(\n",
    "            visible=True\n",
    "        ),\n",
    "    )\n",
    ")\n",
    "\n",
    "plot.show()"
   ]
  },
  {
   "cell_type": "code",
   "execution_count": 69,
   "metadata": {},
   "outputs": [
    {
     "data": {
      "application/vnd.plotly.v1+json": {
       "config": {
        "plotlyServerURL": "https://plot.ly"
       },
       "data": [
        {
         "alignmentgroup": "True",
         "hovertemplate": "<b>%{hovertext}</b><br><br>Airports=Amsterdam Airport Schiphol<br>Periods=%{x}<br>PC_flights=%{y}<extra></extra>",
         "hovertext": [
          0
         ],
         "ids": [
          "Amsterdam Airport Schiphol"
         ],
         "legendgroup": "Amsterdam Airport Schiphol",
         "marker": {
          "color": "#636efa",
          "pattern": {
           "shape": ""
          }
         },
         "name": "Amsterdam Airport Schiphol",
         "offsetgroup": "Amsterdam Airport Schiphol",
         "orientation": "h",
         "showlegend": true,
         "textposition": "auto",
         "type": "bar",
         "x": [
          "2020 January*"
         ],
         "xaxis": "x",
         "y": [
          0
         ],
         "yaxis": "y"
        },
        {
         "alignmentgroup": "True",
         "hovertemplate": "<b>%{hovertext}</b><br><br>Airports=Rotterdam The Hague Airport<br>Periods=%{x}<br>PC_flights=%{y}<extra></extra>",
         "hovertext": [
          -97.44765438642989
         ],
         "ids": [
          "Rotterdam The Hague Airport"
         ],
         "legendgroup": "Rotterdam The Hague Airport",
         "marker": {
          "color": "#EF553B",
          "pattern": {
           "shape": ""
          }
         },
         "name": "Rotterdam The Hague Airport",
         "offsetgroup": "Rotterdam The Hague Airport",
         "orientation": "h",
         "showlegend": true,
         "textposition": "auto",
         "type": "bar",
         "x": [
          "2020 January*"
         ],
         "xaxis": "x",
         "y": [
          -97.44765438642989
         ],
         "yaxis": "y"
        },
        {
         "alignmentgroup": "True",
         "hovertemplate": "<b>%{hovertext}</b><br><br>Airports=Eindhoven Airport<br>Periods=%{x}<br>PC_flights=%{y}<extra></extra>",
         "hovertext": [
          8.54228644283892
         ],
         "ids": [
          "Eindhoven Airport"
         ],
         "legendgroup": "Eindhoven Airport",
         "marker": {
          "color": "#00cc96",
          "pattern": {
           "shape": ""
          }
         },
         "name": "Eindhoven Airport",
         "offsetgroup": "Eindhoven Airport",
         "orientation": "h",
         "showlegend": true,
         "textposition": "auto",
         "type": "bar",
         "x": [
          "2020 January*"
         ],
         "xaxis": "x",
         "y": [
          8.54228644283892
         ],
         "yaxis": "y"
        },
        {
         "alignmentgroup": "True",
         "hovertemplate": "<b>%{hovertext}</b><br><br>Airports=Maastricht Aachen Airport<br>Periods=%{x}<br>PC_flights=%{y}<extra></extra>",
         "hovertext": [
          -87.99392097264437
         ],
         "ids": [
          "Maastricht Aachen Airport"
         ],
         "legendgroup": "Maastricht Aachen Airport",
         "marker": {
          "color": "#ab63fa",
          "pattern": {
           "shape": ""
          }
         },
         "name": "Maastricht Aachen Airport",
         "offsetgroup": "Maastricht Aachen Airport",
         "orientation": "h",
         "showlegend": true,
         "textposition": "auto",
         "type": "bar",
         "x": [
          "2020 January*"
         ],
         "xaxis": "x",
         "y": [
          -87.99392097264437
         ],
         "yaxis": "y"
        },
        {
         "alignmentgroup": "True",
         "hovertemplate": "<b>%{hovertext}</b><br><br>Airports=Groningen Airport Eelde<br>Periods=%{x}<br>PC_flights=%{y}<extra></extra>",
         "hovertext": [
          -69.82758620689656
         ],
         "ids": [
          "Groningen Airport Eelde"
         ],
         "legendgroup": "Groningen Airport Eelde",
         "marker": {
          "color": "#FFA15A",
          "pattern": {
           "shape": ""
          }
         },
         "name": "Groningen Airport Eelde",
         "offsetgroup": "Groningen Airport Eelde",
         "orientation": "h",
         "showlegend": true,
         "textposition": "auto",
         "type": "bar",
         "x": [
          "2020 January*"
         ],
         "xaxis": "x",
         "y": [
          -69.82758620689656
         ],
         "yaxis": "y"
        }
       ],
       "frames": [
        {
         "data": [
          {
           "alignmentgroup": "True",
           "hovertemplate": "<b>%{hovertext}</b><br><br>Airports=Amsterdam Airport Schiphol<br>Periods=%{x}<br>PC_flights=%{y}<extra></extra>",
           "hovertext": [
            0
           ],
           "ids": [
            "Amsterdam Airport Schiphol"
           ],
           "legendgroup": "Amsterdam Airport Schiphol",
           "marker": {
            "color": "#636efa",
            "pattern": {
             "shape": ""
            }
           },
           "name": "Amsterdam Airport Schiphol",
           "offsetgroup": "Amsterdam Airport Schiphol",
           "orientation": "h",
           "showlegend": true,
           "textposition": "auto",
           "type": "bar",
           "x": [
            "2020 January*"
           ],
           "xaxis": "x",
           "y": [
            0
           ],
           "yaxis": "y"
          },
          {
           "alignmentgroup": "True",
           "hovertemplate": "<b>%{hovertext}</b><br><br>Airports=Rotterdam The Hague Airport<br>Periods=%{x}<br>PC_flights=%{y}<extra></extra>",
           "hovertext": [
            -97.44765438642989
           ],
           "ids": [
            "Rotterdam The Hague Airport"
           ],
           "legendgroup": "Rotterdam The Hague Airport",
           "marker": {
            "color": "#EF553B",
            "pattern": {
             "shape": ""
            }
           },
           "name": "Rotterdam The Hague Airport",
           "offsetgroup": "Rotterdam The Hague Airport",
           "orientation": "h",
           "showlegend": true,
           "textposition": "auto",
           "type": "bar",
           "x": [
            "2020 January*"
           ],
           "xaxis": "x",
           "y": [
            -97.44765438642989
           ],
           "yaxis": "y"
          },
          {
           "alignmentgroup": "True",
           "hovertemplate": "<b>%{hovertext}</b><br><br>Airports=Eindhoven Airport<br>Periods=%{x}<br>PC_flights=%{y}<extra></extra>",
           "hovertext": [
            8.54228644283892
           ],
           "ids": [
            "Eindhoven Airport"
           ],
           "legendgroup": "Eindhoven Airport",
           "marker": {
            "color": "#00cc96",
            "pattern": {
             "shape": ""
            }
           },
           "name": "Eindhoven Airport",
           "offsetgroup": "Eindhoven Airport",
           "orientation": "h",
           "showlegend": true,
           "textposition": "auto",
           "type": "bar",
           "x": [
            "2020 January*"
           ],
           "xaxis": "x",
           "y": [
            8.54228644283892
           ],
           "yaxis": "y"
          },
          {
           "alignmentgroup": "True",
           "hovertemplate": "<b>%{hovertext}</b><br><br>Airports=Maastricht Aachen Airport<br>Periods=%{x}<br>PC_flights=%{y}<extra></extra>",
           "hovertext": [
            -87.99392097264437
           ],
           "ids": [
            "Maastricht Aachen Airport"
           ],
           "legendgroup": "Maastricht Aachen Airport",
           "marker": {
            "color": "#ab63fa",
            "pattern": {
             "shape": ""
            }
           },
           "name": "Maastricht Aachen Airport",
           "offsetgroup": "Maastricht Aachen Airport",
           "orientation": "h",
           "showlegend": true,
           "textposition": "auto",
           "type": "bar",
           "x": [
            "2020 January*"
           ],
           "xaxis": "x",
           "y": [
            -87.99392097264437
           ],
           "yaxis": "y"
          },
          {
           "alignmentgroup": "True",
           "hovertemplate": "<b>%{hovertext}</b><br><br>Airports=Groningen Airport Eelde<br>Periods=%{x}<br>PC_flights=%{y}<extra></extra>",
           "hovertext": [
            -69.82758620689656
           ],
           "ids": [
            "Groningen Airport Eelde"
           ],
           "legendgroup": "Groningen Airport Eelde",
           "marker": {
            "color": "#FFA15A",
            "pattern": {
             "shape": ""
            }
           },
           "name": "Groningen Airport Eelde",
           "offsetgroup": "Groningen Airport Eelde",
           "orientation": "h",
           "showlegend": true,
           "textposition": "auto",
           "type": "bar",
           "x": [
            "2020 January*"
           ],
           "xaxis": "x",
           "y": [
            -69.82758620689656
           ],
           "yaxis": "y"
          }
         ],
         "name": "2020 January*"
        },
        {
         "data": [
          {
           "alignmentgroup": "True",
           "hovertemplate": "<b>%{hovertext}</b><br><br>Airports=Amsterdam Airport Schiphol<br>Periods=%{x}<br>PC_flights=%{y}<extra></extra>",
           "hovertext": [
            -6.889024942103439
           ],
           "ids": [
            "Amsterdam Airport Schiphol"
           ],
           "legendgroup": "Amsterdam Airport Schiphol",
           "marker": {
            "color": "#636efa",
            "pattern": {
             "shape": ""
            }
           },
           "name": "Amsterdam Airport Schiphol",
           "offsetgroup": "Amsterdam Airport Schiphol",
           "orientation": "h",
           "showlegend": true,
           "textposition": "auto",
           "type": "bar",
           "x": [
            "2020 February*"
           ],
           "xaxis": "x",
           "y": [
            -6.889024942103439
           ],
           "yaxis": "y"
          },
          {
           "alignmentgroup": "True",
           "hovertemplate": "<b>%{hovertext}</b><br><br>Airports=Rotterdam The Hague Airport<br>Periods=%{x}<br>PC_flights=%{y}<extra></extra>",
           "hovertext": [
            7.06126687435098
           ],
           "ids": [
            "Rotterdam The Hague Airport"
           ],
           "legendgroup": "Rotterdam The Hague Airport",
           "marker": {
            "color": "#EF553B",
            "pattern": {
             "shape": ""
            }
           },
           "name": "Rotterdam The Hague Airport",
           "offsetgroup": "Rotterdam The Hague Airport",
           "orientation": "h",
           "showlegend": true,
           "textposition": "auto",
           "type": "bar",
           "x": [
            "2020 February*"
           ],
           "xaxis": "x",
           "y": [
            7.06126687435098
           ],
           "yaxis": "y"
          },
          {
           "alignmentgroup": "True",
           "hovertemplate": "<b>%{hovertext}</b><br><br>Airports=Eindhoven Airport<br>Periods=%{x}<br>PC_flights=%{y}<extra></extra>",
           "hovertext": [
            3.719655442443237
           ],
           "ids": [
            "Eindhoven Airport"
           ],
           "legendgroup": "Eindhoven Airport",
           "marker": {
            "color": "#00cc96",
            "pattern": {
             "shape": ""
            }
           },
           "name": "Eindhoven Airport",
           "offsetgroup": "Eindhoven Airport",
           "orientation": "h",
           "showlegend": true,
           "textposition": "auto",
           "type": "bar",
           "x": [
            "2020 February*"
           ],
           "xaxis": "x",
           "y": [
            3.719655442443237
           ],
           "yaxis": "y"
          },
          {
           "alignmentgroup": "True",
           "hovertemplate": "<b>%{hovertext}</b><br><br>Airports=Maastricht Aachen Airport<br>Periods=%{x}<br>PC_flights=%{y}<extra></extra>",
           "hovertext": [
            0.42194092827003704
           ],
           "ids": [
            "Maastricht Aachen Airport"
           ],
           "legendgroup": "Maastricht Aachen Airport",
           "marker": {
            "color": "#ab63fa",
            "pattern": {
             "shape": ""
            }
           },
           "name": "Maastricht Aachen Airport",
           "offsetgroup": "Maastricht Aachen Airport",
           "orientation": "h",
           "showlegend": true,
           "textposition": "auto",
           "type": "bar",
           "x": [
            "2020 February*"
           ],
           "xaxis": "x",
           "y": [
            0.42194092827003704
           ],
           "yaxis": "y"
          },
          {
           "alignmentgroup": "True",
           "hovertemplate": "<b>%{hovertext}</b><br><br>Airports=Groningen Airport Eelde<br>Periods=%{x}<br>PC_flights=%{y}<extra></extra>",
           "hovertext": [
            -21.904761904761905
           ],
           "ids": [
            "Groningen Airport Eelde"
           ],
           "legendgroup": "Groningen Airport Eelde",
           "marker": {
            "color": "#FFA15A",
            "pattern": {
             "shape": ""
            }
           },
           "name": "Groningen Airport Eelde",
           "offsetgroup": "Groningen Airport Eelde",
           "orientation": "h",
           "showlegend": true,
           "textposition": "auto",
           "type": "bar",
           "x": [
            "2020 February*"
           ],
           "xaxis": "x",
           "y": [
            -21.904761904761905
           ],
           "yaxis": "y"
          }
         ],
         "name": "2020 February*"
        },
        {
         "data": [
          {
           "alignmentgroup": "True",
           "hovertemplate": "<b>%{hovertext}</b><br><br>Airports=Amsterdam Airport Schiphol<br>Periods=%{x}<br>PC_flights=%{y}<extra></extra>",
           "hovertext": [
            -28.085422682180738
           ],
           "ids": [
            "Amsterdam Airport Schiphol"
           ],
           "legendgroup": "Amsterdam Airport Schiphol",
           "marker": {
            "color": "#636efa",
            "pattern": {
             "shape": ""
            }
           },
           "name": "Amsterdam Airport Schiphol",
           "offsetgroup": "Amsterdam Airport Schiphol",
           "orientation": "h",
           "showlegend": true,
           "textposition": "auto",
           "type": "bar",
           "x": [
            "2020 March*"
           ],
           "xaxis": "x",
           "y": [
            -28.085422682180738
           ],
           "yaxis": "y"
          },
          {
           "alignmentgroup": "True",
           "hovertemplate": "<b>%{hovertext}</b><br><br>Airports=Rotterdam The Hague Airport<br>Periods=%{x}<br>PC_flights=%{y}<extra></extra>",
           "hovertext": [
            -27.449078564500486
           ],
           "ids": [
            "Rotterdam The Hague Airport"
           ],
           "legendgroup": "Rotterdam The Hague Airport",
           "marker": {
            "color": "#EF553B",
            "pattern": {
             "shape": ""
            }
           },
           "name": "Rotterdam The Hague Airport",
           "offsetgroup": "Rotterdam The Hague Airport",
           "orientation": "h",
           "showlegend": true,
           "textposition": "auto",
           "type": "bar",
           "x": [
            "2020 March*"
           ],
           "xaxis": "x",
           "y": [
            -27.449078564500486
           ],
           "yaxis": "y"
          },
          {
           "alignmentgroup": "True",
           "hovertemplate": "<b>%{hovertext}</b><br><br>Airports=Eindhoven Airport<br>Periods=%{x}<br>PC_flights=%{y}<extra></extra>",
           "hovertext": [
            -28.727821819554546
           ],
           "ids": [
            "Eindhoven Airport"
           ],
           "legendgroup": "Eindhoven Airport",
           "marker": {
            "color": "#00cc96",
            "pattern": {
             "shape": ""
            }
           },
           "name": "Eindhoven Airport",
           "offsetgroup": "Eindhoven Airport",
           "orientation": "h",
           "showlegend": true,
           "textposition": "auto",
           "type": "bar",
           "x": [
            "2020 March*"
           ],
           "xaxis": "x",
           "y": [
            -28.727821819554546
           ],
           "yaxis": "y"
          },
          {
           "alignmentgroup": "True",
           "hovertemplate": "<b>%{hovertext}</b><br><br>Airports=Maastricht Aachen Airport<br>Periods=%{x}<br>PC_flights=%{y}<extra></extra>",
           "hovertext": [
            1.8907563025210017
           ],
           "ids": [
            "Maastricht Aachen Airport"
           ],
           "legendgroup": "Maastricht Aachen Airport",
           "marker": {
            "color": "#ab63fa",
            "pattern": {
             "shape": ""
            }
           },
           "name": "Maastricht Aachen Airport",
           "offsetgroup": "Maastricht Aachen Airport",
           "orientation": "h",
           "showlegend": true,
           "textposition": "auto",
           "type": "bar",
           "x": [
            "2020 March*"
           ],
           "xaxis": "x",
           "y": [
            1.8907563025210017
           ],
           "yaxis": "y"
          },
          {
           "alignmentgroup": "True",
           "hovertemplate": "<b>%{hovertext}</b><br><br>Airports=Groningen Airport Eelde<br>Periods=%{x}<br>PC_flights=%{y}<extra></extra>",
           "hovertext": [
            -81.70731707317074
           ],
           "ids": [
            "Groningen Airport Eelde"
           ],
           "legendgroup": "Groningen Airport Eelde",
           "marker": {
            "color": "#FFA15A",
            "pattern": {
             "shape": ""
            }
           },
           "name": "Groningen Airport Eelde",
           "offsetgroup": "Groningen Airport Eelde",
           "orientation": "h",
           "showlegend": true,
           "textposition": "auto",
           "type": "bar",
           "x": [
            "2020 March*"
           ],
           "xaxis": "x",
           "y": [
            -81.70731707317074
           ],
           "yaxis": "y"
          }
         ],
         "name": "2020 March*"
        },
        {
         "data": [
          {
           "alignmentgroup": "True",
           "hovertemplate": "<b>%{hovertext}</b><br><br>Airports=Amsterdam Airport Schiphol<br>Periods=%{x}<br>PC_flights=%{y}<extra></extra>",
           "hovertext": [
            -83.16040548598689
           ],
           "ids": [
            "Amsterdam Airport Schiphol"
           ],
           "legendgroup": "Amsterdam Airport Schiphol",
           "marker": {
            "color": "#636efa",
            "pattern": {
             "shape": ""
            }
           },
           "name": "Amsterdam Airport Schiphol",
           "offsetgroup": "Amsterdam Airport Schiphol",
           "orientation": "h",
           "showlegend": true,
           "textposition": "auto",
           "type": "bar",
           "x": [
            "2020 April*"
           ],
           "xaxis": "x",
           "y": [
            -83.16040548598689
           ],
           "yaxis": "y"
          },
          {
           "alignmentgroup": "True",
           "hovertemplate": "<b>%{hovertext}</b><br><br>Airports=Rotterdam The Hague Airport<br>Periods=%{x}<br>PC_flights=%{y}<extra></extra>",
           "hovertext": [
            -94.5187165775401
           ],
           "ids": [
            "Rotterdam The Hague Airport"
           ],
           "legendgroup": "Rotterdam The Hague Airport",
           "marker": {
            "color": "#EF553B",
            "pattern": {
             "shape": ""
            }
           },
           "name": "Rotterdam The Hague Airport",
           "offsetgroup": "Rotterdam The Hague Airport",
           "orientation": "h",
           "showlegend": true,
           "textposition": "auto",
           "type": "bar",
           "x": [
            "2020 April*"
           ],
           "xaxis": "x",
           "y": [
            -94.5187165775401
           ],
           "yaxis": "y"
          },
          {
           "alignmentgroup": "True",
           "hovertemplate": "<b>%{hovertext}</b><br><br>Airports=Eindhoven Airport<br>Periods=%{x}<br>PC_flights=%{y}<extra></extra>",
           "hovertext": [
            -92.16101694915254
           ],
           "ids": [
            "Eindhoven Airport"
           ],
           "legendgroup": "Eindhoven Airport",
           "marker": {
            "color": "#00cc96",
            "pattern": {
             "shape": ""
            }
           },
           "name": "Eindhoven Airport",
           "offsetgroup": "Eindhoven Airport",
           "orientation": "h",
           "showlegend": true,
           "textposition": "auto",
           "type": "bar",
           "x": [
            "2020 April*"
           ],
           "xaxis": "x",
           "y": [
            -92.16101694915254
           ],
           "yaxis": "y"
          },
          {
           "alignmentgroup": "True",
           "hovertemplate": "<b>%{hovertext}</b><br><br>Airports=Maastricht Aachen Airport<br>Periods=%{x}<br>PC_flights=%{y}<extra></extra>",
           "hovertext": [
            -32.16494845360825
           ],
           "ids": [
            "Maastricht Aachen Airport"
           ],
           "legendgroup": "Maastricht Aachen Airport",
           "marker": {
            "color": "#ab63fa",
            "pattern": {
             "shape": ""
            }
           },
           "name": "Maastricht Aachen Airport",
           "offsetgroup": "Maastricht Aachen Airport",
           "orientation": "h",
           "showlegend": true,
           "textposition": "auto",
           "type": "bar",
           "x": [
            "2020 April*"
           ],
           "xaxis": "x",
           "y": [
            -32.16494845360825
           ],
           "yaxis": "y"
          },
          {
           "alignmentgroup": "True",
           "hovertemplate": "<b>%{hovertext}</b><br><br>Airports=Groningen Airport Eelde<br>Periods=%{x}<br>PC_flights=%{y}<extra></extra>",
           "hovertext": [
            -83.33333333333334
           ],
           "ids": [
            "Groningen Airport Eelde"
           ],
           "legendgroup": "Groningen Airport Eelde",
           "marker": {
            "color": "#FFA15A",
            "pattern": {
             "shape": ""
            }
           },
           "name": "Groningen Airport Eelde",
           "offsetgroup": "Groningen Airport Eelde",
           "orientation": "h",
           "showlegend": true,
           "textposition": "auto",
           "type": "bar",
           "x": [
            "2020 April*"
           ],
           "xaxis": "x",
           "y": [
            -83.33333333333334
           ],
           "yaxis": "y"
          }
         ],
         "name": "2020 April*"
        },
        {
         "data": [
          {
           "alignmentgroup": "True",
           "hovertemplate": "<b>%{hovertext}</b><br><br>Airports=Amsterdam Airport Schiphol<br>Periods=%{x}<br>PC_flights=%{y}<extra></extra>",
           "hovertext": [
            38.644948064211526
           ],
           "ids": [
            "Amsterdam Airport Schiphol"
           ],
           "legendgroup": "Amsterdam Airport Schiphol",
           "marker": {
            "color": "#636efa",
            "pattern": {
             "shape": ""
            }
           },
           "name": "Amsterdam Airport Schiphol",
           "offsetgroup": "Amsterdam Airport Schiphol",
           "orientation": "h",
           "showlegend": true,
           "textposition": "auto",
           "type": "bar",
           "x": [
            "2020 May*"
           ],
           "xaxis": "x",
           "y": [
            38.644948064211526
           ],
           "yaxis": "y"
          },
          {
           "alignmentgroup": "True",
           "hovertemplate": "<b>%{hovertext}</b><br><br>Airports=Rotterdam The Hague Airport<br>Periods=%{x}<br>PC_flights=%{y}<extra></extra>",
           "hovertext": [
            12.195121951219523
           ],
           "ids": [
            "Rotterdam The Hague Airport"
           ],
           "legendgroup": "Rotterdam The Hague Airport",
           "marker": {
            "color": "#EF553B",
            "pattern": {
             "shape": ""
            }
           },
           "name": "Rotterdam The Hague Airport",
           "offsetgroup": "Rotterdam The Hague Airport",
           "orientation": "h",
           "showlegend": true,
           "textposition": "auto",
           "type": "bar",
           "x": [
            "2020 May*"
           ],
           "xaxis": "x",
           "y": [
            12.195121951219523
           ],
           "yaxis": "y"
          },
          {
           "alignmentgroup": "True",
           "hovertemplate": "<b>%{hovertext}</b><br><br>Airports=Eindhoven Airport<br>Periods=%{x}<br>PC_flights=%{y}<extra></extra>",
           "hovertext": [
            20.270270270270263
           ],
           "ids": [
            "Eindhoven Airport"
           ],
           "legendgroup": "Eindhoven Airport",
           "marker": {
            "color": "#00cc96",
            "pattern": {
             "shape": ""
            }
           },
           "name": "Eindhoven Airport",
           "offsetgroup": "Eindhoven Airport",
           "orientation": "h",
           "showlegend": true,
           "textposition": "auto",
           "type": "bar",
           "x": [
            "2020 May*"
           ],
           "xaxis": "x",
           "y": [
            20.270270270270263
           ],
           "yaxis": "y"
          },
          {
           "alignmentgroup": "True",
           "hovertemplate": "<b>%{hovertext}</b><br><br>Airports=Maastricht Aachen Airport<br>Periods=%{x}<br>PC_flights=%{y}<extra></extra>",
           "hovertext": [
            37.38601823708208
           ],
           "ids": [
            "Maastricht Aachen Airport"
           ],
           "legendgroup": "Maastricht Aachen Airport",
           "marker": {
            "color": "#ab63fa",
            "pattern": {
             "shape": ""
            }
           },
           "name": "Maastricht Aachen Airport",
           "offsetgroup": "Maastricht Aachen Airport",
           "orientation": "h",
           "showlegend": true,
           "textposition": "auto",
           "type": "bar",
           "x": [
            "2020 May*"
           ],
           "xaxis": "x",
           "y": [
            37.38601823708208
           ],
           "yaxis": "y"
          },
          {
           "alignmentgroup": "True",
           "hovertemplate": "<b>%{hovertext}</b><br><br>Airports=Groningen Airport Eelde<br>Periods=%{x}<br>PC_flights=%{y}<extra></extra>",
           "hovertext": [
            39.99999999999999
           ],
           "ids": [
            "Groningen Airport Eelde"
           ],
           "legendgroup": "Groningen Airport Eelde",
           "marker": {
            "color": "#FFA15A",
            "pattern": {
             "shape": ""
            }
           },
           "name": "Groningen Airport Eelde",
           "offsetgroup": "Groningen Airport Eelde",
           "orientation": "h",
           "showlegend": true,
           "textposition": "auto",
           "type": "bar",
           "x": [
            "2020 May*"
           ],
           "xaxis": "x",
           "y": [
            39.99999999999999
           ],
           "yaxis": "y"
          }
         ],
         "name": "2020 May*"
        },
        {
         "data": [
          {
           "alignmentgroup": "True",
           "hovertemplate": "<b>%{hovertext}</b><br><br>Airports=Amsterdam Airport Schiphol<br>Periods=%{x}<br>PC_flights=%{y}<extra></extra>",
           "hovertext": [
            38.05550825813042
           ],
           "ids": [
            "Amsterdam Airport Schiphol"
           ],
           "legendgroup": "Amsterdam Airport Schiphol",
           "marker": {
            "color": "#636efa",
            "pattern": {
             "shape": ""
            }
           },
           "name": "Amsterdam Airport Schiphol",
           "offsetgroup": "Amsterdam Airport Schiphol",
           "orientation": "h",
           "showlegend": true,
           "textposition": "auto",
           "type": "bar",
           "x": [
            "2020 June*"
           ],
           "xaxis": "x",
           "y": [
            38.05550825813042
           ],
           "yaxis": "y"
          },
          {
           "alignmentgroup": "True",
           "hovertemplate": "<b>%{hovertext}</b><br><br>Airports=Rotterdam The Hague Airport<br>Periods=%{x}<br>PC_flights=%{y}<extra></extra>",
           "hovertext": [
            265.2173913043478
           ],
           "ids": [
            "Rotterdam The Hague Airport"
           ],
           "legendgroup": "Rotterdam The Hague Airport",
           "marker": {
            "color": "#EF553B",
            "pattern": {
             "shape": ""
            }
           },
           "name": "Rotterdam The Hague Airport",
           "offsetgroup": "Rotterdam The Hague Airport",
           "orientation": "h",
           "showlegend": true,
           "textposition": "auto",
           "type": "bar",
           "x": [
            "2020 June*"
           ],
           "xaxis": "x",
           "y": [
            265.2173913043478
           ],
           "yaxis": "y"
          },
          {
           "alignmentgroup": "True",
           "hovertemplate": "<b>%{hovertext}</b><br><br>Airports=Eindhoven Airport<br>Periods=%{x}<br>PC_flights=%{y}<extra></extra>",
           "hovertext": [
            217.41573033707863
           ],
           "ids": [
            "Eindhoven Airport"
           ],
           "legendgroup": "Eindhoven Airport",
           "marker": {
            "color": "#00cc96",
            "pattern": {
             "shape": ""
            }
           },
           "name": "Eindhoven Airport",
           "offsetgroup": "Eindhoven Airport",
           "orientation": "h",
           "showlegend": true,
           "textposition": "auto",
           "type": "bar",
           "x": [
            "2020 June*"
           ],
           "xaxis": "x",
           "y": [
            217.41573033707863
           ],
           "yaxis": "y"
          },
          {
           "alignmentgroup": "True",
           "hovertemplate": "<b>%{hovertext}</b><br><br>Airports=Maastricht Aachen Airport<br>Periods=%{x}<br>PC_flights=%{y}<extra></extra>",
           "hovertext": [
            8.185840707964598
           ],
           "ids": [
            "Maastricht Aachen Airport"
           ],
           "legendgroup": "Maastricht Aachen Airport",
           "marker": {
            "color": "#ab63fa",
            "pattern": {
             "shape": ""
            }
           },
           "name": "Maastricht Aachen Airport",
           "offsetgroup": "Maastricht Aachen Airport",
           "orientation": "h",
           "showlegend": true,
           "textposition": "auto",
           "type": "bar",
           "x": [
            "2020 June*"
           ],
           "xaxis": "x",
           "y": [
            8.185840707964598
           ],
           "yaxis": "y"
          },
          {
           "alignmentgroup": "True",
           "hovertemplate": "<b>%{hovertext}</b><br><br>Airports=Groningen Airport Eelde<br>Periods=%{x}<br>PC_flights=%{y}<extra></extra>",
           "hovertext": [
            -14.28571428571429
           ],
           "ids": [
            "Groningen Airport Eelde"
           ],
           "legendgroup": "Groningen Airport Eelde",
           "marker": {
            "color": "#FFA15A",
            "pattern": {
             "shape": ""
            }
           },
           "name": "Groningen Airport Eelde",
           "offsetgroup": "Groningen Airport Eelde",
           "orientation": "h",
           "showlegend": true,
           "textposition": "auto",
           "type": "bar",
           "x": [
            "2020 June*"
           ],
           "xaxis": "x",
           "y": [
            -14.28571428571429
           ],
           "yaxis": "y"
          }
         ],
         "name": "2020 June*"
        },
        {
         "data": [
          {
           "alignmentgroup": "True",
           "hovertemplate": "<b>%{hovertext}</b><br><br>Airports=Amsterdam Airport Schiphol<br>Periods=%{x}<br>PC_flights=%{y}<extra></extra>",
           "hovertext": [
            93.6605821410952
           ],
           "ids": [
            "Amsterdam Airport Schiphol"
           ],
           "legendgroup": "Amsterdam Airport Schiphol",
           "marker": {
            "color": "#636efa",
            "pattern": {
             "shape": ""
            }
           },
           "name": "Amsterdam Airport Schiphol",
           "offsetgroup": "Amsterdam Airport Schiphol",
           "orientation": "h",
           "showlegend": true,
           "textposition": "auto",
           "type": "bar",
           "x": [
            "2020 July*"
           ],
           "xaxis": "x",
           "y": [
            93.6605821410952
           ],
           "yaxis": "y"
          },
          {
           "alignmentgroup": "True",
           "hovertemplate": "<b>%{hovertext}</b><br><br>Airports=Rotterdam The Hague Airport<br>Periods=%{x}<br>PC_flights=%{y}<extra></extra>",
           "hovertext": [
            514.2857142857143
           ],
           "ids": [
            "Rotterdam The Hague Airport"
           ],
           "legendgroup": "Rotterdam The Hague Airport",
           "marker": {
            "color": "#EF553B",
            "pattern": {
             "shape": ""
            }
           },
           "name": "Rotterdam The Hague Airport",
           "offsetgroup": "Rotterdam The Hague Airport",
           "orientation": "h",
           "showlegend": true,
           "textposition": "auto",
           "type": "bar",
           "x": [
            "2020 July*"
           ],
           "xaxis": "x",
           "y": [
            514.2857142857143
           ],
           "yaxis": "y"
          },
          {
           "alignmentgroup": "True",
           "hovertemplate": "<b>%{hovertext}</b><br><br>Airports=Eindhoven Airport<br>Periods=%{x}<br>PC_flights=%{y}<extra></extra>",
           "hovertext": [
            305.66371681415933
           ],
           "ids": [
            "Eindhoven Airport"
           ],
           "legendgroup": "Eindhoven Airport",
           "marker": {
            "color": "#00cc96",
            "pattern": {
             "shape": ""
            }
           },
           "name": "Eindhoven Airport",
           "offsetgroup": "Eindhoven Airport",
           "orientation": "h",
           "showlegend": true,
           "textposition": "auto",
           "type": "bar",
           "x": [
            "2020 July*"
           ],
           "xaxis": "x",
           "y": [
            305.66371681415933
           ],
           "yaxis": "y"
          },
          {
           "alignmentgroup": "True",
           "hovertemplate": "<b>%{hovertext}</b><br><br>Airports=Maastricht Aachen Airport<br>Periods=%{x}<br>PC_flights=%{y}<extra></extra>",
           "hovertext": [
            26.993865030674847
           ],
           "ids": [
            "Maastricht Aachen Airport"
           ],
           "legendgroup": "Maastricht Aachen Airport",
           "marker": {
            "color": "#ab63fa",
            "pattern": {
             "shape": ""
            }
           },
           "name": "Maastricht Aachen Airport",
           "offsetgroup": "Maastricht Aachen Airport",
           "orientation": "h",
           "showlegend": true,
           "textposition": "auto",
           "type": "bar",
           "x": [
            "2020 July*"
           ],
           "xaxis": "x",
           "y": [
            26.993865030674847
           ],
           "yaxis": "y"
          },
          {
           "alignmentgroup": "True",
           "hovertemplate": "<b>%{hovertext}</b><br><br>Airports=Groningen Airport Eelde<br>Periods=%{x}<br>PC_flights=%{y}<extra></extra>",
           "hovertext": [
            800
           ],
           "ids": [
            "Groningen Airport Eelde"
           ],
           "legendgroup": "Groningen Airport Eelde",
           "marker": {
            "color": "#FFA15A",
            "pattern": {
             "shape": ""
            }
           },
           "name": "Groningen Airport Eelde",
           "offsetgroup": "Groningen Airport Eelde",
           "orientation": "h",
           "showlegend": true,
           "textposition": "auto",
           "type": "bar",
           "x": [
            "2020 July*"
           ],
           "xaxis": "x",
           "y": [
            800
           ],
           "yaxis": "y"
          }
         ],
         "name": "2020 July*"
        },
        {
         "data": [
          {
           "alignmentgroup": "True",
           "hovertemplate": "<b>%{hovertext}</b><br><br>Airports=Amsterdam Airport Schiphol<br>Periods=%{x}<br>PC_flights=%{y}<extra></extra>",
           "hovertext": [
            47.27423258183671
           ],
           "ids": [
            "Amsterdam Airport Schiphol"
           ],
           "legendgroup": "Amsterdam Airport Schiphol",
           "marker": {
            "color": "#636efa",
            "pattern": {
             "shape": ""
            }
           },
           "name": "Amsterdam Airport Schiphol",
           "offsetgroup": "Amsterdam Airport Schiphol",
           "orientation": "h",
           "showlegend": true,
           "textposition": "auto",
           "type": "bar",
           "x": [
            "2020 August*"
           ],
           "xaxis": "x",
           "y": [
            47.27423258183671
           ],
           "yaxis": "y"
          },
          {
           "alignmentgroup": "True",
           "hovertemplate": "<b>%{hovertext}</b><br><br>Airports=Rotterdam The Hague Airport<br>Periods=%{x}<br>PC_flights=%{y}<extra></extra>",
           "hovertext": [
            3.779069767441867
           ],
           "ids": [
            "Rotterdam The Hague Airport"
           ],
           "legendgroup": "Rotterdam The Hague Airport",
           "marker": {
            "color": "#EF553B",
            "pattern": {
             "shape": ""
            }
           },
           "name": "Rotterdam The Hague Airport",
           "offsetgroup": "Rotterdam The Hague Airport",
           "orientation": "h",
           "showlegend": true,
           "textposition": "auto",
           "type": "bar",
           "x": [
            "2020 August*"
           ],
           "xaxis": "x",
           "y": [
            3.779069767441867
           ],
           "yaxis": "y"
          },
          {
           "alignmentgroup": "True",
           "hovertemplate": "<b>%{hovertext}</b><br><br>Airports=Eindhoven Airport<br>Periods=%{x}<br>PC_flights=%{y}<extra></extra>",
           "hovertext": [
            18.368237347294937
           ],
           "ids": [
            "Eindhoven Airport"
           ],
           "legendgroup": "Eindhoven Airport",
           "marker": {
            "color": "#00cc96",
            "pattern": {
             "shape": ""
            }
           },
           "name": "Eindhoven Airport",
           "offsetgroup": "Eindhoven Airport",
           "orientation": "h",
           "showlegend": true,
           "textposition": "auto",
           "type": "bar",
           "x": [
            "2020 August*"
           ],
           "xaxis": "x",
           "y": [
            18.368237347294937
           ],
           "yaxis": "y"
          },
          {
           "alignmentgroup": "True",
           "hovertemplate": "<b>%{hovertext}</b><br><br>Airports=Maastricht Aachen Airport<br>Periods=%{x}<br>PC_flights=%{y}<extra></extra>",
           "hovertext": [
            -0.9661835748792313
           ],
           "ids": [
            "Maastricht Aachen Airport"
           ],
           "legendgroup": "Maastricht Aachen Airport",
           "marker": {
            "color": "#ab63fa",
            "pattern": {
             "shape": ""
            }
           },
           "name": "Maastricht Aachen Airport",
           "offsetgroup": "Maastricht Aachen Airport",
           "orientation": "h",
           "showlegend": true,
           "textposition": "auto",
           "type": "bar",
           "x": [
            "2020 August*"
           ],
           "xaxis": "x",
           "y": [
            -0.9661835748792313
           ],
           "yaxis": "y"
          },
          {
           "alignmentgroup": "True",
           "hovertemplate": "<b>%{hovertext}</b><br><br>Airports=Groningen Airport Eelde<br>Periods=%{x}<br>PC_flights=%{y}<extra></extra>",
           "hovertext": [
            -5.555555555555558
           ],
           "ids": [
            "Groningen Airport Eelde"
           ],
           "legendgroup": "Groningen Airport Eelde",
           "marker": {
            "color": "#FFA15A",
            "pattern": {
             "shape": ""
            }
           },
           "name": "Groningen Airport Eelde",
           "offsetgroup": "Groningen Airport Eelde",
           "orientation": "h",
           "showlegend": true,
           "textposition": "auto",
           "type": "bar",
           "x": [
            "2020 August*"
           ],
           "xaxis": "x",
           "y": [
            -5.555555555555558
           ],
           "yaxis": "y"
          }
         ],
         "name": "2020 August*"
        },
        {
         "data": [
          {
           "alignmentgroup": "True",
           "hovertemplate": "<b>%{hovertext}</b><br><br>Airports=Amsterdam Airport Schiphol<br>Periods=%{x}<br>PC_flights=%{y}<extra></extra>",
           "hovertext": [
            -4.16432432432432
           ],
           "ids": [
            "Amsterdam Airport Schiphol"
           ],
           "legendgroup": "Amsterdam Airport Schiphol",
           "marker": {
            "color": "#636efa",
            "pattern": {
             "shape": ""
            }
           },
           "name": "Amsterdam Airport Schiphol",
           "offsetgroup": "Amsterdam Airport Schiphol",
           "orientation": "h",
           "showlegend": true,
           "textposition": "auto",
           "type": "bar",
           "x": [
            "2020 September*"
           ],
           "xaxis": "x",
           "y": [
            -4.16432432432432
           ],
           "yaxis": "y"
          },
          {
           "alignmentgroup": "True",
           "hovertemplate": "<b>%{hovertext}</b><br><br>Airports=Rotterdam The Hague Airport<br>Periods=%{x}<br>PC_flights=%{y}<extra></extra>",
           "hovertext": [
            -40.70961718020541
           ],
           "ids": [
            "Rotterdam The Hague Airport"
           ],
           "legendgroup": "Rotterdam The Hague Airport",
           "marker": {
            "color": "#EF553B",
            "pattern": {
             "shape": ""
            }
           },
           "name": "Rotterdam The Hague Airport",
           "offsetgroup": "Rotterdam The Hague Airport",
           "orientation": "h",
           "showlegend": true,
           "textposition": "auto",
           "type": "bar",
           "x": [
            "2020 September*"
           ],
           "xaxis": "x",
           "y": [
            -40.70961718020541
           ],
           "yaxis": "y"
          },
          {
           "alignmentgroup": "True",
           "hovertemplate": "<b>%{hovertext}</b><br><br>Airports=Eindhoven Airport<br>Periods=%{x}<br>PC_flights=%{y}<extra></extra>",
           "hovertext": [
            -28.234426833763358
           ],
           "ids": [
            "Eindhoven Airport"
           ],
           "legendgroup": "Eindhoven Airport",
           "marker": {
            "color": "#00cc96",
            "pattern": {
             "shape": ""
            }
           },
           "name": "Eindhoven Airport",
           "offsetgroup": "Eindhoven Airport",
           "orientation": "h",
           "showlegend": true,
           "textposition": "auto",
           "type": "bar",
           "x": [
            "2020 September*"
           ],
           "xaxis": "x",
           "y": [
            -28.234426833763358
           ],
           "yaxis": "y"
          },
          {
           "alignmentgroup": "True",
           "hovertemplate": "<b>%{hovertext}</b><br><br>Airports=Maastricht Aachen Airport<br>Periods=%{x}<br>PC_flights=%{y}<extra></extra>",
           "hovertext": [
            -16.09756097560976
           ],
           "ids": [
            "Maastricht Aachen Airport"
           ],
           "legendgroup": "Maastricht Aachen Airport",
           "marker": {
            "color": "#ab63fa",
            "pattern": {
             "shape": ""
            }
           },
           "name": "Maastricht Aachen Airport",
           "offsetgroup": "Maastricht Aachen Airport",
           "orientation": "h",
           "showlegend": true,
           "textposition": "auto",
           "type": "bar",
           "x": [
            "2020 September*"
           ],
           "xaxis": "x",
           "y": [
            -16.09756097560976
           ],
           "yaxis": "y"
          },
          {
           "alignmentgroup": "True",
           "hovertemplate": "<b>%{hovertext}</b><br><br>Airports=Groningen Airport Eelde<br>Periods=%{x}<br>PC_flights=%{y}<extra></extra>",
           "hovertext": [
            -41.17647058823529
           ],
           "ids": [
            "Groningen Airport Eelde"
           ],
           "legendgroup": "Groningen Airport Eelde",
           "marker": {
            "color": "#FFA15A",
            "pattern": {
             "shape": ""
            }
           },
           "name": "Groningen Airport Eelde",
           "offsetgroup": "Groningen Airport Eelde",
           "orientation": "h",
           "showlegend": true,
           "textposition": "auto",
           "type": "bar",
           "x": [
            "2020 September*"
           ],
           "xaxis": "x",
           "y": [
            -41.17647058823529
           ],
           "yaxis": "y"
          }
         ],
         "name": "2020 September*"
        },
        {
         "data": [
          {
           "alignmentgroup": "True",
           "hovertemplate": "<b>%{hovertext}</b><br><br>Airports=Amsterdam Airport Schiphol<br>Periods=%{x}<br>PC_flights=%{y}<extra></extra>",
           "hovertext": [
            -11.497157296272897
           ],
           "ids": [
            "Amsterdam Airport Schiphol"
           ],
           "legendgroup": "Amsterdam Airport Schiphol",
           "marker": {
            "color": "#636efa",
            "pattern": {
             "shape": ""
            }
           },
           "name": "Amsterdam Airport Schiphol",
           "offsetgroup": "Amsterdam Airport Schiphol",
           "orientation": "h",
           "showlegend": true,
           "textposition": "auto",
           "type": "bar",
           "x": [
            "2020 October*"
           ],
           "xaxis": "x",
           "y": [
            -11.497157296272897
           ],
           "yaxis": "y"
          },
          {
           "alignmentgroup": "True",
           "hovertemplate": "<b>%{hovertext}</b><br><br>Airports=Rotterdam The Hague Airport<br>Periods=%{x}<br>PC_flights=%{y}<extra></extra>",
           "hovertext": [
            -44.40944881889764
           ],
           "ids": [
            "Rotterdam The Hague Airport"
           ],
           "legendgroup": "Rotterdam The Hague Airport",
           "marker": {
            "color": "#EF553B",
            "pattern": {
             "shape": ""
            }
           },
           "name": "Rotterdam The Hague Airport",
           "offsetgroup": "Rotterdam The Hague Airport",
           "orientation": "h",
           "showlegend": true,
           "textposition": "auto",
           "type": "bar",
           "x": [
            "2020 October*"
           ],
           "xaxis": "x",
           "y": [
            -44.40944881889764
           ],
           "yaxis": "y"
          },
          {
           "alignmentgroup": "True",
           "hovertemplate": "<b>%{hovertext}</b><br><br>Airports=Eindhoven Airport<br>Periods=%{x}<br>PC_flights=%{y}<extra></extra>",
           "hovertext": [
            -25.47508988186954
           ],
           "ids": [
            "Eindhoven Airport"
           ],
           "legendgroup": "Eindhoven Airport",
           "marker": {
            "color": "#00cc96",
            "pattern": {
             "shape": ""
            }
           },
           "name": "Eindhoven Airport",
           "offsetgroup": "Eindhoven Airport",
           "orientation": "h",
           "showlegend": true,
           "textposition": "auto",
           "type": "bar",
           "x": [
            "2020 October*"
           ],
           "xaxis": "x",
           "y": [
            -25.47508988186954
           ],
           "yaxis": "y"
          },
          {
           "alignmentgroup": "True",
           "hovertemplate": "<b>%{hovertext}</b><br><br>Airports=Maastricht Aachen Airport<br>Periods=%{x}<br>PC_flights=%{y}<extra></extra>",
           "hovertext": [
            13.759689922480622
           ],
           "ids": [
            "Maastricht Aachen Airport"
           ],
           "legendgroup": "Maastricht Aachen Airport",
           "marker": {
            "color": "#ab63fa",
            "pattern": {
             "shape": ""
            }
           },
           "name": "Maastricht Aachen Airport",
           "offsetgroup": "Maastricht Aachen Airport",
           "orientation": "h",
           "showlegend": true,
           "textposition": "auto",
           "type": "bar",
           "x": [
            "2020 October*"
           ],
           "xaxis": "x",
           "y": [
            13.759689922480622
           ],
           "yaxis": "y"
          },
          {
           "alignmentgroup": "True",
           "hovertemplate": "<b>%{hovertext}</b><br><br>Airports=Groningen Airport Eelde<br>Periods=%{x}<br>PC_flights=%{y}<extra></extra>",
           "hovertext": [
            -23.33333333333333
           ],
           "ids": [
            "Groningen Airport Eelde"
           ],
           "legendgroup": "Groningen Airport Eelde",
           "marker": {
            "color": "#FFA15A",
            "pattern": {
             "shape": ""
            }
           },
           "name": "Groningen Airport Eelde",
           "offsetgroup": "Groningen Airport Eelde",
           "orientation": "h",
           "showlegend": true,
           "textposition": "auto",
           "type": "bar",
           "x": [
            "2020 October*"
           ],
           "xaxis": "x",
           "y": [
            -23.33333333333333
           ],
           "yaxis": "y"
          }
         ],
         "name": "2020 October*"
        },
        {
         "data": [
          {
           "alignmentgroup": "True",
           "hovertemplate": "<b>%{hovertext}</b><br><br>Airports=Amsterdam Airport Schiphol<br>Periods=%{x}<br>PC_flights=%{y}<extra></extra>",
           "hovertext": [
            -24.247986132354438
           ],
           "ids": [
            "Amsterdam Airport Schiphol"
           ],
           "legendgroup": "Amsterdam Airport Schiphol",
           "marker": {
            "color": "#636efa",
            "pattern": {
             "shape": ""
            }
           },
           "name": "Amsterdam Airport Schiphol",
           "offsetgroup": "Amsterdam Airport Schiphol",
           "orientation": "h",
           "showlegend": true,
           "textposition": "auto",
           "type": "bar",
           "x": [
            "2020 November*"
           ],
           "xaxis": "x",
           "y": [
            -24.247986132354438
           ],
           "yaxis": "y"
          },
          {
           "alignmentgroup": "True",
           "hovertemplate": "<b>%{hovertext}</b><br><br>Airports=Rotterdam The Hague Airport<br>Periods=%{x}<br>PC_flights=%{y}<extra></extra>",
           "hovertext": [
            -62.03966005665722
           ],
           "ids": [
            "Rotterdam The Hague Airport"
           ],
           "legendgroup": "Rotterdam The Hague Airport",
           "marker": {
            "color": "#EF553B",
            "pattern": {
             "shape": ""
            }
           },
           "name": "Rotterdam The Hague Airport",
           "offsetgroup": "Rotterdam The Hague Airport",
           "orientation": "h",
           "showlegend": true,
           "textposition": "auto",
           "type": "bar",
           "x": [
            "2020 November*"
           ],
           "xaxis": "x",
           "y": [
            -62.03966005665722
           ],
           "yaxis": "y"
          },
          {
           "alignmentgroup": "True",
           "hovertemplate": "<b>%{hovertext}</b><br><br>Airports=Eindhoven Airport<br>Periods=%{x}<br>PC_flights=%{y}<extra></extra>",
           "hovertext": [
            -50.31013094417642
           ],
           "ids": [
            "Eindhoven Airport"
           ],
           "legendgroup": "Eindhoven Airport",
           "marker": {
            "color": "#00cc96",
            "pattern": {
             "shape": ""
            }
           },
           "name": "Eindhoven Airport",
           "offsetgroup": "Eindhoven Airport",
           "orientation": "h",
           "showlegend": true,
           "textposition": "auto",
           "type": "bar",
           "x": [
            "2020 November*"
           ],
           "xaxis": "x",
           "y": [
            -50.31013094417642
           ],
           "yaxis": "y"
          },
          {
           "alignmentgroup": "True",
           "hovertemplate": "<b>%{hovertext}</b><br><br>Airports=Maastricht Aachen Airport<br>Periods=%{x}<br>PC_flights=%{y}<extra></extra>",
           "hovertext": [
            -6.643952299829648
           ],
           "ids": [
            "Maastricht Aachen Airport"
           ],
           "legendgroup": "Maastricht Aachen Airport",
           "marker": {
            "color": "#ab63fa",
            "pattern": {
             "shape": ""
            }
           },
           "name": "Maastricht Aachen Airport",
           "offsetgroup": "Maastricht Aachen Airport",
           "orientation": "h",
           "showlegend": true,
           "textposition": "auto",
           "type": "bar",
           "x": [
            "2020 November*"
           ],
           "xaxis": "x",
           "y": [
            -6.643952299829648
           ],
           "yaxis": "y"
          },
          {
           "alignmentgroup": "True",
           "hovertemplate": "<b>%{hovertext}</b><br><br>Airports=Groningen Airport Eelde<br>Periods=%{x}<br>PC_flights=%{y}<extra></extra>",
           "hovertext": [
            -4.347826086956519
           ],
           "ids": [
            "Groningen Airport Eelde"
           ],
           "legendgroup": "Groningen Airport Eelde",
           "marker": {
            "color": "#FFA15A",
            "pattern": {
             "shape": ""
            }
           },
           "name": "Groningen Airport Eelde",
           "offsetgroup": "Groningen Airport Eelde",
           "orientation": "h",
           "showlegend": true,
           "textposition": "auto",
           "type": "bar",
           "x": [
            "2020 November*"
           ],
           "xaxis": "x",
           "y": [
            -4.347826086956519
           ],
           "yaxis": "y"
          }
         ],
         "name": "2020 November*"
        },
        {
         "data": [
          {
           "alignmentgroup": "True",
           "hovertemplate": "<b>%{hovertext}</b><br><br>Airports=Amsterdam Airport Schiphol<br>Periods=%{x}<br>PC_flights=%{y}<extra></extra>",
           "hovertext": [
            6.986135415264494
           ],
           "ids": [
            "Amsterdam Airport Schiphol"
           ],
           "legendgroup": "Amsterdam Airport Schiphol",
           "marker": {
            "color": "#636efa",
            "pattern": {
             "shape": ""
            }
           },
           "name": "Amsterdam Airport Schiphol",
           "offsetgroup": "Amsterdam Airport Schiphol",
           "orientation": "h",
           "showlegend": true,
           "textposition": "auto",
           "type": "bar",
           "x": [
            "2020 December*"
           ],
           "xaxis": "x",
           "y": [
            6.986135415264494
           ],
           "yaxis": "y"
          },
          {
           "alignmentgroup": "True",
           "hovertemplate": "<b>%{hovertext}</b><br><br>Airports=Rotterdam The Hague Airport<br>Periods=%{x}<br>PC_flights=%{y}<extra></extra>",
           "hovertext": [
            -14.179104477611936
           ],
           "ids": [
            "Rotterdam The Hague Airport"
           ],
           "legendgroup": "Rotterdam The Hague Airport",
           "marker": {
            "color": "#EF553B",
            "pattern": {
             "shape": ""
            }
           },
           "name": "Rotterdam The Hague Airport",
           "offsetgroup": "Rotterdam The Hague Airport",
           "orientation": "h",
           "showlegend": true,
           "textposition": "auto",
           "type": "bar",
           "x": [
            "2020 December*"
           ],
           "xaxis": "x",
           "y": [
            -14.179104477611936
           ],
           "yaxis": "y"
          },
          {
           "alignmentgroup": "True",
           "hovertemplate": "<b>%{hovertext}</b><br><br>Airports=Eindhoven Airport<br>Periods=%{x}<br>PC_flights=%{y}<extra></extra>",
           "hovertext": [
            6.657420249653256
           ],
           "ids": [
            "Eindhoven Airport"
           ],
           "legendgroup": "Eindhoven Airport",
           "marker": {
            "color": "#00cc96",
            "pattern": {
             "shape": ""
            }
           },
           "name": "Eindhoven Airport",
           "offsetgroup": "Eindhoven Airport",
           "orientation": "h",
           "showlegend": true,
           "textposition": "auto",
           "type": "bar",
           "x": [
            "2020 December*"
           ],
           "xaxis": "x",
           "y": [
            6.657420249653256
           ],
           "yaxis": "y"
          },
          {
           "alignmentgroup": "True",
           "hovertemplate": "<b>%{hovertext}</b><br><br>Airports=Maastricht Aachen Airport<br>Periods=%{x}<br>PC_flights=%{y}<extra></extra>",
           "hovertext": [
            -2.372262773722633
           ],
           "ids": [
            "Maastricht Aachen Airport"
           ],
           "legendgroup": "Maastricht Aachen Airport",
           "marker": {
            "color": "#ab63fa",
            "pattern": {
             "shape": ""
            }
           },
           "name": "Maastricht Aachen Airport",
           "offsetgroup": "Maastricht Aachen Airport",
           "orientation": "h",
           "showlegend": true,
           "textposition": "auto",
           "type": "bar",
           "x": [
            "2020 December*"
           ],
           "xaxis": "x",
           "y": [
            -2.372262773722633
           ],
           "yaxis": "y"
          },
          {
           "alignmentgroup": "True",
           "hovertemplate": "<b>%{hovertext}</b><br><br>Airports=Groningen Airport Eelde<br>Periods=%{x}<br>PC_flights=%{y}<extra></extra>",
           "hovertext": [
            -54.54545454545454
           ],
           "ids": [
            "Groningen Airport Eelde"
           ],
           "legendgroup": "Groningen Airport Eelde",
           "marker": {
            "color": "#FFA15A",
            "pattern": {
             "shape": ""
            }
           },
           "name": "Groningen Airport Eelde",
           "offsetgroup": "Groningen Airport Eelde",
           "orientation": "h",
           "showlegend": true,
           "textposition": "auto",
           "type": "bar",
           "x": [
            "2020 December*"
           ],
           "xaxis": "x",
           "y": [
            -54.54545454545454
           ],
           "yaxis": "y"
          }
         ],
         "name": "2020 December*"
        },
        {
         "data": [
          {
           "alignmentgroup": "True",
           "hovertemplate": "<b>%{hovertext}</b><br><br>Airports=Amsterdam Airport Schiphol<br>Periods=%{x}<br>PC_flights=%{y}<extra></extra>",
           "hovertext": [
            -7.737795671867131
           ],
           "ids": [
            "Amsterdam Airport Schiphol"
           ],
           "legendgroup": "Amsterdam Airport Schiphol",
           "marker": {
            "color": "#636efa",
            "pattern": {
             "shape": ""
            }
           },
           "name": "Amsterdam Airport Schiphol",
           "offsetgroup": "Amsterdam Airport Schiphol",
           "orientation": "h",
           "showlegend": true,
           "textposition": "auto",
           "type": "bar",
           "x": [
            "2021 January*"
           ],
           "xaxis": "x",
           "y": [
            -7.737795671867131
           ],
           "yaxis": "y"
          },
          {
           "alignmentgroup": "True",
           "hovertemplate": "<b>%{hovertext}</b><br><br>Airports=Rotterdam The Hague Airport<br>Periods=%{x}<br>PC_flights=%{y}<extra></extra>",
           "hovertext": [
            57.391304347826086
           ],
           "ids": [
            "Rotterdam The Hague Airport"
           ],
           "legendgroup": "Rotterdam The Hague Airport",
           "marker": {
            "color": "#EF553B",
            "pattern": {
             "shape": ""
            }
           },
           "name": "Rotterdam The Hague Airport",
           "offsetgroup": "Rotterdam The Hague Airport",
           "orientation": "h",
           "showlegend": true,
           "textposition": "auto",
           "type": "bar",
           "x": [
            "2021 January*"
           ],
           "xaxis": "x",
           "y": [
            57.391304347826086
           ],
           "yaxis": "y"
          },
          {
           "alignmentgroup": "True",
           "hovertemplate": "<b>%{hovertext}</b><br><br>Airports=Eindhoven Airport<br>Periods=%{x}<br>PC_flights=%{y}<extra></extra>",
           "hovertext": [
            -25.617685305591674
           ],
           "ids": [
            "Eindhoven Airport"
           ],
           "legendgroup": "Eindhoven Airport",
           "marker": {
            "color": "#00cc96",
            "pattern": {
             "shape": ""
            }
           },
           "name": "Eindhoven Airport",
           "offsetgroup": "Eindhoven Airport",
           "orientation": "h",
           "showlegend": true,
           "textposition": "auto",
           "type": "bar",
           "x": [
            "2021 January*"
           ],
           "xaxis": "x",
           "y": [
            -25.617685305591674
           ],
           "yaxis": "y"
          },
          {
           "alignmentgroup": "True",
           "hovertemplate": "<b>%{hovertext}</b><br><br>Airports=Maastricht Aachen Airport<br>Periods=%{x}<br>PC_flights=%{y}<extra></extra>",
           "hovertext": [
            -12.523364485981304
           ],
           "ids": [
            "Maastricht Aachen Airport"
           ],
           "legendgroup": "Maastricht Aachen Airport",
           "marker": {
            "color": "#ab63fa",
            "pattern": {
             "shape": ""
            }
           },
           "name": "Maastricht Aachen Airport",
           "offsetgroup": "Maastricht Aachen Airport",
           "orientation": "h",
           "showlegend": true,
           "textposition": "auto",
           "type": "bar",
           "x": [
            "2021 January*"
           ],
           "xaxis": "x",
           "y": [
            -12.523364485981304
           ],
           "yaxis": "y"
          },
          {
           "alignmentgroup": "True",
           "hovertemplate": "<b>%{hovertext}</b><br><br>Airports=Groningen Airport Eelde<br>Periods=%{x}<br>PC_flights=%{y}<extra></extra>",
           "hovertext": [
            100
           ],
           "ids": [
            "Groningen Airport Eelde"
           ],
           "legendgroup": "Groningen Airport Eelde",
           "marker": {
            "color": "#FFA15A",
            "pattern": {
             "shape": ""
            }
           },
           "name": "Groningen Airport Eelde",
           "offsetgroup": "Groningen Airport Eelde",
           "orientation": "h",
           "showlegend": true,
           "textposition": "auto",
           "type": "bar",
           "x": [
            "2021 January*"
           ],
           "xaxis": "x",
           "y": [
            100
           ],
           "yaxis": "y"
          }
         ],
         "name": "2021 January*"
        },
        {
         "data": [
          {
           "alignmentgroup": "True",
           "hovertemplate": "<b>%{hovertext}</b><br><br>Airports=Amsterdam Airport Schiphol<br>Periods=%{x}<br>PC_flights=%{y}<extra></extra>",
           "hovertext": [
            -27.34897040774581
           ],
           "ids": [
            "Amsterdam Airport Schiphol"
           ],
           "legendgroup": "Amsterdam Airport Schiphol",
           "marker": {
            "color": "#636efa",
            "pattern": {
             "shape": ""
            }
           },
           "name": "Amsterdam Airport Schiphol",
           "offsetgroup": "Amsterdam Airport Schiphol",
           "orientation": "h",
           "showlegend": true,
           "textposition": "auto",
           "type": "bar",
           "x": [
            "2021 February*"
           ],
           "xaxis": "x",
           "y": [
            -27.34897040774581
           ],
           "yaxis": "y"
          },
          {
           "alignmentgroup": "True",
           "hovertemplate": "<b>%{hovertext}</b><br><br>Airports=Rotterdam The Hague Airport<br>Periods=%{x}<br>PC_flights=%{y}<extra></extra>",
           "hovertext": [
            -20.441988950276247
           ],
           "ids": [
            "Rotterdam The Hague Airport"
           ],
           "legendgroup": "Rotterdam The Hague Airport",
           "marker": {
            "color": "#EF553B",
            "pattern": {
             "shape": ""
            }
           },
           "name": "Rotterdam The Hague Airport",
           "offsetgroup": "Rotterdam The Hague Airport",
           "orientation": "h",
           "showlegend": true,
           "textposition": "auto",
           "type": "bar",
           "x": [
            "2021 February*"
           ],
           "xaxis": "x",
           "y": [
            -20.441988950276247
           ],
           "yaxis": "y"
          },
          {
           "alignmentgroup": "True",
           "hovertemplate": "<b>%{hovertext}</b><br><br>Airports=Eindhoven Airport<br>Periods=%{x}<br>PC_flights=%{y}<extra></extra>",
           "hovertext": [
            -70.45454545454545
           ],
           "ids": [
            "Eindhoven Airport"
           ],
           "legendgroup": "Eindhoven Airport",
           "marker": {
            "color": "#00cc96",
            "pattern": {
             "shape": ""
            }
           },
           "name": "Eindhoven Airport",
           "offsetgroup": "Eindhoven Airport",
           "orientation": "h",
           "showlegend": true,
           "textposition": "auto",
           "type": "bar",
           "x": [
            "2021 February*"
           ],
           "xaxis": "x",
           "y": [
            -70.45454545454545
           ],
           "yaxis": "y"
          },
          {
           "alignmentgroup": "True",
           "hovertemplate": "<b>%{hovertext}</b><br><br>Airports=Maastricht Aachen Airport<br>Periods=%{x}<br>PC_flights=%{y}<extra></extra>",
           "hovertext": [
            14.743589743589736
           ],
           "ids": [
            "Maastricht Aachen Airport"
           ],
           "legendgroup": "Maastricht Aachen Airport",
           "marker": {
            "color": "#ab63fa",
            "pattern": {
             "shape": ""
            }
           },
           "name": "Maastricht Aachen Airport",
           "offsetgroup": "Maastricht Aachen Airport",
           "orientation": "h",
           "showlegend": true,
           "textposition": "auto",
           "type": "bar",
           "x": [
            "2021 February*"
           ],
           "xaxis": "x",
           "y": [
            14.743589743589736
           ],
           "yaxis": "y"
          },
          {
           "alignmentgroup": "True",
           "hovertemplate": "<b>%{hovertext}</b><br><br>Airports=Groningen Airport Eelde<br>Periods=%{x}<br>PC_flights=%{y}<extra></extra>",
           "hovertext": [
            14.999999999999991
           ],
           "ids": [
            "Groningen Airport Eelde"
           ],
           "legendgroup": "Groningen Airport Eelde",
           "marker": {
            "color": "#FFA15A",
            "pattern": {
             "shape": ""
            }
           },
           "name": "Groningen Airport Eelde",
           "offsetgroup": "Groningen Airport Eelde",
           "orientation": "h",
           "showlegend": true,
           "textposition": "auto",
           "type": "bar",
           "x": [
            "2021 February*"
           ],
           "xaxis": "x",
           "y": [
            14.999999999999991
           ],
           "yaxis": "y"
          }
         ],
         "name": "2021 February*"
        },
        {
         "data": [
          {
           "alignmentgroup": "True",
           "hovertemplate": "<b>%{hovertext}</b><br><br>Airports=Amsterdam Airport Schiphol<br>Periods=%{x}<br>PC_flights=%{y}<extra></extra>",
           "hovertext": [
            14.659784138901921
           ],
           "ids": [
            "Amsterdam Airport Schiphol"
           ],
           "legendgroup": "Amsterdam Airport Schiphol",
           "marker": {
            "color": "#636efa",
            "pattern": {
             "shape": ""
            }
           },
           "name": "Amsterdam Airport Schiphol",
           "offsetgroup": "Amsterdam Airport Schiphol",
           "orientation": "h",
           "showlegend": true,
           "textposition": "auto",
           "type": "bar",
           "x": [
            "2021 March*"
           ],
           "xaxis": "x",
           "y": [
            14.659784138901921
           ],
           "yaxis": "y"
          },
          {
           "alignmentgroup": "True",
           "hovertemplate": "<b>%{hovertext}</b><br><br>Airports=Rotterdam The Hague Airport<br>Periods=%{x}<br>PC_flights=%{y}<extra></extra>",
           "hovertext": [
            28.472222222222232
           ],
           "ids": [
            "Rotterdam The Hague Airport"
           ],
           "legendgroup": "Rotterdam The Hague Airport",
           "marker": {
            "color": "#EF553B",
            "pattern": {
             "shape": ""
            }
           },
           "name": "Rotterdam The Hague Airport",
           "offsetgroup": "Rotterdam The Hague Airport",
           "orientation": "h",
           "showlegend": true,
           "textposition": "auto",
           "type": "bar",
           "x": [
            "2021 March*"
           ],
           "xaxis": "x",
           "y": [
            28.472222222222232
           ],
           "yaxis": "y"
          },
          {
           "alignmentgroup": "True",
           "hovertemplate": "<b>%{hovertext}</b><br><br>Airports=Eindhoven Airport<br>Periods=%{x}<br>PC_flights=%{y}<extra></extra>",
           "hovertext": [
            33.72781065088757
           ],
           "ids": [
            "Eindhoven Airport"
           ],
           "legendgroup": "Eindhoven Airport",
           "marker": {
            "color": "#00cc96",
            "pattern": {
             "shape": ""
            }
           },
           "name": "Eindhoven Airport",
           "offsetgroup": "Eindhoven Airport",
           "orientation": "h",
           "showlegend": true,
           "textposition": "auto",
           "type": "bar",
           "x": [
            "2021 March*"
           ],
           "xaxis": "x",
           "y": [
            33.72781065088757
           ],
           "yaxis": "y"
          },
          {
           "alignmentgroup": "True",
           "hovertemplate": "<b>%{hovertext}</b><br><br>Airports=Maastricht Aachen Airport<br>Periods=%{x}<br>PC_flights=%{y}<extra></extra>",
           "hovertext": [
            4.283054003724396
           ],
           "ids": [
            "Maastricht Aachen Airport"
           ],
           "legendgroup": "Maastricht Aachen Airport",
           "marker": {
            "color": "#ab63fa",
            "pattern": {
             "shape": ""
            }
           },
           "name": "Maastricht Aachen Airport",
           "offsetgroup": "Maastricht Aachen Airport",
           "orientation": "h",
           "showlegend": true,
           "textposition": "auto",
           "type": "bar",
           "x": [
            "2021 March*"
           ],
           "xaxis": "x",
           "y": [
            4.283054003724396
           ],
           "yaxis": "y"
          },
          {
           "alignmentgroup": "True",
           "hovertemplate": "<b>%{hovertext}</b><br><br>Airports=Groningen Airport Eelde<br>Periods=%{x}<br>PC_flights=%{y}<extra></extra>",
           "hovertext": [
            73.91304347826086
           ],
           "ids": [
            "Groningen Airport Eelde"
           ],
           "legendgroup": "Groningen Airport Eelde",
           "marker": {
            "color": "#FFA15A",
            "pattern": {
             "shape": ""
            }
           },
           "name": "Groningen Airport Eelde",
           "offsetgroup": "Groningen Airport Eelde",
           "orientation": "h",
           "showlegend": true,
           "textposition": "auto",
           "type": "bar",
           "x": [
            "2021 March*"
           ],
           "xaxis": "x",
           "y": [
            73.91304347826086
           ],
           "yaxis": "y"
          }
         ],
         "name": "2021 March*"
        },
        {
         "data": [
          {
           "alignmentgroup": "True",
           "hovertemplate": "<b>%{hovertext}</b><br><br>Airports=Amsterdam Airport Schiphol<br>Periods=%{x}<br>PC_flights=%{y}<extra></extra>",
           "hovertext": [
            12.30252926250306
           ],
           "ids": [
            "Amsterdam Airport Schiphol"
           ],
           "legendgroup": "Amsterdam Airport Schiphol",
           "marker": {
            "color": "#636efa",
            "pattern": {
             "shape": ""
            }
           },
           "name": "Amsterdam Airport Schiphol",
           "offsetgroup": "Amsterdam Airport Schiphol",
           "orientation": "h",
           "showlegend": true,
           "textposition": "auto",
           "type": "bar",
           "x": [
            "2021 April*"
           ],
           "xaxis": "x",
           "y": [
            12.30252926250306
           ],
           "yaxis": "y"
          },
          {
           "alignmentgroup": "True",
           "hovertemplate": "<b>%{hovertext}</b><br><br>Airports=Rotterdam The Hague Airport<br>Periods=%{x}<br>PC_flights=%{y}<extra></extra>",
           "hovertext": [
            5.405405405405395
           ],
           "ids": [
            "Rotterdam The Hague Airport"
           ],
           "legendgroup": "Rotterdam The Hague Airport",
           "marker": {
            "color": "#EF553B",
            "pattern": {
             "shape": ""
            }
           },
           "name": "Rotterdam The Hague Airport",
           "offsetgroup": "Rotterdam The Hague Airport",
           "orientation": "h",
           "showlegend": true,
           "textposition": "auto",
           "type": "bar",
           "x": [
            "2021 April*"
           ],
           "xaxis": "x",
           "y": [
            5.405405405405395
           ],
           "yaxis": "y"
          },
          {
           "alignmentgroup": "True",
           "hovertemplate": "<b>%{hovertext}</b><br><br>Airports=Eindhoven Airport<br>Periods=%{x}<br>PC_flights=%{y}<extra></extra>",
           "hovertext": [
            65.04424778761062
           ],
           "ids": [
            "Eindhoven Airport"
           ],
           "legendgroup": "Eindhoven Airport",
           "marker": {
            "color": "#00cc96",
            "pattern": {
             "shape": ""
            }
           },
           "name": "Eindhoven Airport",
           "offsetgroup": "Eindhoven Airport",
           "orientation": "h",
           "showlegend": true,
           "textposition": "auto",
           "type": "bar",
           "x": [
            "2021 April*"
           ],
           "xaxis": "x",
           "y": [
            65.04424778761062
           ],
           "yaxis": "y"
          },
          {
           "alignmentgroup": "True",
           "hovertemplate": "<b>%{hovertext}</b><br><br>Airports=Maastricht Aachen Airport<br>Periods=%{x}<br>PC_flights=%{y}<extra></extra>",
           "hovertext": [
            0.5357142857142838
           ],
           "ids": [
            "Maastricht Aachen Airport"
           ],
           "legendgroup": "Maastricht Aachen Airport",
           "marker": {
            "color": "#ab63fa",
            "pattern": {
             "shape": ""
            }
           },
           "name": "Maastricht Aachen Airport",
           "offsetgroup": "Maastricht Aachen Airport",
           "orientation": "h",
           "showlegend": true,
           "textposition": "auto",
           "type": "bar",
           "x": [
            "2021 April*"
           ],
           "xaxis": "x",
           "y": [
            0.5357142857142838
           ],
           "yaxis": "y"
          },
          {
           "alignmentgroup": "True",
           "hovertemplate": "<b>%{hovertext}</b><br><br>Airports=Groningen Airport Eelde<br>Periods=%{x}<br>PC_flights=%{y}<extra></extra>",
           "hovertext": [
            0
           ],
           "ids": [
            "Groningen Airport Eelde"
           ],
           "legendgroup": "Groningen Airport Eelde",
           "marker": {
            "color": "#FFA15A",
            "pattern": {
             "shape": ""
            }
           },
           "name": "Groningen Airport Eelde",
           "offsetgroup": "Groningen Airport Eelde",
           "orientation": "h",
           "showlegend": true,
           "textposition": "auto",
           "type": "bar",
           "x": [
            "2021 April*"
           ],
           "xaxis": "x",
           "y": [
            0
           ],
           "yaxis": "y"
          }
         ],
         "name": "2021 April*"
        },
        {
         "data": [
          {
           "alignmentgroup": "True",
           "hovertemplate": "<b>%{hovertext}</b><br><br>Airports=Amsterdam Airport Schiphol<br>Periods=%{x}<br>PC_flights=%{y}<extra></extra>",
           "hovertext": [
            13.527696793002919
           ],
           "ids": [
            "Amsterdam Airport Schiphol"
           ],
           "legendgroup": "Amsterdam Airport Schiphol",
           "marker": {
            "color": "#636efa",
            "pattern": {
             "shape": ""
            }
           },
           "name": "Amsterdam Airport Schiphol",
           "offsetgroup": "Amsterdam Airport Schiphol",
           "orientation": "h",
           "showlegend": true,
           "textposition": "auto",
           "type": "bar",
           "x": [
            "2021 May*"
           ],
           "xaxis": "x",
           "y": [
            13.527696793002919
           ],
           "yaxis": "y"
          },
          {
           "alignmentgroup": "True",
           "hovertemplate": "<b>%{hovertext}</b><br><br>Airports=Rotterdam The Hague Airport<br>Periods=%{x}<br>PC_flights=%{y}<extra></extra>",
           "hovertext": [
            36.92307692307693
           ],
           "ids": [
            "Rotterdam The Hague Airport"
           ],
           "legendgroup": "Rotterdam The Hague Airport",
           "marker": {
            "color": "#EF553B",
            "pattern": {
             "shape": ""
            }
           },
           "name": "Rotterdam The Hague Airport",
           "offsetgroup": "Rotterdam The Hague Airport",
           "orientation": "h",
           "showlegend": true,
           "textposition": "auto",
           "type": "bar",
           "x": [
            "2021 May*"
           ],
           "xaxis": "x",
           "y": [
            36.92307692307693
           ],
           "yaxis": "y"
          },
          {
           "alignmentgroup": "True",
           "hovertemplate": "<b>%{hovertext}</b><br><br>Airports=Eindhoven Airport<br>Periods=%{x}<br>PC_flights=%{y}<extra></extra>",
           "hovertext": [
            50.67024128686326
           ],
           "ids": [
            "Eindhoven Airport"
           ],
           "legendgroup": "Eindhoven Airport",
           "marker": {
            "color": "#00cc96",
            "pattern": {
             "shape": ""
            }
           },
           "name": "Eindhoven Airport",
           "offsetgroup": "Eindhoven Airport",
           "orientation": "h",
           "showlegend": true,
           "textposition": "auto",
           "type": "bar",
           "x": [
            "2021 May*"
           ],
           "xaxis": "x",
           "y": [
            50.67024128686326
           ],
           "yaxis": "y"
          },
          {
           "alignmentgroup": "True",
           "hovertemplate": "<b>%{hovertext}</b><br><br>Airports=Maastricht Aachen Airport<br>Periods=%{x}<br>PC_flights=%{y}<extra></extra>",
           "hovertext": [
            -1.4209591474245165
           ],
           "ids": [
            "Maastricht Aachen Airport"
           ],
           "legendgroup": "Maastricht Aachen Airport",
           "marker": {
            "color": "#ab63fa",
            "pattern": {
             "shape": ""
            }
           },
           "name": "Maastricht Aachen Airport",
           "offsetgroup": "Maastricht Aachen Airport",
           "orientation": "h",
           "showlegend": true,
           "textposition": "auto",
           "type": "bar",
           "x": [
            "2021 May*"
           ],
           "xaxis": "x",
           "y": [
            -1.4209591474245165
           ],
           "yaxis": "y"
          },
          {
           "alignmentgroup": "True",
           "hovertemplate": "<b>%{hovertext}</b><br><br>Airports=Groningen Airport Eelde<br>Periods=%{x}<br>PC_flights=%{y}<extra></extra>",
           "hovertext": [
            -32.49999999999999
           ],
           "ids": [
            "Groningen Airport Eelde"
           ],
           "legendgroup": "Groningen Airport Eelde",
           "marker": {
            "color": "#FFA15A",
            "pattern": {
             "shape": ""
            }
           },
           "name": "Groningen Airport Eelde",
           "offsetgroup": "Groningen Airport Eelde",
           "orientation": "h",
           "showlegend": true,
           "textposition": "auto",
           "type": "bar",
           "x": [
            "2021 May*"
           ],
           "xaxis": "x",
           "y": [
            -32.49999999999999
           ],
           "yaxis": "y"
          }
         ],
         "name": "2021 May*"
        },
        {
         "data": [
          {
           "alignmentgroup": "True",
           "hovertemplate": "<b>%{hovertext}</b><br><br>Airports=Amsterdam Airport Schiphol<br>Periods=%{x}<br>PC_flights=%{y}<extra></extra>",
           "hovertext": [
            23.23446327683616
           ],
           "ids": [
            "Amsterdam Airport Schiphol"
           ],
           "legendgroup": "Amsterdam Airport Schiphol",
           "marker": {
            "color": "#636efa",
            "pattern": {
             "shape": ""
            }
           },
           "name": "Amsterdam Airport Schiphol",
           "offsetgroup": "Amsterdam Airport Schiphol",
           "orientation": "h",
           "showlegend": true,
           "textposition": "auto",
           "type": "bar",
           "x": [
            "2021 June*"
           ],
           "xaxis": "x",
           "y": [
            23.23446327683616
           ],
           "yaxis": "y"
          },
          {
           "alignmentgroup": "True",
           "hovertemplate": "<b>%{hovertext}</b><br><br>Airports=Rotterdam The Hague Airport<br>Periods=%{x}<br>PC_flights=%{y}<extra></extra>",
           "hovertext": [
            116.85393258426969
           ],
           "ids": [
            "Rotterdam The Hague Airport"
           ],
           "legendgroup": "Rotterdam The Hague Airport",
           "marker": {
            "color": "#EF553B",
            "pattern": {
             "shape": ""
            }
           },
           "name": "Rotterdam The Hague Airport",
           "offsetgroup": "Rotterdam The Hague Airport",
           "orientation": "h",
           "showlegend": true,
           "textposition": "auto",
           "type": "bar",
           "x": [
            "2021 June*"
           ],
           "xaxis": "x",
           "y": [
            116.85393258426969
           ],
           "yaxis": "y"
          },
          {
           "alignmentgroup": "True",
           "hovertemplate": "<b>%{hovertext}</b><br><br>Airports=Eindhoven Airport<br>Periods=%{x}<br>PC_flights=%{y}<extra></extra>",
           "hovertext": [
            154.09252669039145
           ],
           "ids": [
            "Eindhoven Airport"
           ],
           "legendgroup": "Eindhoven Airport",
           "marker": {
            "color": "#00cc96",
            "pattern": {
             "shape": ""
            }
           },
           "name": "Eindhoven Airport",
           "offsetgroup": "Eindhoven Airport",
           "orientation": "h",
           "showlegend": true,
           "textposition": "auto",
           "type": "bar",
           "x": [
            "2021 June*"
           ],
           "xaxis": "x",
           "y": [
            154.09252669039145
           ],
           "yaxis": "y"
          },
          {
           "alignmentgroup": "True",
           "hovertemplate": "<b>%{hovertext}</b><br><br>Airports=Maastricht Aachen Airport<br>Periods=%{x}<br>PC_flights=%{y}<extra></extra>",
           "hovertext": [
            -17.117117117117118
           ],
           "ids": [
            "Maastricht Aachen Airport"
           ],
           "legendgroup": "Maastricht Aachen Airport",
           "marker": {
            "color": "#ab63fa",
            "pattern": {
             "shape": ""
            }
           },
           "name": "Maastricht Aachen Airport",
           "offsetgroup": "Maastricht Aachen Airport",
           "orientation": "h",
           "showlegend": true,
           "textposition": "auto",
           "type": "bar",
           "x": [
            "2021 June*"
           ],
           "xaxis": "x",
           "y": [
            -17.117117117117118
           ],
           "yaxis": "y"
          },
          {
           "alignmentgroup": "True",
           "hovertemplate": "<b>%{hovertext}</b><br><br>Airports=Groningen Airport Eelde<br>Periods=%{x}<br>PC_flights=%{y}<extra></extra>",
           "hovertext": [
            44.44444444444444
           ],
           "ids": [
            "Groningen Airport Eelde"
           ],
           "legendgroup": "Groningen Airport Eelde",
           "marker": {
            "color": "#FFA15A",
            "pattern": {
             "shape": ""
            }
           },
           "name": "Groningen Airport Eelde",
           "offsetgroup": "Groningen Airport Eelde",
           "orientation": "h",
           "showlegend": true,
           "textposition": "auto",
           "type": "bar",
           "x": [
            "2021 June*"
           ],
           "xaxis": "x",
           "y": [
            44.44444444444444
           ],
           "yaxis": "y"
          }
         ],
         "name": "2021 June*"
        },
        {
         "data": [
          {
           "alignmentgroup": "True",
           "hovertemplate": "<b>%{hovertext}</b><br><br>Airports=Amsterdam Airport Schiphol<br>Periods=%{x}<br>PC_flights=%{y}<extra></extra>",
           "hovertext": [
            51.815576973170096
           ],
           "ids": [
            "Amsterdam Airport Schiphol"
           ],
           "legendgroup": "Amsterdam Airport Schiphol",
           "marker": {
            "color": "#636efa",
            "pattern": {
             "shape": ""
            }
           },
           "name": "Amsterdam Airport Schiphol",
           "offsetgroup": "Amsterdam Airport Schiphol",
           "orientation": "h",
           "showlegend": true,
           "textposition": "auto",
           "type": "bar",
           "x": [
            "2021 July*"
           ],
           "xaxis": "x",
           "y": [
            51.815576973170096
           ],
           "yaxis": "y"
          },
          {
           "alignmentgroup": "True",
           "hovertemplate": "<b>%{hovertext}</b><br><br>Airports=Rotterdam The Hague Airport<br>Periods=%{x}<br>PC_flights=%{y}<extra></extra>",
           "hovertext": [
            126.59758203799653
           ],
           "ids": [
            "Rotterdam The Hague Airport"
           ],
           "legendgroup": "Rotterdam The Hague Airport",
           "marker": {
            "color": "#EF553B",
            "pattern": {
             "shape": ""
            }
           },
           "name": "Rotterdam The Hague Airport",
           "offsetgroup": "Rotterdam The Hague Airport",
           "orientation": "h",
           "showlegend": true,
           "textposition": "auto",
           "type": "bar",
           "x": [
            "2021 July*"
           ],
           "xaxis": "x",
           "y": [
            126.59758203799653
           ],
           "yaxis": "y"
          },
          {
           "alignmentgroup": "True",
           "hovertemplate": "<b>%{hovertext}</b><br><br>Airports=Eindhoven Airport<br>Periods=%{x}<br>PC_flights=%{y}<extra></extra>",
           "hovertext": [
            94.6078431372549
           ],
           "ids": [
            "Eindhoven Airport"
           ],
           "legendgroup": "Eindhoven Airport",
           "marker": {
            "color": "#00cc96",
            "pattern": {
             "shape": ""
            }
           },
           "name": "Eindhoven Airport",
           "offsetgroup": "Eindhoven Airport",
           "orientation": "h",
           "showlegend": true,
           "textposition": "auto",
           "type": "bar",
           "x": [
            "2021 July*"
           ],
           "xaxis": "x",
           "y": [
            94.6078431372549
           ],
           "yaxis": "y"
          },
          {
           "alignmentgroup": "True",
           "hovertemplate": "<b>%{hovertext}</b><br><br>Airports=Maastricht Aachen Airport<br>Periods=%{x}<br>PC_flights=%{y}<extra></extra>",
           "hovertext": [
            26.7391304347826
           ],
           "ids": [
            "Maastricht Aachen Airport"
           ],
           "legendgroup": "Maastricht Aachen Airport",
           "marker": {
            "color": "#ab63fa",
            "pattern": {
             "shape": ""
            }
           },
           "name": "Maastricht Aachen Airport",
           "offsetgroup": "Maastricht Aachen Airport",
           "orientation": "h",
           "showlegend": true,
           "textposition": "auto",
           "type": "bar",
           "x": [
            "2021 July*"
           ],
           "xaxis": "x",
           "y": [
            26.7391304347826
           ],
           "yaxis": "y"
          },
          {
           "alignmentgroup": "True",
           "hovertemplate": "<b>%{hovertext}</b><br><br>Airports=Groningen Airport Eelde<br>Periods=%{x}<br>PC_flights=%{y}<extra></extra>",
           "hovertext": [
            158.97435897435898
           ],
           "ids": [
            "Groningen Airport Eelde"
           ],
           "legendgroup": "Groningen Airport Eelde",
           "marker": {
            "color": "#FFA15A",
            "pattern": {
             "shape": ""
            }
           },
           "name": "Groningen Airport Eelde",
           "offsetgroup": "Groningen Airport Eelde",
           "orientation": "h",
           "showlegend": true,
           "textposition": "auto",
           "type": "bar",
           "x": [
            "2021 July*"
           ],
           "xaxis": "x",
           "y": [
            158.97435897435898
           ],
           "yaxis": "y"
          }
         ],
         "name": "2021 July*"
        },
        {
         "data": [
          {
           "alignmentgroup": "True",
           "hovertemplate": "<b>%{hovertext}</b><br><br>Airports=Amsterdam Airport Schiphol<br>Periods=%{x}<br>PC_flights=%{y}<extra></extra>",
           "hovertext": [
            9.285885865275723
           ],
           "ids": [
            "Amsterdam Airport Schiphol"
           ],
           "legendgroup": "Amsterdam Airport Schiphol",
           "marker": {
            "color": "#636efa",
            "pattern": {
             "shape": ""
            }
           },
           "name": "Amsterdam Airport Schiphol",
           "offsetgroup": "Amsterdam Airport Schiphol",
           "orientation": "h",
           "showlegend": true,
           "textposition": "auto",
           "type": "bar",
           "x": [
            "2021 August*"
           ],
           "xaxis": "x",
           "y": [
            9.285885865275723
           ],
           "yaxis": "y"
          },
          {
           "alignmentgroup": "True",
           "hovertemplate": "<b>%{hovertext}</b><br><br>Airports=Rotterdam The Hague Airport<br>Periods=%{x}<br>PC_flights=%{y}<extra></extra>",
           "hovertext": [
            15.54878048780488
           ],
           "ids": [
            "Rotterdam The Hague Airport"
           ],
           "legendgroup": "Rotterdam The Hague Airport",
           "marker": {
            "color": "#EF553B",
            "pattern": {
             "shape": ""
            }
           },
           "name": "Rotterdam The Hague Airport",
           "offsetgroup": "Rotterdam The Hague Airport",
           "orientation": "h",
           "showlegend": true,
           "textposition": "auto",
           "type": "bar",
           "x": [
            "2021 August*"
           ],
           "xaxis": "x",
           "y": [
            15.54878048780488
           ],
           "yaxis": "y"
          },
          {
           "alignmentgroup": "True",
           "hovertemplate": "<b>%{hovertext}</b><br><br>Airports=Eindhoven Airport<br>Periods=%{x}<br>PC_flights=%{y}<extra></extra>",
           "hovertext": [
            16.76862180640517
           ],
           "ids": [
            "Eindhoven Airport"
           ],
           "legendgroup": "Eindhoven Airport",
           "marker": {
            "color": "#00cc96",
            "pattern": {
             "shape": ""
            }
           },
           "name": "Eindhoven Airport",
           "offsetgroup": "Eindhoven Airport",
           "orientation": "h",
           "showlegend": true,
           "textposition": "auto",
           "type": "bar",
           "x": [
            "2021 August*"
           ],
           "xaxis": "x",
           "y": [
            16.76862180640517
           ],
           "yaxis": "y"
          },
          {
           "alignmentgroup": "True",
           "hovertemplate": "<b>%{hovertext}</b><br><br>Airports=Maastricht Aachen Airport<br>Periods=%{x}<br>PC_flights=%{y}<extra></extra>",
           "hovertext": [
            2.9159519725557415
           ],
           "ids": [
            "Maastricht Aachen Airport"
           ],
           "legendgroup": "Maastricht Aachen Airport",
           "marker": {
            "color": "#ab63fa",
            "pattern": {
             "shape": ""
            }
           },
           "name": "Maastricht Aachen Airport",
           "offsetgroup": "Maastricht Aachen Airport",
           "orientation": "h",
           "showlegend": true,
           "textposition": "auto",
           "type": "bar",
           "x": [
            "2021 August*"
           ],
           "xaxis": "x",
           "y": [
            2.9159519725557415
           ],
           "yaxis": "y"
          },
          {
           "alignmentgroup": "True",
           "hovertemplate": "<b>%{hovertext}</b><br><br>Airports=Groningen Airport Eelde<br>Periods=%{x}<br>PC_flights=%{y}<extra></extra>",
           "hovertext": [
            -26.732673267326735
           ],
           "ids": [
            "Groningen Airport Eelde"
           ],
           "legendgroup": "Groningen Airport Eelde",
           "marker": {
            "color": "#FFA15A",
            "pattern": {
             "shape": ""
            }
           },
           "name": "Groningen Airport Eelde",
           "offsetgroup": "Groningen Airport Eelde",
           "orientation": "h",
           "showlegend": true,
           "textposition": "auto",
           "type": "bar",
           "x": [
            "2021 August*"
           ],
           "xaxis": "x",
           "y": [
            -26.732673267326735
           ],
           "yaxis": "y"
          }
         ],
         "name": "2021 August*"
        },
        {
         "data": [
          {
           "alignmentgroup": "True",
           "hovertemplate": "<b>%{hovertext}</b><br><br>Airports=Amsterdam Airport Schiphol<br>Periods=%{x}<br>PC_flights=%{y}<extra></extra>",
           "hovertext": [
            -5.739944107765249
           ],
           "ids": [
            "Amsterdam Airport Schiphol"
           ],
           "legendgroup": "Amsterdam Airport Schiphol",
           "marker": {
            "color": "#636efa",
            "pattern": {
             "shape": ""
            }
           },
           "name": "Amsterdam Airport Schiphol",
           "offsetgroup": "Amsterdam Airport Schiphol",
           "orientation": "h",
           "showlegend": true,
           "textposition": "auto",
           "type": "bar",
           "x": [
            "2021 September*"
           ],
           "xaxis": "x",
           "y": [
            -5.739944107765249
           ],
           "yaxis": "y"
          },
          {
           "alignmentgroup": "True",
           "hovertemplate": "<b>%{hovertext}</b><br><br>Airports=Rotterdam The Hague Airport<br>Periods=%{x}<br>PC_flights=%{y}<extra></extra>",
           "hovertext": [
            -6.992084432717682
           ],
           "ids": [
            "Rotterdam The Hague Airport"
           ],
           "legendgroup": "Rotterdam The Hague Airport",
           "marker": {
            "color": "#EF553B",
            "pattern": {
             "shape": ""
            }
           },
           "name": "Rotterdam The Hague Airport",
           "offsetgroup": "Rotterdam The Hague Airport",
           "orientation": "h",
           "showlegend": true,
           "textposition": "auto",
           "type": "bar",
           "x": [
            "2021 September*"
           ],
           "xaxis": "x",
           "y": [
            -6.992084432717682
           ],
           "yaxis": "y"
          },
          {
           "alignmentgroup": "True",
           "hovertemplate": "<b>%{hovertext}</b><br><br>Airports=Eindhoven Airport<br>Periods=%{x}<br>PC_flights=%{y}<extra></extra>",
           "hovertext": [
            -4.098613251155625
           ],
           "ids": [
            "Eindhoven Airport"
           ],
           "legendgroup": "Eindhoven Airport",
           "marker": {
            "color": "#00cc96",
            "pattern": {
             "shape": ""
            }
           },
           "name": "Eindhoven Airport",
           "offsetgroup": "Eindhoven Airport",
           "orientation": "h",
           "showlegend": true,
           "textposition": "auto",
           "type": "bar",
           "x": [
            "2021 September*"
           ],
           "xaxis": "x",
           "y": [
            -4.098613251155625
           ],
           "yaxis": "y"
          },
          {
           "alignmentgroup": "True",
           "hovertemplate": "<b>%{hovertext}</b><br><br>Airports=Maastricht Aachen Airport<br>Periods=%{x}<br>PC_flights=%{y}<extra></extra>",
           "hovertext": [
            3.833333333333333
           ],
           "ids": [
            "Maastricht Aachen Airport"
           ],
           "legendgroup": "Maastricht Aachen Airport",
           "marker": {
            "color": "#ab63fa",
            "pattern": {
             "shape": ""
            }
           },
           "name": "Maastricht Aachen Airport",
           "offsetgroup": "Maastricht Aachen Airport",
           "orientation": "h",
           "showlegend": true,
           "textposition": "auto",
           "type": "bar",
           "x": [
            "2021 September*"
           ],
           "xaxis": "x",
           "y": [
            3.833333333333333
           ],
           "yaxis": "y"
          },
          {
           "alignmentgroup": "True",
           "hovertemplate": "<b>%{hovertext}</b><br><br>Airports=Groningen Airport Eelde<br>Periods=%{x}<br>PC_flights=%{y}<extra></extra>",
           "hovertext": [
            32.432432432432435
           ],
           "ids": [
            "Groningen Airport Eelde"
           ],
           "legendgroup": "Groningen Airport Eelde",
           "marker": {
            "color": "#FFA15A",
            "pattern": {
             "shape": ""
            }
           },
           "name": "Groningen Airport Eelde",
           "offsetgroup": "Groningen Airport Eelde",
           "orientation": "h",
           "showlegend": true,
           "textposition": "auto",
           "type": "bar",
           "x": [
            "2021 September*"
           ],
           "xaxis": "x",
           "y": [
            32.432432432432435
           ],
           "yaxis": "y"
          }
         ],
         "name": "2021 September*"
        },
        {
         "data": [
          {
           "alignmentgroup": "True",
           "hovertemplate": "<b>%{hovertext}</b><br><br>Airports=Amsterdam Airport Schiphol<br>Periods=%{x}<br>PC_flights=%{y}<extra></extra>",
           "hovertext": [
            4.347246743728972
           ],
           "ids": [
            "Amsterdam Airport Schiphol"
           ],
           "legendgroup": "Amsterdam Airport Schiphol",
           "marker": {
            "color": "#636efa",
            "pattern": {
             "shape": ""
            }
           },
           "name": "Amsterdam Airport Schiphol",
           "offsetgroup": "Amsterdam Airport Schiphol",
           "orientation": "h",
           "showlegend": true,
           "textposition": "auto",
           "type": "bar",
           "x": [
            "2021 October*"
           ],
           "xaxis": "x",
           "y": [
            4.347246743728972
           ],
           "yaxis": "y"
          },
          {
           "alignmentgroup": "True",
           "hovertemplate": "<b>%{hovertext}</b><br><br>Airports=Rotterdam The Hague Airport<br>Periods=%{x}<br>PC_flights=%{y}<extra></extra>",
           "hovertext": [
            -7.588652482269509
           ],
           "ids": [
            "Rotterdam The Hague Airport"
           ],
           "legendgroup": "Rotterdam The Hague Airport",
           "marker": {
            "color": "#EF553B",
            "pattern": {
             "shape": ""
            }
           },
           "name": "Rotterdam The Hague Airport",
           "offsetgroup": "Rotterdam The Hague Airport",
           "orientation": "h",
           "showlegend": true,
           "textposition": "auto",
           "type": "bar",
           "x": [
            "2021 October*"
           ],
           "xaxis": "x",
           "y": [
            -7.588652482269509
           ],
           "yaxis": "y"
          },
          {
           "alignmentgroup": "True",
           "hovertemplate": "<b>%{hovertext}</b><br><br>Airports=Eindhoven Airport<br>Periods=%{x}<br>PC_flights=%{y}<extra></extra>",
           "hovertext": [
            -0.4820051413881754
           ],
           "ids": [
            "Eindhoven Airport"
           ],
           "legendgroup": "Eindhoven Airport",
           "marker": {
            "color": "#00cc96",
            "pattern": {
             "shape": ""
            }
           },
           "name": "Eindhoven Airport",
           "offsetgroup": "Eindhoven Airport",
           "orientation": "h",
           "showlegend": true,
           "textposition": "auto",
           "type": "bar",
           "x": [
            "2021 October*"
           ],
           "xaxis": "x",
           "y": [
            -0.4820051413881754
           ],
           "yaxis": "y"
          },
          {
           "alignmentgroup": "True",
           "hovertemplate": "<b>%{hovertext}</b><br><br>Airports=Maastricht Aachen Airport<br>Periods=%{x}<br>PC_flights=%{y}<extra></extra>",
           "hovertext": [
            5.296950240770459
           ],
           "ids": [
            "Maastricht Aachen Airport"
           ],
           "legendgroup": "Maastricht Aachen Airport",
           "marker": {
            "color": "#ab63fa",
            "pattern": {
             "shape": ""
            }
           },
           "name": "Maastricht Aachen Airport",
           "offsetgroup": "Maastricht Aachen Airport",
           "orientation": "h",
           "showlegend": true,
           "textposition": "auto",
           "type": "bar",
           "x": [
            "2021 October*"
           ],
           "xaxis": "x",
           "y": [
            5.296950240770459
           ],
           "yaxis": "y"
          },
          {
           "alignmentgroup": "True",
           "hovertemplate": "<b>%{hovertext}</b><br><br>Airports=Groningen Airport Eelde<br>Periods=%{x}<br>PC_flights=%{y}<extra></extra>",
           "hovertext": [
            -13.265306122448983
           ],
           "ids": [
            "Groningen Airport Eelde"
           ],
           "legendgroup": "Groningen Airport Eelde",
           "marker": {
            "color": "#FFA15A",
            "pattern": {
             "shape": ""
            }
           },
           "name": "Groningen Airport Eelde",
           "offsetgroup": "Groningen Airport Eelde",
           "orientation": "h",
           "showlegend": true,
           "textposition": "auto",
           "type": "bar",
           "x": [
            "2021 October*"
           ],
           "xaxis": "x",
           "y": [
            -13.265306122448983
           ],
           "yaxis": "y"
          }
         ],
         "name": "2021 October*"
        },
        {
         "data": [
          {
           "alignmentgroup": "True",
           "hovertemplate": "<b>%{hovertext}</b><br><br>Airports=Amsterdam Airport Schiphol<br>Periods=%{x}<br>PC_flights=%{y}<extra></extra>",
           "hovertext": [
            -9.427276209934876
           ],
           "ids": [
            "Amsterdam Airport Schiphol"
           ],
           "legendgroup": "Amsterdam Airport Schiphol",
           "marker": {
            "color": "#636efa",
            "pattern": {
             "shape": ""
            }
           },
           "name": "Amsterdam Airport Schiphol",
           "offsetgroup": "Amsterdam Airport Schiphol",
           "orientation": "h",
           "showlegend": true,
           "textposition": "auto",
           "type": "bar",
           "x": [
            "2021 November*"
           ],
           "xaxis": "x",
           "y": [
            -9.427276209934876
           ],
           "yaxis": "y"
          },
          {
           "alignmentgroup": "True",
           "hovertemplate": "<b>%{hovertext}</b><br><br>Airports=Rotterdam The Hague Airport<br>Periods=%{x}<br>PC_flights=%{y}<extra></extra>",
           "hovertext": [
            -48.273215656178046
           ],
           "ids": [
            "Rotterdam The Hague Airport"
           ],
           "legendgroup": "Rotterdam The Hague Airport",
           "marker": {
            "color": "#EF553B",
            "pattern": {
             "shape": ""
            }
           },
           "name": "Rotterdam The Hague Airport",
           "offsetgroup": "Rotterdam The Hague Airport",
           "orientation": "h",
           "showlegend": true,
           "textposition": "auto",
           "type": "bar",
           "x": [
            "2021 November*"
           ],
           "xaxis": "x",
           "y": [
            -48.273215656178046
           ],
           "yaxis": "y"
          },
          {
           "alignmentgroup": "True",
           "hovertemplate": "<b>%{hovertext}</b><br><br>Airports=Eindhoven Airport<br>Periods=%{x}<br>PC_flights=%{y}<extra></extra>",
           "hovertext": [
            -22.82854375201808
           ],
           "ids": [
            "Eindhoven Airport"
           ],
           "legendgroup": "Eindhoven Airport",
           "marker": {
            "color": "#00cc96",
            "pattern": {
             "shape": ""
            }
           },
           "name": "Eindhoven Airport",
           "offsetgroup": "Eindhoven Airport",
           "orientation": "h",
           "showlegend": true,
           "textposition": "auto",
           "type": "bar",
           "x": [
            "2021 November*"
           ],
           "xaxis": "x",
           "y": [
            -22.82854375201808
           ],
           "yaxis": "y"
          },
          {
           "alignmentgroup": "True",
           "hovertemplate": "<b>%{hovertext}</b><br><br>Airports=Maastricht Aachen Airport<br>Periods=%{x}<br>PC_flights=%{y}<extra></extra>",
           "hovertext": [
            -20.27439024390244
           ],
           "ids": [
            "Maastricht Aachen Airport"
           ],
           "legendgroup": "Maastricht Aachen Airport",
           "marker": {
            "color": "#ab63fa",
            "pattern": {
             "shape": ""
            }
           },
           "name": "Maastricht Aachen Airport",
           "offsetgroup": "Maastricht Aachen Airport",
           "orientation": "h",
           "showlegend": true,
           "textposition": "auto",
           "type": "bar",
           "x": [
            "2021 November*"
           ],
           "xaxis": "x",
           "y": [
            -20.27439024390244
           ],
           "yaxis": "y"
          },
          {
           "alignmentgroup": "True",
           "hovertemplate": "<b>%{hovertext}</b><br><br>Airports=Groningen Airport Eelde<br>Periods=%{x}<br>PC_flights=%{y}<extra></extra>",
           "hovertext": [
            -19.999999999999996
           ],
           "ids": [
            "Groningen Airport Eelde"
           ],
           "legendgroup": "Groningen Airport Eelde",
           "marker": {
            "color": "#FFA15A",
            "pattern": {
             "shape": ""
            }
           },
           "name": "Groningen Airport Eelde",
           "offsetgroup": "Groningen Airport Eelde",
           "orientation": "h",
           "showlegend": true,
           "textposition": "auto",
           "type": "bar",
           "x": [
            "2021 November*"
           ],
           "xaxis": "x",
           "y": [
            -19.999999999999996
           ],
           "yaxis": "y"
          }
         ],
         "name": "2021 November*"
        },
        {
         "data": [
          {
           "alignmentgroup": "True",
           "hovertemplate": "<b>%{hovertext}</b><br><br>Airports=Amsterdam Airport Schiphol<br>Periods=%{x}<br>PC_flights=%{y}<extra></extra>",
           "hovertext": [
            6.534841916041034
           ],
           "ids": [
            "Amsterdam Airport Schiphol"
           ],
           "legendgroup": "Amsterdam Airport Schiphol",
           "marker": {
            "color": "#636efa",
            "pattern": {
             "shape": ""
            }
           },
           "name": "Amsterdam Airport Schiphol",
           "offsetgroup": "Amsterdam Airport Schiphol",
           "orientation": "h",
           "showlegend": true,
           "textposition": "auto",
           "type": "bar",
           "x": [
            "2021 December*"
           ],
           "xaxis": "x",
           "y": [
            6.534841916041034
           ],
           "yaxis": "y"
          },
          {
           "alignmentgroup": "True",
           "hovertemplate": "<b>%{hovertext}</b><br><br>Airports=Rotterdam The Hague Airport<br>Periods=%{x}<br>PC_flights=%{y}<extra></extra>",
           "hovertext": [
            -19.732937685459937
           ],
           "ids": [
            "Rotterdam The Hague Airport"
           ],
           "legendgroup": "Rotterdam The Hague Airport",
           "marker": {
            "color": "#EF553B",
            "pattern": {
             "shape": ""
            }
           },
           "name": "Rotterdam The Hague Airport",
           "offsetgroup": "Rotterdam The Hague Airport",
           "orientation": "h",
           "showlegend": true,
           "textposition": "auto",
           "type": "bar",
           "x": [
            "2021 December*"
           ],
           "xaxis": "x",
           "y": [
            -19.732937685459937
           ],
           "yaxis": "y"
          },
          {
           "alignmentgroup": "True",
           "hovertemplate": "<b>%{hovertext}</b><br><br>Airports=Eindhoven Airport<br>Periods=%{x}<br>PC_flights=%{y}<extra></extra>",
           "hovertext": [
            7.573221757322179
           ],
           "ids": [
            "Eindhoven Airport"
           ],
           "legendgroup": "Eindhoven Airport",
           "marker": {
            "color": "#00cc96",
            "pattern": {
             "shape": ""
            }
           },
           "name": "Eindhoven Airport",
           "offsetgroup": "Eindhoven Airport",
           "orientation": "h",
           "showlegend": true,
           "textposition": "auto",
           "type": "bar",
           "x": [
            "2021 December*"
           ],
           "xaxis": "x",
           "y": [
            7.573221757322179
           ],
           "yaxis": "y"
          },
          {
           "alignmentgroup": "True",
           "hovertemplate": "<b>%{hovertext}</b><br><br>Airports=Maastricht Aachen Airport<br>Periods=%{x}<br>PC_flights=%{y}<extra></extra>",
           "hovertext": [
            -9.560229445506696
           ],
           "ids": [
            "Maastricht Aachen Airport"
           ],
           "legendgroup": "Maastricht Aachen Airport",
           "marker": {
            "color": "#ab63fa",
            "pattern": {
             "shape": ""
            }
           },
           "name": "Maastricht Aachen Airport",
           "offsetgroup": "Maastricht Aachen Airport",
           "orientation": "h",
           "showlegend": true,
           "textposition": "auto",
           "type": "bar",
           "x": [
            "2021 December*"
           ],
           "xaxis": "x",
           "y": [
            -9.560229445506696
           ],
           "yaxis": "y"
          },
          {
           "alignmentgroup": "True",
           "hovertemplate": "<b>%{hovertext}</b><br><br>Airports=Groningen Airport Eelde<br>Periods=%{x}<br>PC_flights=%{y}<extra></extra>",
           "hovertext": [
            -13.235294117647056
           ],
           "ids": [
            "Groningen Airport Eelde"
           ],
           "legendgroup": "Groningen Airport Eelde",
           "marker": {
            "color": "#FFA15A",
            "pattern": {
             "shape": ""
            }
           },
           "name": "Groningen Airport Eelde",
           "offsetgroup": "Groningen Airport Eelde",
           "orientation": "h",
           "showlegend": true,
           "textposition": "auto",
           "type": "bar",
           "x": [
            "2021 December*"
           ],
           "xaxis": "x",
           "y": [
            -13.235294117647056
           ],
           "yaxis": "y"
          }
         ],
         "name": "2021 December*"
        },
        {
         "data": [
          {
           "alignmentgroup": "True",
           "hovertemplate": "<b>%{hovertext}</b><br><br>Airports=Amsterdam Airport Schiphol<br>Periods=%{x}<br>PC_flights=%{y}<extra></extra>",
           "hovertext": [
            -13.214226633581472
           ],
           "ids": [
            "Amsterdam Airport Schiphol"
           ],
           "legendgroup": "Amsterdam Airport Schiphol",
           "marker": {
            "color": "#636efa",
            "pattern": {
             "shape": ""
            }
           },
           "name": "Amsterdam Airport Schiphol",
           "offsetgroup": "Amsterdam Airport Schiphol",
           "orientation": "h",
           "showlegend": true,
           "textposition": "auto",
           "type": "bar",
           "x": [
            "2022 January*"
           ],
           "xaxis": "x",
           "y": [
            -13.214226633581472
           ],
           "yaxis": "y"
          },
          {
           "alignmentgroup": "True",
           "hovertemplate": "<b>%{hovertext}</b><br><br>Airports=Rotterdam The Hague Airport<br>Periods=%{x}<br>PC_flights=%{y}<extra></extra>",
           "hovertext": [
            35.674676524953796
           ],
           "ids": [
            "Rotterdam The Hague Airport"
           ],
           "legendgroup": "Rotterdam The Hague Airport",
           "marker": {
            "color": "#EF553B",
            "pattern": {
             "shape": ""
            }
           },
           "name": "Rotterdam The Hague Airport",
           "offsetgroup": "Rotterdam The Hague Airport",
           "orientation": "h",
           "showlegend": true,
           "textposition": "auto",
           "type": "bar",
           "x": [
            "2022 January*"
           ],
           "xaxis": "x",
           "y": [
            35.674676524953796
           ],
           "yaxis": "y"
          },
          {
           "alignmentgroup": "True",
           "hovertemplate": "<b>%{hovertext}</b><br><br>Airports=Eindhoven Airport<br>Periods=%{x}<br>PC_flights=%{y}<extra></extra>",
           "hovertext": [
            -17.03617269544924
           ],
           "ids": [
            "Eindhoven Airport"
           ],
           "legendgroup": "Eindhoven Airport",
           "marker": {
            "color": "#00cc96",
            "pattern": {
             "shape": ""
            }
           },
           "name": "Eindhoven Airport",
           "offsetgroup": "Eindhoven Airport",
           "orientation": "h",
           "showlegend": true,
           "textposition": "auto",
           "type": "bar",
           "x": [
            "2022 January*"
           ],
           "xaxis": "x",
           "y": [
            -17.03617269544924
           ],
           "yaxis": "y"
          },
          {
           "alignmentgroup": "True",
           "hovertemplate": "<b>%{hovertext}</b><br><br>Airports=Maastricht Aachen Airport<br>Periods=%{x}<br>PC_flights=%{y}<extra></extra>",
           "hovertext": [
            -8.879492600422834
           ],
           "ids": [
            "Maastricht Aachen Airport"
           ],
           "legendgroup": "Maastricht Aachen Airport",
           "marker": {
            "color": "#ab63fa",
            "pattern": {
             "shape": ""
            }
           },
           "name": "Maastricht Aachen Airport",
           "offsetgroup": "Maastricht Aachen Airport",
           "orientation": "h",
           "showlegend": true,
           "textposition": "auto",
           "type": "bar",
           "x": [
            "2022 January*"
           ],
           "xaxis": "x",
           "y": [
            -8.879492600422834
           ],
           "yaxis": "y"
          },
          {
           "alignmentgroup": "True",
           "hovertemplate": "<b>%{hovertext}</b><br><br>Airports=Groningen Airport Eelde<br>Periods=%{x}<br>PC_flights=%{y}<extra></extra>",
           "hovertext": [
            27.118644067796605
           ],
           "ids": [
            "Groningen Airport Eelde"
           ],
           "legendgroup": "Groningen Airport Eelde",
           "marker": {
            "color": "#FFA15A",
            "pattern": {
             "shape": ""
            }
           },
           "name": "Groningen Airport Eelde",
           "offsetgroup": "Groningen Airport Eelde",
           "orientation": "h",
           "showlegend": true,
           "textposition": "auto",
           "type": "bar",
           "x": [
            "2022 January*"
           ],
           "xaxis": "x",
           "y": [
            27.118644067796605
           ],
           "yaxis": "y"
          }
         ],
         "name": "2022 January*"
        },
        {
         "data": [
          {
           "alignmentgroup": "True",
           "hovertemplate": "<b>%{hovertext}</b><br><br>Airports=Amsterdam Airport Schiphol<br>Periods=%{x}<br>PC_flights=%{y}<extra></extra>",
           "hovertext": [
            -8.013419236780905
           ],
           "ids": [
            "Amsterdam Airport Schiphol"
           ],
           "legendgroup": "Amsterdam Airport Schiphol",
           "marker": {
            "color": "#636efa",
            "pattern": {
             "shape": ""
            }
           },
           "name": "Amsterdam Airport Schiphol",
           "offsetgroup": "Amsterdam Airport Schiphol",
           "orientation": "h",
           "showlegend": true,
           "textposition": "auto",
           "type": "bar",
           "x": [
            "2022 February*"
           ],
           "xaxis": "x",
           "y": [
            -8.013419236780905
           ],
           "yaxis": "y"
          },
          {
           "alignmentgroup": "True",
           "hovertemplate": "<b>%{hovertext}</b><br><br>Airports=Rotterdam The Hague Airport<br>Periods=%{x}<br>PC_flights=%{y}<extra></extra>",
           "hovertext": [
            -4.768392370572205
           ],
           "ids": [
            "Rotterdam The Hague Airport"
           ],
           "legendgroup": "Rotterdam The Hague Airport",
           "marker": {
            "color": "#EF553B",
            "pattern": {
             "shape": ""
            }
           },
           "name": "Rotterdam The Hague Airport",
           "offsetgroup": "Rotterdam The Hague Airport",
           "orientation": "h",
           "showlegend": true,
           "textposition": "auto",
           "type": "bar",
           "x": [
            "2022 February*"
           ],
           "xaxis": "x",
           "y": [
            -4.768392370572205
           ],
           "yaxis": "y"
          },
          {
           "alignmentgroup": "True",
           "hovertemplate": "<b>%{hovertext}</b><br><br>Airports=Eindhoven Airport<br>Periods=%{x}<br>PC_flights=%{y}<extra></extra>",
           "hovertext": [
            0.8438818565400741
           ],
           "ids": [
            "Eindhoven Airport"
           ],
           "legendgroup": "Eindhoven Airport",
           "marker": {
            "color": "#00cc96",
            "pattern": {
             "shape": ""
            }
           },
           "name": "Eindhoven Airport",
           "offsetgroup": "Eindhoven Airport",
           "orientation": "h",
           "showlegend": true,
           "textposition": "auto",
           "type": "bar",
           "x": [
            "2022 February*"
           ],
           "xaxis": "x",
           "y": [
            0.8438818565400741
           ],
           "yaxis": "y"
          },
          {
           "alignmentgroup": "True",
           "hovertemplate": "<b>%{hovertext}</b><br><br>Airports=Maastricht Aachen Airport<br>Periods=%{x}<br>PC_flights=%{y}<extra></extra>",
           "hovertext": [
            -7.656612529002316
           ],
           "ids": [
            "Maastricht Aachen Airport"
           ],
           "legendgroup": "Maastricht Aachen Airport",
           "marker": {
            "color": "#ab63fa",
            "pattern": {
             "shape": ""
            }
           },
           "name": "Maastricht Aachen Airport",
           "offsetgroup": "Maastricht Aachen Airport",
           "orientation": "h",
           "showlegend": true,
           "textposition": "auto",
           "type": "bar",
           "x": [
            "2022 February*"
           ],
           "xaxis": "x",
           "y": [
            -7.656612529002316
           ],
           "yaxis": "y"
          },
          {
           "alignmentgroup": "True",
           "hovertemplate": "<b>%{hovertext}</b><br><br>Airports=Groningen Airport Eelde<br>Periods=%{x}<br>PC_flights=%{y}<extra></extra>",
           "hovertext": [
            5.333333333333323
           ],
           "ids": [
            "Groningen Airport Eelde"
           ],
           "legendgroup": "Groningen Airport Eelde",
           "marker": {
            "color": "#FFA15A",
            "pattern": {
             "shape": ""
            }
           },
           "name": "Groningen Airport Eelde",
           "offsetgroup": "Groningen Airport Eelde",
           "orientation": "h",
           "showlegend": true,
           "textposition": "auto",
           "type": "bar",
           "x": [
            "2022 February*"
           ],
           "xaxis": "x",
           "y": [
            5.333333333333323
           ],
           "yaxis": "y"
          }
         ],
         "name": "2022 February*"
        },
        {
         "data": [
          {
           "alignmentgroup": "True",
           "hovertemplate": "<b>%{hovertext}</b><br><br>Airports=Amsterdam Airport Schiphol<br>Periods=%{x}<br>PC_flights=%{y}<extra></extra>",
           "hovertext": [
            25.914874217746274
           ],
           "ids": [
            "Amsterdam Airport Schiphol"
           ],
           "legendgroup": "Amsterdam Airport Schiphol",
           "marker": {
            "color": "#636efa",
            "pattern": {
             "shape": ""
            }
           },
           "name": "Amsterdam Airport Schiphol",
           "offsetgroup": "Amsterdam Airport Schiphol",
           "orientation": "h",
           "showlegend": true,
           "textposition": "auto",
           "type": "bar",
           "x": [
            "2022 March*"
           ],
           "xaxis": "x",
           "y": [
            25.914874217746274
           ],
           "yaxis": "y"
          },
          {
           "alignmentgroup": "True",
           "hovertemplate": "<b>%{hovertext}</b><br><br>Airports=Rotterdam The Hague Airport<br>Periods=%{x}<br>PC_flights=%{y}<extra></extra>",
           "hovertext": [
            41.48783977110158
           ],
           "ids": [
            "Rotterdam The Hague Airport"
           ],
           "legendgroup": "Rotterdam The Hague Airport",
           "marker": {
            "color": "#EF553B",
            "pattern": {
             "shape": ""
            }
           },
           "name": "Rotterdam The Hague Airport",
           "offsetgroup": "Rotterdam The Hague Airport",
           "orientation": "h",
           "showlegend": true,
           "textposition": "auto",
           "type": "bar",
           "x": [
            "2022 March*"
           ],
           "xaxis": "x",
           "y": [
            41.48783977110158
           ],
           "yaxis": "y"
          },
          {
           "alignmentgroup": "True",
           "hovertemplate": "<b>%{hovertext}</b><br><br>Airports=Eindhoven Airport<br>Periods=%{x}<br>PC_flights=%{y}<extra></extra>",
           "hovertext": [
            25.52301255230125
           ],
           "ids": [
            "Eindhoven Airport"
           ],
           "legendgroup": "Eindhoven Airport",
           "marker": {
            "color": "#00cc96",
            "pattern": {
             "shape": ""
            }
           },
           "name": "Eindhoven Airport",
           "offsetgroup": "Eindhoven Airport",
           "orientation": "h",
           "showlegend": true,
           "textposition": "auto",
           "type": "bar",
           "x": [
            "2022 March*"
           ],
           "xaxis": "x",
           "y": [
            25.52301255230125
           ],
           "yaxis": "y"
          },
          {
           "alignmentgroup": "True",
           "hovertemplate": "<b>%{hovertext}</b><br><br>Airports=Maastricht Aachen Airport<br>Periods=%{x}<br>PC_flights=%{y}<extra></extra>",
           "hovertext": [
            9.045226130653262
           ],
           "ids": [
            "Maastricht Aachen Airport"
           ],
           "legendgroup": "Maastricht Aachen Airport",
           "marker": {
            "color": "#ab63fa",
            "pattern": {
             "shape": ""
            }
           },
           "name": "Maastricht Aachen Airport",
           "offsetgroup": "Maastricht Aachen Airport",
           "orientation": "h",
           "showlegend": true,
           "textposition": "auto",
           "type": "bar",
           "x": [
            "2022 March*"
           ],
           "xaxis": "x",
           "y": [
            9.045226130653262
           ],
           "yaxis": "y"
          },
          {
           "alignmentgroup": "True",
           "hovertemplate": "<b>%{hovertext}</b><br><br>Airports=Groningen Airport Eelde<br>Periods=%{x}<br>PC_flights=%{y}<extra></extra>",
           "hovertext": [
            -20.253164556962023
           ],
           "ids": [
            "Groningen Airport Eelde"
           ],
           "legendgroup": "Groningen Airport Eelde",
           "marker": {
            "color": "#FFA15A",
            "pattern": {
             "shape": ""
            }
           },
           "name": "Groningen Airport Eelde",
           "offsetgroup": "Groningen Airport Eelde",
           "orientation": "h",
           "showlegend": true,
           "textposition": "auto",
           "type": "bar",
           "x": [
            "2022 March*"
           ],
           "xaxis": "x",
           "y": [
            -20.253164556962023
           ],
           "yaxis": "y"
          }
         ],
         "name": "2022 March*"
        },
        {
         "data": [
          {
           "alignmentgroup": "True",
           "hovertemplate": "<b>%{hovertext}</b><br><br>Airports=Amsterdam Airport Schiphol<br>Periods=%{x}<br>PC_flights=%{y}<extra></extra>",
           "hovertext": [
            10.00263313804226
           ],
           "ids": [
            "Amsterdam Airport Schiphol"
           ],
           "legendgroup": "Amsterdam Airport Schiphol",
           "marker": {
            "color": "#636efa",
            "pattern": {
             "shape": ""
            }
           },
           "name": "Amsterdam Airport Schiphol",
           "offsetgroup": "Amsterdam Airport Schiphol",
           "orientation": "h",
           "showlegend": true,
           "textposition": "auto",
           "type": "bar",
           "x": [
            "2022 April*"
           ],
           "xaxis": "x",
           "y": [
            10.00263313804226
           ],
           "yaxis": "y"
          },
          {
           "alignmentgroup": "True",
           "hovertemplate": "<b>%{hovertext}</b><br><br>Airports=Rotterdam The Hague Airport<br>Periods=%{x}<br>PC_flights=%{y}<extra></extra>",
           "hovertext": [
            45.298281092012125
           ],
           "ids": [
            "Rotterdam The Hague Airport"
           ],
           "legendgroup": "Rotterdam The Hague Airport",
           "marker": {
            "color": "#EF553B",
            "pattern": {
             "shape": ""
            }
           },
           "name": "Rotterdam The Hague Airport",
           "offsetgroup": "Rotterdam The Hague Airport",
           "orientation": "h",
           "showlegend": true,
           "textposition": "auto",
           "type": "bar",
           "x": [
            "2022 April*"
           ],
           "xaxis": "x",
           "y": [
            45.298281092012125
           ],
           "yaxis": "y"
          },
          {
           "alignmentgroup": "True",
           "hovertemplate": "<b>%{hovertext}</b><br><br>Airports=Eindhoven Airport<br>Periods=%{x}<br>PC_flights=%{y}<extra></extra>",
           "hovertext": [
            25.555555555555554
           ],
           "ids": [
            "Eindhoven Airport"
           ],
           "legendgroup": "Eindhoven Airport",
           "marker": {
            "color": "#00cc96",
            "pattern": {
             "shape": ""
            }
           },
           "name": "Eindhoven Airport",
           "offsetgroup": "Eindhoven Airport",
           "orientation": "h",
           "showlegend": true,
           "textposition": "auto",
           "type": "bar",
           "x": [
            "2022 April*"
           ],
           "xaxis": "x",
           "y": [
            25.555555555555554
           ],
           "yaxis": "y"
          },
          {
           "alignmentgroup": "True",
           "hovertemplate": "<b>%{hovertext}</b><br><br>Airports=Maastricht Aachen Airport<br>Periods=%{x}<br>PC_flights=%{y}<extra></extra>",
           "hovertext": [
            18.433179723502313
           ],
           "ids": [
            "Maastricht Aachen Airport"
           ],
           "legendgroup": "Maastricht Aachen Airport",
           "marker": {
            "color": "#ab63fa",
            "pattern": {
             "shape": ""
            }
           },
           "name": "Maastricht Aachen Airport",
           "offsetgroup": "Maastricht Aachen Airport",
           "orientation": "h",
           "showlegend": true,
           "textposition": "auto",
           "type": "bar",
           "x": [
            "2022 April*"
           ],
           "xaxis": "x",
           "y": [
            18.433179723502313
           ],
           "yaxis": "y"
          },
          {
           "alignmentgroup": "True",
           "hovertemplate": "<b>%{hovertext}</b><br><br>Airports=Groningen Airport Eelde<br>Periods=%{x}<br>PC_flights=%{y}<extra></extra>",
           "hovertext": [
            -1.5873015873015928
           ],
           "ids": [
            "Groningen Airport Eelde"
           ],
           "legendgroup": "Groningen Airport Eelde",
           "marker": {
            "color": "#FFA15A",
            "pattern": {
             "shape": ""
            }
           },
           "name": "Groningen Airport Eelde",
           "offsetgroup": "Groningen Airport Eelde",
           "orientation": "h",
           "showlegend": true,
           "textposition": "auto",
           "type": "bar",
           "x": [
            "2022 April*"
           ],
           "xaxis": "x",
           "y": [
            -1.5873015873015928
           ],
           "yaxis": "y"
          }
         ],
         "name": "2022 April*"
        },
        {
         "data": [
          {
           "alignmentgroup": "True",
           "hovertemplate": "<b>%{hovertext}</b><br><br>Airports=Amsterdam Airport Schiphol<br>Periods=%{x}<br>PC_flights=%{y}<extra></extra>",
           "hovertext": [
            14.954669219951523
           ],
           "ids": [
            "Amsterdam Airport Schiphol"
           ],
           "legendgroup": "Amsterdam Airport Schiphol",
           "marker": {
            "color": "#636efa",
            "pattern": {
             "shape": ""
            }
           },
           "name": "Amsterdam Airport Schiphol",
           "offsetgroup": "Amsterdam Airport Schiphol",
           "orientation": "h",
           "showlegend": true,
           "textposition": "auto",
           "type": "bar",
           "x": [
            "2022 May*"
           ],
           "xaxis": "x",
           "y": [
            14.954669219951523
           ],
           "yaxis": "y"
          },
          {
           "alignmentgroup": "True",
           "hovertemplate": "<b>%{hovertext}</b><br><br>Airports=Rotterdam The Hague Airport<br>Periods=%{x}<br>PC_flights=%{y}<extra></extra>",
           "hovertext": [
            37.369519832985375
           ],
           "ids": [
            "Rotterdam The Hague Airport"
           ],
           "legendgroup": "Rotterdam The Hague Airport",
           "marker": {
            "color": "#EF553B",
            "pattern": {
             "shape": ""
            }
           },
           "name": "Rotterdam The Hague Airport",
           "offsetgroup": "Rotterdam The Hague Airport",
           "orientation": "h",
           "showlegend": true,
           "textposition": "auto",
           "type": "bar",
           "x": [
            "2022 May*"
           ],
           "xaxis": "x",
           "y": [
            37.369519832985375
           ],
           "yaxis": "y"
          },
          {
           "alignmentgroup": "True",
           "hovertemplate": "<b>%{hovertext}</b><br><br>Airports=Eindhoven Airport<br>Periods=%{x}<br>PC_flights=%{y}<extra></extra>",
           "hovertext": [
            11.15044247787611
           ],
           "ids": [
            "Eindhoven Airport"
           ],
           "legendgroup": "Eindhoven Airport",
           "marker": {
            "color": "#00cc96",
            "pattern": {
             "shape": ""
            }
           },
           "name": "Eindhoven Airport",
           "offsetgroup": "Eindhoven Airport",
           "orientation": "h",
           "showlegend": true,
           "textposition": "auto",
           "type": "bar",
           "x": [
            "2022 May*"
           ],
           "xaxis": "x",
           "y": [
            11.15044247787611
           ],
           "yaxis": "y"
          },
          {
           "alignmentgroup": "True",
           "hovertemplate": "<b>%{hovertext}</b><br><br>Airports=Maastricht Aachen Airport<br>Periods=%{x}<br>PC_flights=%{y}<extra></extra>",
           "hovertext": [
            5.447470817120625
           ],
           "ids": [
            "Maastricht Aachen Airport"
           ],
           "legendgroup": "Maastricht Aachen Airport",
           "marker": {
            "color": "#ab63fa",
            "pattern": {
             "shape": ""
            }
           },
           "name": "Maastricht Aachen Airport",
           "offsetgroup": "Maastricht Aachen Airport",
           "orientation": "h",
           "showlegend": true,
           "textposition": "auto",
           "type": "bar",
           "x": [
            "2022 May*"
           ],
           "xaxis": "x",
           "y": [
            5.447470817120625
           ],
           "yaxis": "y"
          },
          {
           "alignmentgroup": "True",
           "hovertemplate": "<b>%{hovertext}</b><br><br>Airports=Groningen Airport Eelde<br>Periods=%{x}<br>PC_flights=%{y}<extra></extra>",
           "hovertext": [
            93.5483870967742
           ],
           "ids": [
            "Groningen Airport Eelde"
           ],
           "legendgroup": "Groningen Airport Eelde",
           "marker": {
            "color": "#FFA15A",
            "pattern": {
             "shape": ""
            }
           },
           "name": "Groningen Airport Eelde",
           "offsetgroup": "Groningen Airport Eelde",
           "orientation": "h",
           "showlegend": true,
           "textposition": "auto",
           "type": "bar",
           "x": [
            "2022 May*"
           ],
           "xaxis": "x",
           "y": [
            93.5483870967742
           ],
           "yaxis": "y"
          }
         ],
         "name": "2022 May*"
        },
        {
         "data": [
          {
           "alignmentgroup": "True",
           "hovertemplate": "<b>%{hovertext}</b><br><br>Airports=Amsterdam Airport Schiphol<br>Periods=%{x}<br>PC_flights=%{y}<extra></extra>",
           "hovertext": [
            -3.9043181759025436
           ],
           "ids": [
            "Amsterdam Airport Schiphol"
           ],
           "legendgroup": "Amsterdam Airport Schiphol",
           "marker": {
            "color": "#636efa",
            "pattern": {
             "shape": ""
            }
           },
           "name": "Amsterdam Airport Schiphol",
           "offsetgroup": "Amsterdam Airport Schiphol",
           "orientation": "h",
           "showlegend": true,
           "textposition": "auto",
           "type": "bar",
           "x": [
            "2022 June*"
           ],
           "xaxis": "x",
           "y": [
            -3.9043181759025436
           ],
           "yaxis": "y"
          },
          {
           "alignmentgroup": "True",
           "hovertemplate": "<b>%{hovertext}</b><br><br>Airports=Rotterdam The Hague Airport<br>Periods=%{x}<br>PC_flights=%{y}<extra></extra>",
           "hovertext": [
            -5.876393110435663
           ],
           "ids": [
            "Rotterdam The Hague Airport"
           ],
           "legendgroup": "Rotterdam The Hague Airport",
           "marker": {
            "color": "#EF553B",
            "pattern": {
             "shape": ""
            }
           },
           "name": "Rotterdam The Hague Airport",
           "offsetgroup": "Rotterdam The Hague Airport",
           "orientation": "h",
           "showlegend": true,
           "textposition": "auto",
           "type": "bar",
           "x": [
            "2022 June*"
           ],
           "xaxis": "x",
           "y": [
            -5.876393110435663
           ],
           "yaxis": "y"
          },
          {
           "alignmentgroup": "True",
           "hovertemplate": "<b>%{hovertext}</b><br><br>Airports=Eindhoven Airport<br>Periods=%{x}<br>PC_flights=%{y}<extra></extra>",
           "hovertext": [
            -1.1677282377919318
           ],
           "ids": [
            "Eindhoven Airport"
           ],
           "legendgroup": "Eindhoven Airport",
           "marker": {
            "color": "#00cc96",
            "pattern": {
             "shape": ""
            }
           },
           "name": "Eindhoven Airport",
           "offsetgroup": "Eindhoven Airport",
           "orientation": "h",
           "showlegend": true,
           "textposition": "auto",
           "type": "bar",
           "x": [
            "2022 June*"
           ],
           "xaxis": "x",
           "y": [
            -1.1677282377919318
           ],
           "yaxis": "y"
          },
          {
           "alignmentgroup": "True",
           "hovertemplate": "<b>%{hovertext}</b><br><br>Airports=Maastricht Aachen Airport<br>Periods=%{x}<br>PC_flights=%{y}<extra></extra>",
           "hovertext": [
            10.516605166051662
           ],
           "ids": [
            "Maastricht Aachen Airport"
           ],
           "legendgroup": "Maastricht Aachen Airport",
           "marker": {
            "color": "#ab63fa",
            "pattern": {
             "shape": ""
            }
           },
           "name": "Maastricht Aachen Airport",
           "offsetgroup": "Maastricht Aachen Airport",
           "orientation": "h",
           "showlegend": true,
           "textposition": "auto",
           "type": "bar",
           "x": [
            "2022 June*"
           ],
           "xaxis": "x",
           "y": [
            10.516605166051662
           ],
           "yaxis": "y"
          },
          {
           "alignmentgroup": "True",
           "hovertemplate": "<b>%{hovertext}</b><br><br>Airports=Groningen Airport Eelde<br>Periods=%{x}<br>PC_flights=%{y}<extra></extra>",
           "hovertext": [
            23.33333333333334
           ],
           "ids": [
            "Groningen Airport Eelde"
           ],
           "legendgroup": "Groningen Airport Eelde",
           "marker": {
            "color": "#FFA15A",
            "pattern": {
             "shape": ""
            }
           },
           "name": "Groningen Airport Eelde",
           "offsetgroup": "Groningen Airport Eelde",
           "orientation": "h",
           "showlegend": true,
           "textposition": "auto",
           "type": "bar",
           "x": [
            "2022 June*"
           ],
           "xaxis": "x",
           "y": [
            23.33333333333334
           ],
           "yaxis": "y"
          }
         ],
         "name": "2022 June*"
        },
        {
         "data": [
          {
           "alignmentgroup": "True",
           "hovertemplate": "<b>%{hovertext}</b><br><br>Airports=Amsterdam Airport Schiphol<br>Periods=%{x}<br>PC_flights=%{y}<extra></extra>",
           "hovertext": [
            -2.489233186164308
           ],
           "ids": [
            "Amsterdam Airport Schiphol"
           ],
           "legendgroup": "Amsterdam Airport Schiphol",
           "marker": {
            "color": "#636efa",
            "pattern": {
             "shape": ""
            }
           },
           "name": "Amsterdam Airport Schiphol",
           "offsetgroup": "Amsterdam Airport Schiphol",
           "orientation": "h",
           "showlegend": true,
           "textposition": "auto",
           "type": "bar",
           "x": [
            "2022 July*"
           ],
           "xaxis": "x",
           "y": [
            -2.489233186164308
           ],
           "yaxis": "y"
          },
          {
           "alignmentgroup": "True",
           "hovertemplate": "<b>%{hovertext}</b><br><br>Airports=Rotterdam The Hague Airport<br>Periods=%{x}<br>PC_flights=%{y}<extra></extra>",
           "hovertext": [
            32.669537136706126
           ],
           "ids": [
            "Rotterdam The Hague Airport"
           ],
           "legendgroup": "Rotterdam The Hague Airport",
           "marker": {
            "color": "#EF553B",
            "pattern": {
             "shape": ""
            }
           },
           "name": "Rotterdam The Hague Airport",
           "offsetgroup": "Rotterdam The Hague Airport",
           "orientation": "h",
           "showlegend": true,
           "textposition": "auto",
           "type": "bar",
           "x": [
            "2022 July*"
           ],
           "xaxis": "x",
           "y": [
            32.669537136706126
           ],
           "yaxis": "y"
          },
          {
           "alignmentgroup": "True",
           "hovertemplate": "<b>%{hovertext}</b><br><br>Airports=Eindhoven Airport<br>Periods=%{x}<br>PC_flights=%{y}<extra></extra>",
           "hovertext": [
            4.967776584317929
           ],
           "ids": [
            "Eindhoven Airport"
           ],
           "legendgroup": "Eindhoven Airport",
           "marker": {
            "color": "#00cc96",
            "pattern": {
             "shape": ""
            }
           },
           "name": "Eindhoven Airport",
           "offsetgroup": "Eindhoven Airport",
           "orientation": "h",
           "showlegend": true,
           "textposition": "auto",
           "type": "bar",
           "x": [
            "2022 July*"
           ],
           "xaxis": "x",
           "y": [
            4.967776584317929
           ],
           "yaxis": "y"
          },
          {
           "alignmentgroup": "True",
           "hovertemplate": "<b>%{hovertext}</b><br><br>Airports=Maastricht Aachen Airport<br>Periods=%{x}<br>PC_flights=%{y}<extra></extra>",
           "hovertext": [
            18.864774624373947
           ],
           "ids": [
            "Maastricht Aachen Airport"
           ],
           "legendgroup": "Maastricht Aachen Airport",
           "marker": {
            "color": "#ab63fa",
            "pattern": {
             "shape": ""
            }
           },
           "name": "Maastricht Aachen Airport",
           "offsetgroup": "Maastricht Aachen Airport",
           "orientation": "h",
           "showlegend": true,
           "textposition": "auto",
           "type": "bar",
           "x": [
            "2022 July*"
           ],
           "xaxis": "x",
           "y": [
            18.864774624373947
           ],
           "yaxis": "y"
          },
          {
           "alignmentgroup": "True",
           "hovertemplate": "<b>%{hovertext}</b><br><br>Airports=Groningen Airport Eelde<br>Periods=%{x}<br>PC_flights=%{y}<extra></extra>",
           "hovertext": [
            -10.81081081081081
           ],
           "ids": [
            "Groningen Airport Eelde"
           ],
           "legendgroup": "Groningen Airport Eelde",
           "marker": {
            "color": "#FFA15A",
            "pattern": {
             "shape": ""
            }
           },
           "name": "Groningen Airport Eelde",
           "offsetgroup": "Groningen Airport Eelde",
           "orientation": "h",
           "showlegend": true,
           "textposition": "auto",
           "type": "bar",
           "x": [
            "2022 July*"
           ],
           "xaxis": "x",
           "y": [
            -10.81081081081081
           ],
           "yaxis": "y"
          }
         ],
         "name": "2022 July*"
        },
        {
         "data": [
          {
           "alignmentgroup": "True",
           "hovertemplate": "<b>%{hovertext}</b><br><br>Airports=Amsterdam Airport Schiphol<br>Periods=%{x}<br>PC_flights=%{y}<extra></extra>",
           "hovertext": [
            4.805555555555552
           ],
           "ids": [
            "Amsterdam Airport Schiphol"
           ],
           "legendgroup": "Amsterdam Airport Schiphol",
           "marker": {
            "color": "#636efa",
            "pattern": {
             "shape": ""
            }
           },
           "name": "Amsterdam Airport Schiphol",
           "offsetgroup": "Amsterdam Airport Schiphol",
           "orientation": "h",
           "showlegend": true,
           "textposition": "auto",
           "type": "bar",
           "x": [
            "2022 August*"
           ],
           "xaxis": "x",
           "y": [
            4.805555555555552
           ],
           "yaxis": "y"
          },
          {
           "alignmentgroup": "True",
           "hovertemplate": "<b>%{hovertext}</b><br><br>Airports=Rotterdam The Hague Airport<br>Periods=%{x}<br>PC_flights=%{y}<extra></extra>",
           "hovertext": [
            -4.543610547667343
           ],
           "ids": [
            "Rotterdam The Hague Airport"
           ],
           "legendgroup": "Rotterdam The Hague Airport",
           "marker": {
            "color": "#EF553B",
            "pattern": {
             "shape": ""
            }
           },
           "name": "Rotterdam The Hague Airport",
           "offsetgroup": "Rotterdam The Hague Airport",
           "orientation": "h",
           "showlegend": true,
           "textposition": "auto",
           "type": "bar",
           "x": [
            "2022 August*"
           ],
           "xaxis": "x",
           "y": [
            -4.543610547667343
           ],
           "yaxis": "y"
          },
          {
           "alignmentgroup": "True",
           "hovertemplate": "<b>%{hovertext}</b><br><br>Airports=Eindhoven Airport<br>Periods=%{x}<br>PC_flights=%{y}<extra></extra>",
           "hovertext": [
            0.9976976208748933
           ],
           "ids": [
            "Eindhoven Airport"
           ],
           "legendgroup": "Eindhoven Airport",
           "marker": {
            "color": "#00cc96",
            "pattern": {
             "shape": ""
            }
           },
           "name": "Eindhoven Airport",
           "offsetgroup": "Eindhoven Airport",
           "orientation": "h",
           "showlegend": true,
           "textposition": "auto",
           "type": "bar",
           "x": [
            "2022 August*"
           ],
           "xaxis": "x",
           "y": [
            0.9976976208748933
           ],
           "yaxis": "y"
          },
          {
           "alignmentgroup": "True",
           "hovertemplate": "<b>%{hovertext}</b><br><br>Airports=Maastricht Aachen Airport<br>Periods=%{x}<br>PC_flights=%{y}<extra></extra>",
           "hovertext": [
            -2.2471910112359605
           ],
           "ids": [
            "Maastricht Aachen Airport"
           ],
           "legendgroup": "Maastricht Aachen Airport",
           "marker": {
            "color": "#ab63fa",
            "pattern": {
             "shape": ""
            }
           },
           "name": "Maastricht Aachen Airport",
           "offsetgroup": "Maastricht Aachen Airport",
           "orientation": "h",
           "showlegend": true,
           "textposition": "auto",
           "type": "bar",
           "x": [
            "2022 August*"
           ],
           "xaxis": "x",
           "y": [
            -2.2471910112359605
           ],
           "yaxis": "y"
          },
          {
           "alignmentgroup": "True",
           "hovertemplate": "<b>%{hovertext}</b><br><br>Airports=Groningen Airport Eelde<br>Periods=%{x}<br>PC_flights=%{y}<extra></extra>",
           "hovertext": [
            2.2727272727272707
           ],
           "ids": [
            "Groningen Airport Eelde"
           ],
           "legendgroup": "Groningen Airport Eelde",
           "marker": {
            "color": "#FFA15A",
            "pattern": {
             "shape": ""
            }
           },
           "name": "Groningen Airport Eelde",
           "offsetgroup": "Groningen Airport Eelde",
           "orientation": "h",
           "showlegend": true,
           "textposition": "auto",
           "type": "bar",
           "x": [
            "2022 August*"
           ],
           "xaxis": "x",
           "y": [
            2.2727272727272707
           ],
           "yaxis": "y"
          }
         ],
         "name": "2022 August*"
        }
       ],
       "layout": {
        "barmode": "relative",
        "legend": {
         "title": {
          "text": "Airports"
         },
         "tracegroupgap": 0
        },
        "margin": {
         "t": 60
        },
        "sliders": [
         {
          "active": 0,
          "currentvalue": {
           "prefix": "Periods="
          },
          "len": 0.9,
          "pad": {
           "b": 10,
           "t": 60
          },
          "steps": [
           {
            "args": [
             [
              "2020 January*"
             ],
             {
              "frame": {
               "duration": 0,
               "redraw": true
              },
              "fromcurrent": true,
              "mode": "immediate",
              "transition": {
               "duration": 0,
               "easing": "linear"
              }
             }
            ],
            "label": "2020 January*",
            "method": "animate"
           },
           {
            "args": [
             [
              "2020 February*"
             ],
             {
              "frame": {
               "duration": 0,
               "redraw": true
              },
              "fromcurrent": true,
              "mode": "immediate",
              "transition": {
               "duration": 0,
               "easing": "linear"
              }
             }
            ],
            "label": "2020 February*",
            "method": "animate"
           },
           {
            "args": [
             [
              "2020 March*"
             ],
             {
              "frame": {
               "duration": 0,
               "redraw": true
              },
              "fromcurrent": true,
              "mode": "immediate",
              "transition": {
               "duration": 0,
               "easing": "linear"
              }
             }
            ],
            "label": "2020 March*",
            "method": "animate"
           },
           {
            "args": [
             [
              "2020 April*"
             ],
             {
              "frame": {
               "duration": 0,
               "redraw": true
              },
              "fromcurrent": true,
              "mode": "immediate",
              "transition": {
               "duration": 0,
               "easing": "linear"
              }
             }
            ],
            "label": "2020 April*",
            "method": "animate"
           },
           {
            "args": [
             [
              "2020 May*"
             ],
             {
              "frame": {
               "duration": 0,
               "redraw": true
              },
              "fromcurrent": true,
              "mode": "immediate",
              "transition": {
               "duration": 0,
               "easing": "linear"
              }
             }
            ],
            "label": "2020 May*",
            "method": "animate"
           },
           {
            "args": [
             [
              "2020 June*"
             ],
             {
              "frame": {
               "duration": 0,
               "redraw": true
              },
              "fromcurrent": true,
              "mode": "immediate",
              "transition": {
               "duration": 0,
               "easing": "linear"
              }
             }
            ],
            "label": "2020 June*",
            "method": "animate"
           },
           {
            "args": [
             [
              "2020 July*"
             ],
             {
              "frame": {
               "duration": 0,
               "redraw": true
              },
              "fromcurrent": true,
              "mode": "immediate",
              "transition": {
               "duration": 0,
               "easing": "linear"
              }
             }
            ],
            "label": "2020 July*",
            "method": "animate"
           },
           {
            "args": [
             [
              "2020 August*"
             ],
             {
              "frame": {
               "duration": 0,
               "redraw": true
              },
              "fromcurrent": true,
              "mode": "immediate",
              "transition": {
               "duration": 0,
               "easing": "linear"
              }
             }
            ],
            "label": "2020 August*",
            "method": "animate"
           },
           {
            "args": [
             [
              "2020 September*"
             ],
             {
              "frame": {
               "duration": 0,
               "redraw": true
              },
              "fromcurrent": true,
              "mode": "immediate",
              "transition": {
               "duration": 0,
               "easing": "linear"
              }
             }
            ],
            "label": "2020 September*",
            "method": "animate"
           },
           {
            "args": [
             [
              "2020 October*"
             ],
             {
              "frame": {
               "duration": 0,
               "redraw": true
              },
              "fromcurrent": true,
              "mode": "immediate",
              "transition": {
               "duration": 0,
               "easing": "linear"
              }
             }
            ],
            "label": "2020 October*",
            "method": "animate"
           },
           {
            "args": [
             [
              "2020 November*"
             ],
             {
              "frame": {
               "duration": 0,
               "redraw": true
              },
              "fromcurrent": true,
              "mode": "immediate",
              "transition": {
               "duration": 0,
               "easing": "linear"
              }
             }
            ],
            "label": "2020 November*",
            "method": "animate"
           },
           {
            "args": [
             [
              "2020 December*"
             ],
             {
              "frame": {
               "duration": 0,
               "redraw": true
              },
              "fromcurrent": true,
              "mode": "immediate",
              "transition": {
               "duration": 0,
               "easing": "linear"
              }
             }
            ],
            "label": "2020 December*",
            "method": "animate"
           },
           {
            "args": [
             [
              "2021 January*"
             ],
             {
              "frame": {
               "duration": 0,
               "redraw": true
              },
              "fromcurrent": true,
              "mode": "immediate",
              "transition": {
               "duration": 0,
               "easing": "linear"
              }
             }
            ],
            "label": "2021 January*",
            "method": "animate"
           },
           {
            "args": [
             [
              "2021 February*"
             ],
             {
              "frame": {
               "duration": 0,
               "redraw": true
              },
              "fromcurrent": true,
              "mode": "immediate",
              "transition": {
               "duration": 0,
               "easing": "linear"
              }
             }
            ],
            "label": "2021 February*",
            "method": "animate"
           },
           {
            "args": [
             [
              "2021 March*"
             ],
             {
              "frame": {
               "duration": 0,
               "redraw": true
              },
              "fromcurrent": true,
              "mode": "immediate",
              "transition": {
               "duration": 0,
               "easing": "linear"
              }
             }
            ],
            "label": "2021 March*",
            "method": "animate"
           },
           {
            "args": [
             [
              "2021 April*"
             ],
             {
              "frame": {
               "duration": 0,
               "redraw": true
              },
              "fromcurrent": true,
              "mode": "immediate",
              "transition": {
               "duration": 0,
               "easing": "linear"
              }
             }
            ],
            "label": "2021 April*",
            "method": "animate"
           },
           {
            "args": [
             [
              "2021 May*"
             ],
             {
              "frame": {
               "duration": 0,
               "redraw": true
              },
              "fromcurrent": true,
              "mode": "immediate",
              "transition": {
               "duration": 0,
               "easing": "linear"
              }
             }
            ],
            "label": "2021 May*",
            "method": "animate"
           },
           {
            "args": [
             [
              "2021 June*"
             ],
             {
              "frame": {
               "duration": 0,
               "redraw": true
              },
              "fromcurrent": true,
              "mode": "immediate",
              "transition": {
               "duration": 0,
               "easing": "linear"
              }
             }
            ],
            "label": "2021 June*",
            "method": "animate"
           },
           {
            "args": [
             [
              "2021 July*"
             ],
             {
              "frame": {
               "duration": 0,
               "redraw": true
              },
              "fromcurrent": true,
              "mode": "immediate",
              "transition": {
               "duration": 0,
               "easing": "linear"
              }
             }
            ],
            "label": "2021 July*",
            "method": "animate"
           },
           {
            "args": [
             [
              "2021 August*"
             ],
             {
              "frame": {
               "duration": 0,
               "redraw": true
              },
              "fromcurrent": true,
              "mode": "immediate",
              "transition": {
               "duration": 0,
               "easing": "linear"
              }
             }
            ],
            "label": "2021 August*",
            "method": "animate"
           },
           {
            "args": [
             [
              "2021 September*"
             ],
             {
              "frame": {
               "duration": 0,
               "redraw": true
              },
              "fromcurrent": true,
              "mode": "immediate",
              "transition": {
               "duration": 0,
               "easing": "linear"
              }
             }
            ],
            "label": "2021 September*",
            "method": "animate"
           },
           {
            "args": [
             [
              "2021 October*"
             ],
             {
              "frame": {
               "duration": 0,
               "redraw": true
              },
              "fromcurrent": true,
              "mode": "immediate",
              "transition": {
               "duration": 0,
               "easing": "linear"
              }
             }
            ],
            "label": "2021 October*",
            "method": "animate"
           },
           {
            "args": [
             [
              "2021 November*"
             ],
             {
              "frame": {
               "duration": 0,
               "redraw": true
              },
              "fromcurrent": true,
              "mode": "immediate",
              "transition": {
               "duration": 0,
               "easing": "linear"
              }
             }
            ],
            "label": "2021 November*",
            "method": "animate"
           },
           {
            "args": [
             [
              "2021 December*"
             ],
             {
              "frame": {
               "duration": 0,
               "redraw": true
              },
              "fromcurrent": true,
              "mode": "immediate",
              "transition": {
               "duration": 0,
               "easing": "linear"
              }
             }
            ],
            "label": "2021 December*",
            "method": "animate"
           },
           {
            "args": [
             [
              "2022 January*"
             ],
             {
              "frame": {
               "duration": 0,
               "redraw": true
              },
              "fromcurrent": true,
              "mode": "immediate",
              "transition": {
               "duration": 0,
               "easing": "linear"
              }
             }
            ],
            "label": "2022 January*",
            "method": "animate"
           },
           {
            "args": [
             [
              "2022 February*"
             ],
             {
              "frame": {
               "duration": 0,
               "redraw": true
              },
              "fromcurrent": true,
              "mode": "immediate",
              "transition": {
               "duration": 0,
               "easing": "linear"
              }
             }
            ],
            "label": "2022 February*",
            "method": "animate"
           },
           {
            "args": [
             [
              "2022 March*"
             ],
             {
              "frame": {
               "duration": 0,
               "redraw": true
              },
              "fromcurrent": true,
              "mode": "immediate",
              "transition": {
               "duration": 0,
               "easing": "linear"
              }
             }
            ],
            "label": "2022 March*",
            "method": "animate"
           },
           {
            "args": [
             [
              "2022 April*"
             ],
             {
              "frame": {
               "duration": 0,
               "redraw": true
              },
              "fromcurrent": true,
              "mode": "immediate",
              "transition": {
               "duration": 0,
               "easing": "linear"
              }
             }
            ],
            "label": "2022 April*",
            "method": "animate"
           },
           {
            "args": [
             [
              "2022 May*"
             ],
             {
              "frame": {
               "duration": 0,
               "redraw": true
              },
              "fromcurrent": true,
              "mode": "immediate",
              "transition": {
               "duration": 0,
               "easing": "linear"
              }
             }
            ],
            "label": "2022 May*",
            "method": "animate"
           },
           {
            "args": [
             [
              "2022 June*"
             ],
             {
              "frame": {
               "duration": 0,
               "redraw": true
              },
              "fromcurrent": true,
              "mode": "immediate",
              "transition": {
               "duration": 0,
               "easing": "linear"
              }
             }
            ],
            "label": "2022 June*",
            "method": "animate"
           },
           {
            "args": [
             [
              "2022 July*"
             ],
             {
              "frame": {
               "duration": 0,
               "redraw": true
              },
              "fromcurrent": true,
              "mode": "immediate",
              "transition": {
               "duration": 0,
               "easing": "linear"
              }
             }
            ],
            "label": "2022 July*",
            "method": "animate"
           },
           {
            "args": [
             [
              "2022 August*"
             ],
             {
              "frame": {
               "duration": 0,
               "redraw": true
              },
              "fromcurrent": true,
              "mode": "immediate",
              "transition": {
               "duration": 0,
               "easing": "linear"
              }
             }
            ],
            "label": "2022 August*",
            "method": "animate"
           }
          ],
          "x": 0.1,
          "xanchor": "left",
          "y": 0,
          "yanchor": "top"
         }
        ],
        "template": {
         "data": {
          "bar": [
           {
            "error_x": {
             "color": "#2a3f5f"
            },
            "error_y": {
             "color": "#2a3f5f"
            },
            "marker": {
             "line": {
              "color": "#E5ECF6",
              "width": 0.5
             },
             "pattern": {
              "fillmode": "overlay",
              "size": 10,
              "solidity": 0.2
             }
            },
            "type": "bar"
           }
          ],
          "barpolar": [
           {
            "marker": {
             "line": {
              "color": "#E5ECF6",
              "width": 0.5
             },
             "pattern": {
              "fillmode": "overlay",
              "size": 10,
              "solidity": 0.2
             }
            },
            "type": "barpolar"
           }
          ],
          "carpet": [
           {
            "aaxis": {
             "endlinecolor": "#2a3f5f",
             "gridcolor": "white",
             "linecolor": "white",
             "minorgridcolor": "white",
             "startlinecolor": "#2a3f5f"
            },
            "baxis": {
             "endlinecolor": "#2a3f5f",
             "gridcolor": "white",
             "linecolor": "white",
             "minorgridcolor": "white",
             "startlinecolor": "#2a3f5f"
            },
            "type": "carpet"
           }
          ],
          "choropleth": [
           {
            "colorbar": {
             "outlinewidth": 0,
             "ticks": ""
            },
            "type": "choropleth"
           }
          ],
          "contour": [
           {
            "colorbar": {
             "outlinewidth": 0,
             "ticks": ""
            },
            "colorscale": [
             [
              0,
              "#0d0887"
             ],
             [
              0.1111111111111111,
              "#46039f"
             ],
             [
              0.2222222222222222,
              "#7201a8"
             ],
             [
              0.3333333333333333,
              "#9c179e"
             ],
             [
              0.4444444444444444,
              "#bd3786"
             ],
             [
              0.5555555555555556,
              "#d8576b"
             ],
             [
              0.6666666666666666,
              "#ed7953"
             ],
             [
              0.7777777777777778,
              "#fb9f3a"
             ],
             [
              0.8888888888888888,
              "#fdca26"
             ],
             [
              1,
              "#f0f921"
             ]
            ],
            "type": "contour"
           }
          ],
          "contourcarpet": [
           {
            "colorbar": {
             "outlinewidth": 0,
             "ticks": ""
            },
            "type": "contourcarpet"
           }
          ],
          "heatmap": [
           {
            "colorbar": {
             "outlinewidth": 0,
             "ticks": ""
            },
            "colorscale": [
             [
              0,
              "#0d0887"
             ],
             [
              0.1111111111111111,
              "#46039f"
             ],
             [
              0.2222222222222222,
              "#7201a8"
             ],
             [
              0.3333333333333333,
              "#9c179e"
             ],
             [
              0.4444444444444444,
              "#bd3786"
             ],
             [
              0.5555555555555556,
              "#d8576b"
             ],
             [
              0.6666666666666666,
              "#ed7953"
             ],
             [
              0.7777777777777778,
              "#fb9f3a"
             ],
             [
              0.8888888888888888,
              "#fdca26"
             ],
             [
              1,
              "#f0f921"
             ]
            ],
            "type": "heatmap"
           }
          ],
          "heatmapgl": [
           {
            "colorbar": {
             "outlinewidth": 0,
             "ticks": ""
            },
            "colorscale": [
             [
              0,
              "#0d0887"
             ],
             [
              0.1111111111111111,
              "#46039f"
             ],
             [
              0.2222222222222222,
              "#7201a8"
             ],
             [
              0.3333333333333333,
              "#9c179e"
             ],
             [
              0.4444444444444444,
              "#bd3786"
             ],
             [
              0.5555555555555556,
              "#d8576b"
             ],
             [
              0.6666666666666666,
              "#ed7953"
             ],
             [
              0.7777777777777778,
              "#fb9f3a"
             ],
             [
              0.8888888888888888,
              "#fdca26"
             ],
             [
              1,
              "#f0f921"
             ]
            ],
            "type": "heatmapgl"
           }
          ],
          "histogram": [
           {
            "marker": {
             "pattern": {
              "fillmode": "overlay",
              "size": 10,
              "solidity": 0.2
             }
            },
            "type": "histogram"
           }
          ],
          "histogram2d": [
           {
            "colorbar": {
             "outlinewidth": 0,
             "ticks": ""
            },
            "colorscale": [
             [
              0,
              "#0d0887"
             ],
             [
              0.1111111111111111,
              "#46039f"
             ],
             [
              0.2222222222222222,
              "#7201a8"
             ],
             [
              0.3333333333333333,
              "#9c179e"
             ],
             [
              0.4444444444444444,
              "#bd3786"
             ],
             [
              0.5555555555555556,
              "#d8576b"
             ],
             [
              0.6666666666666666,
              "#ed7953"
             ],
             [
              0.7777777777777778,
              "#fb9f3a"
             ],
             [
              0.8888888888888888,
              "#fdca26"
             ],
             [
              1,
              "#f0f921"
             ]
            ],
            "type": "histogram2d"
           }
          ],
          "histogram2dcontour": [
           {
            "colorbar": {
             "outlinewidth": 0,
             "ticks": ""
            },
            "colorscale": [
             [
              0,
              "#0d0887"
             ],
             [
              0.1111111111111111,
              "#46039f"
             ],
             [
              0.2222222222222222,
              "#7201a8"
             ],
             [
              0.3333333333333333,
              "#9c179e"
             ],
             [
              0.4444444444444444,
              "#bd3786"
             ],
             [
              0.5555555555555556,
              "#d8576b"
             ],
             [
              0.6666666666666666,
              "#ed7953"
             ],
             [
              0.7777777777777778,
              "#fb9f3a"
             ],
             [
              0.8888888888888888,
              "#fdca26"
             ],
             [
              1,
              "#f0f921"
             ]
            ],
            "type": "histogram2dcontour"
           }
          ],
          "mesh3d": [
           {
            "colorbar": {
             "outlinewidth": 0,
             "ticks": ""
            },
            "type": "mesh3d"
           }
          ],
          "parcoords": [
           {
            "line": {
             "colorbar": {
              "outlinewidth": 0,
              "ticks": ""
             }
            },
            "type": "parcoords"
           }
          ],
          "pie": [
           {
            "automargin": true,
            "type": "pie"
           }
          ],
          "scatter": [
           {
            "fillpattern": {
             "fillmode": "overlay",
             "size": 10,
             "solidity": 0.2
            },
            "type": "scatter"
           }
          ],
          "scatter3d": [
           {
            "line": {
             "colorbar": {
              "outlinewidth": 0,
              "ticks": ""
             }
            },
            "marker": {
             "colorbar": {
              "outlinewidth": 0,
              "ticks": ""
             }
            },
            "type": "scatter3d"
           }
          ],
          "scattercarpet": [
           {
            "marker": {
             "colorbar": {
              "outlinewidth": 0,
              "ticks": ""
             }
            },
            "type": "scattercarpet"
           }
          ],
          "scattergeo": [
           {
            "marker": {
             "colorbar": {
              "outlinewidth": 0,
              "ticks": ""
             }
            },
            "type": "scattergeo"
           }
          ],
          "scattergl": [
           {
            "marker": {
             "colorbar": {
              "outlinewidth": 0,
              "ticks": ""
             }
            },
            "type": "scattergl"
           }
          ],
          "scattermapbox": [
           {
            "marker": {
             "colorbar": {
              "outlinewidth": 0,
              "ticks": ""
             }
            },
            "type": "scattermapbox"
           }
          ],
          "scatterpolar": [
           {
            "marker": {
             "colorbar": {
              "outlinewidth": 0,
              "ticks": ""
             }
            },
            "type": "scatterpolar"
           }
          ],
          "scatterpolargl": [
           {
            "marker": {
             "colorbar": {
              "outlinewidth": 0,
              "ticks": ""
             }
            },
            "type": "scatterpolargl"
           }
          ],
          "scatterternary": [
           {
            "marker": {
             "colorbar": {
              "outlinewidth": 0,
              "ticks": ""
             }
            },
            "type": "scatterternary"
           }
          ],
          "surface": [
           {
            "colorbar": {
             "outlinewidth": 0,
             "ticks": ""
            },
            "colorscale": [
             [
              0,
              "#0d0887"
             ],
             [
              0.1111111111111111,
              "#46039f"
             ],
             [
              0.2222222222222222,
              "#7201a8"
             ],
             [
              0.3333333333333333,
              "#9c179e"
             ],
             [
              0.4444444444444444,
              "#bd3786"
             ],
             [
              0.5555555555555556,
              "#d8576b"
             ],
             [
              0.6666666666666666,
              "#ed7953"
             ],
             [
              0.7777777777777778,
              "#fb9f3a"
             ],
             [
              0.8888888888888888,
              "#fdca26"
             ],
             [
              1,
              "#f0f921"
             ]
            ],
            "type": "surface"
           }
          ],
          "table": [
           {
            "cells": {
             "fill": {
              "color": "#EBF0F8"
             },
             "line": {
              "color": "white"
             }
            },
            "header": {
             "fill": {
              "color": "#C8D4E3"
             },
             "line": {
              "color": "white"
             }
            },
            "type": "table"
           }
          ]
         },
         "layout": {
          "annotationdefaults": {
           "arrowcolor": "#2a3f5f",
           "arrowhead": 0,
           "arrowwidth": 1
          },
          "autotypenumbers": "strict",
          "coloraxis": {
           "colorbar": {
            "outlinewidth": 0,
            "ticks": ""
           }
          },
          "colorscale": {
           "diverging": [
            [
             0,
             "#8e0152"
            ],
            [
             0.1,
             "#c51b7d"
            ],
            [
             0.2,
             "#de77ae"
            ],
            [
             0.3,
             "#f1b6da"
            ],
            [
             0.4,
             "#fde0ef"
            ],
            [
             0.5,
             "#f7f7f7"
            ],
            [
             0.6,
             "#e6f5d0"
            ],
            [
             0.7,
             "#b8e186"
            ],
            [
             0.8,
             "#7fbc41"
            ],
            [
             0.9,
             "#4d9221"
            ],
            [
             1,
             "#276419"
            ]
           ],
           "sequential": [
            [
             0,
             "#0d0887"
            ],
            [
             0.1111111111111111,
             "#46039f"
            ],
            [
             0.2222222222222222,
             "#7201a8"
            ],
            [
             0.3333333333333333,
             "#9c179e"
            ],
            [
             0.4444444444444444,
             "#bd3786"
            ],
            [
             0.5555555555555556,
             "#d8576b"
            ],
            [
             0.6666666666666666,
             "#ed7953"
            ],
            [
             0.7777777777777778,
             "#fb9f3a"
            ],
            [
             0.8888888888888888,
             "#fdca26"
            ],
            [
             1,
             "#f0f921"
            ]
           ],
           "sequentialminus": [
            [
             0,
             "#0d0887"
            ],
            [
             0.1111111111111111,
             "#46039f"
            ],
            [
             0.2222222222222222,
             "#7201a8"
            ],
            [
             0.3333333333333333,
             "#9c179e"
            ],
            [
             0.4444444444444444,
             "#bd3786"
            ],
            [
             0.5555555555555556,
             "#d8576b"
            ],
            [
             0.6666666666666666,
             "#ed7953"
            ],
            [
             0.7777777777777778,
             "#fb9f3a"
            ],
            [
             0.8888888888888888,
             "#fdca26"
            ],
            [
             1,
             "#f0f921"
            ]
           ]
          },
          "colorway": [
           "#636efa",
           "#EF553B",
           "#00cc96",
           "#ab63fa",
           "#FFA15A",
           "#19d3f3",
           "#FF6692",
           "#B6E880",
           "#FF97FF",
           "#FECB52"
          ],
          "font": {
           "color": "#2a3f5f"
          },
          "geo": {
           "bgcolor": "white",
           "lakecolor": "white",
           "landcolor": "#E5ECF6",
           "showlakes": true,
           "showland": true,
           "subunitcolor": "white"
          },
          "hoverlabel": {
           "align": "left"
          },
          "hovermode": "closest",
          "mapbox": {
           "style": "light"
          },
          "paper_bgcolor": "white",
          "plot_bgcolor": "#E5ECF6",
          "polar": {
           "angularaxis": {
            "gridcolor": "white",
            "linecolor": "white",
            "ticks": ""
           },
           "bgcolor": "#E5ECF6",
           "radialaxis": {
            "gridcolor": "white",
            "linecolor": "white",
            "ticks": ""
           }
          },
          "scene": {
           "xaxis": {
            "backgroundcolor": "#E5ECF6",
            "gridcolor": "white",
            "gridwidth": 2,
            "linecolor": "white",
            "showbackground": true,
            "ticks": "",
            "zerolinecolor": "white"
           },
           "yaxis": {
            "backgroundcolor": "#E5ECF6",
            "gridcolor": "white",
            "gridwidth": 2,
            "linecolor": "white",
            "showbackground": true,
            "ticks": "",
            "zerolinecolor": "white"
           },
           "zaxis": {
            "backgroundcolor": "#E5ECF6",
            "gridcolor": "white",
            "gridwidth": 2,
            "linecolor": "white",
            "showbackground": true,
            "ticks": "",
            "zerolinecolor": "white"
           }
          },
          "shapedefaults": {
           "line": {
            "color": "#2a3f5f"
           }
          },
          "ternary": {
           "aaxis": {
            "gridcolor": "white",
            "linecolor": "white",
            "ticks": ""
           },
           "baxis": {
            "gridcolor": "white",
            "linecolor": "white",
            "ticks": ""
           },
           "bgcolor": "#E5ECF6",
           "caxis": {
            "gridcolor": "white",
            "linecolor": "white",
            "ticks": ""
           }
          },
          "title": {
           "x": 0.05
          },
          "xaxis": {
           "automargin": true,
           "gridcolor": "white",
           "linecolor": "white",
           "ticks": "",
           "title": {
            "standoff": 15
           },
           "zerolinecolor": "white",
           "zerolinewidth": 2
          },
          "yaxis": {
           "automargin": true,
           "gridcolor": "white",
           "linecolor": "white",
           "ticks": "",
           "title": {
            "standoff": 15
           },
           "zerolinecolor": "white",
           "zerolinewidth": 2
          }
         }
        },
        "updatemenus": [
         {
          "buttons": [
           {
            "args": [
             null,
             {
              "frame": {
               "duration": 500,
               "redraw": true
              },
              "fromcurrent": true,
              "mode": "immediate",
              "transition": {
               "duration": 500,
               "easing": "linear"
              }
             }
            ],
            "label": "&#9654;",
            "method": "animate"
           },
           {
            "args": [
             [
              null
             ],
             {
              "frame": {
               "duration": 0,
               "redraw": true
              },
              "fromcurrent": true,
              "mode": "immediate",
              "transition": {
               "duration": 0,
               "easing": "linear"
              }
             }
            ],
            "label": "&#9724;",
            "method": "animate"
           }
          ],
          "direction": "left",
          "pad": {
           "r": 10,
           "t": 70
          },
          "showactive": false,
          "type": "buttons",
          "x": 0.1,
          "xanchor": "right",
          "y": 0,
          "yanchor": "top"
         }
        ],
        "xaxis": {
         "anchor": "y",
         "categoryarray": [
          "2020 January*",
          "2020 February*",
          "2020 March*",
          "2020 April*",
          "2020 May*",
          "2020 June*",
          "2020 July*",
          "2020 August*",
          "2020 September*",
          "2020 October*",
          "2020 November*",
          "2020 December*",
          "2021 January*",
          "2021 February*",
          "2021 March*",
          "2021 April*",
          "2021 May*",
          "2021 June*",
          "2021 July*",
          "2021 August*",
          "2021 September*",
          "2021 October*",
          "2021 November*",
          "2021 December*",
          "2022 January*",
          "2022 February*",
          "2022 March*",
          "2022 April*",
          "2022 May*",
          "2022 June*",
          "2022 July*",
          "2022 August*"
         ],
         "categoryorder": "array",
         "domain": [
          0,
          1
         ],
         "title": {
          "text": "Periods"
         }
        },
        "yaxis": {
         "anchor": "x",
         "domain": [
          0,
          1
         ],
         "title": {
          "text": "PC_flights"
         }
        }
       }
      },
      "text/html": [
       "<div>                            <div id=\"03f71a50-5419-4b10-b3de-3b68313df2f5\" class=\"plotly-graph-div\" style=\"height:525px; width:100%;\"></div>            <script type=\"text/javascript\">                require([\"plotly\"], function(Plotly) {                    window.PLOTLYENV=window.PLOTLYENV || {};                                    if (document.getElementById(\"03f71a50-5419-4b10-b3de-3b68313df2f5\")) {                    Plotly.newPlot(                        \"03f71a50-5419-4b10-b3de-3b68313df2f5\",                        [{\"alignmentgroup\":\"True\",\"hovertemplate\":\"<b>%{hovertext}</b><br><br>Airports=Amsterdam Airport Schiphol<br>Periods=%{x}<br>PC_flights=%{y}<extra></extra>\",\"hovertext\":[0.0],\"ids\":[\"Amsterdam Airport Schiphol\"],\"legendgroup\":\"Amsterdam Airport Schiphol\",\"marker\":{\"color\":\"#636efa\",\"pattern\":{\"shape\":\"\"}},\"name\":\"Amsterdam Airport Schiphol\",\"offsetgroup\":\"Amsterdam Airport Schiphol\",\"orientation\":\"h\",\"showlegend\":true,\"textposition\":\"auto\",\"x\":[\"2020 January*\"],\"xaxis\":\"x\",\"y\":[0.0],\"yaxis\":\"y\",\"type\":\"bar\"},{\"alignmentgroup\":\"True\",\"hovertemplate\":\"<b>%{hovertext}</b><br><br>Airports=Rotterdam The Hague Airport<br>Periods=%{x}<br>PC_flights=%{y}<extra></extra>\",\"hovertext\":[-97.44765438642989],\"ids\":[\"Rotterdam The Hague Airport\"],\"legendgroup\":\"Rotterdam The Hague Airport\",\"marker\":{\"color\":\"#EF553B\",\"pattern\":{\"shape\":\"\"}},\"name\":\"Rotterdam The Hague Airport\",\"offsetgroup\":\"Rotterdam The Hague Airport\",\"orientation\":\"h\",\"showlegend\":true,\"textposition\":\"auto\",\"x\":[\"2020 January*\"],\"xaxis\":\"x\",\"y\":[-97.44765438642989],\"yaxis\":\"y\",\"type\":\"bar\"},{\"alignmentgroup\":\"True\",\"hovertemplate\":\"<b>%{hovertext}</b><br><br>Airports=Eindhoven Airport<br>Periods=%{x}<br>PC_flights=%{y}<extra></extra>\",\"hovertext\":[8.54228644283892],\"ids\":[\"Eindhoven Airport\"],\"legendgroup\":\"Eindhoven Airport\",\"marker\":{\"color\":\"#00cc96\",\"pattern\":{\"shape\":\"\"}},\"name\":\"Eindhoven Airport\",\"offsetgroup\":\"Eindhoven Airport\",\"orientation\":\"h\",\"showlegend\":true,\"textposition\":\"auto\",\"x\":[\"2020 January*\"],\"xaxis\":\"x\",\"y\":[8.54228644283892],\"yaxis\":\"y\",\"type\":\"bar\"},{\"alignmentgroup\":\"True\",\"hovertemplate\":\"<b>%{hovertext}</b><br><br>Airports=Maastricht Aachen Airport<br>Periods=%{x}<br>PC_flights=%{y}<extra></extra>\",\"hovertext\":[-87.99392097264437],\"ids\":[\"Maastricht Aachen Airport\"],\"legendgroup\":\"Maastricht Aachen Airport\",\"marker\":{\"color\":\"#ab63fa\",\"pattern\":{\"shape\":\"\"}},\"name\":\"Maastricht Aachen Airport\",\"offsetgroup\":\"Maastricht Aachen Airport\",\"orientation\":\"h\",\"showlegend\":true,\"textposition\":\"auto\",\"x\":[\"2020 January*\"],\"xaxis\":\"x\",\"y\":[-87.99392097264437],\"yaxis\":\"y\",\"type\":\"bar\"},{\"alignmentgroup\":\"True\",\"hovertemplate\":\"<b>%{hovertext}</b><br><br>Airports=Groningen Airport Eelde<br>Periods=%{x}<br>PC_flights=%{y}<extra></extra>\",\"hovertext\":[-69.82758620689656],\"ids\":[\"Groningen Airport Eelde\"],\"legendgroup\":\"Groningen Airport Eelde\",\"marker\":{\"color\":\"#FFA15A\",\"pattern\":{\"shape\":\"\"}},\"name\":\"Groningen Airport Eelde\",\"offsetgroup\":\"Groningen Airport Eelde\",\"orientation\":\"h\",\"showlegend\":true,\"textposition\":\"auto\",\"x\":[\"2020 January*\"],\"xaxis\":\"x\",\"y\":[-69.82758620689656],\"yaxis\":\"y\",\"type\":\"bar\"}],                        {\"template\":{\"data\":{\"histogram2dcontour\":[{\"type\":\"histogram2dcontour\",\"colorbar\":{\"outlinewidth\":0,\"ticks\":\"\"},\"colorscale\":[[0.0,\"#0d0887\"],[0.1111111111111111,\"#46039f\"],[0.2222222222222222,\"#7201a8\"],[0.3333333333333333,\"#9c179e\"],[0.4444444444444444,\"#bd3786\"],[0.5555555555555556,\"#d8576b\"],[0.6666666666666666,\"#ed7953\"],[0.7777777777777778,\"#fb9f3a\"],[0.8888888888888888,\"#fdca26\"],[1.0,\"#f0f921\"]]}],\"choropleth\":[{\"type\":\"choropleth\",\"colorbar\":{\"outlinewidth\":0,\"ticks\":\"\"}}],\"histogram2d\":[{\"type\":\"histogram2d\",\"colorbar\":{\"outlinewidth\":0,\"ticks\":\"\"},\"colorscale\":[[0.0,\"#0d0887\"],[0.1111111111111111,\"#46039f\"],[0.2222222222222222,\"#7201a8\"],[0.3333333333333333,\"#9c179e\"],[0.4444444444444444,\"#bd3786\"],[0.5555555555555556,\"#d8576b\"],[0.6666666666666666,\"#ed7953\"],[0.7777777777777778,\"#fb9f3a\"],[0.8888888888888888,\"#fdca26\"],[1.0,\"#f0f921\"]]}],\"heatmap\":[{\"type\":\"heatmap\",\"colorbar\":{\"outlinewidth\":0,\"ticks\":\"\"},\"colorscale\":[[0.0,\"#0d0887\"],[0.1111111111111111,\"#46039f\"],[0.2222222222222222,\"#7201a8\"],[0.3333333333333333,\"#9c179e\"],[0.4444444444444444,\"#bd3786\"],[0.5555555555555556,\"#d8576b\"],[0.6666666666666666,\"#ed7953\"],[0.7777777777777778,\"#fb9f3a\"],[0.8888888888888888,\"#fdca26\"],[1.0,\"#f0f921\"]]}],\"heatmapgl\":[{\"type\":\"heatmapgl\",\"colorbar\":{\"outlinewidth\":0,\"ticks\":\"\"},\"colorscale\":[[0.0,\"#0d0887\"],[0.1111111111111111,\"#46039f\"],[0.2222222222222222,\"#7201a8\"],[0.3333333333333333,\"#9c179e\"],[0.4444444444444444,\"#bd3786\"],[0.5555555555555556,\"#d8576b\"],[0.6666666666666666,\"#ed7953\"],[0.7777777777777778,\"#fb9f3a\"],[0.8888888888888888,\"#fdca26\"],[1.0,\"#f0f921\"]]}],\"contourcarpet\":[{\"type\":\"contourcarpet\",\"colorbar\":{\"outlinewidth\":0,\"ticks\":\"\"}}],\"contour\":[{\"type\":\"contour\",\"colorbar\":{\"outlinewidth\":0,\"ticks\":\"\"},\"colorscale\":[[0.0,\"#0d0887\"],[0.1111111111111111,\"#46039f\"],[0.2222222222222222,\"#7201a8\"],[0.3333333333333333,\"#9c179e\"],[0.4444444444444444,\"#bd3786\"],[0.5555555555555556,\"#d8576b\"],[0.6666666666666666,\"#ed7953\"],[0.7777777777777778,\"#fb9f3a\"],[0.8888888888888888,\"#fdca26\"],[1.0,\"#f0f921\"]]}],\"surface\":[{\"type\":\"surface\",\"colorbar\":{\"outlinewidth\":0,\"ticks\":\"\"},\"colorscale\":[[0.0,\"#0d0887\"],[0.1111111111111111,\"#46039f\"],[0.2222222222222222,\"#7201a8\"],[0.3333333333333333,\"#9c179e\"],[0.4444444444444444,\"#bd3786\"],[0.5555555555555556,\"#d8576b\"],[0.6666666666666666,\"#ed7953\"],[0.7777777777777778,\"#fb9f3a\"],[0.8888888888888888,\"#fdca26\"],[1.0,\"#f0f921\"]]}],\"mesh3d\":[{\"type\":\"mesh3d\",\"colorbar\":{\"outlinewidth\":0,\"ticks\":\"\"}}],\"scatter\":[{\"fillpattern\":{\"fillmode\":\"overlay\",\"size\":10,\"solidity\":0.2},\"type\":\"scatter\"}],\"parcoords\":[{\"type\":\"parcoords\",\"line\":{\"colorbar\":{\"outlinewidth\":0,\"ticks\":\"\"}}}],\"scatterpolargl\":[{\"type\":\"scatterpolargl\",\"marker\":{\"colorbar\":{\"outlinewidth\":0,\"ticks\":\"\"}}}],\"bar\":[{\"error_x\":{\"color\":\"#2a3f5f\"},\"error_y\":{\"color\":\"#2a3f5f\"},\"marker\":{\"line\":{\"color\":\"#E5ECF6\",\"width\":0.5},\"pattern\":{\"fillmode\":\"overlay\",\"size\":10,\"solidity\":0.2}},\"type\":\"bar\"}],\"scattergeo\":[{\"type\":\"scattergeo\",\"marker\":{\"colorbar\":{\"outlinewidth\":0,\"ticks\":\"\"}}}],\"scatterpolar\":[{\"type\":\"scatterpolar\",\"marker\":{\"colorbar\":{\"outlinewidth\":0,\"ticks\":\"\"}}}],\"histogram\":[{\"marker\":{\"pattern\":{\"fillmode\":\"overlay\",\"size\":10,\"solidity\":0.2}},\"type\":\"histogram\"}],\"scattergl\":[{\"type\":\"scattergl\",\"marker\":{\"colorbar\":{\"outlinewidth\":0,\"ticks\":\"\"}}}],\"scatter3d\":[{\"type\":\"scatter3d\",\"line\":{\"colorbar\":{\"outlinewidth\":0,\"ticks\":\"\"}},\"marker\":{\"colorbar\":{\"outlinewidth\":0,\"ticks\":\"\"}}}],\"scattermapbox\":[{\"type\":\"scattermapbox\",\"marker\":{\"colorbar\":{\"outlinewidth\":0,\"ticks\":\"\"}}}],\"scatterternary\":[{\"type\":\"scatterternary\",\"marker\":{\"colorbar\":{\"outlinewidth\":0,\"ticks\":\"\"}}}],\"scattercarpet\":[{\"type\":\"scattercarpet\",\"marker\":{\"colorbar\":{\"outlinewidth\":0,\"ticks\":\"\"}}}],\"carpet\":[{\"aaxis\":{\"endlinecolor\":\"#2a3f5f\",\"gridcolor\":\"white\",\"linecolor\":\"white\",\"minorgridcolor\":\"white\",\"startlinecolor\":\"#2a3f5f\"},\"baxis\":{\"endlinecolor\":\"#2a3f5f\",\"gridcolor\":\"white\",\"linecolor\":\"white\",\"minorgridcolor\":\"white\",\"startlinecolor\":\"#2a3f5f\"},\"type\":\"carpet\"}],\"table\":[{\"cells\":{\"fill\":{\"color\":\"#EBF0F8\"},\"line\":{\"color\":\"white\"}},\"header\":{\"fill\":{\"color\":\"#C8D4E3\"},\"line\":{\"color\":\"white\"}},\"type\":\"table\"}],\"barpolar\":[{\"marker\":{\"line\":{\"color\":\"#E5ECF6\",\"width\":0.5},\"pattern\":{\"fillmode\":\"overlay\",\"size\":10,\"solidity\":0.2}},\"type\":\"barpolar\"}],\"pie\":[{\"automargin\":true,\"type\":\"pie\"}]},\"layout\":{\"autotypenumbers\":\"strict\",\"colorway\":[\"#636efa\",\"#EF553B\",\"#00cc96\",\"#ab63fa\",\"#FFA15A\",\"#19d3f3\",\"#FF6692\",\"#B6E880\",\"#FF97FF\",\"#FECB52\"],\"font\":{\"color\":\"#2a3f5f\"},\"hovermode\":\"closest\",\"hoverlabel\":{\"align\":\"left\"},\"paper_bgcolor\":\"white\",\"plot_bgcolor\":\"#E5ECF6\",\"polar\":{\"bgcolor\":\"#E5ECF6\",\"angularaxis\":{\"gridcolor\":\"white\",\"linecolor\":\"white\",\"ticks\":\"\"},\"radialaxis\":{\"gridcolor\":\"white\",\"linecolor\":\"white\",\"ticks\":\"\"}},\"ternary\":{\"bgcolor\":\"#E5ECF6\",\"aaxis\":{\"gridcolor\":\"white\",\"linecolor\":\"white\",\"ticks\":\"\"},\"baxis\":{\"gridcolor\":\"white\",\"linecolor\":\"white\",\"ticks\":\"\"},\"caxis\":{\"gridcolor\":\"white\",\"linecolor\":\"white\",\"ticks\":\"\"}},\"coloraxis\":{\"colorbar\":{\"outlinewidth\":0,\"ticks\":\"\"}},\"colorscale\":{\"sequential\":[[0.0,\"#0d0887\"],[0.1111111111111111,\"#46039f\"],[0.2222222222222222,\"#7201a8\"],[0.3333333333333333,\"#9c179e\"],[0.4444444444444444,\"#bd3786\"],[0.5555555555555556,\"#d8576b\"],[0.6666666666666666,\"#ed7953\"],[0.7777777777777778,\"#fb9f3a\"],[0.8888888888888888,\"#fdca26\"],[1.0,\"#f0f921\"]],\"sequentialminus\":[[0.0,\"#0d0887\"],[0.1111111111111111,\"#46039f\"],[0.2222222222222222,\"#7201a8\"],[0.3333333333333333,\"#9c179e\"],[0.4444444444444444,\"#bd3786\"],[0.5555555555555556,\"#d8576b\"],[0.6666666666666666,\"#ed7953\"],[0.7777777777777778,\"#fb9f3a\"],[0.8888888888888888,\"#fdca26\"],[1.0,\"#f0f921\"]],\"diverging\":[[0,\"#8e0152\"],[0.1,\"#c51b7d\"],[0.2,\"#de77ae\"],[0.3,\"#f1b6da\"],[0.4,\"#fde0ef\"],[0.5,\"#f7f7f7\"],[0.6,\"#e6f5d0\"],[0.7,\"#b8e186\"],[0.8,\"#7fbc41\"],[0.9,\"#4d9221\"],[1,\"#276419\"]]},\"xaxis\":{\"gridcolor\":\"white\",\"linecolor\":\"white\",\"ticks\":\"\",\"title\":{\"standoff\":15},\"zerolinecolor\":\"white\",\"automargin\":true,\"zerolinewidth\":2},\"yaxis\":{\"gridcolor\":\"white\",\"linecolor\":\"white\",\"ticks\":\"\",\"title\":{\"standoff\":15},\"zerolinecolor\":\"white\",\"automargin\":true,\"zerolinewidth\":2},\"scene\":{\"xaxis\":{\"backgroundcolor\":\"#E5ECF6\",\"gridcolor\":\"white\",\"linecolor\":\"white\",\"showbackground\":true,\"ticks\":\"\",\"zerolinecolor\":\"white\",\"gridwidth\":2},\"yaxis\":{\"backgroundcolor\":\"#E5ECF6\",\"gridcolor\":\"white\",\"linecolor\":\"white\",\"showbackground\":true,\"ticks\":\"\",\"zerolinecolor\":\"white\",\"gridwidth\":2},\"zaxis\":{\"backgroundcolor\":\"#E5ECF6\",\"gridcolor\":\"white\",\"linecolor\":\"white\",\"showbackground\":true,\"ticks\":\"\",\"zerolinecolor\":\"white\",\"gridwidth\":2}},\"shapedefaults\":{\"line\":{\"color\":\"#2a3f5f\"}},\"annotationdefaults\":{\"arrowcolor\":\"#2a3f5f\",\"arrowhead\":0,\"arrowwidth\":1},\"geo\":{\"bgcolor\":\"white\",\"landcolor\":\"#E5ECF6\",\"subunitcolor\":\"white\",\"showland\":true,\"showlakes\":true,\"lakecolor\":\"white\"},\"title\":{\"x\":0.05},\"mapbox\":{\"style\":\"light\"}}},\"xaxis\":{\"anchor\":\"y\",\"domain\":[0.0,1.0],\"title\":{\"text\":\"Periods\"},\"categoryorder\":\"array\",\"categoryarray\":[\"2020 January*\",\"2020 February*\",\"2020 March*\",\"2020 April*\",\"2020 May*\",\"2020 June*\",\"2020 July*\",\"2020 August*\",\"2020 September*\",\"2020 October*\",\"2020 November*\",\"2020 December*\",\"2021 January*\",\"2021 February*\",\"2021 March*\",\"2021 April*\",\"2021 May*\",\"2021 June*\",\"2021 July*\",\"2021 August*\",\"2021 September*\",\"2021 October*\",\"2021 November*\",\"2021 December*\",\"2022 January*\",\"2022 February*\",\"2022 March*\",\"2022 April*\",\"2022 May*\",\"2022 June*\",\"2022 July*\",\"2022 August*\"]},\"yaxis\":{\"anchor\":\"x\",\"domain\":[0.0,1.0],\"title\":{\"text\":\"PC_flights\"}},\"legend\":{\"title\":{\"text\":\"Airports\"},\"tracegroupgap\":0},\"margin\":{\"t\":60},\"barmode\":\"relative\",\"updatemenus\":[{\"buttons\":[{\"args\":[null,{\"frame\":{\"duration\":500,\"redraw\":true},\"mode\":\"immediate\",\"fromcurrent\":true,\"transition\":{\"duration\":500,\"easing\":\"linear\"}}],\"label\":\"&#9654;\",\"method\":\"animate\"},{\"args\":[[null],{\"frame\":{\"duration\":0,\"redraw\":true},\"mode\":\"immediate\",\"fromcurrent\":true,\"transition\":{\"duration\":0,\"easing\":\"linear\"}}],\"label\":\"&#9724;\",\"method\":\"animate\"}],\"direction\":\"left\",\"pad\":{\"r\":10,\"t\":70},\"showactive\":false,\"type\":\"buttons\",\"x\":0.1,\"xanchor\":\"right\",\"y\":0,\"yanchor\":\"top\"}],\"sliders\":[{\"active\":0,\"currentvalue\":{\"prefix\":\"Periods=\"},\"len\":0.9,\"pad\":{\"b\":10,\"t\":60},\"steps\":[{\"args\":[[\"2020 January*\"],{\"frame\":{\"duration\":0,\"redraw\":true},\"mode\":\"immediate\",\"fromcurrent\":true,\"transition\":{\"duration\":0,\"easing\":\"linear\"}}],\"label\":\"2020 January*\",\"method\":\"animate\"},{\"args\":[[\"2020 February*\"],{\"frame\":{\"duration\":0,\"redraw\":true},\"mode\":\"immediate\",\"fromcurrent\":true,\"transition\":{\"duration\":0,\"easing\":\"linear\"}}],\"label\":\"2020 February*\",\"method\":\"animate\"},{\"args\":[[\"2020 March*\"],{\"frame\":{\"duration\":0,\"redraw\":true},\"mode\":\"immediate\",\"fromcurrent\":true,\"transition\":{\"duration\":0,\"easing\":\"linear\"}}],\"label\":\"2020 March*\",\"method\":\"animate\"},{\"args\":[[\"2020 April*\"],{\"frame\":{\"duration\":0,\"redraw\":true},\"mode\":\"immediate\",\"fromcurrent\":true,\"transition\":{\"duration\":0,\"easing\":\"linear\"}}],\"label\":\"2020 April*\",\"method\":\"animate\"},{\"args\":[[\"2020 May*\"],{\"frame\":{\"duration\":0,\"redraw\":true},\"mode\":\"immediate\",\"fromcurrent\":true,\"transition\":{\"duration\":0,\"easing\":\"linear\"}}],\"label\":\"2020 May*\",\"method\":\"animate\"},{\"args\":[[\"2020 June*\"],{\"frame\":{\"duration\":0,\"redraw\":true},\"mode\":\"immediate\",\"fromcurrent\":true,\"transition\":{\"duration\":0,\"easing\":\"linear\"}}],\"label\":\"2020 June*\",\"method\":\"animate\"},{\"args\":[[\"2020 July*\"],{\"frame\":{\"duration\":0,\"redraw\":true},\"mode\":\"immediate\",\"fromcurrent\":true,\"transition\":{\"duration\":0,\"easing\":\"linear\"}}],\"label\":\"2020 July*\",\"method\":\"animate\"},{\"args\":[[\"2020 August*\"],{\"frame\":{\"duration\":0,\"redraw\":true},\"mode\":\"immediate\",\"fromcurrent\":true,\"transition\":{\"duration\":0,\"easing\":\"linear\"}}],\"label\":\"2020 August*\",\"method\":\"animate\"},{\"args\":[[\"2020 September*\"],{\"frame\":{\"duration\":0,\"redraw\":true},\"mode\":\"immediate\",\"fromcurrent\":true,\"transition\":{\"duration\":0,\"easing\":\"linear\"}}],\"label\":\"2020 September*\",\"method\":\"animate\"},{\"args\":[[\"2020 October*\"],{\"frame\":{\"duration\":0,\"redraw\":true},\"mode\":\"immediate\",\"fromcurrent\":true,\"transition\":{\"duration\":0,\"easing\":\"linear\"}}],\"label\":\"2020 October*\",\"method\":\"animate\"},{\"args\":[[\"2020 November*\"],{\"frame\":{\"duration\":0,\"redraw\":true},\"mode\":\"immediate\",\"fromcurrent\":true,\"transition\":{\"duration\":0,\"easing\":\"linear\"}}],\"label\":\"2020 November*\",\"method\":\"animate\"},{\"args\":[[\"2020 December*\"],{\"frame\":{\"duration\":0,\"redraw\":true},\"mode\":\"immediate\",\"fromcurrent\":true,\"transition\":{\"duration\":0,\"easing\":\"linear\"}}],\"label\":\"2020 December*\",\"method\":\"animate\"},{\"args\":[[\"2021 January*\"],{\"frame\":{\"duration\":0,\"redraw\":true},\"mode\":\"immediate\",\"fromcurrent\":true,\"transition\":{\"duration\":0,\"easing\":\"linear\"}}],\"label\":\"2021 January*\",\"method\":\"animate\"},{\"args\":[[\"2021 February*\"],{\"frame\":{\"duration\":0,\"redraw\":true},\"mode\":\"immediate\",\"fromcurrent\":true,\"transition\":{\"duration\":0,\"easing\":\"linear\"}}],\"label\":\"2021 February*\",\"method\":\"animate\"},{\"args\":[[\"2021 March*\"],{\"frame\":{\"duration\":0,\"redraw\":true},\"mode\":\"immediate\",\"fromcurrent\":true,\"transition\":{\"duration\":0,\"easing\":\"linear\"}}],\"label\":\"2021 March*\",\"method\":\"animate\"},{\"args\":[[\"2021 April*\"],{\"frame\":{\"duration\":0,\"redraw\":true},\"mode\":\"immediate\",\"fromcurrent\":true,\"transition\":{\"duration\":0,\"easing\":\"linear\"}}],\"label\":\"2021 April*\",\"method\":\"animate\"},{\"args\":[[\"2021 May*\"],{\"frame\":{\"duration\":0,\"redraw\":true},\"mode\":\"immediate\",\"fromcurrent\":true,\"transition\":{\"duration\":0,\"easing\":\"linear\"}}],\"label\":\"2021 May*\",\"method\":\"animate\"},{\"args\":[[\"2021 June*\"],{\"frame\":{\"duration\":0,\"redraw\":true},\"mode\":\"immediate\",\"fromcurrent\":true,\"transition\":{\"duration\":0,\"easing\":\"linear\"}}],\"label\":\"2021 June*\",\"method\":\"animate\"},{\"args\":[[\"2021 July*\"],{\"frame\":{\"duration\":0,\"redraw\":true},\"mode\":\"immediate\",\"fromcurrent\":true,\"transition\":{\"duration\":0,\"easing\":\"linear\"}}],\"label\":\"2021 July*\",\"method\":\"animate\"},{\"args\":[[\"2021 August*\"],{\"frame\":{\"duration\":0,\"redraw\":true},\"mode\":\"immediate\",\"fromcurrent\":true,\"transition\":{\"duration\":0,\"easing\":\"linear\"}}],\"label\":\"2021 August*\",\"method\":\"animate\"},{\"args\":[[\"2021 September*\"],{\"frame\":{\"duration\":0,\"redraw\":true},\"mode\":\"immediate\",\"fromcurrent\":true,\"transition\":{\"duration\":0,\"easing\":\"linear\"}}],\"label\":\"2021 September*\",\"method\":\"animate\"},{\"args\":[[\"2021 October*\"],{\"frame\":{\"duration\":0,\"redraw\":true},\"mode\":\"immediate\",\"fromcurrent\":true,\"transition\":{\"duration\":0,\"easing\":\"linear\"}}],\"label\":\"2021 October*\",\"method\":\"animate\"},{\"args\":[[\"2021 November*\"],{\"frame\":{\"duration\":0,\"redraw\":true},\"mode\":\"immediate\",\"fromcurrent\":true,\"transition\":{\"duration\":0,\"easing\":\"linear\"}}],\"label\":\"2021 November*\",\"method\":\"animate\"},{\"args\":[[\"2021 December*\"],{\"frame\":{\"duration\":0,\"redraw\":true},\"mode\":\"immediate\",\"fromcurrent\":true,\"transition\":{\"duration\":0,\"easing\":\"linear\"}}],\"label\":\"2021 December*\",\"method\":\"animate\"},{\"args\":[[\"2022 January*\"],{\"frame\":{\"duration\":0,\"redraw\":true},\"mode\":\"immediate\",\"fromcurrent\":true,\"transition\":{\"duration\":0,\"easing\":\"linear\"}}],\"label\":\"2022 January*\",\"method\":\"animate\"},{\"args\":[[\"2022 February*\"],{\"frame\":{\"duration\":0,\"redraw\":true},\"mode\":\"immediate\",\"fromcurrent\":true,\"transition\":{\"duration\":0,\"easing\":\"linear\"}}],\"label\":\"2022 February*\",\"method\":\"animate\"},{\"args\":[[\"2022 March*\"],{\"frame\":{\"duration\":0,\"redraw\":true},\"mode\":\"immediate\",\"fromcurrent\":true,\"transition\":{\"duration\":0,\"easing\":\"linear\"}}],\"label\":\"2022 March*\",\"method\":\"animate\"},{\"args\":[[\"2022 April*\"],{\"frame\":{\"duration\":0,\"redraw\":true},\"mode\":\"immediate\",\"fromcurrent\":true,\"transition\":{\"duration\":0,\"easing\":\"linear\"}}],\"label\":\"2022 April*\",\"method\":\"animate\"},{\"args\":[[\"2022 May*\"],{\"frame\":{\"duration\":0,\"redraw\":true},\"mode\":\"immediate\",\"fromcurrent\":true,\"transition\":{\"duration\":0,\"easing\":\"linear\"}}],\"label\":\"2022 May*\",\"method\":\"animate\"},{\"args\":[[\"2022 June*\"],{\"frame\":{\"duration\":0,\"redraw\":true},\"mode\":\"immediate\",\"fromcurrent\":true,\"transition\":{\"duration\":0,\"easing\":\"linear\"}}],\"label\":\"2022 June*\",\"method\":\"animate\"},{\"args\":[[\"2022 July*\"],{\"frame\":{\"duration\":0,\"redraw\":true},\"mode\":\"immediate\",\"fromcurrent\":true,\"transition\":{\"duration\":0,\"easing\":\"linear\"}}],\"label\":\"2022 July*\",\"method\":\"animate\"},{\"args\":[[\"2022 August*\"],{\"frame\":{\"duration\":0,\"redraw\":true},\"mode\":\"immediate\",\"fromcurrent\":true,\"transition\":{\"duration\":0,\"easing\":\"linear\"}}],\"label\":\"2022 August*\",\"method\":\"animate\"}],\"x\":0.1,\"xanchor\":\"left\",\"y\":0,\"yanchor\":\"top\"}]},                        {\"responsive\": true}                    ).then(function(){\n",
       "                            Plotly.addFrames('03f71a50-5419-4b10-b3de-3b68313df2f5', [{\"data\":[{\"alignmentgroup\":\"True\",\"hovertemplate\":\"<b>%{hovertext}</b><br><br>Airports=Amsterdam Airport Schiphol<br>Periods=%{x}<br>PC_flights=%{y}<extra></extra>\",\"hovertext\":[0.0],\"ids\":[\"Amsterdam Airport Schiphol\"],\"legendgroup\":\"Amsterdam Airport Schiphol\",\"marker\":{\"color\":\"#636efa\",\"pattern\":{\"shape\":\"\"}},\"name\":\"Amsterdam Airport Schiphol\",\"offsetgroup\":\"Amsterdam Airport Schiphol\",\"orientation\":\"h\",\"showlegend\":true,\"textposition\":\"auto\",\"x\":[\"2020 January*\"],\"xaxis\":\"x\",\"y\":[0.0],\"yaxis\":\"y\",\"type\":\"bar\"},{\"alignmentgroup\":\"True\",\"hovertemplate\":\"<b>%{hovertext}</b><br><br>Airports=Rotterdam The Hague Airport<br>Periods=%{x}<br>PC_flights=%{y}<extra></extra>\",\"hovertext\":[-97.44765438642989],\"ids\":[\"Rotterdam The Hague Airport\"],\"legendgroup\":\"Rotterdam The Hague Airport\",\"marker\":{\"color\":\"#EF553B\",\"pattern\":{\"shape\":\"\"}},\"name\":\"Rotterdam The Hague Airport\",\"offsetgroup\":\"Rotterdam The Hague Airport\",\"orientation\":\"h\",\"showlegend\":true,\"textposition\":\"auto\",\"x\":[\"2020 January*\"],\"xaxis\":\"x\",\"y\":[-97.44765438642989],\"yaxis\":\"y\",\"type\":\"bar\"},{\"alignmentgroup\":\"True\",\"hovertemplate\":\"<b>%{hovertext}</b><br><br>Airports=Eindhoven Airport<br>Periods=%{x}<br>PC_flights=%{y}<extra></extra>\",\"hovertext\":[8.54228644283892],\"ids\":[\"Eindhoven Airport\"],\"legendgroup\":\"Eindhoven Airport\",\"marker\":{\"color\":\"#00cc96\",\"pattern\":{\"shape\":\"\"}},\"name\":\"Eindhoven Airport\",\"offsetgroup\":\"Eindhoven Airport\",\"orientation\":\"h\",\"showlegend\":true,\"textposition\":\"auto\",\"x\":[\"2020 January*\"],\"xaxis\":\"x\",\"y\":[8.54228644283892],\"yaxis\":\"y\",\"type\":\"bar\"},{\"alignmentgroup\":\"True\",\"hovertemplate\":\"<b>%{hovertext}</b><br><br>Airports=Maastricht Aachen Airport<br>Periods=%{x}<br>PC_flights=%{y}<extra></extra>\",\"hovertext\":[-87.99392097264437],\"ids\":[\"Maastricht Aachen Airport\"],\"legendgroup\":\"Maastricht Aachen Airport\",\"marker\":{\"color\":\"#ab63fa\",\"pattern\":{\"shape\":\"\"}},\"name\":\"Maastricht Aachen Airport\",\"offsetgroup\":\"Maastricht Aachen Airport\",\"orientation\":\"h\",\"showlegend\":true,\"textposition\":\"auto\",\"x\":[\"2020 January*\"],\"xaxis\":\"x\",\"y\":[-87.99392097264437],\"yaxis\":\"y\",\"type\":\"bar\"},{\"alignmentgroup\":\"True\",\"hovertemplate\":\"<b>%{hovertext}</b><br><br>Airports=Groningen Airport Eelde<br>Periods=%{x}<br>PC_flights=%{y}<extra></extra>\",\"hovertext\":[-69.82758620689656],\"ids\":[\"Groningen Airport Eelde\"],\"legendgroup\":\"Groningen Airport Eelde\",\"marker\":{\"color\":\"#FFA15A\",\"pattern\":{\"shape\":\"\"}},\"name\":\"Groningen Airport Eelde\",\"offsetgroup\":\"Groningen Airport Eelde\",\"orientation\":\"h\",\"showlegend\":true,\"textposition\":\"auto\",\"x\":[\"2020 January*\"],\"xaxis\":\"x\",\"y\":[-69.82758620689656],\"yaxis\":\"y\",\"type\":\"bar\"}],\"name\":\"2020 January*\"},{\"data\":[{\"alignmentgroup\":\"True\",\"hovertemplate\":\"<b>%{hovertext}</b><br><br>Airports=Amsterdam Airport Schiphol<br>Periods=%{x}<br>PC_flights=%{y}<extra></extra>\",\"hovertext\":[-6.889024942103439],\"ids\":[\"Amsterdam Airport Schiphol\"],\"legendgroup\":\"Amsterdam Airport Schiphol\",\"marker\":{\"color\":\"#636efa\",\"pattern\":{\"shape\":\"\"}},\"name\":\"Amsterdam Airport Schiphol\",\"offsetgroup\":\"Amsterdam Airport Schiphol\",\"orientation\":\"h\",\"showlegend\":true,\"textposition\":\"auto\",\"x\":[\"2020 February*\"],\"xaxis\":\"x\",\"y\":[-6.889024942103439],\"yaxis\":\"y\",\"type\":\"bar\"},{\"alignmentgroup\":\"True\",\"hovertemplate\":\"<b>%{hovertext}</b><br><br>Airports=Rotterdam The Hague Airport<br>Periods=%{x}<br>PC_flights=%{y}<extra></extra>\",\"hovertext\":[7.06126687435098],\"ids\":[\"Rotterdam The Hague Airport\"],\"legendgroup\":\"Rotterdam The Hague Airport\",\"marker\":{\"color\":\"#EF553B\",\"pattern\":{\"shape\":\"\"}},\"name\":\"Rotterdam The Hague Airport\",\"offsetgroup\":\"Rotterdam The Hague Airport\",\"orientation\":\"h\",\"showlegend\":true,\"textposition\":\"auto\",\"x\":[\"2020 February*\"],\"xaxis\":\"x\",\"y\":[7.06126687435098],\"yaxis\":\"y\",\"type\":\"bar\"},{\"alignmentgroup\":\"True\",\"hovertemplate\":\"<b>%{hovertext}</b><br><br>Airports=Eindhoven Airport<br>Periods=%{x}<br>PC_flights=%{y}<extra></extra>\",\"hovertext\":[3.719655442443237],\"ids\":[\"Eindhoven Airport\"],\"legendgroup\":\"Eindhoven Airport\",\"marker\":{\"color\":\"#00cc96\",\"pattern\":{\"shape\":\"\"}},\"name\":\"Eindhoven Airport\",\"offsetgroup\":\"Eindhoven Airport\",\"orientation\":\"h\",\"showlegend\":true,\"textposition\":\"auto\",\"x\":[\"2020 February*\"],\"xaxis\":\"x\",\"y\":[3.719655442443237],\"yaxis\":\"y\",\"type\":\"bar\"},{\"alignmentgroup\":\"True\",\"hovertemplate\":\"<b>%{hovertext}</b><br><br>Airports=Maastricht Aachen Airport<br>Periods=%{x}<br>PC_flights=%{y}<extra></extra>\",\"hovertext\":[0.42194092827003704],\"ids\":[\"Maastricht Aachen Airport\"],\"legendgroup\":\"Maastricht Aachen Airport\",\"marker\":{\"color\":\"#ab63fa\",\"pattern\":{\"shape\":\"\"}},\"name\":\"Maastricht Aachen Airport\",\"offsetgroup\":\"Maastricht Aachen Airport\",\"orientation\":\"h\",\"showlegend\":true,\"textposition\":\"auto\",\"x\":[\"2020 February*\"],\"xaxis\":\"x\",\"y\":[0.42194092827003704],\"yaxis\":\"y\",\"type\":\"bar\"},{\"alignmentgroup\":\"True\",\"hovertemplate\":\"<b>%{hovertext}</b><br><br>Airports=Groningen Airport Eelde<br>Periods=%{x}<br>PC_flights=%{y}<extra></extra>\",\"hovertext\":[-21.904761904761905],\"ids\":[\"Groningen Airport Eelde\"],\"legendgroup\":\"Groningen Airport Eelde\",\"marker\":{\"color\":\"#FFA15A\",\"pattern\":{\"shape\":\"\"}},\"name\":\"Groningen Airport Eelde\",\"offsetgroup\":\"Groningen Airport Eelde\",\"orientation\":\"h\",\"showlegend\":true,\"textposition\":\"auto\",\"x\":[\"2020 February*\"],\"xaxis\":\"x\",\"y\":[-21.904761904761905],\"yaxis\":\"y\",\"type\":\"bar\"}],\"name\":\"2020 February*\"},{\"data\":[{\"alignmentgroup\":\"True\",\"hovertemplate\":\"<b>%{hovertext}</b><br><br>Airports=Amsterdam Airport Schiphol<br>Periods=%{x}<br>PC_flights=%{y}<extra></extra>\",\"hovertext\":[-28.085422682180738],\"ids\":[\"Amsterdam Airport Schiphol\"],\"legendgroup\":\"Amsterdam Airport Schiphol\",\"marker\":{\"color\":\"#636efa\",\"pattern\":{\"shape\":\"\"}},\"name\":\"Amsterdam Airport Schiphol\",\"offsetgroup\":\"Amsterdam Airport Schiphol\",\"orientation\":\"h\",\"showlegend\":true,\"textposition\":\"auto\",\"x\":[\"2020 March*\"],\"xaxis\":\"x\",\"y\":[-28.085422682180738],\"yaxis\":\"y\",\"type\":\"bar\"},{\"alignmentgroup\":\"True\",\"hovertemplate\":\"<b>%{hovertext}</b><br><br>Airports=Rotterdam The Hague Airport<br>Periods=%{x}<br>PC_flights=%{y}<extra></extra>\",\"hovertext\":[-27.449078564500486],\"ids\":[\"Rotterdam The Hague Airport\"],\"legendgroup\":\"Rotterdam The Hague Airport\",\"marker\":{\"color\":\"#EF553B\",\"pattern\":{\"shape\":\"\"}},\"name\":\"Rotterdam The Hague Airport\",\"offsetgroup\":\"Rotterdam The Hague Airport\",\"orientation\":\"h\",\"showlegend\":true,\"textposition\":\"auto\",\"x\":[\"2020 March*\"],\"xaxis\":\"x\",\"y\":[-27.449078564500486],\"yaxis\":\"y\",\"type\":\"bar\"},{\"alignmentgroup\":\"True\",\"hovertemplate\":\"<b>%{hovertext}</b><br><br>Airports=Eindhoven Airport<br>Periods=%{x}<br>PC_flights=%{y}<extra></extra>\",\"hovertext\":[-28.727821819554546],\"ids\":[\"Eindhoven Airport\"],\"legendgroup\":\"Eindhoven Airport\",\"marker\":{\"color\":\"#00cc96\",\"pattern\":{\"shape\":\"\"}},\"name\":\"Eindhoven Airport\",\"offsetgroup\":\"Eindhoven Airport\",\"orientation\":\"h\",\"showlegend\":true,\"textposition\":\"auto\",\"x\":[\"2020 March*\"],\"xaxis\":\"x\",\"y\":[-28.727821819554546],\"yaxis\":\"y\",\"type\":\"bar\"},{\"alignmentgroup\":\"True\",\"hovertemplate\":\"<b>%{hovertext}</b><br><br>Airports=Maastricht Aachen Airport<br>Periods=%{x}<br>PC_flights=%{y}<extra></extra>\",\"hovertext\":[1.8907563025210017],\"ids\":[\"Maastricht Aachen Airport\"],\"legendgroup\":\"Maastricht Aachen Airport\",\"marker\":{\"color\":\"#ab63fa\",\"pattern\":{\"shape\":\"\"}},\"name\":\"Maastricht Aachen Airport\",\"offsetgroup\":\"Maastricht Aachen Airport\",\"orientation\":\"h\",\"showlegend\":true,\"textposition\":\"auto\",\"x\":[\"2020 March*\"],\"xaxis\":\"x\",\"y\":[1.8907563025210017],\"yaxis\":\"y\",\"type\":\"bar\"},{\"alignmentgroup\":\"True\",\"hovertemplate\":\"<b>%{hovertext}</b><br><br>Airports=Groningen Airport Eelde<br>Periods=%{x}<br>PC_flights=%{y}<extra></extra>\",\"hovertext\":[-81.70731707317074],\"ids\":[\"Groningen Airport Eelde\"],\"legendgroup\":\"Groningen Airport Eelde\",\"marker\":{\"color\":\"#FFA15A\",\"pattern\":{\"shape\":\"\"}},\"name\":\"Groningen Airport Eelde\",\"offsetgroup\":\"Groningen Airport Eelde\",\"orientation\":\"h\",\"showlegend\":true,\"textposition\":\"auto\",\"x\":[\"2020 March*\"],\"xaxis\":\"x\",\"y\":[-81.70731707317074],\"yaxis\":\"y\",\"type\":\"bar\"}],\"name\":\"2020 March*\"},{\"data\":[{\"alignmentgroup\":\"True\",\"hovertemplate\":\"<b>%{hovertext}</b><br><br>Airports=Amsterdam Airport Schiphol<br>Periods=%{x}<br>PC_flights=%{y}<extra></extra>\",\"hovertext\":[-83.16040548598689],\"ids\":[\"Amsterdam Airport Schiphol\"],\"legendgroup\":\"Amsterdam Airport Schiphol\",\"marker\":{\"color\":\"#636efa\",\"pattern\":{\"shape\":\"\"}},\"name\":\"Amsterdam Airport Schiphol\",\"offsetgroup\":\"Amsterdam Airport Schiphol\",\"orientation\":\"h\",\"showlegend\":true,\"textposition\":\"auto\",\"x\":[\"2020 April*\"],\"xaxis\":\"x\",\"y\":[-83.16040548598689],\"yaxis\":\"y\",\"type\":\"bar\"},{\"alignmentgroup\":\"True\",\"hovertemplate\":\"<b>%{hovertext}</b><br><br>Airports=Rotterdam The Hague Airport<br>Periods=%{x}<br>PC_flights=%{y}<extra></extra>\",\"hovertext\":[-94.5187165775401],\"ids\":[\"Rotterdam The Hague Airport\"],\"legendgroup\":\"Rotterdam The Hague Airport\",\"marker\":{\"color\":\"#EF553B\",\"pattern\":{\"shape\":\"\"}},\"name\":\"Rotterdam The Hague Airport\",\"offsetgroup\":\"Rotterdam The Hague Airport\",\"orientation\":\"h\",\"showlegend\":true,\"textposition\":\"auto\",\"x\":[\"2020 April*\"],\"xaxis\":\"x\",\"y\":[-94.5187165775401],\"yaxis\":\"y\",\"type\":\"bar\"},{\"alignmentgroup\":\"True\",\"hovertemplate\":\"<b>%{hovertext}</b><br><br>Airports=Eindhoven Airport<br>Periods=%{x}<br>PC_flights=%{y}<extra></extra>\",\"hovertext\":[-92.16101694915254],\"ids\":[\"Eindhoven Airport\"],\"legendgroup\":\"Eindhoven Airport\",\"marker\":{\"color\":\"#00cc96\",\"pattern\":{\"shape\":\"\"}},\"name\":\"Eindhoven Airport\",\"offsetgroup\":\"Eindhoven Airport\",\"orientation\":\"h\",\"showlegend\":true,\"textposition\":\"auto\",\"x\":[\"2020 April*\"],\"xaxis\":\"x\",\"y\":[-92.16101694915254],\"yaxis\":\"y\",\"type\":\"bar\"},{\"alignmentgroup\":\"True\",\"hovertemplate\":\"<b>%{hovertext}</b><br><br>Airports=Maastricht Aachen Airport<br>Periods=%{x}<br>PC_flights=%{y}<extra></extra>\",\"hovertext\":[-32.16494845360825],\"ids\":[\"Maastricht Aachen Airport\"],\"legendgroup\":\"Maastricht Aachen Airport\",\"marker\":{\"color\":\"#ab63fa\",\"pattern\":{\"shape\":\"\"}},\"name\":\"Maastricht Aachen Airport\",\"offsetgroup\":\"Maastricht Aachen Airport\",\"orientation\":\"h\",\"showlegend\":true,\"textposition\":\"auto\",\"x\":[\"2020 April*\"],\"xaxis\":\"x\",\"y\":[-32.16494845360825],\"yaxis\":\"y\",\"type\":\"bar\"},{\"alignmentgroup\":\"True\",\"hovertemplate\":\"<b>%{hovertext}</b><br><br>Airports=Groningen Airport Eelde<br>Periods=%{x}<br>PC_flights=%{y}<extra></extra>\",\"hovertext\":[-83.33333333333334],\"ids\":[\"Groningen Airport Eelde\"],\"legendgroup\":\"Groningen Airport Eelde\",\"marker\":{\"color\":\"#FFA15A\",\"pattern\":{\"shape\":\"\"}},\"name\":\"Groningen Airport Eelde\",\"offsetgroup\":\"Groningen Airport Eelde\",\"orientation\":\"h\",\"showlegend\":true,\"textposition\":\"auto\",\"x\":[\"2020 April*\"],\"xaxis\":\"x\",\"y\":[-83.33333333333334],\"yaxis\":\"y\",\"type\":\"bar\"}],\"name\":\"2020 April*\"},{\"data\":[{\"alignmentgroup\":\"True\",\"hovertemplate\":\"<b>%{hovertext}</b><br><br>Airports=Amsterdam Airport Schiphol<br>Periods=%{x}<br>PC_flights=%{y}<extra></extra>\",\"hovertext\":[38.644948064211526],\"ids\":[\"Amsterdam Airport Schiphol\"],\"legendgroup\":\"Amsterdam Airport Schiphol\",\"marker\":{\"color\":\"#636efa\",\"pattern\":{\"shape\":\"\"}},\"name\":\"Amsterdam Airport Schiphol\",\"offsetgroup\":\"Amsterdam Airport Schiphol\",\"orientation\":\"h\",\"showlegend\":true,\"textposition\":\"auto\",\"x\":[\"2020 May*\"],\"xaxis\":\"x\",\"y\":[38.644948064211526],\"yaxis\":\"y\",\"type\":\"bar\"},{\"alignmentgroup\":\"True\",\"hovertemplate\":\"<b>%{hovertext}</b><br><br>Airports=Rotterdam The Hague Airport<br>Periods=%{x}<br>PC_flights=%{y}<extra></extra>\",\"hovertext\":[12.195121951219523],\"ids\":[\"Rotterdam The Hague Airport\"],\"legendgroup\":\"Rotterdam The Hague Airport\",\"marker\":{\"color\":\"#EF553B\",\"pattern\":{\"shape\":\"\"}},\"name\":\"Rotterdam The Hague Airport\",\"offsetgroup\":\"Rotterdam The Hague Airport\",\"orientation\":\"h\",\"showlegend\":true,\"textposition\":\"auto\",\"x\":[\"2020 May*\"],\"xaxis\":\"x\",\"y\":[12.195121951219523],\"yaxis\":\"y\",\"type\":\"bar\"},{\"alignmentgroup\":\"True\",\"hovertemplate\":\"<b>%{hovertext}</b><br><br>Airports=Eindhoven Airport<br>Periods=%{x}<br>PC_flights=%{y}<extra></extra>\",\"hovertext\":[20.270270270270263],\"ids\":[\"Eindhoven Airport\"],\"legendgroup\":\"Eindhoven Airport\",\"marker\":{\"color\":\"#00cc96\",\"pattern\":{\"shape\":\"\"}},\"name\":\"Eindhoven Airport\",\"offsetgroup\":\"Eindhoven Airport\",\"orientation\":\"h\",\"showlegend\":true,\"textposition\":\"auto\",\"x\":[\"2020 May*\"],\"xaxis\":\"x\",\"y\":[20.270270270270263],\"yaxis\":\"y\",\"type\":\"bar\"},{\"alignmentgroup\":\"True\",\"hovertemplate\":\"<b>%{hovertext}</b><br><br>Airports=Maastricht Aachen Airport<br>Periods=%{x}<br>PC_flights=%{y}<extra></extra>\",\"hovertext\":[37.38601823708208],\"ids\":[\"Maastricht Aachen Airport\"],\"legendgroup\":\"Maastricht Aachen Airport\",\"marker\":{\"color\":\"#ab63fa\",\"pattern\":{\"shape\":\"\"}},\"name\":\"Maastricht Aachen Airport\",\"offsetgroup\":\"Maastricht Aachen Airport\",\"orientation\":\"h\",\"showlegend\":true,\"textposition\":\"auto\",\"x\":[\"2020 May*\"],\"xaxis\":\"x\",\"y\":[37.38601823708208],\"yaxis\":\"y\",\"type\":\"bar\"},{\"alignmentgroup\":\"True\",\"hovertemplate\":\"<b>%{hovertext}</b><br><br>Airports=Groningen Airport Eelde<br>Periods=%{x}<br>PC_flights=%{y}<extra></extra>\",\"hovertext\":[39.99999999999999],\"ids\":[\"Groningen Airport Eelde\"],\"legendgroup\":\"Groningen Airport Eelde\",\"marker\":{\"color\":\"#FFA15A\",\"pattern\":{\"shape\":\"\"}},\"name\":\"Groningen Airport Eelde\",\"offsetgroup\":\"Groningen Airport Eelde\",\"orientation\":\"h\",\"showlegend\":true,\"textposition\":\"auto\",\"x\":[\"2020 May*\"],\"xaxis\":\"x\",\"y\":[39.99999999999999],\"yaxis\":\"y\",\"type\":\"bar\"}],\"name\":\"2020 May*\"},{\"data\":[{\"alignmentgroup\":\"True\",\"hovertemplate\":\"<b>%{hovertext}</b><br><br>Airports=Amsterdam Airport Schiphol<br>Periods=%{x}<br>PC_flights=%{y}<extra></extra>\",\"hovertext\":[38.05550825813042],\"ids\":[\"Amsterdam Airport Schiphol\"],\"legendgroup\":\"Amsterdam Airport Schiphol\",\"marker\":{\"color\":\"#636efa\",\"pattern\":{\"shape\":\"\"}},\"name\":\"Amsterdam Airport Schiphol\",\"offsetgroup\":\"Amsterdam Airport Schiphol\",\"orientation\":\"h\",\"showlegend\":true,\"textposition\":\"auto\",\"x\":[\"2020 June*\"],\"xaxis\":\"x\",\"y\":[38.05550825813042],\"yaxis\":\"y\",\"type\":\"bar\"},{\"alignmentgroup\":\"True\",\"hovertemplate\":\"<b>%{hovertext}</b><br><br>Airports=Rotterdam The Hague Airport<br>Periods=%{x}<br>PC_flights=%{y}<extra></extra>\",\"hovertext\":[265.2173913043478],\"ids\":[\"Rotterdam The Hague Airport\"],\"legendgroup\":\"Rotterdam The Hague Airport\",\"marker\":{\"color\":\"#EF553B\",\"pattern\":{\"shape\":\"\"}},\"name\":\"Rotterdam The Hague Airport\",\"offsetgroup\":\"Rotterdam The Hague Airport\",\"orientation\":\"h\",\"showlegend\":true,\"textposition\":\"auto\",\"x\":[\"2020 June*\"],\"xaxis\":\"x\",\"y\":[265.2173913043478],\"yaxis\":\"y\",\"type\":\"bar\"},{\"alignmentgroup\":\"True\",\"hovertemplate\":\"<b>%{hovertext}</b><br><br>Airports=Eindhoven Airport<br>Periods=%{x}<br>PC_flights=%{y}<extra></extra>\",\"hovertext\":[217.41573033707863],\"ids\":[\"Eindhoven Airport\"],\"legendgroup\":\"Eindhoven Airport\",\"marker\":{\"color\":\"#00cc96\",\"pattern\":{\"shape\":\"\"}},\"name\":\"Eindhoven Airport\",\"offsetgroup\":\"Eindhoven Airport\",\"orientation\":\"h\",\"showlegend\":true,\"textposition\":\"auto\",\"x\":[\"2020 June*\"],\"xaxis\":\"x\",\"y\":[217.41573033707863],\"yaxis\":\"y\",\"type\":\"bar\"},{\"alignmentgroup\":\"True\",\"hovertemplate\":\"<b>%{hovertext}</b><br><br>Airports=Maastricht Aachen Airport<br>Periods=%{x}<br>PC_flights=%{y}<extra></extra>\",\"hovertext\":[8.185840707964598],\"ids\":[\"Maastricht Aachen Airport\"],\"legendgroup\":\"Maastricht Aachen Airport\",\"marker\":{\"color\":\"#ab63fa\",\"pattern\":{\"shape\":\"\"}},\"name\":\"Maastricht Aachen Airport\",\"offsetgroup\":\"Maastricht Aachen Airport\",\"orientation\":\"h\",\"showlegend\":true,\"textposition\":\"auto\",\"x\":[\"2020 June*\"],\"xaxis\":\"x\",\"y\":[8.185840707964598],\"yaxis\":\"y\",\"type\":\"bar\"},{\"alignmentgroup\":\"True\",\"hovertemplate\":\"<b>%{hovertext}</b><br><br>Airports=Groningen Airport Eelde<br>Periods=%{x}<br>PC_flights=%{y}<extra></extra>\",\"hovertext\":[-14.28571428571429],\"ids\":[\"Groningen Airport Eelde\"],\"legendgroup\":\"Groningen Airport Eelde\",\"marker\":{\"color\":\"#FFA15A\",\"pattern\":{\"shape\":\"\"}},\"name\":\"Groningen Airport Eelde\",\"offsetgroup\":\"Groningen Airport Eelde\",\"orientation\":\"h\",\"showlegend\":true,\"textposition\":\"auto\",\"x\":[\"2020 June*\"],\"xaxis\":\"x\",\"y\":[-14.28571428571429],\"yaxis\":\"y\",\"type\":\"bar\"}],\"name\":\"2020 June*\"},{\"data\":[{\"alignmentgroup\":\"True\",\"hovertemplate\":\"<b>%{hovertext}</b><br><br>Airports=Amsterdam Airport Schiphol<br>Periods=%{x}<br>PC_flights=%{y}<extra></extra>\",\"hovertext\":[93.6605821410952],\"ids\":[\"Amsterdam Airport Schiphol\"],\"legendgroup\":\"Amsterdam Airport Schiphol\",\"marker\":{\"color\":\"#636efa\",\"pattern\":{\"shape\":\"\"}},\"name\":\"Amsterdam Airport Schiphol\",\"offsetgroup\":\"Amsterdam Airport Schiphol\",\"orientation\":\"h\",\"showlegend\":true,\"textposition\":\"auto\",\"x\":[\"2020 July*\"],\"xaxis\":\"x\",\"y\":[93.6605821410952],\"yaxis\":\"y\",\"type\":\"bar\"},{\"alignmentgroup\":\"True\",\"hovertemplate\":\"<b>%{hovertext}</b><br><br>Airports=Rotterdam The Hague Airport<br>Periods=%{x}<br>PC_flights=%{y}<extra></extra>\",\"hovertext\":[514.2857142857143],\"ids\":[\"Rotterdam The Hague Airport\"],\"legendgroup\":\"Rotterdam The Hague Airport\",\"marker\":{\"color\":\"#EF553B\",\"pattern\":{\"shape\":\"\"}},\"name\":\"Rotterdam The Hague Airport\",\"offsetgroup\":\"Rotterdam The Hague Airport\",\"orientation\":\"h\",\"showlegend\":true,\"textposition\":\"auto\",\"x\":[\"2020 July*\"],\"xaxis\":\"x\",\"y\":[514.2857142857143],\"yaxis\":\"y\",\"type\":\"bar\"},{\"alignmentgroup\":\"True\",\"hovertemplate\":\"<b>%{hovertext}</b><br><br>Airports=Eindhoven Airport<br>Periods=%{x}<br>PC_flights=%{y}<extra></extra>\",\"hovertext\":[305.66371681415933],\"ids\":[\"Eindhoven Airport\"],\"legendgroup\":\"Eindhoven Airport\",\"marker\":{\"color\":\"#00cc96\",\"pattern\":{\"shape\":\"\"}},\"name\":\"Eindhoven Airport\",\"offsetgroup\":\"Eindhoven Airport\",\"orientation\":\"h\",\"showlegend\":true,\"textposition\":\"auto\",\"x\":[\"2020 July*\"],\"xaxis\":\"x\",\"y\":[305.66371681415933],\"yaxis\":\"y\",\"type\":\"bar\"},{\"alignmentgroup\":\"True\",\"hovertemplate\":\"<b>%{hovertext}</b><br><br>Airports=Maastricht Aachen Airport<br>Periods=%{x}<br>PC_flights=%{y}<extra></extra>\",\"hovertext\":[26.993865030674847],\"ids\":[\"Maastricht Aachen Airport\"],\"legendgroup\":\"Maastricht Aachen Airport\",\"marker\":{\"color\":\"#ab63fa\",\"pattern\":{\"shape\":\"\"}},\"name\":\"Maastricht Aachen Airport\",\"offsetgroup\":\"Maastricht Aachen Airport\",\"orientation\":\"h\",\"showlegend\":true,\"textposition\":\"auto\",\"x\":[\"2020 July*\"],\"xaxis\":\"x\",\"y\":[26.993865030674847],\"yaxis\":\"y\",\"type\":\"bar\"},{\"alignmentgroup\":\"True\",\"hovertemplate\":\"<b>%{hovertext}</b><br><br>Airports=Groningen Airport Eelde<br>Periods=%{x}<br>PC_flights=%{y}<extra></extra>\",\"hovertext\":[800.0],\"ids\":[\"Groningen Airport Eelde\"],\"legendgroup\":\"Groningen Airport Eelde\",\"marker\":{\"color\":\"#FFA15A\",\"pattern\":{\"shape\":\"\"}},\"name\":\"Groningen Airport Eelde\",\"offsetgroup\":\"Groningen Airport Eelde\",\"orientation\":\"h\",\"showlegend\":true,\"textposition\":\"auto\",\"x\":[\"2020 July*\"],\"xaxis\":\"x\",\"y\":[800.0],\"yaxis\":\"y\",\"type\":\"bar\"}],\"name\":\"2020 July*\"},{\"data\":[{\"alignmentgroup\":\"True\",\"hovertemplate\":\"<b>%{hovertext}</b><br><br>Airports=Amsterdam Airport Schiphol<br>Periods=%{x}<br>PC_flights=%{y}<extra></extra>\",\"hovertext\":[47.27423258183671],\"ids\":[\"Amsterdam Airport Schiphol\"],\"legendgroup\":\"Amsterdam Airport Schiphol\",\"marker\":{\"color\":\"#636efa\",\"pattern\":{\"shape\":\"\"}},\"name\":\"Amsterdam Airport Schiphol\",\"offsetgroup\":\"Amsterdam Airport Schiphol\",\"orientation\":\"h\",\"showlegend\":true,\"textposition\":\"auto\",\"x\":[\"2020 August*\"],\"xaxis\":\"x\",\"y\":[47.27423258183671],\"yaxis\":\"y\",\"type\":\"bar\"},{\"alignmentgroup\":\"True\",\"hovertemplate\":\"<b>%{hovertext}</b><br><br>Airports=Rotterdam The Hague Airport<br>Periods=%{x}<br>PC_flights=%{y}<extra></extra>\",\"hovertext\":[3.779069767441867],\"ids\":[\"Rotterdam The Hague Airport\"],\"legendgroup\":\"Rotterdam The Hague Airport\",\"marker\":{\"color\":\"#EF553B\",\"pattern\":{\"shape\":\"\"}},\"name\":\"Rotterdam The Hague Airport\",\"offsetgroup\":\"Rotterdam The Hague Airport\",\"orientation\":\"h\",\"showlegend\":true,\"textposition\":\"auto\",\"x\":[\"2020 August*\"],\"xaxis\":\"x\",\"y\":[3.779069767441867],\"yaxis\":\"y\",\"type\":\"bar\"},{\"alignmentgroup\":\"True\",\"hovertemplate\":\"<b>%{hovertext}</b><br><br>Airports=Eindhoven Airport<br>Periods=%{x}<br>PC_flights=%{y}<extra></extra>\",\"hovertext\":[18.368237347294937],\"ids\":[\"Eindhoven Airport\"],\"legendgroup\":\"Eindhoven Airport\",\"marker\":{\"color\":\"#00cc96\",\"pattern\":{\"shape\":\"\"}},\"name\":\"Eindhoven Airport\",\"offsetgroup\":\"Eindhoven Airport\",\"orientation\":\"h\",\"showlegend\":true,\"textposition\":\"auto\",\"x\":[\"2020 August*\"],\"xaxis\":\"x\",\"y\":[18.368237347294937],\"yaxis\":\"y\",\"type\":\"bar\"},{\"alignmentgroup\":\"True\",\"hovertemplate\":\"<b>%{hovertext}</b><br><br>Airports=Maastricht Aachen Airport<br>Periods=%{x}<br>PC_flights=%{y}<extra></extra>\",\"hovertext\":[-0.9661835748792313],\"ids\":[\"Maastricht Aachen Airport\"],\"legendgroup\":\"Maastricht Aachen Airport\",\"marker\":{\"color\":\"#ab63fa\",\"pattern\":{\"shape\":\"\"}},\"name\":\"Maastricht Aachen Airport\",\"offsetgroup\":\"Maastricht Aachen Airport\",\"orientation\":\"h\",\"showlegend\":true,\"textposition\":\"auto\",\"x\":[\"2020 August*\"],\"xaxis\":\"x\",\"y\":[-0.9661835748792313],\"yaxis\":\"y\",\"type\":\"bar\"},{\"alignmentgroup\":\"True\",\"hovertemplate\":\"<b>%{hovertext}</b><br><br>Airports=Groningen Airport Eelde<br>Periods=%{x}<br>PC_flights=%{y}<extra></extra>\",\"hovertext\":[-5.555555555555558],\"ids\":[\"Groningen Airport Eelde\"],\"legendgroup\":\"Groningen Airport Eelde\",\"marker\":{\"color\":\"#FFA15A\",\"pattern\":{\"shape\":\"\"}},\"name\":\"Groningen Airport Eelde\",\"offsetgroup\":\"Groningen Airport Eelde\",\"orientation\":\"h\",\"showlegend\":true,\"textposition\":\"auto\",\"x\":[\"2020 August*\"],\"xaxis\":\"x\",\"y\":[-5.555555555555558],\"yaxis\":\"y\",\"type\":\"bar\"}],\"name\":\"2020 August*\"},{\"data\":[{\"alignmentgroup\":\"True\",\"hovertemplate\":\"<b>%{hovertext}</b><br><br>Airports=Amsterdam Airport Schiphol<br>Periods=%{x}<br>PC_flights=%{y}<extra></extra>\",\"hovertext\":[-4.16432432432432],\"ids\":[\"Amsterdam Airport Schiphol\"],\"legendgroup\":\"Amsterdam Airport Schiphol\",\"marker\":{\"color\":\"#636efa\",\"pattern\":{\"shape\":\"\"}},\"name\":\"Amsterdam Airport Schiphol\",\"offsetgroup\":\"Amsterdam Airport Schiphol\",\"orientation\":\"h\",\"showlegend\":true,\"textposition\":\"auto\",\"x\":[\"2020 September*\"],\"xaxis\":\"x\",\"y\":[-4.16432432432432],\"yaxis\":\"y\",\"type\":\"bar\"},{\"alignmentgroup\":\"True\",\"hovertemplate\":\"<b>%{hovertext}</b><br><br>Airports=Rotterdam The Hague Airport<br>Periods=%{x}<br>PC_flights=%{y}<extra></extra>\",\"hovertext\":[-40.70961718020541],\"ids\":[\"Rotterdam The Hague Airport\"],\"legendgroup\":\"Rotterdam The Hague Airport\",\"marker\":{\"color\":\"#EF553B\",\"pattern\":{\"shape\":\"\"}},\"name\":\"Rotterdam The Hague Airport\",\"offsetgroup\":\"Rotterdam The Hague Airport\",\"orientation\":\"h\",\"showlegend\":true,\"textposition\":\"auto\",\"x\":[\"2020 September*\"],\"xaxis\":\"x\",\"y\":[-40.70961718020541],\"yaxis\":\"y\",\"type\":\"bar\"},{\"alignmentgroup\":\"True\",\"hovertemplate\":\"<b>%{hovertext}</b><br><br>Airports=Eindhoven Airport<br>Periods=%{x}<br>PC_flights=%{y}<extra></extra>\",\"hovertext\":[-28.234426833763358],\"ids\":[\"Eindhoven Airport\"],\"legendgroup\":\"Eindhoven Airport\",\"marker\":{\"color\":\"#00cc96\",\"pattern\":{\"shape\":\"\"}},\"name\":\"Eindhoven Airport\",\"offsetgroup\":\"Eindhoven Airport\",\"orientation\":\"h\",\"showlegend\":true,\"textposition\":\"auto\",\"x\":[\"2020 September*\"],\"xaxis\":\"x\",\"y\":[-28.234426833763358],\"yaxis\":\"y\",\"type\":\"bar\"},{\"alignmentgroup\":\"True\",\"hovertemplate\":\"<b>%{hovertext}</b><br><br>Airports=Maastricht Aachen Airport<br>Periods=%{x}<br>PC_flights=%{y}<extra></extra>\",\"hovertext\":[-16.09756097560976],\"ids\":[\"Maastricht Aachen Airport\"],\"legendgroup\":\"Maastricht Aachen Airport\",\"marker\":{\"color\":\"#ab63fa\",\"pattern\":{\"shape\":\"\"}},\"name\":\"Maastricht Aachen Airport\",\"offsetgroup\":\"Maastricht Aachen Airport\",\"orientation\":\"h\",\"showlegend\":true,\"textposition\":\"auto\",\"x\":[\"2020 September*\"],\"xaxis\":\"x\",\"y\":[-16.09756097560976],\"yaxis\":\"y\",\"type\":\"bar\"},{\"alignmentgroup\":\"True\",\"hovertemplate\":\"<b>%{hovertext}</b><br><br>Airports=Groningen Airport Eelde<br>Periods=%{x}<br>PC_flights=%{y}<extra></extra>\",\"hovertext\":[-41.17647058823529],\"ids\":[\"Groningen Airport Eelde\"],\"legendgroup\":\"Groningen Airport Eelde\",\"marker\":{\"color\":\"#FFA15A\",\"pattern\":{\"shape\":\"\"}},\"name\":\"Groningen Airport Eelde\",\"offsetgroup\":\"Groningen Airport Eelde\",\"orientation\":\"h\",\"showlegend\":true,\"textposition\":\"auto\",\"x\":[\"2020 September*\"],\"xaxis\":\"x\",\"y\":[-41.17647058823529],\"yaxis\":\"y\",\"type\":\"bar\"}],\"name\":\"2020 September*\"},{\"data\":[{\"alignmentgroup\":\"True\",\"hovertemplate\":\"<b>%{hovertext}</b><br><br>Airports=Amsterdam Airport Schiphol<br>Periods=%{x}<br>PC_flights=%{y}<extra></extra>\",\"hovertext\":[-11.497157296272897],\"ids\":[\"Amsterdam Airport Schiphol\"],\"legendgroup\":\"Amsterdam Airport Schiphol\",\"marker\":{\"color\":\"#636efa\",\"pattern\":{\"shape\":\"\"}},\"name\":\"Amsterdam Airport Schiphol\",\"offsetgroup\":\"Amsterdam Airport Schiphol\",\"orientation\":\"h\",\"showlegend\":true,\"textposition\":\"auto\",\"x\":[\"2020 October*\"],\"xaxis\":\"x\",\"y\":[-11.497157296272897],\"yaxis\":\"y\",\"type\":\"bar\"},{\"alignmentgroup\":\"True\",\"hovertemplate\":\"<b>%{hovertext}</b><br><br>Airports=Rotterdam The Hague Airport<br>Periods=%{x}<br>PC_flights=%{y}<extra></extra>\",\"hovertext\":[-44.40944881889764],\"ids\":[\"Rotterdam The Hague Airport\"],\"legendgroup\":\"Rotterdam The Hague Airport\",\"marker\":{\"color\":\"#EF553B\",\"pattern\":{\"shape\":\"\"}},\"name\":\"Rotterdam The Hague Airport\",\"offsetgroup\":\"Rotterdam The Hague Airport\",\"orientation\":\"h\",\"showlegend\":true,\"textposition\":\"auto\",\"x\":[\"2020 October*\"],\"xaxis\":\"x\",\"y\":[-44.40944881889764],\"yaxis\":\"y\",\"type\":\"bar\"},{\"alignmentgroup\":\"True\",\"hovertemplate\":\"<b>%{hovertext}</b><br><br>Airports=Eindhoven Airport<br>Periods=%{x}<br>PC_flights=%{y}<extra></extra>\",\"hovertext\":[-25.47508988186954],\"ids\":[\"Eindhoven Airport\"],\"legendgroup\":\"Eindhoven Airport\",\"marker\":{\"color\":\"#00cc96\",\"pattern\":{\"shape\":\"\"}},\"name\":\"Eindhoven Airport\",\"offsetgroup\":\"Eindhoven Airport\",\"orientation\":\"h\",\"showlegend\":true,\"textposition\":\"auto\",\"x\":[\"2020 October*\"],\"xaxis\":\"x\",\"y\":[-25.47508988186954],\"yaxis\":\"y\",\"type\":\"bar\"},{\"alignmentgroup\":\"True\",\"hovertemplate\":\"<b>%{hovertext}</b><br><br>Airports=Maastricht Aachen Airport<br>Periods=%{x}<br>PC_flights=%{y}<extra></extra>\",\"hovertext\":[13.759689922480622],\"ids\":[\"Maastricht Aachen Airport\"],\"legendgroup\":\"Maastricht Aachen Airport\",\"marker\":{\"color\":\"#ab63fa\",\"pattern\":{\"shape\":\"\"}},\"name\":\"Maastricht Aachen Airport\",\"offsetgroup\":\"Maastricht Aachen Airport\",\"orientation\":\"h\",\"showlegend\":true,\"textposition\":\"auto\",\"x\":[\"2020 October*\"],\"xaxis\":\"x\",\"y\":[13.759689922480622],\"yaxis\":\"y\",\"type\":\"bar\"},{\"alignmentgroup\":\"True\",\"hovertemplate\":\"<b>%{hovertext}</b><br><br>Airports=Groningen Airport Eelde<br>Periods=%{x}<br>PC_flights=%{y}<extra></extra>\",\"hovertext\":[-23.33333333333333],\"ids\":[\"Groningen Airport Eelde\"],\"legendgroup\":\"Groningen Airport Eelde\",\"marker\":{\"color\":\"#FFA15A\",\"pattern\":{\"shape\":\"\"}},\"name\":\"Groningen Airport Eelde\",\"offsetgroup\":\"Groningen Airport Eelde\",\"orientation\":\"h\",\"showlegend\":true,\"textposition\":\"auto\",\"x\":[\"2020 October*\"],\"xaxis\":\"x\",\"y\":[-23.33333333333333],\"yaxis\":\"y\",\"type\":\"bar\"}],\"name\":\"2020 October*\"},{\"data\":[{\"alignmentgroup\":\"True\",\"hovertemplate\":\"<b>%{hovertext}</b><br><br>Airports=Amsterdam Airport Schiphol<br>Periods=%{x}<br>PC_flights=%{y}<extra></extra>\",\"hovertext\":[-24.247986132354438],\"ids\":[\"Amsterdam Airport Schiphol\"],\"legendgroup\":\"Amsterdam Airport Schiphol\",\"marker\":{\"color\":\"#636efa\",\"pattern\":{\"shape\":\"\"}},\"name\":\"Amsterdam Airport Schiphol\",\"offsetgroup\":\"Amsterdam Airport Schiphol\",\"orientation\":\"h\",\"showlegend\":true,\"textposition\":\"auto\",\"x\":[\"2020 November*\"],\"xaxis\":\"x\",\"y\":[-24.247986132354438],\"yaxis\":\"y\",\"type\":\"bar\"},{\"alignmentgroup\":\"True\",\"hovertemplate\":\"<b>%{hovertext}</b><br><br>Airports=Rotterdam The Hague Airport<br>Periods=%{x}<br>PC_flights=%{y}<extra></extra>\",\"hovertext\":[-62.03966005665722],\"ids\":[\"Rotterdam The Hague Airport\"],\"legendgroup\":\"Rotterdam The Hague Airport\",\"marker\":{\"color\":\"#EF553B\",\"pattern\":{\"shape\":\"\"}},\"name\":\"Rotterdam The Hague Airport\",\"offsetgroup\":\"Rotterdam The Hague Airport\",\"orientation\":\"h\",\"showlegend\":true,\"textposition\":\"auto\",\"x\":[\"2020 November*\"],\"xaxis\":\"x\",\"y\":[-62.03966005665722],\"yaxis\":\"y\",\"type\":\"bar\"},{\"alignmentgroup\":\"True\",\"hovertemplate\":\"<b>%{hovertext}</b><br><br>Airports=Eindhoven Airport<br>Periods=%{x}<br>PC_flights=%{y}<extra></extra>\",\"hovertext\":[-50.31013094417642],\"ids\":[\"Eindhoven Airport\"],\"legendgroup\":\"Eindhoven Airport\",\"marker\":{\"color\":\"#00cc96\",\"pattern\":{\"shape\":\"\"}},\"name\":\"Eindhoven Airport\",\"offsetgroup\":\"Eindhoven Airport\",\"orientation\":\"h\",\"showlegend\":true,\"textposition\":\"auto\",\"x\":[\"2020 November*\"],\"xaxis\":\"x\",\"y\":[-50.31013094417642],\"yaxis\":\"y\",\"type\":\"bar\"},{\"alignmentgroup\":\"True\",\"hovertemplate\":\"<b>%{hovertext}</b><br><br>Airports=Maastricht Aachen Airport<br>Periods=%{x}<br>PC_flights=%{y}<extra></extra>\",\"hovertext\":[-6.643952299829648],\"ids\":[\"Maastricht Aachen Airport\"],\"legendgroup\":\"Maastricht Aachen Airport\",\"marker\":{\"color\":\"#ab63fa\",\"pattern\":{\"shape\":\"\"}},\"name\":\"Maastricht Aachen Airport\",\"offsetgroup\":\"Maastricht Aachen Airport\",\"orientation\":\"h\",\"showlegend\":true,\"textposition\":\"auto\",\"x\":[\"2020 November*\"],\"xaxis\":\"x\",\"y\":[-6.643952299829648],\"yaxis\":\"y\",\"type\":\"bar\"},{\"alignmentgroup\":\"True\",\"hovertemplate\":\"<b>%{hovertext}</b><br><br>Airports=Groningen Airport Eelde<br>Periods=%{x}<br>PC_flights=%{y}<extra></extra>\",\"hovertext\":[-4.347826086956519],\"ids\":[\"Groningen Airport Eelde\"],\"legendgroup\":\"Groningen Airport Eelde\",\"marker\":{\"color\":\"#FFA15A\",\"pattern\":{\"shape\":\"\"}},\"name\":\"Groningen Airport Eelde\",\"offsetgroup\":\"Groningen Airport Eelde\",\"orientation\":\"h\",\"showlegend\":true,\"textposition\":\"auto\",\"x\":[\"2020 November*\"],\"xaxis\":\"x\",\"y\":[-4.347826086956519],\"yaxis\":\"y\",\"type\":\"bar\"}],\"name\":\"2020 November*\"},{\"data\":[{\"alignmentgroup\":\"True\",\"hovertemplate\":\"<b>%{hovertext}</b><br><br>Airports=Amsterdam Airport Schiphol<br>Periods=%{x}<br>PC_flights=%{y}<extra></extra>\",\"hovertext\":[6.986135415264494],\"ids\":[\"Amsterdam Airport Schiphol\"],\"legendgroup\":\"Amsterdam Airport Schiphol\",\"marker\":{\"color\":\"#636efa\",\"pattern\":{\"shape\":\"\"}},\"name\":\"Amsterdam Airport Schiphol\",\"offsetgroup\":\"Amsterdam Airport Schiphol\",\"orientation\":\"h\",\"showlegend\":true,\"textposition\":\"auto\",\"x\":[\"2020 December*\"],\"xaxis\":\"x\",\"y\":[6.986135415264494],\"yaxis\":\"y\",\"type\":\"bar\"},{\"alignmentgroup\":\"True\",\"hovertemplate\":\"<b>%{hovertext}</b><br><br>Airports=Rotterdam The Hague Airport<br>Periods=%{x}<br>PC_flights=%{y}<extra></extra>\",\"hovertext\":[-14.179104477611936],\"ids\":[\"Rotterdam The Hague Airport\"],\"legendgroup\":\"Rotterdam The Hague Airport\",\"marker\":{\"color\":\"#EF553B\",\"pattern\":{\"shape\":\"\"}},\"name\":\"Rotterdam The Hague Airport\",\"offsetgroup\":\"Rotterdam The Hague Airport\",\"orientation\":\"h\",\"showlegend\":true,\"textposition\":\"auto\",\"x\":[\"2020 December*\"],\"xaxis\":\"x\",\"y\":[-14.179104477611936],\"yaxis\":\"y\",\"type\":\"bar\"},{\"alignmentgroup\":\"True\",\"hovertemplate\":\"<b>%{hovertext}</b><br><br>Airports=Eindhoven Airport<br>Periods=%{x}<br>PC_flights=%{y}<extra></extra>\",\"hovertext\":[6.657420249653256],\"ids\":[\"Eindhoven Airport\"],\"legendgroup\":\"Eindhoven Airport\",\"marker\":{\"color\":\"#00cc96\",\"pattern\":{\"shape\":\"\"}},\"name\":\"Eindhoven Airport\",\"offsetgroup\":\"Eindhoven Airport\",\"orientation\":\"h\",\"showlegend\":true,\"textposition\":\"auto\",\"x\":[\"2020 December*\"],\"xaxis\":\"x\",\"y\":[6.657420249653256],\"yaxis\":\"y\",\"type\":\"bar\"},{\"alignmentgroup\":\"True\",\"hovertemplate\":\"<b>%{hovertext}</b><br><br>Airports=Maastricht Aachen Airport<br>Periods=%{x}<br>PC_flights=%{y}<extra></extra>\",\"hovertext\":[-2.372262773722633],\"ids\":[\"Maastricht Aachen Airport\"],\"legendgroup\":\"Maastricht Aachen Airport\",\"marker\":{\"color\":\"#ab63fa\",\"pattern\":{\"shape\":\"\"}},\"name\":\"Maastricht Aachen Airport\",\"offsetgroup\":\"Maastricht Aachen Airport\",\"orientation\":\"h\",\"showlegend\":true,\"textposition\":\"auto\",\"x\":[\"2020 December*\"],\"xaxis\":\"x\",\"y\":[-2.372262773722633],\"yaxis\":\"y\",\"type\":\"bar\"},{\"alignmentgroup\":\"True\",\"hovertemplate\":\"<b>%{hovertext}</b><br><br>Airports=Groningen Airport Eelde<br>Periods=%{x}<br>PC_flights=%{y}<extra></extra>\",\"hovertext\":[-54.54545454545454],\"ids\":[\"Groningen Airport Eelde\"],\"legendgroup\":\"Groningen Airport Eelde\",\"marker\":{\"color\":\"#FFA15A\",\"pattern\":{\"shape\":\"\"}},\"name\":\"Groningen Airport Eelde\",\"offsetgroup\":\"Groningen Airport Eelde\",\"orientation\":\"h\",\"showlegend\":true,\"textposition\":\"auto\",\"x\":[\"2020 December*\"],\"xaxis\":\"x\",\"y\":[-54.54545454545454],\"yaxis\":\"y\",\"type\":\"bar\"}],\"name\":\"2020 December*\"},{\"data\":[{\"alignmentgroup\":\"True\",\"hovertemplate\":\"<b>%{hovertext}</b><br><br>Airports=Amsterdam Airport Schiphol<br>Periods=%{x}<br>PC_flights=%{y}<extra></extra>\",\"hovertext\":[-7.737795671867131],\"ids\":[\"Amsterdam Airport Schiphol\"],\"legendgroup\":\"Amsterdam Airport Schiphol\",\"marker\":{\"color\":\"#636efa\",\"pattern\":{\"shape\":\"\"}},\"name\":\"Amsterdam Airport Schiphol\",\"offsetgroup\":\"Amsterdam Airport Schiphol\",\"orientation\":\"h\",\"showlegend\":true,\"textposition\":\"auto\",\"x\":[\"2021 January*\"],\"xaxis\":\"x\",\"y\":[-7.737795671867131],\"yaxis\":\"y\",\"type\":\"bar\"},{\"alignmentgroup\":\"True\",\"hovertemplate\":\"<b>%{hovertext}</b><br><br>Airports=Rotterdam The Hague Airport<br>Periods=%{x}<br>PC_flights=%{y}<extra></extra>\",\"hovertext\":[57.391304347826086],\"ids\":[\"Rotterdam The Hague Airport\"],\"legendgroup\":\"Rotterdam The Hague Airport\",\"marker\":{\"color\":\"#EF553B\",\"pattern\":{\"shape\":\"\"}},\"name\":\"Rotterdam The Hague Airport\",\"offsetgroup\":\"Rotterdam The Hague Airport\",\"orientation\":\"h\",\"showlegend\":true,\"textposition\":\"auto\",\"x\":[\"2021 January*\"],\"xaxis\":\"x\",\"y\":[57.391304347826086],\"yaxis\":\"y\",\"type\":\"bar\"},{\"alignmentgroup\":\"True\",\"hovertemplate\":\"<b>%{hovertext}</b><br><br>Airports=Eindhoven Airport<br>Periods=%{x}<br>PC_flights=%{y}<extra></extra>\",\"hovertext\":[-25.617685305591674],\"ids\":[\"Eindhoven Airport\"],\"legendgroup\":\"Eindhoven Airport\",\"marker\":{\"color\":\"#00cc96\",\"pattern\":{\"shape\":\"\"}},\"name\":\"Eindhoven Airport\",\"offsetgroup\":\"Eindhoven Airport\",\"orientation\":\"h\",\"showlegend\":true,\"textposition\":\"auto\",\"x\":[\"2021 January*\"],\"xaxis\":\"x\",\"y\":[-25.617685305591674],\"yaxis\":\"y\",\"type\":\"bar\"},{\"alignmentgroup\":\"True\",\"hovertemplate\":\"<b>%{hovertext}</b><br><br>Airports=Maastricht Aachen Airport<br>Periods=%{x}<br>PC_flights=%{y}<extra></extra>\",\"hovertext\":[-12.523364485981304],\"ids\":[\"Maastricht Aachen Airport\"],\"legendgroup\":\"Maastricht Aachen Airport\",\"marker\":{\"color\":\"#ab63fa\",\"pattern\":{\"shape\":\"\"}},\"name\":\"Maastricht Aachen Airport\",\"offsetgroup\":\"Maastricht Aachen Airport\",\"orientation\":\"h\",\"showlegend\":true,\"textposition\":\"auto\",\"x\":[\"2021 January*\"],\"xaxis\":\"x\",\"y\":[-12.523364485981304],\"yaxis\":\"y\",\"type\":\"bar\"},{\"alignmentgroup\":\"True\",\"hovertemplate\":\"<b>%{hovertext}</b><br><br>Airports=Groningen Airport Eelde<br>Periods=%{x}<br>PC_flights=%{y}<extra></extra>\",\"hovertext\":[100.0],\"ids\":[\"Groningen Airport Eelde\"],\"legendgroup\":\"Groningen Airport Eelde\",\"marker\":{\"color\":\"#FFA15A\",\"pattern\":{\"shape\":\"\"}},\"name\":\"Groningen Airport Eelde\",\"offsetgroup\":\"Groningen Airport Eelde\",\"orientation\":\"h\",\"showlegend\":true,\"textposition\":\"auto\",\"x\":[\"2021 January*\"],\"xaxis\":\"x\",\"y\":[100.0],\"yaxis\":\"y\",\"type\":\"bar\"}],\"name\":\"2021 January*\"},{\"data\":[{\"alignmentgroup\":\"True\",\"hovertemplate\":\"<b>%{hovertext}</b><br><br>Airports=Amsterdam Airport Schiphol<br>Periods=%{x}<br>PC_flights=%{y}<extra></extra>\",\"hovertext\":[-27.34897040774581],\"ids\":[\"Amsterdam Airport Schiphol\"],\"legendgroup\":\"Amsterdam Airport Schiphol\",\"marker\":{\"color\":\"#636efa\",\"pattern\":{\"shape\":\"\"}},\"name\":\"Amsterdam Airport Schiphol\",\"offsetgroup\":\"Amsterdam Airport Schiphol\",\"orientation\":\"h\",\"showlegend\":true,\"textposition\":\"auto\",\"x\":[\"2021 February*\"],\"xaxis\":\"x\",\"y\":[-27.34897040774581],\"yaxis\":\"y\",\"type\":\"bar\"},{\"alignmentgroup\":\"True\",\"hovertemplate\":\"<b>%{hovertext}</b><br><br>Airports=Rotterdam The Hague Airport<br>Periods=%{x}<br>PC_flights=%{y}<extra></extra>\",\"hovertext\":[-20.441988950276247],\"ids\":[\"Rotterdam The Hague Airport\"],\"legendgroup\":\"Rotterdam The Hague Airport\",\"marker\":{\"color\":\"#EF553B\",\"pattern\":{\"shape\":\"\"}},\"name\":\"Rotterdam The Hague Airport\",\"offsetgroup\":\"Rotterdam The Hague Airport\",\"orientation\":\"h\",\"showlegend\":true,\"textposition\":\"auto\",\"x\":[\"2021 February*\"],\"xaxis\":\"x\",\"y\":[-20.441988950276247],\"yaxis\":\"y\",\"type\":\"bar\"},{\"alignmentgroup\":\"True\",\"hovertemplate\":\"<b>%{hovertext}</b><br><br>Airports=Eindhoven Airport<br>Periods=%{x}<br>PC_flights=%{y}<extra></extra>\",\"hovertext\":[-70.45454545454545],\"ids\":[\"Eindhoven Airport\"],\"legendgroup\":\"Eindhoven Airport\",\"marker\":{\"color\":\"#00cc96\",\"pattern\":{\"shape\":\"\"}},\"name\":\"Eindhoven Airport\",\"offsetgroup\":\"Eindhoven Airport\",\"orientation\":\"h\",\"showlegend\":true,\"textposition\":\"auto\",\"x\":[\"2021 February*\"],\"xaxis\":\"x\",\"y\":[-70.45454545454545],\"yaxis\":\"y\",\"type\":\"bar\"},{\"alignmentgroup\":\"True\",\"hovertemplate\":\"<b>%{hovertext}</b><br><br>Airports=Maastricht Aachen Airport<br>Periods=%{x}<br>PC_flights=%{y}<extra></extra>\",\"hovertext\":[14.743589743589736],\"ids\":[\"Maastricht Aachen Airport\"],\"legendgroup\":\"Maastricht Aachen Airport\",\"marker\":{\"color\":\"#ab63fa\",\"pattern\":{\"shape\":\"\"}},\"name\":\"Maastricht Aachen Airport\",\"offsetgroup\":\"Maastricht Aachen Airport\",\"orientation\":\"h\",\"showlegend\":true,\"textposition\":\"auto\",\"x\":[\"2021 February*\"],\"xaxis\":\"x\",\"y\":[14.743589743589736],\"yaxis\":\"y\",\"type\":\"bar\"},{\"alignmentgroup\":\"True\",\"hovertemplate\":\"<b>%{hovertext}</b><br><br>Airports=Groningen Airport Eelde<br>Periods=%{x}<br>PC_flights=%{y}<extra></extra>\",\"hovertext\":[14.999999999999991],\"ids\":[\"Groningen Airport Eelde\"],\"legendgroup\":\"Groningen Airport Eelde\",\"marker\":{\"color\":\"#FFA15A\",\"pattern\":{\"shape\":\"\"}},\"name\":\"Groningen Airport Eelde\",\"offsetgroup\":\"Groningen Airport Eelde\",\"orientation\":\"h\",\"showlegend\":true,\"textposition\":\"auto\",\"x\":[\"2021 February*\"],\"xaxis\":\"x\",\"y\":[14.999999999999991],\"yaxis\":\"y\",\"type\":\"bar\"}],\"name\":\"2021 February*\"},{\"data\":[{\"alignmentgroup\":\"True\",\"hovertemplate\":\"<b>%{hovertext}</b><br><br>Airports=Amsterdam Airport Schiphol<br>Periods=%{x}<br>PC_flights=%{y}<extra></extra>\",\"hovertext\":[14.659784138901921],\"ids\":[\"Amsterdam Airport Schiphol\"],\"legendgroup\":\"Amsterdam Airport Schiphol\",\"marker\":{\"color\":\"#636efa\",\"pattern\":{\"shape\":\"\"}},\"name\":\"Amsterdam Airport Schiphol\",\"offsetgroup\":\"Amsterdam Airport Schiphol\",\"orientation\":\"h\",\"showlegend\":true,\"textposition\":\"auto\",\"x\":[\"2021 March*\"],\"xaxis\":\"x\",\"y\":[14.659784138901921],\"yaxis\":\"y\",\"type\":\"bar\"},{\"alignmentgroup\":\"True\",\"hovertemplate\":\"<b>%{hovertext}</b><br><br>Airports=Rotterdam The Hague Airport<br>Periods=%{x}<br>PC_flights=%{y}<extra></extra>\",\"hovertext\":[28.472222222222232],\"ids\":[\"Rotterdam The Hague Airport\"],\"legendgroup\":\"Rotterdam The Hague Airport\",\"marker\":{\"color\":\"#EF553B\",\"pattern\":{\"shape\":\"\"}},\"name\":\"Rotterdam The Hague Airport\",\"offsetgroup\":\"Rotterdam The Hague Airport\",\"orientation\":\"h\",\"showlegend\":true,\"textposition\":\"auto\",\"x\":[\"2021 March*\"],\"xaxis\":\"x\",\"y\":[28.472222222222232],\"yaxis\":\"y\",\"type\":\"bar\"},{\"alignmentgroup\":\"True\",\"hovertemplate\":\"<b>%{hovertext}</b><br><br>Airports=Eindhoven Airport<br>Periods=%{x}<br>PC_flights=%{y}<extra></extra>\",\"hovertext\":[33.72781065088757],\"ids\":[\"Eindhoven Airport\"],\"legendgroup\":\"Eindhoven Airport\",\"marker\":{\"color\":\"#00cc96\",\"pattern\":{\"shape\":\"\"}},\"name\":\"Eindhoven Airport\",\"offsetgroup\":\"Eindhoven Airport\",\"orientation\":\"h\",\"showlegend\":true,\"textposition\":\"auto\",\"x\":[\"2021 March*\"],\"xaxis\":\"x\",\"y\":[33.72781065088757],\"yaxis\":\"y\",\"type\":\"bar\"},{\"alignmentgroup\":\"True\",\"hovertemplate\":\"<b>%{hovertext}</b><br><br>Airports=Maastricht Aachen Airport<br>Periods=%{x}<br>PC_flights=%{y}<extra></extra>\",\"hovertext\":[4.283054003724396],\"ids\":[\"Maastricht Aachen Airport\"],\"legendgroup\":\"Maastricht Aachen Airport\",\"marker\":{\"color\":\"#ab63fa\",\"pattern\":{\"shape\":\"\"}},\"name\":\"Maastricht Aachen Airport\",\"offsetgroup\":\"Maastricht Aachen Airport\",\"orientation\":\"h\",\"showlegend\":true,\"textposition\":\"auto\",\"x\":[\"2021 March*\"],\"xaxis\":\"x\",\"y\":[4.283054003724396],\"yaxis\":\"y\",\"type\":\"bar\"},{\"alignmentgroup\":\"True\",\"hovertemplate\":\"<b>%{hovertext}</b><br><br>Airports=Groningen Airport Eelde<br>Periods=%{x}<br>PC_flights=%{y}<extra></extra>\",\"hovertext\":[73.91304347826086],\"ids\":[\"Groningen Airport Eelde\"],\"legendgroup\":\"Groningen Airport Eelde\",\"marker\":{\"color\":\"#FFA15A\",\"pattern\":{\"shape\":\"\"}},\"name\":\"Groningen Airport Eelde\",\"offsetgroup\":\"Groningen Airport Eelde\",\"orientation\":\"h\",\"showlegend\":true,\"textposition\":\"auto\",\"x\":[\"2021 March*\"],\"xaxis\":\"x\",\"y\":[73.91304347826086],\"yaxis\":\"y\",\"type\":\"bar\"}],\"name\":\"2021 March*\"},{\"data\":[{\"alignmentgroup\":\"True\",\"hovertemplate\":\"<b>%{hovertext}</b><br><br>Airports=Amsterdam Airport Schiphol<br>Periods=%{x}<br>PC_flights=%{y}<extra></extra>\",\"hovertext\":[12.30252926250306],\"ids\":[\"Amsterdam Airport Schiphol\"],\"legendgroup\":\"Amsterdam Airport Schiphol\",\"marker\":{\"color\":\"#636efa\",\"pattern\":{\"shape\":\"\"}},\"name\":\"Amsterdam Airport Schiphol\",\"offsetgroup\":\"Amsterdam Airport Schiphol\",\"orientation\":\"h\",\"showlegend\":true,\"textposition\":\"auto\",\"x\":[\"2021 April*\"],\"xaxis\":\"x\",\"y\":[12.30252926250306],\"yaxis\":\"y\",\"type\":\"bar\"},{\"alignmentgroup\":\"True\",\"hovertemplate\":\"<b>%{hovertext}</b><br><br>Airports=Rotterdam The Hague Airport<br>Periods=%{x}<br>PC_flights=%{y}<extra></extra>\",\"hovertext\":[5.405405405405395],\"ids\":[\"Rotterdam The Hague Airport\"],\"legendgroup\":\"Rotterdam The Hague Airport\",\"marker\":{\"color\":\"#EF553B\",\"pattern\":{\"shape\":\"\"}},\"name\":\"Rotterdam The Hague Airport\",\"offsetgroup\":\"Rotterdam The Hague Airport\",\"orientation\":\"h\",\"showlegend\":true,\"textposition\":\"auto\",\"x\":[\"2021 April*\"],\"xaxis\":\"x\",\"y\":[5.405405405405395],\"yaxis\":\"y\",\"type\":\"bar\"},{\"alignmentgroup\":\"True\",\"hovertemplate\":\"<b>%{hovertext}</b><br><br>Airports=Eindhoven Airport<br>Periods=%{x}<br>PC_flights=%{y}<extra></extra>\",\"hovertext\":[65.04424778761062],\"ids\":[\"Eindhoven Airport\"],\"legendgroup\":\"Eindhoven Airport\",\"marker\":{\"color\":\"#00cc96\",\"pattern\":{\"shape\":\"\"}},\"name\":\"Eindhoven Airport\",\"offsetgroup\":\"Eindhoven Airport\",\"orientation\":\"h\",\"showlegend\":true,\"textposition\":\"auto\",\"x\":[\"2021 April*\"],\"xaxis\":\"x\",\"y\":[65.04424778761062],\"yaxis\":\"y\",\"type\":\"bar\"},{\"alignmentgroup\":\"True\",\"hovertemplate\":\"<b>%{hovertext}</b><br><br>Airports=Maastricht Aachen Airport<br>Periods=%{x}<br>PC_flights=%{y}<extra></extra>\",\"hovertext\":[0.5357142857142838],\"ids\":[\"Maastricht Aachen Airport\"],\"legendgroup\":\"Maastricht Aachen Airport\",\"marker\":{\"color\":\"#ab63fa\",\"pattern\":{\"shape\":\"\"}},\"name\":\"Maastricht Aachen Airport\",\"offsetgroup\":\"Maastricht Aachen Airport\",\"orientation\":\"h\",\"showlegend\":true,\"textposition\":\"auto\",\"x\":[\"2021 April*\"],\"xaxis\":\"x\",\"y\":[0.5357142857142838],\"yaxis\":\"y\",\"type\":\"bar\"},{\"alignmentgroup\":\"True\",\"hovertemplate\":\"<b>%{hovertext}</b><br><br>Airports=Groningen Airport Eelde<br>Periods=%{x}<br>PC_flights=%{y}<extra></extra>\",\"hovertext\":[0.0],\"ids\":[\"Groningen Airport Eelde\"],\"legendgroup\":\"Groningen Airport Eelde\",\"marker\":{\"color\":\"#FFA15A\",\"pattern\":{\"shape\":\"\"}},\"name\":\"Groningen Airport Eelde\",\"offsetgroup\":\"Groningen Airport Eelde\",\"orientation\":\"h\",\"showlegend\":true,\"textposition\":\"auto\",\"x\":[\"2021 April*\"],\"xaxis\":\"x\",\"y\":[0.0],\"yaxis\":\"y\",\"type\":\"bar\"}],\"name\":\"2021 April*\"},{\"data\":[{\"alignmentgroup\":\"True\",\"hovertemplate\":\"<b>%{hovertext}</b><br><br>Airports=Amsterdam Airport Schiphol<br>Periods=%{x}<br>PC_flights=%{y}<extra></extra>\",\"hovertext\":[13.527696793002919],\"ids\":[\"Amsterdam Airport Schiphol\"],\"legendgroup\":\"Amsterdam Airport Schiphol\",\"marker\":{\"color\":\"#636efa\",\"pattern\":{\"shape\":\"\"}},\"name\":\"Amsterdam Airport Schiphol\",\"offsetgroup\":\"Amsterdam Airport Schiphol\",\"orientation\":\"h\",\"showlegend\":true,\"textposition\":\"auto\",\"x\":[\"2021 May*\"],\"xaxis\":\"x\",\"y\":[13.527696793002919],\"yaxis\":\"y\",\"type\":\"bar\"},{\"alignmentgroup\":\"True\",\"hovertemplate\":\"<b>%{hovertext}</b><br><br>Airports=Rotterdam The Hague Airport<br>Periods=%{x}<br>PC_flights=%{y}<extra></extra>\",\"hovertext\":[36.92307692307693],\"ids\":[\"Rotterdam The Hague Airport\"],\"legendgroup\":\"Rotterdam The Hague Airport\",\"marker\":{\"color\":\"#EF553B\",\"pattern\":{\"shape\":\"\"}},\"name\":\"Rotterdam The Hague Airport\",\"offsetgroup\":\"Rotterdam The Hague Airport\",\"orientation\":\"h\",\"showlegend\":true,\"textposition\":\"auto\",\"x\":[\"2021 May*\"],\"xaxis\":\"x\",\"y\":[36.92307692307693],\"yaxis\":\"y\",\"type\":\"bar\"},{\"alignmentgroup\":\"True\",\"hovertemplate\":\"<b>%{hovertext}</b><br><br>Airports=Eindhoven Airport<br>Periods=%{x}<br>PC_flights=%{y}<extra></extra>\",\"hovertext\":[50.67024128686326],\"ids\":[\"Eindhoven Airport\"],\"legendgroup\":\"Eindhoven Airport\",\"marker\":{\"color\":\"#00cc96\",\"pattern\":{\"shape\":\"\"}},\"name\":\"Eindhoven Airport\",\"offsetgroup\":\"Eindhoven Airport\",\"orientation\":\"h\",\"showlegend\":true,\"textposition\":\"auto\",\"x\":[\"2021 May*\"],\"xaxis\":\"x\",\"y\":[50.67024128686326],\"yaxis\":\"y\",\"type\":\"bar\"},{\"alignmentgroup\":\"True\",\"hovertemplate\":\"<b>%{hovertext}</b><br><br>Airports=Maastricht Aachen Airport<br>Periods=%{x}<br>PC_flights=%{y}<extra></extra>\",\"hovertext\":[-1.4209591474245165],\"ids\":[\"Maastricht Aachen Airport\"],\"legendgroup\":\"Maastricht Aachen Airport\",\"marker\":{\"color\":\"#ab63fa\",\"pattern\":{\"shape\":\"\"}},\"name\":\"Maastricht Aachen Airport\",\"offsetgroup\":\"Maastricht Aachen Airport\",\"orientation\":\"h\",\"showlegend\":true,\"textposition\":\"auto\",\"x\":[\"2021 May*\"],\"xaxis\":\"x\",\"y\":[-1.4209591474245165],\"yaxis\":\"y\",\"type\":\"bar\"},{\"alignmentgroup\":\"True\",\"hovertemplate\":\"<b>%{hovertext}</b><br><br>Airports=Groningen Airport Eelde<br>Periods=%{x}<br>PC_flights=%{y}<extra></extra>\",\"hovertext\":[-32.49999999999999],\"ids\":[\"Groningen Airport Eelde\"],\"legendgroup\":\"Groningen Airport Eelde\",\"marker\":{\"color\":\"#FFA15A\",\"pattern\":{\"shape\":\"\"}},\"name\":\"Groningen Airport Eelde\",\"offsetgroup\":\"Groningen Airport Eelde\",\"orientation\":\"h\",\"showlegend\":true,\"textposition\":\"auto\",\"x\":[\"2021 May*\"],\"xaxis\":\"x\",\"y\":[-32.49999999999999],\"yaxis\":\"y\",\"type\":\"bar\"}],\"name\":\"2021 May*\"},{\"data\":[{\"alignmentgroup\":\"True\",\"hovertemplate\":\"<b>%{hovertext}</b><br><br>Airports=Amsterdam Airport Schiphol<br>Periods=%{x}<br>PC_flights=%{y}<extra></extra>\",\"hovertext\":[23.23446327683616],\"ids\":[\"Amsterdam Airport Schiphol\"],\"legendgroup\":\"Amsterdam Airport Schiphol\",\"marker\":{\"color\":\"#636efa\",\"pattern\":{\"shape\":\"\"}},\"name\":\"Amsterdam Airport Schiphol\",\"offsetgroup\":\"Amsterdam Airport Schiphol\",\"orientation\":\"h\",\"showlegend\":true,\"textposition\":\"auto\",\"x\":[\"2021 June*\"],\"xaxis\":\"x\",\"y\":[23.23446327683616],\"yaxis\":\"y\",\"type\":\"bar\"},{\"alignmentgroup\":\"True\",\"hovertemplate\":\"<b>%{hovertext}</b><br><br>Airports=Rotterdam The Hague Airport<br>Periods=%{x}<br>PC_flights=%{y}<extra></extra>\",\"hovertext\":[116.85393258426969],\"ids\":[\"Rotterdam The Hague Airport\"],\"legendgroup\":\"Rotterdam The Hague Airport\",\"marker\":{\"color\":\"#EF553B\",\"pattern\":{\"shape\":\"\"}},\"name\":\"Rotterdam The Hague Airport\",\"offsetgroup\":\"Rotterdam The Hague Airport\",\"orientation\":\"h\",\"showlegend\":true,\"textposition\":\"auto\",\"x\":[\"2021 June*\"],\"xaxis\":\"x\",\"y\":[116.85393258426969],\"yaxis\":\"y\",\"type\":\"bar\"},{\"alignmentgroup\":\"True\",\"hovertemplate\":\"<b>%{hovertext}</b><br><br>Airports=Eindhoven Airport<br>Periods=%{x}<br>PC_flights=%{y}<extra></extra>\",\"hovertext\":[154.09252669039145],\"ids\":[\"Eindhoven Airport\"],\"legendgroup\":\"Eindhoven Airport\",\"marker\":{\"color\":\"#00cc96\",\"pattern\":{\"shape\":\"\"}},\"name\":\"Eindhoven Airport\",\"offsetgroup\":\"Eindhoven Airport\",\"orientation\":\"h\",\"showlegend\":true,\"textposition\":\"auto\",\"x\":[\"2021 June*\"],\"xaxis\":\"x\",\"y\":[154.09252669039145],\"yaxis\":\"y\",\"type\":\"bar\"},{\"alignmentgroup\":\"True\",\"hovertemplate\":\"<b>%{hovertext}</b><br><br>Airports=Maastricht Aachen Airport<br>Periods=%{x}<br>PC_flights=%{y}<extra></extra>\",\"hovertext\":[-17.117117117117118],\"ids\":[\"Maastricht Aachen Airport\"],\"legendgroup\":\"Maastricht Aachen Airport\",\"marker\":{\"color\":\"#ab63fa\",\"pattern\":{\"shape\":\"\"}},\"name\":\"Maastricht Aachen Airport\",\"offsetgroup\":\"Maastricht Aachen Airport\",\"orientation\":\"h\",\"showlegend\":true,\"textposition\":\"auto\",\"x\":[\"2021 June*\"],\"xaxis\":\"x\",\"y\":[-17.117117117117118],\"yaxis\":\"y\",\"type\":\"bar\"},{\"alignmentgroup\":\"True\",\"hovertemplate\":\"<b>%{hovertext}</b><br><br>Airports=Groningen Airport Eelde<br>Periods=%{x}<br>PC_flights=%{y}<extra></extra>\",\"hovertext\":[44.44444444444444],\"ids\":[\"Groningen Airport Eelde\"],\"legendgroup\":\"Groningen Airport Eelde\",\"marker\":{\"color\":\"#FFA15A\",\"pattern\":{\"shape\":\"\"}},\"name\":\"Groningen Airport Eelde\",\"offsetgroup\":\"Groningen Airport Eelde\",\"orientation\":\"h\",\"showlegend\":true,\"textposition\":\"auto\",\"x\":[\"2021 June*\"],\"xaxis\":\"x\",\"y\":[44.44444444444444],\"yaxis\":\"y\",\"type\":\"bar\"}],\"name\":\"2021 June*\"},{\"data\":[{\"alignmentgroup\":\"True\",\"hovertemplate\":\"<b>%{hovertext}</b><br><br>Airports=Amsterdam Airport Schiphol<br>Periods=%{x}<br>PC_flights=%{y}<extra></extra>\",\"hovertext\":[51.815576973170096],\"ids\":[\"Amsterdam Airport Schiphol\"],\"legendgroup\":\"Amsterdam Airport Schiphol\",\"marker\":{\"color\":\"#636efa\",\"pattern\":{\"shape\":\"\"}},\"name\":\"Amsterdam Airport Schiphol\",\"offsetgroup\":\"Amsterdam Airport Schiphol\",\"orientation\":\"h\",\"showlegend\":true,\"textposition\":\"auto\",\"x\":[\"2021 July*\"],\"xaxis\":\"x\",\"y\":[51.815576973170096],\"yaxis\":\"y\",\"type\":\"bar\"},{\"alignmentgroup\":\"True\",\"hovertemplate\":\"<b>%{hovertext}</b><br><br>Airports=Rotterdam The Hague Airport<br>Periods=%{x}<br>PC_flights=%{y}<extra></extra>\",\"hovertext\":[126.59758203799653],\"ids\":[\"Rotterdam The Hague Airport\"],\"legendgroup\":\"Rotterdam The Hague Airport\",\"marker\":{\"color\":\"#EF553B\",\"pattern\":{\"shape\":\"\"}},\"name\":\"Rotterdam The Hague Airport\",\"offsetgroup\":\"Rotterdam The Hague Airport\",\"orientation\":\"h\",\"showlegend\":true,\"textposition\":\"auto\",\"x\":[\"2021 July*\"],\"xaxis\":\"x\",\"y\":[126.59758203799653],\"yaxis\":\"y\",\"type\":\"bar\"},{\"alignmentgroup\":\"True\",\"hovertemplate\":\"<b>%{hovertext}</b><br><br>Airports=Eindhoven Airport<br>Periods=%{x}<br>PC_flights=%{y}<extra></extra>\",\"hovertext\":[94.6078431372549],\"ids\":[\"Eindhoven Airport\"],\"legendgroup\":\"Eindhoven Airport\",\"marker\":{\"color\":\"#00cc96\",\"pattern\":{\"shape\":\"\"}},\"name\":\"Eindhoven Airport\",\"offsetgroup\":\"Eindhoven Airport\",\"orientation\":\"h\",\"showlegend\":true,\"textposition\":\"auto\",\"x\":[\"2021 July*\"],\"xaxis\":\"x\",\"y\":[94.6078431372549],\"yaxis\":\"y\",\"type\":\"bar\"},{\"alignmentgroup\":\"True\",\"hovertemplate\":\"<b>%{hovertext}</b><br><br>Airports=Maastricht Aachen Airport<br>Periods=%{x}<br>PC_flights=%{y}<extra></extra>\",\"hovertext\":[26.7391304347826],\"ids\":[\"Maastricht Aachen Airport\"],\"legendgroup\":\"Maastricht Aachen Airport\",\"marker\":{\"color\":\"#ab63fa\",\"pattern\":{\"shape\":\"\"}},\"name\":\"Maastricht Aachen Airport\",\"offsetgroup\":\"Maastricht Aachen Airport\",\"orientation\":\"h\",\"showlegend\":true,\"textposition\":\"auto\",\"x\":[\"2021 July*\"],\"xaxis\":\"x\",\"y\":[26.7391304347826],\"yaxis\":\"y\",\"type\":\"bar\"},{\"alignmentgroup\":\"True\",\"hovertemplate\":\"<b>%{hovertext}</b><br><br>Airports=Groningen Airport Eelde<br>Periods=%{x}<br>PC_flights=%{y}<extra></extra>\",\"hovertext\":[158.97435897435898],\"ids\":[\"Groningen Airport Eelde\"],\"legendgroup\":\"Groningen Airport Eelde\",\"marker\":{\"color\":\"#FFA15A\",\"pattern\":{\"shape\":\"\"}},\"name\":\"Groningen Airport Eelde\",\"offsetgroup\":\"Groningen Airport Eelde\",\"orientation\":\"h\",\"showlegend\":true,\"textposition\":\"auto\",\"x\":[\"2021 July*\"],\"xaxis\":\"x\",\"y\":[158.97435897435898],\"yaxis\":\"y\",\"type\":\"bar\"}],\"name\":\"2021 July*\"},{\"data\":[{\"alignmentgroup\":\"True\",\"hovertemplate\":\"<b>%{hovertext}</b><br><br>Airports=Amsterdam Airport Schiphol<br>Periods=%{x}<br>PC_flights=%{y}<extra></extra>\",\"hovertext\":[9.285885865275723],\"ids\":[\"Amsterdam Airport Schiphol\"],\"legendgroup\":\"Amsterdam Airport Schiphol\",\"marker\":{\"color\":\"#636efa\",\"pattern\":{\"shape\":\"\"}},\"name\":\"Amsterdam Airport Schiphol\",\"offsetgroup\":\"Amsterdam Airport Schiphol\",\"orientation\":\"h\",\"showlegend\":true,\"textposition\":\"auto\",\"x\":[\"2021 August*\"],\"xaxis\":\"x\",\"y\":[9.285885865275723],\"yaxis\":\"y\",\"type\":\"bar\"},{\"alignmentgroup\":\"True\",\"hovertemplate\":\"<b>%{hovertext}</b><br><br>Airports=Rotterdam The Hague Airport<br>Periods=%{x}<br>PC_flights=%{y}<extra></extra>\",\"hovertext\":[15.54878048780488],\"ids\":[\"Rotterdam The Hague Airport\"],\"legendgroup\":\"Rotterdam The Hague Airport\",\"marker\":{\"color\":\"#EF553B\",\"pattern\":{\"shape\":\"\"}},\"name\":\"Rotterdam The Hague Airport\",\"offsetgroup\":\"Rotterdam The Hague Airport\",\"orientation\":\"h\",\"showlegend\":true,\"textposition\":\"auto\",\"x\":[\"2021 August*\"],\"xaxis\":\"x\",\"y\":[15.54878048780488],\"yaxis\":\"y\",\"type\":\"bar\"},{\"alignmentgroup\":\"True\",\"hovertemplate\":\"<b>%{hovertext}</b><br><br>Airports=Eindhoven Airport<br>Periods=%{x}<br>PC_flights=%{y}<extra></extra>\",\"hovertext\":[16.76862180640517],\"ids\":[\"Eindhoven Airport\"],\"legendgroup\":\"Eindhoven Airport\",\"marker\":{\"color\":\"#00cc96\",\"pattern\":{\"shape\":\"\"}},\"name\":\"Eindhoven Airport\",\"offsetgroup\":\"Eindhoven Airport\",\"orientation\":\"h\",\"showlegend\":true,\"textposition\":\"auto\",\"x\":[\"2021 August*\"],\"xaxis\":\"x\",\"y\":[16.76862180640517],\"yaxis\":\"y\",\"type\":\"bar\"},{\"alignmentgroup\":\"True\",\"hovertemplate\":\"<b>%{hovertext}</b><br><br>Airports=Maastricht Aachen Airport<br>Periods=%{x}<br>PC_flights=%{y}<extra></extra>\",\"hovertext\":[2.9159519725557415],\"ids\":[\"Maastricht Aachen Airport\"],\"legendgroup\":\"Maastricht Aachen Airport\",\"marker\":{\"color\":\"#ab63fa\",\"pattern\":{\"shape\":\"\"}},\"name\":\"Maastricht Aachen Airport\",\"offsetgroup\":\"Maastricht Aachen Airport\",\"orientation\":\"h\",\"showlegend\":true,\"textposition\":\"auto\",\"x\":[\"2021 August*\"],\"xaxis\":\"x\",\"y\":[2.9159519725557415],\"yaxis\":\"y\",\"type\":\"bar\"},{\"alignmentgroup\":\"True\",\"hovertemplate\":\"<b>%{hovertext}</b><br><br>Airports=Groningen Airport Eelde<br>Periods=%{x}<br>PC_flights=%{y}<extra></extra>\",\"hovertext\":[-26.732673267326735],\"ids\":[\"Groningen Airport Eelde\"],\"legendgroup\":\"Groningen Airport Eelde\",\"marker\":{\"color\":\"#FFA15A\",\"pattern\":{\"shape\":\"\"}},\"name\":\"Groningen Airport Eelde\",\"offsetgroup\":\"Groningen Airport Eelde\",\"orientation\":\"h\",\"showlegend\":true,\"textposition\":\"auto\",\"x\":[\"2021 August*\"],\"xaxis\":\"x\",\"y\":[-26.732673267326735],\"yaxis\":\"y\",\"type\":\"bar\"}],\"name\":\"2021 August*\"},{\"data\":[{\"alignmentgroup\":\"True\",\"hovertemplate\":\"<b>%{hovertext}</b><br><br>Airports=Amsterdam Airport Schiphol<br>Periods=%{x}<br>PC_flights=%{y}<extra></extra>\",\"hovertext\":[-5.739944107765249],\"ids\":[\"Amsterdam Airport Schiphol\"],\"legendgroup\":\"Amsterdam Airport Schiphol\",\"marker\":{\"color\":\"#636efa\",\"pattern\":{\"shape\":\"\"}},\"name\":\"Amsterdam Airport Schiphol\",\"offsetgroup\":\"Amsterdam Airport Schiphol\",\"orientation\":\"h\",\"showlegend\":true,\"textposition\":\"auto\",\"x\":[\"2021 September*\"],\"xaxis\":\"x\",\"y\":[-5.739944107765249],\"yaxis\":\"y\",\"type\":\"bar\"},{\"alignmentgroup\":\"True\",\"hovertemplate\":\"<b>%{hovertext}</b><br><br>Airports=Rotterdam The Hague Airport<br>Periods=%{x}<br>PC_flights=%{y}<extra></extra>\",\"hovertext\":[-6.992084432717682],\"ids\":[\"Rotterdam The Hague Airport\"],\"legendgroup\":\"Rotterdam The Hague Airport\",\"marker\":{\"color\":\"#EF553B\",\"pattern\":{\"shape\":\"\"}},\"name\":\"Rotterdam The Hague Airport\",\"offsetgroup\":\"Rotterdam The Hague Airport\",\"orientation\":\"h\",\"showlegend\":true,\"textposition\":\"auto\",\"x\":[\"2021 September*\"],\"xaxis\":\"x\",\"y\":[-6.992084432717682],\"yaxis\":\"y\",\"type\":\"bar\"},{\"alignmentgroup\":\"True\",\"hovertemplate\":\"<b>%{hovertext}</b><br><br>Airports=Eindhoven Airport<br>Periods=%{x}<br>PC_flights=%{y}<extra></extra>\",\"hovertext\":[-4.098613251155625],\"ids\":[\"Eindhoven Airport\"],\"legendgroup\":\"Eindhoven Airport\",\"marker\":{\"color\":\"#00cc96\",\"pattern\":{\"shape\":\"\"}},\"name\":\"Eindhoven Airport\",\"offsetgroup\":\"Eindhoven Airport\",\"orientation\":\"h\",\"showlegend\":true,\"textposition\":\"auto\",\"x\":[\"2021 September*\"],\"xaxis\":\"x\",\"y\":[-4.098613251155625],\"yaxis\":\"y\",\"type\":\"bar\"},{\"alignmentgroup\":\"True\",\"hovertemplate\":\"<b>%{hovertext}</b><br><br>Airports=Maastricht Aachen Airport<br>Periods=%{x}<br>PC_flights=%{y}<extra></extra>\",\"hovertext\":[3.833333333333333],\"ids\":[\"Maastricht Aachen Airport\"],\"legendgroup\":\"Maastricht Aachen Airport\",\"marker\":{\"color\":\"#ab63fa\",\"pattern\":{\"shape\":\"\"}},\"name\":\"Maastricht Aachen Airport\",\"offsetgroup\":\"Maastricht Aachen Airport\",\"orientation\":\"h\",\"showlegend\":true,\"textposition\":\"auto\",\"x\":[\"2021 September*\"],\"xaxis\":\"x\",\"y\":[3.833333333333333],\"yaxis\":\"y\",\"type\":\"bar\"},{\"alignmentgroup\":\"True\",\"hovertemplate\":\"<b>%{hovertext}</b><br><br>Airports=Groningen Airport Eelde<br>Periods=%{x}<br>PC_flights=%{y}<extra></extra>\",\"hovertext\":[32.432432432432435],\"ids\":[\"Groningen Airport Eelde\"],\"legendgroup\":\"Groningen Airport Eelde\",\"marker\":{\"color\":\"#FFA15A\",\"pattern\":{\"shape\":\"\"}},\"name\":\"Groningen Airport Eelde\",\"offsetgroup\":\"Groningen Airport Eelde\",\"orientation\":\"h\",\"showlegend\":true,\"textposition\":\"auto\",\"x\":[\"2021 September*\"],\"xaxis\":\"x\",\"y\":[32.432432432432435],\"yaxis\":\"y\",\"type\":\"bar\"}],\"name\":\"2021 September*\"},{\"data\":[{\"alignmentgroup\":\"True\",\"hovertemplate\":\"<b>%{hovertext}</b><br><br>Airports=Amsterdam Airport Schiphol<br>Periods=%{x}<br>PC_flights=%{y}<extra></extra>\",\"hovertext\":[4.347246743728972],\"ids\":[\"Amsterdam Airport Schiphol\"],\"legendgroup\":\"Amsterdam Airport Schiphol\",\"marker\":{\"color\":\"#636efa\",\"pattern\":{\"shape\":\"\"}},\"name\":\"Amsterdam Airport Schiphol\",\"offsetgroup\":\"Amsterdam Airport Schiphol\",\"orientation\":\"h\",\"showlegend\":true,\"textposition\":\"auto\",\"x\":[\"2021 October*\"],\"xaxis\":\"x\",\"y\":[4.347246743728972],\"yaxis\":\"y\",\"type\":\"bar\"},{\"alignmentgroup\":\"True\",\"hovertemplate\":\"<b>%{hovertext}</b><br><br>Airports=Rotterdam The Hague Airport<br>Periods=%{x}<br>PC_flights=%{y}<extra></extra>\",\"hovertext\":[-7.588652482269509],\"ids\":[\"Rotterdam The Hague Airport\"],\"legendgroup\":\"Rotterdam The Hague Airport\",\"marker\":{\"color\":\"#EF553B\",\"pattern\":{\"shape\":\"\"}},\"name\":\"Rotterdam The Hague Airport\",\"offsetgroup\":\"Rotterdam The Hague Airport\",\"orientation\":\"h\",\"showlegend\":true,\"textposition\":\"auto\",\"x\":[\"2021 October*\"],\"xaxis\":\"x\",\"y\":[-7.588652482269509],\"yaxis\":\"y\",\"type\":\"bar\"},{\"alignmentgroup\":\"True\",\"hovertemplate\":\"<b>%{hovertext}</b><br><br>Airports=Eindhoven Airport<br>Periods=%{x}<br>PC_flights=%{y}<extra></extra>\",\"hovertext\":[-0.4820051413881754],\"ids\":[\"Eindhoven Airport\"],\"legendgroup\":\"Eindhoven Airport\",\"marker\":{\"color\":\"#00cc96\",\"pattern\":{\"shape\":\"\"}},\"name\":\"Eindhoven Airport\",\"offsetgroup\":\"Eindhoven Airport\",\"orientation\":\"h\",\"showlegend\":true,\"textposition\":\"auto\",\"x\":[\"2021 October*\"],\"xaxis\":\"x\",\"y\":[-0.4820051413881754],\"yaxis\":\"y\",\"type\":\"bar\"},{\"alignmentgroup\":\"True\",\"hovertemplate\":\"<b>%{hovertext}</b><br><br>Airports=Maastricht Aachen Airport<br>Periods=%{x}<br>PC_flights=%{y}<extra></extra>\",\"hovertext\":[5.296950240770459],\"ids\":[\"Maastricht Aachen Airport\"],\"legendgroup\":\"Maastricht Aachen Airport\",\"marker\":{\"color\":\"#ab63fa\",\"pattern\":{\"shape\":\"\"}},\"name\":\"Maastricht Aachen Airport\",\"offsetgroup\":\"Maastricht Aachen Airport\",\"orientation\":\"h\",\"showlegend\":true,\"textposition\":\"auto\",\"x\":[\"2021 October*\"],\"xaxis\":\"x\",\"y\":[5.296950240770459],\"yaxis\":\"y\",\"type\":\"bar\"},{\"alignmentgroup\":\"True\",\"hovertemplate\":\"<b>%{hovertext}</b><br><br>Airports=Groningen Airport Eelde<br>Periods=%{x}<br>PC_flights=%{y}<extra></extra>\",\"hovertext\":[-13.265306122448983],\"ids\":[\"Groningen Airport Eelde\"],\"legendgroup\":\"Groningen Airport Eelde\",\"marker\":{\"color\":\"#FFA15A\",\"pattern\":{\"shape\":\"\"}},\"name\":\"Groningen Airport Eelde\",\"offsetgroup\":\"Groningen Airport Eelde\",\"orientation\":\"h\",\"showlegend\":true,\"textposition\":\"auto\",\"x\":[\"2021 October*\"],\"xaxis\":\"x\",\"y\":[-13.265306122448983],\"yaxis\":\"y\",\"type\":\"bar\"}],\"name\":\"2021 October*\"},{\"data\":[{\"alignmentgroup\":\"True\",\"hovertemplate\":\"<b>%{hovertext}</b><br><br>Airports=Amsterdam Airport Schiphol<br>Periods=%{x}<br>PC_flights=%{y}<extra></extra>\",\"hovertext\":[-9.427276209934876],\"ids\":[\"Amsterdam Airport Schiphol\"],\"legendgroup\":\"Amsterdam Airport Schiphol\",\"marker\":{\"color\":\"#636efa\",\"pattern\":{\"shape\":\"\"}},\"name\":\"Amsterdam Airport Schiphol\",\"offsetgroup\":\"Amsterdam Airport Schiphol\",\"orientation\":\"h\",\"showlegend\":true,\"textposition\":\"auto\",\"x\":[\"2021 November*\"],\"xaxis\":\"x\",\"y\":[-9.427276209934876],\"yaxis\":\"y\",\"type\":\"bar\"},{\"alignmentgroup\":\"True\",\"hovertemplate\":\"<b>%{hovertext}</b><br><br>Airports=Rotterdam The Hague Airport<br>Periods=%{x}<br>PC_flights=%{y}<extra></extra>\",\"hovertext\":[-48.273215656178046],\"ids\":[\"Rotterdam The Hague Airport\"],\"legendgroup\":\"Rotterdam The Hague Airport\",\"marker\":{\"color\":\"#EF553B\",\"pattern\":{\"shape\":\"\"}},\"name\":\"Rotterdam The Hague Airport\",\"offsetgroup\":\"Rotterdam The Hague Airport\",\"orientation\":\"h\",\"showlegend\":true,\"textposition\":\"auto\",\"x\":[\"2021 November*\"],\"xaxis\":\"x\",\"y\":[-48.273215656178046],\"yaxis\":\"y\",\"type\":\"bar\"},{\"alignmentgroup\":\"True\",\"hovertemplate\":\"<b>%{hovertext}</b><br><br>Airports=Eindhoven Airport<br>Periods=%{x}<br>PC_flights=%{y}<extra></extra>\",\"hovertext\":[-22.82854375201808],\"ids\":[\"Eindhoven Airport\"],\"legendgroup\":\"Eindhoven Airport\",\"marker\":{\"color\":\"#00cc96\",\"pattern\":{\"shape\":\"\"}},\"name\":\"Eindhoven Airport\",\"offsetgroup\":\"Eindhoven Airport\",\"orientation\":\"h\",\"showlegend\":true,\"textposition\":\"auto\",\"x\":[\"2021 November*\"],\"xaxis\":\"x\",\"y\":[-22.82854375201808],\"yaxis\":\"y\",\"type\":\"bar\"},{\"alignmentgroup\":\"True\",\"hovertemplate\":\"<b>%{hovertext}</b><br><br>Airports=Maastricht Aachen Airport<br>Periods=%{x}<br>PC_flights=%{y}<extra></extra>\",\"hovertext\":[-20.27439024390244],\"ids\":[\"Maastricht Aachen Airport\"],\"legendgroup\":\"Maastricht Aachen Airport\",\"marker\":{\"color\":\"#ab63fa\",\"pattern\":{\"shape\":\"\"}},\"name\":\"Maastricht Aachen Airport\",\"offsetgroup\":\"Maastricht Aachen Airport\",\"orientation\":\"h\",\"showlegend\":true,\"textposition\":\"auto\",\"x\":[\"2021 November*\"],\"xaxis\":\"x\",\"y\":[-20.27439024390244],\"yaxis\":\"y\",\"type\":\"bar\"},{\"alignmentgroup\":\"True\",\"hovertemplate\":\"<b>%{hovertext}</b><br><br>Airports=Groningen Airport Eelde<br>Periods=%{x}<br>PC_flights=%{y}<extra></extra>\",\"hovertext\":[-19.999999999999996],\"ids\":[\"Groningen Airport Eelde\"],\"legendgroup\":\"Groningen Airport Eelde\",\"marker\":{\"color\":\"#FFA15A\",\"pattern\":{\"shape\":\"\"}},\"name\":\"Groningen Airport Eelde\",\"offsetgroup\":\"Groningen Airport Eelde\",\"orientation\":\"h\",\"showlegend\":true,\"textposition\":\"auto\",\"x\":[\"2021 November*\"],\"xaxis\":\"x\",\"y\":[-19.999999999999996],\"yaxis\":\"y\",\"type\":\"bar\"}],\"name\":\"2021 November*\"},{\"data\":[{\"alignmentgroup\":\"True\",\"hovertemplate\":\"<b>%{hovertext}</b><br><br>Airports=Amsterdam Airport Schiphol<br>Periods=%{x}<br>PC_flights=%{y}<extra></extra>\",\"hovertext\":[6.534841916041034],\"ids\":[\"Amsterdam Airport Schiphol\"],\"legendgroup\":\"Amsterdam Airport Schiphol\",\"marker\":{\"color\":\"#636efa\",\"pattern\":{\"shape\":\"\"}},\"name\":\"Amsterdam Airport Schiphol\",\"offsetgroup\":\"Amsterdam Airport Schiphol\",\"orientation\":\"h\",\"showlegend\":true,\"textposition\":\"auto\",\"x\":[\"2021 December*\"],\"xaxis\":\"x\",\"y\":[6.534841916041034],\"yaxis\":\"y\",\"type\":\"bar\"},{\"alignmentgroup\":\"True\",\"hovertemplate\":\"<b>%{hovertext}</b><br><br>Airports=Rotterdam The Hague Airport<br>Periods=%{x}<br>PC_flights=%{y}<extra></extra>\",\"hovertext\":[-19.732937685459937],\"ids\":[\"Rotterdam The Hague Airport\"],\"legendgroup\":\"Rotterdam The Hague Airport\",\"marker\":{\"color\":\"#EF553B\",\"pattern\":{\"shape\":\"\"}},\"name\":\"Rotterdam The Hague Airport\",\"offsetgroup\":\"Rotterdam The Hague Airport\",\"orientation\":\"h\",\"showlegend\":true,\"textposition\":\"auto\",\"x\":[\"2021 December*\"],\"xaxis\":\"x\",\"y\":[-19.732937685459937],\"yaxis\":\"y\",\"type\":\"bar\"},{\"alignmentgroup\":\"True\",\"hovertemplate\":\"<b>%{hovertext}</b><br><br>Airports=Eindhoven Airport<br>Periods=%{x}<br>PC_flights=%{y}<extra></extra>\",\"hovertext\":[7.573221757322179],\"ids\":[\"Eindhoven Airport\"],\"legendgroup\":\"Eindhoven Airport\",\"marker\":{\"color\":\"#00cc96\",\"pattern\":{\"shape\":\"\"}},\"name\":\"Eindhoven Airport\",\"offsetgroup\":\"Eindhoven Airport\",\"orientation\":\"h\",\"showlegend\":true,\"textposition\":\"auto\",\"x\":[\"2021 December*\"],\"xaxis\":\"x\",\"y\":[7.573221757322179],\"yaxis\":\"y\",\"type\":\"bar\"},{\"alignmentgroup\":\"True\",\"hovertemplate\":\"<b>%{hovertext}</b><br><br>Airports=Maastricht Aachen Airport<br>Periods=%{x}<br>PC_flights=%{y}<extra></extra>\",\"hovertext\":[-9.560229445506696],\"ids\":[\"Maastricht Aachen Airport\"],\"legendgroup\":\"Maastricht Aachen Airport\",\"marker\":{\"color\":\"#ab63fa\",\"pattern\":{\"shape\":\"\"}},\"name\":\"Maastricht Aachen Airport\",\"offsetgroup\":\"Maastricht Aachen Airport\",\"orientation\":\"h\",\"showlegend\":true,\"textposition\":\"auto\",\"x\":[\"2021 December*\"],\"xaxis\":\"x\",\"y\":[-9.560229445506696],\"yaxis\":\"y\",\"type\":\"bar\"},{\"alignmentgroup\":\"True\",\"hovertemplate\":\"<b>%{hovertext}</b><br><br>Airports=Groningen Airport Eelde<br>Periods=%{x}<br>PC_flights=%{y}<extra></extra>\",\"hovertext\":[-13.235294117647056],\"ids\":[\"Groningen Airport Eelde\"],\"legendgroup\":\"Groningen Airport Eelde\",\"marker\":{\"color\":\"#FFA15A\",\"pattern\":{\"shape\":\"\"}},\"name\":\"Groningen Airport Eelde\",\"offsetgroup\":\"Groningen Airport Eelde\",\"orientation\":\"h\",\"showlegend\":true,\"textposition\":\"auto\",\"x\":[\"2021 December*\"],\"xaxis\":\"x\",\"y\":[-13.235294117647056],\"yaxis\":\"y\",\"type\":\"bar\"}],\"name\":\"2021 December*\"},{\"data\":[{\"alignmentgroup\":\"True\",\"hovertemplate\":\"<b>%{hovertext}</b><br><br>Airports=Amsterdam Airport Schiphol<br>Periods=%{x}<br>PC_flights=%{y}<extra></extra>\",\"hovertext\":[-13.214226633581472],\"ids\":[\"Amsterdam Airport Schiphol\"],\"legendgroup\":\"Amsterdam Airport Schiphol\",\"marker\":{\"color\":\"#636efa\",\"pattern\":{\"shape\":\"\"}},\"name\":\"Amsterdam Airport Schiphol\",\"offsetgroup\":\"Amsterdam Airport Schiphol\",\"orientation\":\"h\",\"showlegend\":true,\"textposition\":\"auto\",\"x\":[\"2022 January*\"],\"xaxis\":\"x\",\"y\":[-13.214226633581472],\"yaxis\":\"y\",\"type\":\"bar\"},{\"alignmentgroup\":\"True\",\"hovertemplate\":\"<b>%{hovertext}</b><br><br>Airports=Rotterdam The Hague Airport<br>Periods=%{x}<br>PC_flights=%{y}<extra></extra>\",\"hovertext\":[35.674676524953796],\"ids\":[\"Rotterdam The Hague Airport\"],\"legendgroup\":\"Rotterdam The Hague Airport\",\"marker\":{\"color\":\"#EF553B\",\"pattern\":{\"shape\":\"\"}},\"name\":\"Rotterdam The Hague Airport\",\"offsetgroup\":\"Rotterdam The Hague Airport\",\"orientation\":\"h\",\"showlegend\":true,\"textposition\":\"auto\",\"x\":[\"2022 January*\"],\"xaxis\":\"x\",\"y\":[35.674676524953796],\"yaxis\":\"y\",\"type\":\"bar\"},{\"alignmentgroup\":\"True\",\"hovertemplate\":\"<b>%{hovertext}</b><br><br>Airports=Eindhoven Airport<br>Periods=%{x}<br>PC_flights=%{y}<extra></extra>\",\"hovertext\":[-17.03617269544924],\"ids\":[\"Eindhoven Airport\"],\"legendgroup\":\"Eindhoven Airport\",\"marker\":{\"color\":\"#00cc96\",\"pattern\":{\"shape\":\"\"}},\"name\":\"Eindhoven Airport\",\"offsetgroup\":\"Eindhoven Airport\",\"orientation\":\"h\",\"showlegend\":true,\"textposition\":\"auto\",\"x\":[\"2022 January*\"],\"xaxis\":\"x\",\"y\":[-17.03617269544924],\"yaxis\":\"y\",\"type\":\"bar\"},{\"alignmentgroup\":\"True\",\"hovertemplate\":\"<b>%{hovertext}</b><br><br>Airports=Maastricht Aachen Airport<br>Periods=%{x}<br>PC_flights=%{y}<extra></extra>\",\"hovertext\":[-8.879492600422834],\"ids\":[\"Maastricht Aachen Airport\"],\"legendgroup\":\"Maastricht Aachen Airport\",\"marker\":{\"color\":\"#ab63fa\",\"pattern\":{\"shape\":\"\"}},\"name\":\"Maastricht Aachen Airport\",\"offsetgroup\":\"Maastricht Aachen Airport\",\"orientation\":\"h\",\"showlegend\":true,\"textposition\":\"auto\",\"x\":[\"2022 January*\"],\"xaxis\":\"x\",\"y\":[-8.879492600422834],\"yaxis\":\"y\",\"type\":\"bar\"},{\"alignmentgroup\":\"True\",\"hovertemplate\":\"<b>%{hovertext}</b><br><br>Airports=Groningen Airport Eelde<br>Periods=%{x}<br>PC_flights=%{y}<extra></extra>\",\"hovertext\":[27.118644067796605],\"ids\":[\"Groningen Airport Eelde\"],\"legendgroup\":\"Groningen Airport Eelde\",\"marker\":{\"color\":\"#FFA15A\",\"pattern\":{\"shape\":\"\"}},\"name\":\"Groningen Airport Eelde\",\"offsetgroup\":\"Groningen Airport Eelde\",\"orientation\":\"h\",\"showlegend\":true,\"textposition\":\"auto\",\"x\":[\"2022 January*\"],\"xaxis\":\"x\",\"y\":[27.118644067796605],\"yaxis\":\"y\",\"type\":\"bar\"}],\"name\":\"2022 January*\"},{\"data\":[{\"alignmentgroup\":\"True\",\"hovertemplate\":\"<b>%{hovertext}</b><br><br>Airports=Amsterdam Airport Schiphol<br>Periods=%{x}<br>PC_flights=%{y}<extra></extra>\",\"hovertext\":[-8.013419236780905],\"ids\":[\"Amsterdam Airport Schiphol\"],\"legendgroup\":\"Amsterdam Airport Schiphol\",\"marker\":{\"color\":\"#636efa\",\"pattern\":{\"shape\":\"\"}},\"name\":\"Amsterdam Airport Schiphol\",\"offsetgroup\":\"Amsterdam Airport Schiphol\",\"orientation\":\"h\",\"showlegend\":true,\"textposition\":\"auto\",\"x\":[\"2022 February*\"],\"xaxis\":\"x\",\"y\":[-8.013419236780905],\"yaxis\":\"y\",\"type\":\"bar\"},{\"alignmentgroup\":\"True\",\"hovertemplate\":\"<b>%{hovertext}</b><br><br>Airports=Rotterdam The Hague Airport<br>Periods=%{x}<br>PC_flights=%{y}<extra></extra>\",\"hovertext\":[-4.768392370572205],\"ids\":[\"Rotterdam The Hague Airport\"],\"legendgroup\":\"Rotterdam The Hague Airport\",\"marker\":{\"color\":\"#EF553B\",\"pattern\":{\"shape\":\"\"}},\"name\":\"Rotterdam The Hague Airport\",\"offsetgroup\":\"Rotterdam The Hague Airport\",\"orientation\":\"h\",\"showlegend\":true,\"textposition\":\"auto\",\"x\":[\"2022 February*\"],\"xaxis\":\"x\",\"y\":[-4.768392370572205],\"yaxis\":\"y\",\"type\":\"bar\"},{\"alignmentgroup\":\"True\",\"hovertemplate\":\"<b>%{hovertext}</b><br><br>Airports=Eindhoven Airport<br>Periods=%{x}<br>PC_flights=%{y}<extra></extra>\",\"hovertext\":[0.8438818565400741],\"ids\":[\"Eindhoven Airport\"],\"legendgroup\":\"Eindhoven Airport\",\"marker\":{\"color\":\"#00cc96\",\"pattern\":{\"shape\":\"\"}},\"name\":\"Eindhoven Airport\",\"offsetgroup\":\"Eindhoven Airport\",\"orientation\":\"h\",\"showlegend\":true,\"textposition\":\"auto\",\"x\":[\"2022 February*\"],\"xaxis\":\"x\",\"y\":[0.8438818565400741],\"yaxis\":\"y\",\"type\":\"bar\"},{\"alignmentgroup\":\"True\",\"hovertemplate\":\"<b>%{hovertext}</b><br><br>Airports=Maastricht Aachen Airport<br>Periods=%{x}<br>PC_flights=%{y}<extra></extra>\",\"hovertext\":[-7.656612529002316],\"ids\":[\"Maastricht Aachen Airport\"],\"legendgroup\":\"Maastricht Aachen Airport\",\"marker\":{\"color\":\"#ab63fa\",\"pattern\":{\"shape\":\"\"}},\"name\":\"Maastricht Aachen Airport\",\"offsetgroup\":\"Maastricht Aachen Airport\",\"orientation\":\"h\",\"showlegend\":true,\"textposition\":\"auto\",\"x\":[\"2022 February*\"],\"xaxis\":\"x\",\"y\":[-7.656612529002316],\"yaxis\":\"y\",\"type\":\"bar\"},{\"alignmentgroup\":\"True\",\"hovertemplate\":\"<b>%{hovertext}</b><br><br>Airports=Groningen Airport Eelde<br>Periods=%{x}<br>PC_flights=%{y}<extra></extra>\",\"hovertext\":[5.333333333333323],\"ids\":[\"Groningen Airport Eelde\"],\"legendgroup\":\"Groningen Airport Eelde\",\"marker\":{\"color\":\"#FFA15A\",\"pattern\":{\"shape\":\"\"}},\"name\":\"Groningen Airport Eelde\",\"offsetgroup\":\"Groningen Airport Eelde\",\"orientation\":\"h\",\"showlegend\":true,\"textposition\":\"auto\",\"x\":[\"2022 February*\"],\"xaxis\":\"x\",\"y\":[5.333333333333323],\"yaxis\":\"y\",\"type\":\"bar\"}],\"name\":\"2022 February*\"},{\"data\":[{\"alignmentgroup\":\"True\",\"hovertemplate\":\"<b>%{hovertext}</b><br><br>Airports=Amsterdam Airport Schiphol<br>Periods=%{x}<br>PC_flights=%{y}<extra></extra>\",\"hovertext\":[25.914874217746274],\"ids\":[\"Amsterdam Airport Schiphol\"],\"legendgroup\":\"Amsterdam Airport Schiphol\",\"marker\":{\"color\":\"#636efa\",\"pattern\":{\"shape\":\"\"}},\"name\":\"Amsterdam Airport Schiphol\",\"offsetgroup\":\"Amsterdam Airport Schiphol\",\"orientation\":\"h\",\"showlegend\":true,\"textposition\":\"auto\",\"x\":[\"2022 March*\"],\"xaxis\":\"x\",\"y\":[25.914874217746274],\"yaxis\":\"y\",\"type\":\"bar\"},{\"alignmentgroup\":\"True\",\"hovertemplate\":\"<b>%{hovertext}</b><br><br>Airports=Rotterdam The Hague Airport<br>Periods=%{x}<br>PC_flights=%{y}<extra></extra>\",\"hovertext\":[41.48783977110158],\"ids\":[\"Rotterdam The Hague Airport\"],\"legendgroup\":\"Rotterdam The Hague Airport\",\"marker\":{\"color\":\"#EF553B\",\"pattern\":{\"shape\":\"\"}},\"name\":\"Rotterdam The Hague Airport\",\"offsetgroup\":\"Rotterdam The Hague Airport\",\"orientation\":\"h\",\"showlegend\":true,\"textposition\":\"auto\",\"x\":[\"2022 March*\"],\"xaxis\":\"x\",\"y\":[41.48783977110158],\"yaxis\":\"y\",\"type\":\"bar\"},{\"alignmentgroup\":\"True\",\"hovertemplate\":\"<b>%{hovertext}</b><br><br>Airports=Eindhoven Airport<br>Periods=%{x}<br>PC_flights=%{y}<extra></extra>\",\"hovertext\":[25.52301255230125],\"ids\":[\"Eindhoven Airport\"],\"legendgroup\":\"Eindhoven Airport\",\"marker\":{\"color\":\"#00cc96\",\"pattern\":{\"shape\":\"\"}},\"name\":\"Eindhoven Airport\",\"offsetgroup\":\"Eindhoven Airport\",\"orientation\":\"h\",\"showlegend\":true,\"textposition\":\"auto\",\"x\":[\"2022 March*\"],\"xaxis\":\"x\",\"y\":[25.52301255230125],\"yaxis\":\"y\",\"type\":\"bar\"},{\"alignmentgroup\":\"True\",\"hovertemplate\":\"<b>%{hovertext}</b><br><br>Airports=Maastricht Aachen Airport<br>Periods=%{x}<br>PC_flights=%{y}<extra></extra>\",\"hovertext\":[9.045226130653262],\"ids\":[\"Maastricht Aachen Airport\"],\"legendgroup\":\"Maastricht Aachen Airport\",\"marker\":{\"color\":\"#ab63fa\",\"pattern\":{\"shape\":\"\"}},\"name\":\"Maastricht Aachen Airport\",\"offsetgroup\":\"Maastricht Aachen Airport\",\"orientation\":\"h\",\"showlegend\":true,\"textposition\":\"auto\",\"x\":[\"2022 March*\"],\"xaxis\":\"x\",\"y\":[9.045226130653262],\"yaxis\":\"y\",\"type\":\"bar\"},{\"alignmentgroup\":\"True\",\"hovertemplate\":\"<b>%{hovertext}</b><br><br>Airports=Groningen Airport Eelde<br>Periods=%{x}<br>PC_flights=%{y}<extra></extra>\",\"hovertext\":[-20.253164556962023],\"ids\":[\"Groningen Airport Eelde\"],\"legendgroup\":\"Groningen Airport Eelde\",\"marker\":{\"color\":\"#FFA15A\",\"pattern\":{\"shape\":\"\"}},\"name\":\"Groningen Airport Eelde\",\"offsetgroup\":\"Groningen Airport Eelde\",\"orientation\":\"h\",\"showlegend\":true,\"textposition\":\"auto\",\"x\":[\"2022 March*\"],\"xaxis\":\"x\",\"y\":[-20.253164556962023],\"yaxis\":\"y\",\"type\":\"bar\"}],\"name\":\"2022 March*\"},{\"data\":[{\"alignmentgroup\":\"True\",\"hovertemplate\":\"<b>%{hovertext}</b><br><br>Airports=Amsterdam Airport Schiphol<br>Periods=%{x}<br>PC_flights=%{y}<extra></extra>\",\"hovertext\":[10.00263313804226],\"ids\":[\"Amsterdam Airport Schiphol\"],\"legendgroup\":\"Amsterdam Airport Schiphol\",\"marker\":{\"color\":\"#636efa\",\"pattern\":{\"shape\":\"\"}},\"name\":\"Amsterdam Airport Schiphol\",\"offsetgroup\":\"Amsterdam Airport Schiphol\",\"orientation\":\"h\",\"showlegend\":true,\"textposition\":\"auto\",\"x\":[\"2022 April*\"],\"xaxis\":\"x\",\"y\":[10.00263313804226],\"yaxis\":\"y\",\"type\":\"bar\"},{\"alignmentgroup\":\"True\",\"hovertemplate\":\"<b>%{hovertext}</b><br><br>Airports=Rotterdam The Hague Airport<br>Periods=%{x}<br>PC_flights=%{y}<extra></extra>\",\"hovertext\":[45.298281092012125],\"ids\":[\"Rotterdam The Hague Airport\"],\"legendgroup\":\"Rotterdam The Hague Airport\",\"marker\":{\"color\":\"#EF553B\",\"pattern\":{\"shape\":\"\"}},\"name\":\"Rotterdam The Hague Airport\",\"offsetgroup\":\"Rotterdam The Hague Airport\",\"orientation\":\"h\",\"showlegend\":true,\"textposition\":\"auto\",\"x\":[\"2022 April*\"],\"xaxis\":\"x\",\"y\":[45.298281092012125],\"yaxis\":\"y\",\"type\":\"bar\"},{\"alignmentgroup\":\"True\",\"hovertemplate\":\"<b>%{hovertext}</b><br><br>Airports=Eindhoven Airport<br>Periods=%{x}<br>PC_flights=%{y}<extra></extra>\",\"hovertext\":[25.555555555555554],\"ids\":[\"Eindhoven Airport\"],\"legendgroup\":\"Eindhoven Airport\",\"marker\":{\"color\":\"#00cc96\",\"pattern\":{\"shape\":\"\"}},\"name\":\"Eindhoven Airport\",\"offsetgroup\":\"Eindhoven Airport\",\"orientation\":\"h\",\"showlegend\":true,\"textposition\":\"auto\",\"x\":[\"2022 April*\"],\"xaxis\":\"x\",\"y\":[25.555555555555554],\"yaxis\":\"y\",\"type\":\"bar\"},{\"alignmentgroup\":\"True\",\"hovertemplate\":\"<b>%{hovertext}</b><br><br>Airports=Maastricht Aachen Airport<br>Periods=%{x}<br>PC_flights=%{y}<extra></extra>\",\"hovertext\":[18.433179723502313],\"ids\":[\"Maastricht Aachen Airport\"],\"legendgroup\":\"Maastricht Aachen Airport\",\"marker\":{\"color\":\"#ab63fa\",\"pattern\":{\"shape\":\"\"}},\"name\":\"Maastricht Aachen Airport\",\"offsetgroup\":\"Maastricht Aachen Airport\",\"orientation\":\"h\",\"showlegend\":true,\"textposition\":\"auto\",\"x\":[\"2022 April*\"],\"xaxis\":\"x\",\"y\":[18.433179723502313],\"yaxis\":\"y\",\"type\":\"bar\"},{\"alignmentgroup\":\"True\",\"hovertemplate\":\"<b>%{hovertext}</b><br><br>Airports=Groningen Airport Eelde<br>Periods=%{x}<br>PC_flights=%{y}<extra></extra>\",\"hovertext\":[-1.5873015873015928],\"ids\":[\"Groningen Airport Eelde\"],\"legendgroup\":\"Groningen Airport Eelde\",\"marker\":{\"color\":\"#FFA15A\",\"pattern\":{\"shape\":\"\"}},\"name\":\"Groningen Airport Eelde\",\"offsetgroup\":\"Groningen Airport Eelde\",\"orientation\":\"h\",\"showlegend\":true,\"textposition\":\"auto\",\"x\":[\"2022 April*\"],\"xaxis\":\"x\",\"y\":[-1.5873015873015928],\"yaxis\":\"y\",\"type\":\"bar\"}],\"name\":\"2022 April*\"},{\"data\":[{\"alignmentgroup\":\"True\",\"hovertemplate\":\"<b>%{hovertext}</b><br><br>Airports=Amsterdam Airport Schiphol<br>Periods=%{x}<br>PC_flights=%{y}<extra></extra>\",\"hovertext\":[14.954669219951523],\"ids\":[\"Amsterdam Airport Schiphol\"],\"legendgroup\":\"Amsterdam Airport Schiphol\",\"marker\":{\"color\":\"#636efa\",\"pattern\":{\"shape\":\"\"}},\"name\":\"Amsterdam Airport Schiphol\",\"offsetgroup\":\"Amsterdam Airport Schiphol\",\"orientation\":\"h\",\"showlegend\":true,\"textposition\":\"auto\",\"x\":[\"2022 May*\"],\"xaxis\":\"x\",\"y\":[14.954669219951523],\"yaxis\":\"y\",\"type\":\"bar\"},{\"alignmentgroup\":\"True\",\"hovertemplate\":\"<b>%{hovertext}</b><br><br>Airports=Rotterdam The Hague Airport<br>Periods=%{x}<br>PC_flights=%{y}<extra></extra>\",\"hovertext\":[37.369519832985375],\"ids\":[\"Rotterdam The Hague Airport\"],\"legendgroup\":\"Rotterdam The Hague Airport\",\"marker\":{\"color\":\"#EF553B\",\"pattern\":{\"shape\":\"\"}},\"name\":\"Rotterdam The Hague Airport\",\"offsetgroup\":\"Rotterdam The Hague Airport\",\"orientation\":\"h\",\"showlegend\":true,\"textposition\":\"auto\",\"x\":[\"2022 May*\"],\"xaxis\":\"x\",\"y\":[37.369519832985375],\"yaxis\":\"y\",\"type\":\"bar\"},{\"alignmentgroup\":\"True\",\"hovertemplate\":\"<b>%{hovertext}</b><br><br>Airports=Eindhoven Airport<br>Periods=%{x}<br>PC_flights=%{y}<extra></extra>\",\"hovertext\":[11.15044247787611],\"ids\":[\"Eindhoven Airport\"],\"legendgroup\":\"Eindhoven Airport\",\"marker\":{\"color\":\"#00cc96\",\"pattern\":{\"shape\":\"\"}},\"name\":\"Eindhoven Airport\",\"offsetgroup\":\"Eindhoven Airport\",\"orientation\":\"h\",\"showlegend\":true,\"textposition\":\"auto\",\"x\":[\"2022 May*\"],\"xaxis\":\"x\",\"y\":[11.15044247787611],\"yaxis\":\"y\",\"type\":\"bar\"},{\"alignmentgroup\":\"True\",\"hovertemplate\":\"<b>%{hovertext}</b><br><br>Airports=Maastricht Aachen Airport<br>Periods=%{x}<br>PC_flights=%{y}<extra></extra>\",\"hovertext\":[5.447470817120625],\"ids\":[\"Maastricht Aachen Airport\"],\"legendgroup\":\"Maastricht Aachen Airport\",\"marker\":{\"color\":\"#ab63fa\",\"pattern\":{\"shape\":\"\"}},\"name\":\"Maastricht Aachen Airport\",\"offsetgroup\":\"Maastricht Aachen Airport\",\"orientation\":\"h\",\"showlegend\":true,\"textposition\":\"auto\",\"x\":[\"2022 May*\"],\"xaxis\":\"x\",\"y\":[5.447470817120625],\"yaxis\":\"y\",\"type\":\"bar\"},{\"alignmentgroup\":\"True\",\"hovertemplate\":\"<b>%{hovertext}</b><br><br>Airports=Groningen Airport Eelde<br>Periods=%{x}<br>PC_flights=%{y}<extra></extra>\",\"hovertext\":[93.5483870967742],\"ids\":[\"Groningen Airport Eelde\"],\"legendgroup\":\"Groningen Airport Eelde\",\"marker\":{\"color\":\"#FFA15A\",\"pattern\":{\"shape\":\"\"}},\"name\":\"Groningen Airport Eelde\",\"offsetgroup\":\"Groningen Airport Eelde\",\"orientation\":\"h\",\"showlegend\":true,\"textposition\":\"auto\",\"x\":[\"2022 May*\"],\"xaxis\":\"x\",\"y\":[93.5483870967742],\"yaxis\":\"y\",\"type\":\"bar\"}],\"name\":\"2022 May*\"},{\"data\":[{\"alignmentgroup\":\"True\",\"hovertemplate\":\"<b>%{hovertext}</b><br><br>Airports=Amsterdam Airport Schiphol<br>Periods=%{x}<br>PC_flights=%{y}<extra></extra>\",\"hovertext\":[-3.9043181759025436],\"ids\":[\"Amsterdam Airport Schiphol\"],\"legendgroup\":\"Amsterdam Airport Schiphol\",\"marker\":{\"color\":\"#636efa\",\"pattern\":{\"shape\":\"\"}},\"name\":\"Amsterdam Airport Schiphol\",\"offsetgroup\":\"Amsterdam Airport Schiphol\",\"orientation\":\"h\",\"showlegend\":true,\"textposition\":\"auto\",\"x\":[\"2022 June*\"],\"xaxis\":\"x\",\"y\":[-3.9043181759025436],\"yaxis\":\"y\",\"type\":\"bar\"},{\"alignmentgroup\":\"True\",\"hovertemplate\":\"<b>%{hovertext}</b><br><br>Airports=Rotterdam The Hague Airport<br>Periods=%{x}<br>PC_flights=%{y}<extra></extra>\",\"hovertext\":[-5.876393110435663],\"ids\":[\"Rotterdam The Hague Airport\"],\"legendgroup\":\"Rotterdam The Hague Airport\",\"marker\":{\"color\":\"#EF553B\",\"pattern\":{\"shape\":\"\"}},\"name\":\"Rotterdam The Hague Airport\",\"offsetgroup\":\"Rotterdam The Hague Airport\",\"orientation\":\"h\",\"showlegend\":true,\"textposition\":\"auto\",\"x\":[\"2022 June*\"],\"xaxis\":\"x\",\"y\":[-5.876393110435663],\"yaxis\":\"y\",\"type\":\"bar\"},{\"alignmentgroup\":\"True\",\"hovertemplate\":\"<b>%{hovertext}</b><br><br>Airports=Eindhoven Airport<br>Periods=%{x}<br>PC_flights=%{y}<extra></extra>\",\"hovertext\":[-1.1677282377919318],\"ids\":[\"Eindhoven Airport\"],\"legendgroup\":\"Eindhoven Airport\",\"marker\":{\"color\":\"#00cc96\",\"pattern\":{\"shape\":\"\"}},\"name\":\"Eindhoven Airport\",\"offsetgroup\":\"Eindhoven Airport\",\"orientation\":\"h\",\"showlegend\":true,\"textposition\":\"auto\",\"x\":[\"2022 June*\"],\"xaxis\":\"x\",\"y\":[-1.1677282377919318],\"yaxis\":\"y\",\"type\":\"bar\"},{\"alignmentgroup\":\"True\",\"hovertemplate\":\"<b>%{hovertext}</b><br><br>Airports=Maastricht Aachen Airport<br>Periods=%{x}<br>PC_flights=%{y}<extra></extra>\",\"hovertext\":[10.516605166051662],\"ids\":[\"Maastricht Aachen Airport\"],\"legendgroup\":\"Maastricht Aachen Airport\",\"marker\":{\"color\":\"#ab63fa\",\"pattern\":{\"shape\":\"\"}},\"name\":\"Maastricht Aachen Airport\",\"offsetgroup\":\"Maastricht Aachen Airport\",\"orientation\":\"h\",\"showlegend\":true,\"textposition\":\"auto\",\"x\":[\"2022 June*\"],\"xaxis\":\"x\",\"y\":[10.516605166051662],\"yaxis\":\"y\",\"type\":\"bar\"},{\"alignmentgroup\":\"True\",\"hovertemplate\":\"<b>%{hovertext}</b><br><br>Airports=Groningen Airport Eelde<br>Periods=%{x}<br>PC_flights=%{y}<extra></extra>\",\"hovertext\":[23.33333333333334],\"ids\":[\"Groningen Airport Eelde\"],\"legendgroup\":\"Groningen Airport Eelde\",\"marker\":{\"color\":\"#FFA15A\",\"pattern\":{\"shape\":\"\"}},\"name\":\"Groningen Airport Eelde\",\"offsetgroup\":\"Groningen Airport Eelde\",\"orientation\":\"h\",\"showlegend\":true,\"textposition\":\"auto\",\"x\":[\"2022 June*\"],\"xaxis\":\"x\",\"y\":[23.33333333333334],\"yaxis\":\"y\",\"type\":\"bar\"}],\"name\":\"2022 June*\"},{\"data\":[{\"alignmentgroup\":\"True\",\"hovertemplate\":\"<b>%{hovertext}</b><br><br>Airports=Amsterdam Airport Schiphol<br>Periods=%{x}<br>PC_flights=%{y}<extra></extra>\",\"hovertext\":[-2.489233186164308],\"ids\":[\"Amsterdam Airport Schiphol\"],\"legendgroup\":\"Amsterdam Airport Schiphol\",\"marker\":{\"color\":\"#636efa\",\"pattern\":{\"shape\":\"\"}},\"name\":\"Amsterdam Airport Schiphol\",\"offsetgroup\":\"Amsterdam Airport Schiphol\",\"orientation\":\"h\",\"showlegend\":true,\"textposition\":\"auto\",\"x\":[\"2022 July*\"],\"xaxis\":\"x\",\"y\":[-2.489233186164308],\"yaxis\":\"y\",\"type\":\"bar\"},{\"alignmentgroup\":\"True\",\"hovertemplate\":\"<b>%{hovertext}</b><br><br>Airports=Rotterdam The Hague Airport<br>Periods=%{x}<br>PC_flights=%{y}<extra></extra>\",\"hovertext\":[32.669537136706126],\"ids\":[\"Rotterdam The Hague Airport\"],\"legendgroup\":\"Rotterdam The Hague Airport\",\"marker\":{\"color\":\"#EF553B\",\"pattern\":{\"shape\":\"\"}},\"name\":\"Rotterdam The Hague Airport\",\"offsetgroup\":\"Rotterdam The Hague Airport\",\"orientation\":\"h\",\"showlegend\":true,\"textposition\":\"auto\",\"x\":[\"2022 July*\"],\"xaxis\":\"x\",\"y\":[32.669537136706126],\"yaxis\":\"y\",\"type\":\"bar\"},{\"alignmentgroup\":\"True\",\"hovertemplate\":\"<b>%{hovertext}</b><br><br>Airports=Eindhoven Airport<br>Periods=%{x}<br>PC_flights=%{y}<extra></extra>\",\"hovertext\":[4.967776584317929],\"ids\":[\"Eindhoven Airport\"],\"legendgroup\":\"Eindhoven Airport\",\"marker\":{\"color\":\"#00cc96\",\"pattern\":{\"shape\":\"\"}},\"name\":\"Eindhoven Airport\",\"offsetgroup\":\"Eindhoven Airport\",\"orientation\":\"h\",\"showlegend\":true,\"textposition\":\"auto\",\"x\":[\"2022 July*\"],\"xaxis\":\"x\",\"y\":[4.967776584317929],\"yaxis\":\"y\",\"type\":\"bar\"},{\"alignmentgroup\":\"True\",\"hovertemplate\":\"<b>%{hovertext}</b><br><br>Airports=Maastricht Aachen Airport<br>Periods=%{x}<br>PC_flights=%{y}<extra></extra>\",\"hovertext\":[18.864774624373947],\"ids\":[\"Maastricht Aachen Airport\"],\"legendgroup\":\"Maastricht Aachen Airport\",\"marker\":{\"color\":\"#ab63fa\",\"pattern\":{\"shape\":\"\"}},\"name\":\"Maastricht Aachen Airport\",\"offsetgroup\":\"Maastricht Aachen Airport\",\"orientation\":\"h\",\"showlegend\":true,\"textposition\":\"auto\",\"x\":[\"2022 July*\"],\"xaxis\":\"x\",\"y\":[18.864774624373947],\"yaxis\":\"y\",\"type\":\"bar\"},{\"alignmentgroup\":\"True\",\"hovertemplate\":\"<b>%{hovertext}</b><br><br>Airports=Groningen Airport Eelde<br>Periods=%{x}<br>PC_flights=%{y}<extra></extra>\",\"hovertext\":[-10.81081081081081],\"ids\":[\"Groningen Airport Eelde\"],\"legendgroup\":\"Groningen Airport Eelde\",\"marker\":{\"color\":\"#FFA15A\",\"pattern\":{\"shape\":\"\"}},\"name\":\"Groningen Airport Eelde\",\"offsetgroup\":\"Groningen Airport Eelde\",\"orientation\":\"h\",\"showlegend\":true,\"textposition\":\"auto\",\"x\":[\"2022 July*\"],\"xaxis\":\"x\",\"y\":[-10.81081081081081],\"yaxis\":\"y\",\"type\":\"bar\"}],\"name\":\"2022 July*\"},{\"data\":[{\"alignmentgroup\":\"True\",\"hovertemplate\":\"<b>%{hovertext}</b><br><br>Airports=Amsterdam Airport Schiphol<br>Periods=%{x}<br>PC_flights=%{y}<extra></extra>\",\"hovertext\":[4.805555555555552],\"ids\":[\"Amsterdam Airport Schiphol\"],\"legendgroup\":\"Amsterdam Airport Schiphol\",\"marker\":{\"color\":\"#636efa\",\"pattern\":{\"shape\":\"\"}},\"name\":\"Amsterdam Airport Schiphol\",\"offsetgroup\":\"Amsterdam Airport Schiphol\",\"orientation\":\"h\",\"showlegend\":true,\"textposition\":\"auto\",\"x\":[\"2022 August*\"],\"xaxis\":\"x\",\"y\":[4.805555555555552],\"yaxis\":\"y\",\"type\":\"bar\"},{\"alignmentgroup\":\"True\",\"hovertemplate\":\"<b>%{hovertext}</b><br><br>Airports=Rotterdam The Hague Airport<br>Periods=%{x}<br>PC_flights=%{y}<extra></extra>\",\"hovertext\":[-4.543610547667343],\"ids\":[\"Rotterdam The Hague Airport\"],\"legendgroup\":\"Rotterdam The Hague Airport\",\"marker\":{\"color\":\"#EF553B\",\"pattern\":{\"shape\":\"\"}},\"name\":\"Rotterdam The Hague Airport\",\"offsetgroup\":\"Rotterdam The Hague Airport\",\"orientation\":\"h\",\"showlegend\":true,\"textposition\":\"auto\",\"x\":[\"2022 August*\"],\"xaxis\":\"x\",\"y\":[-4.543610547667343],\"yaxis\":\"y\",\"type\":\"bar\"},{\"alignmentgroup\":\"True\",\"hovertemplate\":\"<b>%{hovertext}</b><br><br>Airports=Eindhoven Airport<br>Periods=%{x}<br>PC_flights=%{y}<extra></extra>\",\"hovertext\":[0.9976976208748933],\"ids\":[\"Eindhoven Airport\"],\"legendgroup\":\"Eindhoven Airport\",\"marker\":{\"color\":\"#00cc96\",\"pattern\":{\"shape\":\"\"}},\"name\":\"Eindhoven Airport\",\"offsetgroup\":\"Eindhoven Airport\",\"orientation\":\"h\",\"showlegend\":true,\"textposition\":\"auto\",\"x\":[\"2022 August*\"],\"xaxis\":\"x\",\"y\":[0.9976976208748933],\"yaxis\":\"y\",\"type\":\"bar\"},{\"alignmentgroup\":\"True\",\"hovertemplate\":\"<b>%{hovertext}</b><br><br>Airports=Maastricht Aachen Airport<br>Periods=%{x}<br>PC_flights=%{y}<extra></extra>\",\"hovertext\":[-2.2471910112359605],\"ids\":[\"Maastricht Aachen Airport\"],\"legendgroup\":\"Maastricht Aachen Airport\",\"marker\":{\"color\":\"#ab63fa\",\"pattern\":{\"shape\":\"\"}},\"name\":\"Maastricht Aachen Airport\",\"offsetgroup\":\"Maastricht Aachen Airport\",\"orientation\":\"h\",\"showlegend\":true,\"textposition\":\"auto\",\"x\":[\"2022 August*\"],\"xaxis\":\"x\",\"y\":[-2.2471910112359605],\"yaxis\":\"y\",\"type\":\"bar\"},{\"alignmentgroup\":\"True\",\"hovertemplate\":\"<b>%{hovertext}</b><br><br>Airports=Groningen Airport Eelde<br>Periods=%{x}<br>PC_flights=%{y}<extra></extra>\",\"hovertext\":[2.2727272727272707],\"ids\":[\"Groningen Airport Eelde\"],\"legendgroup\":\"Groningen Airport Eelde\",\"marker\":{\"color\":\"#FFA15A\",\"pattern\":{\"shape\":\"\"}},\"name\":\"Groningen Airport Eelde\",\"offsetgroup\":\"Groningen Airport Eelde\",\"orientation\":\"h\",\"showlegend\":true,\"textposition\":\"auto\",\"x\":[\"2022 August*\"],\"xaxis\":\"x\",\"y\":[2.2727272727272707],\"yaxis\":\"y\",\"type\":\"bar\"}],\"name\":\"2022 August*\"}]);\n",
       "                        }).then(function(){\n",
       "                            \n",
       "var gd = document.getElementById('03f71a50-5419-4b10-b3de-3b68313df2f5');\n",
       "var x = new MutationObserver(function (mutations, observer) {{\n",
       "        var display = window.getComputedStyle(gd).display;\n",
       "        if (!display || display === 'none') {{\n",
       "            console.log([gd, 'removed!']);\n",
       "            Plotly.purge(gd);\n",
       "            observer.disconnect();\n",
       "        }}\n",
       "}});\n",
       "\n",
       "// Listen for the removal of the full notebook cells\n",
       "var notebookContainer = gd.closest('#notebook-container');\n",
       "if (notebookContainer) {{\n",
       "    x.observe(notebookContainer, {childList: true});\n",
       "}}\n",
       "\n",
       "// Listen for the clearing of the current output cell\n",
       "var outputEl = gd.closest('.output');\n",
       "if (outputEl) {{\n",
       "    x.observe(outputEl, {childList: true});\n",
       "}}\n",
       "\n",
       "                        })                };                });            </script>        </div>"
      ]
     },
     "metadata": {},
     "output_type": "display_data"
    }
   ],
   "source": [
    "fig = px.bar(DutchAirports, x='Periods', y= 'PC_flights', color='Airports', animation_frame='Periods', \n",
    "                 animation_group='Airports', hover_name='PC_flights',orientation='h')\n",
    "                 \n",
    "# Show the graph\n",
    "fig.show()"
   ]
  },
  {
   "cell_type": "code",
   "execution_count": null,
   "metadata": {},
   "outputs": [],
   "source": []
  }
 ],
 "metadata": {
  "kernelspec": {
   "display_name": "Python 3.8.2 ('TIL6022')",
   "language": "python",
   "name": "python3"
  },
  "language_info": {
   "codemirror_mode": {
    "name": "ipython",
    "version": 3
   },
   "file_extension": ".py",
   "mimetype": "text/x-python",
   "name": "python",
   "nbconvert_exporter": "python",
   "pygments_lexer": "ipython3",
   "version": "3.8.2"
  },
  "orig_nbformat": 4,
  "vscode": {
   "interpreter": {
    "hash": "164f3d408bf327bdd82ccaeb5da6a5720348896dbe371cfd36a0365b06cf1a58"
   }
  }
 },
 "nbformat": 4,
 "nbformat_minor": 2
}
